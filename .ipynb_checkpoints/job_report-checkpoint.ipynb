{
 "cells": [
  {
   "cell_type": "code",
   "execution_count": 3,
   "id": "298ae447",
   "metadata": {},
   "outputs": [],
   "source": [
    "import numpy as np\n",
    "import pandas as pd\n",
    "import os\n",
    "import datapane as dp\n",
    "from datetime import date\n",
    "from datetime import timedelta\n",
    "import plotly.express as px\n",
    "import plotly.graph_objects as go"
   ]
  },
  {
   "cell_type": "code",
   "execution_count": 212,
   "id": "bccc4562",
   "metadata": {
    "scrolled": true
   },
   "outputs": [
    {
     "data": {
      "text/html": [
       "<div>\n",
       "<style scoped>\n",
       "    .dataframe tbody tr th:only-of-type {\n",
       "        vertical-align: middle;\n",
       "    }\n",
       "\n",
       "    .dataframe tbody tr th {\n",
       "        vertical-align: top;\n",
       "    }\n",
       "\n",
       "    .dataframe thead th {\n",
       "        text-align: right;\n",
       "    }\n",
       "</style>\n",
       "<table border=\"1\" class=\"dataframe\">\n",
       "  <thead>\n",
       "    <tr style=\"text-align: right;\">\n",
       "      <th></th>\n",
       "      <th>title</th>\n",
       "      <th>company_name</th>\n",
       "      <th>location</th>\n",
       "      <th>via</th>\n",
       "      <th>description</th>\n",
       "      <th>posted_by_day</th>\n",
       "      <th>inserted_at</th>\n",
       "      <th>work_from_home</th>\n",
       "      <th>salary</th>\n",
       "    </tr>\n",
       "  </thead>\n",
       "  <tbody>\n",
       "    <tr>\n",
       "      <th>0</th>\n",
       "      <td>Jr Data Analyst</td>\n",
       "      <td>TechFetch.com - On Demand Tech Workforce hirin...</td>\n",
       "      <td>Atlanta, GA</td>\n",
       "      <td>via LinkedIn</td>\n",
       "      <td>\"ALL our jobs are US based and candidates must...</td>\n",
       "      <td>0</td>\n",
       "      <td>12/12/2022</td>\n",
       "      <td>NaN</td>\n",
       "      <td>NaN</td>\n",
       "    </tr>\n",
       "    <tr>\n",
       "      <th>1</th>\n",
       "      <td>Jr Data Analyst</td>\n",
       "      <td>TechFetch.com - On Demand Tech Workforce hirin...</td>\n",
       "      <td>Atlanta, GA</td>\n",
       "      <td>via LinkedIn</td>\n",
       "      <td>\"ALL our jobs are US based and candidates must...</td>\n",
       "      <td>1</td>\n",
       "      <td>12/13/2022</td>\n",
       "      <td>NaN</td>\n",
       "      <td>NaN</td>\n",
       "    </tr>\n",
       "    <tr>\n",
       "      <th>2</th>\n",
       "      <td>Jr Data Analyst</td>\n",
       "      <td>TechFetch.com - On Demand Tech Workforce hirin...</td>\n",
       "      <td>Atlanta, GA</td>\n",
       "      <td>via LinkedIn</td>\n",
       "      <td>\"ALL our jobs are US based and candidates must...</td>\n",
       "      <td>2</td>\n",
       "      <td>12/14/2022</td>\n",
       "      <td>NaN</td>\n",
       "      <td>NaN</td>\n",
       "    </tr>\n",
       "    <tr>\n",
       "      <th>3</th>\n",
       "      <td>Jr Data Analyst</td>\n",
       "      <td>TechFetch.com - On Demand Tech Workforce hirin...</td>\n",
       "      <td>Atlanta, GA</td>\n",
       "      <td>via LinkedIn</td>\n",
       "      <td>\"ALL our jobs are US based and candidates must...</td>\n",
       "      <td>3</td>\n",
       "      <td>12/15/2022</td>\n",
       "      <td>NaN</td>\n",
       "      <td>NaN</td>\n",
       "    </tr>\n",
       "    <tr>\n",
       "      <th>4</th>\n",
       "      <td>Jr Data Analyst</td>\n",
       "      <td>TechFetch.com - On Demand Tech Workforce hirin...</td>\n",
       "      <td>Atlanta, GA</td>\n",
       "      <td>via LinkedIn</td>\n",
       "      <td>\"ALL our jobs are US based and candidates must...</td>\n",
       "      <td>4</td>\n",
       "      <td>12/16/2022</td>\n",
       "      <td>NaN</td>\n",
       "      <td>NaN</td>\n",
       "    </tr>\n",
       "    <tr>\n",
       "      <th>5</th>\n",
       "      <td>Junior Data Analyst - REMOTE - US Citizenship ...</td>\n",
       "      <td>General Dynamics Information Technology</td>\n",
       "      <td>Atlanta, GA</td>\n",
       "      <td>via Monster</td>\n",
       "      <td>Type of Requisition: Regular\\n\\nClearance Leve...</td>\n",
       "      <td>4</td>\n",
       "      <td>12/16/2022</td>\n",
       "      <td>NaN</td>\n",
       "      <td>NaN</td>\n",
       "    </tr>\n",
       "    <tr>\n",
       "      <th>6</th>\n",
       "      <td>Junior Data Analyst (with Power Apps)</td>\n",
       "      <td>Jacobs</td>\n",
       "      <td>Atlanta, GA</td>\n",
       "      <td>via StartWire</td>\n",
       "      <td>We have more than 1800 colleagues in Poland, s...</td>\n",
       "      <td>4</td>\n",
       "      <td>12/16/2022</td>\n",
       "      <td>NaN</td>\n",
       "      <td>NaN</td>\n",
       "    </tr>\n",
       "    <tr>\n",
       "      <th>7</th>\n",
       "      <td>Data Analyst Entry Level (Bootcamp)</td>\n",
       "      <td>Helm360</td>\n",
       "      <td>Atlanta, GA</td>\n",
       "      <td>via Glassdoor</td>\n",
       "      <td>Responsibilities\\n• Interpret data, analyze re...</td>\n",
       "      <td>5</td>\n",
       "      <td>12/17/2022</td>\n",
       "      <td>NaN</td>\n",
       "      <td>NaN</td>\n",
       "    </tr>\n",
       "    <tr>\n",
       "      <th>8</th>\n",
       "      <td>Junior Data Analyst</td>\n",
       "      <td>Jobot</td>\n",
       "      <td>Atlanta, GA</td>\n",
       "      <td>via BeBee</td>\n",
       "      <td>Entry Level Data Analyst - hybrid This Jobot J...</td>\n",
       "      <td>5</td>\n",
       "      <td>12/17/2022</td>\n",
       "      <td>NaN</td>\n",
       "      <td>NaN</td>\n",
       "    </tr>\n",
       "    <tr>\n",
       "      <th>9</th>\n",
       "      <td>Junior Data Analyst</td>\n",
       "      <td>Jobot</td>\n",
       "      <td>Atlanta, GA</td>\n",
       "      <td>via BeBee</td>\n",
       "      <td>Entry Level Data Analyst - hybrid This Jobot J...</td>\n",
       "      <td>6</td>\n",
       "      <td>12/18/2022</td>\n",
       "      <td>NaN</td>\n",
       "      <td>NaN</td>\n",
       "    </tr>\n",
       "    <tr>\n",
       "      <th>10</th>\n",
       "      <td>Junior Data Analyst</td>\n",
       "      <td>Jobot</td>\n",
       "      <td>Atlanta, GA</td>\n",
       "      <td>via BeBee</td>\n",
       "      <td>Entry Level Data Analyst - hybrid This Jobot J...</td>\n",
       "      <td>7</td>\n",
       "      <td>12/18/2022</td>\n",
       "      <td>NaN</td>\n",
       "      <td>NaN</td>\n",
       "    </tr>\n",
       "    <tr>\n",
       "      <th>11</th>\n",
       "      <td>Jr Data Analyst- Entry level- local to Atlanta</td>\n",
       "      <td>Vaco Technology</td>\n",
       "      <td>Atlanta, GA</td>\n",
       "      <td>via Atlanta, GA - Geebo</td>\n",
       "      <td>Full Job Description\\n\\nResponsibilities...\\n•...</td>\n",
       "      <td>3</td>\n",
       "      <td>12/19/2022</td>\n",
       "      <td>NaN</td>\n",
       "      <td>20–28 an hour</td>\n",
       "    </tr>\n",
       "    <tr>\n",
       "      <th>12</th>\n",
       "      <td>asd</td>\n",
       "      <td>asd</td>\n",
       "      <td>Anywhere</td>\n",
       "      <td>via AAA</td>\n",
       "      <td>ajsdas salary: $67k -$80k per year.</td>\n",
       "      <td>2</td>\n",
       "      <td>12/19/2022</td>\n",
       "      <td>NaN</td>\n",
       "      <td>NaN</td>\n",
       "    </tr>\n",
       "    <tr>\n",
       "      <th>13</th>\n",
       "      <td>asd</td>\n",
       "      <td>asd</td>\n",
       "      <td>Anywhere</td>\n",
       "      <td>via AAA</td>\n",
       "      <td>ajsdas salary: $67k -$80k per year.</td>\n",
       "      <td>3</td>\n",
       "      <td>12/19/2022</td>\n",
       "      <td>NaN</td>\n",
       "      <td>NaN</td>\n",
       "    </tr>\n",
       "  </tbody>\n",
       "</table>\n",
       "</div>"
      ],
      "text/plain": [
       "                                                title  \\\n",
       "0                                     Jr Data Analyst   \n",
       "1                                     Jr Data Analyst   \n",
       "2                                     Jr Data Analyst   \n",
       "3                                     Jr Data Analyst   \n",
       "4                                     Jr Data Analyst   \n",
       "5   Junior Data Analyst - REMOTE - US Citizenship ...   \n",
       "6               Junior Data Analyst (with Power Apps)   \n",
       "7                 Data Analyst Entry Level (Bootcamp)   \n",
       "8                                 Junior Data Analyst   \n",
       "9                                 Junior Data Analyst   \n",
       "10                                Junior Data Analyst   \n",
       "11     Jr Data Analyst- Entry level- local to Atlanta   \n",
       "12                                                asd   \n",
       "13                                                asd   \n",
       "\n",
       "                                         company_name     location  \\\n",
       "0   TechFetch.com - On Demand Tech Workforce hirin...  Atlanta, GA   \n",
       "1   TechFetch.com - On Demand Tech Workforce hirin...  Atlanta, GA   \n",
       "2   TechFetch.com - On Demand Tech Workforce hirin...  Atlanta, GA   \n",
       "3   TechFetch.com - On Demand Tech Workforce hirin...  Atlanta, GA   \n",
       "4   TechFetch.com - On Demand Tech Workforce hirin...  Atlanta, GA   \n",
       "5             General Dynamics Information Technology  Atlanta, GA   \n",
       "6                                              Jacobs  Atlanta, GA   \n",
       "7                                             Helm360  Atlanta, GA   \n",
       "8                                               Jobot  Atlanta, GA   \n",
       "9                                               Jobot  Atlanta, GA   \n",
       "10                                              Jobot  Atlanta, GA   \n",
       "11                                    Vaco Technology  Atlanta, GA   \n",
       "12                                                asd     Anywhere   \n",
       "13                                                asd     Anywhere   \n",
       "\n",
       "                        via  \\\n",
       "0              via LinkedIn   \n",
       "1              via LinkedIn   \n",
       "2              via LinkedIn   \n",
       "3              via LinkedIn   \n",
       "4              via LinkedIn   \n",
       "5               via Monster   \n",
       "6             via StartWire   \n",
       "7             via Glassdoor   \n",
       "8                 via BeBee   \n",
       "9                 via BeBee   \n",
       "10                via BeBee   \n",
       "11  via Atlanta, GA - Geebo   \n",
       "12                  via AAA   \n",
       "13                  via AAA   \n",
       "\n",
       "                                          description  posted_by_day  \\\n",
       "0   \"ALL our jobs are US based and candidates must...              0   \n",
       "1   \"ALL our jobs are US based and candidates must...              1   \n",
       "2   \"ALL our jobs are US based and candidates must...              2   \n",
       "3   \"ALL our jobs are US based and candidates must...              3   \n",
       "4   \"ALL our jobs are US based and candidates must...              4   \n",
       "5   Type of Requisition: Regular\\n\\nClearance Leve...              4   \n",
       "6   We have more than 1800 colleagues in Poland, s...              4   \n",
       "7   Responsibilities\\n• Interpret data, analyze re...              5   \n",
       "8   Entry Level Data Analyst - hybrid This Jobot J...              5   \n",
       "9   Entry Level Data Analyst - hybrid This Jobot J...              6   \n",
       "10  Entry Level Data Analyst - hybrid This Jobot J...              7   \n",
       "11  Full Job Description\\n\\nResponsibilities...\\n•...              3   \n",
       "12                ajsdas salary: $67k -$80k per year.              2   \n",
       "13                ajsdas salary: $67k -$80k per year.              3   \n",
       "\n",
       "   inserted_at  work_from_home         salary  \n",
       "0   12/12/2022             NaN            NaN  \n",
       "1   12/13/2022             NaN            NaN  \n",
       "2   12/14/2022             NaN            NaN  \n",
       "3   12/15/2022             NaN            NaN  \n",
       "4   12/16/2022             NaN            NaN  \n",
       "5   12/16/2022             NaN            NaN  \n",
       "6   12/16/2022             NaN            NaN  \n",
       "7   12/17/2022             NaN            NaN  \n",
       "8   12/17/2022             NaN            NaN  \n",
       "9   12/18/2022             NaN            NaN  \n",
       "10  12/18/2022             NaN            NaN  \n",
       "11  12/19/2022             NaN  20–28 an hour  \n",
       "12  12/19/2022             NaN            NaN  \n",
       "13  12/19/2022             NaN            NaN  "
      ]
     },
     "execution_count": 212,
     "metadata": {},
     "output_type": "execute_result"
    }
   ],
   "source": [
    "job_report = pd.read_csv('filtered_jobs.csv')\n",
    "job_report"
   ]
  },
  {
   "cell_type": "code",
   "execution_count": 213,
   "id": "5cf791c4",
   "metadata": {},
   "outputs": [],
   "source": [
    "job_report.loc[job_report['location'].str.lower() == \"anywhere\", \"remote\"] = \"Yes\"\n",
    "job_report.loc[job_report['location'].str.lower() != \"anywhere\", \"remote\"] = \"No\""
   ]
  },
  {
   "cell_type": "code",
   "execution_count": 200,
   "id": "7a63acec",
   "metadata": {
    "scrolled": true
   },
   "outputs": [
    {
     "data": {
      "text/plain": [
       "title                     object\n",
       "company_name              object\n",
       "location                  object\n",
       "via                       object\n",
       "description               object\n",
       "posted_by_day              int64\n",
       "inserted_at       datetime64[ns]\n",
       "work_from_home           float64\n",
       "salary                    object\n",
       "remote                    object\n",
       "dtype: object"
      ]
     },
     "execution_count": 200,
     "metadata": {},
     "output_type": "execute_result"
    }
   ],
   "source": [
    "job_report.dtypes"
   ]
  },
  {
   "cell_type": "code",
   "execution_count": 386,
   "id": "e5074a33",
   "metadata": {},
   "outputs": [
    {
     "ename": "KeyError",
     "evalue": "\"['Remote'] not found in axis\"",
     "output_type": "error",
     "traceback": [
      "\u001b[1;31m---------------------------------------------------------------------------\u001b[0m",
      "\u001b[1;31mKeyError\u001b[0m                                  Traceback (most recent call last)",
      "\u001b[1;32m~\\AppData\\Local\\Temp\\ipykernel_15640\\1587554197.py\u001b[0m in \u001b[0;36m<module>\u001b[1;34m\u001b[0m\n\u001b[1;32m----> 1\u001b[1;33m \u001b[0mjob_report\u001b[0m\u001b[1;33m.\u001b[0m\u001b[0mdrop\u001b[0m\u001b[1;33m(\u001b[0m\u001b[1;33m[\u001b[0m\u001b[1;34m'Remote'\u001b[0m\u001b[1;33m]\u001b[0m\u001b[1;33m,\u001b[0m \u001b[0maxis\u001b[0m\u001b[1;33m=\u001b[0m\u001b[1;36m1\u001b[0m\u001b[1;33m,\u001b[0m \u001b[0minplace\u001b[0m\u001b[1;33m=\u001b[0m\u001b[1;32mTrue\u001b[0m\u001b[1;33m)\u001b[0m\u001b[1;33m\u001b[0m\u001b[1;33m\u001b[0m\u001b[0m\n\u001b[0m",
      "\u001b[1;32mC:\\ProgramData\\Anaconda3\\lib\\site-packages\\pandas\\util\\_decorators.py\u001b[0m in \u001b[0;36mwrapper\u001b[1;34m(*args, **kwargs)\u001b[0m\n\u001b[0;32m    309\u001b[0m                     \u001b[0mstacklevel\u001b[0m\u001b[1;33m=\u001b[0m\u001b[0mstacklevel\u001b[0m\u001b[1;33m,\u001b[0m\u001b[1;33m\u001b[0m\u001b[1;33m\u001b[0m\u001b[0m\n\u001b[0;32m    310\u001b[0m                 )\n\u001b[1;32m--> 311\u001b[1;33m             \u001b[1;32mreturn\u001b[0m \u001b[0mfunc\u001b[0m\u001b[1;33m(\u001b[0m\u001b[1;33m*\u001b[0m\u001b[0margs\u001b[0m\u001b[1;33m,\u001b[0m \u001b[1;33m**\u001b[0m\u001b[0mkwargs\u001b[0m\u001b[1;33m)\u001b[0m\u001b[1;33m\u001b[0m\u001b[1;33m\u001b[0m\u001b[0m\n\u001b[0m\u001b[0;32m    312\u001b[0m \u001b[1;33m\u001b[0m\u001b[0m\n\u001b[0;32m    313\u001b[0m         \u001b[1;32mreturn\u001b[0m \u001b[0mwrapper\u001b[0m\u001b[1;33m\u001b[0m\u001b[1;33m\u001b[0m\u001b[0m\n",
      "\u001b[1;32mC:\\ProgramData\\Anaconda3\\lib\\site-packages\\pandas\\core\\frame.py\u001b[0m in \u001b[0;36mdrop\u001b[1;34m(self, labels, axis, index, columns, level, inplace, errors)\u001b[0m\n\u001b[0;32m   4955\u001b[0m                 \u001b[0mweight\u001b[0m  \u001b[1;36m1.0\u001b[0m     \u001b[1;36m0.8\u001b[0m\u001b[1;33m\u001b[0m\u001b[1;33m\u001b[0m\u001b[0m\n\u001b[0;32m   4956\u001b[0m         \"\"\"\n\u001b[1;32m-> 4957\u001b[1;33m         return super().drop(\n\u001b[0m\u001b[0;32m   4958\u001b[0m             \u001b[0mlabels\u001b[0m\u001b[1;33m=\u001b[0m\u001b[0mlabels\u001b[0m\u001b[1;33m,\u001b[0m\u001b[1;33m\u001b[0m\u001b[1;33m\u001b[0m\u001b[0m\n\u001b[0;32m   4959\u001b[0m             \u001b[0maxis\u001b[0m\u001b[1;33m=\u001b[0m\u001b[0maxis\u001b[0m\u001b[1;33m,\u001b[0m\u001b[1;33m\u001b[0m\u001b[1;33m\u001b[0m\u001b[0m\n",
      "\u001b[1;32mC:\\ProgramData\\Anaconda3\\lib\\site-packages\\pandas\\core\\generic.py\u001b[0m in \u001b[0;36mdrop\u001b[1;34m(self, labels, axis, index, columns, level, inplace, errors)\u001b[0m\n\u001b[0;32m   4265\u001b[0m         \u001b[1;32mfor\u001b[0m \u001b[0maxis\u001b[0m\u001b[1;33m,\u001b[0m \u001b[0mlabels\u001b[0m \u001b[1;32min\u001b[0m \u001b[0maxes\u001b[0m\u001b[1;33m.\u001b[0m\u001b[0mitems\u001b[0m\u001b[1;33m(\u001b[0m\u001b[1;33m)\u001b[0m\u001b[1;33m:\u001b[0m\u001b[1;33m\u001b[0m\u001b[1;33m\u001b[0m\u001b[0m\n\u001b[0;32m   4266\u001b[0m             \u001b[1;32mif\u001b[0m \u001b[0mlabels\u001b[0m \u001b[1;32mis\u001b[0m \u001b[1;32mnot\u001b[0m \u001b[1;32mNone\u001b[0m\u001b[1;33m:\u001b[0m\u001b[1;33m\u001b[0m\u001b[1;33m\u001b[0m\u001b[0m\n\u001b[1;32m-> 4267\u001b[1;33m                 \u001b[0mobj\u001b[0m \u001b[1;33m=\u001b[0m \u001b[0mobj\u001b[0m\u001b[1;33m.\u001b[0m\u001b[0m_drop_axis\u001b[0m\u001b[1;33m(\u001b[0m\u001b[0mlabels\u001b[0m\u001b[1;33m,\u001b[0m \u001b[0maxis\u001b[0m\u001b[1;33m,\u001b[0m \u001b[0mlevel\u001b[0m\u001b[1;33m=\u001b[0m\u001b[0mlevel\u001b[0m\u001b[1;33m,\u001b[0m \u001b[0merrors\u001b[0m\u001b[1;33m=\u001b[0m\u001b[0merrors\u001b[0m\u001b[1;33m)\u001b[0m\u001b[1;33m\u001b[0m\u001b[1;33m\u001b[0m\u001b[0m\n\u001b[0m\u001b[0;32m   4268\u001b[0m \u001b[1;33m\u001b[0m\u001b[0m\n\u001b[0;32m   4269\u001b[0m         \u001b[1;32mif\u001b[0m \u001b[0minplace\u001b[0m\u001b[1;33m:\u001b[0m\u001b[1;33m\u001b[0m\u001b[1;33m\u001b[0m\u001b[0m\n",
      "\u001b[1;32mC:\\ProgramData\\Anaconda3\\lib\\site-packages\\pandas\\core\\generic.py\u001b[0m in \u001b[0;36m_drop_axis\u001b[1;34m(self, labels, axis, level, errors, consolidate, only_slice)\u001b[0m\n\u001b[0;32m   4309\u001b[0m                 \u001b[0mnew_axis\u001b[0m \u001b[1;33m=\u001b[0m \u001b[0maxis\u001b[0m\u001b[1;33m.\u001b[0m\u001b[0mdrop\u001b[0m\u001b[1;33m(\u001b[0m\u001b[0mlabels\u001b[0m\u001b[1;33m,\u001b[0m \u001b[0mlevel\u001b[0m\u001b[1;33m=\u001b[0m\u001b[0mlevel\u001b[0m\u001b[1;33m,\u001b[0m \u001b[0merrors\u001b[0m\u001b[1;33m=\u001b[0m\u001b[0merrors\u001b[0m\u001b[1;33m)\u001b[0m\u001b[1;33m\u001b[0m\u001b[1;33m\u001b[0m\u001b[0m\n\u001b[0;32m   4310\u001b[0m             \u001b[1;32melse\u001b[0m\u001b[1;33m:\u001b[0m\u001b[1;33m\u001b[0m\u001b[1;33m\u001b[0m\u001b[0m\n\u001b[1;32m-> 4311\u001b[1;33m                 \u001b[0mnew_axis\u001b[0m \u001b[1;33m=\u001b[0m \u001b[0maxis\u001b[0m\u001b[1;33m.\u001b[0m\u001b[0mdrop\u001b[0m\u001b[1;33m(\u001b[0m\u001b[0mlabels\u001b[0m\u001b[1;33m,\u001b[0m \u001b[0merrors\u001b[0m\u001b[1;33m=\u001b[0m\u001b[0merrors\u001b[0m\u001b[1;33m)\u001b[0m\u001b[1;33m\u001b[0m\u001b[1;33m\u001b[0m\u001b[0m\n\u001b[0m\u001b[0;32m   4312\u001b[0m             \u001b[0mindexer\u001b[0m \u001b[1;33m=\u001b[0m \u001b[0maxis\u001b[0m\u001b[1;33m.\u001b[0m\u001b[0mget_indexer\u001b[0m\u001b[1;33m(\u001b[0m\u001b[0mnew_axis\u001b[0m\u001b[1;33m)\u001b[0m\u001b[1;33m\u001b[0m\u001b[1;33m\u001b[0m\u001b[0m\n\u001b[0;32m   4313\u001b[0m \u001b[1;33m\u001b[0m\u001b[0m\n",
      "\u001b[1;32mC:\\ProgramData\\Anaconda3\\lib\\site-packages\\pandas\\core\\indexes\\base.py\u001b[0m in \u001b[0;36mdrop\u001b[1;34m(self, labels, errors)\u001b[0m\n\u001b[0;32m   6659\u001b[0m         \u001b[1;32mif\u001b[0m \u001b[0mmask\u001b[0m\u001b[1;33m.\u001b[0m\u001b[0many\u001b[0m\u001b[1;33m(\u001b[0m\u001b[1;33m)\u001b[0m\u001b[1;33m:\u001b[0m\u001b[1;33m\u001b[0m\u001b[1;33m\u001b[0m\u001b[0m\n\u001b[0;32m   6660\u001b[0m             \u001b[1;32mif\u001b[0m \u001b[0merrors\u001b[0m \u001b[1;33m!=\u001b[0m \u001b[1;34m\"ignore\"\u001b[0m\u001b[1;33m:\u001b[0m\u001b[1;33m\u001b[0m\u001b[1;33m\u001b[0m\u001b[0m\n\u001b[1;32m-> 6661\u001b[1;33m                 \u001b[1;32mraise\u001b[0m \u001b[0mKeyError\u001b[0m\u001b[1;33m(\u001b[0m\u001b[1;34mf\"{list(labels[mask])} not found in axis\"\u001b[0m\u001b[1;33m)\u001b[0m\u001b[1;33m\u001b[0m\u001b[1;33m\u001b[0m\u001b[0m\n\u001b[0m\u001b[0;32m   6662\u001b[0m             \u001b[0mindexer\u001b[0m \u001b[1;33m=\u001b[0m \u001b[0mindexer\u001b[0m\u001b[1;33m[\u001b[0m\u001b[1;33m~\u001b[0m\u001b[0mmask\u001b[0m\u001b[1;33m]\u001b[0m\u001b[1;33m\u001b[0m\u001b[1;33m\u001b[0m\u001b[0m\n\u001b[0;32m   6663\u001b[0m         \u001b[1;32mreturn\u001b[0m \u001b[0mself\u001b[0m\u001b[1;33m.\u001b[0m\u001b[0mdelete\u001b[0m\u001b[1;33m(\u001b[0m\u001b[0mindexer\u001b[0m\u001b[1;33m)\u001b[0m\u001b[1;33m\u001b[0m\u001b[1;33m\u001b[0m\u001b[0m\n",
      "\u001b[1;31mKeyError\u001b[0m: \"['Remote'] not found in axis\""
     ]
    }
   ],
   "source": [
    "job_report.drop(['Remote'], axis=1, inplace=True)"
   ]
  },
  {
   "cell_type": "code",
   "execution_count": 179,
   "id": "199c26d0",
   "metadata": {
    "scrolled": true
   },
   "outputs": [
    {
     "data": {
      "text/plain": [
       "0    No\n",
       "1    No\n",
       "2    No\n",
       "3    No\n",
       "4    No\n",
       "5    No\n",
       "6    No\n",
       "7    No\n",
       "8    No\n",
       "9    No\n",
       "Name: remote, dtype: object"
      ]
     },
     "execution_count": 179,
     "metadata": {},
     "output_type": "execute_result"
    }
   ],
   "source": [
    "job_report['remote']"
   ]
  },
  {
   "cell_type": "code",
   "execution_count": 194,
   "id": "d7f1b45e",
   "metadata": {},
   "outputs": [
    {
     "data": {
      "text/plain": [
       "533"
      ]
     },
     "execution_count": 194,
     "metadata": {},
     "output_type": "execute_result"
    }
   ],
   "source": [
    "job_report['inserted_at'].count()"
   ]
  },
  {
   "cell_type": "code",
   "execution_count": 183,
   "id": "a5f9ee8c",
   "metadata": {
    "scrolled": true
   },
   "outputs": [
    {
     "data": {
      "text/plain": [
       "title                     object\n",
       "company_name              object\n",
       "location                  object\n",
       "via                       object\n",
       "description               object\n",
       "posted_by_day              int64\n",
       "inserted_at       datetime64[ns]\n",
       "work_from_home           float64\n",
       "salary                    object\n",
       "remote                    object\n",
       "dtype: object"
      ]
     },
     "execution_count": 183,
     "metadata": {},
     "output_type": "execute_result"
    }
   ],
   "source": [
    "# initially shown as an object, which was messing up the date ranges for histogram\n",
    "job_report['inserted_at'] = pd.to_datetime(job_report['inserted_at']).dt.normalize()\n",
    "job_report.dtypes"
   ]
  },
  {
   "cell_type": "code",
   "execution_count": 209,
   "id": "df36f64d",
   "metadata": {},
   "outputs": [
    {
     "data": {
      "text/plain": [
       "title                     object\n",
       "company_name              object\n",
       "location                  object\n",
       "via                       object\n",
       "description               object\n",
       "posted_by_day              int64\n",
       "inserted_at       datetime64[ns]\n",
       "work_from_home           float64\n",
       "salary                    object\n",
       "remote                    object\n",
       "dtype: object"
      ]
     },
     "execution_count": 209,
     "metadata": {},
     "output_type": "execute_result"
    }
   ],
   "source": [
    "job_report.dtypes"
   ]
  },
  {
   "cell_type": "code",
   "execution_count": 222,
   "id": "810e36c6",
   "metadata": {},
   "outputs": [
    {
     "name": "stdout",
     "output_type": "stream",
     "text": [
      "today is 2022-12-19\n",
      "yesterday was 2022-12-18\n",
      "two days ago was 2022-12-17\n",
      "a week ago was 2022-12-12\n",
      "two weeks ago was 2022-12-05\n"
     ]
    }
   ],
   "source": [
    "today = date.today()\n",
    "# modified_today = today.strftime(\"%m/%d/%Y\")\n",
    "yesterday = today - timedelta(days = 1)\n",
    "two_days_ago = today - timedelta(days = 2)\n",
    "week_ago = today - timedelta(weeks = 1)\n",
    "two_weeks_ago = today -timedelta(weeks = 2)\n",
    "print('today is', today)\n",
    "print('yesterday was', yesterday)\n",
    "print('two days ago was', two_days_ago)\n",
    "print('a week ago was', week_ago )\n",
    "print('two weeks ago was', two_weeks_ago)"
   ]
  },
  {
   "cell_type": "code",
   "execution_count": 223,
   "id": "97353f48",
   "metadata": {},
   "outputs": [
    {
     "name": "stdout",
     "output_type": "stream",
     "text": [
      "today is 12/19/2022\n",
      "yesterday was 12/18/2022\n",
      "two days ago was 12/17/2022\n",
      "a week ago was 12/12/2022\n",
      "two weeks ago was 12/05/2022\n"
     ]
    }
   ],
   "source": [
    "# Note: cannot change the format and then use timedelta. Must be as base '-' delimiters first.\n",
    "format_today = today.strftime(\"%m/%d/%Y\")\n",
    "format_yesterday = yesterday.strftime('%m/%d/%Y')\n",
    "format_two_days_ago = two_days_ago.strftime('%m/%d/%Y')\n",
    "format_week_ago = week_ago.strftime('%m/%d/%Y')\n",
    "format_two_weeks_ago = two_weeks_ago.strftime('%m/%d/%Y')\n",
    "print('today is', format_today)\n",
    "print('yesterday was', format_yesterday)\n",
    "print('two days ago was', format_two_days_ago)\n",
    "print('a week ago was', format_week_ago)\n",
    "print('two weeks ago was', format_two_weeks_ago)\n",
    "\n",
    "# Refactor here\n",
    "# def date_formatter(date):\n",
    "    "
   ]
  },
  {
   "cell_type": "code",
   "execution_count": 224,
   "id": "91569f02",
   "metadata": {},
   "outputs": [
    {
     "name": "stdout",
     "output_type": "stream",
     "text": [
      "Yesterday's count of jobs: 2\n",
      "Today's count of jobs: 3 \n",
      "\n",
      "Count of jobs two days ago: 2\n",
      "Total count: 14 \n",
      "\n",
      "Updates occur daily at 12:00AM EST \n",
      "\n",
      "jobs a week ago 14\n",
      "- -1\n"
     ]
    }
   ],
   "source": [
    "yesterday_job_count = len(job_report[job_report['inserted_at'] == format_yesterday])\n",
    "today_job_count = len(job_report[job_report['inserted_at'] == format_today])\n",
    "two_days_ago_job_count = len(job_report[job_report['inserted_at'] == format_two_days_ago])\n",
    "week_job_count = len(job_report[job_report['inserted_at'] >= format_week_ago]) & len(job_report[job_report['inserted_at'] <= format_today])\n",
    "total_job_count = len(job_report)\n",
    "two_weeks_ago_job_count = len(job_report[job_report['inserted_at'] >= format_two_weeks_ago]) & len(job_report[job_report['inserted_at'] <= format_week_ago])\n",
    "\n",
    "print(\"Yesterday's count of jobs:\", yesterday_job_count)\n",
    "print(\"Today's count of jobs:\", today_job_count, '\\n')\n",
    "print('Count of jobs two days ago:', two_days_ago_job_count)\n",
    "print(\"Total count:\", total_job_count, '\\n')\n",
    "print(\"Updates occur daily at 12:00AM EST\", '\\n')\n",
    "\n",
    "print('jobs a week ago', week_job_count)\n",
    "\n",
    "today_counter = (yesterday_job_count - today_job_count)\n",
    "# print(today_counter)\n",
    "\n",
    "def curr_counter():\n",
    "    if today_counter == 0:\n",
    "        print(today_counter)\n",
    "    if today_counter < 0:\n",
    "        print('-', today_counter)\n",
    "    else:\n",
    "        print(today_counter, '+')\n",
    "\n",
    "curr_counter()\n",
    " "
   ]
  },
  {
   "cell_type": "code",
   "execution_count": 210,
   "id": "ad3cc95b",
   "metadata": {},
   "outputs": [
    {
     "data": {
      "text/html": [
       "<div>\n",
       "<style scoped>\n",
       "    .dataframe tbody tr th:only-of-type {\n",
       "        vertical-align: middle;\n",
       "    }\n",
       "\n",
       "    .dataframe tbody tr th {\n",
       "        vertical-align: top;\n",
       "    }\n",
       "\n",
       "    .dataframe thead th {\n",
       "        text-align: right;\n",
       "    }\n",
       "</style>\n",
       "<table border=\"1\" class=\"dataframe\">\n",
       "  <thead>\n",
       "    <tr style=\"text-align: right;\">\n",
       "      <th></th>\n",
       "      <th>title</th>\n",
       "      <th>company_name</th>\n",
       "      <th>location</th>\n",
       "      <th>via</th>\n",
       "      <th>description</th>\n",
       "      <th>posted_by_day</th>\n",
       "      <th>inserted_at</th>\n",
       "      <th>work_from_home</th>\n",
       "      <th>salary</th>\n",
       "      <th>remote</th>\n",
       "    </tr>\n",
       "  </thead>\n",
       "  <tbody>\n",
       "    <tr>\n",
       "      <th>5</th>\n",
       "      <td>Junior Data Analyst</td>\n",
       "      <td>Jobot</td>\n",
       "      <td>Atlanta, GA</td>\n",
       "      <td>via BeBee</td>\n",
       "      <td>Entry Level Data Analyst - hybrid This Jobot J...</td>\n",
       "      <td>6</td>\n",
       "      <td>2022-12-18</td>\n",
       "      <td>NaN</td>\n",
       "      <td>NaN</td>\n",
       "      <td>No</td>\n",
       "    </tr>\n",
       "    <tr>\n",
       "      <th>6</th>\n",
       "      <td>Junior Data Analyst</td>\n",
       "      <td>Jobot</td>\n",
       "      <td>Atlanta, GA</td>\n",
       "      <td>via BeBee</td>\n",
       "      <td>Entry Level Data Analyst - hybrid This Jobot J...</td>\n",
       "      <td>7</td>\n",
       "      <td>2022-12-18</td>\n",
       "      <td>NaN</td>\n",
       "      <td>NaN</td>\n",
       "      <td>No</td>\n",
       "    </tr>\n",
       "  </tbody>\n",
       "</table>\n",
       "</div>"
      ],
      "text/plain": [
       "                 title company_name     location        via  \\\n",
       "5  Junior Data Analyst        Jobot  Atlanta, GA  via BeBee   \n",
       "6  Junior Data Analyst        Jobot  Atlanta, GA  via BeBee   \n",
       "\n",
       "                                         description  posted_by_day  \\\n",
       "5  Entry Level Data Analyst - hybrid This Jobot J...              6   \n",
       "6  Entry Level Data Analyst - hybrid This Jobot J...              7   \n",
       "\n",
       "  inserted_at  work_from_home salary remote  \n",
       "5  2022-12-18             NaN    NaN     No  \n",
       "6  2022-12-18             NaN    NaN     No  "
      ]
     },
     "execution_count": 210,
     "metadata": {},
     "output_type": "execute_result"
    }
   ],
   "source": [
    "job_report[job_report['inserted_at'] == format_yesterday]"
   ]
  },
  {
   "cell_type": "code",
   "execution_count": 220,
   "id": "9492aecf",
   "metadata": {},
   "outputs": [
    {
     "name": "stdout",
     "output_type": "stream",
     "text": [
      "0     False\n",
      "1     False\n",
      "2     False\n",
      "3     False\n",
      "4     False\n",
      "5     False\n",
      "6     False\n",
      "7     False\n",
      "8     False\n",
      "9      True\n",
      "10     True\n",
      "11    False\n",
      "12    False\n",
      "13    False\n",
      "Name: inserted_at, dtype: bool\n"
     ]
    }
   ],
   "source": [
    "yesterday_jobs = job_report.loc[:, 'inserted_at'] == format_yesterday\n",
    "today_jobs = job_report.loc[:, 'inserted_at'] == format_today\n",
    "\n",
    "print(yesterday_jobs)"
   ]
  },
  {
   "cell_type": "code",
   "execution_count": 3,
   "id": "50d968c5",
   "metadata": {
    "scrolled": false
   },
   "outputs": [
    {
     "name": "stdout",
     "output_type": "stream",
     "text": [
      "Connected successfully to https://cloud.datapane.com as josephkim708@gmail.com\n"
     ]
    },
    {
     "name": "stderr",
     "output_type": "stream",
     "text": [
      "Configuring datapane logging in library mode\n"
     ]
    }
   ],
   "source": [
    "!datapane login --token=[redacted]"
   ]
  },
  {
   "cell_type": "code",
   "execution_count": 165,
   "id": "510e35f4",
   "metadata": {},
   "outputs": [
    {
     "data": {
      "text/plain": [
       "10"
      ]
     },
     "execution_count": 165,
     "metadata": {},
     "output_type": "execute_result"
    }
   ],
   "source": [
    "len(job_report['inserted_at'] == format_today)"
   ]
  },
  {
   "cell_type": "code",
   "execution_count": 150,
   "id": "432e3ef9",
   "metadata": {},
   "outputs": [
    {
     "data": {
      "text/html": [
       "<div>\n",
       "<style scoped>\n",
       "    .dataframe tbody tr th:only-of-type {\n",
       "        vertical-align: middle;\n",
       "    }\n",
       "\n",
       "    .dataframe tbody tr th {\n",
       "        vertical-align: top;\n",
       "    }\n",
       "\n",
       "    .dataframe thead th {\n",
       "        text-align: right;\n",
       "    }\n",
       "</style>\n",
       "<table border=\"1\" class=\"dataframe\">\n",
       "  <thead>\n",
       "    <tr style=\"text-align: right;\">\n",
       "      <th></th>\n",
       "      <th>date</th>\n",
       "      <th>GOOG</th>\n",
       "      <th>AAPL</th>\n",
       "      <th>AMZN</th>\n",
       "      <th>FB</th>\n",
       "      <th>NFLX</th>\n",
       "      <th>MSFT</th>\n",
       "    </tr>\n",
       "  </thead>\n",
       "  <tbody>\n",
       "    <tr>\n",
       "      <th>0</th>\n",
       "      <td>2018-01-01</td>\n",
       "      <td>1.000000</td>\n",
       "      <td>1.000000</td>\n",
       "      <td>1.000000</td>\n",
       "      <td>1.000000</td>\n",
       "      <td>1.000000</td>\n",
       "      <td>1.000000</td>\n",
       "    </tr>\n",
       "    <tr>\n",
       "      <th>1</th>\n",
       "      <td>2018-01-08</td>\n",
       "      <td>1.018172</td>\n",
       "      <td>1.011943</td>\n",
       "      <td>1.061881</td>\n",
       "      <td>0.959968</td>\n",
       "      <td>1.053526</td>\n",
       "      <td>1.015988</td>\n",
       "    </tr>\n",
       "    <tr>\n",
       "      <th>2</th>\n",
       "      <td>2018-01-15</td>\n",
       "      <td>1.032008</td>\n",
       "      <td>1.019771</td>\n",
       "      <td>1.053240</td>\n",
       "      <td>0.970243</td>\n",
       "      <td>1.049860</td>\n",
       "      <td>1.020524</td>\n",
       "    </tr>\n",
       "    <tr>\n",
       "      <th>3</th>\n",
       "      <td>2018-01-22</td>\n",
       "      <td>1.066783</td>\n",
       "      <td>0.980057</td>\n",
       "      <td>1.140676</td>\n",
       "      <td>1.016858</td>\n",
       "      <td>1.307681</td>\n",
       "      <td>1.066561</td>\n",
       "    </tr>\n",
       "    <tr>\n",
       "      <th>4</th>\n",
       "      <td>2018-01-29</td>\n",
       "      <td>1.008773</td>\n",
       "      <td>0.917143</td>\n",
       "      <td>1.163374</td>\n",
       "      <td>1.018357</td>\n",
       "      <td>1.273537</td>\n",
       "      <td>1.040708</td>\n",
       "    </tr>\n",
       "    <tr>\n",
       "      <th>...</th>\n",
       "      <td>...</td>\n",
       "      <td>...</td>\n",
       "      <td>...</td>\n",
       "      <td>...</td>\n",
       "      <td>...</td>\n",
       "      <td>...</td>\n",
       "      <td>...</td>\n",
       "    </tr>\n",
       "    <tr>\n",
       "      <th>100</th>\n",
       "      <td>2019-12-02</td>\n",
       "      <td>1.216280</td>\n",
       "      <td>1.546914</td>\n",
       "      <td>1.425061</td>\n",
       "      <td>1.075997</td>\n",
       "      <td>1.463641</td>\n",
       "      <td>1.720717</td>\n",
       "    </tr>\n",
       "    <tr>\n",
       "      <th>101</th>\n",
       "      <td>2019-12-09</td>\n",
       "      <td>1.222821</td>\n",
       "      <td>1.572286</td>\n",
       "      <td>1.432660</td>\n",
       "      <td>1.038855</td>\n",
       "      <td>1.421496</td>\n",
       "      <td>1.752239</td>\n",
       "    </tr>\n",
       "    <tr>\n",
       "      <th>102</th>\n",
       "      <td>2019-12-16</td>\n",
       "      <td>1.224418</td>\n",
       "      <td>1.596800</td>\n",
       "      <td>1.453455</td>\n",
       "      <td>1.104094</td>\n",
       "      <td>1.604362</td>\n",
       "      <td>1.784896</td>\n",
       "    </tr>\n",
       "    <tr>\n",
       "      <th>103</th>\n",
       "      <td>2019-12-23</td>\n",
       "      <td>1.226504</td>\n",
       "      <td>1.656000</td>\n",
       "      <td>1.521226</td>\n",
       "      <td>1.113728</td>\n",
       "      <td>1.567170</td>\n",
       "      <td>1.802472</td>\n",
       "    </tr>\n",
       "    <tr>\n",
       "      <th>104</th>\n",
       "      <td>2019-12-30</td>\n",
       "      <td>1.213014</td>\n",
       "      <td>1.678000</td>\n",
       "      <td>1.503360</td>\n",
       "      <td>1.098475</td>\n",
       "      <td>1.540883</td>\n",
       "      <td>1.788185</td>\n",
       "    </tr>\n",
       "  </tbody>\n",
       "</table>\n",
       "<p>105 rows × 7 columns</p>\n",
       "</div>"
      ],
      "text/plain": [
       "           date      GOOG      AAPL      AMZN        FB      NFLX      MSFT\n",
       "0    2018-01-01  1.000000  1.000000  1.000000  1.000000  1.000000  1.000000\n",
       "1    2018-01-08  1.018172  1.011943  1.061881  0.959968  1.053526  1.015988\n",
       "2    2018-01-15  1.032008  1.019771  1.053240  0.970243  1.049860  1.020524\n",
       "3    2018-01-22  1.066783  0.980057  1.140676  1.016858  1.307681  1.066561\n",
       "4    2018-01-29  1.008773  0.917143  1.163374  1.018357  1.273537  1.040708\n",
       "..          ...       ...       ...       ...       ...       ...       ...\n",
       "100  2019-12-02  1.216280  1.546914  1.425061  1.075997  1.463641  1.720717\n",
       "101  2019-12-09  1.222821  1.572286  1.432660  1.038855  1.421496  1.752239\n",
       "102  2019-12-16  1.224418  1.596800  1.453455  1.104094  1.604362  1.784896\n",
       "103  2019-12-23  1.226504  1.656000  1.521226  1.113728  1.567170  1.802472\n",
       "104  2019-12-30  1.213014  1.678000  1.503360  1.098475  1.540883  1.788185\n",
       "\n",
       "[105 rows x 7 columns]"
      ]
     },
     "execution_count": 150,
     "metadata": {},
     "output_type": "execute_result"
    }
   ],
   "source": [
    "test_data = px.data.stocks()\n",
    "test_data\n",
    "# test_fig = px.bar(test_data, x=test_data.index, y=\"GOOG\")\n",
    "# test_fig.update_yaxes(ticklabelposition=\"inside top\", title=None)\n"
   ]
  },
  {
   "cell_type": "code",
   "execution_count": 166,
   "id": "89b911cb",
   "metadata": {},
   "outputs": [
    {
     "data": {
      "text/html": [
       "<div>\n",
       "<style scoped>\n",
       "    .dataframe tbody tr th:only-of-type {\n",
       "        vertical-align: middle;\n",
       "    }\n",
       "\n",
       "    .dataframe tbody tr th {\n",
       "        vertical-align: top;\n",
       "    }\n",
       "\n",
       "    .dataframe thead th {\n",
       "        text-align: right;\n",
       "    }\n",
       "</style>\n",
       "<table border=\"1\" class=\"dataframe\">\n",
       "  <thead>\n",
       "    <tr style=\"text-align: right;\">\n",
       "      <th></th>\n",
       "      <th>title</th>\n",
       "      <th>company_name</th>\n",
       "      <th>location</th>\n",
       "      <th>via</th>\n",
       "      <th>description</th>\n",
       "      <th>posted_by_day</th>\n",
       "      <th>inserted_at</th>\n",
       "      <th>work_from_home</th>\n",
       "      <th>salary</th>\n",
       "    </tr>\n",
       "  </thead>\n",
       "  <tbody>\n",
       "    <tr>\n",
       "      <th>0</th>\n",
       "      <td>Jr Data Analyst</td>\n",
       "      <td>TechFetch.com - On Demand Tech Workforce hirin...</td>\n",
       "      <td>Atlanta, GA</td>\n",
       "      <td>via LinkedIn</td>\n",
       "      <td>\"ALL our jobs are US based and candidates must...</td>\n",
       "      <td>4</td>\n",
       "      <td>2022-12-16</td>\n",
       "      <td>NaN</td>\n",
       "      <td>NaN</td>\n",
       "    </tr>\n",
       "    <tr>\n",
       "      <th>1</th>\n",
       "      <td>Junior Data Analyst - REMOTE - US Citizenship ...</td>\n",
       "      <td>General Dynamics Information Technology</td>\n",
       "      <td>Atlanta, GA</td>\n",
       "      <td>via Monster</td>\n",
       "      <td>Type of Requisition: Regular\\n\\nClearance Leve...</td>\n",
       "      <td>4</td>\n",
       "      <td>2022-12-16</td>\n",
       "      <td>NaN</td>\n",
       "      <td>NaN</td>\n",
       "    </tr>\n",
       "    <tr>\n",
       "      <th>2</th>\n",
       "      <td>Junior Data Analyst (with Power Apps)</td>\n",
       "      <td>Jacobs</td>\n",
       "      <td>Atlanta, GA</td>\n",
       "      <td>via StartWire</td>\n",
       "      <td>We have more than 1800 colleagues in Poland, s...</td>\n",
       "      <td>4</td>\n",
       "      <td>2022-12-16</td>\n",
       "      <td>NaN</td>\n",
       "      <td>NaN</td>\n",
       "    </tr>\n",
       "    <tr>\n",
       "      <th>3</th>\n",
       "      <td>Data Analyst Entry Level (Bootcamp)</td>\n",
       "      <td>Helm360</td>\n",
       "      <td>Atlanta, GA</td>\n",
       "      <td>via Glassdoor</td>\n",
       "      <td>Responsibilities\\n• Interpret data, analyze re...</td>\n",
       "      <td>5</td>\n",
       "      <td>2022-12-17</td>\n",
       "      <td>NaN</td>\n",
       "      <td>NaN</td>\n",
       "    </tr>\n",
       "    <tr>\n",
       "      <th>4</th>\n",
       "      <td>Junior Data Analyst</td>\n",
       "      <td>Jobot</td>\n",
       "      <td>Atlanta, GA</td>\n",
       "      <td>via BeBee</td>\n",
       "      <td>Entry Level Data Analyst - hybrid This Jobot J...</td>\n",
       "      <td>5</td>\n",
       "      <td>2022-12-17</td>\n",
       "      <td>NaN</td>\n",
       "      <td>NaN</td>\n",
       "    </tr>\n",
       "    <tr>\n",
       "      <th>5</th>\n",
       "      <td>Junior Data Analyst</td>\n",
       "      <td>Jobot</td>\n",
       "      <td>Atlanta, GA</td>\n",
       "      <td>via BeBee</td>\n",
       "      <td>Entry Level Data Analyst - hybrid This Jobot J...</td>\n",
       "      <td>6</td>\n",
       "      <td>2022-12-18</td>\n",
       "      <td>NaN</td>\n",
       "      <td>NaN</td>\n",
       "    </tr>\n",
       "    <tr>\n",
       "      <th>6</th>\n",
       "      <td>Junior Data Analyst</td>\n",
       "      <td>Jobot</td>\n",
       "      <td>Atlanta, GA</td>\n",
       "      <td>via BeBee</td>\n",
       "      <td>Entry Level Data Analyst - hybrid This Jobot J...</td>\n",
       "      <td>7</td>\n",
       "      <td>2022-12-18</td>\n",
       "      <td>NaN</td>\n",
       "      <td>NaN</td>\n",
       "    </tr>\n",
       "  </tbody>\n",
       "</table>\n",
       "</div>"
      ],
      "text/plain": [
       "                                               title  \\\n",
       "0                                    Jr Data Analyst   \n",
       "1  Junior Data Analyst - REMOTE - US Citizenship ...   \n",
       "2              Junior Data Analyst (with Power Apps)   \n",
       "3                Data Analyst Entry Level (Bootcamp)   \n",
       "4                                Junior Data Analyst   \n",
       "5                                Junior Data Analyst   \n",
       "6                                Junior Data Analyst   \n",
       "\n",
       "                                        company_name     location  \\\n",
       "0  TechFetch.com - On Demand Tech Workforce hirin...  Atlanta, GA   \n",
       "1            General Dynamics Information Technology  Atlanta, GA   \n",
       "2                                             Jacobs  Atlanta, GA   \n",
       "3                                            Helm360  Atlanta, GA   \n",
       "4                                              Jobot  Atlanta, GA   \n",
       "5                                              Jobot  Atlanta, GA   \n",
       "6                                              Jobot  Atlanta, GA   \n",
       "\n",
       "             via                                        description  \\\n",
       "0   via LinkedIn  \"ALL our jobs are US based and candidates must...   \n",
       "1    via Monster  Type of Requisition: Regular\\n\\nClearance Leve...   \n",
       "2  via StartWire  We have more than 1800 colleagues in Poland, s...   \n",
       "3  via Glassdoor  Responsibilities\\n• Interpret data, analyze re...   \n",
       "4      via BeBee  Entry Level Data Analyst - hybrid This Jobot J...   \n",
       "5      via BeBee  Entry Level Data Analyst - hybrid This Jobot J...   \n",
       "6      via BeBee  Entry Level Data Analyst - hybrid This Jobot J...   \n",
       "\n",
       "   posted_by_day inserted_at  work_from_home salary  \n",
       "0              4  2022-12-16             NaN    NaN  \n",
       "1              4  2022-12-16             NaN    NaN  \n",
       "2              4  2022-12-16             NaN    NaN  \n",
       "3              5  2022-12-17             NaN    NaN  \n",
       "4              5  2022-12-17             NaN    NaN  \n",
       "5              6  2022-12-18             NaN    NaN  \n",
       "6              7  2022-12-18             NaN    NaN  "
      ]
     },
     "execution_count": 166,
     "metadata": {},
     "output_type": "execute_result"
    }
   ],
   "source": [
    "job_report[job_report['inserted_at'] <= format_yesterday]"
   ]
  },
  {
   "cell_type": "markdown",
   "id": "0f5a2911",
   "metadata": {},
   "source": [
    "## General Report without remote vs hybrid/onsite"
   ]
  },
  {
   "cell_type": "code",
   "execution_count": null,
   "id": "830f6ea5",
   "metadata": {},
   "outputs": [],
   "source": [
    "# if the data is less than a week (for this instance), the timeseries will appear, (00:00 & 12:00). WHen enough data populates \n",
    "# oddly enough, even if date format is m/d/yy, datapane automatically formats to month day"
   ]
  },
  {
   "cell_type": "code",
   "execution_count": 225,
   "id": "72572160",
   "metadata": {},
   "outputs": [
    {
     "data": {
      "application/vnd.plotly.v1+json": {
       "config": {
        "plotlyServerURL": "https://plot.ly"
       },
       "data": [
        {
         "alignmentgroup": "True",
         "bingroup": "x",
         "hovertemplate": "count=%{y}<extra></extra>",
         "legendgroup": "",
         "marker": {
          "color": "#636efa",
          "pattern": {
           "shape": ""
          }
         },
         "name": "",
         "nbinsx": 20,
         "offsetgroup": "",
         "orientation": "v",
         "showlegend": false,
         "type": "histogram",
         "x": [
          "12/12/2022",
          "12/13/2022",
          "12/14/2022",
          "12/15/2022",
          "12/16/2022",
          "12/16/2022",
          "12/16/2022",
          "12/17/2022",
          "12/17/2022",
          "12/18/2022",
          "12/18/2022",
          "12/19/2022",
          "12/19/2022",
          "12/19/2022"
         ],
         "xaxis": "x",
         "yaxis": "y"
        }
       ],
       "layout": {
        "barmode": "relative",
        "legend": {
         "tracegroupgap": 0
        },
        "template": {
         "data": {
          "bar": [
           {
            "error_x": {
             "color": "#2a3f5f"
            },
            "error_y": {
             "color": "#2a3f5f"
            },
            "marker": {
             "line": {
              "color": "#E5ECF6",
              "width": 0.5
             },
             "pattern": {
              "fillmode": "overlay",
              "size": 10,
              "solidity": 0.2
             }
            },
            "type": "bar"
           }
          ],
          "barpolar": [
           {
            "marker": {
             "line": {
              "color": "#E5ECF6",
              "width": 0.5
             },
             "pattern": {
              "fillmode": "overlay",
              "size": 10,
              "solidity": 0.2
             }
            },
            "type": "barpolar"
           }
          ],
          "carpet": [
           {
            "aaxis": {
             "endlinecolor": "#2a3f5f",
             "gridcolor": "white",
             "linecolor": "white",
             "minorgridcolor": "white",
             "startlinecolor": "#2a3f5f"
            },
            "baxis": {
             "endlinecolor": "#2a3f5f",
             "gridcolor": "white",
             "linecolor": "white",
             "minorgridcolor": "white",
             "startlinecolor": "#2a3f5f"
            },
            "type": "carpet"
           }
          ],
          "choropleth": [
           {
            "colorbar": {
             "outlinewidth": 0,
             "ticks": ""
            },
            "type": "choropleth"
           }
          ],
          "contour": [
           {
            "colorbar": {
             "outlinewidth": 0,
             "ticks": ""
            },
            "colorscale": [
             [
              0,
              "#0d0887"
             ],
             [
              0.1111111111111111,
              "#46039f"
             ],
             [
              0.2222222222222222,
              "#7201a8"
             ],
             [
              0.3333333333333333,
              "#9c179e"
             ],
             [
              0.4444444444444444,
              "#bd3786"
             ],
             [
              0.5555555555555556,
              "#d8576b"
             ],
             [
              0.6666666666666666,
              "#ed7953"
             ],
             [
              0.7777777777777778,
              "#fb9f3a"
             ],
             [
              0.8888888888888888,
              "#fdca26"
             ],
             [
              1,
              "#f0f921"
             ]
            ],
            "type": "contour"
           }
          ],
          "contourcarpet": [
           {
            "colorbar": {
             "outlinewidth": 0,
             "ticks": ""
            },
            "type": "contourcarpet"
           }
          ],
          "heatmap": [
           {
            "colorbar": {
             "outlinewidth": 0,
             "ticks": ""
            },
            "colorscale": [
             [
              0,
              "#0d0887"
             ],
             [
              0.1111111111111111,
              "#46039f"
             ],
             [
              0.2222222222222222,
              "#7201a8"
             ],
             [
              0.3333333333333333,
              "#9c179e"
             ],
             [
              0.4444444444444444,
              "#bd3786"
             ],
             [
              0.5555555555555556,
              "#d8576b"
             ],
             [
              0.6666666666666666,
              "#ed7953"
             ],
             [
              0.7777777777777778,
              "#fb9f3a"
             ],
             [
              0.8888888888888888,
              "#fdca26"
             ],
             [
              1,
              "#f0f921"
             ]
            ],
            "type": "heatmap"
           }
          ],
          "heatmapgl": [
           {
            "colorbar": {
             "outlinewidth": 0,
             "ticks": ""
            },
            "colorscale": [
             [
              0,
              "#0d0887"
             ],
             [
              0.1111111111111111,
              "#46039f"
             ],
             [
              0.2222222222222222,
              "#7201a8"
             ],
             [
              0.3333333333333333,
              "#9c179e"
             ],
             [
              0.4444444444444444,
              "#bd3786"
             ],
             [
              0.5555555555555556,
              "#d8576b"
             ],
             [
              0.6666666666666666,
              "#ed7953"
             ],
             [
              0.7777777777777778,
              "#fb9f3a"
             ],
             [
              0.8888888888888888,
              "#fdca26"
             ],
             [
              1,
              "#f0f921"
             ]
            ],
            "type": "heatmapgl"
           }
          ],
          "histogram": [
           {
            "marker": {
             "pattern": {
              "fillmode": "overlay",
              "size": 10,
              "solidity": 0.2
             }
            },
            "type": "histogram"
           }
          ],
          "histogram2d": [
           {
            "colorbar": {
             "outlinewidth": 0,
             "ticks": ""
            },
            "colorscale": [
             [
              0,
              "#0d0887"
             ],
             [
              0.1111111111111111,
              "#46039f"
             ],
             [
              0.2222222222222222,
              "#7201a8"
             ],
             [
              0.3333333333333333,
              "#9c179e"
             ],
             [
              0.4444444444444444,
              "#bd3786"
             ],
             [
              0.5555555555555556,
              "#d8576b"
             ],
             [
              0.6666666666666666,
              "#ed7953"
             ],
             [
              0.7777777777777778,
              "#fb9f3a"
             ],
             [
              0.8888888888888888,
              "#fdca26"
             ],
             [
              1,
              "#f0f921"
             ]
            ],
            "type": "histogram2d"
           }
          ],
          "histogram2dcontour": [
           {
            "colorbar": {
             "outlinewidth": 0,
             "ticks": ""
            },
            "colorscale": [
             [
              0,
              "#0d0887"
             ],
             [
              0.1111111111111111,
              "#46039f"
             ],
             [
              0.2222222222222222,
              "#7201a8"
             ],
             [
              0.3333333333333333,
              "#9c179e"
             ],
             [
              0.4444444444444444,
              "#bd3786"
             ],
             [
              0.5555555555555556,
              "#d8576b"
             ],
             [
              0.6666666666666666,
              "#ed7953"
             ],
             [
              0.7777777777777778,
              "#fb9f3a"
             ],
             [
              0.8888888888888888,
              "#fdca26"
             ],
             [
              1,
              "#f0f921"
             ]
            ],
            "type": "histogram2dcontour"
           }
          ],
          "mesh3d": [
           {
            "colorbar": {
             "outlinewidth": 0,
             "ticks": ""
            },
            "type": "mesh3d"
           }
          ],
          "parcoords": [
           {
            "line": {
             "colorbar": {
              "outlinewidth": 0,
              "ticks": ""
             }
            },
            "type": "parcoords"
           }
          ],
          "pie": [
           {
            "automargin": true,
            "type": "pie"
           }
          ],
          "scatter": [
           {
            "fillpattern": {
             "fillmode": "overlay",
             "size": 10,
             "solidity": 0.2
            },
            "type": "scatter"
           }
          ],
          "scatter3d": [
           {
            "line": {
             "colorbar": {
              "outlinewidth": 0,
              "ticks": ""
             }
            },
            "marker": {
             "colorbar": {
              "outlinewidth": 0,
              "ticks": ""
             }
            },
            "type": "scatter3d"
           }
          ],
          "scattercarpet": [
           {
            "marker": {
             "colorbar": {
              "outlinewidth": 0,
              "ticks": ""
             }
            },
            "type": "scattercarpet"
           }
          ],
          "scattergeo": [
           {
            "marker": {
             "colorbar": {
              "outlinewidth": 0,
              "ticks": ""
             }
            },
            "type": "scattergeo"
           }
          ],
          "scattergl": [
           {
            "marker": {
             "colorbar": {
              "outlinewidth": 0,
              "ticks": ""
             }
            },
            "type": "scattergl"
           }
          ],
          "scattermapbox": [
           {
            "marker": {
             "colorbar": {
              "outlinewidth": 0,
              "ticks": ""
             }
            },
            "type": "scattermapbox"
           }
          ],
          "scatterpolar": [
           {
            "marker": {
             "colorbar": {
              "outlinewidth": 0,
              "ticks": ""
             }
            },
            "type": "scatterpolar"
           }
          ],
          "scatterpolargl": [
           {
            "marker": {
             "colorbar": {
              "outlinewidth": 0,
              "ticks": ""
             }
            },
            "type": "scatterpolargl"
           }
          ],
          "scatterternary": [
           {
            "marker": {
             "colorbar": {
              "outlinewidth": 0,
              "ticks": ""
             }
            },
            "type": "scatterternary"
           }
          ],
          "surface": [
           {
            "colorbar": {
             "outlinewidth": 0,
             "ticks": ""
            },
            "colorscale": [
             [
              0,
              "#0d0887"
             ],
             [
              0.1111111111111111,
              "#46039f"
             ],
             [
              0.2222222222222222,
              "#7201a8"
             ],
             [
              0.3333333333333333,
              "#9c179e"
             ],
             [
              0.4444444444444444,
              "#bd3786"
             ],
             [
              0.5555555555555556,
              "#d8576b"
             ],
             [
              0.6666666666666666,
              "#ed7953"
             ],
             [
              0.7777777777777778,
              "#fb9f3a"
             ],
             [
              0.8888888888888888,
              "#fdca26"
             ],
             [
              1,
              "#f0f921"
             ]
            ],
            "type": "surface"
           }
          ],
          "table": [
           {
            "cells": {
             "fill": {
              "color": "#EBF0F8"
             },
             "line": {
              "color": "white"
             }
            },
            "header": {
             "fill": {
              "color": "#C8D4E3"
             },
             "line": {
              "color": "white"
             }
            },
            "type": "table"
           }
          ]
         },
         "layout": {
          "annotationdefaults": {
           "arrowcolor": "#2a3f5f",
           "arrowhead": 0,
           "arrowwidth": 1
          },
          "autotypenumbers": "strict",
          "coloraxis": {
           "colorbar": {
            "outlinewidth": 0,
            "ticks": ""
           }
          },
          "colorscale": {
           "diverging": [
            [
             0,
             "#8e0152"
            ],
            [
             0.1,
             "#c51b7d"
            ],
            [
             0.2,
             "#de77ae"
            ],
            [
             0.3,
             "#f1b6da"
            ],
            [
             0.4,
             "#fde0ef"
            ],
            [
             0.5,
             "#f7f7f7"
            ],
            [
             0.6,
             "#e6f5d0"
            ],
            [
             0.7,
             "#b8e186"
            ],
            [
             0.8,
             "#7fbc41"
            ],
            [
             0.9,
             "#4d9221"
            ],
            [
             1,
             "#276419"
            ]
           ],
           "sequential": [
            [
             0,
             "#0d0887"
            ],
            [
             0.1111111111111111,
             "#46039f"
            ],
            [
             0.2222222222222222,
             "#7201a8"
            ],
            [
             0.3333333333333333,
             "#9c179e"
            ],
            [
             0.4444444444444444,
             "#bd3786"
            ],
            [
             0.5555555555555556,
             "#d8576b"
            ],
            [
             0.6666666666666666,
             "#ed7953"
            ],
            [
             0.7777777777777778,
             "#fb9f3a"
            ],
            [
             0.8888888888888888,
             "#fdca26"
            ],
            [
             1,
             "#f0f921"
            ]
           ],
           "sequentialminus": [
            [
             0,
             "#0d0887"
            ],
            [
             0.1111111111111111,
             "#46039f"
            ],
            [
             0.2222222222222222,
             "#7201a8"
            ],
            [
             0.3333333333333333,
             "#9c179e"
            ],
            [
             0.4444444444444444,
             "#bd3786"
            ],
            [
             0.5555555555555556,
             "#d8576b"
            ],
            [
             0.6666666666666666,
             "#ed7953"
            ],
            [
             0.7777777777777778,
             "#fb9f3a"
            ],
            [
             0.8888888888888888,
             "#fdca26"
            ],
            [
             1,
             "#f0f921"
            ]
           ]
          },
          "colorway": [
           "#636efa",
           "#EF553B",
           "#00cc96",
           "#ab63fa",
           "#FFA15A",
           "#19d3f3",
           "#FF6692",
           "#B6E880",
           "#FF97FF",
           "#FECB52"
          ],
          "font": {
           "color": "#2a3f5f"
          },
          "geo": {
           "bgcolor": "white",
           "lakecolor": "white",
           "landcolor": "#E5ECF6",
           "showlakes": true,
           "showland": true,
           "subunitcolor": "white"
          },
          "hoverlabel": {
           "align": "left"
          },
          "hovermode": "closest",
          "mapbox": {
           "style": "light"
          },
          "paper_bgcolor": "white",
          "plot_bgcolor": "#E5ECF6",
          "polar": {
           "angularaxis": {
            "gridcolor": "white",
            "linecolor": "white",
            "ticks": ""
           },
           "bgcolor": "#E5ECF6",
           "radialaxis": {
            "gridcolor": "white",
            "linecolor": "white",
            "ticks": ""
           }
          },
          "scene": {
           "xaxis": {
            "backgroundcolor": "#E5ECF6",
            "gridcolor": "white",
            "gridwidth": 2,
            "linecolor": "white",
            "showbackground": true,
            "ticks": "",
            "zerolinecolor": "white"
           },
           "yaxis": {
            "backgroundcolor": "#E5ECF6",
            "gridcolor": "white",
            "gridwidth": 2,
            "linecolor": "white",
            "showbackground": true,
            "ticks": "",
            "zerolinecolor": "white"
           },
           "zaxis": {
            "backgroundcolor": "#E5ECF6",
            "gridcolor": "white",
            "gridwidth": 2,
            "linecolor": "white",
            "showbackground": true,
            "ticks": "",
            "zerolinecolor": "white"
           }
          },
          "shapedefaults": {
           "line": {
            "color": "#2a3f5f"
           }
          },
          "ternary": {
           "aaxis": {
            "gridcolor": "white",
            "linecolor": "white",
            "ticks": ""
           },
           "baxis": {
            "gridcolor": "white",
            "linecolor": "white",
            "ticks": ""
           },
           "bgcolor": "#E5ECF6",
           "caxis": {
            "gridcolor": "white",
            "linecolor": "white",
            "ticks": ""
           }
          },
          "title": {
           "x": 0.05
          },
          "xaxis": {
           "automargin": true,
           "gridcolor": "white",
           "linecolor": "white",
           "ticks": "",
           "title": {
            "standoff": 15
           },
           "zerolinecolor": "white",
           "zerolinewidth": 2
          },
          "yaxis": {
           "automargin": true,
           "gridcolor": "white",
           "linecolor": "white",
           "ticks": "",
           "title": {
            "standoff": 15
           },
           "zerolinecolor": "white",
           "zerolinewidth": 2
          }
         }
        },
        "title": {
         "font": {
          "size": 25
         },
         "text": "Weekly Job Report"
        },
        "xaxis": {
         "anchor": "y",
         "domain": [
          0,
          1
         ],
         "fixedrange": true,
         "title": {
          "text": ""
         }
        },
        "yaxis": {
         "anchor": "x",
         "domain": [
          0,
          1
         ],
         "title": {
          "text": "# of jobs added"
         }
        }
       }
      },
      "text/html": [
       "<div>                            <div id=\"bae0b212-b567-40d4-a68c-6ff230d49374\" class=\"plotly-graph-div\" style=\"height:525px; width:100%;\"></div>            <script type=\"text/javascript\">                require([\"plotly\"], function(Plotly) {                    window.PLOTLYENV=window.PLOTLYENV || {};                                    if (document.getElementById(\"bae0b212-b567-40d4-a68c-6ff230d49374\")) {                    Plotly.newPlot(                        \"bae0b212-b567-40d4-a68c-6ff230d49374\",                        [{\"alignmentgroup\":\"True\",\"bingroup\":\"x\",\"hovertemplate\":\"count=%{y}<extra></extra>\",\"legendgroup\":\"\",\"marker\":{\"color\":\"#636efa\",\"pattern\":{\"shape\":\"\"}},\"name\":\"\",\"nbinsx\":20,\"offsetgroup\":\"\",\"orientation\":\"v\",\"showlegend\":false,\"x\":[\"12/12/2022\",\"12/13/2022\",\"12/14/2022\",\"12/15/2022\",\"12/16/2022\",\"12/16/2022\",\"12/16/2022\",\"12/17/2022\",\"12/17/2022\",\"12/18/2022\",\"12/18/2022\",\"12/19/2022\",\"12/19/2022\",\"12/19/2022\"],\"xaxis\":\"x\",\"yaxis\":\"y\",\"type\":\"histogram\"}],                        {\"template\":{\"data\":{\"histogram2dcontour\":[{\"type\":\"histogram2dcontour\",\"colorbar\":{\"outlinewidth\":0,\"ticks\":\"\"},\"colorscale\":[[0.0,\"#0d0887\"],[0.1111111111111111,\"#46039f\"],[0.2222222222222222,\"#7201a8\"],[0.3333333333333333,\"#9c179e\"],[0.4444444444444444,\"#bd3786\"],[0.5555555555555556,\"#d8576b\"],[0.6666666666666666,\"#ed7953\"],[0.7777777777777778,\"#fb9f3a\"],[0.8888888888888888,\"#fdca26\"],[1.0,\"#f0f921\"]]}],\"choropleth\":[{\"type\":\"choropleth\",\"colorbar\":{\"outlinewidth\":0,\"ticks\":\"\"}}],\"histogram2d\":[{\"type\":\"histogram2d\",\"colorbar\":{\"outlinewidth\":0,\"ticks\":\"\"},\"colorscale\":[[0.0,\"#0d0887\"],[0.1111111111111111,\"#46039f\"],[0.2222222222222222,\"#7201a8\"],[0.3333333333333333,\"#9c179e\"],[0.4444444444444444,\"#bd3786\"],[0.5555555555555556,\"#d8576b\"],[0.6666666666666666,\"#ed7953\"],[0.7777777777777778,\"#fb9f3a\"],[0.8888888888888888,\"#fdca26\"],[1.0,\"#f0f921\"]]}],\"heatmap\":[{\"type\":\"heatmap\",\"colorbar\":{\"outlinewidth\":0,\"ticks\":\"\"},\"colorscale\":[[0.0,\"#0d0887\"],[0.1111111111111111,\"#46039f\"],[0.2222222222222222,\"#7201a8\"],[0.3333333333333333,\"#9c179e\"],[0.4444444444444444,\"#bd3786\"],[0.5555555555555556,\"#d8576b\"],[0.6666666666666666,\"#ed7953\"],[0.7777777777777778,\"#fb9f3a\"],[0.8888888888888888,\"#fdca26\"],[1.0,\"#f0f921\"]]}],\"heatmapgl\":[{\"type\":\"heatmapgl\",\"colorbar\":{\"outlinewidth\":0,\"ticks\":\"\"},\"colorscale\":[[0.0,\"#0d0887\"],[0.1111111111111111,\"#46039f\"],[0.2222222222222222,\"#7201a8\"],[0.3333333333333333,\"#9c179e\"],[0.4444444444444444,\"#bd3786\"],[0.5555555555555556,\"#d8576b\"],[0.6666666666666666,\"#ed7953\"],[0.7777777777777778,\"#fb9f3a\"],[0.8888888888888888,\"#fdca26\"],[1.0,\"#f0f921\"]]}],\"contourcarpet\":[{\"type\":\"contourcarpet\",\"colorbar\":{\"outlinewidth\":0,\"ticks\":\"\"}}],\"contour\":[{\"type\":\"contour\",\"colorbar\":{\"outlinewidth\":0,\"ticks\":\"\"},\"colorscale\":[[0.0,\"#0d0887\"],[0.1111111111111111,\"#46039f\"],[0.2222222222222222,\"#7201a8\"],[0.3333333333333333,\"#9c179e\"],[0.4444444444444444,\"#bd3786\"],[0.5555555555555556,\"#d8576b\"],[0.6666666666666666,\"#ed7953\"],[0.7777777777777778,\"#fb9f3a\"],[0.8888888888888888,\"#fdca26\"],[1.0,\"#f0f921\"]]}],\"surface\":[{\"type\":\"surface\",\"colorbar\":{\"outlinewidth\":0,\"ticks\":\"\"},\"colorscale\":[[0.0,\"#0d0887\"],[0.1111111111111111,\"#46039f\"],[0.2222222222222222,\"#7201a8\"],[0.3333333333333333,\"#9c179e\"],[0.4444444444444444,\"#bd3786\"],[0.5555555555555556,\"#d8576b\"],[0.6666666666666666,\"#ed7953\"],[0.7777777777777778,\"#fb9f3a\"],[0.8888888888888888,\"#fdca26\"],[1.0,\"#f0f921\"]]}],\"mesh3d\":[{\"type\":\"mesh3d\",\"colorbar\":{\"outlinewidth\":0,\"ticks\":\"\"}}],\"scatter\":[{\"fillpattern\":{\"fillmode\":\"overlay\",\"size\":10,\"solidity\":0.2},\"type\":\"scatter\"}],\"parcoords\":[{\"type\":\"parcoords\",\"line\":{\"colorbar\":{\"outlinewidth\":0,\"ticks\":\"\"}}}],\"scatterpolargl\":[{\"type\":\"scatterpolargl\",\"marker\":{\"colorbar\":{\"outlinewidth\":0,\"ticks\":\"\"}}}],\"bar\":[{\"error_x\":{\"color\":\"#2a3f5f\"},\"error_y\":{\"color\":\"#2a3f5f\"},\"marker\":{\"line\":{\"color\":\"#E5ECF6\",\"width\":0.5},\"pattern\":{\"fillmode\":\"overlay\",\"size\":10,\"solidity\":0.2}},\"type\":\"bar\"}],\"scattergeo\":[{\"type\":\"scattergeo\",\"marker\":{\"colorbar\":{\"outlinewidth\":0,\"ticks\":\"\"}}}],\"scatterpolar\":[{\"type\":\"scatterpolar\",\"marker\":{\"colorbar\":{\"outlinewidth\":0,\"ticks\":\"\"}}}],\"histogram\":[{\"marker\":{\"pattern\":{\"fillmode\":\"overlay\",\"size\":10,\"solidity\":0.2}},\"type\":\"histogram\"}],\"scattergl\":[{\"type\":\"scattergl\",\"marker\":{\"colorbar\":{\"outlinewidth\":0,\"ticks\":\"\"}}}],\"scatter3d\":[{\"type\":\"scatter3d\",\"line\":{\"colorbar\":{\"outlinewidth\":0,\"ticks\":\"\"}},\"marker\":{\"colorbar\":{\"outlinewidth\":0,\"ticks\":\"\"}}}],\"scattermapbox\":[{\"type\":\"scattermapbox\",\"marker\":{\"colorbar\":{\"outlinewidth\":0,\"ticks\":\"\"}}}],\"scatterternary\":[{\"type\":\"scatterternary\",\"marker\":{\"colorbar\":{\"outlinewidth\":0,\"ticks\":\"\"}}}],\"scattercarpet\":[{\"type\":\"scattercarpet\",\"marker\":{\"colorbar\":{\"outlinewidth\":0,\"ticks\":\"\"}}}],\"carpet\":[{\"aaxis\":{\"endlinecolor\":\"#2a3f5f\",\"gridcolor\":\"white\",\"linecolor\":\"white\",\"minorgridcolor\":\"white\",\"startlinecolor\":\"#2a3f5f\"},\"baxis\":{\"endlinecolor\":\"#2a3f5f\",\"gridcolor\":\"white\",\"linecolor\":\"white\",\"minorgridcolor\":\"white\",\"startlinecolor\":\"#2a3f5f\"},\"type\":\"carpet\"}],\"table\":[{\"cells\":{\"fill\":{\"color\":\"#EBF0F8\"},\"line\":{\"color\":\"white\"}},\"header\":{\"fill\":{\"color\":\"#C8D4E3\"},\"line\":{\"color\":\"white\"}},\"type\":\"table\"}],\"barpolar\":[{\"marker\":{\"line\":{\"color\":\"#E5ECF6\",\"width\":0.5},\"pattern\":{\"fillmode\":\"overlay\",\"size\":10,\"solidity\":0.2}},\"type\":\"barpolar\"}],\"pie\":[{\"automargin\":true,\"type\":\"pie\"}]},\"layout\":{\"autotypenumbers\":\"strict\",\"colorway\":[\"#636efa\",\"#EF553B\",\"#00cc96\",\"#ab63fa\",\"#FFA15A\",\"#19d3f3\",\"#FF6692\",\"#B6E880\",\"#FF97FF\",\"#FECB52\"],\"font\":{\"color\":\"#2a3f5f\"},\"hovermode\":\"closest\",\"hoverlabel\":{\"align\":\"left\"},\"paper_bgcolor\":\"white\",\"plot_bgcolor\":\"#E5ECF6\",\"polar\":{\"bgcolor\":\"#E5ECF6\",\"angularaxis\":{\"gridcolor\":\"white\",\"linecolor\":\"white\",\"ticks\":\"\"},\"radialaxis\":{\"gridcolor\":\"white\",\"linecolor\":\"white\",\"ticks\":\"\"}},\"ternary\":{\"bgcolor\":\"#E5ECF6\",\"aaxis\":{\"gridcolor\":\"white\",\"linecolor\":\"white\",\"ticks\":\"\"},\"baxis\":{\"gridcolor\":\"white\",\"linecolor\":\"white\",\"ticks\":\"\"},\"caxis\":{\"gridcolor\":\"white\",\"linecolor\":\"white\",\"ticks\":\"\"}},\"coloraxis\":{\"colorbar\":{\"outlinewidth\":0,\"ticks\":\"\"}},\"colorscale\":{\"sequential\":[[0.0,\"#0d0887\"],[0.1111111111111111,\"#46039f\"],[0.2222222222222222,\"#7201a8\"],[0.3333333333333333,\"#9c179e\"],[0.4444444444444444,\"#bd3786\"],[0.5555555555555556,\"#d8576b\"],[0.6666666666666666,\"#ed7953\"],[0.7777777777777778,\"#fb9f3a\"],[0.8888888888888888,\"#fdca26\"],[1.0,\"#f0f921\"]],\"sequentialminus\":[[0.0,\"#0d0887\"],[0.1111111111111111,\"#46039f\"],[0.2222222222222222,\"#7201a8\"],[0.3333333333333333,\"#9c179e\"],[0.4444444444444444,\"#bd3786\"],[0.5555555555555556,\"#d8576b\"],[0.6666666666666666,\"#ed7953\"],[0.7777777777777778,\"#fb9f3a\"],[0.8888888888888888,\"#fdca26\"],[1.0,\"#f0f921\"]],\"diverging\":[[0,\"#8e0152\"],[0.1,\"#c51b7d\"],[0.2,\"#de77ae\"],[0.3,\"#f1b6da\"],[0.4,\"#fde0ef\"],[0.5,\"#f7f7f7\"],[0.6,\"#e6f5d0\"],[0.7,\"#b8e186\"],[0.8,\"#7fbc41\"],[0.9,\"#4d9221\"],[1,\"#276419\"]]},\"xaxis\":{\"gridcolor\":\"white\",\"linecolor\":\"white\",\"ticks\":\"\",\"title\":{\"standoff\":15},\"zerolinecolor\":\"white\",\"automargin\":true,\"zerolinewidth\":2},\"yaxis\":{\"gridcolor\":\"white\",\"linecolor\":\"white\",\"ticks\":\"\",\"title\":{\"standoff\":15},\"zerolinecolor\":\"white\",\"automargin\":true,\"zerolinewidth\":2},\"scene\":{\"xaxis\":{\"backgroundcolor\":\"#E5ECF6\",\"gridcolor\":\"white\",\"linecolor\":\"white\",\"showbackground\":true,\"ticks\":\"\",\"zerolinecolor\":\"white\",\"gridwidth\":2},\"yaxis\":{\"backgroundcolor\":\"#E5ECF6\",\"gridcolor\":\"white\",\"linecolor\":\"white\",\"showbackground\":true,\"ticks\":\"\",\"zerolinecolor\":\"white\",\"gridwidth\":2},\"zaxis\":{\"backgroundcolor\":\"#E5ECF6\",\"gridcolor\":\"white\",\"linecolor\":\"white\",\"showbackground\":true,\"ticks\":\"\",\"zerolinecolor\":\"white\",\"gridwidth\":2}},\"shapedefaults\":{\"line\":{\"color\":\"#2a3f5f\"}},\"annotationdefaults\":{\"arrowcolor\":\"#2a3f5f\",\"arrowhead\":0,\"arrowwidth\":1},\"geo\":{\"bgcolor\":\"white\",\"landcolor\":\"#E5ECF6\",\"subunitcolor\":\"white\",\"showland\":true,\"showlakes\":true,\"lakecolor\":\"white\"},\"title\":{\"x\":0.05},\"mapbox\":{\"style\":\"light\"}}},\"xaxis\":{\"anchor\":\"y\",\"domain\":[0.0,1.0],\"title\":{\"text\":\"\"},\"fixedrange\":true},\"yaxis\":{\"anchor\":\"x\",\"domain\":[0.0,1.0],\"title\":{\"text\":\"# of jobs added\"}},\"legend\":{\"tracegroupgap\":0},\"title\":{\"text\":\"Weekly Job Report\",\"font\":{\"size\":25}},\"barmode\":\"relative\"},                        {\"responsive\": true}                    ).then(function(){\n",
       "                            \n",
       "var gd = document.getElementById('bae0b212-b567-40d4-a68c-6ff230d49374');\n",
       "var x = new MutationObserver(function (mutations, observer) {{\n",
       "        var display = window.getComputedStyle(gd).display;\n",
       "        if (!display || display === 'none') {{\n",
       "            console.log([gd, 'removed!']);\n",
       "            Plotly.purge(gd);\n",
       "            observer.disconnect();\n",
       "        }}\n",
       "}});\n",
       "\n",
       "// Listen for the removal of the full notebook cells\n",
       "var notebookContainer = gd.closest('#notebook-container');\n",
       "if (notebookContainer) {{\n",
       "    x.observe(notebookContainer, {childList: true});\n",
       "}}\n",
       "\n",
       "// Listen for the clearing of the current output cell\n",
       "var outputEl = gd.closest('.output');\n",
       "if (outputEl) {{\n",
       "    x.observe(outputEl, {childList: true});\n",
       "}}\n",
       "\n",
       "                        })                };                });            </script>        </div>"
      ]
     },
     "metadata": {},
     "output_type": "display_data"
    }
   ],
   "source": [
    "weekly_report = job_report.loc[(job_report['inserted_at'] >= format_week_ago) & (job_report['inserted_at'] <= format_today)]\n",
    "fig = px.histogram(\n",
    "    weekly_report, \n",
    "    x='inserted_at', \n",
    "    nbins=20, \n",
    "    title='Weekly Job Report',\n",
    "#     needed to remove unnecessary date label\n",
    "    hover_data={\n",
    "        'inserted_at':''\n",
    "    }\n",
    ").update_layout(yaxis_title='# of jobs added', title_font_size=25, xaxis_title='')\n",
    "# Disables zoom\n",
    "fig.update_xaxes(fixedrange=True)\n",
    "\n",
    "fig.show()\n",
    "\n",
    "# app = dp.App(dp.Plot(plot1), dp.DataTable(df))\n",
    "# app.upload(name=\"My example app\")\n"
   ]
  },
  {
   "cell_type": "markdown",
   "id": "c7d77e08",
   "metadata": {},
   "source": [
    "## General report with remote and hybrid/onsite comparison"
   ]
  },
  {
   "cell_type": "code",
   "execution_count": 175,
   "id": "6e0c236a",
   "metadata": {
    "scrolled": false
   },
   "outputs": [
    {
     "data": {
      "text/html": [
       "<div>\n",
       "<style scoped>\n",
       "    .dataframe tbody tr th:only-of-type {\n",
       "        vertical-align: middle;\n",
       "    }\n",
       "\n",
       "    .dataframe tbody tr th {\n",
       "        vertical-align: top;\n",
       "    }\n",
       "\n",
       "    .dataframe thead th {\n",
       "        text-align: right;\n",
       "    }\n",
       "</style>\n",
       "<table border=\"1\" class=\"dataframe\">\n",
       "  <thead>\n",
       "    <tr style=\"text-align: right;\">\n",
       "      <th></th>\n",
       "      <th>title</th>\n",
       "      <th>company_name</th>\n",
       "      <th>location</th>\n",
       "      <th>via</th>\n",
       "      <th>description</th>\n",
       "      <th>posted_by_day</th>\n",
       "      <th>inserted_at</th>\n",
       "      <th>work_from_home</th>\n",
       "      <th>salary</th>\n",
       "    </tr>\n",
       "  </thead>\n",
       "  <tbody>\n",
       "    <tr>\n",
       "      <th>0</th>\n",
       "      <td>Jr Data Analyst</td>\n",
       "      <td>TechFetch.com - On Demand Tech Workforce hirin...</td>\n",
       "      <td>Atlanta, GA</td>\n",
       "      <td>via LinkedIn</td>\n",
       "      <td>\"ALL our jobs are US based and candidates must...</td>\n",
       "      <td>4</td>\n",
       "      <td>2022-12-16</td>\n",
       "      <td>NaN</td>\n",
       "      <td>NaN</td>\n",
       "    </tr>\n",
       "    <tr>\n",
       "      <th>1</th>\n",
       "      <td>Junior Data Analyst - REMOTE - US Citizenship ...</td>\n",
       "      <td>General Dynamics Information Technology</td>\n",
       "      <td>Atlanta, GA</td>\n",
       "      <td>via Monster</td>\n",
       "      <td>Type of Requisition: Regular\\n\\nClearance Leve...</td>\n",
       "      <td>4</td>\n",
       "      <td>2022-12-16</td>\n",
       "      <td>NaN</td>\n",
       "      <td>NaN</td>\n",
       "    </tr>\n",
       "    <tr>\n",
       "      <th>2</th>\n",
       "      <td>Junior Data Analyst (with Power Apps)</td>\n",
       "      <td>Jacobs</td>\n",
       "      <td>Atlanta, GA</td>\n",
       "      <td>via StartWire</td>\n",
       "      <td>We have more than 1800 colleagues in Poland, s...</td>\n",
       "      <td>4</td>\n",
       "      <td>2022-12-16</td>\n",
       "      <td>NaN</td>\n",
       "      <td>NaN</td>\n",
       "    </tr>\n",
       "    <tr>\n",
       "      <th>3</th>\n",
       "      <td>Data Analyst Entry Level (Bootcamp)</td>\n",
       "      <td>Helm360</td>\n",
       "      <td>Atlanta, GA</td>\n",
       "      <td>via Glassdoor</td>\n",
       "      <td>Responsibilities\\n• Interpret data, analyze re...</td>\n",
       "      <td>5</td>\n",
       "      <td>2022-12-17</td>\n",
       "      <td>NaN</td>\n",
       "      <td>NaN</td>\n",
       "    </tr>\n",
       "    <tr>\n",
       "      <th>4</th>\n",
       "      <td>Junior Data Analyst</td>\n",
       "      <td>Jobot</td>\n",
       "      <td>Atlanta, GA</td>\n",
       "      <td>via BeBee</td>\n",
       "      <td>Entry Level Data Analyst - hybrid This Jobot J...</td>\n",
       "      <td>5</td>\n",
       "      <td>2022-12-17</td>\n",
       "      <td>NaN</td>\n",
       "      <td>NaN</td>\n",
       "    </tr>\n",
       "    <tr>\n",
       "      <th>5</th>\n",
       "      <td>Junior Data Analyst</td>\n",
       "      <td>Jobot</td>\n",
       "      <td>Atlanta, GA</td>\n",
       "      <td>via BeBee</td>\n",
       "      <td>Entry Level Data Analyst - hybrid This Jobot J...</td>\n",
       "      <td>6</td>\n",
       "      <td>2022-12-18</td>\n",
       "      <td>NaN</td>\n",
       "      <td>NaN</td>\n",
       "    </tr>\n",
       "    <tr>\n",
       "      <th>6</th>\n",
       "      <td>Junior Data Analyst</td>\n",
       "      <td>Jobot</td>\n",
       "      <td>Atlanta, GA</td>\n",
       "      <td>via BeBee</td>\n",
       "      <td>Entry Level Data Analyst - hybrid This Jobot J...</td>\n",
       "      <td>7</td>\n",
       "      <td>2022-12-18</td>\n",
       "      <td>NaN</td>\n",
       "      <td>NaN</td>\n",
       "    </tr>\n",
       "    <tr>\n",
       "      <th>7</th>\n",
       "      <td>Jr Data Analyst- Entry level- local to Atlanta</td>\n",
       "      <td>Vaco Technology</td>\n",
       "      <td>Atlanta, GA</td>\n",
       "      <td>via Atlanta, GA - Geebo</td>\n",
       "      <td>Full Job Description\\n\\nResponsibilities...\\n•...</td>\n",
       "      <td>3</td>\n",
       "      <td>2022-12-19</td>\n",
       "      <td>NaN</td>\n",
       "      <td>20–28 an hour</td>\n",
       "    </tr>\n",
       "    <tr>\n",
       "      <th>8</th>\n",
       "      <td>asd</td>\n",
       "      <td>asd</td>\n",
       "      <td>asd</td>\n",
       "      <td>via AAA</td>\n",
       "      <td>ajsdas salary: $67k -$80k per year.</td>\n",
       "      <td>2</td>\n",
       "      <td>2022-12-19</td>\n",
       "      <td>NaN</td>\n",
       "      <td>NaN</td>\n",
       "    </tr>\n",
       "    <tr>\n",
       "      <th>9</th>\n",
       "      <td>asd</td>\n",
       "      <td>asd</td>\n",
       "      <td>asd</td>\n",
       "      <td>via AAA</td>\n",
       "      <td>ajsdas salary: $67k -$80k per year.</td>\n",
       "      <td>3</td>\n",
       "      <td>2022-12-19</td>\n",
       "      <td>NaN</td>\n",
       "      <td>NaN</td>\n",
       "    </tr>\n",
       "  </tbody>\n",
       "</table>\n",
       "</div>"
      ],
      "text/plain": [
       "                                               title  \\\n",
       "0                                    Jr Data Analyst   \n",
       "1  Junior Data Analyst - REMOTE - US Citizenship ...   \n",
       "2              Junior Data Analyst (with Power Apps)   \n",
       "3                Data Analyst Entry Level (Bootcamp)   \n",
       "4                                Junior Data Analyst   \n",
       "5                                Junior Data Analyst   \n",
       "6                                Junior Data Analyst   \n",
       "7     Jr Data Analyst- Entry level- local to Atlanta   \n",
       "8                                                asd   \n",
       "9                                                asd   \n",
       "\n",
       "                                        company_name     location  \\\n",
       "0  TechFetch.com - On Demand Tech Workforce hirin...  Atlanta, GA   \n",
       "1            General Dynamics Information Technology  Atlanta, GA   \n",
       "2                                             Jacobs  Atlanta, GA   \n",
       "3                                            Helm360  Atlanta, GA   \n",
       "4                                              Jobot  Atlanta, GA   \n",
       "5                                              Jobot  Atlanta, GA   \n",
       "6                                              Jobot  Atlanta, GA   \n",
       "7                                    Vaco Technology  Atlanta, GA   \n",
       "8                                                asd          asd   \n",
       "9                                                asd          asd   \n",
       "\n",
       "                       via                                        description  \\\n",
       "0             via LinkedIn  \"ALL our jobs are US based and candidates must...   \n",
       "1              via Monster  Type of Requisition: Regular\\n\\nClearance Leve...   \n",
       "2            via StartWire  We have more than 1800 colleagues in Poland, s...   \n",
       "3            via Glassdoor  Responsibilities\\n• Interpret data, analyze re...   \n",
       "4                via BeBee  Entry Level Data Analyst - hybrid This Jobot J...   \n",
       "5                via BeBee  Entry Level Data Analyst - hybrid This Jobot J...   \n",
       "6                via BeBee  Entry Level Data Analyst - hybrid This Jobot J...   \n",
       "7  via Atlanta, GA - Geebo  Full Job Description\\n\\nResponsibilities...\\n•...   \n",
       "8                  via AAA                ajsdas salary: $67k -$80k per year.   \n",
       "9                  via AAA                ajsdas salary: $67k -$80k per year.   \n",
       "\n",
       "   posted_by_day inserted_at  work_from_home         salary  \n",
       "0              4  2022-12-16             NaN            NaN  \n",
       "1              4  2022-12-16             NaN            NaN  \n",
       "2              4  2022-12-16             NaN            NaN  \n",
       "3              5  2022-12-17             NaN            NaN  \n",
       "4              5  2022-12-17             NaN            NaN  \n",
       "5              6  2022-12-18             NaN            NaN  \n",
       "6              7  2022-12-18             NaN            NaN  \n",
       "7              3  2022-12-19             NaN  20–28 an hour  \n",
       "8              2  2022-12-19             NaN            NaN  \n",
       "9              3  2022-12-19             NaN            NaN  "
      ]
     },
     "execution_count": 175,
     "metadata": {},
     "output_type": "execute_result"
    }
   ],
   "source": [
    "remote = job_report[job_report['location'].str.lower() == 'Anywhere']\n",
    "onsite = job_report[job_report['location'].str.lower() != 'Anywhere']\n",
    "\n",
    "# print(remote)\n",
    "job_report"
   ]
  },
  {
   "cell_type": "code",
   "execution_count": 461,
   "id": "7d300dbb",
   "metadata": {},
   "outputs": [],
   "source": [
    "# job_report.drop(['posted_by_day'], axis=1, inplace=True)\n"
   ]
  },
  {
   "cell_type": "code",
   "execution_count": 231,
   "id": "ccae0ecd",
   "metadata": {
    "scrolled": false
   },
   "outputs": [
    {
     "data": {
      "application/vnd.plotly.v1+json": {
       "config": {
        "plotlyServerURL": "https://plot.ly"
       },
       "data": [
        {
         "alignmentgroup": "True",
         "bingroup": "x",
         "hovertemplate": "remote=No<br>count=%{y}<extra></extra>",
         "legendgroup": "No",
         "marker": {
          "color": "#636efa",
          "pattern": {
           "shape": ""
          }
         },
         "name": "No",
         "nbinsx": 20,
         "offsetgroup": "No",
         "orientation": "v",
         "showlegend": true,
         "type": "histogram",
         "x": [
          "12/12/2022",
          "12/13/2022",
          "12/14/2022",
          "12/15/2022",
          "12/16/2022",
          "12/16/2022",
          "12/16/2022",
          "12/17/2022",
          "12/17/2022",
          "12/18/2022",
          "12/18/2022",
          "12/19/2022"
         ],
         "xaxis": "x",
         "yaxis": "y"
        },
        {
         "alignmentgroup": "True",
         "bingroup": "x",
         "hovertemplate": "remote=Yes<br>count=%{y}<extra></extra>",
         "legendgroup": "Yes",
         "marker": {
          "color": "#EF553B",
          "pattern": {
           "shape": ""
          }
         },
         "name": "Yes",
         "nbinsx": 20,
         "offsetgroup": "Yes",
         "orientation": "v",
         "showlegend": true,
         "type": "histogram",
         "x": [
          "12/19/2022",
          "12/19/2022"
         ],
         "xaxis": "x",
         "yaxis": "y"
        }
       ],
       "layout": {
        "barmode": "relative",
        "legend": {
         "title": {
          "text": "remote"
         },
         "tracegroupgap": 0
        },
        "template": {
         "data": {
          "bar": [
           {
            "error_x": {
             "color": "#2a3f5f"
            },
            "error_y": {
             "color": "#2a3f5f"
            },
            "marker": {
             "line": {
              "color": "#E5ECF6",
              "width": 0.5
             },
             "pattern": {
              "fillmode": "overlay",
              "size": 10,
              "solidity": 0.2
             }
            },
            "type": "bar"
           }
          ],
          "barpolar": [
           {
            "marker": {
             "line": {
              "color": "#E5ECF6",
              "width": 0.5
             },
             "pattern": {
              "fillmode": "overlay",
              "size": 10,
              "solidity": 0.2
             }
            },
            "type": "barpolar"
           }
          ],
          "carpet": [
           {
            "aaxis": {
             "endlinecolor": "#2a3f5f",
             "gridcolor": "white",
             "linecolor": "white",
             "minorgridcolor": "white",
             "startlinecolor": "#2a3f5f"
            },
            "baxis": {
             "endlinecolor": "#2a3f5f",
             "gridcolor": "white",
             "linecolor": "white",
             "minorgridcolor": "white",
             "startlinecolor": "#2a3f5f"
            },
            "type": "carpet"
           }
          ],
          "choropleth": [
           {
            "colorbar": {
             "outlinewidth": 0,
             "ticks": ""
            },
            "type": "choropleth"
           }
          ],
          "contour": [
           {
            "colorbar": {
             "outlinewidth": 0,
             "ticks": ""
            },
            "colorscale": [
             [
              0,
              "#0d0887"
             ],
             [
              0.1111111111111111,
              "#46039f"
             ],
             [
              0.2222222222222222,
              "#7201a8"
             ],
             [
              0.3333333333333333,
              "#9c179e"
             ],
             [
              0.4444444444444444,
              "#bd3786"
             ],
             [
              0.5555555555555556,
              "#d8576b"
             ],
             [
              0.6666666666666666,
              "#ed7953"
             ],
             [
              0.7777777777777778,
              "#fb9f3a"
             ],
             [
              0.8888888888888888,
              "#fdca26"
             ],
             [
              1,
              "#f0f921"
             ]
            ],
            "type": "contour"
           }
          ],
          "contourcarpet": [
           {
            "colorbar": {
             "outlinewidth": 0,
             "ticks": ""
            },
            "type": "contourcarpet"
           }
          ],
          "heatmap": [
           {
            "colorbar": {
             "outlinewidth": 0,
             "ticks": ""
            },
            "colorscale": [
             [
              0,
              "#0d0887"
             ],
             [
              0.1111111111111111,
              "#46039f"
             ],
             [
              0.2222222222222222,
              "#7201a8"
             ],
             [
              0.3333333333333333,
              "#9c179e"
             ],
             [
              0.4444444444444444,
              "#bd3786"
             ],
             [
              0.5555555555555556,
              "#d8576b"
             ],
             [
              0.6666666666666666,
              "#ed7953"
             ],
             [
              0.7777777777777778,
              "#fb9f3a"
             ],
             [
              0.8888888888888888,
              "#fdca26"
             ],
             [
              1,
              "#f0f921"
             ]
            ],
            "type": "heatmap"
           }
          ],
          "heatmapgl": [
           {
            "colorbar": {
             "outlinewidth": 0,
             "ticks": ""
            },
            "colorscale": [
             [
              0,
              "#0d0887"
             ],
             [
              0.1111111111111111,
              "#46039f"
             ],
             [
              0.2222222222222222,
              "#7201a8"
             ],
             [
              0.3333333333333333,
              "#9c179e"
             ],
             [
              0.4444444444444444,
              "#bd3786"
             ],
             [
              0.5555555555555556,
              "#d8576b"
             ],
             [
              0.6666666666666666,
              "#ed7953"
             ],
             [
              0.7777777777777778,
              "#fb9f3a"
             ],
             [
              0.8888888888888888,
              "#fdca26"
             ],
             [
              1,
              "#f0f921"
             ]
            ],
            "type": "heatmapgl"
           }
          ],
          "histogram": [
           {
            "marker": {
             "pattern": {
              "fillmode": "overlay",
              "size": 10,
              "solidity": 0.2
             }
            },
            "type": "histogram"
           }
          ],
          "histogram2d": [
           {
            "colorbar": {
             "outlinewidth": 0,
             "ticks": ""
            },
            "colorscale": [
             [
              0,
              "#0d0887"
             ],
             [
              0.1111111111111111,
              "#46039f"
             ],
             [
              0.2222222222222222,
              "#7201a8"
             ],
             [
              0.3333333333333333,
              "#9c179e"
             ],
             [
              0.4444444444444444,
              "#bd3786"
             ],
             [
              0.5555555555555556,
              "#d8576b"
             ],
             [
              0.6666666666666666,
              "#ed7953"
             ],
             [
              0.7777777777777778,
              "#fb9f3a"
             ],
             [
              0.8888888888888888,
              "#fdca26"
             ],
             [
              1,
              "#f0f921"
             ]
            ],
            "type": "histogram2d"
           }
          ],
          "histogram2dcontour": [
           {
            "colorbar": {
             "outlinewidth": 0,
             "ticks": ""
            },
            "colorscale": [
             [
              0,
              "#0d0887"
             ],
             [
              0.1111111111111111,
              "#46039f"
             ],
             [
              0.2222222222222222,
              "#7201a8"
             ],
             [
              0.3333333333333333,
              "#9c179e"
             ],
             [
              0.4444444444444444,
              "#bd3786"
             ],
             [
              0.5555555555555556,
              "#d8576b"
             ],
             [
              0.6666666666666666,
              "#ed7953"
             ],
             [
              0.7777777777777778,
              "#fb9f3a"
             ],
             [
              0.8888888888888888,
              "#fdca26"
             ],
             [
              1,
              "#f0f921"
             ]
            ],
            "type": "histogram2dcontour"
           }
          ],
          "mesh3d": [
           {
            "colorbar": {
             "outlinewidth": 0,
             "ticks": ""
            },
            "type": "mesh3d"
           }
          ],
          "parcoords": [
           {
            "line": {
             "colorbar": {
              "outlinewidth": 0,
              "ticks": ""
             }
            },
            "type": "parcoords"
           }
          ],
          "pie": [
           {
            "automargin": true,
            "type": "pie"
           }
          ],
          "scatter": [
           {
            "fillpattern": {
             "fillmode": "overlay",
             "size": 10,
             "solidity": 0.2
            },
            "type": "scatter"
           }
          ],
          "scatter3d": [
           {
            "line": {
             "colorbar": {
              "outlinewidth": 0,
              "ticks": ""
             }
            },
            "marker": {
             "colorbar": {
              "outlinewidth": 0,
              "ticks": ""
             }
            },
            "type": "scatter3d"
           }
          ],
          "scattercarpet": [
           {
            "marker": {
             "colorbar": {
              "outlinewidth": 0,
              "ticks": ""
             }
            },
            "type": "scattercarpet"
           }
          ],
          "scattergeo": [
           {
            "marker": {
             "colorbar": {
              "outlinewidth": 0,
              "ticks": ""
             }
            },
            "type": "scattergeo"
           }
          ],
          "scattergl": [
           {
            "marker": {
             "colorbar": {
              "outlinewidth": 0,
              "ticks": ""
             }
            },
            "type": "scattergl"
           }
          ],
          "scattermapbox": [
           {
            "marker": {
             "colorbar": {
              "outlinewidth": 0,
              "ticks": ""
             }
            },
            "type": "scattermapbox"
           }
          ],
          "scatterpolar": [
           {
            "marker": {
             "colorbar": {
              "outlinewidth": 0,
              "ticks": ""
             }
            },
            "type": "scatterpolar"
           }
          ],
          "scatterpolargl": [
           {
            "marker": {
             "colorbar": {
              "outlinewidth": 0,
              "ticks": ""
             }
            },
            "type": "scatterpolargl"
           }
          ],
          "scatterternary": [
           {
            "marker": {
             "colorbar": {
              "outlinewidth": 0,
              "ticks": ""
             }
            },
            "type": "scatterternary"
           }
          ],
          "surface": [
           {
            "colorbar": {
             "outlinewidth": 0,
             "ticks": ""
            },
            "colorscale": [
             [
              0,
              "#0d0887"
             ],
             [
              0.1111111111111111,
              "#46039f"
             ],
             [
              0.2222222222222222,
              "#7201a8"
             ],
             [
              0.3333333333333333,
              "#9c179e"
             ],
             [
              0.4444444444444444,
              "#bd3786"
             ],
             [
              0.5555555555555556,
              "#d8576b"
             ],
             [
              0.6666666666666666,
              "#ed7953"
             ],
             [
              0.7777777777777778,
              "#fb9f3a"
             ],
             [
              0.8888888888888888,
              "#fdca26"
             ],
             [
              1,
              "#f0f921"
             ]
            ],
            "type": "surface"
           }
          ],
          "table": [
           {
            "cells": {
             "fill": {
              "color": "#EBF0F8"
             },
             "line": {
              "color": "white"
             }
            },
            "header": {
             "fill": {
              "color": "#C8D4E3"
             },
             "line": {
              "color": "white"
             }
            },
            "type": "table"
           }
          ]
         },
         "layout": {
          "annotationdefaults": {
           "arrowcolor": "#2a3f5f",
           "arrowhead": 0,
           "arrowwidth": 1
          },
          "autotypenumbers": "strict",
          "coloraxis": {
           "colorbar": {
            "outlinewidth": 0,
            "ticks": ""
           }
          },
          "colorscale": {
           "diverging": [
            [
             0,
             "#8e0152"
            ],
            [
             0.1,
             "#c51b7d"
            ],
            [
             0.2,
             "#de77ae"
            ],
            [
             0.3,
             "#f1b6da"
            ],
            [
             0.4,
             "#fde0ef"
            ],
            [
             0.5,
             "#f7f7f7"
            ],
            [
             0.6,
             "#e6f5d0"
            ],
            [
             0.7,
             "#b8e186"
            ],
            [
             0.8,
             "#7fbc41"
            ],
            [
             0.9,
             "#4d9221"
            ],
            [
             1,
             "#276419"
            ]
           ],
           "sequential": [
            [
             0,
             "#0d0887"
            ],
            [
             0.1111111111111111,
             "#46039f"
            ],
            [
             0.2222222222222222,
             "#7201a8"
            ],
            [
             0.3333333333333333,
             "#9c179e"
            ],
            [
             0.4444444444444444,
             "#bd3786"
            ],
            [
             0.5555555555555556,
             "#d8576b"
            ],
            [
             0.6666666666666666,
             "#ed7953"
            ],
            [
             0.7777777777777778,
             "#fb9f3a"
            ],
            [
             0.8888888888888888,
             "#fdca26"
            ],
            [
             1,
             "#f0f921"
            ]
           ],
           "sequentialminus": [
            [
             0,
             "#0d0887"
            ],
            [
             0.1111111111111111,
             "#46039f"
            ],
            [
             0.2222222222222222,
             "#7201a8"
            ],
            [
             0.3333333333333333,
             "#9c179e"
            ],
            [
             0.4444444444444444,
             "#bd3786"
            ],
            [
             0.5555555555555556,
             "#d8576b"
            ],
            [
             0.6666666666666666,
             "#ed7953"
            ],
            [
             0.7777777777777778,
             "#fb9f3a"
            ],
            [
             0.8888888888888888,
             "#fdca26"
            ],
            [
             1,
             "#f0f921"
            ]
           ]
          },
          "colorway": [
           "#636efa",
           "#EF553B",
           "#00cc96",
           "#ab63fa",
           "#FFA15A",
           "#19d3f3",
           "#FF6692",
           "#B6E880",
           "#FF97FF",
           "#FECB52"
          ],
          "font": {
           "color": "#2a3f5f"
          },
          "geo": {
           "bgcolor": "white",
           "lakecolor": "white",
           "landcolor": "#E5ECF6",
           "showlakes": true,
           "showland": true,
           "subunitcolor": "white"
          },
          "hoverlabel": {
           "align": "left"
          },
          "hovermode": "closest",
          "mapbox": {
           "style": "light"
          },
          "paper_bgcolor": "white",
          "plot_bgcolor": "#E5ECF6",
          "polar": {
           "angularaxis": {
            "gridcolor": "white",
            "linecolor": "white",
            "ticks": ""
           },
           "bgcolor": "#E5ECF6",
           "radialaxis": {
            "gridcolor": "white",
            "linecolor": "white",
            "ticks": ""
           }
          },
          "scene": {
           "xaxis": {
            "backgroundcolor": "#E5ECF6",
            "gridcolor": "white",
            "gridwidth": 2,
            "linecolor": "white",
            "showbackground": true,
            "ticks": "",
            "zerolinecolor": "white"
           },
           "yaxis": {
            "backgroundcolor": "#E5ECF6",
            "gridcolor": "white",
            "gridwidth": 2,
            "linecolor": "white",
            "showbackground": true,
            "ticks": "",
            "zerolinecolor": "white"
           },
           "zaxis": {
            "backgroundcolor": "#E5ECF6",
            "gridcolor": "white",
            "gridwidth": 2,
            "linecolor": "white",
            "showbackground": true,
            "ticks": "",
            "zerolinecolor": "white"
           }
          },
          "shapedefaults": {
           "line": {
            "color": "#2a3f5f"
           }
          },
          "ternary": {
           "aaxis": {
            "gridcolor": "white",
            "linecolor": "white",
            "ticks": ""
           },
           "baxis": {
            "gridcolor": "white",
            "linecolor": "white",
            "ticks": ""
           },
           "bgcolor": "#E5ECF6",
           "caxis": {
            "gridcolor": "white",
            "linecolor": "white",
            "ticks": ""
           }
          },
          "title": {
           "x": 0.05
          },
          "xaxis": {
           "automargin": true,
           "gridcolor": "white",
           "linecolor": "white",
           "ticks": "",
           "title": {
            "standoff": 15
           },
           "zerolinecolor": "white",
           "zerolinewidth": 2
          },
          "yaxis": {
           "automargin": true,
           "gridcolor": "white",
           "linecolor": "white",
           "ticks": "",
           "title": {
            "standoff": 15
           },
           "zerolinecolor": "white",
           "zerolinewidth": 2
          }
         }
        },
        "title": {
         "font": {
          "size": 25
         },
         "text": "Weekly Job Report"
        },
        "xaxis": {
         "anchor": "y",
         "domain": [
          0,
          1
         ],
         "title": {
          "text": ""
         }
        },
        "yaxis": {
         "anchor": "x",
         "domain": [
          0,
          1
         ],
         "title": {
          "text": "# of jobs added"
         }
        }
       }
      },
      "text/html": [
       "<div>                            <div id=\"eec57d34-16e0-48f0-bf00-b0cca815a77a\" class=\"plotly-graph-div\" style=\"height:525px; width:100%;\"></div>            <script type=\"text/javascript\">                require([\"plotly\"], function(Plotly) {                    window.PLOTLYENV=window.PLOTLYENV || {};                                    if (document.getElementById(\"eec57d34-16e0-48f0-bf00-b0cca815a77a\")) {                    Plotly.newPlot(                        \"eec57d34-16e0-48f0-bf00-b0cca815a77a\",                        [{\"alignmentgroup\":\"True\",\"bingroup\":\"x\",\"hovertemplate\":\"remote=No<br>count=%{y}<extra></extra>\",\"legendgroup\":\"No\",\"marker\":{\"color\":\"#636efa\",\"pattern\":{\"shape\":\"\"}},\"name\":\"No\",\"nbinsx\":20,\"offsetgroup\":\"No\",\"orientation\":\"v\",\"showlegend\":true,\"x\":[\"12/12/2022\",\"12/13/2022\",\"12/14/2022\",\"12/15/2022\",\"12/16/2022\",\"12/16/2022\",\"12/16/2022\",\"12/17/2022\",\"12/17/2022\",\"12/18/2022\",\"12/18/2022\",\"12/19/2022\"],\"xaxis\":\"x\",\"yaxis\":\"y\",\"type\":\"histogram\"},{\"alignmentgroup\":\"True\",\"bingroup\":\"x\",\"hovertemplate\":\"remote=Yes<br>count=%{y}<extra></extra>\",\"legendgroup\":\"Yes\",\"marker\":{\"color\":\"#EF553B\",\"pattern\":{\"shape\":\"\"}},\"name\":\"Yes\",\"nbinsx\":20,\"offsetgroup\":\"Yes\",\"orientation\":\"v\",\"showlegend\":true,\"x\":[\"12/19/2022\",\"12/19/2022\"],\"xaxis\":\"x\",\"yaxis\":\"y\",\"type\":\"histogram\"}],                        {\"template\":{\"data\":{\"histogram2dcontour\":[{\"type\":\"histogram2dcontour\",\"colorbar\":{\"outlinewidth\":0,\"ticks\":\"\"},\"colorscale\":[[0.0,\"#0d0887\"],[0.1111111111111111,\"#46039f\"],[0.2222222222222222,\"#7201a8\"],[0.3333333333333333,\"#9c179e\"],[0.4444444444444444,\"#bd3786\"],[0.5555555555555556,\"#d8576b\"],[0.6666666666666666,\"#ed7953\"],[0.7777777777777778,\"#fb9f3a\"],[0.8888888888888888,\"#fdca26\"],[1.0,\"#f0f921\"]]}],\"choropleth\":[{\"type\":\"choropleth\",\"colorbar\":{\"outlinewidth\":0,\"ticks\":\"\"}}],\"histogram2d\":[{\"type\":\"histogram2d\",\"colorbar\":{\"outlinewidth\":0,\"ticks\":\"\"},\"colorscale\":[[0.0,\"#0d0887\"],[0.1111111111111111,\"#46039f\"],[0.2222222222222222,\"#7201a8\"],[0.3333333333333333,\"#9c179e\"],[0.4444444444444444,\"#bd3786\"],[0.5555555555555556,\"#d8576b\"],[0.6666666666666666,\"#ed7953\"],[0.7777777777777778,\"#fb9f3a\"],[0.8888888888888888,\"#fdca26\"],[1.0,\"#f0f921\"]]}],\"heatmap\":[{\"type\":\"heatmap\",\"colorbar\":{\"outlinewidth\":0,\"ticks\":\"\"},\"colorscale\":[[0.0,\"#0d0887\"],[0.1111111111111111,\"#46039f\"],[0.2222222222222222,\"#7201a8\"],[0.3333333333333333,\"#9c179e\"],[0.4444444444444444,\"#bd3786\"],[0.5555555555555556,\"#d8576b\"],[0.6666666666666666,\"#ed7953\"],[0.7777777777777778,\"#fb9f3a\"],[0.8888888888888888,\"#fdca26\"],[1.0,\"#f0f921\"]]}],\"heatmapgl\":[{\"type\":\"heatmapgl\",\"colorbar\":{\"outlinewidth\":0,\"ticks\":\"\"},\"colorscale\":[[0.0,\"#0d0887\"],[0.1111111111111111,\"#46039f\"],[0.2222222222222222,\"#7201a8\"],[0.3333333333333333,\"#9c179e\"],[0.4444444444444444,\"#bd3786\"],[0.5555555555555556,\"#d8576b\"],[0.6666666666666666,\"#ed7953\"],[0.7777777777777778,\"#fb9f3a\"],[0.8888888888888888,\"#fdca26\"],[1.0,\"#f0f921\"]]}],\"contourcarpet\":[{\"type\":\"contourcarpet\",\"colorbar\":{\"outlinewidth\":0,\"ticks\":\"\"}}],\"contour\":[{\"type\":\"contour\",\"colorbar\":{\"outlinewidth\":0,\"ticks\":\"\"},\"colorscale\":[[0.0,\"#0d0887\"],[0.1111111111111111,\"#46039f\"],[0.2222222222222222,\"#7201a8\"],[0.3333333333333333,\"#9c179e\"],[0.4444444444444444,\"#bd3786\"],[0.5555555555555556,\"#d8576b\"],[0.6666666666666666,\"#ed7953\"],[0.7777777777777778,\"#fb9f3a\"],[0.8888888888888888,\"#fdca26\"],[1.0,\"#f0f921\"]]}],\"surface\":[{\"type\":\"surface\",\"colorbar\":{\"outlinewidth\":0,\"ticks\":\"\"},\"colorscale\":[[0.0,\"#0d0887\"],[0.1111111111111111,\"#46039f\"],[0.2222222222222222,\"#7201a8\"],[0.3333333333333333,\"#9c179e\"],[0.4444444444444444,\"#bd3786\"],[0.5555555555555556,\"#d8576b\"],[0.6666666666666666,\"#ed7953\"],[0.7777777777777778,\"#fb9f3a\"],[0.8888888888888888,\"#fdca26\"],[1.0,\"#f0f921\"]]}],\"mesh3d\":[{\"type\":\"mesh3d\",\"colorbar\":{\"outlinewidth\":0,\"ticks\":\"\"}}],\"scatter\":[{\"fillpattern\":{\"fillmode\":\"overlay\",\"size\":10,\"solidity\":0.2},\"type\":\"scatter\"}],\"parcoords\":[{\"type\":\"parcoords\",\"line\":{\"colorbar\":{\"outlinewidth\":0,\"ticks\":\"\"}}}],\"scatterpolargl\":[{\"type\":\"scatterpolargl\",\"marker\":{\"colorbar\":{\"outlinewidth\":0,\"ticks\":\"\"}}}],\"bar\":[{\"error_x\":{\"color\":\"#2a3f5f\"},\"error_y\":{\"color\":\"#2a3f5f\"},\"marker\":{\"line\":{\"color\":\"#E5ECF6\",\"width\":0.5},\"pattern\":{\"fillmode\":\"overlay\",\"size\":10,\"solidity\":0.2}},\"type\":\"bar\"}],\"scattergeo\":[{\"type\":\"scattergeo\",\"marker\":{\"colorbar\":{\"outlinewidth\":0,\"ticks\":\"\"}}}],\"scatterpolar\":[{\"type\":\"scatterpolar\",\"marker\":{\"colorbar\":{\"outlinewidth\":0,\"ticks\":\"\"}}}],\"histogram\":[{\"marker\":{\"pattern\":{\"fillmode\":\"overlay\",\"size\":10,\"solidity\":0.2}},\"type\":\"histogram\"}],\"scattergl\":[{\"type\":\"scattergl\",\"marker\":{\"colorbar\":{\"outlinewidth\":0,\"ticks\":\"\"}}}],\"scatter3d\":[{\"type\":\"scatter3d\",\"line\":{\"colorbar\":{\"outlinewidth\":0,\"ticks\":\"\"}},\"marker\":{\"colorbar\":{\"outlinewidth\":0,\"ticks\":\"\"}}}],\"scattermapbox\":[{\"type\":\"scattermapbox\",\"marker\":{\"colorbar\":{\"outlinewidth\":0,\"ticks\":\"\"}}}],\"scatterternary\":[{\"type\":\"scatterternary\",\"marker\":{\"colorbar\":{\"outlinewidth\":0,\"ticks\":\"\"}}}],\"scattercarpet\":[{\"type\":\"scattercarpet\",\"marker\":{\"colorbar\":{\"outlinewidth\":0,\"ticks\":\"\"}}}],\"carpet\":[{\"aaxis\":{\"endlinecolor\":\"#2a3f5f\",\"gridcolor\":\"white\",\"linecolor\":\"white\",\"minorgridcolor\":\"white\",\"startlinecolor\":\"#2a3f5f\"},\"baxis\":{\"endlinecolor\":\"#2a3f5f\",\"gridcolor\":\"white\",\"linecolor\":\"white\",\"minorgridcolor\":\"white\",\"startlinecolor\":\"#2a3f5f\"},\"type\":\"carpet\"}],\"table\":[{\"cells\":{\"fill\":{\"color\":\"#EBF0F8\"},\"line\":{\"color\":\"white\"}},\"header\":{\"fill\":{\"color\":\"#C8D4E3\"},\"line\":{\"color\":\"white\"}},\"type\":\"table\"}],\"barpolar\":[{\"marker\":{\"line\":{\"color\":\"#E5ECF6\",\"width\":0.5},\"pattern\":{\"fillmode\":\"overlay\",\"size\":10,\"solidity\":0.2}},\"type\":\"barpolar\"}],\"pie\":[{\"automargin\":true,\"type\":\"pie\"}]},\"layout\":{\"autotypenumbers\":\"strict\",\"colorway\":[\"#636efa\",\"#EF553B\",\"#00cc96\",\"#ab63fa\",\"#FFA15A\",\"#19d3f3\",\"#FF6692\",\"#B6E880\",\"#FF97FF\",\"#FECB52\"],\"font\":{\"color\":\"#2a3f5f\"},\"hovermode\":\"closest\",\"hoverlabel\":{\"align\":\"left\"},\"paper_bgcolor\":\"white\",\"plot_bgcolor\":\"#E5ECF6\",\"polar\":{\"bgcolor\":\"#E5ECF6\",\"angularaxis\":{\"gridcolor\":\"white\",\"linecolor\":\"white\",\"ticks\":\"\"},\"radialaxis\":{\"gridcolor\":\"white\",\"linecolor\":\"white\",\"ticks\":\"\"}},\"ternary\":{\"bgcolor\":\"#E5ECF6\",\"aaxis\":{\"gridcolor\":\"white\",\"linecolor\":\"white\",\"ticks\":\"\"},\"baxis\":{\"gridcolor\":\"white\",\"linecolor\":\"white\",\"ticks\":\"\"},\"caxis\":{\"gridcolor\":\"white\",\"linecolor\":\"white\",\"ticks\":\"\"}},\"coloraxis\":{\"colorbar\":{\"outlinewidth\":0,\"ticks\":\"\"}},\"colorscale\":{\"sequential\":[[0.0,\"#0d0887\"],[0.1111111111111111,\"#46039f\"],[0.2222222222222222,\"#7201a8\"],[0.3333333333333333,\"#9c179e\"],[0.4444444444444444,\"#bd3786\"],[0.5555555555555556,\"#d8576b\"],[0.6666666666666666,\"#ed7953\"],[0.7777777777777778,\"#fb9f3a\"],[0.8888888888888888,\"#fdca26\"],[1.0,\"#f0f921\"]],\"sequentialminus\":[[0.0,\"#0d0887\"],[0.1111111111111111,\"#46039f\"],[0.2222222222222222,\"#7201a8\"],[0.3333333333333333,\"#9c179e\"],[0.4444444444444444,\"#bd3786\"],[0.5555555555555556,\"#d8576b\"],[0.6666666666666666,\"#ed7953\"],[0.7777777777777778,\"#fb9f3a\"],[0.8888888888888888,\"#fdca26\"],[1.0,\"#f0f921\"]],\"diverging\":[[0,\"#8e0152\"],[0.1,\"#c51b7d\"],[0.2,\"#de77ae\"],[0.3,\"#f1b6da\"],[0.4,\"#fde0ef\"],[0.5,\"#f7f7f7\"],[0.6,\"#e6f5d0\"],[0.7,\"#b8e186\"],[0.8,\"#7fbc41\"],[0.9,\"#4d9221\"],[1,\"#276419\"]]},\"xaxis\":{\"gridcolor\":\"white\",\"linecolor\":\"white\",\"ticks\":\"\",\"title\":{\"standoff\":15},\"zerolinecolor\":\"white\",\"automargin\":true,\"zerolinewidth\":2},\"yaxis\":{\"gridcolor\":\"white\",\"linecolor\":\"white\",\"ticks\":\"\",\"title\":{\"standoff\":15},\"zerolinecolor\":\"white\",\"automargin\":true,\"zerolinewidth\":2},\"scene\":{\"xaxis\":{\"backgroundcolor\":\"#E5ECF6\",\"gridcolor\":\"white\",\"linecolor\":\"white\",\"showbackground\":true,\"ticks\":\"\",\"zerolinecolor\":\"white\",\"gridwidth\":2},\"yaxis\":{\"backgroundcolor\":\"#E5ECF6\",\"gridcolor\":\"white\",\"linecolor\":\"white\",\"showbackground\":true,\"ticks\":\"\",\"zerolinecolor\":\"white\",\"gridwidth\":2},\"zaxis\":{\"backgroundcolor\":\"#E5ECF6\",\"gridcolor\":\"white\",\"linecolor\":\"white\",\"showbackground\":true,\"ticks\":\"\",\"zerolinecolor\":\"white\",\"gridwidth\":2}},\"shapedefaults\":{\"line\":{\"color\":\"#2a3f5f\"}},\"annotationdefaults\":{\"arrowcolor\":\"#2a3f5f\",\"arrowhead\":0,\"arrowwidth\":1},\"geo\":{\"bgcolor\":\"white\",\"landcolor\":\"#E5ECF6\",\"subunitcolor\":\"white\",\"showland\":true,\"showlakes\":true,\"lakecolor\":\"white\"},\"title\":{\"x\":0.05},\"mapbox\":{\"style\":\"light\"}}},\"xaxis\":{\"anchor\":\"y\",\"domain\":[0.0,1.0],\"title\":{\"text\":\"\"}},\"yaxis\":{\"anchor\":\"x\",\"domain\":[0.0,1.0],\"title\":{\"text\":\"# of jobs added\"}},\"legend\":{\"title\":{\"text\":\"remote\"},\"tracegroupgap\":0},\"title\":{\"text\":\"Weekly Job Report\",\"font\":{\"size\":25}},\"barmode\":\"relative\"},                        {\"responsive\": true}                    ).then(function(){\n",
       "                            \n",
       "var gd = document.getElementById('eec57d34-16e0-48f0-bf00-b0cca815a77a');\n",
       "var x = new MutationObserver(function (mutations, observer) {{\n",
       "        var display = window.getComputedStyle(gd).display;\n",
       "        if (!display || display === 'none') {{\n",
       "            console.log([gd, 'removed!']);\n",
       "            Plotly.purge(gd);\n",
       "            observer.disconnect();\n",
       "        }}\n",
       "}});\n",
       "\n",
       "// Listen for the removal of the full notebook cells\n",
       "var notebookContainer = gd.closest('#notebook-container');\n",
       "if (notebookContainer) {{\n",
       "    x.observe(notebookContainer, {childList: true});\n",
       "}}\n",
       "\n",
       "// Listen for the clearing of the current output cell\n",
       "var outputEl = gd.closest('.output');\n",
       "if (outputEl) {{\n",
       "    x.observe(outputEl, {childList: true});\n",
       "}}\n",
       "\n",
       "                        })                };                });            </script>        </div>"
      ]
     },
     "metadata": {},
     "output_type": "display_data"
    }
   ],
   "source": [
    "weekly_report = job_report.loc[(job_report['inserted_at'] >= format_week_ago) & (job_report['inserted_at'] <= format_today)]\n",
    "fig = px.histogram(\n",
    "    weekly_report, \n",
    "    x='inserted_at', \n",
    "    nbins=20, \n",
    "    title='Weekly Job Report',\n",
    "    color='remote',\n",
    "#     needed to remove unnecessary date label\n",
    "    hover_data={\n",
    "        'inserted_at':''\n",
    "    }\n",
    ").update_layout(yaxis_title='# of jobs added', title_font_size=25, xaxis_title='')\n",
    "\n",
    "fig.show()"
   ]
  },
  {
   "cell_type": "markdown",
   "id": "3578ee0d",
   "metadata": {},
   "source": [
    "## Data cards/ KPIs"
   ]
  },
  {
   "cell_type": "code",
   "execution_count": 311,
   "id": "98c1152f",
   "metadata": {},
   "outputs": [
    {
     "data": {
      "text/plain": [
       "1"
      ]
     },
     "execution_count": 311,
     "metadata": {},
     "output_type": "execute_result"
    }
   ],
   "source": [
    "len(job_report[job_report['inserted_at'] == format_today])"
   ]
  },
  {
   "cell_type": "code",
   "execution_count": 195,
   "id": "7ba15918",
   "metadata": {},
   "outputs": [
    {
     "data": {
      "application/vnd.plotly.v1+json": {
       "config": {
        "plotlyServerURL": "https://plot.ly"
       },
       "data": [
        {
         "delta": {
          "reference": 160
         },
         "domain": {
          "column": 0,
          "row": 0
         },
         "gauge": {
          "axis": {
           "visible": false
          }
         },
         "type": "indicator",
         "value": 200
        }
       ],
       "layout": {
        "grid": {
         "columns": 2,
         "pattern": "independent",
         "rows": 2
        },
        "template": {
         "data": {
          "bar": [
           {
            "error_x": {
             "color": "#2a3f5f"
            },
            "error_y": {
             "color": "#2a3f5f"
            },
            "marker": {
             "line": {
              "color": "#E5ECF6",
              "width": 0.5
             },
             "pattern": {
              "fillmode": "overlay",
              "size": 10,
              "solidity": 0.2
             }
            },
            "type": "bar"
           }
          ],
          "barpolar": [
           {
            "marker": {
             "line": {
              "color": "#E5ECF6",
              "width": 0.5
             },
             "pattern": {
              "fillmode": "overlay",
              "size": 10,
              "solidity": 0.2
             }
            },
            "type": "barpolar"
           }
          ],
          "carpet": [
           {
            "aaxis": {
             "endlinecolor": "#2a3f5f",
             "gridcolor": "white",
             "linecolor": "white",
             "minorgridcolor": "white",
             "startlinecolor": "#2a3f5f"
            },
            "baxis": {
             "endlinecolor": "#2a3f5f",
             "gridcolor": "white",
             "linecolor": "white",
             "minorgridcolor": "white",
             "startlinecolor": "#2a3f5f"
            },
            "type": "carpet"
           }
          ],
          "choropleth": [
           {
            "colorbar": {
             "outlinewidth": 0,
             "ticks": ""
            },
            "type": "choropleth"
           }
          ],
          "contour": [
           {
            "colorbar": {
             "outlinewidth": 0,
             "ticks": ""
            },
            "colorscale": [
             [
              0,
              "#0d0887"
             ],
             [
              0.1111111111111111,
              "#46039f"
             ],
             [
              0.2222222222222222,
              "#7201a8"
             ],
             [
              0.3333333333333333,
              "#9c179e"
             ],
             [
              0.4444444444444444,
              "#bd3786"
             ],
             [
              0.5555555555555556,
              "#d8576b"
             ],
             [
              0.6666666666666666,
              "#ed7953"
             ],
             [
              0.7777777777777778,
              "#fb9f3a"
             ],
             [
              0.8888888888888888,
              "#fdca26"
             ],
             [
              1,
              "#f0f921"
             ]
            ],
            "type": "contour"
           }
          ],
          "contourcarpet": [
           {
            "colorbar": {
             "outlinewidth": 0,
             "ticks": ""
            },
            "type": "contourcarpet"
           }
          ],
          "heatmap": [
           {
            "colorbar": {
             "outlinewidth": 0,
             "ticks": ""
            },
            "colorscale": [
             [
              0,
              "#0d0887"
             ],
             [
              0.1111111111111111,
              "#46039f"
             ],
             [
              0.2222222222222222,
              "#7201a8"
             ],
             [
              0.3333333333333333,
              "#9c179e"
             ],
             [
              0.4444444444444444,
              "#bd3786"
             ],
             [
              0.5555555555555556,
              "#d8576b"
             ],
             [
              0.6666666666666666,
              "#ed7953"
             ],
             [
              0.7777777777777778,
              "#fb9f3a"
             ],
             [
              0.8888888888888888,
              "#fdca26"
             ],
             [
              1,
              "#f0f921"
             ]
            ],
            "type": "heatmap"
           }
          ],
          "heatmapgl": [
           {
            "colorbar": {
             "outlinewidth": 0,
             "ticks": ""
            },
            "colorscale": [
             [
              0,
              "#0d0887"
             ],
             [
              0.1111111111111111,
              "#46039f"
             ],
             [
              0.2222222222222222,
              "#7201a8"
             ],
             [
              0.3333333333333333,
              "#9c179e"
             ],
             [
              0.4444444444444444,
              "#bd3786"
             ],
             [
              0.5555555555555556,
              "#d8576b"
             ],
             [
              0.6666666666666666,
              "#ed7953"
             ],
             [
              0.7777777777777778,
              "#fb9f3a"
             ],
             [
              0.8888888888888888,
              "#fdca26"
             ],
             [
              1,
              "#f0f921"
             ]
            ],
            "type": "heatmapgl"
           }
          ],
          "histogram": [
           {
            "marker": {
             "pattern": {
              "fillmode": "overlay",
              "size": 10,
              "solidity": 0.2
             }
            },
            "type": "histogram"
           }
          ],
          "histogram2d": [
           {
            "colorbar": {
             "outlinewidth": 0,
             "ticks": ""
            },
            "colorscale": [
             [
              0,
              "#0d0887"
             ],
             [
              0.1111111111111111,
              "#46039f"
             ],
             [
              0.2222222222222222,
              "#7201a8"
             ],
             [
              0.3333333333333333,
              "#9c179e"
             ],
             [
              0.4444444444444444,
              "#bd3786"
             ],
             [
              0.5555555555555556,
              "#d8576b"
             ],
             [
              0.6666666666666666,
              "#ed7953"
             ],
             [
              0.7777777777777778,
              "#fb9f3a"
             ],
             [
              0.8888888888888888,
              "#fdca26"
             ],
             [
              1,
              "#f0f921"
             ]
            ],
            "type": "histogram2d"
           }
          ],
          "histogram2dcontour": [
           {
            "colorbar": {
             "outlinewidth": 0,
             "ticks": ""
            },
            "colorscale": [
             [
              0,
              "#0d0887"
             ],
             [
              0.1111111111111111,
              "#46039f"
             ],
             [
              0.2222222222222222,
              "#7201a8"
             ],
             [
              0.3333333333333333,
              "#9c179e"
             ],
             [
              0.4444444444444444,
              "#bd3786"
             ],
             [
              0.5555555555555556,
              "#d8576b"
             ],
             [
              0.6666666666666666,
              "#ed7953"
             ],
             [
              0.7777777777777778,
              "#fb9f3a"
             ],
             [
              0.8888888888888888,
              "#fdca26"
             ],
             [
              1,
              "#f0f921"
             ]
            ],
            "type": "histogram2dcontour"
           }
          ],
          "indicator": [
           {
            "mode": "number+delta+gauge",
            "title": {
             "text": "Speed"
            },
            "type": "indicator"
           }
          ],
          "mesh3d": [
           {
            "colorbar": {
             "outlinewidth": 0,
             "ticks": ""
            },
            "type": "mesh3d"
           }
          ],
          "parcoords": [
           {
            "line": {
             "colorbar": {
              "outlinewidth": 0,
              "ticks": ""
             }
            },
            "type": "parcoords"
           }
          ],
          "pie": [
           {
            "automargin": true,
            "type": "pie"
           }
          ],
          "scatter": [
           {
            "fillpattern": {
             "fillmode": "overlay",
             "size": 10,
             "solidity": 0.2
            },
            "type": "scatter"
           }
          ],
          "scatter3d": [
           {
            "line": {
             "colorbar": {
              "outlinewidth": 0,
              "ticks": ""
             }
            },
            "marker": {
             "colorbar": {
              "outlinewidth": 0,
              "ticks": ""
             }
            },
            "type": "scatter3d"
           }
          ],
          "scattercarpet": [
           {
            "marker": {
             "colorbar": {
              "outlinewidth": 0,
              "ticks": ""
             }
            },
            "type": "scattercarpet"
           }
          ],
          "scattergeo": [
           {
            "marker": {
             "colorbar": {
              "outlinewidth": 0,
              "ticks": ""
             }
            },
            "type": "scattergeo"
           }
          ],
          "scattergl": [
           {
            "marker": {
             "colorbar": {
              "outlinewidth": 0,
              "ticks": ""
             }
            },
            "type": "scattergl"
           }
          ],
          "scattermapbox": [
           {
            "marker": {
             "colorbar": {
              "outlinewidth": 0,
              "ticks": ""
             }
            },
            "type": "scattermapbox"
           }
          ],
          "scatterpolar": [
           {
            "marker": {
             "colorbar": {
              "outlinewidth": 0,
              "ticks": ""
             }
            },
            "type": "scatterpolar"
           }
          ],
          "scatterpolargl": [
           {
            "marker": {
             "colorbar": {
              "outlinewidth": 0,
              "ticks": ""
             }
            },
            "type": "scatterpolargl"
           }
          ],
          "scatterternary": [
           {
            "marker": {
             "colorbar": {
              "outlinewidth": 0,
              "ticks": ""
             }
            },
            "type": "scatterternary"
           }
          ],
          "surface": [
           {
            "colorbar": {
             "outlinewidth": 0,
             "ticks": ""
            },
            "colorscale": [
             [
              0,
              "#0d0887"
             ],
             [
              0.1111111111111111,
              "#46039f"
             ],
             [
              0.2222222222222222,
              "#7201a8"
             ],
             [
              0.3333333333333333,
              "#9c179e"
             ],
             [
              0.4444444444444444,
              "#bd3786"
             ],
             [
              0.5555555555555556,
              "#d8576b"
             ],
             [
              0.6666666666666666,
              "#ed7953"
             ],
             [
              0.7777777777777778,
              "#fb9f3a"
             ],
             [
              0.8888888888888888,
              "#fdca26"
             ],
             [
              1,
              "#f0f921"
             ]
            ],
            "type": "surface"
           }
          ],
          "table": [
           {
            "cells": {
             "fill": {
              "color": "#EBF0F8"
             },
             "line": {
              "color": "white"
             }
            },
            "header": {
             "fill": {
              "color": "#C8D4E3"
             },
             "line": {
              "color": "white"
             }
            },
            "type": "table"
           }
          ]
         },
         "layout": {
          "annotationdefaults": {
           "arrowcolor": "#2a3f5f",
           "arrowhead": 0,
           "arrowwidth": 1
          },
          "autotypenumbers": "strict",
          "coloraxis": {
           "colorbar": {
            "outlinewidth": 0,
            "ticks": ""
           }
          },
          "colorscale": {
           "diverging": [
            [
             0,
             "#8e0152"
            ],
            [
             0.1,
             "#c51b7d"
            ],
            [
             0.2,
             "#de77ae"
            ],
            [
             0.3,
             "#f1b6da"
            ],
            [
             0.4,
             "#fde0ef"
            ],
            [
             0.5,
             "#f7f7f7"
            ],
            [
             0.6,
             "#e6f5d0"
            ],
            [
             0.7,
             "#b8e186"
            ],
            [
             0.8,
             "#7fbc41"
            ],
            [
             0.9,
             "#4d9221"
            ],
            [
             1,
             "#276419"
            ]
           ],
           "sequential": [
            [
             0,
             "#0d0887"
            ],
            [
             0.1111111111111111,
             "#46039f"
            ],
            [
             0.2222222222222222,
             "#7201a8"
            ],
            [
             0.3333333333333333,
             "#9c179e"
            ],
            [
             0.4444444444444444,
             "#bd3786"
            ],
            [
             0.5555555555555556,
             "#d8576b"
            ],
            [
             0.6666666666666666,
             "#ed7953"
            ],
            [
             0.7777777777777778,
             "#fb9f3a"
            ],
            [
             0.8888888888888888,
             "#fdca26"
            ],
            [
             1,
             "#f0f921"
            ]
           ],
           "sequentialminus": [
            [
             0,
             "#0d0887"
            ],
            [
             0.1111111111111111,
             "#46039f"
            ],
            [
             0.2222222222222222,
             "#7201a8"
            ],
            [
             0.3333333333333333,
             "#9c179e"
            ],
            [
             0.4444444444444444,
             "#bd3786"
            ],
            [
             0.5555555555555556,
             "#d8576b"
            ],
            [
             0.6666666666666666,
             "#ed7953"
            ],
            [
             0.7777777777777778,
             "#fb9f3a"
            ],
            [
             0.8888888888888888,
             "#fdca26"
            ],
            [
             1,
             "#f0f921"
            ]
           ]
          },
          "colorway": [
           "#636efa",
           "#EF553B",
           "#00cc96",
           "#ab63fa",
           "#FFA15A",
           "#19d3f3",
           "#FF6692",
           "#B6E880",
           "#FF97FF",
           "#FECB52"
          ],
          "font": {
           "color": "#2a3f5f"
          },
          "geo": {
           "bgcolor": "white",
           "lakecolor": "white",
           "landcolor": "#E5ECF6",
           "showlakes": true,
           "showland": true,
           "subunitcolor": "white"
          },
          "hoverlabel": {
           "align": "left"
          },
          "hovermode": "closest",
          "mapbox": {
           "style": "light"
          },
          "paper_bgcolor": "white",
          "plot_bgcolor": "#E5ECF6",
          "polar": {
           "angularaxis": {
            "gridcolor": "white",
            "linecolor": "white",
            "ticks": ""
           },
           "bgcolor": "#E5ECF6",
           "radialaxis": {
            "gridcolor": "white",
            "linecolor": "white",
            "ticks": ""
           }
          },
          "scene": {
           "xaxis": {
            "backgroundcolor": "#E5ECF6",
            "gridcolor": "white",
            "gridwidth": 2,
            "linecolor": "white",
            "showbackground": true,
            "ticks": "",
            "zerolinecolor": "white"
           },
           "yaxis": {
            "backgroundcolor": "#E5ECF6",
            "gridcolor": "white",
            "gridwidth": 2,
            "linecolor": "white",
            "showbackground": true,
            "ticks": "",
            "zerolinecolor": "white"
           },
           "zaxis": {
            "backgroundcolor": "#E5ECF6",
            "gridcolor": "white",
            "gridwidth": 2,
            "linecolor": "white",
            "showbackground": true,
            "ticks": "",
            "zerolinecolor": "white"
           }
          },
          "shapedefaults": {
           "line": {
            "color": "#2a3f5f"
           }
          },
          "ternary": {
           "aaxis": {
            "gridcolor": "white",
            "linecolor": "white",
            "ticks": ""
           },
           "baxis": {
            "gridcolor": "white",
            "linecolor": "white",
            "ticks": ""
           },
           "bgcolor": "#E5ECF6",
           "caxis": {
            "gridcolor": "white",
            "linecolor": "white",
            "ticks": ""
           }
          },
          "title": {
           "x": 0.05
          },
          "xaxis": {
           "automargin": true,
           "gridcolor": "white",
           "linecolor": "white",
           "ticks": "",
           "title": {
            "standoff": 15
           },
           "zerolinecolor": "white",
           "zerolinewidth": 2
          },
          "yaxis": {
           "automargin": true,
           "gridcolor": "white",
           "linecolor": "white",
           "ticks": "",
           "title": {
            "standoff": 15
           },
           "zerolinecolor": "white",
           "zerolinewidth": 2
          }
         }
        }
       }
      },
      "text/html": [
       "<div>                            <div id=\"a6db970c-84e7-4191-b146-b233d84dd870\" class=\"plotly-graph-div\" style=\"height:525px; width:100%;\"></div>            <script type=\"text/javascript\">                require([\"plotly\"], function(Plotly) {                    window.PLOTLYENV=window.PLOTLYENV || {};                                    if (document.getElementById(\"a6db970c-84e7-4191-b146-b233d84dd870\")) {                    Plotly.newPlot(                        \"a6db970c-84e7-4191-b146-b233d84dd870\",                        [{\"delta\":{\"reference\":160},\"domain\":{\"column\":0,\"row\":0},\"gauge\":{\"axis\":{\"visible\":false}},\"value\":200,\"type\":\"indicator\"}],                        {\"template\":{\"data\":{\"histogram2dcontour\":[{\"type\":\"histogram2dcontour\",\"colorbar\":{\"outlinewidth\":0,\"ticks\":\"\"},\"colorscale\":[[0.0,\"#0d0887\"],[0.1111111111111111,\"#46039f\"],[0.2222222222222222,\"#7201a8\"],[0.3333333333333333,\"#9c179e\"],[0.4444444444444444,\"#bd3786\"],[0.5555555555555556,\"#d8576b\"],[0.6666666666666666,\"#ed7953\"],[0.7777777777777778,\"#fb9f3a\"],[0.8888888888888888,\"#fdca26\"],[1.0,\"#f0f921\"]]}],\"choropleth\":[{\"type\":\"choropleth\",\"colorbar\":{\"outlinewidth\":0,\"ticks\":\"\"}}],\"histogram2d\":[{\"type\":\"histogram2d\",\"colorbar\":{\"outlinewidth\":0,\"ticks\":\"\"},\"colorscale\":[[0.0,\"#0d0887\"],[0.1111111111111111,\"#46039f\"],[0.2222222222222222,\"#7201a8\"],[0.3333333333333333,\"#9c179e\"],[0.4444444444444444,\"#bd3786\"],[0.5555555555555556,\"#d8576b\"],[0.6666666666666666,\"#ed7953\"],[0.7777777777777778,\"#fb9f3a\"],[0.8888888888888888,\"#fdca26\"],[1.0,\"#f0f921\"]]}],\"heatmap\":[{\"type\":\"heatmap\",\"colorbar\":{\"outlinewidth\":0,\"ticks\":\"\"},\"colorscale\":[[0.0,\"#0d0887\"],[0.1111111111111111,\"#46039f\"],[0.2222222222222222,\"#7201a8\"],[0.3333333333333333,\"#9c179e\"],[0.4444444444444444,\"#bd3786\"],[0.5555555555555556,\"#d8576b\"],[0.6666666666666666,\"#ed7953\"],[0.7777777777777778,\"#fb9f3a\"],[0.8888888888888888,\"#fdca26\"],[1.0,\"#f0f921\"]]}],\"heatmapgl\":[{\"type\":\"heatmapgl\",\"colorbar\":{\"outlinewidth\":0,\"ticks\":\"\"},\"colorscale\":[[0.0,\"#0d0887\"],[0.1111111111111111,\"#46039f\"],[0.2222222222222222,\"#7201a8\"],[0.3333333333333333,\"#9c179e\"],[0.4444444444444444,\"#bd3786\"],[0.5555555555555556,\"#d8576b\"],[0.6666666666666666,\"#ed7953\"],[0.7777777777777778,\"#fb9f3a\"],[0.8888888888888888,\"#fdca26\"],[1.0,\"#f0f921\"]]}],\"contourcarpet\":[{\"type\":\"contourcarpet\",\"colorbar\":{\"outlinewidth\":0,\"ticks\":\"\"}}],\"contour\":[{\"type\":\"contour\",\"colorbar\":{\"outlinewidth\":0,\"ticks\":\"\"},\"colorscale\":[[0.0,\"#0d0887\"],[0.1111111111111111,\"#46039f\"],[0.2222222222222222,\"#7201a8\"],[0.3333333333333333,\"#9c179e\"],[0.4444444444444444,\"#bd3786\"],[0.5555555555555556,\"#d8576b\"],[0.6666666666666666,\"#ed7953\"],[0.7777777777777778,\"#fb9f3a\"],[0.8888888888888888,\"#fdca26\"],[1.0,\"#f0f921\"]]}],\"surface\":[{\"type\":\"surface\",\"colorbar\":{\"outlinewidth\":0,\"ticks\":\"\"},\"colorscale\":[[0.0,\"#0d0887\"],[0.1111111111111111,\"#46039f\"],[0.2222222222222222,\"#7201a8\"],[0.3333333333333333,\"#9c179e\"],[0.4444444444444444,\"#bd3786\"],[0.5555555555555556,\"#d8576b\"],[0.6666666666666666,\"#ed7953\"],[0.7777777777777778,\"#fb9f3a\"],[0.8888888888888888,\"#fdca26\"],[1.0,\"#f0f921\"]]}],\"mesh3d\":[{\"type\":\"mesh3d\",\"colorbar\":{\"outlinewidth\":0,\"ticks\":\"\"}}],\"scatter\":[{\"fillpattern\":{\"fillmode\":\"overlay\",\"size\":10,\"solidity\":0.2},\"type\":\"scatter\"}],\"parcoords\":[{\"type\":\"parcoords\",\"line\":{\"colorbar\":{\"outlinewidth\":0,\"ticks\":\"\"}}}],\"scatterpolargl\":[{\"type\":\"scatterpolargl\",\"marker\":{\"colorbar\":{\"outlinewidth\":0,\"ticks\":\"\"}}}],\"bar\":[{\"error_x\":{\"color\":\"#2a3f5f\"},\"error_y\":{\"color\":\"#2a3f5f\"},\"marker\":{\"line\":{\"color\":\"#E5ECF6\",\"width\":0.5},\"pattern\":{\"fillmode\":\"overlay\",\"size\":10,\"solidity\":0.2}},\"type\":\"bar\"}],\"scattergeo\":[{\"type\":\"scattergeo\",\"marker\":{\"colorbar\":{\"outlinewidth\":0,\"ticks\":\"\"}}}],\"scatterpolar\":[{\"type\":\"scatterpolar\",\"marker\":{\"colorbar\":{\"outlinewidth\":0,\"ticks\":\"\"}}}],\"histogram\":[{\"marker\":{\"pattern\":{\"fillmode\":\"overlay\",\"size\":10,\"solidity\":0.2}},\"type\":\"histogram\"}],\"scattergl\":[{\"type\":\"scattergl\",\"marker\":{\"colorbar\":{\"outlinewidth\":0,\"ticks\":\"\"}}}],\"scatter3d\":[{\"type\":\"scatter3d\",\"line\":{\"colorbar\":{\"outlinewidth\":0,\"ticks\":\"\"}},\"marker\":{\"colorbar\":{\"outlinewidth\":0,\"ticks\":\"\"}}}],\"scattermapbox\":[{\"type\":\"scattermapbox\",\"marker\":{\"colorbar\":{\"outlinewidth\":0,\"ticks\":\"\"}}}],\"scatterternary\":[{\"type\":\"scatterternary\",\"marker\":{\"colorbar\":{\"outlinewidth\":0,\"ticks\":\"\"}}}],\"scattercarpet\":[{\"type\":\"scattercarpet\",\"marker\":{\"colorbar\":{\"outlinewidth\":0,\"ticks\":\"\"}}}],\"carpet\":[{\"aaxis\":{\"endlinecolor\":\"#2a3f5f\",\"gridcolor\":\"white\",\"linecolor\":\"white\",\"minorgridcolor\":\"white\",\"startlinecolor\":\"#2a3f5f\"},\"baxis\":{\"endlinecolor\":\"#2a3f5f\",\"gridcolor\":\"white\",\"linecolor\":\"white\",\"minorgridcolor\":\"white\",\"startlinecolor\":\"#2a3f5f\"},\"type\":\"carpet\"}],\"table\":[{\"cells\":{\"fill\":{\"color\":\"#EBF0F8\"},\"line\":{\"color\":\"white\"}},\"header\":{\"fill\":{\"color\":\"#C8D4E3\"},\"line\":{\"color\":\"white\"}},\"type\":\"table\"}],\"barpolar\":[{\"marker\":{\"line\":{\"color\":\"#E5ECF6\",\"width\":0.5},\"pattern\":{\"fillmode\":\"overlay\",\"size\":10,\"solidity\":0.2}},\"type\":\"barpolar\"}],\"pie\":[{\"automargin\":true,\"type\":\"pie\"}],\"indicator\":[{\"mode\":\"number+delta+gauge\",\"title\":{\"text\":\"Speed\"},\"type\":\"indicator\"}]},\"layout\":{\"autotypenumbers\":\"strict\",\"colorway\":[\"#636efa\",\"#EF553B\",\"#00cc96\",\"#ab63fa\",\"#FFA15A\",\"#19d3f3\",\"#FF6692\",\"#B6E880\",\"#FF97FF\",\"#FECB52\"],\"font\":{\"color\":\"#2a3f5f\"},\"hovermode\":\"closest\",\"hoverlabel\":{\"align\":\"left\"},\"paper_bgcolor\":\"white\",\"plot_bgcolor\":\"#E5ECF6\",\"polar\":{\"bgcolor\":\"#E5ECF6\",\"angularaxis\":{\"gridcolor\":\"white\",\"linecolor\":\"white\",\"ticks\":\"\"},\"radialaxis\":{\"gridcolor\":\"white\",\"linecolor\":\"white\",\"ticks\":\"\"}},\"ternary\":{\"bgcolor\":\"#E5ECF6\",\"aaxis\":{\"gridcolor\":\"white\",\"linecolor\":\"white\",\"ticks\":\"\"},\"baxis\":{\"gridcolor\":\"white\",\"linecolor\":\"white\",\"ticks\":\"\"},\"caxis\":{\"gridcolor\":\"white\",\"linecolor\":\"white\",\"ticks\":\"\"}},\"coloraxis\":{\"colorbar\":{\"outlinewidth\":0,\"ticks\":\"\"}},\"colorscale\":{\"sequential\":[[0.0,\"#0d0887\"],[0.1111111111111111,\"#46039f\"],[0.2222222222222222,\"#7201a8\"],[0.3333333333333333,\"#9c179e\"],[0.4444444444444444,\"#bd3786\"],[0.5555555555555556,\"#d8576b\"],[0.6666666666666666,\"#ed7953\"],[0.7777777777777778,\"#fb9f3a\"],[0.8888888888888888,\"#fdca26\"],[1.0,\"#f0f921\"]],\"sequentialminus\":[[0.0,\"#0d0887\"],[0.1111111111111111,\"#46039f\"],[0.2222222222222222,\"#7201a8\"],[0.3333333333333333,\"#9c179e\"],[0.4444444444444444,\"#bd3786\"],[0.5555555555555556,\"#d8576b\"],[0.6666666666666666,\"#ed7953\"],[0.7777777777777778,\"#fb9f3a\"],[0.8888888888888888,\"#fdca26\"],[1.0,\"#f0f921\"]],\"diverging\":[[0,\"#8e0152\"],[0.1,\"#c51b7d\"],[0.2,\"#de77ae\"],[0.3,\"#f1b6da\"],[0.4,\"#fde0ef\"],[0.5,\"#f7f7f7\"],[0.6,\"#e6f5d0\"],[0.7,\"#b8e186\"],[0.8,\"#7fbc41\"],[0.9,\"#4d9221\"],[1,\"#276419\"]]},\"xaxis\":{\"gridcolor\":\"white\",\"linecolor\":\"white\",\"ticks\":\"\",\"title\":{\"standoff\":15},\"zerolinecolor\":\"white\",\"automargin\":true,\"zerolinewidth\":2},\"yaxis\":{\"gridcolor\":\"white\",\"linecolor\":\"white\",\"ticks\":\"\",\"title\":{\"standoff\":15},\"zerolinecolor\":\"white\",\"automargin\":true,\"zerolinewidth\":2},\"scene\":{\"xaxis\":{\"backgroundcolor\":\"#E5ECF6\",\"gridcolor\":\"white\",\"linecolor\":\"white\",\"showbackground\":true,\"ticks\":\"\",\"zerolinecolor\":\"white\",\"gridwidth\":2},\"yaxis\":{\"backgroundcolor\":\"#E5ECF6\",\"gridcolor\":\"white\",\"linecolor\":\"white\",\"showbackground\":true,\"ticks\":\"\",\"zerolinecolor\":\"white\",\"gridwidth\":2},\"zaxis\":{\"backgroundcolor\":\"#E5ECF6\",\"gridcolor\":\"white\",\"linecolor\":\"white\",\"showbackground\":true,\"ticks\":\"\",\"zerolinecolor\":\"white\",\"gridwidth\":2}},\"shapedefaults\":{\"line\":{\"color\":\"#2a3f5f\"}},\"annotationdefaults\":{\"arrowcolor\":\"#2a3f5f\",\"arrowhead\":0,\"arrowwidth\":1},\"geo\":{\"bgcolor\":\"white\",\"landcolor\":\"#E5ECF6\",\"subunitcolor\":\"white\",\"showland\":true,\"showlakes\":true,\"lakecolor\":\"white\"},\"title\":{\"x\":0.05},\"mapbox\":{\"style\":\"light\"}}},\"grid\":{\"rows\":2,\"columns\":2,\"pattern\":\"independent\"}},                        {\"responsive\": true}                    ).then(function(){\n",
       "                            \n",
       "var gd = document.getElementById('a6db970c-84e7-4191-b146-b233d84dd870');\n",
       "var x = new MutationObserver(function (mutations, observer) {{\n",
       "        var display = window.getComputedStyle(gd).display;\n",
       "        if (!display || display === 'none') {{\n",
       "            console.log([gd, 'removed!']);\n",
       "            Plotly.purge(gd);\n",
       "            observer.disconnect();\n",
       "        }}\n",
       "}});\n",
       "\n",
       "// Listen for the removal of the full notebook cells\n",
       "var notebookContainer = gd.closest('#notebook-container');\n",
       "if (notebookContainer) {{\n",
       "    x.observe(notebookContainer, {childList: true});\n",
       "}}\n",
       "\n",
       "// Listen for the clearing of the current output cell\n",
       "var outputEl = gd.closest('.output');\n",
       "if (outputEl) {{\n",
       "    x.observe(outputEl, {childList: true});\n",
       "}}\n",
       "\n",
       "                        })                };                });            </script>        </div>"
      ]
     },
     "metadata": {},
     "output_type": "display_data"
    }
   ],
   "source": [
    "# testing sample code\n",
    "fig1 = go.Figure()\n",
    "\n",
    "fig1.add_trace(go.Indicator(\n",
    "    value = 200,\n",
    "    delta = {'reference': 160},\n",
    "    gauge = {\n",
    "        'axis': {'visible': False}},\n",
    "    domain = {'row': 0, 'column': 0}))\n",
    "fig1.update_layout(\n",
    "    grid = {'rows': 2, 'columns': 2, 'pattern': \"independent\"},\n",
    "    template = {'data' : {'indicator': [{\n",
    "        'title': {'text': \"Speed\"},\n",
    "        'mode' : \"number+delta+gauge\"}]\n",
    "                         }})"
   ]
  },
  {
   "cell_type": "code",
   "execution_count": 196,
   "id": "66c5f92e",
   "metadata": {},
   "outputs": [
    {
     "data": {
      "application/vnd.plotly.v1+json": {
       "config": {
        "plotlyServerURL": "https://plot.ly"
       },
       "data": [
        {
         "delta": {
          "reference": 2
         },
         "mode": "number+delta",
         "title": {
          "text": "Jobs added today"
         },
         "type": "indicator",
         "value": 3
        }
       ],
       "layout": {
        "template": {
         "data": {
          "bar": [
           {
            "error_x": {
             "color": "#2a3f5f"
            },
            "error_y": {
             "color": "#2a3f5f"
            },
            "marker": {
             "line": {
              "color": "#E5ECF6",
              "width": 0.5
             },
             "pattern": {
              "fillmode": "overlay",
              "size": 10,
              "solidity": 0.2
             }
            },
            "type": "bar"
           }
          ],
          "barpolar": [
           {
            "marker": {
             "line": {
              "color": "#E5ECF6",
              "width": 0.5
             },
             "pattern": {
              "fillmode": "overlay",
              "size": 10,
              "solidity": 0.2
             }
            },
            "type": "barpolar"
           }
          ],
          "carpet": [
           {
            "aaxis": {
             "endlinecolor": "#2a3f5f",
             "gridcolor": "white",
             "linecolor": "white",
             "minorgridcolor": "white",
             "startlinecolor": "#2a3f5f"
            },
            "baxis": {
             "endlinecolor": "#2a3f5f",
             "gridcolor": "white",
             "linecolor": "white",
             "minorgridcolor": "white",
             "startlinecolor": "#2a3f5f"
            },
            "type": "carpet"
           }
          ],
          "choropleth": [
           {
            "colorbar": {
             "outlinewidth": 0,
             "ticks": ""
            },
            "type": "choropleth"
           }
          ],
          "contour": [
           {
            "colorbar": {
             "outlinewidth": 0,
             "ticks": ""
            },
            "colorscale": [
             [
              0,
              "#0d0887"
             ],
             [
              0.1111111111111111,
              "#46039f"
             ],
             [
              0.2222222222222222,
              "#7201a8"
             ],
             [
              0.3333333333333333,
              "#9c179e"
             ],
             [
              0.4444444444444444,
              "#bd3786"
             ],
             [
              0.5555555555555556,
              "#d8576b"
             ],
             [
              0.6666666666666666,
              "#ed7953"
             ],
             [
              0.7777777777777778,
              "#fb9f3a"
             ],
             [
              0.8888888888888888,
              "#fdca26"
             ],
             [
              1,
              "#f0f921"
             ]
            ],
            "type": "contour"
           }
          ],
          "contourcarpet": [
           {
            "colorbar": {
             "outlinewidth": 0,
             "ticks": ""
            },
            "type": "contourcarpet"
           }
          ],
          "heatmap": [
           {
            "colorbar": {
             "outlinewidth": 0,
             "ticks": ""
            },
            "colorscale": [
             [
              0,
              "#0d0887"
             ],
             [
              0.1111111111111111,
              "#46039f"
             ],
             [
              0.2222222222222222,
              "#7201a8"
             ],
             [
              0.3333333333333333,
              "#9c179e"
             ],
             [
              0.4444444444444444,
              "#bd3786"
             ],
             [
              0.5555555555555556,
              "#d8576b"
             ],
             [
              0.6666666666666666,
              "#ed7953"
             ],
             [
              0.7777777777777778,
              "#fb9f3a"
             ],
             [
              0.8888888888888888,
              "#fdca26"
             ],
             [
              1,
              "#f0f921"
             ]
            ],
            "type": "heatmap"
           }
          ],
          "heatmapgl": [
           {
            "colorbar": {
             "outlinewidth": 0,
             "ticks": ""
            },
            "colorscale": [
             [
              0,
              "#0d0887"
             ],
             [
              0.1111111111111111,
              "#46039f"
             ],
             [
              0.2222222222222222,
              "#7201a8"
             ],
             [
              0.3333333333333333,
              "#9c179e"
             ],
             [
              0.4444444444444444,
              "#bd3786"
             ],
             [
              0.5555555555555556,
              "#d8576b"
             ],
             [
              0.6666666666666666,
              "#ed7953"
             ],
             [
              0.7777777777777778,
              "#fb9f3a"
             ],
             [
              0.8888888888888888,
              "#fdca26"
             ],
             [
              1,
              "#f0f921"
             ]
            ],
            "type": "heatmapgl"
           }
          ],
          "histogram": [
           {
            "marker": {
             "pattern": {
              "fillmode": "overlay",
              "size": 10,
              "solidity": 0.2
             }
            },
            "type": "histogram"
           }
          ],
          "histogram2d": [
           {
            "colorbar": {
             "outlinewidth": 0,
             "ticks": ""
            },
            "colorscale": [
             [
              0,
              "#0d0887"
             ],
             [
              0.1111111111111111,
              "#46039f"
             ],
             [
              0.2222222222222222,
              "#7201a8"
             ],
             [
              0.3333333333333333,
              "#9c179e"
             ],
             [
              0.4444444444444444,
              "#bd3786"
             ],
             [
              0.5555555555555556,
              "#d8576b"
             ],
             [
              0.6666666666666666,
              "#ed7953"
             ],
             [
              0.7777777777777778,
              "#fb9f3a"
             ],
             [
              0.8888888888888888,
              "#fdca26"
             ],
             [
              1,
              "#f0f921"
             ]
            ],
            "type": "histogram2d"
           }
          ],
          "histogram2dcontour": [
           {
            "colorbar": {
             "outlinewidth": 0,
             "ticks": ""
            },
            "colorscale": [
             [
              0,
              "#0d0887"
             ],
             [
              0.1111111111111111,
              "#46039f"
             ],
             [
              0.2222222222222222,
              "#7201a8"
             ],
             [
              0.3333333333333333,
              "#9c179e"
             ],
             [
              0.4444444444444444,
              "#bd3786"
             ],
             [
              0.5555555555555556,
              "#d8576b"
             ],
             [
              0.6666666666666666,
              "#ed7953"
             ],
             [
              0.7777777777777778,
              "#fb9f3a"
             ],
             [
              0.8888888888888888,
              "#fdca26"
             ],
             [
              1,
              "#f0f921"
             ]
            ],
            "type": "histogram2dcontour"
           }
          ],
          "mesh3d": [
           {
            "colorbar": {
             "outlinewidth": 0,
             "ticks": ""
            },
            "type": "mesh3d"
           }
          ],
          "parcoords": [
           {
            "line": {
             "colorbar": {
              "outlinewidth": 0,
              "ticks": ""
             }
            },
            "type": "parcoords"
           }
          ],
          "pie": [
           {
            "automargin": true,
            "type": "pie"
           }
          ],
          "scatter": [
           {
            "fillpattern": {
             "fillmode": "overlay",
             "size": 10,
             "solidity": 0.2
            },
            "type": "scatter"
           }
          ],
          "scatter3d": [
           {
            "line": {
             "colorbar": {
              "outlinewidth": 0,
              "ticks": ""
             }
            },
            "marker": {
             "colorbar": {
              "outlinewidth": 0,
              "ticks": ""
             }
            },
            "type": "scatter3d"
           }
          ],
          "scattercarpet": [
           {
            "marker": {
             "colorbar": {
              "outlinewidth": 0,
              "ticks": ""
             }
            },
            "type": "scattercarpet"
           }
          ],
          "scattergeo": [
           {
            "marker": {
             "colorbar": {
              "outlinewidth": 0,
              "ticks": ""
             }
            },
            "type": "scattergeo"
           }
          ],
          "scattergl": [
           {
            "marker": {
             "colorbar": {
              "outlinewidth": 0,
              "ticks": ""
             }
            },
            "type": "scattergl"
           }
          ],
          "scattermapbox": [
           {
            "marker": {
             "colorbar": {
              "outlinewidth": 0,
              "ticks": ""
             }
            },
            "type": "scattermapbox"
           }
          ],
          "scatterpolar": [
           {
            "marker": {
             "colorbar": {
              "outlinewidth": 0,
              "ticks": ""
             }
            },
            "type": "scatterpolar"
           }
          ],
          "scatterpolargl": [
           {
            "marker": {
             "colorbar": {
              "outlinewidth": 0,
              "ticks": ""
             }
            },
            "type": "scatterpolargl"
           }
          ],
          "scatterternary": [
           {
            "marker": {
             "colorbar": {
              "outlinewidth": 0,
              "ticks": ""
             }
            },
            "type": "scatterternary"
           }
          ],
          "surface": [
           {
            "colorbar": {
             "outlinewidth": 0,
             "ticks": ""
            },
            "colorscale": [
             [
              0,
              "#0d0887"
             ],
             [
              0.1111111111111111,
              "#46039f"
             ],
             [
              0.2222222222222222,
              "#7201a8"
             ],
             [
              0.3333333333333333,
              "#9c179e"
             ],
             [
              0.4444444444444444,
              "#bd3786"
             ],
             [
              0.5555555555555556,
              "#d8576b"
             ],
             [
              0.6666666666666666,
              "#ed7953"
             ],
             [
              0.7777777777777778,
              "#fb9f3a"
             ],
             [
              0.8888888888888888,
              "#fdca26"
             ],
             [
              1,
              "#f0f921"
             ]
            ],
            "type": "surface"
           }
          ],
          "table": [
           {
            "cells": {
             "fill": {
              "color": "#EBF0F8"
             },
             "line": {
              "color": "white"
             }
            },
            "header": {
             "fill": {
              "color": "#C8D4E3"
             },
             "line": {
              "color": "white"
             }
            },
            "type": "table"
           }
          ]
         },
         "layout": {
          "annotationdefaults": {
           "arrowcolor": "#2a3f5f",
           "arrowhead": 0,
           "arrowwidth": 1
          },
          "autotypenumbers": "strict",
          "coloraxis": {
           "colorbar": {
            "outlinewidth": 0,
            "ticks": ""
           }
          },
          "colorscale": {
           "diverging": [
            [
             0,
             "#8e0152"
            ],
            [
             0.1,
             "#c51b7d"
            ],
            [
             0.2,
             "#de77ae"
            ],
            [
             0.3,
             "#f1b6da"
            ],
            [
             0.4,
             "#fde0ef"
            ],
            [
             0.5,
             "#f7f7f7"
            ],
            [
             0.6,
             "#e6f5d0"
            ],
            [
             0.7,
             "#b8e186"
            ],
            [
             0.8,
             "#7fbc41"
            ],
            [
             0.9,
             "#4d9221"
            ],
            [
             1,
             "#276419"
            ]
           ],
           "sequential": [
            [
             0,
             "#0d0887"
            ],
            [
             0.1111111111111111,
             "#46039f"
            ],
            [
             0.2222222222222222,
             "#7201a8"
            ],
            [
             0.3333333333333333,
             "#9c179e"
            ],
            [
             0.4444444444444444,
             "#bd3786"
            ],
            [
             0.5555555555555556,
             "#d8576b"
            ],
            [
             0.6666666666666666,
             "#ed7953"
            ],
            [
             0.7777777777777778,
             "#fb9f3a"
            ],
            [
             0.8888888888888888,
             "#fdca26"
            ],
            [
             1,
             "#f0f921"
            ]
           ],
           "sequentialminus": [
            [
             0,
             "#0d0887"
            ],
            [
             0.1111111111111111,
             "#46039f"
            ],
            [
             0.2222222222222222,
             "#7201a8"
            ],
            [
             0.3333333333333333,
             "#9c179e"
            ],
            [
             0.4444444444444444,
             "#bd3786"
            ],
            [
             0.5555555555555556,
             "#d8576b"
            ],
            [
             0.6666666666666666,
             "#ed7953"
            ],
            [
             0.7777777777777778,
             "#fb9f3a"
            ],
            [
             0.8888888888888888,
             "#fdca26"
            ],
            [
             1,
             "#f0f921"
            ]
           ]
          },
          "colorway": [
           "#636efa",
           "#EF553B",
           "#00cc96",
           "#ab63fa",
           "#FFA15A",
           "#19d3f3",
           "#FF6692",
           "#B6E880",
           "#FF97FF",
           "#FECB52"
          ],
          "font": {
           "color": "#2a3f5f"
          },
          "geo": {
           "bgcolor": "white",
           "lakecolor": "white",
           "landcolor": "#E5ECF6",
           "showlakes": true,
           "showland": true,
           "subunitcolor": "white"
          },
          "hoverlabel": {
           "align": "left"
          },
          "hovermode": "closest",
          "mapbox": {
           "style": "light"
          },
          "paper_bgcolor": "white",
          "plot_bgcolor": "#E5ECF6",
          "polar": {
           "angularaxis": {
            "gridcolor": "white",
            "linecolor": "white",
            "ticks": ""
           },
           "bgcolor": "#E5ECF6",
           "radialaxis": {
            "gridcolor": "white",
            "linecolor": "white",
            "ticks": ""
           }
          },
          "scene": {
           "xaxis": {
            "backgroundcolor": "#E5ECF6",
            "gridcolor": "white",
            "gridwidth": 2,
            "linecolor": "white",
            "showbackground": true,
            "ticks": "",
            "zerolinecolor": "white"
           },
           "yaxis": {
            "backgroundcolor": "#E5ECF6",
            "gridcolor": "white",
            "gridwidth": 2,
            "linecolor": "white",
            "showbackground": true,
            "ticks": "",
            "zerolinecolor": "white"
           },
           "zaxis": {
            "backgroundcolor": "#E5ECF6",
            "gridcolor": "white",
            "gridwidth": 2,
            "linecolor": "white",
            "showbackground": true,
            "ticks": "",
            "zerolinecolor": "white"
           }
          },
          "shapedefaults": {
           "line": {
            "color": "#2a3f5f"
           }
          },
          "ternary": {
           "aaxis": {
            "gridcolor": "white",
            "linecolor": "white",
            "ticks": ""
           },
           "baxis": {
            "gridcolor": "white",
            "linecolor": "white",
            "ticks": ""
           },
           "bgcolor": "#E5ECF6",
           "caxis": {
            "gridcolor": "white",
            "linecolor": "white",
            "ticks": ""
           }
          },
          "title": {
           "x": 0.05
          },
          "xaxis": {
           "automargin": true,
           "gridcolor": "white",
           "linecolor": "white",
           "ticks": "",
           "title": {
            "standoff": 15
           },
           "zerolinecolor": "white",
           "zerolinewidth": 2
          },
          "yaxis": {
           "automargin": true,
           "gridcolor": "white",
           "linecolor": "white",
           "ticks": "",
           "title": {
            "standoff": 15
           },
           "zerolinecolor": "white",
           "zerolinewidth": 2
          }
         }
        }
       }
      },
      "text/html": [
       "<div>                            <div id=\"97294b3c-679c-45fb-b1f7-02a393e5e2aa\" class=\"plotly-graph-div\" style=\"height:525px; width:100%;\"></div>            <script type=\"text/javascript\">                require([\"plotly\"], function(Plotly) {                    window.PLOTLYENV=window.PLOTLYENV || {};                                    if (document.getElementById(\"97294b3c-679c-45fb-b1f7-02a393e5e2aa\")) {                    Plotly.newPlot(                        \"97294b3c-679c-45fb-b1f7-02a393e5e2aa\",                        [{\"delta\":{\"reference\":2},\"mode\":\"number+delta\",\"title\":{\"text\":\"Jobs added today\"},\"value\":3,\"type\":\"indicator\"}],                        {\"template\":{\"data\":{\"histogram2dcontour\":[{\"type\":\"histogram2dcontour\",\"colorbar\":{\"outlinewidth\":0,\"ticks\":\"\"},\"colorscale\":[[0.0,\"#0d0887\"],[0.1111111111111111,\"#46039f\"],[0.2222222222222222,\"#7201a8\"],[0.3333333333333333,\"#9c179e\"],[0.4444444444444444,\"#bd3786\"],[0.5555555555555556,\"#d8576b\"],[0.6666666666666666,\"#ed7953\"],[0.7777777777777778,\"#fb9f3a\"],[0.8888888888888888,\"#fdca26\"],[1.0,\"#f0f921\"]]}],\"choropleth\":[{\"type\":\"choropleth\",\"colorbar\":{\"outlinewidth\":0,\"ticks\":\"\"}}],\"histogram2d\":[{\"type\":\"histogram2d\",\"colorbar\":{\"outlinewidth\":0,\"ticks\":\"\"},\"colorscale\":[[0.0,\"#0d0887\"],[0.1111111111111111,\"#46039f\"],[0.2222222222222222,\"#7201a8\"],[0.3333333333333333,\"#9c179e\"],[0.4444444444444444,\"#bd3786\"],[0.5555555555555556,\"#d8576b\"],[0.6666666666666666,\"#ed7953\"],[0.7777777777777778,\"#fb9f3a\"],[0.8888888888888888,\"#fdca26\"],[1.0,\"#f0f921\"]]}],\"heatmap\":[{\"type\":\"heatmap\",\"colorbar\":{\"outlinewidth\":0,\"ticks\":\"\"},\"colorscale\":[[0.0,\"#0d0887\"],[0.1111111111111111,\"#46039f\"],[0.2222222222222222,\"#7201a8\"],[0.3333333333333333,\"#9c179e\"],[0.4444444444444444,\"#bd3786\"],[0.5555555555555556,\"#d8576b\"],[0.6666666666666666,\"#ed7953\"],[0.7777777777777778,\"#fb9f3a\"],[0.8888888888888888,\"#fdca26\"],[1.0,\"#f0f921\"]]}],\"heatmapgl\":[{\"type\":\"heatmapgl\",\"colorbar\":{\"outlinewidth\":0,\"ticks\":\"\"},\"colorscale\":[[0.0,\"#0d0887\"],[0.1111111111111111,\"#46039f\"],[0.2222222222222222,\"#7201a8\"],[0.3333333333333333,\"#9c179e\"],[0.4444444444444444,\"#bd3786\"],[0.5555555555555556,\"#d8576b\"],[0.6666666666666666,\"#ed7953\"],[0.7777777777777778,\"#fb9f3a\"],[0.8888888888888888,\"#fdca26\"],[1.0,\"#f0f921\"]]}],\"contourcarpet\":[{\"type\":\"contourcarpet\",\"colorbar\":{\"outlinewidth\":0,\"ticks\":\"\"}}],\"contour\":[{\"type\":\"contour\",\"colorbar\":{\"outlinewidth\":0,\"ticks\":\"\"},\"colorscale\":[[0.0,\"#0d0887\"],[0.1111111111111111,\"#46039f\"],[0.2222222222222222,\"#7201a8\"],[0.3333333333333333,\"#9c179e\"],[0.4444444444444444,\"#bd3786\"],[0.5555555555555556,\"#d8576b\"],[0.6666666666666666,\"#ed7953\"],[0.7777777777777778,\"#fb9f3a\"],[0.8888888888888888,\"#fdca26\"],[1.0,\"#f0f921\"]]}],\"surface\":[{\"type\":\"surface\",\"colorbar\":{\"outlinewidth\":0,\"ticks\":\"\"},\"colorscale\":[[0.0,\"#0d0887\"],[0.1111111111111111,\"#46039f\"],[0.2222222222222222,\"#7201a8\"],[0.3333333333333333,\"#9c179e\"],[0.4444444444444444,\"#bd3786\"],[0.5555555555555556,\"#d8576b\"],[0.6666666666666666,\"#ed7953\"],[0.7777777777777778,\"#fb9f3a\"],[0.8888888888888888,\"#fdca26\"],[1.0,\"#f0f921\"]]}],\"mesh3d\":[{\"type\":\"mesh3d\",\"colorbar\":{\"outlinewidth\":0,\"ticks\":\"\"}}],\"scatter\":[{\"fillpattern\":{\"fillmode\":\"overlay\",\"size\":10,\"solidity\":0.2},\"type\":\"scatter\"}],\"parcoords\":[{\"type\":\"parcoords\",\"line\":{\"colorbar\":{\"outlinewidth\":0,\"ticks\":\"\"}}}],\"scatterpolargl\":[{\"type\":\"scatterpolargl\",\"marker\":{\"colorbar\":{\"outlinewidth\":0,\"ticks\":\"\"}}}],\"bar\":[{\"error_x\":{\"color\":\"#2a3f5f\"},\"error_y\":{\"color\":\"#2a3f5f\"},\"marker\":{\"line\":{\"color\":\"#E5ECF6\",\"width\":0.5},\"pattern\":{\"fillmode\":\"overlay\",\"size\":10,\"solidity\":0.2}},\"type\":\"bar\"}],\"scattergeo\":[{\"type\":\"scattergeo\",\"marker\":{\"colorbar\":{\"outlinewidth\":0,\"ticks\":\"\"}}}],\"scatterpolar\":[{\"type\":\"scatterpolar\",\"marker\":{\"colorbar\":{\"outlinewidth\":0,\"ticks\":\"\"}}}],\"histogram\":[{\"marker\":{\"pattern\":{\"fillmode\":\"overlay\",\"size\":10,\"solidity\":0.2}},\"type\":\"histogram\"}],\"scattergl\":[{\"type\":\"scattergl\",\"marker\":{\"colorbar\":{\"outlinewidth\":0,\"ticks\":\"\"}}}],\"scatter3d\":[{\"type\":\"scatter3d\",\"line\":{\"colorbar\":{\"outlinewidth\":0,\"ticks\":\"\"}},\"marker\":{\"colorbar\":{\"outlinewidth\":0,\"ticks\":\"\"}}}],\"scattermapbox\":[{\"type\":\"scattermapbox\",\"marker\":{\"colorbar\":{\"outlinewidth\":0,\"ticks\":\"\"}}}],\"scatterternary\":[{\"type\":\"scatterternary\",\"marker\":{\"colorbar\":{\"outlinewidth\":0,\"ticks\":\"\"}}}],\"scattercarpet\":[{\"type\":\"scattercarpet\",\"marker\":{\"colorbar\":{\"outlinewidth\":0,\"ticks\":\"\"}}}],\"carpet\":[{\"aaxis\":{\"endlinecolor\":\"#2a3f5f\",\"gridcolor\":\"white\",\"linecolor\":\"white\",\"minorgridcolor\":\"white\",\"startlinecolor\":\"#2a3f5f\"},\"baxis\":{\"endlinecolor\":\"#2a3f5f\",\"gridcolor\":\"white\",\"linecolor\":\"white\",\"minorgridcolor\":\"white\",\"startlinecolor\":\"#2a3f5f\"},\"type\":\"carpet\"}],\"table\":[{\"cells\":{\"fill\":{\"color\":\"#EBF0F8\"},\"line\":{\"color\":\"white\"}},\"header\":{\"fill\":{\"color\":\"#C8D4E3\"},\"line\":{\"color\":\"white\"}},\"type\":\"table\"}],\"barpolar\":[{\"marker\":{\"line\":{\"color\":\"#E5ECF6\",\"width\":0.5},\"pattern\":{\"fillmode\":\"overlay\",\"size\":10,\"solidity\":0.2}},\"type\":\"barpolar\"}],\"pie\":[{\"automargin\":true,\"type\":\"pie\"}]},\"layout\":{\"autotypenumbers\":\"strict\",\"colorway\":[\"#636efa\",\"#EF553B\",\"#00cc96\",\"#ab63fa\",\"#FFA15A\",\"#19d3f3\",\"#FF6692\",\"#B6E880\",\"#FF97FF\",\"#FECB52\"],\"font\":{\"color\":\"#2a3f5f\"},\"hovermode\":\"closest\",\"hoverlabel\":{\"align\":\"left\"},\"paper_bgcolor\":\"white\",\"plot_bgcolor\":\"#E5ECF6\",\"polar\":{\"bgcolor\":\"#E5ECF6\",\"angularaxis\":{\"gridcolor\":\"white\",\"linecolor\":\"white\",\"ticks\":\"\"},\"radialaxis\":{\"gridcolor\":\"white\",\"linecolor\":\"white\",\"ticks\":\"\"}},\"ternary\":{\"bgcolor\":\"#E5ECF6\",\"aaxis\":{\"gridcolor\":\"white\",\"linecolor\":\"white\",\"ticks\":\"\"},\"baxis\":{\"gridcolor\":\"white\",\"linecolor\":\"white\",\"ticks\":\"\"},\"caxis\":{\"gridcolor\":\"white\",\"linecolor\":\"white\",\"ticks\":\"\"}},\"coloraxis\":{\"colorbar\":{\"outlinewidth\":0,\"ticks\":\"\"}},\"colorscale\":{\"sequential\":[[0.0,\"#0d0887\"],[0.1111111111111111,\"#46039f\"],[0.2222222222222222,\"#7201a8\"],[0.3333333333333333,\"#9c179e\"],[0.4444444444444444,\"#bd3786\"],[0.5555555555555556,\"#d8576b\"],[0.6666666666666666,\"#ed7953\"],[0.7777777777777778,\"#fb9f3a\"],[0.8888888888888888,\"#fdca26\"],[1.0,\"#f0f921\"]],\"sequentialminus\":[[0.0,\"#0d0887\"],[0.1111111111111111,\"#46039f\"],[0.2222222222222222,\"#7201a8\"],[0.3333333333333333,\"#9c179e\"],[0.4444444444444444,\"#bd3786\"],[0.5555555555555556,\"#d8576b\"],[0.6666666666666666,\"#ed7953\"],[0.7777777777777778,\"#fb9f3a\"],[0.8888888888888888,\"#fdca26\"],[1.0,\"#f0f921\"]],\"diverging\":[[0,\"#8e0152\"],[0.1,\"#c51b7d\"],[0.2,\"#de77ae\"],[0.3,\"#f1b6da\"],[0.4,\"#fde0ef\"],[0.5,\"#f7f7f7\"],[0.6,\"#e6f5d0\"],[0.7,\"#b8e186\"],[0.8,\"#7fbc41\"],[0.9,\"#4d9221\"],[1,\"#276419\"]]},\"xaxis\":{\"gridcolor\":\"white\",\"linecolor\":\"white\",\"ticks\":\"\",\"title\":{\"standoff\":15},\"zerolinecolor\":\"white\",\"automargin\":true,\"zerolinewidth\":2},\"yaxis\":{\"gridcolor\":\"white\",\"linecolor\":\"white\",\"ticks\":\"\",\"title\":{\"standoff\":15},\"zerolinecolor\":\"white\",\"automargin\":true,\"zerolinewidth\":2},\"scene\":{\"xaxis\":{\"backgroundcolor\":\"#E5ECF6\",\"gridcolor\":\"white\",\"linecolor\":\"white\",\"showbackground\":true,\"ticks\":\"\",\"zerolinecolor\":\"white\",\"gridwidth\":2},\"yaxis\":{\"backgroundcolor\":\"#E5ECF6\",\"gridcolor\":\"white\",\"linecolor\":\"white\",\"showbackground\":true,\"ticks\":\"\",\"zerolinecolor\":\"white\",\"gridwidth\":2},\"zaxis\":{\"backgroundcolor\":\"#E5ECF6\",\"gridcolor\":\"white\",\"linecolor\":\"white\",\"showbackground\":true,\"ticks\":\"\",\"zerolinecolor\":\"white\",\"gridwidth\":2}},\"shapedefaults\":{\"line\":{\"color\":\"#2a3f5f\"}},\"annotationdefaults\":{\"arrowcolor\":\"#2a3f5f\",\"arrowhead\":0,\"arrowwidth\":1},\"geo\":{\"bgcolor\":\"white\",\"landcolor\":\"#E5ECF6\",\"subunitcolor\":\"white\",\"showland\":true,\"showlakes\":true,\"lakecolor\":\"white\"},\"title\":{\"x\":0.05},\"mapbox\":{\"style\":\"light\"}}}},                        {\"responsive\": true}                    ).then(function(){\n",
       "                            \n",
       "var gd = document.getElementById('97294b3c-679c-45fb-b1f7-02a393e5e2aa');\n",
       "var x = new MutationObserver(function (mutations, observer) {{\n",
       "        var display = window.getComputedStyle(gd).display;\n",
       "        if (!display || display === 'none') {{\n",
       "            console.log([gd, 'removed!']);\n",
       "            Plotly.purge(gd);\n",
       "            observer.disconnect();\n",
       "        }}\n",
       "}});\n",
       "\n",
       "// Listen for the removal of the full notebook cells\n",
       "var notebookContainer = gd.closest('#notebook-container');\n",
       "if (notebookContainer) {{\n",
       "    x.observe(notebookContainer, {childList: true});\n",
       "}}\n",
       "\n",
       "// Listen for the clearing of the current output cell\n",
       "var outputEl = gd.closest('.output');\n",
       "if (outputEl) {{\n",
       "    x.observe(outputEl, {childList: true});\n",
       "}}\n",
       "\n",
       "                        })                };                });            </script>        </div>"
      ]
     },
     "metadata": {},
     "output_type": "display_data"
    }
   ],
   "source": [
    "count_of_jobs_today = len(job_report[job_report['inserted_at'] == format_today])\n",
    "count_of_jobs_yesterday = len(job_report[job_report['inserted_at'] == format_yesterday])\n",
    "count_of_jobs_week = len(job_report[job_report['inserted_at'] >= format_week_ago]) & len(job_report[job_report['inserted_at'] <= format_today])\n",
    "count_of_jobs_two_days = len(job_report[job_report['inserted_at'] == format_two_days_ago])\n",
    "count_of_jobs_two_weeks = len(job_report[job_report['inserted_at'] >= format_two_weeks_ago]) & len(job_report[job_report['inserted_at'] <= format_week_ago])\n",
    "\n",
    "# diff_jobs_today = count_of_jobs_today - count_of_jobs_yesterday\n",
    "# diff_jobs_yesterday = count_of_jobs_yesterday - count_of_jobs_two_days\n",
    "\n",
    "kpi_today = go.Figure()\n",
    "kpi_today.add_trace(go.Indicator(\n",
    "    mode = 'number+delta',\n",
    "    value = count_of_jobs_today,\n",
    "    delta = {'reference': count_of_jobs_yesterday},\n",
    "    title = {'text' : 'Jobs added today'}\n",
    "))"
   ]
  },
  {
   "cell_type": "code",
   "execution_count": 150,
   "id": "b26cec9d",
   "metadata": {},
   "outputs": [
    {
     "data": {
      "application/vnd.plotly.v1+json": {
       "config": {
        "plotlyServerURL": "https://plot.ly"
       },
       "data": [
        {
         "delta": {
          "reference": 0
         },
         "mode": "number+delta",
         "title": {
          "text": "Jobs added yesterday"
         },
         "type": "indicator",
         "value": 6
        }
       ],
       "layout": {
        "template": {
         "data": {
          "bar": [
           {
            "error_x": {
             "color": "#2a3f5f"
            },
            "error_y": {
             "color": "#2a3f5f"
            },
            "marker": {
             "line": {
              "color": "#E5ECF6",
              "width": 0.5
             },
             "pattern": {
              "fillmode": "overlay",
              "size": 10,
              "solidity": 0.2
             }
            },
            "type": "bar"
           }
          ],
          "barpolar": [
           {
            "marker": {
             "line": {
              "color": "#E5ECF6",
              "width": 0.5
             },
             "pattern": {
              "fillmode": "overlay",
              "size": 10,
              "solidity": 0.2
             }
            },
            "type": "barpolar"
           }
          ],
          "carpet": [
           {
            "aaxis": {
             "endlinecolor": "#2a3f5f",
             "gridcolor": "white",
             "linecolor": "white",
             "minorgridcolor": "white",
             "startlinecolor": "#2a3f5f"
            },
            "baxis": {
             "endlinecolor": "#2a3f5f",
             "gridcolor": "white",
             "linecolor": "white",
             "minorgridcolor": "white",
             "startlinecolor": "#2a3f5f"
            },
            "type": "carpet"
           }
          ],
          "choropleth": [
           {
            "colorbar": {
             "outlinewidth": 0,
             "ticks": ""
            },
            "type": "choropleth"
           }
          ],
          "contour": [
           {
            "colorbar": {
             "outlinewidth": 0,
             "ticks": ""
            },
            "colorscale": [
             [
              0,
              "#0d0887"
             ],
             [
              0.1111111111111111,
              "#46039f"
             ],
             [
              0.2222222222222222,
              "#7201a8"
             ],
             [
              0.3333333333333333,
              "#9c179e"
             ],
             [
              0.4444444444444444,
              "#bd3786"
             ],
             [
              0.5555555555555556,
              "#d8576b"
             ],
             [
              0.6666666666666666,
              "#ed7953"
             ],
             [
              0.7777777777777778,
              "#fb9f3a"
             ],
             [
              0.8888888888888888,
              "#fdca26"
             ],
             [
              1,
              "#f0f921"
             ]
            ],
            "type": "contour"
           }
          ],
          "contourcarpet": [
           {
            "colorbar": {
             "outlinewidth": 0,
             "ticks": ""
            },
            "type": "contourcarpet"
           }
          ],
          "heatmap": [
           {
            "colorbar": {
             "outlinewidth": 0,
             "ticks": ""
            },
            "colorscale": [
             [
              0,
              "#0d0887"
             ],
             [
              0.1111111111111111,
              "#46039f"
             ],
             [
              0.2222222222222222,
              "#7201a8"
             ],
             [
              0.3333333333333333,
              "#9c179e"
             ],
             [
              0.4444444444444444,
              "#bd3786"
             ],
             [
              0.5555555555555556,
              "#d8576b"
             ],
             [
              0.6666666666666666,
              "#ed7953"
             ],
             [
              0.7777777777777778,
              "#fb9f3a"
             ],
             [
              0.8888888888888888,
              "#fdca26"
             ],
             [
              1,
              "#f0f921"
             ]
            ],
            "type": "heatmap"
           }
          ],
          "heatmapgl": [
           {
            "colorbar": {
             "outlinewidth": 0,
             "ticks": ""
            },
            "colorscale": [
             [
              0,
              "#0d0887"
             ],
             [
              0.1111111111111111,
              "#46039f"
             ],
             [
              0.2222222222222222,
              "#7201a8"
             ],
             [
              0.3333333333333333,
              "#9c179e"
             ],
             [
              0.4444444444444444,
              "#bd3786"
             ],
             [
              0.5555555555555556,
              "#d8576b"
             ],
             [
              0.6666666666666666,
              "#ed7953"
             ],
             [
              0.7777777777777778,
              "#fb9f3a"
             ],
             [
              0.8888888888888888,
              "#fdca26"
             ],
             [
              1,
              "#f0f921"
             ]
            ],
            "type": "heatmapgl"
           }
          ],
          "histogram": [
           {
            "marker": {
             "pattern": {
              "fillmode": "overlay",
              "size": 10,
              "solidity": 0.2
             }
            },
            "type": "histogram"
           }
          ],
          "histogram2d": [
           {
            "colorbar": {
             "outlinewidth": 0,
             "ticks": ""
            },
            "colorscale": [
             [
              0,
              "#0d0887"
             ],
             [
              0.1111111111111111,
              "#46039f"
             ],
             [
              0.2222222222222222,
              "#7201a8"
             ],
             [
              0.3333333333333333,
              "#9c179e"
             ],
             [
              0.4444444444444444,
              "#bd3786"
             ],
             [
              0.5555555555555556,
              "#d8576b"
             ],
             [
              0.6666666666666666,
              "#ed7953"
             ],
             [
              0.7777777777777778,
              "#fb9f3a"
             ],
             [
              0.8888888888888888,
              "#fdca26"
             ],
             [
              1,
              "#f0f921"
             ]
            ],
            "type": "histogram2d"
           }
          ],
          "histogram2dcontour": [
           {
            "colorbar": {
             "outlinewidth": 0,
             "ticks": ""
            },
            "colorscale": [
             [
              0,
              "#0d0887"
             ],
             [
              0.1111111111111111,
              "#46039f"
             ],
             [
              0.2222222222222222,
              "#7201a8"
             ],
             [
              0.3333333333333333,
              "#9c179e"
             ],
             [
              0.4444444444444444,
              "#bd3786"
             ],
             [
              0.5555555555555556,
              "#d8576b"
             ],
             [
              0.6666666666666666,
              "#ed7953"
             ],
             [
              0.7777777777777778,
              "#fb9f3a"
             ],
             [
              0.8888888888888888,
              "#fdca26"
             ],
             [
              1,
              "#f0f921"
             ]
            ],
            "type": "histogram2dcontour"
           }
          ],
          "mesh3d": [
           {
            "colorbar": {
             "outlinewidth": 0,
             "ticks": ""
            },
            "type": "mesh3d"
           }
          ],
          "parcoords": [
           {
            "line": {
             "colorbar": {
              "outlinewidth": 0,
              "ticks": ""
             }
            },
            "type": "parcoords"
           }
          ],
          "pie": [
           {
            "automargin": true,
            "type": "pie"
           }
          ],
          "scatter": [
           {
            "fillpattern": {
             "fillmode": "overlay",
             "size": 10,
             "solidity": 0.2
            },
            "type": "scatter"
           }
          ],
          "scatter3d": [
           {
            "line": {
             "colorbar": {
              "outlinewidth": 0,
              "ticks": ""
             }
            },
            "marker": {
             "colorbar": {
              "outlinewidth": 0,
              "ticks": ""
             }
            },
            "type": "scatter3d"
           }
          ],
          "scattercarpet": [
           {
            "marker": {
             "colorbar": {
              "outlinewidth": 0,
              "ticks": ""
             }
            },
            "type": "scattercarpet"
           }
          ],
          "scattergeo": [
           {
            "marker": {
             "colorbar": {
              "outlinewidth": 0,
              "ticks": ""
             }
            },
            "type": "scattergeo"
           }
          ],
          "scattergl": [
           {
            "marker": {
             "colorbar": {
              "outlinewidth": 0,
              "ticks": ""
             }
            },
            "type": "scattergl"
           }
          ],
          "scattermapbox": [
           {
            "marker": {
             "colorbar": {
              "outlinewidth": 0,
              "ticks": ""
             }
            },
            "type": "scattermapbox"
           }
          ],
          "scatterpolar": [
           {
            "marker": {
             "colorbar": {
              "outlinewidth": 0,
              "ticks": ""
             }
            },
            "type": "scatterpolar"
           }
          ],
          "scatterpolargl": [
           {
            "marker": {
             "colorbar": {
              "outlinewidth": 0,
              "ticks": ""
             }
            },
            "type": "scatterpolargl"
           }
          ],
          "scatterternary": [
           {
            "marker": {
             "colorbar": {
              "outlinewidth": 0,
              "ticks": ""
             }
            },
            "type": "scatterternary"
           }
          ],
          "surface": [
           {
            "colorbar": {
             "outlinewidth": 0,
             "ticks": ""
            },
            "colorscale": [
             [
              0,
              "#0d0887"
             ],
             [
              0.1111111111111111,
              "#46039f"
             ],
             [
              0.2222222222222222,
              "#7201a8"
             ],
             [
              0.3333333333333333,
              "#9c179e"
             ],
             [
              0.4444444444444444,
              "#bd3786"
             ],
             [
              0.5555555555555556,
              "#d8576b"
             ],
             [
              0.6666666666666666,
              "#ed7953"
             ],
             [
              0.7777777777777778,
              "#fb9f3a"
             ],
             [
              0.8888888888888888,
              "#fdca26"
             ],
             [
              1,
              "#f0f921"
             ]
            ],
            "type": "surface"
           }
          ],
          "table": [
           {
            "cells": {
             "fill": {
              "color": "#EBF0F8"
             },
             "line": {
              "color": "white"
             }
            },
            "header": {
             "fill": {
              "color": "#C8D4E3"
             },
             "line": {
              "color": "white"
             }
            },
            "type": "table"
           }
          ]
         },
         "layout": {
          "annotationdefaults": {
           "arrowcolor": "#2a3f5f",
           "arrowhead": 0,
           "arrowwidth": 1
          },
          "autotypenumbers": "strict",
          "coloraxis": {
           "colorbar": {
            "outlinewidth": 0,
            "ticks": ""
           }
          },
          "colorscale": {
           "diverging": [
            [
             0,
             "#8e0152"
            ],
            [
             0.1,
             "#c51b7d"
            ],
            [
             0.2,
             "#de77ae"
            ],
            [
             0.3,
             "#f1b6da"
            ],
            [
             0.4,
             "#fde0ef"
            ],
            [
             0.5,
             "#f7f7f7"
            ],
            [
             0.6,
             "#e6f5d0"
            ],
            [
             0.7,
             "#b8e186"
            ],
            [
             0.8,
             "#7fbc41"
            ],
            [
             0.9,
             "#4d9221"
            ],
            [
             1,
             "#276419"
            ]
           ],
           "sequential": [
            [
             0,
             "#0d0887"
            ],
            [
             0.1111111111111111,
             "#46039f"
            ],
            [
             0.2222222222222222,
             "#7201a8"
            ],
            [
             0.3333333333333333,
             "#9c179e"
            ],
            [
             0.4444444444444444,
             "#bd3786"
            ],
            [
             0.5555555555555556,
             "#d8576b"
            ],
            [
             0.6666666666666666,
             "#ed7953"
            ],
            [
             0.7777777777777778,
             "#fb9f3a"
            ],
            [
             0.8888888888888888,
             "#fdca26"
            ],
            [
             1,
             "#f0f921"
            ]
           ],
           "sequentialminus": [
            [
             0,
             "#0d0887"
            ],
            [
             0.1111111111111111,
             "#46039f"
            ],
            [
             0.2222222222222222,
             "#7201a8"
            ],
            [
             0.3333333333333333,
             "#9c179e"
            ],
            [
             0.4444444444444444,
             "#bd3786"
            ],
            [
             0.5555555555555556,
             "#d8576b"
            ],
            [
             0.6666666666666666,
             "#ed7953"
            ],
            [
             0.7777777777777778,
             "#fb9f3a"
            ],
            [
             0.8888888888888888,
             "#fdca26"
            ],
            [
             1,
             "#f0f921"
            ]
           ]
          },
          "colorway": [
           "#636efa",
           "#EF553B",
           "#00cc96",
           "#ab63fa",
           "#FFA15A",
           "#19d3f3",
           "#FF6692",
           "#B6E880",
           "#FF97FF",
           "#FECB52"
          ],
          "font": {
           "color": "#2a3f5f"
          },
          "geo": {
           "bgcolor": "white",
           "lakecolor": "white",
           "landcolor": "#E5ECF6",
           "showlakes": true,
           "showland": true,
           "subunitcolor": "white"
          },
          "hoverlabel": {
           "align": "left"
          },
          "hovermode": "closest",
          "mapbox": {
           "style": "light"
          },
          "paper_bgcolor": "white",
          "plot_bgcolor": "#E5ECF6",
          "polar": {
           "angularaxis": {
            "gridcolor": "white",
            "linecolor": "white",
            "ticks": ""
           },
           "bgcolor": "#E5ECF6",
           "radialaxis": {
            "gridcolor": "white",
            "linecolor": "white",
            "ticks": ""
           }
          },
          "scene": {
           "xaxis": {
            "backgroundcolor": "#E5ECF6",
            "gridcolor": "white",
            "gridwidth": 2,
            "linecolor": "white",
            "showbackground": true,
            "ticks": "",
            "zerolinecolor": "white"
           },
           "yaxis": {
            "backgroundcolor": "#E5ECF6",
            "gridcolor": "white",
            "gridwidth": 2,
            "linecolor": "white",
            "showbackground": true,
            "ticks": "",
            "zerolinecolor": "white"
           },
           "zaxis": {
            "backgroundcolor": "#E5ECF6",
            "gridcolor": "white",
            "gridwidth": 2,
            "linecolor": "white",
            "showbackground": true,
            "ticks": "",
            "zerolinecolor": "white"
           }
          },
          "shapedefaults": {
           "line": {
            "color": "#2a3f5f"
           }
          },
          "ternary": {
           "aaxis": {
            "gridcolor": "white",
            "linecolor": "white",
            "ticks": ""
           },
           "baxis": {
            "gridcolor": "white",
            "linecolor": "white",
            "ticks": ""
           },
           "bgcolor": "#E5ECF6",
           "caxis": {
            "gridcolor": "white",
            "linecolor": "white",
            "ticks": ""
           }
          },
          "title": {
           "x": 0.05
          },
          "xaxis": {
           "automargin": true,
           "gridcolor": "white",
           "linecolor": "white",
           "ticks": "",
           "title": {
            "standoff": 15
           },
           "zerolinecolor": "white",
           "zerolinewidth": 2
          },
          "yaxis": {
           "automargin": true,
           "gridcolor": "white",
           "linecolor": "white",
           "ticks": "",
           "title": {
            "standoff": 15
           },
           "zerolinecolor": "white",
           "zerolinewidth": 2
          }
         }
        }
       }
      },
      "text/html": [
       "<div>                            <div id=\"8bb84e5a-dd86-4fcc-ad5d-24c9867c3689\" class=\"plotly-graph-div\" style=\"height:525px; width:100%;\"></div>            <script type=\"text/javascript\">                require([\"plotly\"], function(Plotly) {                    window.PLOTLYENV=window.PLOTLYENV || {};                                    if (document.getElementById(\"8bb84e5a-dd86-4fcc-ad5d-24c9867c3689\")) {                    Plotly.newPlot(                        \"8bb84e5a-dd86-4fcc-ad5d-24c9867c3689\",                        [{\"delta\":{\"reference\":0},\"mode\":\"number+delta\",\"title\":{\"text\":\"Jobs added yesterday\"},\"value\":6,\"type\":\"indicator\"}],                        {\"template\":{\"data\":{\"histogram2dcontour\":[{\"type\":\"histogram2dcontour\",\"colorbar\":{\"outlinewidth\":0,\"ticks\":\"\"},\"colorscale\":[[0.0,\"#0d0887\"],[0.1111111111111111,\"#46039f\"],[0.2222222222222222,\"#7201a8\"],[0.3333333333333333,\"#9c179e\"],[0.4444444444444444,\"#bd3786\"],[0.5555555555555556,\"#d8576b\"],[0.6666666666666666,\"#ed7953\"],[0.7777777777777778,\"#fb9f3a\"],[0.8888888888888888,\"#fdca26\"],[1.0,\"#f0f921\"]]}],\"choropleth\":[{\"type\":\"choropleth\",\"colorbar\":{\"outlinewidth\":0,\"ticks\":\"\"}}],\"histogram2d\":[{\"type\":\"histogram2d\",\"colorbar\":{\"outlinewidth\":0,\"ticks\":\"\"},\"colorscale\":[[0.0,\"#0d0887\"],[0.1111111111111111,\"#46039f\"],[0.2222222222222222,\"#7201a8\"],[0.3333333333333333,\"#9c179e\"],[0.4444444444444444,\"#bd3786\"],[0.5555555555555556,\"#d8576b\"],[0.6666666666666666,\"#ed7953\"],[0.7777777777777778,\"#fb9f3a\"],[0.8888888888888888,\"#fdca26\"],[1.0,\"#f0f921\"]]}],\"heatmap\":[{\"type\":\"heatmap\",\"colorbar\":{\"outlinewidth\":0,\"ticks\":\"\"},\"colorscale\":[[0.0,\"#0d0887\"],[0.1111111111111111,\"#46039f\"],[0.2222222222222222,\"#7201a8\"],[0.3333333333333333,\"#9c179e\"],[0.4444444444444444,\"#bd3786\"],[0.5555555555555556,\"#d8576b\"],[0.6666666666666666,\"#ed7953\"],[0.7777777777777778,\"#fb9f3a\"],[0.8888888888888888,\"#fdca26\"],[1.0,\"#f0f921\"]]}],\"heatmapgl\":[{\"type\":\"heatmapgl\",\"colorbar\":{\"outlinewidth\":0,\"ticks\":\"\"},\"colorscale\":[[0.0,\"#0d0887\"],[0.1111111111111111,\"#46039f\"],[0.2222222222222222,\"#7201a8\"],[0.3333333333333333,\"#9c179e\"],[0.4444444444444444,\"#bd3786\"],[0.5555555555555556,\"#d8576b\"],[0.6666666666666666,\"#ed7953\"],[0.7777777777777778,\"#fb9f3a\"],[0.8888888888888888,\"#fdca26\"],[1.0,\"#f0f921\"]]}],\"contourcarpet\":[{\"type\":\"contourcarpet\",\"colorbar\":{\"outlinewidth\":0,\"ticks\":\"\"}}],\"contour\":[{\"type\":\"contour\",\"colorbar\":{\"outlinewidth\":0,\"ticks\":\"\"},\"colorscale\":[[0.0,\"#0d0887\"],[0.1111111111111111,\"#46039f\"],[0.2222222222222222,\"#7201a8\"],[0.3333333333333333,\"#9c179e\"],[0.4444444444444444,\"#bd3786\"],[0.5555555555555556,\"#d8576b\"],[0.6666666666666666,\"#ed7953\"],[0.7777777777777778,\"#fb9f3a\"],[0.8888888888888888,\"#fdca26\"],[1.0,\"#f0f921\"]]}],\"surface\":[{\"type\":\"surface\",\"colorbar\":{\"outlinewidth\":0,\"ticks\":\"\"},\"colorscale\":[[0.0,\"#0d0887\"],[0.1111111111111111,\"#46039f\"],[0.2222222222222222,\"#7201a8\"],[0.3333333333333333,\"#9c179e\"],[0.4444444444444444,\"#bd3786\"],[0.5555555555555556,\"#d8576b\"],[0.6666666666666666,\"#ed7953\"],[0.7777777777777778,\"#fb9f3a\"],[0.8888888888888888,\"#fdca26\"],[1.0,\"#f0f921\"]]}],\"mesh3d\":[{\"type\":\"mesh3d\",\"colorbar\":{\"outlinewidth\":0,\"ticks\":\"\"}}],\"scatter\":[{\"fillpattern\":{\"fillmode\":\"overlay\",\"size\":10,\"solidity\":0.2},\"type\":\"scatter\"}],\"parcoords\":[{\"type\":\"parcoords\",\"line\":{\"colorbar\":{\"outlinewidth\":0,\"ticks\":\"\"}}}],\"scatterpolargl\":[{\"type\":\"scatterpolargl\",\"marker\":{\"colorbar\":{\"outlinewidth\":0,\"ticks\":\"\"}}}],\"bar\":[{\"error_x\":{\"color\":\"#2a3f5f\"},\"error_y\":{\"color\":\"#2a3f5f\"},\"marker\":{\"line\":{\"color\":\"#E5ECF6\",\"width\":0.5},\"pattern\":{\"fillmode\":\"overlay\",\"size\":10,\"solidity\":0.2}},\"type\":\"bar\"}],\"scattergeo\":[{\"type\":\"scattergeo\",\"marker\":{\"colorbar\":{\"outlinewidth\":0,\"ticks\":\"\"}}}],\"scatterpolar\":[{\"type\":\"scatterpolar\",\"marker\":{\"colorbar\":{\"outlinewidth\":0,\"ticks\":\"\"}}}],\"histogram\":[{\"marker\":{\"pattern\":{\"fillmode\":\"overlay\",\"size\":10,\"solidity\":0.2}},\"type\":\"histogram\"}],\"scattergl\":[{\"type\":\"scattergl\",\"marker\":{\"colorbar\":{\"outlinewidth\":0,\"ticks\":\"\"}}}],\"scatter3d\":[{\"type\":\"scatter3d\",\"line\":{\"colorbar\":{\"outlinewidth\":0,\"ticks\":\"\"}},\"marker\":{\"colorbar\":{\"outlinewidth\":0,\"ticks\":\"\"}}}],\"scattermapbox\":[{\"type\":\"scattermapbox\",\"marker\":{\"colorbar\":{\"outlinewidth\":0,\"ticks\":\"\"}}}],\"scatterternary\":[{\"type\":\"scatterternary\",\"marker\":{\"colorbar\":{\"outlinewidth\":0,\"ticks\":\"\"}}}],\"scattercarpet\":[{\"type\":\"scattercarpet\",\"marker\":{\"colorbar\":{\"outlinewidth\":0,\"ticks\":\"\"}}}],\"carpet\":[{\"aaxis\":{\"endlinecolor\":\"#2a3f5f\",\"gridcolor\":\"white\",\"linecolor\":\"white\",\"minorgridcolor\":\"white\",\"startlinecolor\":\"#2a3f5f\"},\"baxis\":{\"endlinecolor\":\"#2a3f5f\",\"gridcolor\":\"white\",\"linecolor\":\"white\",\"minorgridcolor\":\"white\",\"startlinecolor\":\"#2a3f5f\"},\"type\":\"carpet\"}],\"table\":[{\"cells\":{\"fill\":{\"color\":\"#EBF0F8\"},\"line\":{\"color\":\"white\"}},\"header\":{\"fill\":{\"color\":\"#C8D4E3\"},\"line\":{\"color\":\"white\"}},\"type\":\"table\"}],\"barpolar\":[{\"marker\":{\"line\":{\"color\":\"#E5ECF6\",\"width\":0.5},\"pattern\":{\"fillmode\":\"overlay\",\"size\":10,\"solidity\":0.2}},\"type\":\"barpolar\"}],\"pie\":[{\"automargin\":true,\"type\":\"pie\"}]},\"layout\":{\"autotypenumbers\":\"strict\",\"colorway\":[\"#636efa\",\"#EF553B\",\"#00cc96\",\"#ab63fa\",\"#FFA15A\",\"#19d3f3\",\"#FF6692\",\"#B6E880\",\"#FF97FF\",\"#FECB52\"],\"font\":{\"color\":\"#2a3f5f\"},\"hovermode\":\"closest\",\"hoverlabel\":{\"align\":\"left\"},\"paper_bgcolor\":\"white\",\"plot_bgcolor\":\"#E5ECF6\",\"polar\":{\"bgcolor\":\"#E5ECF6\",\"angularaxis\":{\"gridcolor\":\"white\",\"linecolor\":\"white\",\"ticks\":\"\"},\"radialaxis\":{\"gridcolor\":\"white\",\"linecolor\":\"white\",\"ticks\":\"\"}},\"ternary\":{\"bgcolor\":\"#E5ECF6\",\"aaxis\":{\"gridcolor\":\"white\",\"linecolor\":\"white\",\"ticks\":\"\"},\"baxis\":{\"gridcolor\":\"white\",\"linecolor\":\"white\",\"ticks\":\"\"},\"caxis\":{\"gridcolor\":\"white\",\"linecolor\":\"white\",\"ticks\":\"\"}},\"coloraxis\":{\"colorbar\":{\"outlinewidth\":0,\"ticks\":\"\"}},\"colorscale\":{\"sequential\":[[0.0,\"#0d0887\"],[0.1111111111111111,\"#46039f\"],[0.2222222222222222,\"#7201a8\"],[0.3333333333333333,\"#9c179e\"],[0.4444444444444444,\"#bd3786\"],[0.5555555555555556,\"#d8576b\"],[0.6666666666666666,\"#ed7953\"],[0.7777777777777778,\"#fb9f3a\"],[0.8888888888888888,\"#fdca26\"],[1.0,\"#f0f921\"]],\"sequentialminus\":[[0.0,\"#0d0887\"],[0.1111111111111111,\"#46039f\"],[0.2222222222222222,\"#7201a8\"],[0.3333333333333333,\"#9c179e\"],[0.4444444444444444,\"#bd3786\"],[0.5555555555555556,\"#d8576b\"],[0.6666666666666666,\"#ed7953\"],[0.7777777777777778,\"#fb9f3a\"],[0.8888888888888888,\"#fdca26\"],[1.0,\"#f0f921\"]],\"diverging\":[[0,\"#8e0152\"],[0.1,\"#c51b7d\"],[0.2,\"#de77ae\"],[0.3,\"#f1b6da\"],[0.4,\"#fde0ef\"],[0.5,\"#f7f7f7\"],[0.6,\"#e6f5d0\"],[0.7,\"#b8e186\"],[0.8,\"#7fbc41\"],[0.9,\"#4d9221\"],[1,\"#276419\"]]},\"xaxis\":{\"gridcolor\":\"white\",\"linecolor\":\"white\",\"ticks\":\"\",\"title\":{\"standoff\":15},\"zerolinecolor\":\"white\",\"automargin\":true,\"zerolinewidth\":2},\"yaxis\":{\"gridcolor\":\"white\",\"linecolor\":\"white\",\"ticks\":\"\",\"title\":{\"standoff\":15},\"zerolinecolor\":\"white\",\"automargin\":true,\"zerolinewidth\":2},\"scene\":{\"xaxis\":{\"backgroundcolor\":\"#E5ECF6\",\"gridcolor\":\"white\",\"linecolor\":\"white\",\"showbackground\":true,\"ticks\":\"\",\"zerolinecolor\":\"white\",\"gridwidth\":2},\"yaxis\":{\"backgroundcolor\":\"#E5ECF6\",\"gridcolor\":\"white\",\"linecolor\":\"white\",\"showbackground\":true,\"ticks\":\"\",\"zerolinecolor\":\"white\",\"gridwidth\":2},\"zaxis\":{\"backgroundcolor\":\"#E5ECF6\",\"gridcolor\":\"white\",\"linecolor\":\"white\",\"showbackground\":true,\"ticks\":\"\",\"zerolinecolor\":\"white\",\"gridwidth\":2}},\"shapedefaults\":{\"line\":{\"color\":\"#2a3f5f\"}},\"annotationdefaults\":{\"arrowcolor\":\"#2a3f5f\",\"arrowhead\":0,\"arrowwidth\":1},\"geo\":{\"bgcolor\":\"white\",\"landcolor\":\"#E5ECF6\",\"subunitcolor\":\"white\",\"showland\":true,\"showlakes\":true,\"lakecolor\":\"white\"},\"title\":{\"x\":0.05},\"mapbox\":{\"style\":\"light\"}}}},                        {\"responsive\": true}                    ).then(function(){\n",
       "                            \n",
       "var gd = document.getElementById('8bb84e5a-dd86-4fcc-ad5d-24c9867c3689');\n",
       "var x = new MutationObserver(function (mutations, observer) {{\n",
       "        var display = window.getComputedStyle(gd).display;\n",
       "        if (!display || display === 'none') {{\n",
       "            console.log([gd, 'removed!']);\n",
       "            Plotly.purge(gd);\n",
       "            observer.disconnect();\n",
       "        }}\n",
       "}});\n",
       "\n",
       "// Listen for the removal of the full notebook cells\n",
       "var notebookContainer = gd.closest('#notebook-container');\n",
       "if (notebookContainer) {{\n",
       "    x.observe(notebookContainer, {childList: true});\n",
       "}}\n",
       "\n",
       "// Listen for the clearing of the current output cell\n",
       "var outputEl = gd.closest('.output');\n",
       "if (outputEl) {{\n",
       "    x.observe(outputEl, {childList: true});\n",
       "}}\n",
       "\n",
       "                        })                };                });            </script>        </div>"
      ]
     },
     "metadata": {},
     "output_type": "display_data"
    }
   ],
   "source": [
    "kpi_yesterday = go.Figure()\n",
    "kpi_yesterday.add_trace(go.Indicator(\n",
    "    mode = 'number+delta',\n",
    "    value = count_of_jobs_yesterday,\n",
    "    delta = {'reference' : count_of_jobs_two_days},\n",
    "    title = {'text' : 'Jobs added yesterday'}\n",
    "))"
   ]
  },
  {
   "cell_type": "code",
   "execution_count": 151,
   "id": "d3d8028d",
   "metadata": {},
   "outputs": [
    {
     "data": {
      "application/vnd.plotly.v1+json": {
       "config": {
        "plotlyServerURL": "https://plot.ly"
       },
       "data": [
        {
         "delta": {
          "reference": 0
         },
         "mode": "number+delta",
         "title": {
          "text": "Jobs added in the past week"
         },
         "type": "indicator",
         "value": 7
        }
       ],
       "layout": {
        "template": {
         "data": {
          "bar": [
           {
            "error_x": {
             "color": "#2a3f5f"
            },
            "error_y": {
             "color": "#2a3f5f"
            },
            "marker": {
             "line": {
              "color": "#E5ECF6",
              "width": 0.5
             },
             "pattern": {
              "fillmode": "overlay",
              "size": 10,
              "solidity": 0.2
             }
            },
            "type": "bar"
           }
          ],
          "barpolar": [
           {
            "marker": {
             "line": {
              "color": "#E5ECF6",
              "width": 0.5
             },
             "pattern": {
              "fillmode": "overlay",
              "size": 10,
              "solidity": 0.2
             }
            },
            "type": "barpolar"
           }
          ],
          "carpet": [
           {
            "aaxis": {
             "endlinecolor": "#2a3f5f",
             "gridcolor": "white",
             "linecolor": "white",
             "minorgridcolor": "white",
             "startlinecolor": "#2a3f5f"
            },
            "baxis": {
             "endlinecolor": "#2a3f5f",
             "gridcolor": "white",
             "linecolor": "white",
             "minorgridcolor": "white",
             "startlinecolor": "#2a3f5f"
            },
            "type": "carpet"
           }
          ],
          "choropleth": [
           {
            "colorbar": {
             "outlinewidth": 0,
             "ticks": ""
            },
            "type": "choropleth"
           }
          ],
          "contour": [
           {
            "colorbar": {
             "outlinewidth": 0,
             "ticks": ""
            },
            "colorscale": [
             [
              0,
              "#0d0887"
             ],
             [
              0.1111111111111111,
              "#46039f"
             ],
             [
              0.2222222222222222,
              "#7201a8"
             ],
             [
              0.3333333333333333,
              "#9c179e"
             ],
             [
              0.4444444444444444,
              "#bd3786"
             ],
             [
              0.5555555555555556,
              "#d8576b"
             ],
             [
              0.6666666666666666,
              "#ed7953"
             ],
             [
              0.7777777777777778,
              "#fb9f3a"
             ],
             [
              0.8888888888888888,
              "#fdca26"
             ],
             [
              1,
              "#f0f921"
             ]
            ],
            "type": "contour"
           }
          ],
          "contourcarpet": [
           {
            "colorbar": {
             "outlinewidth": 0,
             "ticks": ""
            },
            "type": "contourcarpet"
           }
          ],
          "heatmap": [
           {
            "colorbar": {
             "outlinewidth": 0,
             "ticks": ""
            },
            "colorscale": [
             [
              0,
              "#0d0887"
             ],
             [
              0.1111111111111111,
              "#46039f"
             ],
             [
              0.2222222222222222,
              "#7201a8"
             ],
             [
              0.3333333333333333,
              "#9c179e"
             ],
             [
              0.4444444444444444,
              "#bd3786"
             ],
             [
              0.5555555555555556,
              "#d8576b"
             ],
             [
              0.6666666666666666,
              "#ed7953"
             ],
             [
              0.7777777777777778,
              "#fb9f3a"
             ],
             [
              0.8888888888888888,
              "#fdca26"
             ],
             [
              1,
              "#f0f921"
             ]
            ],
            "type": "heatmap"
           }
          ],
          "heatmapgl": [
           {
            "colorbar": {
             "outlinewidth": 0,
             "ticks": ""
            },
            "colorscale": [
             [
              0,
              "#0d0887"
             ],
             [
              0.1111111111111111,
              "#46039f"
             ],
             [
              0.2222222222222222,
              "#7201a8"
             ],
             [
              0.3333333333333333,
              "#9c179e"
             ],
             [
              0.4444444444444444,
              "#bd3786"
             ],
             [
              0.5555555555555556,
              "#d8576b"
             ],
             [
              0.6666666666666666,
              "#ed7953"
             ],
             [
              0.7777777777777778,
              "#fb9f3a"
             ],
             [
              0.8888888888888888,
              "#fdca26"
             ],
             [
              1,
              "#f0f921"
             ]
            ],
            "type": "heatmapgl"
           }
          ],
          "histogram": [
           {
            "marker": {
             "pattern": {
              "fillmode": "overlay",
              "size": 10,
              "solidity": 0.2
             }
            },
            "type": "histogram"
           }
          ],
          "histogram2d": [
           {
            "colorbar": {
             "outlinewidth": 0,
             "ticks": ""
            },
            "colorscale": [
             [
              0,
              "#0d0887"
             ],
             [
              0.1111111111111111,
              "#46039f"
             ],
             [
              0.2222222222222222,
              "#7201a8"
             ],
             [
              0.3333333333333333,
              "#9c179e"
             ],
             [
              0.4444444444444444,
              "#bd3786"
             ],
             [
              0.5555555555555556,
              "#d8576b"
             ],
             [
              0.6666666666666666,
              "#ed7953"
             ],
             [
              0.7777777777777778,
              "#fb9f3a"
             ],
             [
              0.8888888888888888,
              "#fdca26"
             ],
             [
              1,
              "#f0f921"
             ]
            ],
            "type": "histogram2d"
           }
          ],
          "histogram2dcontour": [
           {
            "colorbar": {
             "outlinewidth": 0,
             "ticks": ""
            },
            "colorscale": [
             [
              0,
              "#0d0887"
             ],
             [
              0.1111111111111111,
              "#46039f"
             ],
             [
              0.2222222222222222,
              "#7201a8"
             ],
             [
              0.3333333333333333,
              "#9c179e"
             ],
             [
              0.4444444444444444,
              "#bd3786"
             ],
             [
              0.5555555555555556,
              "#d8576b"
             ],
             [
              0.6666666666666666,
              "#ed7953"
             ],
             [
              0.7777777777777778,
              "#fb9f3a"
             ],
             [
              0.8888888888888888,
              "#fdca26"
             ],
             [
              1,
              "#f0f921"
             ]
            ],
            "type": "histogram2dcontour"
           }
          ],
          "mesh3d": [
           {
            "colorbar": {
             "outlinewidth": 0,
             "ticks": ""
            },
            "type": "mesh3d"
           }
          ],
          "parcoords": [
           {
            "line": {
             "colorbar": {
              "outlinewidth": 0,
              "ticks": ""
             }
            },
            "type": "parcoords"
           }
          ],
          "pie": [
           {
            "automargin": true,
            "type": "pie"
           }
          ],
          "scatter": [
           {
            "fillpattern": {
             "fillmode": "overlay",
             "size": 10,
             "solidity": 0.2
            },
            "type": "scatter"
           }
          ],
          "scatter3d": [
           {
            "line": {
             "colorbar": {
              "outlinewidth": 0,
              "ticks": ""
             }
            },
            "marker": {
             "colorbar": {
              "outlinewidth": 0,
              "ticks": ""
             }
            },
            "type": "scatter3d"
           }
          ],
          "scattercarpet": [
           {
            "marker": {
             "colorbar": {
              "outlinewidth": 0,
              "ticks": ""
             }
            },
            "type": "scattercarpet"
           }
          ],
          "scattergeo": [
           {
            "marker": {
             "colorbar": {
              "outlinewidth": 0,
              "ticks": ""
             }
            },
            "type": "scattergeo"
           }
          ],
          "scattergl": [
           {
            "marker": {
             "colorbar": {
              "outlinewidth": 0,
              "ticks": ""
             }
            },
            "type": "scattergl"
           }
          ],
          "scattermapbox": [
           {
            "marker": {
             "colorbar": {
              "outlinewidth": 0,
              "ticks": ""
             }
            },
            "type": "scattermapbox"
           }
          ],
          "scatterpolar": [
           {
            "marker": {
             "colorbar": {
              "outlinewidth": 0,
              "ticks": ""
             }
            },
            "type": "scatterpolar"
           }
          ],
          "scatterpolargl": [
           {
            "marker": {
             "colorbar": {
              "outlinewidth": 0,
              "ticks": ""
             }
            },
            "type": "scatterpolargl"
           }
          ],
          "scatterternary": [
           {
            "marker": {
             "colorbar": {
              "outlinewidth": 0,
              "ticks": ""
             }
            },
            "type": "scatterternary"
           }
          ],
          "surface": [
           {
            "colorbar": {
             "outlinewidth": 0,
             "ticks": ""
            },
            "colorscale": [
             [
              0,
              "#0d0887"
             ],
             [
              0.1111111111111111,
              "#46039f"
             ],
             [
              0.2222222222222222,
              "#7201a8"
             ],
             [
              0.3333333333333333,
              "#9c179e"
             ],
             [
              0.4444444444444444,
              "#bd3786"
             ],
             [
              0.5555555555555556,
              "#d8576b"
             ],
             [
              0.6666666666666666,
              "#ed7953"
             ],
             [
              0.7777777777777778,
              "#fb9f3a"
             ],
             [
              0.8888888888888888,
              "#fdca26"
             ],
             [
              1,
              "#f0f921"
             ]
            ],
            "type": "surface"
           }
          ],
          "table": [
           {
            "cells": {
             "fill": {
              "color": "#EBF0F8"
             },
             "line": {
              "color": "white"
             }
            },
            "header": {
             "fill": {
              "color": "#C8D4E3"
             },
             "line": {
              "color": "white"
             }
            },
            "type": "table"
           }
          ]
         },
         "layout": {
          "annotationdefaults": {
           "arrowcolor": "#2a3f5f",
           "arrowhead": 0,
           "arrowwidth": 1
          },
          "autotypenumbers": "strict",
          "coloraxis": {
           "colorbar": {
            "outlinewidth": 0,
            "ticks": ""
           }
          },
          "colorscale": {
           "diverging": [
            [
             0,
             "#8e0152"
            ],
            [
             0.1,
             "#c51b7d"
            ],
            [
             0.2,
             "#de77ae"
            ],
            [
             0.3,
             "#f1b6da"
            ],
            [
             0.4,
             "#fde0ef"
            ],
            [
             0.5,
             "#f7f7f7"
            ],
            [
             0.6,
             "#e6f5d0"
            ],
            [
             0.7,
             "#b8e186"
            ],
            [
             0.8,
             "#7fbc41"
            ],
            [
             0.9,
             "#4d9221"
            ],
            [
             1,
             "#276419"
            ]
           ],
           "sequential": [
            [
             0,
             "#0d0887"
            ],
            [
             0.1111111111111111,
             "#46039f"
            ],
            [
             0.2222222222222222,
             "#7201a8"
            ],
            [
             0.3333333333333333,
             "#9c179e"
            ],
            [
             0.4444444444444444,
             "#bd3786"
            ],
            [
             0.5555555555555556,
             "#d8576b"
            ],
            [
             0.6666666666666666,
             "#ed7953"
            ],
            [
             0.7777777777777778,
             "#fb9f3a"
            ],
            [
             0.8888888888888888,
             "#fdca26"
            ],
            [
             1,
             "#f0f921"
            ]
           ],
           "sequentialminus": [
            [
             0,
             "#0d0887"
            ],
            [
             0.1111111111111111,
             "#46039f"
            ],
            [
             0.2222222222222222,
             "#7201a8"
            ],
            [
             0.3333333333333333,
             "#9c179e"
            ],
            [
             0.4444444444444444,
             "#bd3786"
            ],
            [
             0.5555555555555556,
             "#d8576b"
            ],
            [
             0.6666666666666666,
             "#ed7953"
            ],
            [
             0.7777777777777778,
             "#fb9f3a"
            ],
            [
             0.8888888888888888,
             "#fdca26"
            ],
            [
             1,
             "#f0f921"
            ]
           ]
          },
          "colorway": [
           "#636efa",
           "#EF553B",
           "#00cc96",
           "#ab63fa",
           "#FFA15A",
           "#19d3f3",
           "#FF6692",
           "#B6E880",
           "#FF97FF",
           "#FECB52"
          ],
          "font": {
           "color": "#2a3f5f"
          },
          "geo": {
           "bgcolor": "white",
           "lakecolor": "white",
           "landcolor": "#E5ECF6",
           "showlakes": true,
           "showland": true,
           "subunitcolor": "white"
          },
          "hoverlabel": {
           "align": "left"
          },
          "hovermode": "closest",
          "mapbox": {
           "style": "light"
          },
          "paper_bgcolor": "white",
          "plot_bgcolor": "#E5ECF6",
          "polar": {
           "angularaxis": {
            "gridcolor": "white",
            "linecolor": "white",
            "ticks": ""
           },
           "bgcolor": "#E5ECF6",
           "radialaxis": {
            "gridcolor": "white",
            "linecolor": "white",
            "ticks": ""
           }
          },
          "scene": {
           "xaxis": {
            "backgroundcolor": "#E5ECF6",
            "gridcolor": "white",
            "gridwidth": 2,
            "linecolor": "white",
            "showbackground": true,
            "ticks": "",
            "zerolinecolor": "white"
           },
           "yaxis": {
            "backgroundcolor": "#E5ECF6",
            "gridcolor": "white",
            "gridwidth": 2,
            "linecolor": "white",
            "showbackground": true,
            "ticks": "",
            "zerolinecolor": "white"
           },
           "zaxis": {
            "backgroundcolor": "#E5ECF6",
            "gridcolor": "white",
            "gridwidth": 2,
            "linecolor": "white",
            "showbackground": true,
            "ticks": "",
            "zerolinecolor": "white"
           }
          },
          "shapedefaults": {
           "line": {
            "color": "#2a3f5f"
           }
          },
          "ternary": {
           "aaxis": {
            "gridcolor": "white",
            "linecolor": "white",
            "ticks": ""
           },
           "baxis": {
            "gridcolor": "white",
            "linecolor": "white",
            "ticks": ""
           },
           "bgcolor": "#E5ECF6",
           "caxis": {
            "gridcolor": "white",
            "linecolor": "white",
            "ticks": ""
           }
          },
          "title": {
           "x": 0.05
          },
          "xaxis": {
           "automargin": true,
           "gridcolor": "white",
           "linecolor": "white",
           "ticks": "",
           "title": {
            "standoff": 15
           },
           "zerolinecolor": "white",
           "zerolinewidth": 2
          },
          "yaxis": {
           "automargin": true,
           "gridcolor": "white",
           "linecolor": "white",
           "ticks": "",
           "title": {
            "standoff": 15
           },
           "zerolinecolor": "white",
           "zerolinewidth": 2
          }
         }
        }
       }
      },
      "text/html": [
       "<div>                            <div id=\"01835315-e5ea-4cca-ace0-53b45a3328d7\" class=\"plotly-graph-div\" style=\"height:525px; width:100%;\"></div>            <script type=\"text/javascript\">                require([\"plotly\"], function(Plotly) {                    window.PLOTLYENV=window.PLOTLYENV || {};                                    if (document.getElementById(\"01835315-e5ea-4cca-ace0-53b45a3328d7\")) {                    Plotly.newPlot(                        \"01835315-e5ea-4cca-ace0-53b45a3328d7\",                        [{\"delta\":{\"reference\":0},\"mode\":\"number+delta\",\"title\":{\"text\":\"Jobs added in the past week\"},\"value\":7,\"type\":\"indicator\"}],                        {\"template\":{\"data\":{\"histogram2dcontour\":[{\"type\":\"histogram2dcontour\",\"colorbar\":{\"outlinewidth\":0,\"ticks\":\"\"},\"colorscale\":[[0.0,\"#0d0887\"],[0.1111111111111111,\"#46039f\"],[0.2222222222222222,\"#7201a8\"],[0.3333333333333333,\"#9c179e\"],[0.4444444444444444,\"#bd3786\"],[0.5555555555555556,\"#d8576b\"],[0.6666666666666666,\"#ed7953\"],[0.7777777777777778,\"#fb9f3a\"],[0.8888888888888888,\"#fdca26\"],[1.0,\"#f0f921\"]]}],\"choropleth\":[{\"type\":\"choropleth\",\"colorbar\":{\"outlinewidth\":0,\"ticks\":\"\"}}],\"histogram2d\":[{\"type\":\"histogram2d\",\"colorbar\":{\"outlinewidth\":0,\"ticks\":\"\"},\"colorscale\":[[0.0,\"#0d0887\"],[0.1111111111111111,\"#46039f\"],[0.2222222222222222,\"#7201a8\"],[0.3333333333333333,\"#9c179e\"],[0.4444444444444444,\"#bd3786\"],[0.5555555555555556,\"#d8576b\"],[0.6666666666666666,\"#ed7953\"],[0.7777777777777778,\"#fb9f3a\"],[0.8888888888888888,\"#fdca26\"],[1.0,\"#f0f921\"]]}],\"heatmap\":[{\"type\":\"heatmap\",\"colorbar\":{\"outlinewidth\":0,\"ticks\":\"\"},\"colorscale\":[[0.0,\"#0d0887\"],[0.1111111111111111,\"#46039f\"],[0.2222222222222222,\"#7201a8\"],[0.3333333333333333,\"#9c179e\"],[0.4444444444444444,\"#bd3786\"],[0.5555555555555556,\"#d8576b\"],[0.6666666666666666,\"#ed7953\"],[0.7777777777777778,\"#fb9f3a\"],[0.8888888888888888,\"#fdca26\"],[1.0,\"#f0f921\"]]}],\"heatmapgl\":[{\"type\":\"heatmapgl\",\"colorbar\":{\"outlinewidth\":0,\"ticks\":\"\"},\"colorscale\":[[0.0,\"#0d0887\"],[0.1111111111111111,\"#46039f\"],[0.2222222222222222,\"#7201a8\"],[0.3333333333333333,\"#9c179e\"],[0.4444444444444444,\"#bd3786\"],[0.5555555555555556,\"#d8576b\"],[0.6666666666666666,\"#ed7953\"],[0.7777777777777778,\"#fb9f3a\"],[0.8888888888888888,\"#fdca26\"],[1.0,\"#f0f921\"]]}],\"contourcarpet\":[{\"type\":\"contourcarpet\",\"colorbar\":{\"outlinewidth\":0,\"ticks\":\"\"}}],\"contour\":[{\"type\":\"contour\",\"colorbar\":{\"outlinewidth\":0,\"ticks\":\"\"},\"colorscale\":[[0.0,\"#0d0887\"],[0.1111111111111111,\"#46039f\"],[0.2222222222222222,\"#7201a8\"],[0.3333333333333333,\"#9c179e\"],[0.4444444444444444,\"#bd3786\"],[0.5555555555555556,\"#d8576b\"],[0.6666666666666666,\"#ed7953\"],[0.7777777777777778,\"#fb9f3a\"],[0.8888888888888888,\"#fdca26\"],[1.0,\"#f0f921\"]]}],\"surface\":[{\"type\":\"surface\",\"colorbar\":{\"outlinewidth\":0,\"ticks\":\"\"},\"colorscale\":[[0.0,\"#0d0887\"],[0.1111111111111111,\"#46039f\"],[0.2222222222222222,\"#7201a8\"],[0.3333333333333333,\"#9c179e\"],[0.4444444444444444,\"#bd3786\"],[0.5555555555555556,\"#d8576b\"],[0.6666666666666666,\"#ed7953\"],[0.7777777777777778,\"#fb9f3a\"],[0.8888888888888888,\"#fdca26\"],[1.0,\"#f0f921\"]]}],\"mesh3d\":[{\"type\":\"mesh3d\",\"colorbar\":{\"outlinewidth\":0,\"ticks\":\"\"}}],\"scatter\":[{\"fillpattern\":{\"fillmode\":\"overlay\",\"size\":10,\"solidity\":0.2},\"type\":\"scatter\"}],\"parcoords\":[{\"type\":\"parcoords\",\"line\":{\"colorbar\":{\"outlinewidth\":0,\"ticks\":\"\"}}}],\"scatterpolargl\":[{\"type\":\"scatterpolargl\",\"marker\":{\"colorbar\":{\"outlinewidth\":0,\"ticks\":\"\"}}}],\"bar\":[{\"error_x\":{\"color\":\"#2a3f5f\"},\"error_y\":{\"color\":\"#2a3f5f\"},\"marker\":{\"line\":{\"color\":\"#E5ECF6\",\"width\":0.5},\"pattern\":{\"fillmode\":\"overlay\",\"size\":10,\"solidity\":0.2}},\"type\":\"bar\"}],\"scattergeo\":[{\"type\":\"scattergeo\",\"marker\":{\"colorbar\":{\"outlinewidth\":0,\"ticks\":\"\"}}}],\"scatterpolar\":[{\"type\":\"scatterpolar\",\"marker\":{\"colorbar\":{\"outlinewidth\":0,\"ticks\":\"\"}}}],\"histogram\":[{\"marker\":{\"pattern\":{\"fillmode\":\"overlay\",\"size\":10,\"solidity\":0.2}},\"type\":\"histogram\"}],\"scattergl\":[{\"type\":\"scattergl\",\"marker\":{\"colorbar\":{\"outlinewidth\":0,\"ticks\":\"\"}}}],\"scatter3d\":[{\"type\":\"scatter3d\",\"line\":{\"colorbar\":{\"outlinewidth\":0,\"ticks\":\"\"}},\"marker\":{\"colorbar\":{\"outlinewidth\":0,\"ticks\":\"\"}}}],\"scattermapbox\":[{\"type\":\"scattermapbox\",\"marker\":{\"colorbar\":{\"outlinewidth\":0,\"ticks\":\"\"}}}],\"scatterternary\":[{\"type\":\"scatterternary\",\"marker\":{\"colorbar\":{\"outlinewidth\":0,\"ticks\":\"\"}}}],\"scattercarpet\":[{\"type\":\"scattercarpet\",\"marker\":{\"colorbar\":{\"outlinewidth\":0,\"ticks\":\"\"}}}],\"carpet\":[{\"aaxis\":{\"endlinecolor\":\"#2a3f5f\",\"gridcolor\":\"white\",\"linecolor\":\"white\",\"minorgridcolor\":\"white\",\"startlinecolor\":\"#2a3f5f\"},\"baxis\":{\"endlinecolor\":\"#2a3f5f\",\"gridcolor\":\"white\",\"linecolor\":\"white\",\"minorgridcolor\":\"white\",\"startlinecolor\":\"#2a3f5f\"},\"type\":\"carpet\"}],\"table\":[{\"cells\":{\"fill\":{\"color\":\"#EBF0F8\"},\"line\":{\"color\":\"white\"}},\"header\":{\"fill\":{\"color\":\"#C8D4E3\"},\"line\":{\"color\":\"white\"}},\"type\":\"table\"}],\"barpolar\":[{\"marker\":{\"line\":{\"color\":\"#E5ECF6\",\"width\":0.5},\"pattern\":{\"fillmode\":\"overlay\",\"size\":10,\"solidity\":0.2}},\"type\":\"barpolar\"}],\"pie\":[{\"automargin\":true,\"type\":\"pie\"}]},\"layout\":{\"autotypenumbers\":\"strict\",\"colorway\":[\"#636efa\",\"#EF553B\",\"#00cc96\",\"#ab63fa\",\"#FFA15A\",\"#19d3f3\",\"#FF6692\",\"#B6E880\",\"#FF97FF\",\"#FECB52\"],\"font\":{\"color\":\"#2a3f5f\"},\"hovermode\":\"closest\",\"hoverlabel\":{\"align\":\"left\"},\"paper_bgcolor\":\"white\",\"plot_bgcolor\":\"#E5ECF6\",\"polar\":{\"bgcolor\":\"#E5ECF6\",\"angularaxis\":{\"gridcolor\":\"white\",\"linecolor\":\"white\",\"ticks\":\"\"},\"radialaxis\":{\"gridcolor\":\"white\",\"linecolor\":\"white\",\"ticks\":\"\"}},\"ternary\":{\"bgcolor\":\"#E5ECF6\",\"aaxis\":{\"gridcolor\":\"white\",\"linecolor\":\"white\",\"ticks\":\"\"},\"baxis\":{\"gridcolor\":\"white\",\"linecolor\":\"white\",\"ticks\":\"\"},\"caxis\":{\"gridcolor\":\"white\",\"linecolor\":\"white\",\"ticks\":\"\"}},\"coloraxis\":{\"colorbar\":{\"outlinewidth\":0,\"ticks\":\"\"}},\"colorscale\":{\"sequential\":[[0.0,\"#0d0887\"],[0.1111111111111111,\"#46039f\"],[0.2222222222222222,\"#7201a8\"],[0.3333333333333333,\"#9c179e\"],[0.4444444444444444,\"#bd3786\"],[0.5555555555555556,\"#d8576b\"],[0.6666666666666666,\"#ed7953\"],[0.7777777777777778,\"#fb9f3a\"],[0.8888888888888888,\"#fdca26\"],[1.0,\"#f0f921\"]],\"sequentialminus\":[[0.0,\"#0d0887\"],[0.1111111111111111,\"#46039f\"],[0.2222222222222222,\"#7201a8\"],[0.3333333333333333,\"#9c179e\"],[0.4444444444444444,\"#bd3786\"],[0.5555555555555556,\"#d8576b\"],[0.6666666666666666,\"#ed7953\"],[0.7777777777777778,\"#fb9f3a\"],[0.8888888888888888,\"#fdca26\"],[1.0,\"#f0f921\"]],\"diverging\":[[0,\"#8e0152\"],[0.1,\"#c51b7d\"],[0.2,\"#de77ae\"],[0.3,\"#f1b6da\"],[0.4,\"#fde0ef\"],[0.5,\"#f7f7f7\"],[0.6,\"#e6f5d0\"],[0.7,\"#b8e186\"],[0.8,\"#7fbc41\"],[0.9,\"#4d9221\"],[1,\"#276419\"]]},\"xaxis\":{\"gridcolor\":\"white\",\"linecolor\":\"white\",\"ticks\":\"\",\"title\":{\"standoff\":15},\"zerolinecolor\":\"white\",\"automargin\":true,\"zerolinewidth\":2},\"yaxis\":{\"gridcolor\":\"white\",\"linecolor\":\"white\",\"ticks\":\"\",\"title\":{\"standoff\":15},\"zerolinecolor\":\"white\",\"automargin\":true,\"zerolinewidth\":2},\"scene\":{\"xaxis\":{\"backgroundcolor\":\"#E5ECF6\",\"gridcolor\":\"white\",\"linecolor\":\"white\",\"showbackground\":true,\"ticks\":\"\",\"zerolinecolor\":\"white\",\"gridwidth\":2},\"yaxis\":{\"backgroundcolor\":\"#E5ECF6\",\"gridcolor\":\"white\",\"linecolor\":\"white\",\"showbackground\":true,\"ticks\":\"\",\"zerolinecolor\":\"white\",\"gridwidth\":2},\"zaxis\":{\"backgroundcolor\":\"#E5ECF6\",\"gridcolor\":\"white\",\"linecolor\":\"white\",\"showbackground\":true,\"ticks\":\"\",\"zerolinecolor\":\"white\",\"gridwidth\":2}},\"shapedefaults\":{\"line\":{\"color\":\"#2a3f5f\"}},\"annotationdefaults\":{\"arrowcolor\":\"#2a3f5f\",\"arrowhead\":0,\"arrowwidth\":1},\"geo\":{\"bgcolor\":\"white\",\"landcolor\":\"#E5ECF6\",\"subunitcolor\":\"white\",\"showland\":true,\"showlakes\":true,\"lakecolor\":\"white\"},\"title\":{\"x\":0.05},\"mapbox\":{\"style\":\"light\"}}}},                        {\"responsive\": true}                    ).then(function(){\n",
       "                            \n",
       "var gd = document.getElementById('01835315-e5ea-4cca-ace0-53b45a3328d7');\n",
       "var x = new MutationObserver(function (mutations, observer) {{\n",
       "        var display = window.getComputedStyle(gd).display;\n",
       "        if (!display || display === 'none') {{\n",
       "            console.log([gd, 'removed!']);\n",
       "            Plotly.purge(gd);\n",
       "            observer.disconnect();\n",
       "        }}\n",
       "}});\n",
       "\n",
       "// Listen for the removal of the full notebook cells\n",
       "var notebookContainer = gd.closest('#notebook-container');\n",
       "if (notebookContainer) {{\n",
       "    x.observe(notebookContainer, {childList: true});\n",
       "}}\n",
       "\n",
       "// Listen for the clearing of the current output cell\n",
       "var outputEl = gd.closest('.output');\n",
       "if (outputEl) {{\n",
       "    x.observe(outputEl, {childList: true});\n",
       "}}\n",
       "\n",
       "                        })                };                });            </script>        </div>"
      ]
     },
     "metadata": {},
     "output_type": "display_data"
    }
   ],
   "source": [
    "# Total count of jobs added total \n",
    "kpi_week = go.Figure()\n",
    "kpi_week.add_trace(go.Indicator(\n",
    "    mode = 'number+delta',\n",
    "    value = count_of_jobs_week,\n",
    "    delta = {'reference' : count_of_jobs_two_weeks},\n",
    "    title = {'text' : 'Jobs added in the past week'}\n",
    "))"
   ]
  },
  {
   "cell_type": "markdown",
   "id": "e4ff0877",
   "metadata": {},
   "source": [
    "## Time to compile into a report"
   ]
  },
  {
   "cell_type": "code",
   "execution_count": 230,
   "id": "6b8efcc9",
   "metadata": {},
   "outputs": [
    {
     "name": "stderr",
     "output_type": "stream",
     "text": [
      "C:\\ProgramData\\Anaconda3\\lib\\site-packages\\datapane\\common\\df_processor.py:28: FutureWarning:\n",
      "\n",
      "pandas.Int64Index is deprecated and will be removed from pandas in a future version. Use pandas.Index with the appropriate dtype instead.\n",
      "\n"
     ]
    },
    {
     "data": {
      "text/markdown": [
       "Uploading app and associated data - *please wait...*"
      ],
      "text/plain": [
       "<IPython.core.display.Markdown object>"
      ]
     },
     "metadata": {},
     "output_type": "display_data"
    },
    {
     "data": {
      "text/markdown": [
       "App successfully uploaded. View and share your app at <a href='https://cloud.datapane.com/apps/dA61wDk/weekly-job-analysis/' target='_blank'>here</a>."
      ],
      "text/plain": [
       "<IPython.core.display.Markdown object>"
      ]
     },
     "metadata": {},
     "output_type": "display_data"
    }
   ],
   "source": [
    "# reformat to fit DP syntax, which isn't too bad as it looks better than plotly\n",
    "\n",
    "\n",
    "app = dp.App(\n",
    "        dp.Group(\n",
    "            dp.BigNumber(\n",
    "                heading='Weekly Job Count:',\n",
    "                value=week_job_count,\n",
    "                change=two_weeks_ago_job_count,\n",
    "                is_upward_change=True\n",
    "            ),\n",
    "            dp.BigNumber(\n",
    "                heading=\"Jobs added today\",\n",
    "                value=count_of_jobs_today,\n",
    "                change=count_of_jobs_yesterday,\n",
    "                is_upward_change=True\n",
    "            ),         \n",
    "            columns=2,\n",
    "        ),\n",
    "        dp.Plot(fig), dp.DataTable(weekly_report))\n",
    "\n",
    "app.upload(name=\"Weekly Job Analysis\")"
   ]
  },
  {
   "cell_type": "markdown",
   "id": "d4ed5a6d",
   "metadata": {},
   "source": [
    "## Progress to build script in obtaining ratings and distance"
   ]
  },
  {
   "cell_type": "code",
   "execution_count": 535,
   "id": "05ee06ec",
   "metadata": {},
   "outputs": [
    {
     "name": "stdout",
     "output_type": "stream",
     "text": [
      "<!DOCTYPE html>\n",
      "<html lang=\"en\">\n",
      " <head>\n",
      "  <meta charset=\"utf-8\"/>\n",
      "  <meta content=\"/images/branding/googleg/1x/googleg_standard_color_128dp.png\" itemprop=\"image\"/>\n",
      "  <title>\n",
      "   jacobs glassdoor - Google Search\n",
      "  </title>\n",
      "  <script nonce=\"DD_h0CZYJ_Klb2UhY-Xu5A\">\n",
      "   (function(){\n",
      "document.documentElement.addEventListener(\"submit\",function(b){var a;if(a=b.target){var c=a.getAttribute(\"data-submitfalse\");a=\"1\"===c||\"q\"===c&&!a.elements.q.value?!0:!1}else a=!1;a&&(b.preventDefault(),b.stopPropagation())},!0);document.documentElement.addEventListener(\"click\",function(b){var a;a:{for(a=b.target;a&&a!==document.documentElement;a=a.parentElement)if(\"A\"===a.tagName){a=\"1\"===a.getAttribute(\"data-nohref\");break a}a=!1}a&&b.preventDefault()},!0);}).call(this);(function(){var a=window.performance;window.start=Date.now();a:{var b=window;if(a){var c=a.timing;if(c){var d=c.navigationStart,f=c.responseStart;if(f>d&&f<=window.start){window.start=f;b.wsrt=f-d;break a}}a.now&&(b.wsrt=Math.floor(a.now()))}}window.google=window.google||{};var h=function(g){g&&g.target.setAttribute(\"data-iml\",String(Date.now()))};document.documentElement.addEventListener(\"load\",h,!0);google.rglh=function(){document.documentElement.removeEventListener(\"load\",h,!0)};}).call(this);(function(){window._skwEvts=[];})();(function(){window.google.erd={jsr:1,bv:1702,de:true};})();(function(){var sdo=false;var mei=10;\n",
      "var h=this||self;var k,l=null!=(k=h.mei)?k:1,n,p=null!=(n=h.sdo)?n:!0,q=0,r,t=google.erd,v=t.jsr;google.ml=function(a,b,d,m,e){e=void 0===e?2:e;b&&(r=a&&a.message);if(google.dl)return google.dl(a,e,d),null;if(0>v){window.console&&console.error(a,d);if(-2===v)throw a;b=!1}else b=!a||!a.message||\"Error loading script\"===a.message||q>=l&&!m?!1:!0;if(!b)return null;q++;d=d||{};b=encodeURIComponent;var c=\"/gen_204?atyp=i&ei=\"+b(google.kEI);google.kEXPI&&(c+=\"&jexpid=\"+b(google.kEXPI));c+=\"&srcpg=\"+b(google.sn)+\"&jsr=\"+b(t.jsr)+\"&bver=\"+b(t.bv);var f=a.lineNumber;void 0!==f&&(c+=\"&line=\"+f);var g=\n",
      "a.fileName;g&&(0<g.indexOf(\"-extension:/\")&&(e=3),c+=\"&script=\"+b(g),f&&g===window.location.href&&(f=document.documentElement.outerHTML.split(\"\\n\")[f],c+=\"&cad=\"+b(f?f.substring(0,300):\"No script found.\")));c+=\"&jsel=\"+e;for(var u in d)c+=\"&\",c+=b(u),c+=\"=\",c+=b(d[u]);c=c+\"&emsg=\"+b(a.name+\": \"+a.message);c=c+\"&jsst=\"+b(a.stack||\"N/A\");12288<=c.length&&(c=c.substr(0,12288));a=c;m||google.log(0,\"\",a);return a};window.onerror=function(a,b,d,m,e){r!==a&&(a=e instanceof Error?e:Error(a),void 0===d||\"lineNumber\"in a||(a.lineNumber=d),void 0===b||\"fileName\"in a||(a.fileName=b),google.ml(a,!1,void 0,!1,\"SyntaxError\"===a.name||\"SyntaxError\"===a.message.substring(0,11)||-1!==a.message.indexOf(\"Script error\")?3:0));r=null;p&&q>=l&&(window.onerror=null)};})();(function(){var c=[],e=0;window.ping=function(b){-1==b.indexOf(\"&zx\")&&(b+=\"&zx=\"+Date.now());var a=new Image,d=e++;c[d]=a;a.onerror=a.onload=a.onabort=function(){delete c[d]};a.src=b};}).call(this);\n",
      "  </script>\n",
      "  <style>\n",
      "   a{color:#1a0dab;text-decoration:none;tap-highlight-color:rgba(0,0,0,.10)}a:visited{color:#4b11a8}a:hover{text-decoration:underline}img{border:0}html{font-family:arial,sans-serif;font-size:14px;line-height:20px;text-size-adjust:100%;color:#3c4043;word-wrap:break-word;background-color:#fff}.bRsWnc{background-color:#fff;border-top:1px solid #dadce0;height:39px;overflow:hidden}.N6RWV{height:51px;overflow-scrolling:touch;overflow-x:auto;overflow-y:hidden}.Uv67qb{box-pack:justify;font-size:12px;line-height:37px;justify-content:space-between;justify-content:space-between}.Uv67qb a,.Uv67qb span{color:#70757a;display:block;flex:none;padding:0 16px;text-align:center;text-transform:uppercase;}span.OXXup{border-bottom:2px solid #4285f4;color:#4285f4;font-weight:bold}a.eZt8xd:visited{color:#70757a}.FElbsf{border-left:1px solid rgba(0,0,0,.12)}header article{overflow:visible}.Pg70bf{height:39px;display:box;display:flex;display:flex;width:100%}.H0PQec{position:relative;flex:1}.sbc{display:flex;width:100%}.Pg70bf input{margin:2px 4px 2px 8px;}.x{width:26px;color:#70757a;font:27px/38px arial, sans-serif;line-height:40px;}#qdClwb{flex:0 0 auto;width:39px;height:39px;border-bottom:0;padding:0;border-top-right-radius:8px;background-color:#1a73e8;border:1px solid #1a73e8;background-image:url(data:image/gif;base64,R0lGODdhJAAjAPIHAODr/nCk+MPZ/FmV96zK+/7+/5K5+kqL9iwAAAAAJAAjAEADani63P4wykmbKcQRXDscQAEMXmmeaLQVLCukzyC09AjfeK7v/MAajACLhPMVAgwjsUcEiZa8xgAYrVqv2Kx2iwsIAAABknfBBAKrTE4IcMyot8ur8datqIbQfJdnAfo2WE6BV05wXIiJigkAOw==);}.sc{font-size:16px;position:absolute;top:39px;left:0;right:0;box-shadow:0 2px 5px rgba(0,0,0,.2);z-index:2;background-color:#fff}.sc>div{padding:10px 10px;padding-left:16px;padding-left:14px;border-top:1px solid #dfe1e5;}.scs{background-color:#fafafa;}.noHIxc{display:block;font-size:16px;padding:0 0 0 8px;flex:1;height:35px;outline:none;border:none;width:100%;-webkit-tap-highlight-color:rgba(0,0,0,0);overflow:hidden;}.sbc input[type=text]{background:none}.bz1lBb{background-color:#fff;border-radius:8px 8px 0 0;box-shadow:0 0 0 1px #dfe1e5;margin-top:24px;}.KP7LCb{border-radius:0 0 8px 8px;box-shadow:0px 1px 0px 1px #dfe1e5;margin-bottom:30px;overflow:hidden}html{background-color:#fff}body{margin:0 auto 0 156px;max-width:652px;min-width:652px;padding:0 8px}.cOl4Id{letter-spacing:-1px;text-align:center;font:22pt Futura, Arial, sans-serif;height:37px;font-smoothing:antialiased;padding:32px 28px 0 24px;position:absolute;left:0;top:0}.cOl4Id span{display:inline-block}.V6gwVd{color:#4285f4}.iWkuvd{color:#ea4335}.cDrQ7{color:#fcc934}.ntlR9{color:#34a853}.tJ3Myc{-webkit-transform:rotate(-20deg);position:relative;left:-1px;display:inline-block}footer{text-align:center;margin-top:18px}footer a,footer a:visited,.smiUbb{color:#70757a}.xeDNfc{margin:0 13px;white-space:nowrap}#EOlPnc{margin-top:36px}#EOlPnc>div{margin:20px}.Srfpq{color:#70757a}\n",
      "  </style>\n",
      " </head>\n",
      " <body jsmodel=\"hspDDf\">\n",
      "  <header id=\"hdr\">\n",
      "   <script nonce=\"DD_h0CZYJ_Klb2UhY-Xu5A\">\n",
      "    (function(){\n",
      "var k=this||self,l=function(a){var b=typeof a;return\"object\"==b&&null!=a||\"function\"==b},m=function(a,b){function c(){}c.prototype=b.prototype;a.j=b.prototype;a.prototype=new c;a.prototype.constructor=a;a.l=function(d,e,f){for(var g=Array(arguments.length-2),h=2;h<arguments.length;h++)g[h-2]=arguments[h];return b.prototype[e].apply(d,g)}};var n=Array.prototype.indexOf?function(a,b){return Array.prototype.indexOf.call(a,b,void 0)}:function(a,b){if(\"string\"===typeof a)return\"string\"!==typeof b||1!=b.length?-1:a.indexOf(b,0);for(var c=0;c<a.length;c++)if(c in a&&a[c]===b)return c;return-1};var p=function(a){return\"string\"==typeof a.className?a.className:a.getAttribute&&a.getAttribute(\"class\")||\"\"},q=function(a,b){\"string\"==typeof a.className?a.className=b:a.setAttribute&&a.setAttribute(\"class\",b)},r=function(a,b){a.classList?b=a.classList.contains(b):(a=a.classList?a.classList:p(a).match(/\\S+/g)||[],b=0<=n(a,b));return b},v=function(){var a=t,b=u;a.classList?a.classList.remove(b):r(a,b)&&q(a,Array.prototype.filter.call(a.classList?a.classList:p(a).match(/\\S+/g)||[],function(c){return c!=\n",
      "b}).join(\" \"))};function w(){var a=k.navigator;return a&&(a=a.userAgent)?a:\"\"};var x=function(a){x[\" \"](a);return a};x[\" \"]=function(){};var y=-1!=w().indexOf(\"Gecko\")&&!(-1!=w().toLowerCase().indexOf(\"webkit\")&&-1==w().indexOf(\"Edge\"))&&!(-1!=w().indexOf(\"Trident\")||-1!=w().indexOf(\"MSIE\"))&&-1==w().indexOf(\"Edge\");var z=function(a,b){this.type=a;this.target=b};z.prototype.g=function(){};var A=function(){if(!k.addEventListener||!Object.defineProperty)return!1;var a=!1,b=Object.defineProperty({},\"passive\",{get:function(){a=!0}});try{k.addEventListener(\"test\",function(){},b),k.removeEventListener(\"test\",function(){},b)}catch(c){}return a}();var C=function(a){z.call(this,a?a.type:\"\");this.relatedTarget=this.target=null;this.button=this.screenY=this.screenX=this.clientY=this.clientX=0;this.key=\"\";this.keyCode=0;this.metaKey=this.shiftKey=this.altKey=this.ctrlKey=!1;this.state=null;this.pointerId=0;this.pointerType=\"\";this.h=null;if(a){var b=this.type=a.type,c=a.changedTouches&&a.changedTouches.length?a.changedTouches[0]:null;this.target=a.target||a.srcElement;var d=a.relatedTarget;if(d){if(y){a:{try{x(d.nodeName);var e=!0;break a}catch(f){}e=\n",
      "!1}e||(d=null)}}else\"mouseover\"==b?d=a.fromElement:\"mouseout\"==b&&(d=a.toElement);this.relatedTarget=d;c?(this.clientX=void 0!==c.clientX?c.clientX:c.pageX,this.clientY=void 0!==c.clientY?c.clientY:c.pageY,this.screenX=c.screenX||0,this.screenY=c.screenY||0):(this.clientX=void 0!==a.clientX?a.clientX:a.pageX,this.clientY=void 0!==a.clientY?a.clientY:a.pageY,this.screenX=a.screenX||0,this.screenY=a.screenY||0);this.button=a.button;this.keyCode=a.keyCode||0;this.key=a.key||\"\";this.ctrlKey=a.ctrlKey;this.altKey=a.altKey;this.shiftKey=a.shiftKey;this.metaKey=a.metaKey;this.pointerId=a.pointerId||0;this.pointerType=\"string\"===typeof a.pointerType?a.pointerType:B[a.pointerType]||\"\";this.state=a.state;this.h=a;a.defaultPrevented&&C.j.g.call(this)}};m(C,z);var B={2:\"touch\",3:\"pen\",4:\"mouse\"};C.prototype.g=function(){C.j.g.call(this);var a=this.h;a.preventDefault?a.preventDefault():a.returnValue=!1};var D=\"closure_listenable_\"+(1E6*Math.random()|0);var E=0;var F=function(a,b,c,d,e){this.listener=a;this.proxy=null;this.src=b;this.type=c;this.capture=!!d;this.h=e;this.key=++E;this.g=this.i=!1},G=function(a){a.g=!0;a.listener=null;a.proxy=null;a.src=null;a.h=null};var H=function(a){this.src=a;this.g={};this.h=0};H.prototype.add=function(a,b,c,d,e){var f=a.toString();a=this.g[f];a||(a=this.g[f]=[],this.h++);var g;a:{for(g=0;g<a.length;++g){var h=a[g];if(!h.g&&h.listener==b&&h.capture==!!d&&h.h==e)break a}g=-1}-1<g?(b=a[g],c||(b.i=!1)):(b=new F(b,this.src,f,!!d,e),b.i=c,a.push(b));return b};var I=\"closure_lm_\"+(1E6*Math.random()|0),J={},K=0,M=function(a,b,c,d,e){if(d&&d.once)return L(a,b,c,d,e);if(Array.isArray(b)){for(var f=0;f<b.length;f++)M(a,b[f],c,d,e);return null}c=N(c);return a&&a[D]?a.g(b,c,l(d)?!!d.capture:!!d,e):O(a,b,c,!1,d,e)},O=function(a,b,c,d,e,f){if(!b)throw Error(\"a\");var g=l(e)?!!e.capture:!!e,h=P(a);h||(a[I]=h=new H(a));c=h.add(b,c,d,g,f);if(c.proxy)return c;d=Q();c.proxy=d;d.src=a;d.listener=c;if(a.addEventListener)A||(e=g),void 0===e&&(e=!1),a.addEventListener(b.toString(),d,e);else if(a.attachEvent)a.attachEvent(R(b.toString()),d);else if(a.addListener&&a.removeListener)a.addListener(d);else throw Error(\"b\");K++;return c},Q=function(){var a=S,b=function(c){return a.call(b.src,b.listener,c)};return b},L=function(a,b,c,d,e){if(Array.isArray(b)){for(var f=0;f<b.length;f++)L(a,b[f],c,d,e);return null}c=N(c);return a&&a[D]?a.h(b,c,l(d)?!!d.capture:!!d,e):O(a,b,c,!0,d,e)},T=function(a){if(\"number\"!==typeof a&&a&&!a.g){var b=a.src;if(b&&b[D])b.o(a);else{var c=a.type,d=a.proxy;b.removeEventListener?b.removeEventListener(c,d,a.capture):b.detachEvent?b.detachEvent(R(c),d):b.addListener&&b.removeListener&&b.removeListener(d);K--;if(c=P(b)){d=a.type;if(d in c.g){var e=c.g[d],f=n(e,a),g;(g=0<=f)&&Array.prototype.splice.call(e,f,1);g&&(G(a),0==c.g[d].length&&(delete c.g[d],c.h--))}0==c.h&&(c.src=null,b[I]=null)}else G(a)}}},R=function(a){return a in J?J[a]:J[a]=\"on\"+a},S=function(a,b){if(a.g)a=!0;else{b=new C(b,this);var c=a.listener,d=a.h||a.src;a.i&&T(a);a=c.call(d,b)}return a},P=function(a){a=a[I];return a instanceof H?a:null},U=\"__closure_events_fn_\"+(1E9*Math.random()>>>0),N=function(a){if(\"function\"===typeof a)return a;a[U]||(a[U]=function(b){return a.handleEvent(b)});return a[U]};var u,t=document.documentElement,V;function W(){T(V);V=L(t,\"mousedown\",function(){v();X()},{capture:!0})}function X(){T(V);V=M(t,\"keydown\",function(a){if(9===a.keyCode){a=t;var b=u;if(a.classList)a.classList.add(b);else if(!r(a,b)){var c=p(a);q(a,c+(0<c.length?\" \"+b:b))}W()}})};u=\"zAoYTe\";X();}).call(this);\n",
      "   </script>\n",
      "   <div class=\"cOl4Id\">\n",
      "    <a href=\"/?sa=X&amp;ved=0ahUKEwivjujrkP_7AhWnm-AKHd5BCV4QOwgC\">\n",
      "     <span class=\"V6gwVd\">\n",
      "      G\n",
      "     </span>\n",
      "     <span class=\"iWkuvd\">\n",
      "      o\n",
      "     </span>\n",
      "     <span class=\"cDrQ7\">\n",
      "      o\n",
      "     </span>\n",
      "     <span class=\"V6gwVd\">\n",
      "      g\n",
      "     </span>\n",
      "     <span class=\"ntlR9\">\n",
      "      l\n",
      "     </span>\n",
      "     <span class=\"iWkuvd tJ3Myc\">\n",
      "      e\n",
      "     </span>\n",
      "    </a>\n",
      "   </div>\n",
      "   <div class=\"bz1lBb\">\n",
      "    <form class=\"Pg70bf\" id=\"sf\">\n",
      "     <input name=\"ie\" type=\"hidden\" value=\"ISO-8859-1\"/>\n",
      "     <div class=\"H0PQec\">\n",
      "      <div class=\"sbc esbc\">\n",
      "       <input autocapitalize=\"none\" autocomplete=\"off\" class=\"noHIxc\" name=\"q\" spellcheck=\"false\" type=\"text\" value=\"jacobs glassdoor\"/>\n",
      "       <input name=\"oq\" type=\"hidden\"/>\n",
      "       <input name=\"aqs\" type=\"hidden\"/>\n",
      "       <div class=\"x\">\n",
      "        ×\n",
      "       </div>\n",
      "       <div class=\"sc\">\n",
      "       </div>\n",
      "      </div>\n",
      "     </div>\n",
      "     <button id=\"qdClwb\" type=\"submit\">\n",
      "     </button>\n",
      "    </form>\n",
      "   </div>\n",
      "   <noscript>\n",
      "    <meta content=\"0;url=/search?q=jacobs+glassdoor&amp;ie=UTF-8&amp;gbv=1&amp;sei=u-mcY-_EIae3ggfeg6XwBQ\" http-equiv=\"refresh\"/>\n",
      "    <style>\n",
      "     table,div,span,p{display:none}\n",
      "    </style>\n",
      "    <div style=\"display:block\">\n",
      "     Please click\n",
      "     <a href=\"/search?q=jacobs+glassdoor&amp;ie=UTF-8&amp;gbv=1&amp;sei=u-mcY-_EIae3ggfeg6XwBQ\">\n",
      "      here\n",
      "     </a>\n",
      "     if you are not redirected within a few seconds.\n",
      "    </div>\n",
      "   </noscript>\n",
      "  </header>\n",
      "  <div id=\"main\">\n",
      "   <div>\n",
      "    <div class=\"KP7LCb\">\n",
      "     <div class=\"bRsWnc\">\n",
      "      <div class=\"N6RWV\">\n",
      "       <div class=\"Pg70bf Uv67qb\">\n",
      "        <span class=\"OXXup\">\n",
      "         All\n",
      "        </span>\n",
      "        <a class=\"eZt8xd\" href=\"/search?q=jacobs+glassdoor&amp;ie=UTF-8&amp;source=lnms&amp;tbm=nws&amp;sa=X&amp;ved=0ahUKEwivjujrkP_7AhWnm-AKHd5BCV4Q_AUIBigB\">\n",
      "         News\n",
      "        </a>\n",
      "        <a class=\"eZt8xd\" href=\"/search?q=jacobs+glassdoor&amp;ie=UTF-8&amp;source=lnms&amp;tbm=shop&amp;sa=X&amp;ved=0ahUKEwivjujrkP_7AhWnm-AKHd5BCV4Q_AUIBygC\">\n",
      "         Shopping\n",
      "        </a>\n",
      "        <a class=\"eZt8xd\" href=\"/search?q=jacobs+glassdoor&amp;ie=UTF-8&amp;source=lnms&amp;tbm=isch&amp;sa=X&amp;ved=0ahUKEwivjujrkP_7AhWnm-AKHd5BCV4Q_AUICCgD\">\n",
      "         Images\n",
      "        </a>\n",
      "        <a href=\"https://maps.google.com/maps?q=jacobs+glassdoor&amp;um=1&amp;ie=UTF-8&amp;sa=X&amp;ved=0ahUKEwivjujrkP_7AhWnm-AKHd5BCV4Q_AUICSgE\">\n",
      "         Maps\n",
      "        </a>\n",
      "        <a href=\"/search?q=jacobs+glassdoor&amp;ie=UTF-8&amp;source=lnms&amp;tbm=vid&amp;sa=X&amp;ved=0ahUKEwivjujrkP_7AhWnm-AKHd5BCV4Q_AUICigF\">\n",
      "         Videos\n",
      "        </a>\n",
      "        <a href=\"/search?q=jacobs+glassdoor&amp;ie=UTF-8&amp;source=lnms&amp;tbm=bks&amp;sa=X&amp;ved=0ahUKEwivjujrkP_7AhWnm-AKHd5BCV4Q_AUICygG\">\n",
      "         Books\n",
      "        </a>\n",
      "        <div class=\"FElbsf\">\n",
      "         <a href=\"/advanced_search\" id=\"st-toggle\" role=\"button\" style=\"white-space:nowrap\">\n",
      "          Search tools\n",
      "         </a>\n",
      "        </div>\n",
      "       </div>\n",
      "      </div>\n",
      "     </div>\n",
      "    </div>\n",
      "    <div class=\"Pg70bf wEsjbd Gx5Zad xpd EtOod pkphOe\" id=\"st-card\" style=\"display:none\">\n",
      "     <style>\n",
      "      .wEsjbd{background-color:#fff;height:44px;white-space:nowrap}.coPU8c{height:60px;overflow-scrolling:touch;overflow-x:auto;overflow-y:hidden}.Xj2aue{height:44px;overflow:hidden}.RnNGze{margin:11px 16px}.wEsjbd div,.wEsjbd a,.wEsjbd li{outline-width:0;outline:none}\n",
      "     </style>\n",
      "     <div class=\"Xj2aue\">\n",
      "      <div class=\"coPU8c\">\n",
      "       <div class=\"RnNGze\">\n",
      "        <style>\n",
      "         .PA9J5{display:inline-block}.RXaOfd{display:inline-block;height:22px;position:relative;padding-top:0;padding-bottom:0;padding-right:16px;padding-left:0;line-height:22px;cursor:pointer;text-transform:uppercase;font-size:12px;color:#70757a}.sa1toc{background:#fff;display:none;position:absolute;border:1px solid #d6d6d6;box-shadow:0 2px 4px rgba(0,0,0,.3);margin:0;white-space:nowrap;z-index:103;line-height:17px;padding-top:5px;padding-bottom:5px;padding-left:0}.PA9J5:hover .sa1toc{display:block}.mGSy8d a:active,.RXaOfd:active{color:#4285f4}\n",
      "        </style>\n",
      "        <div class=\"PA9J5\">\n",
      "         <div class=\"RXaOfd\" role=\"button\" tabindex=\"0\">\n",
      "          <style>\n",
      "           .TWMOUc{display:inline-block;padding-right:14px;white-space:nowrap}.vQYuGf{font-weight:bold}.OmTIzf{border-color:#909090 transparent;border-style:solid;border-width:4px 4px 0 4px;width:0;height:0;margin-left:-10px;top:50%;margin-top:-2px;position:absolute}.RXaOfd:active .OmTIzf{border-color:#4285f4 transparent}\n",
      "          </style>\n",
      "          <div class=\"TWMOUc\">\n",
      "           Any time\n",
      "          </div>\n",
      "          <span class=\"OmTIzf\">\n",
      "          </span>\n",
      "         </div>\n",
      "         <ul class=\"sa1toc ozatM\">\n",
      "          <style>\n",
      "           .ozatM{font-size:12px;text-transform:uppercase}.ozatM .yNFsl,.ozatM li{list-style-type:none;list-style-position:outside;list-style-image:none}.yNFsl.SkUj4c,.yNFsl a{color:#70757a;text-decoration:none;padding:6px 44px 6px 14px;line-height:17px;display:block}.SkUj4c{background-image:url(//ssl.gstatic.com/ui/v1/menu/checkmark2.png);background-position:right center;background-repeat:no-repeat}.SkUj4c:active{background-color:#f8f9fa}\n",
      "          </style>\n",
      "          <li class=\"yNFsl SkUj4c\">\n",
      "           Any time\n",
      "          </li>\n",
      "          <li class=\"yNFsl\">\n",
      "           <a href=\"/search?q=jacobs+glassdoor&amp;ie=UTF-8&amp;source=lnt&amp;tbs=qdr:h&amp;sa=X&amp;ved=0ahUKEwivjujrkP_7AhWnm-AKHd5BCV4QpwUIDQ\">\n",
      "            Past hour\n",
      "           </a>\n",
      "          </li>\n",
      "          <li class=\"yNFsl\">\n",
      "           <a href=\"/search?q=jacobs+glassdoor&amp;ie=UTF-8&amp;source=lnt&amp;tbs=qdr:d&amp;sa=X&amp;ved=0ahUKEwivjujrkP_7AhWnm-AKHd5BCV4QpwUIDg\">\n",
      "            Past 24 hours\n",
      "           </a>\n",
      "          </li>\n",
      "          <li class=\"yNFsl\">\n",
      "           <a href=\"/search?q=jacobs+glassdoor&amp;ie=UTF-8&amp;source=lnt&amp;tbs=qdr:w&amp;sa=X&amp;ved=0ahUKEwivjujrkP_7AhWnm-AKHd5BCV4QpwUIDw\">\n",
      "            Past week\n",
      "           </a>\n",
      "          </li>\n",
      "          <li class=\"yNFsl\">\n",
      "           <a href=\"/search?q=jacobs+glassdoor&amp;ie=UTF-8&amp;source=lnt&amp;tbs=qdr:m&amp;sa=X&amp;ved=0ahUKEwivjujrkP_7AhWnm-AKHd5BCV4QpwUIEA\">\n",
      "            Past month\n",
      "           </a>\n",
      "          </li>\n",
      "          <li class=\"yNFsl\">\n",
      "           <a href=\"/search?q=jacobs+glassdoor&amp;ie=UTF-8&amp;source=lnt&amp;tbs=qdr:y&amp;sa=X&amp;ved=0ahUKEwivjujrkP_7AhWnm-AKHd5BCV4QpwUIEQ\">\n",
      "            Past year\n",
      "           </a>\n",
      "          </li>\n",
      "         </ul>\n",
      "        </div>\n",
      "        <div class=\"PA9J5\">\n",
      "         <div class=\"RXaOfd\" role=\"button\" tabindex=\"0\">\n",
      "          <div class=\"TWMOUc\">\n",
      "           All results\n",
      "          </div>\n",
      "          <span class=\"OmTIzf\">\n",
      "          </span>\n",
      "         </div>\n",
      "         <ul class=\"sa1toc ozatM\">\n",
      "          <li class=\"yNFsl SkUj4c\">\n",
      "           All results\n",
      "          </li>\n",
      "          <li class=\"yNFsl\">\n",
      "           <a href=\"/search?q=jacobs+glassdoor&amp;ie=UTF-8&amp;source=lnt&amp;tbs=li:1&amp;sa=X&amp;ved=0ahUKEwivjujrkP_7AhWnm-AKHd5BCV4QpwUIEw\">\n",
      "            Verbatim\n",
      "           </a>\n",
      "          </li>\n",
      "         </ul>\n",
      "        </div>\n",
      "       </div>\n",
      "      </div>\n",
      "     </div>\n",
      "     <script nonce=\"DD_h0CZYJ_Klb2UhY-Xu5A\">\n",
      "      (function(){var a=document.getElementById(\"st-toggle\"),b=document.getElementById(\"st-card\");a&&b&&a.addEventListener(\"click\",function(c){b.style.display=b.style.display?\"\":\"none\";c.preventDefault()},!1);}).call(this);\n",
      "     </script>\n",
      "    </div>\n",
      "   </div>\n",
      "   <style>\n",
      "    .Gx5Zad{background-color:#fff;margin-bottom:30px;box-shadow:0 0 0 1px #dfe1e5;border-radius:8px}.pkphOe{font-size:14px;line-height:22px;}.EtOod>*:first-child{border-top-left-radius:8px;border-top-right-radius:8px}.EtOod>*:last-child{border-bottom-left-radius:8px;border-bottom-right-radius:8px}.EtOod>.qxDOhb>*:first-child{border-top-left-radius:8px;border-top-right-radius:8px}.EtOod>.qxDOhb>*:last-child{border-bottom-left-radius:8px;border-bottom-right-radius:8px}.fP1Qef{background:transparent !important;box-shadow:none !important;border:none !important}.Gx5Zad.fP1Qef{margin-top:-12px;margin-bottom:18px}.rl7ilb{display:block;clear:both}.egMi0{margin-bottom:-19px}.kCrYT{padding:12px 16px 12px}a.fdYsqf{color:#4b11a8}.sCuL3{position:absolute;width:100%;top:0;left:0;padding-top:1px;margin-bottom:-1px}.j039Wc{padding-top:28px;margin-bottom:-1px}.DnJfK{position:relative}.l97dzf{font-weight:400}.zBAuLc{line-height:normal;margin:0;padding:0}.BNeawe{white-space:pre-line;word-wrap:break-word}.vvjwJb{color:#1a0dab;font-size:20px;line-height:26px}a:visited .vvjwJb,.vvjwJb a:visited{color:#4b11a8}.vvjwJb.HrGdeb{color:#fff}a:visited .vvjwJb.HrGdeb,.vvjwJb.HrGdeb a:visited{color:rgba(255,255,255,.70)}.UPmit{font-size:14px;line-height:22px}.UPmit.HrGdeb{color:rgba(255,255,255,.70)}.UPmit.AP7Wnd{color:#202124}.lRVwie{text-overflow:ellipsis;white-space:nowrap;overflow:hidden}.Ap5OSd{padding-bottom:12px}.s3v9rd{font-size:14px;line-height:22px}.s3v9rd.HrGdeb{color:#fff}.s3v9rd.AP7Wnd{color:#202124}.mSx1Ee{padding-left:48px;margin:0}.v9i61e{padding-bottom:8px}.r0bn4c.tr0dw{color:rgba(255,255,255,.70)}.r0bn4c.rQMQod{color:#70757a}.tP9Zud{display:inline-block;}.QzarWc{color:#3c4043}.oqSTJd{color:#70757a}.Hk2yDb,.Hk2yDb span{background-repeat:repeat-x;background-size:14px,14px;height:14px;width:70px}.Hk2yDb{display:inline-block;font-size:0;line-height:0;position:relative;top:1px}.Hk2yDb span{display:block}.Hk2yDb.KsR1A{background-image:url(data:image/png;base64,iVBORw0KGgoAAAANSUhEUgAAACgAAAAoBAMAAAB+0KVeAAAAD1BMVEVMaXEAAAAAAAAAAAAAAACF6eB8AAAABXRSTlMAID8OM2w9R7oAAACdSURBVHgBvdGBCcIwEEbhq+kAaXEA+5oBYuoAmnb/mQT5gcMDCoB+AIEA9y7EfmrIFl1uFrXVol4sSFBjB3LsQCzNsMQOlNjhq5S26Qrwmjbdp6PjlKMq4SiXwNOAhrOadDeymoyAPP1zfEUGJJvTNdFOLxFzElLPQqNb0/8F+x39iDTYzR56ucws7pBePtnU/aKomrpbM5sM1f7pDdrTIIXMnb07AAAAAElFTkSuQmCC)}.Hk2yDb.KsR1A span{background-image:url(data:image/png;base64,iVBORw0KGgoAAAANSUhEUgAAACgAAAAoBAMAAAB+0KVeAAAAGFBMVEVMaXH0tAD0tAD0tAD0tAD0tAD0tAD0tAB7hoq7AAAACHRSTlMAP6Ib/oXVZJ3/vYgAAADHSURBVHgBnNE1A4JgGARgmtHW0dxtZ+OA0dbRdrX/v+RLmkc/9H3MH2HjEcgVIrA1iMCZEoF7NWwycA6hBKxDmAZ6IawA/aDx0FMLoGjgKIAdA3d0WM89SkfYOZaWl5SOdwSiGe0EMW4/jkIP5vdeU2t2k14sUGugKJ6GKGdfG0aoE/+l509I7y/4azfiL7/l4IDIU4rmHwv0zZUH94AaZ421f4DO1ofVCFmgbGwbQNwzahtrJ4sRoUQvva8JuRo9vcA8RyMAAIXWR1O6HNlyAAAAAElFTkSuQmCC)}.AraNOb{text-decoration:underline}.K8tyEc{padding-bottom:12px}.mEUgP{font-weight:bold;font-size:16px;color:#000;margin:0;padding:12px 16px 0 16px}.FCUp0c{font-weight:bold}.x54gtf{height:1px;background-color:#dadce0;margin:0 16px}.Q0HXG{height:1px;background-color:#dadce0}.C7GS5b{margin-left:12px;display:table-cell;vertical-align:middle}.rkGIWe{padding:14px}.xpc .hwc,.xpx .hwx{display:none}.iIWm4b{box-sizing:border-box;min-height:48px}.fLtXsc{padding:14px;position:relative}.NtmAdb{width:40px;height:40px;overflow:hidden;margin-top:-10px;margin-bottom:-16px;margin-right:8px;border-radius:4px}.xpc .NtmAdb{display:inline-block}.xpx .NtmAdb{display:none}.Lt3Tzc{display:inline-block;padding-right:26px}.Lym8W{width:14px;height:20px;position:relative;margin:0 auto}.xCgLUe{position:absolute;right:16px;margin-top:-10px;top:50%}.Lym8W div{position:absolute;border-left:7px solid transparent;border-right:7px solid transparent;width:0;height:0;left:0}.IyYaEd{top:7px;border-top:7px solid #70757a}.ECUHQe{top:4px;border-top:7px solid #fff}.AeQQub{bottom:7px;border-bottom:7px solid #70757a}.YCU7eb{bottom:4px;border-bottom:7px solid #fff}.qxDOhb{border-radius:0}.yStFkb .xpd{border-radius:8px;box-shadow:none;border:1px solid #dadce0;margin-bottom:0}.oTWEpb{padding-top:12px}.n1Qedd{overflow:hidden;text-align:center}.KMAGC{margin:0 auto;display:block}.ho0sdc{margin:0 -50%;display:inline-block}.Xb5VRe{color:#1a0dab}a:visited .Xb5VRe{color:#4b11a8}.Xb5VRe.tr0dw{color:#fff}a:visited .Xb5VRe.tr0dw{color:rgba(255,255,255,.70)}.P1NWSe{display:table;width:100%;padding-top:16px;padding-bottom:16px;margin-bottom:-12px}.wOMIed{display:table-cell;vertical-align:top}.nkPlDb{vertical-align:middle}.JhFlyf{color:#3c4043;font-size:14px;text-align:center}.VQFmSd{display:block;white-space:pre-line;word-wrap:break-word}.JhFlyf.VQFmSd{line-height:22px}.f4J0H{padding:18px}.hfgVwf{margin-top:12px}.IxZjcf .hfgVwf{margin-bottom:12px}.OdF8Fd{float:right;padding-left:16px}.p1vimb{border-radius:8px;display:block}.rkvY3c{clear:both}.deIvCb{font-size:16px;line-height:20px;font-weight:400}.deIvCb.HrGdeb{color:#fff}.deIvCb.AP7Wnd{color:#202124}.CgE3Ac{margin:0 16px}.I9mEQ{padding-bottom:12px}.LnMnt{border-collapse:collapse;border-spacing:0;width:100%}.LnMnt td{padding-top:0;padding-bottom:0;padding-right:8px}.LnMnt .s5aIid{padding-right:0}.IxZjcf{border-bottom:1px solid #dadce0}.sjsZvd{vertical-align:top}.OE1use{text-align:left}.BSv1qf{text-align:center}.HlHBvc{text-align:right}.uEec3{font-size:12px;line-height:16px}.uEec3.HrGdeb{color:rgba(255,255,255,.70)}.uEec3.AP7Wnd{color:#70757a}.IfyLsd{float:left;margin-right:8px}.HlHBvc .IfyLsd{float:right;margin-right:8px}.gGQDvd{padding:14px;position:relative}.Q71vJc{display:block;position:relative;width:100%}.kjGX2{position:absolute;left:48px;right:0;vertical-align:bottom;display:inline-block;color:#3c4043}.ieB2Dd{overflow:hidden;margin-top:-10px;margin-bottom:-16px;margin-right:8px;border-radius:4px;display:inline-block;border-radius:50%;padding:10px}.OEaqif{width:20px;height:20px;display:block}.RJI4s{vertical-align:middle}.rLshyf,.BmP5tf{padding-top:12px;padding-bottom:12px}.YOx3Ab{padding-left:16px;}.w1C3Le,.BmP5tf,.G5NbBd,.CS4w5b{padding-left:16px;padding-right:16px;}.G5NbBd{padding-bottom:12px}.CS4w5b{padding-top:12px}.nMymef{display:flex}.G5eFlf{flex:1;display:block}.nMymef span{text-align:center}.EYqSq{margin:6px 4px 9px 0;border-radius:100%;display:inline-block;height:10px;vertical-align:middle;width:10px}.dfB0uf{color:#3c4043;font-weight:bold}\n",
      "   </style>\n",
      "   <div>\n",
      "    <!--SW_C_X-->\n",
      "   </div>\n",
      "   <div>\n",
      "   </div>\n",
      "   <div>\n",
      "    <div class=\"Gx5Zad fP1Qef xpd EtOod pkphOe\">\n",
      "     <div class=\"egMi0 kCrYT\">\n",
      "      <a href=\"/url?q=https://www.glassdoor.com/Reviews/Jacobs-Reviews-E913.htm&amp;sa=U&amp;ved=2ahUKEwivjujrkP_7AhWnm-AKHd5BCV4QFnoECAoQAg&amp;usg=AOvVaw0ytBSMjaGnR6WxkL8WpLnZ\">\n",
      "       <div class=\"DnJfK\">\n",
      "        <div class=\"j039Wc\">\n",
      "         <h3 class=\"zBAuLc l97dzf\">\n",
      "          <div class=\"BNeawe vvjwJb AP7Wnd\">\n",
      "           Jacobs Reviews | Glassdoor\n",
      "          </div>\n",
      "         </h3>\n",
      "        </div>\n",
      "        <div class=\"sCuL3\">\n",
      "         <div class=\"BNeawe UPmit AP7Wnd lRVwie\">\n",
      "          www.glassdoor.com › Reviews › Jacobs-Reviews-E913\n",
      "         </div>\n",
      "        </div>\n",
      "       </div>\n",
      "      </a>\n",
      "     </div>\n",
      "     <div class=\"kCrYT\">\n",
      "      <div>\n",
      "       <div class=\"BNeawe s3v9rd AP7Wnd\">\n",
      "        <div>\n",
      "         <div class=\"v9i61e\">\n",
      "          <div class=\"BNeawe s3v9rd AP7Wnd\">\n",
      "           <span class=\"r0bn4c rQMQod\">\n",
      "            Rating\n",
      "           </span>\n",
      "           <span class=\"r0bn4c rQMQod tP9Zud\">\n",
      "            <span aria-hidden=\"true\" class=\"oqSTJd\">\n",
      "             4.0\n",
      "            </span>\n",
      "            <div aria-label=\"Rated 4.0 out of 5\" class=\"Hk2yDb KsR1A\" role=\"img\">\n",
      "             <span style=\"width:56px\">\n",
      "             </span>\n",
      "            </div>\n",
      "            <span>\n",
      "             (6,012)\n",
      "            </span>\n",
      "           </span>\n",
      "          </div>\n",
      "         </div>\n",
      "         <div>\n",
      "          <div class=\"BNeawe s3v9rd AP7Wnd\">\n",
      "           Jacobs has an overall rating of 4.0 out of 5, based on over 6,012 reviews left anonymously by employees. 81% of employees would recommend working at Jacobs to a ...\n",
      "          </div>\n",
      "         </div>\n",
      "        </div>\n",
      "       </div>\n",
      "      </div>\n",
      "     </div>\n",
      "    </div>\n",
      "   </div>\n",
      "   <div>\n",
      "    <div class=\"Gx5Zad xpd EtOod pkphOe\">\n",
      "     <div class=\"K8tyEc\">\n",
      "      <div class=\"mEUgP\">\n",
      "       <span>\n",
      "        <div class=\"BNeawe\">\n",
      "         <span class=\"FCUp0c rQMQod\">\n",
      "          People also ask\n",
      "         </span>\n",
      "        </div>\n",
      "       </span>\n",
      "      </div>\n",
      "     </div>\n",
      "     <div class=\"x54gtf\">\n",
      "     </div>\n",
      "     <div>\n",
      "      <div class=\"xpc\">\n",
      "       <div class=\"duf-h\">\n",
      "        <div aria-expanded=\"false\" class=\"fLtXsc iIWm4b\" data-ved=\"2ahUKEwivjujrkP_7AhWnm-AKHd5BCV4Quk56BAgIEAI\" id=\"tsuid_1\" role=\"button\" tabindex=\"0\">\n",
      "         <div class=\"Lt3Tzc\">\n",
      "          Are Jacobs a good company to work for?\n",
      "         </div>\n",
      "         <div class=\"Lym8W xCgLUe\">\n",
      "          <div class=\"AeQQub hwc\">\n",
      "          </div>\n",
      "          <div class=\"YCU7eb hwc\">\n",
      "          </div>\n",
      "          <div class=\"IyYaEd hwx\">\n",
      "          </div>\n",
      "          <div class=\"ECUHQe hwx\">\n",
      "          </div>\n",
      "         </div>\n",
      "        </div>\n",
      "       </div>\n",
      "       <div class=\"qxDOhb\" id=\"accdef_1\">\n",
      "       </div>\n",
      "      </div>\n",
      "     </div>\n",
      "     <div class=\"x54gtf\">\n",
      "     </div>\n",
      "     <div>\n",
      "      <div class=\"xpc\">\n",
      "       <div class=\"duf-h\">\n",
      "        <div aria-expanded=\"false\" class=\"fLtXsc iIWm4b\" data-ved=\"2ahUKEwivjujrkP_7AhWnm-AKHd5BCV4Quk56BAgIEAk\" id=\"tsuid_2\" role=\"button\" tabindex=\"0\">\n",
      "         <div class=\"Lt3Tzc\">\n",
      "          Does Jacobs Engineering pay well?\n",
      "         </div>\n",
      "         <div class=\"Lym8W xCgLUe\">\n",
      "          <div class=\"AeQQub hwc\">\n",
      "          </div>\n",
      "          <div class=\"YCU7eb hwc\">\n",
      "          </div>\n",
      "          <div class=\"IyYaEd hwx\">\n",
      "          </div>\n",
      "          <div class=\"ECUHQe hwx\">\n",
      "          </div>\n",
      "         </div>\n",
      "        </div>\n",
      "       </div>\n",
      "       <div class=\"qxDOhb\" id=\"accdef_3\">\n",
      "       </div>\n",
      "      </div>\n",
      "     </div>\n",
      "     <div class=\"x54gtf\">\n",
      "     </div>\n",
      "     <div>\n",
      "      <div class=\"xpc\">\n",
      "       <div class=\"duf-h\">\n",
      "        <div aria-expanded=\"false\" class=\"fLtXsc iIWm4b\" data-ved=\"2ahUKEwivjujrkP_7AhWnm-AKHd5BCV4Quk56BAgIEBA\" id=\"tsuid_3\" role=\"button\" tabindex=\"0\">\n",
      "         <div class=\"Lt3Tzc\">\n",
      "          Is Jacobs or aecom better?\n",
      "         </div>\n",
      "         <div class=\"Lym8W xCgLUe\">\n",
      "          <div class=\"AeQQub hwc\">\n",
      "          </div>\n",
      "          <div class=\"YCU7eb hwc\">\n",
      "          </div>\n",
      "          <div class=\"IyYaEd hwx\">\n",
      "          </div>\n",
      "          <div class=\"ECUHQe hwx\">\n",
      "          </div>\n",
      "         </div>\n",
      "        </div>\n",
      "       </div>\n",
      "       <div class=\"qxDOhb\" id=\"accdef_5\">\n",
      "       </div>\n",
      "      </div>\n",
      "     </div>\n",
      "     <div class=\"x54gtf\">\n",
      "     </div>\n",
      "     <div>\n",
      "      <div class=\"xpc\">\n",
      "       <div class=\"duf-h\">\n",
      "        <div aria-expanded=\"false\" class=\"fLtXsc iIWm4b\" data-ved=\"2ahUKEwivjujrkP_7AhWnm-AKHd5BCV4Quk56BAgIEBg\" id=\"tsuid_4\" role=\"button\" tabindex=\"0\">\n",
      "         <div class=\"Lt3Tzc\">\n",
      "          Is Jacobs a good Engineering company?\n",
      "         </div>\n",
      "         <div class=\"Lym8W xCgLUe\">\n",
      "          <div class=\"AeQQub hwc\">\n",
      "          </div>\n",
      "          <div class=\"YCU7eb hwc\">\n",
      "          </div>\n",
      "          <div class=\"IyYaEd hwx\">\n",
      "          </div>\n",
      "          <div class=\"ECUHQe hwx\">\n",
      "          </div>\n",
      "         </div>\n",
      "        </div>\n",
      "       </div>\n",
      "       <div class=\"qxDOhb\" id=\"accdef_7\">\n",
      "       </div>\n",
      "      </div>\n",
      "     </div>\n",
      "    </div>\n",
      "   </div>\n",
      "   <div>\n",
      "    <div class=\"Gx5Zad fP1Qef xpd EtOod pkphOe\">\n",
      "     <div class=\"egMi0 kCrYT\">\n",
      "      <a href=\"/url?q=https://www.glassdoor.com/Overview/Working-at-Jacobs-EI_IE913.11,17.htm&amp;sa=U&amp;ved=2ahUKEwivjujrkP_7AhWnm-AKHd5BCV4QFnoECAsQAg&amp;usg=AOvVaw1lkE0kCsjsDdImykq-zqt7\">\n",
      "       <div class=\"DnJfK\">\n",
      "        <div class=\"j039Wc\">\n",
      "         <h3 class=\"zBAuLc l97dzf\">\n",
      "          <div class=\"BNeawe vvjwJb AP7Wnd\">\n",
      "           Working at Jacobs | Glassdoor\n",
      "          </div>\n",
      "         </h3>\n",
      "        </div>\n",
      "        <div class=\"sCuL3\">\n",
      "         <div class=\"BNeawe UPmit AP7Wnd lRVwie\">\n",
      "          www.glassdoor.com › Overview › Working-at-Jacobs-EI_IE913.11,17.htm\n",
      "         </div>\n",
      "        </div>\n",
      "       </div>\n",
      "      </a>\n",
      "     </div>\n",
      "     <div class=\"kCrYT\">\n",
      "      <div>\n",
      "       <div class=\"BNeawe s3v9rd AP7Wnd\">\n",
      "        <div>\n",
      "         <div class=\"v9i61e\">\n",
      "          <div class=\"BNeawe s3v9rd AP7Wnd\">\n",
      "           <span class=\"r0bn4c rQMQod\">\n",
      "            Rating\n",
      "           </span>\n",
      "           <span class=\"r0bn4c rQMQod tP9Zud\">\n",
      "            <span aria-hidden=\"true\" class=\"oqSTJd\">\n",
      "             4.0\n",
      "            </span>\n",
      "            <div aria-label=\"Rated 4.0 out of 5\" class=\"Hk2yDb KsR1A\" role=\"img\">\n",
      "             <span style=\"width:56px\">\n",
      "             </span>\n",
      "            </div>\n",
      "            <span>\n",
      "             (5,360)\n",
      "            </span>\n",
      "           </span>\n",
      "          </div>\n",
      "         </div>\n",
      "         <div class=\"v9i61e\">\n",
      "          <div class=\"BNeawe s3v9rd AP7Wnd\">\n",
      "           See what employees say it's like to work at Jacobs. Salaries, reviews, and more - all posted by employees working at Jacobs.\n",
      "          </div>\n",
      "         </div>\n",
      "         <div>\n",
      "          <div class=\"BNeawe s3v9rd AP7Wnd\">\n",
      "           Size:\n",
      "           <span class=\"r0bn4c rQMQod\">\n",
      "            10000+ Employees\n",
      "           </span>\n",
      "          </div>\n",
      "         </div>\n",
      "        </div>\n",
      "       </div>\n",
      "      </div>\n",
      "     </div>\n",
      "    </div>\n",
      "   </div>\n",
      "   <div>\n",
      "    <div class=\"Gx5Zad fP1Qef xpd EtOod pkphOe\">\n",
      "     <div class=\"egMi0 kCrYT\">\n",
      "      <a href=\"/url?q=https://www.glassdoor.com/Reviews/Jacobs-Atlanta-Reviews-EI_IE913.0,6_IL.7,14_IM52.htm&amp;sa=U&amp;ved=2ahUKEwivjujrkP_7AhWnm-AKHd5BCV4QFnoECAkQAg&amp;usg=AOvVaw3mcmtoC8iX-WXlwI2_VedB\">\n",
      "       <div class=\"DnJfK\">\n",
      "        <div class=\"j039Wc\">\n",
      "         <h3 class=\"zBAuLc l97dzf\">\n",
      "          <div class=\"BNeawe vvjwJb AP7Wnd\">\n",
      "           Jacobs Reviews in Atlanta, GA - Glassdoor\n",
      "          </div>\n",
      "         </h3>\n",
      "        </div>\n",
      "        <div class=\"sCuL3\">\n",
      "         <div class=\"BNeawe UPmit AP7Wnd lRVwie\">\n",
      "          www.glassdoor.com › Atlanta › Jacobs\n",
      "         </div>\n",
      "        </div>\n",
      "       </div>\n",
      "      </a>\n",
      "     </div>\n",
      "     <div class=\"kCrYT\">\n",
      "      <div>\n",
      "       <div class=\"BNeawe s3v9rd AP7Wnd\">\n",
      "        <div>\n",
      "         <div class=\"v9i61e\">\n",
      "          <div class=\"BNeawe s3v9rd AP7Wnd\">\n",
      "           <span class=\"r0bn4c rQMQod\">\n",
      "            Rating\n",
      "           </span>\n",
      "           <span class=\"r0bn4c rQMQod tP9Zud\">\n",
      "            <span aria-hidden=\"true\" class=\"oqSTJd\">\n",
      "             4.1\n",
      "            </span>\n",
      "            <div aria-label=\"Rated 4.0 out of 5\" class=\"Hk2yDb KsR1A\" role=\"img\">\n",
      "             <span style=\"width:56px\">\n",
      "             </span>\n",
      "            </div>\n",
      "            <span>\n",
      "             (6,013)\n",
      "            </span>\n",
      "           </span>\n",
      "          </div>\n",
      "         </div>\n",
      "         <div>\n",
      "          <div class=\"BNeawe s3v9rd AP7Wnd\">\n",
      "           Jacobs employees working in Atlanta rate their compensation and benefits with 4.1 out of 5 stars based on anonymously submitted employee reviews on Glassdoor.\n",
      "          </div>\n",
      "         </div>\n",
      "        </div>\n",
      "       </div>\n",
      "      </div>\n",
      "     </div>\n",
      "    </div>\n",
      "   </div>\n",
      "   <div>\n",
      "    <div class=\"Gx5Zad fP1Qef xpd EtOod pkphOe\">\n",
      "     <div class=\"egMi0 kCrYT\">\n",
      "      <a href=\"/url?q=https://www.glassdoor.com/Reviews/Jacobs-Engineering-Reviews-EI_IE913.0,6_KO7,18.htm&amp;sa=U&amp;ved=2ahUKEwivjujrkP_7AhWnm-AKHd5BCV4QFnoECAIQAg&amp;usg=AOvVaw2I_JIZFXWQY5dycTP9PZ7U\">\n",
      "       <div class=\"DnJfK\">\n",
      "        <div class=\"j039Wc\">\n",
      "         <h3 class=\"zBAuLc l97dzf\">\n",
      "          <div class=\"BNeawe vvjwJb AP7Wnd\">\n",
      "           Jacobs Engineering Reviews - Glassdoor\n",
      "          </div>\n",
      "         </h3>\n",
      "        </div>\n",
      "        <div class=\"sCuL3\">\n",
      "         <div class=\"BNeawe UPmit AP7Wnd lRVwie\">\n",
      "          www.glassdoor.com › Engineering › Jacobs\n",
      "         </div>\n",
      "        </div>\n",
      "       </div>\n",
      "      </a>\n",
      "     </div>\n",
      "     <div class=\"kCrYT\">\n",
      "      <div>\n",
      "       <div class=\"BNeawe s3v9rd AP7Wnd\">\n",
      "        <div>\n",
      "         <div class=\"v9i61e\">\n",
      "          <div class=\"BNeawe s3v9rd AP7Wnd\">\n",
      "           <span class=\"r0bn4c rQMQod\">\n",
      "            Rating\n",
      "           </span>\n",
      "           <span class=\"r0bn4c rQMQod tP9Zud\">\n",
      "            <span aria-hidden=\"true\" class=\"oqSTJd\">\n",
      "             3.9\n",
      "            </span>\n",
      "            <div aria-label=\"Rated 4.0 out of 5\" class=\"Hk2yDb KsR1A\" role=\"img\">\n",
      "             <span style=\"width:56px\">\n",
      "             </span>\n",
      "            </div>\n",
      "            <span>\n",
      "             (6,013)\n",
      "            </span>\n",
      "           </span>\n",
      "          </div>\n",
      "         </div>\n",
      "         <div>\n",
      "          <div class=\"BNeawe s3v9rd AP7Wnd\">\n",
      "           Glassdoor has 6,013 Jacobs reviews submitted anonymously by Jacobs employees. Read employee reviews and ratings on Glassdoor to decide if Jacobs is right for ...\n",
      "          </div>\n",
      "         </div>\n",
      "        </div>\n",
      "       </div>\n",
      "      </div>\n",
      "     </div>\n",
      "    </div>\n",
      "   </div>\n",
      "   <div>\n",
      "    <div class=\"Gx5Zad fP1Qef xpd EtOod pkphOe\">\n",
      "     <div class=\"egMi0 kCrYT\">\n",
      "      <a href=\"/url?q=https://www.glassdoor.com/Salary/Jacobs-Salaries-E913.htm&amp;sa=U&amp;ved=2ahUKEwivjujrkP_7AhWnm-AKHd5BCV4QFnoECAEQAg&amp;usg=AOvVaw1SS3M06RbZDJTc6xs_yxpF\">\n",
      "       <div class=\"DnJfK\">\n",
      "        <div class=\"j039Wc\">\n",
      "         <h3 class=\"zBAuLc l97dzf\">\n",
      "          <div class=\"BNeawe vvjwJb AP7Wnd\">\n",
      "           How Much Does Jacobs Pay in 2022? (6,796 Salaries) | Glassdoor\n",
      "          </div>\n",
      "         </h3>\n",
      "        </div>\n",
      "        <div class=\"sCuL3\">\n",
      "         <div class=\"BNeawe UPmit AP7Wnd lRVwie\">\n",
      "          www.glassdoor.com › Salary › Jacobs-Salaries-E913\n",
      "         </div>\n",
      "        </div>\n",
      "       </div>\n",
      "      </a>\n",
      "     </div>\n",
      "     <div class=\"kCrYT\">\n",
      "      <div>\n",
      "       <div class=\"BNeawe s3v9rd AP7Wnd\">\n",
      "        <div>\n",
      "         <div>\n",
      "          <div class=\"BNeawe s3v9rd AP7Wnd\">\n",
      "           A free inside look at Jacobs salary trends based on 6796 salaries wages for 2204 jobs at Jacobs. Salaries posted anonymously by Jacobs employees.\n",
      "          </div>\n",
      "         </div>\n",
      "        </div>\n",
      "       </div>\n",
      "      </div>\n",
      "     </div>\n",
      "    </div>\n",
      "   </div>\n",
      "   <div>\n",
      "    <div class=\"Gx5Zad fP1Qef xpd EtOod pkphOe\">\n",
      "     <div class=\"egMi0 kCrYT\">\n",
      "      <a href=\"/url?q=https://www.glassdoor.com/Salary/Jacobs-Atlanta-Salaries-EI_IE913.0,6_IL.7,14_IM52.htm&amp;sa=U&amp;ved=2ahUKEwivjujrkP_7AhWnm-AKHd5BCV4QFnoECAUQAg&amp;usg=AOvVaw1x4avTGE_7naDoVw51cPnQ\">\n",
      "       <div class=\"DnJfK\">\n",
      "        <div class=\"j039Wc\">\n",
      "         <h3 class=\"zBAuLc l97dzf\">\n",
      "          <div class=\"BNeawe vvjwJb AP7Wnd\">\n",
      "           Jacobs Salaries in Atlanta, GA | Glassdoor\n",
      "          </div>\n",
      "         </h3>\n",
      "        </div>\n",
      "        <div class=\"sCuL3\">\n",
      "         <div class=\"BNeawe UPmit AP7Wnd lRVwie\">\n",
      "          www.glassdoor.com › Salaries › Atlanta\n",
      "         </div>\n",
      "        </div>\n",
      "       </div>\n",
      "      </a>\n",
      "     </div>\n",
      "     <div class=\"kCrYT\">\n",
      "      <div>\n",
      "       <div class=\"BNeawe s3v9rd AP7Wnd\">\n",
      "        <div>\n",
      "         <div>\n",
      "          <div class=\"BNeawe s3v9rd AP7Wnd\">\n",
      "           <span class=\"r0bn4c rQMQod\">\n",
      "            Nov 10, 2022\n",
      "           </span>\n",
      "           <span class=\"r0bn4c rQMQod\">\n",
      "            ·\n",
      "           </span>\n",
      "           How much do Jacobs employees make? Glassdoor provides our best prediction for total pay in today's job market, along with other types of pay ...\n",
      "          </div>\n",
      "         </div>\n",
      "        </div>\n",
      "       </div>\n",
      "      </div>\n",
      "     </div>\n",
      "    </div>\n",
      "   </div>\n",
      "   <div>\n",
      "    <div class=\"Gx5Zad fP1Qef xpd EtOod pkphOe\">\n",
      "     <div class=\"egMi0 kCrYT\">\n",
      "      <a href=\"/url?q=https://www.glassdoor.com/Jobs/Jacobs-Peachtree-Corners-Jobs-EI_IE913.0,6_IL.7,24_IC3827686.htm&amp;sa=U&amp;ved=2ahUKEwivjujrkP_7AhWnm-AKHd5BCV4QFnoECAAQAg&amp;usg=AOvVaw0nXoCfr8JLf7vnTheJA_sb\">\n",
      "       <div class=\"DnJfK\">\n",
      "        <div class=\"j039Wc\">\n",
      "         <h3 class=\"zBAuLc l97dzf\">\n",
      "          <div class=\"BNeawe vvjwJb AP7Wnd\">\n",
      "           Jacobs Jobs in Peachtree Corners (2022) - Glassdoor\n",
      "          </div>\n",
      "         </h3>\n",
      "        </div>\n",
      "        <div class=\"sCuL3\">\n",
      "         <div class=\"BNeawe UPmit AP7Wnd lRVwie\">\n",
      "          www.glassdoor.com › Jobs › Jacobs-Peachtree-Corners-Jobs-EI_IE913.0,6...\n",
      "         </div>\n",
      "        </div>\n",
      "       </div>\n",
      "      </a>\n",
      "     </div>\n",
      "     <div class=\"kCrYT\">\n",
      "      <div>\n",
      "       <div class=\"BNeawe s3v9rd AP7Wnd\">\n",
      "        <div>\n",
      "         <div>\n",
      "          <div class=\"BNeawe s3v9rd AP7Wnd\">\n",
      "           80 Jacobs jobs in Peachtree Corners. Search job openings, see if they fit - company salaries, reviews, and more posted by Jacobs employees.\n",
      "          </div>\n",
      "         </div>\n",
      "        </div>\n",
      "       </div>\n",
      "      </div>\n",
      "     </div>\n",
      "    </div>\n",
      "   </div>\n",
      "   <div>\n",
      "    <div class=\"Gx5Zad fP1Qef xpd EtOod pkphOe\">\n",
      "     <div class=\"egMi0 kCrYT\">\n",
      "      <a href=\"/url?q=https://www.linkedin.com/in/ira-jacobs-03a39b152&amp;sa=U&amp;ved=2ahUKEwivjujrkP_7AhWnm-AKHd5BCV4QFnoECAYQAg&amp;usg=AOvVaw2CnNXGeMmyqkPri-NXPDuA\">\n",
      "       <div class=\"DnJfK\">\n",
      "        <div class=\"j039Wc\">\n",
      "         <h3 class=\"zBAuLc l97dzf\">\n",
      "          <div class=\"BNeawe vvjwJb AP7Wnd\">\n",
      "           Ira Jacobs - Analyst - Glassdoor - LinkedIn\n",
      "          </div>\n",
      "         </h3>\n",
      "        </div>\n",
      "        <div class=\"sCuL3\">\n",
      "         <div class=\"BNeawe UPmit AP7Wnd lRVwie\">\n",
      "          www.linkedin.com › ira-jacobs-03a39b152\n",
      "         </div>\n",
      "        </div>\n",
      "       </div>\n",
      "      </a>\n",
      "     </div>\n",
      "     <div class=\"kCrYT\">\n",
      "      <div>\n",
      "       <div class=\"BNeawe s3v9rd AP7Wnd\">\n",
      "        <div>\n",
      "         <div>\n",
      "          <div class=\"BNeawe s3v9rd AP7Wnd\">\n",
      "           Ira Jacobs · Analyst at Glassdoor · Report · Report · Experience · Looking for career advice? · Others named Ira Jacobs · View Ira's full profile · Sign in to view ...\n",
      "          </div>\n",
      "         </div>\n",
      "        </div>\n",
      "       </div>\n",
      "      </div>\n",
      "     </div>\n",
      "    </div>\n",
      "   </div>\n",
      "   <div>\n",
      "    <div class=\"Gx5Zad fP1Qef xpd EtOod pkphOe\">\n",
      "     <div class=\"egMi0 kCrYT\">\n",
      "      <a href=\"/url?q=https://mahaguru.de/career-education-corporation-glassdoor.html&amp;sa=U&amp;ved=2ahUKEwivjujrkP_7AhWnm-AKHd5BCV4QFnoECAQQAg&amp;usg=AOvVaw2ozEM5nUFexXpHWkVd6pek\">\n",
      "       <div class=\"DnJfK\">\n",
      "        <div class=\"j039Wc\">\n",
      "         <h3 class=\"zBAuLc l97dzf\">\n",
      "          <div class=\"BNeawe vvjwJb AP7Wnd\">\n",
      "           career education corporation glassdoor\n",
      "          </div>\n",
      "         </h3>\n",
      "        </div>\n",
      "        <div class=\"sCuL3\">\n",
      "         <div class=\"BNeawe UPmit AP7Wnd lRVwie\">\n",
      "          mahaguru.de › career-education-corporation-glassdoor\n",
      "         </div>\n",
      "        </div>\n",
      "       </div>\n",
      "      </a>\n",
      "     </div>\n",
      "     <div class=\"kCrYT\">\n",
      "      <div>\n",
      "       <div class=\"BNeawe s3v9rd AP7Wnd\">\n",
      "        <div>\n",
      "         <div>\n",
      "          <div class=\"BNeawe s3v9rd AP7Wnd\">\n",
      "           <span class=\"r0bn4c rQMQod\">\n",
      "            Jobs 1 - 25 of 149\n",
      "           </span>\n",
      "           <span class=\"r0bn4c rQMQod\">\n",
      "            ·\n",
      "           </span>\n",
      "           The Jacobs &amp; Cushman San Diego Food Bank is the largest hunger-relief organization in San Diego County. Learn how to search for a job on ...\n",
      "          </div>\n",
      "         </div>\n",
      "        </div>\n",
      "       </div>\n",
      "      </div>\n",
      "     </div>\n",
      "    </div>\n",
      "   </div>\n",
      "   <div>\n",
      "    <div class=\"Gx5Zad fP1Qef xpd EtOod pkphOe\">\n",
      "     <div class=\"egMi0 kCrYT\">\n",
      "      <a href=\"/url?q=https://emeritus.org/blog/career-salary-guide-2023-global/&amp;sa=U&amp;ved=2ahUKEwivjujrkP_7AhWnm-AKHd5BCV4QFnoECAMQAg&amp;usg=AOvVaw1rib-gmgpBsik5Zs0SjEvt\">\n",
      "       <div class=\"DnJfK\">\n",
      "        <div class=\"j039Wc\">\n",
      "         <h3 class=\"zBAuLc l97dzf\">\n",
      "          <div class=\"BNeawe vvjwJb AP7Wnd\">\n",
      "           The Ultimate Salary Guide 2023 That Every Jobseeker Should Use\n",
      "          </div>\n",
      "         </h3>\n",
      "        </div>\n",
      "        <div class=\"sCuL3\">\n",
      "         <div class=\"BNeawe UPmit AP7Wnd lRVwie\">\n",
      "          emeritus.org › blog › career-salary-guide-2023-global\n",
      "         </div>\n",
      "        </div>\n",
      "       </div>\n",
      "      </a>\n",
      "     </div>\n",
      "     <div class=\"kCrYT\">\n",
      "      <div>\n",
      "       <div class=\"BNeawe s3v9rd AP7Wnd\">\n",
      "        <div>\n",
      "         <div>\n",
      "          <div class=\"BNeawe s3v9rd AP7Wnd\">\n",
      "           <span class=\"r0bn4c rQMQod\">\n",
      "            Dec 7, 2022\n",
      "           </span>\n",
      "           <span class=\"r0bn4c rQMQod\">\n",
      "            ·\n",
      "           </span>\n",
      "           Glassdoor released its top jobs for 2023 list, and data scientists are at #3 ... Deloitte; PWC; Ernst and Young; Booz Allen Hamilton; Jacobs ...\n",
      "          </div>\n",
      "         </div>\n",
      "        </div>\n",
      "       </div>\n",
      "      </div>\n",
      "     </div>\n",
      "    </div>\n",
      "   </div>\n",
      "   <div>\n",
      "    <div class=\"Gx5Zad xpd EtOod pkphOe\">\n",
      "     <div class=\"K8tyEc\">\n",
      "      <div class=\"mEUgP\">\n",
      "       <span>\n",
      "        <div class=\"BNeawe\">\n",
      "         Related searches\n",
      "        </div>\n",
      "       </span>\n",
      "      </div>\n",
      "     </div>\n",
      "     <div class=\"x54gtf\">\n",
      "     </div>\n",
      "     <div>\n",
      "      <div class=\"gGQDvd iIWm4b\">\n",
      "       <a class=\"Q71vJc\" href=\"/search?ie=UTF-8&amp;q=Jacobs+Glassdoor+salary&amp;sa=X&amp;ved=2ahUKEwivjujrkP_7AhWnm-AKHd5BCV4Q1QJ6BAgHEAI\">\n",
      "        <accordion-entry-search-icon>\n",
      "         <span class=\"ieB2Dd\">\n",
      "          <img alt=\"\" class=\"OEaqif\" data-deferred=\"1\" id=\"dimg_1\" src=\"data:image/gif;base64,R0lGODlhAQABAIAAAP///////yH5BAEKAAEALAAAAAABAAEAAAICTAEAOw==\" style=\"max-width:20px;max-height:20px\"/>\n",
      "         </span>\n",
      "        </accordion-entry-search-icon>\n",
      "        <div class=\"kjGX2\">\n",
      "         <span>\n",
      "          <div class=\"BNeawe s3v9rd AP7Wnd lRVwie\">\n",
      "           Jacobs Glassdoor salary\n",
      "          </div>\n",
      "         </span>\n",
      "        </div>\n",
      "       </a>\n",
      "      </div>\n",
      "     </div>\n",
      "     <div class=\"x54gtf\">\n",
      "     </div>\n",
      "     <div>\n",
      "      <div class=\"gGQDvd iIWm4b\">\n",
      "       <a class=\"Q71vJc\" href=\"/search?ie=UTF-8&amp;q=AECOM+Glassdoor&amp;sa=X&amp;ved=2ahUKEwivjujrkP_7AhWnm-AKHd5BCV4Q1QJ6BAgHEAQ\">\n",
      "        <accordion-entry-search-icon>\n",
      "         <span class=\"ieB2Dd\">\n",
      "          <img alt=\"\" class=\"OEaqif\" data-deferred=\"1\" id=\"dimg_3\" src=\"data:image/gif;base64,R0lGODlhAQABAIAAAP///////yH5BAEKAAEALAAAAAABAAEAAAICTAEAOw==\" style=\"max-width:20px;max-height:20px\"/>\n",
      "         </span>\n",
      "        </accordion-entry-search-icon>\n",
      "        <div class=\"kjGX2\">\n",
      "         <span>\n",
      "          <div class=\"BNeawe s3v9rd AP7Wnd lRVwie\">\n",
      "           AECOM Glassdoor\n",
      "          </div>\n",
      "         </span>\n",
      "        </div>\n",
      "       </a>\n",
      "      </div>\n",
      "     </div>\n",
      "     <div class=\"x54gtf\">\n",
      "     </div>\n",
      "     <div>\n",
      "      <div class=\"gGQDvd iIWm4b\">\n",
      "       <a class=\"Q71vJc\" href=\"/search?ie=UTF-8&amp;q=Jacobs+Engineering&amp;sa=X&amp;ved=2ahUKEwivjujrkP_7AhWnm-AKHd5BCV4Q1QJ6BAgHEAY\">\n",
      "        <accordion-entry-search-icon>\n",
      "         <span class=\"ieB2Dd\">\n",
      "          <img alt=\"\" class=\"OEaqif\" data-deferred=\"1\" id=\"dimg_5\" src=\"data:image/gif;base64,R0lGODlhAQABAIAAAP///////yH5BAEKAAEALAAAAAABAAEAAAICTAEAOw==\" style=\"max-width:20px;max-height:20px\"/>\n",
      "         </span>\n",
      "        </accordion-entry-search-icon>\n",
      "        <div class=\"kjGX2\">\n",
      "         <span>\n",
      "          <div class=\"BNeawe s3v9rd AP7Wnd lRVwie\">\n",
      "           Jacobs Engineering\n",
      "          </div>\n",
      "         </span>\n",
      "        </div>\n",
      "       </a>\n",
      "      </div>\n",
      "     </div>\n",
      "     <div class=\"x54gtf\">\n",
      "     </div>\n",
      "     <div>\n",
      "      <div class=\"gGQDvd iIWm4b\">\n",
      "       <a class=\"Q71vJc\" href=\"/search?ie=UTF-8&amp;q=Jacobs+careers&amp;sa=X&amp;ved=2ahUKEwivjujrkP_7AhWnm-AKHd5BCV4Q1QJ6BAgHEAg\">\n",
      "        <accordion-entry-search-icon>\n",
      "         <span class=\"ieB2Dd\">\n",
      "          <img alt=\"\" class=\"OEaqif\" data-deferred=\"1\" id=\"dimg_7\" src=\"data:image/gif;base64,R0lGODlhAQABAIAAAP///////yH5BAEKAAEALAAAAAABAAEAAAICTAEAOw==\" style=\"max-width:20px;max-height:20px\"/>\n",
      "         </span>\n",
      "        </accordion-entry-search-icon>\n",
      "        <div class=\"kjGX2\">\n",
      "         <span>\n",
      "          <div class=\"BNeawe s3v9rd AP7Wnd lRVwie\">\n",
      "           Jacobs careers\n",
      "          </div>\n",
      "         </span>\n",
      "        </div>\n",
      "       </a>\n",
      "      </div>\n",
      "     </div>\n",
      "     <div class=\"x54gtf\">\n",
      "     </div>\n",
      "     <div>\n",
      "      <div class=\"gGQDvd iIWm4b\">\n",
      "       <a class=\"Q71vJc\" href=\"/search?ie=UTF-8&amp;q=Jacobs+Engineering+salary&amp;sa=X&amp;ved=2ahUKEwivjujrkP_7AhWnm-AKHd5BCV4Q1QJ6BAgHEAo\">\n",
      "        <accordion-entry-search-icon>\n",
      "         <span class=\"ieB2Dd\">\n",
      "          <img alt=\"\" class=\"OEaqif\" data-deferred=\"1\" id=\"dimg_9\" src=\"data:image/gif;base64,R0lGODlhAQABAIAAAP///////yH5BAEKAAEALAAAAAABAAEAAAICTAEAOw==\" style=\"max-width:20px;max-height:20px\"/>\n",
      "         </span>\n",
      "        </accordion-entry-search-icon>\n",
      "        <div class=\"kjGX2\">\n",
      "         <span>\n",
      "          <div class=\"BNeawe s3v9rd AP7Wnd lRVwie\">\n",
      "           Jacobs Engineering salary\n",
      "          </div>\n",
      "         </span>\n",
      "        </div>\n",
      "       </a>\n",
      "      </div>\n",
      "     </div>\n",
      "     <div class=\"x54gtf\">\n",
      "     </div>\n",
      "     <div>\n",
      "      <div class=\"gGQDvd iIWm4b\">\n",
      "       <a class=\"Q71vJc\" href=\"/search?ie=UTF-8&amp;q=Jacobs+salary&amp;sa=X&amp;ved=2ahUKEwivjujrkP_7AhWnm-AKHd5BCV4Q1QJ6BAgHEAw\">\n",
      "        <accordion-entry-search-icon>\n",
      "         <span class=\"ieB2Dd\">\n",
      "          <img alt=\"\" class=\"OEaqif\" data-deferred=\"1\" id=\"dimg_11\" src=\"data:image/gif;base64,R0lGODlhAQABAIAAAP///////yH5BAEKAAEALAAAAAABAAEAAAICTAEAOw==\" style=\"max-width:20px;max-height:20px\"/>\n",
      "         </span>\n",
      "        </accordion-entry-search-icon>\n",
      "        <div class=\"kjGX2\">\n",
      "         <span>\n",
      "          <div class=\"BNeawe s3v9rd AP7Wnd lRVwie\">\n",
      "           Jacobs salary\n",
      "          </div>\n",
      "         </span>\n",
      "        </div>\n",
      "       </a>\n",
      "      </div>\n",
      "     </div>\n",
      "     <div class=\"x54gtf\">\n",
      "     </div>\n",
      "     <div>\n",
      "      <div class=\"gGQDvd iIWm4b\">\n",
      "       <a class=\"Q71vJc\" href=\"/search?ie=UTF-8&amp;q=Jacobs+pay+schedule&amp;sa=X&amp;ved=2ahUKEwivjujrkP_7AhWnm-AKHd5BCV4Q1QJ6BAgHEA4\">\n",
      "        <accordion-entry-search-icon>\n",
      "         <span class=\"ieB2Dd\">\n",
      "          <img alt=\"\" class=\"OEaqif\" data-deferred=\"1\" id=\"dimg_13\" src=\"data:image/gif;base64,R0lGODlhAQABAIAAAP///////yH5BAEKAAEALAAAAAABAAEAAAICTAEAOw==\" style=\"max-width:20px;max-height:20px\"/>\n",
      "         </span>\n",
      "        </accordion-entry-search-icon>\n",
      "        <div class=\"kjGX2\">\n",
      "         <span>\n",
      "          <div class=\"BNeawe s3v9rd AP7Wnd lRVwie\">\n",
      "           Jacobs pay schedule\n",
      "          </div>\n",
      "         </span>\n",
      "        </div>\n",
      "       </a>\n",
      "      </div>\n",
      "     </div>\n",
      "     <div class=\"x54gtf\">\n",
      "     </div>\n",
      "     <div>\n",
      "      <div class=\"gGQDvd iIWm4b\">\n",
      "       <a class=\"Q71vJc\" href=\"/search?ie=UTF-8&amp;q=Jacobs+salary+Reddit&amp;sa=X&amp;ved=2ahUKEwivjujrkP_7AhWnm-AKHd5BCV4Q1QJ6BAgHEBA\">\n",
      "        <accordion-entry-search-icon>\n",
      "         <span class=\"ieB2Dd\">\n",
      "          <img alt=\"\" class=\"OEaqif\" data-deferred=\"1\" id=\"dimg_15\" src=\"data:image/gif;base64,R0lGODlhAQABAIAAAP///////yH5BAEKAAEALAAAAAABAAEAAAICTAEAOw==\" style=\"max-width:20px;max-height:20px\"/>\n",
      "         </span>\n",
      "        </accordion-entry-search-icon>\n",
      "        <div class=\"kjGX2\">\n",
      "         <span>\n",
      "          <div class=\"BNeawe s3v9rd AP7Wnd lRVwie\">\n",
      "           Jacobs salary Reddit\n",
      "          </div>\n",
      "         </span>\n",
      "        </div>\n",
      "       </a>\n",
      "      </div>\n",
      "     </div>\n",
      "    </div>\n",
      "   </div>\n",
      "   <footer>\n",
      "    <div>\n",
      "     <div class=\"Gx5Zad xpd EtOod pkphOe BmP5tf\">\n",
      "      <div class=\"nMymef MUxGbd lyLwlc\">\n",
      "       <a aria-label=\"Next page\" class=\"nBDE1b G5eFlf\" href=\"/search?q=jacobs+glassdoor&amp;ie=UTF-8&amp;ei=u-mcY-_EIae3ggfeg6XwBQ&amp;start=10&amp;sa=N\">\n",
      "        Next &gt;\n",
      "       </a>\n",
      "      </div>\n",
      "     </div>\n",
      "    </div>\n",
      "    <div id=\"EOlPnc\">\n",
      "     <div class=\"Srfpq\">\n",
      "      <div>\n",
      "       <span class=\"EYqSq unknown_loc\">\n",
      "       </span>\n",
      "       <span class=\"dfB0uf\">\n",
      "        Dacula, Georgia\n",
      "       </span>\n",
      "      </div>\n",
      "      <span>\n",
      "       From your IP address\n",
      "      </span>\n",
      "      <span>\n",
      "       -\n",
      "      </span>\n",
      "      <a href=\"/url?q=https://support.google.com/websearch%3Fp%3Dws_settings_location%26hl%3Den&amp;sa=U&amp;ved=0ahUKEwivjujrkP_7AhWnm-AKHd5BCV4Qty4Idw&amp;usg=AOvVaw06IV5jE1C4Qbjw2QdJj39G\">\n",
      "       Learn more\n",
      "      </a>\n",
      "     </div>\n",
      "     <div>\n",
      "      <a href=\"/url?q=https://accounts.google.com/ServiceLogin%3Fcontinue%3Dhttps://www.google.com/search%253Fq%253Djacobs%252Bglassdoor%26hl%3Den&amp;sa=U&amp;ved=0ahUKEwivjujrkP_7AhWnm-AKHd5BCV4Qxs8CCHg&amp;usg=AOvVaw3bEXUh_BOs7_zE9ymGp38m\">\n",
      "       Sign in\n",
      "      </a>\n",
      "     </div>\n",
      "     <div>\n",
      "      <a class=\"xeDNfc\" href=\"https://www.google.com/preferences?hl=en&amp;fg=1&amp;sa=X&amp;ved=0ahUKEwivjujrkP_7AhWnm-AKHd5BCV4Q5fUCCHk\">\n",
      "       Settings\n",
      "      </a>\n",
      "      <a class=\"xeDNfc\" href=\"https://policies.google.com/privacy?hl=en&amp;fg=1\">\n",
      "       Privacy\n",
      "      </a>\n",
      "      <a class=\"xeDNfc\" href=\"https://policies.google.com/terms?hl=en&amp;fg=1\">\n",
      "       Terms\n",
      "      </a>\n",
      "     </div>\n",
      "    </div>\n",
      "   </footer>\n",
      "   <script nonce=\"DD_h0CZYJ_Klb2UhY-Xu5A\">\n",
      "    (function(){var hl='en';(function(){\n",
      "var f=this||self,g=function(a){return a};var h,k=function(){if(void 0===h){var a=null,b=f.trustedTypes;if(b&&b.createPolicy){try{a=b.createPolicy(\"goog#html\",{createHTML:g,createScript:g,createScriptURL:g})}catch(c){f.console&&f.console.error(c.message)}h=a}else h=a}return h};var p=function(a,b){this.h=a===l&&b||\"\";this.g=m},q=function(a){return a instanceof p&&a.constructor===p&&a.g===m?a.h:\"type_error:Const\"},m={},l={};var t=function(a,b){this.g=b===r?a:\"\"};t.prototype.toString=function(){return this.g+\"\"};var u=function(a){return a instanceof t&&a.constructor===t?a.g:\"type_error:TrustedResourceUrl\"},y=function(){var a={},b=q(new p(l,\"/complete/search\"));if(!v.test(b))throw Error(\"a`\"+b);var c=b.replace(w,function(e,d){if(!Object.prototype.hasOwnProperty.call(a,d))throw Error(\"b`\"+d+\"`\"+b+\"`\"+JSON.stringify(a));e=a[d];return e instanceof p?q(e):encodeURIComponent(String(e))});return x(c)},w=/%{(\\w+)}/g,v=RegExp(\"^((https:)?//[0-9a-z.:[\\\\]-]+/|/[^/\\\\\\\\]|[^:/\\\\\\\\%]+/|[^:/\\\\\\\\%]*[?#]|about:blank#)\",\"i\"),z=/^([^?#]*)(\\?[^#]*)?(#[\\s\\S]*)?/,r={},x=function(a){var b=k();a=b?b.createScriptURL(a):a;return new t(a,r)},A=function(a,b,c){if(null==c)return b;if(\"string\"===typeof c)return c?a+encodeURIComponent(c):\"\";for(var e in c)if(Object.prototype.hasOwnProperty.call(c,e)){var d=c[e];d=Array.isArray(d)?d:[d];for(var n=0;n<d.length;n++){var P=d[n];null!=P&&(b||(b=a),b+=(b.length>a.length?\"&\":\"\")+encodeURIComponent(e)+\"=\"+encodeURIComponent(String(P)))}}return b};var B={},C=function(a,b){this.g=b===B?a:\"\"};C.prototype.toString=function(){return this.g.toString()};var D=function(a){var b=k();a=b?b.createHTML(a):a;return new C(a,B)};\n",
      "function E(a,b){if(void 0!==a.tagName){if(\"script\"===a.tagName.toLowerCase())throw Error(\"c\");if(\"style\"===a.tagName.toLowerCase())throw Error(\"d\");}a.innerHTML=b instanceof C&&b.constructor===C?b.g:\"type_error:SafeHtml\"};var F=document.querySelector(\".l\"),G=document.querySelector(\"#sf\"),H=G.querySelector(\".sbc\"),I=G.querySelector(\"[type=text]\"),J=G.querySelector(\"[type=submit]\"),K=G.querySelector(\".sc\"),L=G.querySelector(\".x\"),M=I.value,N=[],O=-1,Q=M,R,S,T;M||(L&&(L.style.display=\"none\"),U(!1));function U(a){if(H.classList.contains(\"esbc\")){var b=H.classList.contains(\"chsbc\"),c=H.classList.contains(\"rtlsbc\");a&&(K.style.display=\"block\",b?(G.style.borderRadius=\"20px 20px 0 0\",K.style.borderBottom=\"1px solid #DFE1E5\",J.style.borderRadius=c?\"20px 0 0 0\":\"0 20px 0 0\"):H.style.borderRadius=c?\"0 8px 0 0\":\"8px 0 0 0\");a||(K.style.display=\"none\",b?(G.style.borderRadius=\"20px\",K.style.borderBottom=\"none\",J.style.borderRadius=c?\"20px 0 0 20px\":\"0 20px 20px 0\"):H.style.borderRadius=c?\"0 8px 8px 0\":\"8px 0 0 8px\")}}function V(){G.querySelector(\"[name=oq]\").value=Q;G.querySelector(\"[name=aqs]\").value=\"heirloom-srp.\"+(0<=O?O:\"\")+\".\"+(0<N.length?\"0l\"+N.length:\"\")}\n",
      "function W(){R=null;if(S){var a={client:\"heirloom-srp\",hl:hl,json:\"t\",callback:\"hS\",q:S};\"undefined\"!==typeof ds&&ds&&(a.ds=ds);var b=document;var c=\"SCRIPT\";\"application/xhtml+xml\"===b.contentType&&(c=c.toLowerCase());c=b.createElement(c);b=y();b=z.exec(u(b).toString());var e=b[3]||\"\";a=x(b[1]+A(\"?\",b[2]||\"\",a)+A(\"#\",e));c.src=u(a);var d,n;(d=(a=null==(n=(d=(c.ownerDocument&&c.ownerDocument.defaultView||window).document).querySelector)?void 0:n.call(d,\"script[nonce]\"))?a.nonce||a.getAttribute(\"nonce\")||\n",
      "\"\":\"\")&&c.setAttribute(\"nonce\",d);document.body.appendChild(c);S=null;R=setTimeout(W,500)}}function X(){for(;K.firstChild;)K.removeChild(K.firstChild);N=[];O=-1;U(!1)}function Y(){var a=K.querySelector(\".scs\");a&&(a.className=\"\");0<=O?(a=K.childNodes[O],a.className=\"scs\",M=a.textContent):M=Q;I.value=M}I.addEventListener(\"focus\",function(){F&&(F.style.display=\"none\")},!1);I.addEventListener(\"blur\",function(){X();F&&(F.style.display=\"\")},!1);I.addEventListener(\"keyup\",function(a){M=I.value;T=!1;13===a.which?V():27===a.which?(X(),F&&(F.style.display=\"\"),M=Q,I.value=M):40===a.which?(O++,O>=N.length&&(O=-1),Y()):38===a.which?(O--,-1>O&&(O=N.length-1),Y()):(a=M)?(L&&(L.style.display=\"\"),S=a,R||W(),Q=a):(L&&(L.style.display=\"none\"),U(!1),X(),Q=\"\",T=!0)},!1);J.addEventListener(\"click\",V,!1);L.addEventListener(\"click\",function(){I.value=\"\";L.style.display=\"none\";U(!1)},!1);H.addEventListener(\"click\",function(){I.focus()},!1);window.hS=function(a){if(!T){X();0===a[1].length&&U(!1);for(var b=0;b<a[1].length;b++){var c=a[1][b][0],e=document.createElement(\"div\");E(e,D(c));e.addEventListener(\"mousedown\",function(d){d.preventDefault();return!1},!1);c=c.replace(/<\\/?b>/g,\"\");e.addEventListener(\"click\",function(d){return function(){O=d;V();Y();X();G.submit()}}(b),!1);e.addEventListener(\"mouseover\",function(d){return function(){O!==d&&(O=d,Y())}}(b),!1);K.appendChild(e);U(!0);N.push(c)}}};}).call(this);})();(function(){function b(a){for(a=a.target||a.srcElement;a&&\"A\"!==a.nodeName;)a=a.parentElement;a&&(a.href||\"\").match(/\\/search.*[?&]tbm=isch/)&&(a.href+=\"&biw=\"+document.documentElement.clientWidth,a.href+=\"&bih=\"+document.documentElement.clientHeight)}document.addEventListener(\"click\",b,!1);document.addEventListener(\"touchStart\",b,!1);}).call(this);\n",
      "   </script>\n",
      "  </div>\n",
      "  <!-- cctlcm 5 cctlcm -->\n",
      "  <textarea class=\"csi\" name=\"csi\" style=\"display:none\"></textarea>\n",
      "  <script nonce=\"DD_h0CZYJ_Klb2UhY-Xu5A\">\n",
      "   (function(){var e='u-mcY-_EIae3ggfeg6XwBQ';var sn='web';var timl=true;var gecoh=true;var fil=true;(function(){function B(a){var b=gecoh;if(!a||C(a))return 0;if(!a.getBoundingClientRect)return 1;var c=function(d){return d.getBoundingClientRect()};return D(a,c,b)?0:J(a,c)}function D(a,b,c){a:{for(var d=a;d&&null!==d;d=d.parentElement)if(\"hidden\"===d.style.overflow||c&&\"G-EXPANDABLE-CONTENT\"===d.tagName&&\"hidden\"===getComputedStyle(d).getPropertyValue(\"overflow\")){c=d;break a}c=null}if(!c)return!1;a=b(a);b=b(c);return a.bottom<b.top||a.top>=b.bottom||a.right<b.left||a.left>=b.right}\n",
      "function C(a){return\"none\"===a.style.display?!0:document.defaultView&&document.defaultView.getComputedStyle?(a=document.defaultView.getComputedStyle(a),!!a&&(\"hidden\"===a.visibility||\"0px\"===a.height&&\"0px\"===a.width)):!1}\n",
      "function J(a,b){var c=b(a);a=c.left+window.pageXOffset;b=c.top+window.pageYOffset;var d=c.width;c=c.height;var g=0;if(0>=c&&0>=d)return g;var q=window.innerHeight||document.documentElement.clientHeight;0>b+c?g=2:b>=q&&(g=4);if(0>a+d||a>=(window.innerWidth||document.documentElement.clientWidth))g|=8;g||(g=1,b+c>q&&(g|=4));return g};var K=e,L=sn,M=\"undefined\"===typeof de?!0:!1!==de,N=[],O=\"undefined\"!==typeof fil?fil:!1;function P(a,b,c){a=\"/gen_204?atyp=csi&s=\"+L+\"&t=\"+a+(\"&lite=1&ei=\"+K+\"&conn=\"+(window.navigator&&window.navigator.connection?window.navigator.connection.type:-1)+b);b=\"&rt=\";for(var d in c)a+=\"\"+b+d+\".\"+c[d],b=\",\";return a}function Q(a){a={prt:a};window.wsrt&&(a.wsrt=window.wsrt);return a}function R(a){window.ping?window.ping(a):(new Image).src=a}\n",
      "(function(){for(var a=(new Date).getTime()-window.start,b=Q(a),c=0,d=0,g=0,q=document.getElementsByTagName(\"img\"),r=M?\"&biw=\"+window.innerWidth+\"&bih=\"+window.innerHeight:\"\",E=function(){r+=\"&ima=\"+g;b.aft=c;R(P(\"aft\",r,b))},x=0,S=function(h,t,u){var n=h.src;h.onload=function(){u&&n&&n===h.src||(d=(new Date).getTime()-window.start,t&&++x===g&&(c=d,E()),h.onload=null)}},T=0,f=void 0;f=q[T++];){var v=B(f),p=!!(v&1);p&&++g;var l=f.hasAttribute(\"data-ilite\"),w=f.hasAttribute(\"data-deferred\"),F=f.hasAttribute(\"data-src\")||\n",
      "f.hasAttribute(\"data-lzysrc\"),y=!w&&!l&&F;N.push([v,w||l,y,!!(google.ldi&&f.id&&google.ldi[f.id])||l&&F]);l=(v=f.complete&&!w&&!(p&&y))&&Number(f.getAttribute(\"data-iml\"))||0;v&&l?(p&&++x,l&&(f=l-window.start,p&&(c=Math.max(c,f)),d=Math.max(d,f))):S(f,p,O&&(w||y))}c||(c=a);d||(d=c);x===g&&E();google.rglh&&google.rglh();window.addEventListener(\"load\",function(){window.setTimeout(function(){b.ol=(new Date).getTime()-window.start;timl&&(b.iml=d);var h=window.performance&&window.performance.timing;h&&\n",
      "(b.rqst=h.responseEnd-h.requestStart,b.rspt=h.responseEnd-h.responseStart);for(var t=h=0,u=0,n=0,G=0,H=0,U=0,k;k=N[U++];){var m=k[0],z=k[1],I=k[2];k=k[3];var V=0==m,W=m&8,A=m&1;m=!A&&m&4;A&&(z&&!k||++u,I&&++H);z&&(A&&k&&++h,m&&!k&&++t);V||W?I||++G:z||++n}r+=\"&ime=\"+u+\"&imel=\"+H+(\"&imex=\"+n+\"&imeh=\"+G)+(\"&imea=\"+h+\"&imeb=\"+t);R(P(\"all\",r,b))},0)},!1)})();}).call(this);})();\n",
      "  </script>\n",
      "  <script nonce=\"DD_h0CZYJ_Klb2UhY-Xu5A\">\n",
      "   window._setImagesSrc=function(e,f){function g(b){b.onerror=function(){b.style.display=\"none\"};b.setAttribute(\"data-deferred\",\"2\");b.src=f}for(var c=0;c<e.length;++c){var a=e[c],d=document.getElementById(a)||document.querySelector('img[data-iid=\"'+a+'\"]');d?(a=void 0,(null==(a=google.c)?0:a.setup)&&google.c.setup(d),g(d)):(google.iir=google.iir||{},google.iir[a]=f)}};\"undefined\"===typeof window.google&&(window.google={});\n",
      "  </script>\n",
      "  <script nonce=\"DD_h0CZYJ_Klb2UhY-Xu5A\">\n",
      "   (function(){var s='data:image/png;base64,iVBORw0KGgoAAAANSUhEUgAAABQAAAAUCAYAAACNiR0NAAABAUlEQVR4AWMYesChoYElLjkzPj4lY3d8csZjIL4MxPNjUzPcSTYsISFLAqj5NBD/h+LPQPwbiT87NCuLh2gDgRr2QzXuT0jNMoBYksARn5zuHJ+UcR0kB6RXE2VYXHJGOlTDZmzyIJcB5e+D1CSkZDgQNBAaZv+jU1JkcKpJygiGeZ0I76a/Byq8jU9NZFqaCNTA48SE33/iDcw8TIyBt0GKQTFN0Msp6f2EIyUpo57YSIlLSrMhIg0WCIBcCfXSdlzJBsheTHQ6jEnOUgEFOLaEDbMIlhZBOYrorAdJk+nroVnvPsSgdGdoOF7HZyhZ2XPoGQoqjbCpIbt0AiejIQMArVLI7k/DXFkAAAAASUVORK5CYII\\x3d';var i=['dimg_1','dimg_3','dimg_5','dimg_7','dimg_9','dimg_11','dimg_13','dimg_15'];_setImagesSrc(i,s);})();\n",
      "  </script>\n",
      "  <script nonce=\"DD_h0CZYJ_Klb2UhY-Xu5A\">\n",
      "   (function(){var e='u-mcY-_EIae3ggfeg6XwBQ';(function(){var a=e;2===(window.performance&&window.performance.navigation&&window.performance.navigation.type)&&window.ping(\"/gen_204?ct=backbutton&ei=\"+a);}).call(this);})();(function(){var b=[function(){google.tick&&google.tick(\"load\",\"dcl\")}];google.dclc=function(a){b.length?b.push(a):a()};function c(){for(var a=b.shift();a;)a(),a=b.shift()}window.addEventListener?(document.addEventListener(\"DOMContentLoaded\",c,!1),window.addEventListener(\"load\",c,!1)):window.attachEvent&&window.attachEvent(\"onload\",c);}).call(this);window.jsl=window.jsl||{};window.jsl.dh=function(a,b,f){try{var g=document.getElementById(a);if(g)g.innerHTML=b,f&&f();else{var c={id:a,script:String(!!f),milestone:String(google.jslm||0)};google.jsla&&(c.async=google.jsla);var h=a.indexOf(\"_\"),d=0<h?a.substring(0,h):\"\",k=document.createElement(\"div\");k.innerHTML=b;var e=k.children[0];if(e&&(c.tag=e.tagName,c[\"class\"]=String(e.className||null),c.name=String(e.getAttribute(\"jsname\")),d)){a=[];var l=document.querySelectorAll('[id^=\"'+d+'_\"]');for(b=0;b<l.length;++b)a.push(l[b].id);c.ids=a.join(\",\")}google.ml(Error(d?\"Missing ID with prefix \"+d:\"Missing ID\"),!1,c)}}catch(m){google.ml(m,!0,{\"jsl.dh\":!0})}};(function(){var x=false;google.jslm=x?2:1;})();(function(){(function(){google.csct={};google.csct.ps='AOvVaw3ZElYPRCJ9oJmBH7u0mP05\\x26ust\\x3d1671314235587401';})();})();(function(){(function(){google.csct.rd=true;})();})();(function(){(function(){google.csct.rl=true;})();})();(function(){window.xp=function(b){function f(k,g,h){return\"xp\"+(\"x\"==g?\"c\":\"x\")+h}for(var c=/\\bxp(x|c)(\\d?)\\b/,a=b;a;){var e=a.className,d=e.match(c);if(d){d=\"c\"==d[1];a.className=e.replace(c,f);b&&b.setAttribute(\"aria-expanded\",d);if(d)for(b=a.getElementsByTagName(\"img\"),c=0;c<b.length;++c)if(a=b[c],e=a.getAttribute(\"data-ll\"))a.src=e,a.removeAttribute(\"data-ll\");break}a=a.parentElement}};})();(function(){(function(){window.logVe=function(a){a&&a.attributes[\"data-ved\"]&&window.ping(\"/gen_204?ved=\"+a.attributes[\"data-ved\"].value)};}).call(this);})();(function(){(function(){var id='tsuid_1';var lve=true;(function(){\n",
      "var e=\"undefined\"!=typeof navigator&&!/Opera/.test(navigator.userAgent)&&/WebKit/.test(navigator.userAgent),f={A:1,INPUT:1,TEXTAREA:1,SELECT:1,BUTTON:1},g={Enter:13,\" \":32},h={A:13,BUTTON:0,CHECKBOX:32,COMBOBOX:13,FILE:0,GRIDCELL:13,LINK:13,LISTBOX:13,MENU:0,MENUBAR:0,MENUITEM:0,MENUITEMCHECKBOX:0,MENUITEMRADIO:0,OPTION:0,RADIO:32,RADIOGROUP:32,RESET:0,SUBMIT:0,SWITCH:32,TAB:0,TREE:13,TREEITEM:13},k={CHECKBOX:!0,FILE:!0,OPTION:!0,RADIO:!0},l={COLOR:!0,DATE:!0,DATETIME:!0,\"DATETIME-LOCAL\":!0,EMAIL:!0,MONTH:!0,NUMBER:!0,PASSWORD:!0,RANGE:!0,SEARCH:!0,TEL:!0,TEXT:!0,TEXTAREA:!0,TIME:!0,URL:!0,WEEK:!0};document.getElementById(id).onclick=function(){window.xp(this);lve&&window.logVe(this)};document.getElementById(id).onkeydown=function(d){var c=d.which||d.keyCode;!c&&d.key&&(c=g[d.key]);e&&3==c&&(c=13);if(13!=c&&32!=c)c=!1;else{var a=d.target||d.srcElement;!a.getAttribute&&a.parentNode&&(a=a.parentNode);var b;if(!(b=\"keydown\"!=d.type)){if(b=\"getAttribute\"in a)b=!((a.getAttribute(\"type\")||a.tagName).toUpperCase()in l);b=!(b&&!(\"BUTTON\"==a.tagName.toUpperCase()||a.type&&\"FILE\"==a.type.toUpperCase())&&!a.isContentEditable)}(b=b||d.ctrlKey||d.shiftKey||d.altKey||d.metaKey||(a.getAttribute(\"type\")||\n",
      "a.tagName).toUpperCase()in k&&32==c)||((b=a.tagName in f)||(b=a.getAttributeNode(\"tabindex\"),b=null!=b&&b.specified),b=!(b&&!a.disabled));if(b)c=!1;else{b=(a.getAttribute(\"role\")||a.type||a.tagName).toUpperCase();var m=!(b in h)&&13==c;a=\"INPUT\"!=a.tagName.toUpperCase()||!!a.type;c=(0==h[b]%c||m)&&a}}c&&(d.preventDefault(),window.xp(this),lve&&window.logVe(this))};}).call(this);})();})();(function(){window.jsl=window.jsl||{};window.jsl.dh=window.jsl.dh||function(i,c,d){try{var e=document.getElementById(i);if(e){e.innerHTML=c;if(d){d();}}else{if(window.jsl.el){window.jsl.el(new Error('Missing ID.'),{'id':i});}}}catch(e){if(window.jsl.el){window.jsl.el(new Error('jsl.dh'));}}};})();(function(){window.jsl.dh('accdef_1','\\x3cdiv\\x3e\\x3cdiv style\\x3d\\x22padding-bottom:12px;padding-top:0px\\x22 class\\x3d\\x22hwc kCrYT\\x22\\x3e\\x3cdiv class\\x3d\\x22yStFkb\\x22\\x3e\\x3cdiv class\\x3d\\x22Gx5Zad xpd EtOod pkphOe\\x22\\x3e\\x3cdiv class\\x3d\\x22kCrYT\\x22\\x3e\\x3cdiv\\x3e\\x3cdiv class\\x3d\\x22BNeawe s3v9rd AP7Wnd\\x22\\x3e\\x3cdiv\\x3e\\x3cdiv class\\x3d\\x22BNeawe s3v9rd AP7Wnd\\x22\\x3e\\x3cspan class\\x3d\\x22FCUp0c rQMQod\\x22\\x3eJacob\\x27s is a fantastic place to work\\x3c/span\\x3e. You can gain exposure to lots of different technically challenging assignments. Team members are cordial, collegial, and supportive of family commitments. Generally, as a workplace, its a good place to be.\\x3c/div\\x3e\\x3c/div\\x3e\\x3c/div\\x3e\\x3c/div\\x3e\\x3c/div\\x3e\\x3cdiv class\\x3d\\x22x54gtf\\x22\\x3e\\x3c/div\\x3e\\x3cdiv class\\x3d\\x22kCrYT\\x22\\x3e\\x3ca href\\x3d\\x22/url?q\\x3dhttps://uk.indeed.com/cmp/Jacobs/reviews%3Ffcountry%3DALL%26fjobtitle%3DEngineer\\x26amp;sa\\x3dU\\x26amp;ved\\x3d2ahUKEwivjujrkP_7AhWnm-AKHd5BCV4QFnoECAgQBg\\x26amp;usg\\x3dAOvVaw18BewBz7H0P_nxX_-O7k7u\\x22\\x3e\\x3cspan\\x3e\\x3cdiv class\\x3d\\x22BNeawe vvjwJb AP7Wnd\\x22\\x3e\\x3cspan class\\x3d\\x22rQMQod Xb5VRe\\x22\\x3eWorking as an Engineer at Jacobs - Employee reviews - Indeed\\x3c/span\\x3e\\x3c/div\\x3e\\x3c/span\\x3e\\x3cspan\\x3e\\x3cdiv class\\x3d\\x22BNeawe UPmit AP7Wnd\\x22\\x3euk.indeed.com \\u203a cmp \\u203a Jacobs \\u203a reviews\\x3c/div\\x3e\\x3c/span\\x3e\\x3c/a\\x3e\\x3c/div\\x3e\\x3c/div\\x3e\\x3c/div\\x3e\\x3cdiv\\x3e\\x3cdiv class\\x3d\\x22P1NWSe\\x22\\x3e\\x3cdiv class\\x3d\\x22wOMIed nkPlDb\\x22\\x3e\\x3cspan class\\x3d\\x22JhFlyf VQFmSd\\x22\\x3e\\x3ca class\\x3d\\x22f4J0H\\x22 href\\x3d\\x22https://www.google.com/search?ie\\x3dUTF-8\\x26amp;ei\\x3du-mcY-_EIae3ggfeg6XwBQ\\x26amp;q\\x3dAre+Jacobs+a+good+company+to+work+for?\\x26amp;sa\\x3dX\\x26amp;ved\\x3d2ahUKEwivjujrkP_7AhWnm-AKHd5BCV4Qzmd6BAgIEAc\\x22\\x3eMore results\\x3c/a\\x3e\\x3c/span\\x3e\\x3c/div\\x3e\\x3c/div\\x3e\\x3c/div\\x3e\\x3c/div\\x3e\\x3c/div\\x3e');})();(function(){(function(){var id='tsuid_2';var lve=true;(function(){\n",
      "var e=\"undefined\"!=typeof navigator&&!/Opera/.test(navigator.userAgent)&&/WebKit/.test(navigator.userAgent),f={A:1,INPUT:1,TEXTAREA:1,SELECT:1,BUTTON:1},g={Enter:13,\" \":32},h={A:13,BUTTON:0,CHECKBOX:32,COMBOBOX:13,FILE:0,GRIDCELL:13,LINK:13,LISTBOX:13,MENU:0,MENUBAR:0,MENUITEM:0,MENUITEMCHECKBOX:0,MENUITEMRADIO:0,OPTION:0,RADIO:32,RADIOGROUP:32,RESET:0,SUBMIT:0,SWITCH:32,TAB:0,TREE:13,TREEITEM:13},k={CHECKBOX:!0,FILE:!0,OPTION:!0,RADIO:!0},l={COLOR:!0,DATE:!0,DATETIME:!0,\"DATETIME-LOCAL\":!0,EMAIL:!0,MONTH:!0,NUMBER:!0,PASSWORD:!0,RANGE:!0,SEARCH:!0,TEL:!0,TEXT:!0,TEXTAREA:!0,TIME:!0,URL:!0,WEEK:!0};document.getElementById(id).onclick=function(){window.xp(this);lve&&window.logVe(this)};document.getElementById(id).onkeydown=function(d){var c=d.which||d.keyCode;!c&&d.key&&(c=g[d.key]);e&&3==c&&(c=13);if(13!=c&&32!=c)c=!1;else{var a=d.target||d.srcElement;!a.getAttribute&&a.parentNode&&(a=a.parentNode);var b;if(!(b=\"keydown\"!=d.type)){if(b=\"getAttribute\"in a)b=!((a.getAttribute(\"type\")||a.tagName).toUpperCase()in l);b=!(b&&!(\"BUTTON\"==a.tagName.toUpperCase()||a.type&&\"FILE\"==a.type.toUpperCase())&&!a.isContentEditable)}(b=b||d.ctrlKey||d.shiftKey||d.altKey||d.metaKey||(a.getAttribute(\"type\")||\n",
      "a.tagName).toUpperCase()in k&&32==c)||((b=a.tagName in f)||(b=a.getAttributeNode(\"tabindex\"),b=null!=b&&b.specified),b=!(b&&!a.disabled));if(b)c=!1;else{b=(a.getAttribute(\"role\")||a.type||a.tagName).toUpperCase();var m=!(b in h)&&13==c;a=\"INPUT\"!=a.tagName.toUpperCase()||!!a.type;c=(0==h[b]%c||m)&&a}}c&&(d.preventDefault(),window.xp(this),lve&&window.logVe(this))};}).call(this);})();})();(function(){window.jsl.dh('accdef_3','\\x3cdiv\\x3e\\x3cdiv style\\x3d\\x22padding-bottom:12px;padding-top:0px\\x22 class\\x3d\\x22hwc kCrYT\\x22\\x3e\\x3cdiv class\\x3d\\x22yStFkb\\x22\\x3e\\x3cdiv class\\x3d\\x22Gx5Zad xpd EtOod pkphOe\\x22\\x3e\\x3cdiv class\\x3d\\x22kCrYT\\x22\\x3e\\x3cdiv\\x3e\\x3cdiv class\\x3d\\x22BNeawe s3v9rd AP7Wnd\\x22\\x3e\\x3cdiv\\x3e\\x3cdiv class\\x3d\\x22BNeawe s3v9rd AP7Wnd\\x22\\x3eHow much does Jacobs Engineering Group Inc pay? Jacobs Engineering Group Inc pays its employees \\x3cspan class\\x3d\\x22FCUp0c rQMQod\\x22\\x3ean average of $79,383 a year\\x3c/span\\x3e. Salaries at Jacobs Engineering Group Inc range from an average of $59,121 to $131,844 a year.\\x3c/div\\x3e\\x3c/div\\x3e\\x3c/div\\x3e\\x3c/div\\x3e\\x3c/div\\x3e\\x3cdiv class\\x3d\\x22x54gtf\\x22\\x3e\\x3c/div\\x3e\\x3cdiv class\\x3d\\x22kCrYT\\x22\\x3e\\x3ca href\\x3d\\x22/url?q\\x3dhttps://www.payscale.com/research/US/Employer%3DJacobs_Engineering_Group_Inc/Salary\\x26amp;sa\\x3dU\\x26amp;ved\\x3d2ahUKEwivjujrkP_7AhWnm-AKHd5BCV4QFnoECAgQDQ\\x26amp;usg\\x3dAOvVaw3c9F1RiFn_xK5zQN5wdv_r\\x22\\x3e\\x3cspan\\x3e\\x3cdiv class\\x3d\\x22BNeawe vvjwJb AP7Wnd\\x22\\x3e\\x3cspan class\\x3d\\x22rQMQod Xb5VRe\\x22\\x3eAverage Salary for Jacobs Engineering Group Inc Employees\\x3c/span\\x3e\\x3c/div\\x3e\\x3c/span\\x3e\\x3cspan\\x3e\\x3cdiv class\\x3d\\x22BNeawe UPmit AP7Wnd\\x22\\x3ewww.payscale.com \\u203a research \\u203a Salary\\x3c/div\\x3e\\x3c/span\\x3e\\x3c/a\\x3e\\x3c/div\\x3e\\x3c/div\\x3e\\x3c/div\\x3e\\x3cdiv\\x3e\\x3cdiv class\\x3d\\x22P1NWSe\\x22\\x3e\\x3cdiv class\\x3d\\x22wOMIed nkPlDb\\x22\\x3e\\x3cspan class\\x3d\\x22JhFlyf VQFmSd\\x22\\x3e\\x3ca class\\x3d\\x22f4J0H\\x22 href\\x3d\\x22https://www.google.com/search?ie\\x3dUTF-8\\x26amp;ei\\x3du-mcY-_EIae3ggfeg6XwBQ\\x26amp;q\\x3dDoes+Jacobs+Engineering+pay+well?\\x26amp;sa\\x3dX\\x26amp;ved\\x3d2ahUKEwivjujrkP_7AhWnm-AKHd5BCV4Qzmd6BAgIEA4\\x22\\x3eMore results\\x3c/a\\x3e\\x3c/span\\x3e\\x3c/div\\x3e\\x3c/div\\x3e\\x3c/div\\x3e\\x3c/div\\x3e\\x3c/div\\x3e');})();(function(){(function(){var id='tsuid_3';var lve=true;(function(){\n",
      "var e=\"undefined\"!=typeof navigator&&!/Opera/.test(navigator.userAgent)&&/WebKit/.test(navigator.userAgent),f={A:1,INPUT:1,TEXTAREA:1,SELECT:1,BUTTON:1},g={Enter:13,\" \":32},h={A:13,BUTTON:0,CHECKBOX:32,COMBOBOX:13,FILE:0,GRIDCELL:13,LINK:13,LISTBOX:13,MENU:0,MENUBAR:0,MENUITEM:0,MENUITEMCHECKBOX:0,MENUITEMRADIO:0,OPTION:0,RADIO:32,RADIOGROUP:32,RESET:0,SUBMIT:0,SWITCH:32,TAB:0,TREE:13,TREEITEM:13},k={CHECKBOX:!0,FILE:!0,OPTION:!0,RADIO:!0},l={COLOR:!0,DATE:!0,DATETIME:!0,\"DATETIME-LOCAL\":!0,EMAIL:!0,MONTH:!0,NUMBER:!0,PASSWORD:!0,RANGE:!0,SEARCH:!0,TEL:!0,TEXT:!0,TEXTAREA:!0,TIME:!0,URL:!0,WEEK:!0};document.getElementById(id).onclick=function(){window.xp(this);lve&&window.logVe(this)};document.getElementById(id).onkeydown=function(d){var c=d.which||d.keyCode;!c&&d.key&&(c=g[d.key]);e&&3==c&&(c=13);if(13!=c&&32!=c)c=!1;else{var a=d.target||d.srcElement;!a.getAttribute&&a.parentNode&&(a=a.parentNode);var b;if(!(b=\"keydown\"!=d.type)){if(b=\"getAttribute\"in a)b=!((a.getAttribute(\"type\")||a.tagName).toUpperCase()in l);b=!(b&&!(\"BUTTON\"==a.tagName.toUpperCase()||a.type&&\"FILE\"==a.type.toUpperCase())&&!a.isContentEditable)}(b=b||d.ctrlKey||d.shiftKey||d.altKey||d.metaKey||(a.getAttribute(\"type\")||\n",
      "a.tagName).toUpperCase()in k&&32==c)||((b=a.tagName in f)||(b=a.getAttributeNode(\"tabindex\"),b=null!=b&&b.specified),b=!(b&&!a.disabled));if(b)c=!1;else{b=(a.getAttribute(\"role\")||a.type||a.tagName).toUpperCase();var m=!(b in h)&&13==c;a=\"INPUT\"!=a.tagName.toUpperCase()||!!a.type;c=(0==h[b]%c||m)&&a}}c&&(d.preventDefault(),window.xp(this),lve&&window.logVe(this))};}).call(this);})();})();(function(){window.jsl.dh('accdef_5','\\x3cdiv\\x3e\\x3cdiv style\\x3d\\x22padding-bottom:12px;padding-top:0px\\x22 class\\x3d\\x22hwc kCrYT\\x22\\x3e\\x3cdiv class\\x3d\\x22yStFkb\\x22\\x3e\\x3cdiv class\\x3d\\x22Gx5Zad xpd EtOod pkphOe\\x22\\x3e\\x3cdiv\\x3e\\x3cdiv class\\x3d\\x22kCrYT\\x22\\x3e\\x3ca href\\x3d\\x22/url?q\\x3dhttps://in.indeed.com/companies/compare/AECOM-vs-Jacobs-8ab1f76caf224dd4-3a2d06a2d215dc39\\x26amp;sa\\x3dU\\x26amp;ved\\x3d2ahUKEwivjujrkP_7AhWnm-AKHd5BCV4QFnoECAgQEw\\x26amp;usg\\x3dAOvVaw3UiqdqZWfZBNwu4epm3Fgt\\x22\\x3e\\x3cspan\\x3e\\x3cdiv class\\x3d\\x22BNeawe deIvCb AP7Wnd\\x22\\x3eAECOM is most highly rated for Compensation and benefits and Jacobs is most highly rated for Compensation and benefits.\\n...\\nOverall Rating.\\x3c/div\\x3e\\x3c/span\\x3e\\x3c/a\\x3e\\x3c/div\\x3e\\x3cdiv class\\x3d\\x22CgE3Ac I9mEQ\\x22\\x3e\\x3ctable class\\x3d\\x22LnMnt\\x22\\x3e\\x3cthead\\x3e\\x3ctr\\x3e\\x3ctd class\\x3d\\x22IxZjcf sjsZvd OE1use\\x22\\x3e\\x3cdiv class\\x3d\\x22hfgVwf\\x22\\x3e\\x3cdiv class\\x3d\\x22BNeawe uEec3 AP7Wnd\\x22\\x3eOverall Rating\\x3c/div\\x3e\\x3c/div\\x3e\\x3c/td\\x3e\\x3ctd class\\x3d\\x22IxZjcf sjsZvd OE1use\\x22\\x3e\\x3cdiv class\\x3d\\x22hfgVwf\\x22\\x3e\\x3cdiv class\\x3d\\x22BNeawe uEec3 AP7Wnd\\x22\\x3e3.7\\x3c/div\\x3e\\x3c/div\\x3e\\x3c/td\\x3e\\x3ctd class\\x3d\\x22IxZjcf sjsZvd s5aIid OE1use\\x22\\x3e\\x3cdiv class\\x3d\\x22hfgVwf\\x22\\x3e\\x3cdiv class\\x3d\\x22BNeawe uEec3 AP7Wnd\\x22\\x3e3.9\\x3c/div\\x3e\\x3c/div\\x3e\\x3c/td\\x3e\\x3c/tr\\x3e\\x3c/thead\\x3e\\x3ctbody\\x3e\\x3ctr\\x3e\\x3ctd class\\x3d\\x22sjsZvd OE1use\\x22\\x3e\\x3cdiv class\\x3d\\x22hfgVwf\\x22\\x3e\\x3cdiv class\\x3d\\x22BNeawe s3v9rd AP7Wnd\\x22\\x3eManagement\\x3c/div\\x3e\\x3c/div\\x3e\\x3c/td\\x3e\\x3ctd class\\x3d\\x22sjsZvd OE1use\\x22\\x3e\\x3cdiv class\\x3d\\x22hfgVwf\\x22\\x3e\\x3cdiv class\\x3d\\x22BNeawe s3v9rd AP7Wnd\\x22\\x3e3.3\\x3c/div\\x3e\\x3c/div\\x3e\\x3c/td\\x3e\\x3ctd class\\x3d\\x22sjsZvd s5aIid OE1use\\x22\\x3e\\x3cdiv class\\x3d\\x22hfgVwf\\x22\\x3e\\x3cdiv class\\x3d\\x22BNeawe s3v9rd AP7Wnd\\x22\\x3e3.5\\x3c/div\\x3e\\x3c/div\\x3e\\x3c/td\\x3e\\x3c/tr\\x3e\\x3ctr\\x3e\\x3ctd class\\x3d\\x22sjsZvd OE1use\\x22\\x3e\\x3cdiv class\\x3d\\x22hfgVwf\\x22\\x3e\\x3cdiv class\\x3d\\x22BNeawe s3v9rd AP7Wnd\\x22\\x3eCulture\\x3c/div\\x3e\\x3c/div\\x3e\\x3c/td\\x3e\\x3ctd class\\x3d\\x22sjsZvd OE1use\\x22\\x3e\\x3cdiv class\\x3d\\x22hfgVwf\\x22\\x3e\\x3cdiv class\\x3d\\x22BNeawe s3v9rd AP7Wnd\\x22\\x3e3.5\\x3c/div\\x3e\\x3c/div\\x3e\\x3c/td\\x3e\\x3ctd class\\x3d\\x22sjsZvd s5aIid OE1use\\x22\\x3e\\x3cdiv class\\x3d\\x22hfgVwf\\x22\\x3e\\x3cdiv class\\x3d\\x22BNeawe s3v9rd AP7Wnd\\x22\\x3e3.7\\x3c/div\\x3e\\x3c/div\\x3e\\x3c/td\\x3e\\x3c/tr\\x3e\\x3c/tbody\\x3e\\x3c/table\\x3e\\x3c/div\\x3e\\x3cdiv class\\x3d\\x22hwc\\x22\\x3e\\x3cdiv class\\x3d\\x22Q0HXG\\x22\\x3e\\x3c/div\\x3e\\x3cdiv class\\x3d\\x22kCrYT\\x22\\x3e\\x3ca href\\x3d\\x22/url?q\\x3dhttps://in.indeed.com/companies/compare/AECOM-vs-Jacobs-8ab1f76caf224dd4-3a2d06a2d215dc39\\x26amp;sa\\x3dU\\x26amp;ved\\x3d2ahUKEwivjujrkP_7AhWnm-AKHd5BCV4QFnoECAgQFQ\\x26amp;usg\\x3dAOvVaw2VRlqBT5cQU2DspaOe3jNP\\x22\\x3e\\x3cdiv\\x3e\\x3cspan\\x3e\\x3cdiv class\\x3d\\x22BNeawe vvjwJb AP7Wnd\\x22\\x3e\\x3cspan class\\x3d\\x22rQMQod Xb5VRe\\x22\\x3eCompare working at AECOM vs Jacobs | Indeed.com\\x3c/span\\x3e\\x3c/div\\x3e\\x3c/span\\x3e\\x3cspan\\x3e\\x3cdiv class\\x3d\\x22BNeawe UPmit AP7Wnd\\x22\\x3ein.indeed.com \\u203a AECOM-vs-Jacobs-8ab1f76caf224dd4-3a2d06a2d215dc39\\x3c/div\\x3e\\x3c/span\\x3e\\x3c/div\\x3e\\x3c/a\\x3e\\x3c/div\\x3e\\x3c/div\\x3e\\x3c/div\\x3e\\x3c/div\\x3e\\x3c/div\\x3e\\x3cdiv\\x3e\\x3cdiv class\\x3d\\x22P1NWSe\\x22\\x3e\\x3cdiv class\\x3d\\x22wOMIed nkPlDb\\x22\\x3e\\x3cspan class\\x3d\\x22JhFlyf VQFmSd\\x22\\x3e\\x3ca class\\x3d\\x22f4J0H\\x22 href\\x3d\\x22https://www.google.com/search?ie\\x3dUTF-8\\x26amp;ei\\x3du-mcY-_EIae3ggfeg6XwBQ\\x26amp;q\\x3dIs+Jacobs+or+aecom+better?\\x26amp;sa\\x3dX\\x26amp;ved\\x3d2ahUKEwivjujrkP_7AhWnm-AKHd5BCV4Qzmd6BAgIEBY\\x22\\x3eMore results\\x3c/a\\x3e\\x3c/span\\x3e\\x3c/div\\x3e\\x3c/div\\x3e\\x3c/div\\x3e\\x3c/div\\x3e\\x3c/div\\x3e');})();(function(){(function(){var id='tsuid_4';var lve=true;(function(){\n",
      "var e=\"undefined\"!=typeof navigator&&!/Opera/.test(navigator.userAgent)&&/WebKit/.test(navigator.userAgent),f={A:1,INPUT:1,TEXTAREA:1,SELECT:1,BUTTON:1},g={Enter:13,\" \":32},h={A:13,BUTTON:0,CHECKBOX:32,COMBOBOX:13,FILE:0,GRIDCELL:13,LINK:13,LISTBOX:13,MENU:0,MENUBAR:0,MENUITEM:0,MENUITEMCHECKBOX:0,MENUITEMRADIO:0,OPTION:0,RADIO:32,RADIOGROUP:32,RESET:0,SUBMIT:0,SWITCH:32,TAB:0,TREE:13,TREEITEM:13},k={CHECKBOX:!0,FILE:!0,OPTION:!0,RADIO:!0},l={COLOR:!0,DATE:!0,DATETIME:!0,\"DATETIME-LOCAL\":!0,EMAIL:!0,MONTH:!0,NUMBER:!0,PASSWORD:!0,RANGE:!0,SEARCH:!0,TEL:!0,TEXT:!0,TEXTAREA:!0,TIME:!0,URL:!0,WEEK:!0};document.getElementById(id).onclick=function(){window.xp(this);lve&&window.logVe(this)};document.getElementById(id).onkeydown=function(d){var c=d.which||d.keyCode;!c&&d.key&&(c=g[d.key]);e&&3==c&&(c=13);if(13!=c&&32!=c)c=!1;else{var a=d.target||d.srcElement;!a.getAttribute&&a.parentNode&&(a=a.parentNode);var b;if(!(b=\"keydown\"!=d.type)){if(b=\"getAttribute\"in a)b=!((a.getAttribute(\"type\")||a.tagName).toUpperCase()in l);b=!(b&&!(\"BUTTON\"==a.tagName.toUpperCase()||a.type&&\"FILE\"==a.type.toUpperCase())&&!a.isContentEditable)}(b=b||d.ctrlKey||d.shiftKey||d.altKey||d.metaKey||(a.getAttribute(\"type\")||\n",
      "a.tagName).toUpperCase()in k&&32==c)||((b=a.tagName in f)||(b=a.getAttributeNode(\"tabindex\"),b=null!=b&&b.specified),b=!(b&&!a.disabled));if(b)c=!1;else{b=(a.getAttribute(\"role\")||a.type||a.tagName).toUpperCase();var m=!(b in h)&&13==c;a=\"INPUT\"!=a.tagName.toUpperCase()||!!a.type;c=(0==h[b]%c||m)&&a}}c&&(d.preventDefault(),window.xp(this),lve&&window.logVe(this))};}).call(this);})();})();(function(){window.jsl.dh('accdef_7','\\x3cdiv\\x3e\\x3cdiv style\\x3d\\x22padding-bottom:12px;padding-top:0px\\x22 class\\x3d\\x22hwc kCrYT\\x22\\x3e\\x3cdiv class\\x3d\\x22yStFkb\\x22\\x3e\\x3cdiv class\\x3d\\x22Gx5Zad xpd EtOod pkphOe\\x22\\x3e\\x3cdiv class\\x3d\\x22kCrYT\\x22\\x3e\\x3cdiv\\x3e\\x3cdiv class\\x3d\\x22BNeawe s3v9rd AP7Wnd\\x22\\x3e\\x3cdiv\\x3e\\x3cdiv class\\x3d\\x22BNeawe s3v9rd AP7Wnd\\x22\\x3eJacobs is \\x3cspan class\\x3d\\x22FCUp0c rQMQod\\x22\\x3eranked the #2 Most Admired Company in the World in the Engineering, Construction category by Fortune Magazine\\x3c/span\\x3e.\\x3c/div\\x3e\\x3c/div\\x3e\\x3c/div\\x3e\\x3c/div\\x3e\\x3c/div\\x3e\\x3cdiv class\\x3d\\x22x54gtf\\x22\\x3e\\x3c/div\\x3e\\x3cdiv class\\x3d\\x22kCrYT\\x22\\x3e\\x3ca href\\x3d\\x22/url?q\\x3dhttps://www.jacobs.com/about/industry-rankings\\x26amp;sa\\x3dU\\x26amp;ved\\x3d2ahUKEwivjujrkP_7AhWnm-AKHd5BCV4QFnoECAgQHA\\x26amp;usg\\x3dAOvVaw3kTTlYyY0T1DaToJ5b3QJ5\\x22\\x3e\\x3cspan\\x3e\\x3cdiv class\\x3d\\x22BNeawe vvjwJb AP7Wnd\\x22\\x3e\\x3cspan class\\x3d\\x22rQMQod Xb5VRe\\x22\\x3eIndustry Rankings - Jacobs\\x3c/span\\x3e\\x3c/div\\x3e\\x3c/span\\x3e\\x3cspan\\x3e\\x3cdiv class\\x3d\\x22BNeawe UPmit AP7Wnd\\x22\\x3ewww.jacobs.com \\u203a about \\u203a industry-rankings\\x3c/div\\x3e\\x3c/span\\x3e\\x3c/a\\x3e\\x3c/div\\x3e\\x3c/div\\x3e\\x3c/div\\x3e\\x3cdiv\\x3e\\x3cdiv class\\x3d\\x22P1NWSe\\x22\\x3e\\x3cdiv class\\x3d\\x22wOMIed nkPlDb\\x22\\x3e\\x3cspan class\\x3d\\x22JhFlyf VQFmSd\\x22\\x3e\\x3ca class\\x3d\\x22f4J0H\\x22 href\\x3d\\x22https://www.google.com/search?ie\\x3dUTF-8\\x26amp;ei\\x3du-mcY-_EIae3ggfeg6XwBQ\\x26amp;q\\x3dIs+Jacobs+a+good+Engineering+company?\\x26amp;sa\\x3dX\\x26amp;ved\\x3d2ahUKEwivjujrkP_7AhWnm-AKHd5BCV4Qzmd6BAgIEB0\\x22\\x3eMore results\\x3c/a\\x3e\\x3c/span\\x3e\\x3c/div\\x3e\\x3c/div\\x3e\\x3c/div\\x3e\\x3c/div\\x3e\\x3c/div\\x3e');})();google.drty&&google.drty(undefined,true);\n",
      "  </script>\n",
      " </body>\n",
      "</html>\n"
     ]
    }
   ],
   "source": [
    "import requests\n",
    "from bs4 import BeautifulSoup as bs\n",
    "\n",
    "# need to split words multiple times into the fields\n",
    "\n",
    "\n",
    "\n",
    "one = 'jacobs'\n",
    "two = 'glassdoor'\n",
    "\n",
    "# length plus 'glassdoor'\n",
    "\n",
    "url = f'https://www.google.com/search?q={one}+{two}'\n",
    "page = requests.get(url)\n",
    "\n",
    "page.status_code\n",
    "results = page.text\n",
    "\n",
    "soup = BeautifulSoup(results, 'html.parser')\n",
    "print(soup.prettify())\n",
    "\n",
    "# div aria-label class=Hk2yDb KsR1A  (for glassdoor rating)\n"
   ]
  },
  {
   "cell_type": "code",
   "execution_count": 540,
   "id": "678da9d5",
   "metadata": {},
   "outputs": [
    {
     "data": {
      "text/plain": [
       "'Rating  4.0  (6,012) Jacobs has an overall rating of 4.0 out of 5, based on over 6,012 reviews left anonymously by employees. 81% of employees would recommend working at Jacobs to a\\xa0...'"
      ]
     },
     "execution_count": 540,
     "metadata": {},
     "output_type": "execute_result"
    }
   ],
   "source": [
    "soup.find(class_='BNeawe s3v9rd AP7Wnd').get_text()"
   ]
  },
  {
   "cell_type": "markdown",
   "id": "f8ba2169",
   "metadata": {},
   "source": [
    "## implement into a for loop based on list -> then to df"
   ]
  },
  {
   "cell_type": "markdown",
   "id": "05abcce9",
   "metadata": {},
   "source": [
    "### Ah, so growing a dataframe row-wise is a bad practice, whoops. Guess I need to change my approach"
   ]
  },
  {
   "cell_type": "code",
   "execution_count": 839,
   "id": "58a8e74f",
   "metadata": {},
   "outputs": [
    {
     "ename": "AttributeError",
     "evalue": "'NoneType' object has no attribute 'get_text'",
     "output_type": "error",
     "traceback": [
      "\u001b[1;31m---------------------------------------------------------------------------\u001b[0m",
      "\u001b[1;31mAttributeError\u001b[0m                            Traceback (most recent call last)",
      "\u001b[1;32m~\\AppData\\Local\\Temp\\ipykernel_15640\\1268345353.py\u001b[0m in \u001b[0;36m<module>\u001b[1;34m\u001b[0m\n\u001b[1;32m----> 1\u001b[1;33m \u001b[0mglassdoor\u001b[0m \u001b[1;33m=\u001b[0m \u001b[0msoup\u001b[0m\u001b[1;33m.\u001b[0m\u001b[0mfind\u001b[0m\u001b[1;33m(\u001b[0m\u001b[0mclass_\u001b[0m\u001b[1;33m=\u001b[0m\u001b[1;34m'BNeawe s3v9rd AP7Wnd'\u001b[0m\u001b[1;33m)\u001b[0m\u001b[1;33m.\u001b[0m\u001b[0mget_text\u001b[0m\u001b[1;33m(\u001b[0m\u001b[1;33m)\u001b[0m\u001b[1;33m\u001b[0m\u001b[1;33m\u001b[0m\u001b[0m\n\u001b[0m\u001b[0;32m      2\u001b[0m \u001b[1;33m\u001b[0m\u001b[0m\n\u001b[0;32m      3\u001b[0m \u001b[0msample_list\u001b[0m \u001b[1;33m=\u001b[0m \u001b[1;33m[\u001b[0m\u001b[1;34m'Jacobs'\u001b[0m\u001b[1;33m]\u001b[0m\u001b[1;33m\u001b[0m\u001b[1;33m\u001b[0m\u001b[0m\n\u001b[0;32m      4\u001b[0m \u001b[1;31m# sample = [pt.get_text() for pt in sample_list]\u001b[0m\u001b[1;33m\u001b[0m\u001b[1;33m\u001b[0m\u001b[0m\n\u001b[0;32m      5\u001b[0m \u001b[1;33m\u001b[0m\u001b[0m\n",
      "\u001b[1;31mAttributeError\u001b[0m: 'NoneType' object has no attribute 'get_text'"
     ]
    }
   ],
   "source": [
    "glassdoor = soup.find(class_='BNeawe s3v9rd AP7Wnd').get_text()\n",
    "\n",
    "sample_list = ['Jacobs']\n",
    "# sample = [pt.get_text() for pt in sample_list]\n",
    "\n",
    "test_data = pd.DataFrame({'comp_name': ['jacobs', 'helm360', 'jobot'], 'location' : ['Atlanta, GA', 'Atlanta, GA', 'Atlanta, GA']})\n",
    "test_data\n",
    "\n",
    "comp_name_list = test_data['comp_name']\n",
    "# must be outside of loop, otherwise it gets overwritten unfortunately\n",
    "empty_arr = []\n",
    "\n",
    "for i in comp_name_list:\n",
    "    url = f'https://www.google.com/search?q={i}+glassdoor'\n",
    "    page = requests.get(url)\n",
    "    soup = BeautifulSoup(page.text, 'html.parser')\n",
    "#     print(soup.prettify())\n",
    "\n",
    "#     empty_arr.append(soup.find(class_='BNeawe s3v9rd AP7Wnd').get_text())\n",
    "    results = soup.find(class_='BNeawe s3v9rd AP7Wnd').get_text()\n",
    "    index_slice = results.find('out of 5')\n",
    "#     print(results[:index_slice])\n",
    "    sliced_results = results[:index_slice]\n",
    "#     data within an empty list, ready to be assigned in a df column\n",
    "    empty_arr.append(sliced_results)\n",
    "#     empty_arr += [sliced_results]\n",
    "#     print(empty_arr)\n",
    "#     assign this to existing sample dataframe\n",
    "#     test_data['gd_ratings'] = empty_arr\n",
    "\n",
    "# test_data\n",
    "# print(test_data['comp_name'].iloc[0])\n",
    "\n",
    "\n",
    "\n",
    "test_data['gd_ratings'] = empty_arr\n",
    "\n",
    "test_data"
   ]
  },
  {
   "cell_type": "markdown",
   "id": "6e0e3415",
   "metadata": {},
   "source": [
    "## Aside from more string slicing to fully narrow down the rating, just need to refactor and implement into sample data"
   ]
  },
  {
   "cell_type": "markdown",
   "id": "123041b6",
   "metadata": {},
   "source": [
    "## Time to fiddle with baseline map data"
   ]
  },
  {
   "cell_type": "code",
   "execution_count": 674,
   "id": "9aac7d9c",
   "metadata": {},
   "outputs": [
    {
     "data": {
      "text/html": [
       "<div>\n",
       "<style scoped>\n",
       "    .dataframe tbody tr th:only-of-type {\n",
       "        vertical-align: middle;\n",
       "    }\n",
       "\n",
       "    .dataframe tbody tr th {\n",
       "        vertical-align: top;\n",
       "    }\n",
       "\n",
       "    .dataframe thead th {\n",
       "        text-align: right;\n",
       "    }\n",
       "</style>\n",
       "<table border=\"1\" class=\"dataframe\">\n",
       "  <thead>\n",
       "    <tr style=\"text-align: right;\">\n",
       "      <th></th>\n",
       "      <th>comp_name</th>\n",
       "      <th>location</th>\n",
       "      <th>gd_ratings</th>\n",
       "    </tr>\n",
       "  </thead>\n",
       "  <tbody>\n",
       "    <tr>\n",
       "      <th>0</th>\n",
       "      <td>jacobs</td>\n",
       "      <td>Atlanta, GA</td>\n",
       "      <td>Rating  4.0  (6,012) Jacobs has an overall rat...</td>\n",
       "    </tr>\n",
       "    <tr>\n",
       "      <th>1</th>\n",
       "      <td>helm360</td>\n",
       "      <td>Atlanta, GA</td>\n",
       "      <td>Rating  4.2  (179) Helm360 has an overall rati...</td>\n",
       "    </tr>\n",
       "  </tbody>\n",
       "</table>\n",
       "</div>"
      ],
      "text/plain": [
       "  comp_name     location                                         gd_ratings\n",
       "0    jacobs  Atlanta, GA  Rating  4.0  (6,012) Jacobs has an overall rat...\n",
       "1   helm360  Atlanta, GA  Rating  4.2  (179) Helm360 has an overall rati..."
      ]
     },
     "execution_count": 674,
     "metadata": {},
     "output_type": "execute_result"
    }
   ],
   "source": [
    "test_data"
   ]
  },
  {
   "cell_type": "code",
   "execution_count": 708,
   "id": "09dc4286",
   "metadata": {},
   "outputs": [
    {
     "name": "stdout",
     "output_type": "stream",
     "text": [
      "jacobs+Atlanta, GA\n"
     ]
    }
   ],
   "source": [
    "starting_address = 'from+Hmart+Duluth,+GA'\n",
    "# hardcoded, will need to loop into \n",
    "target_address = test_data['comp_name'][0] + '+' + test_data['location'][0]\n",
    "print(target_address)"
   ]
  },
  {
   "cell_type": "code",
   "execution_count": 680,
   "id": "6e61333c",
   "metadata": {},
   "outputs": [],
   "source": [
    "map_url = f'https://www.google.com/search?q={target_address}/{starting_address}/'    "
   ]
  },
  {
   "cell_type": "code",
   "execution_count": 819,
   "id": "9edb46ba",
   "metadata": {},
   "outputs": [
    {
     "name": "stdout",
     "output_type": "stream",
     "text": [
      "\n"
     ]
    }
   ],
   "source": [
    "# for i in test_data:\n",
    "\n",
    "# cannot use google maps from the start, bc javascript must be enabled. bs4 cannot scrape.\n",
    "# use google search\n",
    "map_url = f'https://www.google.com/search?q={target_address}+{starting_address}/'\n",
    "page = requests.get(map_url)\n",
    "soup = BeautifulSoup(page.text, 'html.parser')\n",
    "# print(soup.prettify())\n",
    "map_results = soup.find(class_='BNeawe deIvCb AP7Wnd').get_text()\n",
    "# print(map_results)\n",
    "index_beg_slice = map_results.find('(')\n",
    "index_end_slice = map_results.find(' via')\n",
    "\n",
    "print(map_results[index_beg_slice:index_end_slice])\n"
   ]
  },
  {
   "cell_type": "code",
   "execution_count": 731,
   "id": "56484eb2",
   "metadata": {},
   "outputs": [],
   "source": [
    "# convert into iterative method with test data"
   ]
  },
  {
   "cell_type": "code",
   "execution_count": 808,
   "id": "fa8062e6",
   "metadata": {},
   "outputs": [
    {
     "ename": "KeyError",
     "evalue": "'comp_name'",
     "output_type": "error",
     "traceback": [
      "\u001b[1;31m---------------------------------------------------------------------------\u001b[0m",
      "\u001b[1;31mKeyError\u001b[0m                                  Traceback (most recent call last)",
      "\u001b[1;32m~\\AppData\\Local\\Temp\\ipykernel_15640\\2125354107.py\u001b[0m in \u001b[0;36m<module>\u001b[1;34m\u001b[0m\n\u001b[0;32m      2\u001b[0m \u001b[1;33m\u001b[0m\u001b[0m\n\u001b[0;32m      3\u001b[0m \u001b[1;32mfor\u001b[0m \u001b[0mi\u001b[0m \u001b[1;32min\u001b[0m \u001b[1;33m(\u001b[0m\u001b[0mtest_data\u001b[0m\u001b[1;33m)\u001b[0m\u001b[1;33m:\u001b[0m\u001b[1;33m\u001b[0m\u001b[1;33m\u001b[0m\u001b[0m\n\u001b[1;32m----> 4\u001b[1;33m     \u001b[0mtarget_address\u001b[0m \u001b[1;33m=\u001b[0m \u001b[0mtest_data\u001b[0m\u001b[1;33m[\u001b[0m\u001b[1;34m'comp_name'\u001b[0m\u001b[1;33m]\u001b[0m\u001b[1;33m[\u001b[0m\u001b[0mi\u001b[0m\u001b[1;33m]\u001b[0m \u001b[1;33m+\u001b[0m \u001b[1;34m'+'\u001b[0m \u001b[1;33m+\u001b[0m \u001b[0mtest_data\u001b[0m\u001b[1;33m[\u001b[0m\u001b[1;34m'location'\u001b[0m\u001b[1;33m]\u001b[0m\u001b[1;33m[\u001b[0m\u001b[0mi\u001b[0m\u001b[1;33m]\u001b[0m\u001b[1;33m\u001b[0m\u001b[1;33m\u001b[0m\u001b[0m\n\u001b[0m\u001b[0;32m      5\u001b[0m     \u001b[0mmap_url\u001b[0m \u001b[1;33m=\u001b[0m \u001b[1;34mf'https://www.google.com/search?q={target_address}/{starting_address}/'\u001b[0m\u001b[1;33m\u001b[0m\u001b[1;33m\u001b[0m\u001b[0m\n\u001b[0;32m      6\u001b[0m     \u001b[0mpage\u001b[0m \u001b[1;33m=\u001b[0m \u001b[0mrequests\u001b[0m\u001b[1;33m.\u001b[0m\u001b[0mget\u001b[0m\u001b[1;33m(\u001b[0m\u001b[0mmap_url\u001b[0m\u001b[1;33m)\u001b[0m\u001b[1;33m\u001b[0m\u001b[1;33m\u001b[0m\u001b[0m\n",
      "\u001b[1;32mC:\\ProgramData\\Anaconda3\\lib\\site-packages\\pandas\\core\\series.py\u001b[0m in \u001b[0;36m__getitem__\u001b[1;34m(self, key)\u001b[0m\n\u001b[0;32m    956\u001b[0m \u001b[1;33m\u001b[0m\u001b[0m\n\u001b[0;32m    957\u001b[0m         \u001b[1;32melif\u001b[0m \u001b[0mkey_is_scalar\u001b[0m\u001b[1;33m:\u001b[0m\u001b[1;33m\u001b[0m\u001b[1;33m\u001b[0m\u001b[0m\n\u001b[1;32m--> 958\u001b[1;33m             \u001b[1;32mreturn\u001b[0m \u001b[0mself\u001b[0m\u001b[1;33m.\u001b[0m\u001b[0m_get_value\u001b[0m\u001b[1;33m(\u001b[0m\u001b[0mkey\u001b[0m\u001b[1;33m)\u001b[0m\u001b[1;33m\u001b[0m\u001b[1;33m\u001b[0m\u001b[0m\n\u001b[0m\u001b[0;32m    959\u001b[0m \u001b[1;33m\u001b[0m\u001b[0m\n\u001b[0;32m    960\u001b[0m         \u001b[1;32mif\u001b[0m \u001b[0mis_hashable\u001b[0m\u001b[1;33m(\u001b[0m\u001b[0mkey\u001b[0m\u001b[1;33m)\u001b[0m\u001b[1;33m:\u001b[0m\u001b[1;33m\u001b[0m\u001b[1;33m\u001b[0m\u001b[0m\n",
      "\u001b[1;32mC:\\ProgramData\\Anaconda3\\lib\\site-packages\\pandas\\core\\series.py\u001b[0m in \u001b[0;36m_get_value\u001b[1;34m(self, label, takeable)\u001b[0m\n\u001b[0;32m   1067\u001b[0m \u001b[1;33m\u001b[0m\u001b[0m\n\u001b[0;32m   1068\u001b[0m         \u001b[1;31m# Similar to Index.get_value, but we do not fall back to positional\u001b[0m\u001b[1;33m\u001b[0m\u001b[1;33m\u001b[0m\u001b[0m\n\u001b[1;32m-> 1069\u001b[1;33m         \u001b[0mloc\u001b[0m \u001b[1;33m=\u001b[0m \u001b[0mself\u001b[0m\u001b[1;33m.\u001b[0m\u001b[0mindex\u001b[0m\u001b[1;33m.\u001b[0m\u001b[0mget_loc\u001b[0m\u001b[1;33m(\u001b[0m\u001b[0mlabel\u001b[0m\u001b[1;33m)\u001b[0m\u001b[1;33m\u001b[0m\u001b[1;33m\u001b[0m\u001b[0m\n\u001b[0m\u001b[0;32m   1070\u001b[0m         \u001b[1;32mreturn\u001b[0m \u001b[0mself\u001b[0m\u001b[1;33m.\u001b[0m\u001b[0mindex\u001b[0m\u001b[1;33m.\u001b[0m\u001b[0m_get_values_for_loc\u001b[0m\u001b[1;33m(\u001b[0m\u001b[0mself\u001b[0m\u001b[1;33m,\u001b[0m \u001b[0mloc\u001b[0m\u001b[1;33m,\u001b[0m \u001b[0mlabel\u001b[0m\u001b[1;33m)\u001b[0m\u001b[1;33m\u001b[0m\u001b[1;33m\u001b[0m\u001b[0m\n\u001b[0;32m   1071\u001b[0m \u001b[1;33m\u001b[0m\u001b[0m\n",
      "\u001b[1;32mC:\\ProgramData\\Anaconda3\\lib\\site-packages\\pandas\\core\\indexes\\range.py\u001b[0m in \u001b[0;36mget_loc\u001b[1;34m(self, key, method, tolerance)\u001b[0m\n\u001b[0;32m    387\u001b[0m                     \u001b[1;32mraise\u001b[0m \u001b[0mKeyError\u001b[0m\u001b[1;33m(\u001b[0m\u001b[0mkey\u001b[0m\u001b[1;33m)\u001b[0m \u001b[1;32mfrom\u001b[0m \u001b[0merr\u001b[0m\u001b[1;33m\u001b[0m\u001b[1;33m\u001b[0m\u001b[0m\n\u001b[0;32m    388\u001b[0m             \u001b[0mself\u001b[0m\u001b[1;33m.\u001b[0m\u001b[0m_check_indexing_error\u001b[0m\u001b[1;33m(\u001b[0m\u001b[0mkey\u001b[0m\u001b[1;33m)\u001b[0m\u001b[1;33m\u001b[0m\u001b[1;33m\u001b[0m\u001b[0m\n\u001b[1;32m--> 389\u001b[1;33m             \u001b[1;32mraise\u001b[0m \u001b[0mKeyError\u001b[0m\u001b[1;33m(\u001b[0m\u001b[0mkey\u001b[0m\u001b[1;33m)\u001b[0m\u001b[1;33m\u001b[0m\u001b[1;33m\u001b[0m\u001b[0m\n\u001b[0m\u001b[0;32m    390\u001b[0m         \u001b[1;32mreturn\u001b[0m \u001b[0msuper\u001b[0m\u001b[1;33m(\u001b[0m\u001b[1;33m)\u001b[0m\u001b[1;33m.\u001b[0m\u001b[0mget_loc\u001b[0m\u001b[1;33m(\u001b[0m\u001b[0mkey\u001b[0m\u001b[1;33m,\u001b[0m \u001b[0mmethod\u001b[0m\u001b[1;33m=\u001b[0m\u001b[0mmethod\u001b[0m\u001b[1;33m,\u001b[0m \u001b[0mtolerance\u001b[0m\u001b[1;33m=\u001b[0m\u001b[0mtolerance\u001b[0m\u001b[1;33m)\u001b[0m\u001b[1;33m\u001b[0m\u001b[1;33m\u001b[0m\u001b[0m\n\u001b[0;32m    391\u001b[0m \u001b[1;33m\u001b[0m\u001b[0m\n",
      "\u001b[1;31mKeyError\u001b[0m: 'comp_name'"
     ]
    }
   ],
   "source": [
    "# empty_map_arr = []\n",
    "\n",
    "# for i in (test_data):\n",
    "#     target_address = test_data['comp_name'][i] + '+' + test_data['location'][i]\n",
    "#     map_url = f'https://www.google.com/search?q={target_address}/{starting_address}/'\n",
    "#     page = requests.get(map_url)\n",
    "#     soup = BeautfulSoup(page.text, 'html.parser')\n",
    "#     map_results = soup.find(class_='BNeawe deIvCb AP7Wnd').get_text()\n",
    "#     index_beg_slice = map_results.find('(')\n",
    "#     index_end_slice = map_results.find(' via')\n",
    "#     empty_map_arr.append(map_results[index_beg_slice:index_end_slice])\n",
    "    \n",
    "    \n",
    "# print(map_results[index_beg_slice:index_end_slice])"
   ]
  },
  {
   "cell_type": "code",
   "execution_count": 830,
   "id": "24b53054",
   "metadata": {},
   "outputs": [
    {
     "name": "stdout",
     "output_type": "stream",
     "text": [
      "H Mart Duluth\n"
     ]
    }
   ],
   "source": [
    "import requests\n",
    "from bs4 import BeautifulSoup as bs\n",
    "\n",
    "comp_name_arr = []\n",
    "loc_arr = []\n",
    "\n",
    "map_arr = []\n",
    "\n",
    "# starting_address = 'directions+from+Hmart+Duluth,+GA'\n",
    "\n",
    "for i in test_data['comp_name']:\n",
    "    comp_name_arr.append(i)\n",
    "\n",
    "for i in test_data['location']:\n",
    "    loc_arr.append(i)\n",
    "\n",
    "counter = 0\n",
    "\n",
    "while counter < len(test_data):\n",
    "    target_address = comp_name_arr[counter] + '+' + loc_arr[counter]\n",
    "    map_url = f'https://www.google.com/search?q={target_address}/'\n",
    "    page = requests.get(map_url)\n",
    "    soup = BeautifulSoup(page.text, 'html.parser')\n",
    "    try:\n",
    "        map_results = soup.find(class_='BNeawe s3v9rd AP7Wnd').get_text()\n",
    "#         map_results = soup.find(class_='BNeawe deIvCb AP7Wnd').get_text()\n",
    "    except: pass\n",
    "    \n",
    "\n",
    "#     index_beg_slice = map_results.find('(')\n",
    "#     index_end_slice = map_results.find(' via')\n",
    "#     map_arr.append(map_results[index_beg_slice:index_end_slice])\n",
    "    counter += 1\n",
    "\n",
    "\n",
    "    \n",
    "# print(comp_name_arr)\n",
    "# print(loc_arr)\n",
    "print(map_results)\n",
    "\n",
    "\n",
    "\n",
    "\n"
   ]
  },
  {
   "cell_type": "code",
   "execution_count": 840,
   "id": "a6c48bfa",
   "metadata": {},
   "outputs": [
    {
     "name": "stdout",
     "output_type": "stream",
     "text": [
      "<!DOCTYPE html>\n",
      "<html lang=\"en\">\n",
      " <head>\n",
      "  <meta charset=\"utf-8\"/>\n",
      "  <meta content=\"origin\" name=\"referrer\"/>\n",
      "  <meta content=\"/images/branding/googleg/1x/googleg_standard_color_128dp.png\" itemprop=\"image\"/>\n",
      "  <title>\n",
      "   jacobs Atlanta, GA/ - Google Search\n",
      "  </title>\n",
      "  <script nonce=\"96pBe-6AE4roTgabJvBJqA\">\n",
      "   (function(){\n",
      "document.documentElement.addEventListener(\"submit\",function(b){var a;if(a=b.target){var c=a.getAttribute(\"data-submitfalse\");a=\"1\"===c||\"q\"===c&&!a.elements.q.value?!0:!1}else a=!1;a&&(b.preventDefault(),b.stopPropagation())},!0);document.documentElement.addEventListener(\"click\",function(b){var a;a:{for(a=b.target;a&&a!==document.documentElement;a=a.parentElement)if(\"A\"===a.tagName){a=\"1\"===a.getAttribute(\"data-nohref\");break a}a=!1}a&&b.preventDefault()},!0);}).call(this);(function(){var a=window.performance;window.start=Date.now();a:{var b=window;if(a){var c=a.timing;if(c){var d=c.navigationStart,f=c.responseStart;if(f>d&&f<=window.start){window.start=f;b.wsrt=f-d;break a}}a.now&&(b.wsrt=Math.floor(a.now()))}}window.google=window.google||{};var h=function(g){g&&g.target.setAttribute(\"data-iml\",String(Date.now()))};document.documentElement.addEventListener(\"load\",h,!0);google.rglh=function(){document.documentElement.removeEventListener(\"load\",h,!0)};}).call(this);(function(){window._skwEvts=[];})();(function(){window.google.erd={jsr:1,bv:1702,sd:true,de:true};})();(function(){var sdo=false;var mei=10;\n",
      "var h=this||self;var k,l=null!=(k=h.mei)?k:1,n,p=null!=(n=h.sdo)?n:!0,q=0,r,t=google.erd,v=t.jsr;google.ml=function(a,b,d,m,e){e=void 0===e?2:e;b&&(r=a&&a.message);if(google.dl)return google.dl(a,e,d),null;if(0>v){window.console&&console.error(a,d);if(-2===v)throw a;b=!1}else b=!a||!a.message||\"Error loading script\"===a.message||q>=l&&!m?!1:!0;if(!b)return null;q++;d=d||{};b=encodeURIComponent;var c=\"/gen_204?atyp=i&ei=\"+b(google.kEI);google.kEXPI&&(c+=\"&jexpid=\"+b(google.kEXPI));c+=\"&srcpg=\"+b(google.sn)+\"&jsr=\"+b(t.jsr)+\"&bver=\"+b(t.bv);var f=a.lineNumber;void 0!==f&&(c+=\"&line=\"+f);var g=\n",
      "a.fileName;g&&(0<g.indexOf(\"-extension:/\")&&(e=3),c+=\"&script=\"+b(g),f&&g===window.location.href&&(f=document.documentElement.outerHTML.split(\"\\n\")[f],c+=\"&cad=\"+b(f?f.substring(0,300):\"No script found.\")));c+=\"&jsel=\"+e;for(var u in d)c+=\"&\",c+=b(u),c+=\"=\",c+=b(d[u]);c=c+\"&emsg=\"+b(a.name+\": \"+a.message);c=c+\"&jsst=\"+b(a.stack||\"N/A\");12288<=c.length&&(c=c.substr(0,12288));a=c;m||google.log(0,\"\",a);return a};window.onerror=function(a,b,d,m,e){r!==a&&(a=e instanceof Error?e:Error(a),void 0===d||\"lineNumber\"in a||(a.lineNumber=d),void 0===b||\"fileName\"in a||(a.fileName=b),google.ml(a,!1,void 0,!1,\"SyntaxError\"===a.name||\"SyntaxError\"===a.message.substring(0,11)||-1!==a.message.indexOf(\"Script error\")?3:0));r=null;p&&q>=l&&(window.onerror=null)};})();(function(){var c=[],e=0;window.ping=function(b){-1==b.indexOf(\"&zx\")&&(b+=\"&zx=\"+Date.now());var a=new Image,d=e++;c[d]=a;a.onerror=a.onload=a.onabort=function(){delete c[d]};a.src=b};}).call(this);\n",
      "  </script>\n",
      "  <style>\n",
      "   a{color:#1a0dab;text-decoration:none;-webkit-tap-highlight-color:rgba(0,0,0,.10)}a:visited{color:#4b11a8}a:hover{text-decoration:underline}img{border:0}html{font-family:arial,sans-serif;font-size:14px;line-height:20px;-webkit-text-size-adjust:100%;color:#3c4043;word-wrap:break-word;background-color:#fff}.bRsWnc{background-color:#fff;border-top:1px solid #dadce0;height:39px;overflow:hidden}.N6RWV{height:51px;-webkit-overflow-scrolling:touch;overflow-x:auto;overflow-y:hidden}.Uv67qb{-webkit-box-pack:justify;font-size:12px;line-height:37px;justify-content:space-between;justify-content:space-between}.Uv67qb a,.Uv67qb span{color:#70757a;display:block;flex:none;padding:0 16px;text-align:center;text-transform:uppercase;}span.OXXup{border-bottom:2px solid #4285f4;color:#4285f4;font-weight:bold}a.eZt8xd:visited{color:#70757a}.FElbsf{border-left:1px solid rgba(0,0,0,.12)}header article{overflow:visible}.Pg70bf{height:39px;display:-webkit-box;display:flex;display:flex;width:100%}.H0PQec{position:relative;flex:1}.sbc{display:flex;width:100%}.Pg70bf input{margin:2px 4px 2px 8px;}.x{width:26px;color:#70757a;font:27px/38px arial, sans-serif;line-height:40px;}#qdClwb{flex:0 0 auto;width:39px;height:39px;border-bottom:0;padding:0;border-top-right-radius:8px;background-color:#1a73e8;border:1px solid #1a73e8;background-image:url('data:image/svg+xml,\\00003csvg height=\"37px\" width=\"37px\" xmlns=\"http://www.w3.org/2000/svg\">\\00003cg fill=\"none\" stroke=\"%23fff\">\\00003cellipse cx=\"16.5\" cy=\"16\" rx=\"5.4\" ry=\"5.4\" stroke-width=\"2px\">\\00003c/ellipse>\\00003cpath d=\"M22 21.3l4.3 4.3\" stroke-linecap=\"round\" stroke-width=\"2px\">\\00003c/path>\\00003c/g>\\00003c/svg>');}.sc{font-size:16px;position:absolute;top:39px;left:0;right:0;box-shadow:0 2px 5px rgba(0,0,0,.2);z-index:2;background-color:#fff}.sc>div{padding:10px 10px;padding-left:16px;padding-left:14px;border-top:1px solid #dfe1e5;}.scs{background-color:#fafafa;}.noHIxc{display:block;font-size:16px;padding:0 0 0 8px;flex:1;height:35px;outline:none;border:none;width:100%;-webkit-tap-highlight-color:rgba(0,0,0,0);overflow:hidden;}.sbc input[type=text]{background:none}.bz1lBb{background-color:#fff;border-radius:8px 8px 0 0;box-shadow:0 0 0 1px #dfe1e5;margin-top:24px;}.KP7LCb{border-radius:0 0 8px 8px;box-shadow:0px 1px 0px 1px #dfe1e5;margin-bottom:30px;overflow:hidden}html{background-color:#fff}body{margin:0 auto 0 156px;max-width:652px;min-width:652px;padding:0 8px}.cOl4Id{text-align:center;height:35px;padding:32px 28px 0 24px;position:absolute;left:0;top:0}footer{text-align:center;margin-top:18px}footer a,footer a:visited,.smiUbb{color:#70757a}.xeDNfc{margin:0 13px;white-space:nowrap}#EOlPnc{margin-top:36px}#EOlPnc>div{margin:20px}.Srfpq{color:#70757a}\n",
      "  </style>\n",
      " </head>\n",
      " <body jsmodel=\"hspDDf\">\n",
      "  <header id=\"hdr\">\n",
      "   <script nonce=\"96pBe-6AE4roTgabJvBJqA\">\n",
      "    (function(){\n",
      "var k=this||self,l=function(a){var b=typeof a;return\"object\"==b&&null!=a||\"function\"==b},m=function(a,b){function c(){}c.prototype=b.prototype;a.j=b.prototype;a.prototype=new c;a.prototype.constructor=a;a.l=function(d,e,f){for(var g=Array(arguments.length-2),h=2;h<arguments.length;h++)g[h-2]=arguments[h];return b.prototype[e].apply(d,g)}};var n=Array.prototype.indexOf?function(a,b){return Array.prototype.indexOf.call(a,b,void 0)}:function(a,b){if(\"string\"===typeof a)return\"string\"!==typeof b||1!=b.length?-1:a.indexOf(b,0);for(var c=0;c<a.length;c++)if(c in a&&a[c]===b)return c;return-1};var p=function(a){return\"string\"==typeof a.className?a.className:a.getAttribute&&a.getAttribute(\"class\")||\"\"},q=function(a,b){\"string\"==typeof a.className?a.className=b:a.setAttribute&&a.setAttribute(\"class\",b)},r=function(a,b){a.classList?b=a.classList.contains(b):(a=a.classList?a.classList:p(a).match(/\\S+/g)||[],b=0<=n(a,b));return b},v=function(){var a=t,b=u;a.classList?a.classList.remove(b):r(a,b)&&q(a,Array.prototype.filter.call(a.classList?a.classList:p(a).match(/\\S+/g)||[],function(c){return c!=\n",
      "b}).join(\" \"))};function w(){var a=k.navigator;return a&&(a=a.userAgent)?a:\"\"};var x=function(a){x[\" \"](a);return a};x[\" \"]=function(){};var y=-1!=w().indexOf(\"Gecko\")&&!(-1!=w().toLowerCase().indexOf(\"webkit\")&&-1==w().indexOf(\"Edge\"))&&!(-1!=w().indexOf(\"Trident\")||-1!=w().indexOf(\"MSIE\"))&&-1==w().indexOf(\"Edge\");var z=function(a,b){this.type=a;this.target=b};z.prototype.g=function(){};var A=function(){if(!k.addEventListener||!Object.defineProperty)return!1;var a=!1,b=Object.defineProperty({},\"passive\",{get:function(){a=!0}});try{k.addEventListener(\"test\",function(){},b),k.removeEventListener(\"test\",function(){},b)}catch(c){}return a}();var C=function(a){z.call(this,a?a.type:\"\");this.relatedTarget=this.target=null;this.button=this.screenY=this.screenX=this.clientY=this.clientX=0;this.key=\"\";this.keyCode=0;this.metaKey=this.shiftKey=this.altKey=this.ctrlKey=!1;this.state=null;this.pointerId=0;this.pointerType=\"\";this.h=null;if(a){var b=this.type=a.type,c=a.changedTouches&&a.changedTouches.length?a.changedTouches[0]:null;this.target=a.target||a.srcElement;var d=a.relatedTarget;if(d){if(y){a:{try{x(d.nodeName);var e=!0;break a}catch(f){}e=\n",
      "!1}e||(d=null)}}else\"mouseover\"==b?d=a.fromElement:\"mouseout\"==b&&(d=a.toElement);this.relatedTarget=d;c?(this.clientX=void 0!==c.clientX?c.clientX:c.pageX,this.clientY=void 0!==c.clientY?c.clientY:c.pageY,this.screenX=c.screenX||0,this.screenY=c.screenY||0):(this.clientX=void 0!==a.clientX?a.clientX:a.pageX,this.clientY=void 0!==a.clientY?a.clientY:a.pageY,this.screenX=a.screenX||0,this.screenY=a.screenY||0);this.button=a.button;this.keyCode=a.keyCode||0;this.key=a.key||\"\";this.ctrlKey=a.ctrlKey;this.altKey=a.altKey;this.shiftKey=a.shiftKey;this.metaKey=a.metaKey;this.pointerId=a.pointerId||0;this.pointerType=\"string\"===typeof a.pointerType?a.pointerType:B[a.pointerType]||\"\";this.state=a.state;this.h=a;a.defaultPrevented&&C.j.g.call(this)}};m(C,z);var B={2:\"touch\",3:\"pen\",4:\"mouse\"};C.prototype.g=function(){C.j.g.call(this);var a=this.h;a.preventDefault?a.preventDefault():a.returnValue=!1};var D=\"closure_listenable_\"+(1E6*Math.random()|0);var E=0;var F=function(a,b,c,d,e){this.listener=a;this.proxy=null;this.src=b;this.type=c;this.capture=!!d;this.h=e;this.key=++E;this.g=this.i=!1},G=function(a){a.g=!0;a.listener=null;a.proxy=null;a.src=null;a.h=null};var H=function(a){this.src=a;this.g={};this.h=0};H.prototype.add=function(a,b,c,d,e){var f=a.toString();a=this.g[f];a||(a=this.g[f]=[],this.h++);var g;a:{for(g=0;g<a.length;++g){var h=a[g];if(!h.g&&h.listener==b&&h.capture==!!d&&h.h==e)break a}g=-1}-1<g?(b=a[g],c||(b.i=!1)):(b=new F(b,this.src,f,!!d,e),b.i=c,a.push(b));return b};var I=\"closure_lm_\"+(1E6*Math.random()|0),J={},K=0,M=function(a,b,c,d,e){if(d&&d.once)return L(a,b,c,d,e);if(Array.isArray(b)){for(var f=0;f<b.length;f++)M(a,b[f],c,d,e);return null}c=N(c);return a&&a[D]?a.g(b,c,l(d)?!!d.capture:!!d,e):O(a,b,c,!1,d,e)},O=function(a,b,c,d,e,f){if(!b)throw Error(\"a\");var g=l(e)?!!e.capture:!!e,h=P(a);h||(a[I]=h=new H(a));c=h.add(b,c,d,g,f);if(c.proxy)return c;d=Q();c.proxy=d;d.src=a;d.listener=c;if(a.addEventListener)A||(e=g),void 0===e&&(e=!1),a.addEventListener(b.toString(),d,e);else if(a.attachEvent)a.attachEvent(R(b.toString()),d);else if(a.addListener&&a.removeListener)a.addListener(d);else throw Error(\"b\");K++;return c},Q=function(){var a=S,b=function(c){return a.call(b.src,b.listener,c)};return b},L=function(a,b,c,d,e){if(Array.isArray(b)){for(var f=0;f<b.length;f++)L(a,b[f],c,d,e);return null}c=N(c);return a&&a[D]?a.h(b,c,l(d)?!!d.capture:!!d,e):O(a,b,c,!0,d,e)},T=function(a){if(\"number\"!==typeof a&&a&&!a.g){var b=a.src;if(b&&b[D])b.o(a);else{var c=a.type,d=a.proxy;b.removeEventListener?b.removeEventListener(c,d,a.capture):b.detachEvent?b.detachEvent(R(c),d):b.addListener&&b.removeListener&&b.removeListener(d);K--;if(c=P(b)){d=a.type;if(d in c.g){var e=c.g[d],f=n(e,a),g;(g=0<=f)&&Array.prototype.splice.call(e,f,1);g&&(G(a),0==c.g[d].length&&(delete c.g[d],c.h--))}0==c.h&&(c.src=null,b[I]=null)}else G(a)}}},R=function(a){return a in J?J[a]:J[a]=\"on\"+a},S=function(a,b){if(a.g)a=!0;else{b=new C(b,this);var c=a.listener,d=a.h||a.src;a.i&&T(a);a=c.call(d,b)}return a},P=function(a){a=a[I];return a instanceof H?a:null},U=\"__closure_events_fn_\"+(1E9*Math.random()>>>0),N=function(a){if(\"function\"===typeof a)return a;a[U]||(a[U]=function(b){return a.handleEvent(b)});return a[U]};var u,t=document.documentElement,V;function W(){T(V);V=L(t,\"mousedown\",function(){v();X()},{capture:!0})}function X(){T(V);V=M(t,\"keydown\",function(a){if(9===a.keyCode){a=t;var b=u;if(a.classList)a.classList.add(b);else if(!r(a,b)){var c=p(a);q(a,c+(0<c.length?\" \"+b:b))}W()}})};u=\"zAoYTe\";X();}).call(this);\n",
      "   </script>\n",
      "   <div class=\"cOl4Id\">\n",
      "    <a href=\"/?sa=X&amp;ved=0ahUKEwjIhq2b0oH8AhVqnuAKHUYGD6sQOwgC\">\n",
      "     <svg aria-label=\"Google\" fill=\"none\" height=\"36\" stroke=\"#4285f4\" stroke-width=\"18\" viewbox=\"0 0 520 174\" width=\"92\">\n",
      "      <path d=\"M69 70.4l61 0m-9 3.5a56 57 0 1 1-17-47\" stroke-width=\"19px\">\n",
      "      </path>\n",
      "      <ellipse cx=\"179\" cy=\"90\" rx=\"33\" ry=\"34\" stroke=\"#ea4335\">\n",
      "      </ellipse>\n",
      "      <ellipse cx=\"270\" cy=\"90\" rx=\"33\" ry=\"34\" stroke=\"#fbbc04\">\n",
      "      </ellipse>\n",
      "      <ellipse cx=\"358\" cy=\"90\" rx=\"32\" ry=\"34\" stroke-width=\"17px\">\n",
      "      </ellipse>\n",
      "      <path d=\"M391 49l0 73l-2 0a 22 22-30 0 1-59 24\">\n",
      "      </path>\n",
      "      <path d=\"M423 5l0 130\" style=\"stroke:#34a853\">\n",
      "      </path>\n",
      "      <path d=\"M509 110a32 35-3 1 1 3-29M517 76l-63 24\" stroke=\"#ea4335\" stroke-width=\"16px\">\n",
      "      </path>\n",
      "     </svg>\n",
      "    </a>\n",
      "   </div>\n",
      "   <div class=\"bz1lBb\">\n",
      "    <form class=\"Pg70bf\" id=\"sf\">\n",
      "     <div class=\"H0PQec\">\n",
      "      <div class=\"sbc esbc\">\n",
      "       <input autocapitalize=\"none\" autocomplete=\"off\" class=\"noHIxc\" name=\"q\" spellcheck=\"false\" type=\"text\" value=\"jacobs Atlanta, GA/\"/>\n",
      "       <input name=\"oq\" type=\"hidden\"/>\n",
      "       <input name=\"aqs\" type=\"hidden\"/>\n",
      "       <div class=\"x\">\n",
      "        ×\n",
      "       </div>\n",
      "       <div class=\"sc\">\n",
      "       </div>\n",
      "      </div>\n",
      "     </div>\n",
      "     <button id=\"qdClwb\" type=\"submit\">\n",
      "     </button>\n",
      "    </form>\n",
      "   </div>\n",
      "   <noscript>\n",
      "    <meta content=\"0;url=/search?q=jacobs+Atlanta,+GA/&amp;gbv=1&amp;sei=tzqeY4jPAeq8ggfGjLzYCg\" http-equiv=\"refresh\"/>\n",
      "    <style>\n",
      "     table,div,span,p{display:none}\n",
      "    </style>\n",
      "    <div style=\"display:block\">\n",
      "     Please click\n",
      "     <a href=\"/search?q=jacobs+Atlanta,+GA/&amp;gbv=1&amp;sei=tzqeY4jPAeq8ggfGjLzYCg\">\n",
      "      here\n",
      "     </a>\n",
      "     if you are not redirected within a few seconds.\n",
      "    </div>\n",
      "   </noscript>\n",
      "  </header>\n",
      "  <div id=\"main\">\n",
      "   <div>\n",
      "    <div class=\"KP7LCb\">\n",
      "     <div class=\"bRsWnc\">\n",
      "      <div class=\"N6RWV\">\n",
      "       <div class=\"Pg70bf Uv67qb\">\n",
      "        <span class=\"OXXup\">\n",
      "         All\n",
      "        </span>\n",
      "        <a class=\"eZt8xd\" href=\"https://maps.google.com/maps?q=jacobs+Atlanta,+GA/&amp;um=1&amp;ie=UTF-8&amp;sa=X&amp;ved=0ahUKEwjIhq2b0oH8AhVqnuAKHUYGD6sQ_AUIBigB\">\n",
      "         Maps\n",
      "        </a>\n",
      "        <a class=\"eZt8xd\" href=\"/search?q=jacobs+Atlanta,+GA/&amp;source=lnms&amp;tbm=isch&amp;sa=X&amp;ved=0ahUKEwjIhq2b0oH8AhVqnuAKHUYGD6sQ_AUIBygC\">\n",
      "         Images\n",
      "        </a>\n",
      "        <a class=\"eZt8xd\" href=\"/search?q=jacobs+Atlanta,+GA/&amp;source=lnms&amp;tbm=nws&amp;sa=X&amp;ved=0ahUKEwjIhq2b0oH8AhVqnuAKHUYGD6sQ_AUICCgD\">\n",
      "         News\n",
      "        </a>\n",
      "        <a href=\"/search?q=jacobs+Atlanta,+GA/&amp;source=lnms&amp;tbm=vid&amp;sa=X&amp;ved=0ahUKEwjIhq2b0oH8AhVqnuAKHUYGD6sQ_AUICSgE\">\n",
      "         Videos\n",
      "        </a>\n",
      "        <a href=\"/search?q=jacobs+Atlanta,+GA/&amp;source=lnms&amp;tbm=shop&amp;sa=X&amp;ved=0ahUKEwjIhq2b0oH8AhVqnuAKHUYGD6sQ_AUICigF\">\n",
      "         Shopping\n",
      "        </a>\n",
      "        <a href=\"/search?q=jacobs+Atlanta,+GA/&amp;source=lnms&amp;tbm=bks&amp;sa=X&amp;ved=0ahUKEwjIhq2b0oH8AhVqnuAKHUYGD6sQ_AUICygG\">\n",
      "         Books\n",
      "        </a>\n",
      "        <div class=\"FElbsf\">\n",
      "         <a href=\"/advanced_search\" id=\"st-toggle\" role=\"button\" style=\"white-space:nowrap\">\n",
      "          Search tools\n",
      "         </a>\n",
      "        </div>\n",
      "       </div>\n",
      "      </div>\n",
      "     </div>\n",
      "    </div>\n",
      "    <div class=\"Pg70bf wEsjbd Gx5Zad xpd EtOod pkphOe\" id=\"st-card\" style=\"display:none\">\n",
      "     <style>\n",
      "      .wEsjbd{background-color:#fff;height:44px;white-space:nowrap}.coPU8c{height:60px;-webkit-overflow-scrolling:touch;overflow-x:auto;overflow-y:hidden}.Xj2aue{height:44px;overflow:hidden}.RnNGze{margin:11px 16px}.wEsjbd div,.wEsjbd a,.wEsjbd li{outline-width:0;outline:none}\n",
      "     </style>\n",
      "     <div class=\"Xj2aue\">\n",
      "      <div class=\"coPU8c\">\n",
      "       <div class=\"RnNGze\">\n",
      "        <style>\n",
      "         .PA9J5{display:inline-block}.RXaOfd{display:inline-block;height:22px;position:relative;padding-top:0;padding-bottom:0;padding-right:16px;padding-left:0;line-height:22px;cursor:pointer;text-transform:uppercase;font-size:12px;color:#70757a}.sa1toc{background:#fff;display:none;position:absolute;border:1px solid #d6d6d6;box-shadow:0 2px 4px rgba(0,0,0,.3);margin:0;white-space:nowrap;z-index:103;line-height:17px;padding-top:5px;padding-bottom:5px;padding-left:0}.PA9J5:hover .sa1toc{display:block}.mGSy8d a:active,.RXaOfd:active{color:#4285f4}\n",
      "        </style>\n",
      "        <div class=\"PA9J5\">\n",
      "         <div class=\"RXaOfd\" role=\"button\" tabindex=\"0\">\n",
      "          <style>\n",
      "           .TWMOUc{display:inline-block;padding-right:14px;white-space:nowrap}.vQYuGf{font-weight:bold}.OmTIzf{border-color:#909090 transparent;border-style:solid;border-width:4px 4px 0 4px;width:0;height:0;margin-left:-10px;top:50%;margin-top:-2px;position:absolute}.RXaOfd:active .OmTIzf{border-color:#4285f4 transparent}\n",
      "          </style>\n",
      "          <div class=\"TWMOUc\">\n",
      "           Any time\n",
      "          </div>\n",
      "          <span class=\"OmTIzf\">\n",
      "          </span>\n",
      "         </div>\n",
      "         <ul class=\"sa1toc ozatM\">\n",
      "          <style>\n",
      "           .ozatM{font-size:12px;text-transform:uppercase}.ozatM .yNFsl,.ozatM li{list-style-type:none;list-style-position:outside;list-style-image:none}.yNFsl.SkUj4c,.yNFsl a{color:#70757a;text-decoration:none;padding:6px 44px 6px 14px;line-height:17px;display:block}.SkUj4c{background-image:url(//ssl.gstatic.com/ui/v1/menu/checkmark2.png);background-position:right center;background-repeat:no-repeat}.SkUj4c:active{background-color:#f8f9fa}\n",
      "          </style>\n",
      "          <li class=\"yNFsl SkUj4c\">\n",
      "           Any time\n",
      "          </li>\n",
      "          <li class=\"yNFsl\">\n",
      "           <a href=\"/search?q=jacobs+Atlanta,+GA/&amp;source=lnt&amp;tbs=qdr:h&amp;sa=X&amp;ved=0ahUKEwjIhq2b0oH8AhVqnuAKHUYGD6sQpwUIDQ\">\n",
      "            Past hour\n",
      "           </a>\n",
      "          </li>\n",
      "          <li class=\"yNFsl\">\n",
      "           <a href=\"/search?q=jacobs+Atlanta,+GA/&amp;source=lnt&amp;tbs=qdr:d&amp;sa=X&amp;ved=0ahUKEwjIhq2b0oH8AhVqnuAKHUYGD6sQpwUIDg\">\n",
      "            Past 24 hours\n",
      "           </a>\n",
      "          </li>\n",
      "          <li class=\"yNFsl\">\n",
      "           <a href=\"/search?q=jacobs+Atlanta,+GA/&amp;source=lnt&amp;tbs=qdr:w&amp;sa=X&amp;ved=0ahUKEwjIhq2b0oH8AhVqnuAKHUYGD6sQpwUIDw\">\n",
      "            Past week\n",
      "           </a>\n",
      "          </li>\n",
      "          <li class=\"yNFsl\">\n",
      "           <a href=\"/search?q=jacobs+Atlanta,+GA/&amp;source=lnt&amp;tbs=qdr:m&amp;sa=X&amp;ved=0ahUKEwjIhq2b0oH8AhVqnuAKHUYGD6sQpwUIEA\">\n",
      "            Past month\n",
      "           </a>\n",
      "          </li>\n",
      "          <li class=\"yNFsl\">\n",
      "           <a href=\"/search?q=jacobs+Atlanta,+GA/&amp;source=lnt&amp;tbs=qdr:y&amp;sa=X&amp;ved=0ahUKEwjIhq2b0oH8AhVqnuAKHUYGD6sQpwUIEQ\">\n",
      "            Past year\n",
      "           </a>\n",
      "          </li>\n",
      "         </ul>\n",
      "        </div>\n",
      "        <div class=\"PA9J5\">\n",
      "         <div class=\"RXaOfd\" role=\"button\" tabindex=\"0\">\n",
      "          <div class=\"TWMOUc\">\n",
      "           All results\n",
      "          </div>\n",
      "          <span class=\"OmTIzf\">\n",
      "          </span>\n",
      "         </div>\n",
      "         <ul class=\"sa1toc ozatM\">\n",
      "          <li class=\"yNFsl SkUj4c\">\n",
      "           All results\n",
      "          </li>\n",
      "          <li class=\"yNFsl\">\n",
      "           <a href=\"/search?q=jacobs+Atlanta,+GA/&amp;source=lnt&amp;tbs=li:1&amp;sa=X&amp;ved=0ahUKEwjIhq2b0oH8AhVqnuAKHUYGD6sQpwUIEw\">\n",
      "            Verbatim\n",
      "           </a>\n",
      "          </li>\n",
      "         </ul>\n",
      "        </div>\n",
      "       </div>\n",
      "      </div>\n",
      "     </div>\n",
      "     <script nonce=\"96pBe-6AE4roTgabJvBJqA\">\n",
      "      (function(){var a=document.getElementById(\"st-toggle\"),b=document.getElementById(\"st-card\");a&&b&&a.addEventListener(\"click\",function(c){b.style.display=b.style.display?\"\":\"none\";c.preventDefault()},!1);}).call(this);\n",
      "     </script>\n",
      "    </div>\n",
      "   </div>\n",
      "   <style>\n",
      "    .nGphre{float:right;padding-left:16px}.UykT9d{border-radius:8px;display:block}.nYT7Qb{clear:both}.Gx5Zad{background-color:#fff;margin-bottom:30px;box-shadow:0 0 0 1px #dfe1e5;border-radius:8px}.pkphOe{font-size:14px;line-height:22px;}.EtOod>*:first-child{border-top-left-radius:8px;border-top-right-radius:8px}.EtOod>*:last-child{border-bottom-left-radius:8px;border-bottom-right-radius:8px}.EtOod>.qxDOhb>*:first-child{border-top-left-radius:8px;border-top-right-radius:8px}.EtOod>.qxDOhb>*:last-child{border-bottom-left-radius:8px;border-bottom-right-radius:8px}.kCrYT{padding:12px 16px 12px}.RJI4s{vertical-align:middle}.l97dzf{font-weight:400}.zBAuLc{line-height:normal;margin:0;padding:0}.BNeawe{white-space:pre-line;word-wrap:break-word}.deIvCb{font-size:16px;line-height:20px;font-weight:400}.deIvCb.HrGdeb{color:#fff}.deIvCb.AP7Wnd{color:#202124}.tAd8D{font-size:14px;line-height:20px}.tAd8D.HrGdeb{color:rgba(255,255,255,.70)}.tAd8D.AP7Wnd{color:#70757a}.r0bn4c.tr0dw{color:rgba(255,255,255,.70)}.r0bn4c.rQMQod{color:#70757a}.tP9Zud{display:inline-block;}.QzarWc{color:#3c4043}.oqSTJd{color:#70757a}.Hk2yDb,.Hk2yDb span{width:65px;height:15px;display:inline-block;background:repeat-x 0 0;background-size:13px 15px;font-size:0;line-height:0}.Hk2yDb.KsR1A{background-image:url(\"data:image/svg+xml,\\00003csvg width='13px' height='15px' xmlns='http://www.w3.org/2000/svg'>\\00003cpath fill='%23d1d1d1' d='m0,7.6l4.7,0,1.5-4.5,1.5,4.5,4.7,0-3.8,2.8,1.5,4.5-3.8-2.8-3.8,2.8,1.5-4.5'/>\\00003c/svg>\")}.Hk2yDb.KsR1A span{background-image:url(\"data:image/svg+xml,\\00003csvg width='13px' height='15px' xmlns='http://www.w3.org/2000/svg'>\\00003cpath fill='%23fabb05' d='m0,7.6l4.7,0,1.5-4.5,1.5,4.5,4.7,0-3.8,2.8,1.5,4.5-3.8-2.8-3.8,2.8,1.5-4.5'/>\\00003c/svg>\")}.AraNOb{text-decoration:underline}.skVgpb{display:table;table-layout:fixed;width:100%}.VGHMXd{display:table-cell;vertical-align:middle;height:52px;text-align:center}.LpaDrb{margin:0 auto 8px;display:block}.vbShOe{padding-top:0}.x54gtf{height:1px;background-color:#dadce0;margin:0 16px}.Q0HXG{height:1px;background-color:#dadce0}a.fdYsqf{color:#4b11a8}.h1hFNe{display:inline-block;position:relative}.Iaa5if{overflow:hidden;position:relative}.l7d08{align-items:center;display:flex;flex-direction:column;justify-content:space-around}.ji5jpf{text-align:center}.uEec3{font-size:12px;line-height:16px}.uEec3.HrGdeb{color:rgba(255,255,255,.70)}.uEec3.AP7Wnd{color:#70757a}.AVsepf{padding-bottom:8px}.AVsepf.u2x1Od{padding-bottom:0}.s3v9rd{font-size:14px;line-height:22px}.s3v9rd.HrGdeb{color:#fff}.s3v9rd.AP7Wnd{color:#202124}.fP1Qef{background:transparent !important;box-shadow:none !important;border:none !important}.Gx5Zad.fP1Qef{margin-top:-12px;margin-bottom:18px}.rl7ilb{display:block;clear:both}.egMi0{margin-bottom:-19px}.sCuL3{position:absolute;width:100%;top:0;left:0;padding-top:1px;margin-bottom:-1px}.j039Wc{padding-top:28px;margin-bottom:-1px}.DnJfK{position:relative}.vvjwJb{color:#1a0dab;font-size:20px;line-height:26px}a:visited .vvjwJb,.vvjwJb a:visited{color:#4b11a8}.vvjwJb.HrGdeb{color:#fff}a:visited .vvjwJb.HrGdeb,.vvjwJb.HrGdeb a:visited{color:rgba(255,255,255,.70)}.UwRFLe{display:-webkit-box;-webkit-box-orient:vertical;overflow:hidden}.UPmit{font-size:14px;line-height:22px}.UPmit.HrGdeb{color:rgba(255,255,255,.70)}.UPmit.AP7Wnd{color:#202124}.lRVwie{text-overflow:ellipsis;white-space:nowrap;overflow:hidden}.Ap5OSd{padding-bottom:12px}.mSx1Ee{padding-left:48px;margin:0}.v9i61e{padding-bottom:8px}.XLloXe{color:#1a0dab;font-size:14px;line-height:20px}a:visited .XLloXe,.XLloXe a:visited{color:#4b11a8}.XLloXe.HrGdeb{color:#fff}a:visited .XLloXe.HrGdeb,.XLloXe.HrGdeb a:visited{color:rgba(255,255,255,.70)}.K8tyEc{padding-bottom:12px}.mEUgP{font-weight:bold;font-size:16px;color:#000;margin:0;padding:12px 16px 0 16px}.FCUp0c{font-weight:bold}.C7GS5b{margin-left:12px;display:table-cell;vertical-align:middle}.rkGIWe{padding:14px}.xpc .hwc,.xpx .hwx{display:none}.iIWm4b{box-sizing:border-box;min-height:48px}.fLtXsc{padding:14px;position:relative}.NtmAdb{width:40px;height:40px;overflow:hidden;margin-top:-10px;margin-bottom:-16px;margin-right:8px;border-radius:4px}.xpc .NtmAdb{display:inline-block}.xpx .NtmAdb{display:none}.Lt3Tzc{display:inline-block;padding-right:26px}.Lym8W{height:8px;width:12px}.xCgLUe{position:absolute;right:16px;margin-top:-4px;top:50%}.qxDOhb{border-radius:0}.yStFkb .xpd{border-radius:8px;box-shadow:none;border:1px solid #dadce0;margin-bottom:0}.oTWEpb{padding-top:12px}.n1Qedd{overflow:hidden;text-align:center}.KMAGC{margin:0 auto;display:block}.ho0sdc{margin:0 -50%;display:inline-block}.Xb5VRe{color:#1a0dab}a:visited .Xb5VRe{color:#4b11a8}.Xb5VRe.tr0dw{color:#fff}a:visited .Xb5VRe.tr0dw{color:rgba(255,255,255,.70)}.P1NWSe{display:table;width:100%;padding-top:16px;padding-bottom:16px;margin-bottom:-12px}.wOMIed{display:table-cell;vertical-align:top}.nkPlDb{vertical-align:middle}.JhFlyf{color:#3c4043;font-size:14px;text-align:center}.VQFmSd{display:block;white-space:pre-line;word-wrap:break-word}.JhFlyf.VQFmSd{line-height:22px}.f4J0H{padding:18px}.lnWbdd{display:table;width:100%}.kvKEAb{display:table-cell;vertical-align:top}.nXE3Ob{padding-top:12px}.iafz5e{float:right;padding-left:16px}.zv7zOb{border-radius:8px;display:block}.iBp4i{font-size:24px;line-height:28px;font-weight:400}.iBp4i.HrGdeb{color:#fff}.iBp4i.AP7Wnd{color:#202124}.hfgVwf{margin-top:12px}.IxZjcf .hfgVwf{margin-bottom:12px}.OdF8Fd{float:right;padding-left:16px}.p1vimb{border-radius:8px;display:block}.rkvY3c{clear:both}.CgE3Ac{margin:0 16px}.I9mEQ{padding-bottom:12px}.LnMnt{border-collapse:collapse;border-spacing:0;width:100%}.LnMnt td{padding-top:0;padding-bottom:0;padding-right:8px}.LnMnt .s5aIid{padding-right:0}.IxZjcf{border-bottom:1px solid #dadce0}.sjsZvd{vertical-align:top}.OE1use{text-align:left}.BSv1qf{text-align:center}.HlHBvc{text-align:right}.IfyLsd{float:left;margin-right:8px}.HlHBvc .IfyLsd{float:right;margin-right:8px}.gGQDvd{padding:14px;position:relative}.Q71vJc{display:block;position:relative;width:100%}.kjGX2{position:absolute;left:48px;right:0;vertical-align:bottom;display:inline-block;color:#3c4043}.ieB2Dd{overflow:hidden;margin-top:-10px;margin-bottom:-16px;margin-right:8px;border-radius:4px;display:inline-block;border-radius:50%;padding:10px}.S003Ke{flex:none}.z1asCe{display:inline-block;fill:currentColor;height:24px;line-height:24px;position:relative;width:24px}.z1asCe svg{display:block;height:100%;width:100%}.ZoN4Lb{color:rgba(0,0,0,.54)}.nAXVG{color:#70757a}.IxQsL{color:rgba(0,0,0,.26)}.xFO1De{color:#fff}.ooFpK{color:rgba(255,255,255,.30)}.mtnwac{color:#4285f4}.WxeeKb{color:#34a853}.hIVRU{color:#f29900}.EXaTMc{color:#fbbc04}.sxn46d{color:#000}.gqMTF{color:#1a73e8}.zpn8Mb{color:#d93025}.dEUPmd{color:#1e8e3e}.HttSvd{color:#202124}.rLshyf,.BmP5tf{padding-top:12px;padding-bottom:12px}.YOx3Ab{padding-left:16px;}.w1C3Le,.BmP5tf,.G5NbBd,.CS4w5b{padding-left:16px;padding-right:16px;}.G5NbBd{padding-bottom:12px}.CS4w5b{padding-top:12px}.nMymef{display:flex}.G5eFlf{flex:1;display:block}.nMymef span{text-align:center}.EYqSq{margin:6px 4px 9px 0;border-radius:100%;display:inline-block;height:10px;vertical-align:middle;width:10px}.dfB0uf{color:#3c4043;font-weight:bold}\n",
      "   </style>\n",
      "   <div>\n",
      "    <!--SW_C_X-->\n",
      "   </div>\n",
      "   <div>\n",
      "   </div>\n",
      "   <div>\n",
      "    <div class=\"Gx5Zad xpd EtOod pkphOe\">\n",
      "     <div class=\"kCrYT\">\n",
      "      <div class=\"nGphre\">\n",
      "       <img alt=\"\" class=\"UykT9d\" data-deferred=\"1\" id=\"dimg_1\" src=\"data:image/gif;base64,R0lGODlhAQABAIAAAP///////yH5BAEKAAEALAAAAAABAAEAAAICTAEAOw==\" style=\"max-width:72px;max-height:72px\"/>\n",
      "      </div>\n",
      "      <span>\n",
      "       <h3 class=\"zBAuLc l97dzf\">\n",
      "        <div class=\"BNeawe deIvCb AP7Wnd\">\n",
      "         Jacobs\n",
      "        </div>\n",
      "       </h3>\n",
      "      </span>\n",
      "      <span>\n",
      "       <div class=\"BNeawe tAd8D AP7Wnd\">\n",
      "        <span class=\"r0bn4c rQMQod tP9Zud\">\n",
      "         <span aria-hidden=\"true\" class=\"oqSTJd\">\n",
      "          3.9\n",
      "         </span>\n",
      "         <div aria-label=\"Rated 3.9 out of 5\" class=\"Hk2yDb KsR1A\" role=\"img\">\n",
      "          <span style=\"width:52px\">\n",
      "          </span>\n",
      "         </div>\n",
      "         <span>\n",
      "          (8)\n",
      "         </span>\n",
      "        </span>\n",
      "        Engineering consultant in Atlanta, Georgia\n",
      "       </div>\n",
      "      </span>\n",
      "      <div class=\"nYT7Qb\">\n",
      "      </div>\n",
      "     </div>\n",
      "     <div class=\"Q0HXG\">\n",
      "     </div>\n",
      "     <div class=\"kCrYT\">\n",
      "      <div class=\"skVgpb\">\n",
      "       <a class=\"VGHMXd\" href=\"https://maps.google.com/maps?um=1&amp;ie=UTF-8&amp;fb=1&amp;gl=us&amp;sa=X&amp;geocode=KWv6m29dBPWIMQkbHu46A_7m&amp;daddr=Jacobs,+10+10th+St+NE+%231400,+Atlanta,+GA+30309&amp;ved=2ahUKEwjIhq2b0oH8AhVqnuAKHUYGD6sQlDt6BAgMEAM\">\n",
      "        <div class=\"LpaDrb l7d08\" style=\"width:24px;height:24px\">\n",
      "         <img alt=\"\" class=\"h1hFNe\" data-deferred=\"1\" id=\"dimg_3\" src=\"data:image/gif;base64,R0lGODlhAQABAIAAAP///////yH5BAEKAAEALAAAAAABAAEAAAICTAEAOw==\" style=\"max-width:24px;max-height:24px\"/>\n",
      "        </div>\n",
      "        <div class=\"BNeawe ji5jpf uEec3 AP7Wnd\">\n",
      "         Directions\n",
      "        </div>\n",
      "       </a>\n",
      "       <a class=\"VGHMXd\" href=\"/url?esrc=s&amp;q=&amp;rct=j&amp;sa=U&amp;url=http://www.jacobs.com/&amp;ved=2ahUKEwjIhq2b0oH8AhVqnuAKHUYGD6sQgU96BAgMEAQ&amp;usg=AOvVaw2JFC-ota3jjtJmauhTzfw-\">\n",
      "        <div class=\"LpaDrb l7d08\" style=\"width:24px;height:24px\">\n",
      "         <img alt=\"\" class=\"h1hFNe\" data-deferred=\"1\" id=\"dimg_5\" src=\"data:image/gif;base64,R0lGODlhAQABAIAAAP///////yH5BAEKAAEALAAAAAABAAEAAAICTAEAOw==\" style=\"max-width:24px;max-height:24px\"/>\n",
      "        </div>\n",
      "        <div class=\"BNeawe ji5jpf uEec3 AP7Wnd\">\n",
      "         Website\n",
      "        </div>\n",
      "       </a>\n",
      "      </div>\n",
      "     </div>\n",
      "     <div class=\"vbShOe kCrYT\">\n",
      "      <div class=\"AVsepf\">\n",
      "       <div class=\"BNeawe s3v9rd AP7Wnd\">\n",
      "        <span>\n",
      "         <span class=\"BNeawe s3v9rd AP7Wnd\">\n",
      "          Address\n",
      "         </span>\n",
      "        </span>\n",
      "        :\n",
      "        <span>\n",
      "         <span class=\"BNeawe tAd8D AP7Wnd\">\n",
      "          10 10th St NE #1400, Atlanta, GA 30309\n",
      "         </span>\n",
      "        </span>\n",
      "       </div>\n",
      "      </div>\n",
      "      <div class=\"AVsepf\">\n",
      "       <div class=\"BNeawe s3v9rd AP7Wnd\">\n",
      "        <span>\n",
      "         <span class=\"BNeawe s3v9rd AP7Wnd\">\n",
      "          Hours\n",
      "         </span>\n",
      "        </span>\n",
      "        :\n",
      "        <span>\n",
      "         <span class=\"BNeawe tAd8D AP7Wnd\">\n",
      "          Closed ⋅ Opens 8AM Mon\n",
      "         </span>\n",
      "        </span>\n",
      "       </div>\n",
      "      </div>\n",
      "      <div class=\"AVsepf u2x1Od\">\n",
      "       <div class=\"BNeawe s3v9rd AP7Wnd\">\n",
      "        <span>\n",
      "         <span class=\"BNeawe s3v9rd AP7Wnd\">\n",
      "          Phone\n",
      "         </span>\n",
      "        </span>\n",
      "        :\n",
      "        <span>\n",
      "         <span class=\"BNeawe tAd8D AP7Wnd\">\n",
      "          (404) 978-7600\n",
      "         </span>\n",
      "        </span>\n",
      "       </div>\n",
      "      </div>\n",
      "     </div>\n",
      "    </div>\n",
      "   </div>\n",
      "   <div>\n",
      "    <div class=\"Gx5Zad fP1Qef xpd EtOod pkphOe\">\n",
      "     <div class=\"egMi0 kCrYT\">\n",
      "      <a href=\"/url?esrc=s&amp;q=&amp;rct=j&amp;sa=U&amp;url=https://www.jacobs.com/locations/north-america/atlanta-10421&amp;ved=2ahUKEwjIhq2b0oH8AhVqnuAKHUYGD6sQFnoECAkQAg&amp;usg=AOvVaw1TW1Y6trWSDuB6pGfZ4c6r\">\n",
      "       <div class=\"DnJfK\">\n",
      "        <div class=\"j039Wc\">\n",
      "         <h3 class=\"zBAuLc l97dzf\">\n",
      "          <div class=\"BNeawe vvjwJb AP7Wnd UwRFLe\" style=\"-webkit-line-clamp:2\">\n",
      "           Atlanta - Jacobs\n",
      "          </div>\n",
      "         </h3>\n",
      "        </div>\n",
      "        <div class=\"sCuL3\">\n",
      "         <div class=\"BNeawe UPmit AP7Wnd lRVwie\">\n",
      "          www.jacobs.com › locations › north-america › atlanta-10421\n",
      "         </div>\n",
      "        </div>\n",
      "       </div>\n",
      "      </a>\n",
      "     </div>\n",
      "     <div class=\"kCrYT\">\n",
      "      <div>\n",
      "       <div class=\"BNeawe s3v9rd AP7Wnd\">\n",
      "        <div>\n",
      "         <div>\n",
      "          <div class=\"BNeawe s3v9rd AP7Wnd\">\n",
      "           Region: North America · Address: 10 Tenth Street Suite 1400. Atlanta, GA 30309\n",
      "          </div>\n",
      "         </div>\n",
      "        </div>\n",
      "       </div>\n",
      "      </div>\n",
      "     </div>\n",
      "    </div>\n",
      "   </div>\n",
      "   <div>\n",
      "    <div class=\"Gx5Zad fP1Qef xpd EtOod pkphOe\">\n",
      "     <div class=\"egMi0 kCrYT\">\n",
      "      <a href=\"/url?esrc=s&amp;q=&amp;rct=j&amp;sa=U&amp;url=https://www.jacobs.com/&amp;ved=2ahUKEwjIhq2b0oH8AhVqnuAKHUYGD6sQFnoECAsQAg&amp;usg=AOvVaw0vdzRzdfDH-ATecIwyLu9p\">\n",
      "       <div class=\"DnJfK\">\n",
      "        <div class=\"j039Wc\">\n",
      "         <h3 class=\"zBAuLc l97dzf\">\n",
      "          <div class=\"BNeawe vvjwJb AP7Wnd UwRFLe\" style=\"-webkit-line-clamp:2\">\n",
      "           Welcome to Jacobs | Jacobs\n",
      "          </div>\n",
      "         </h3>\n",
      "        </div>\n",
      "        <div class=\"sCuL3\">\n",
      "         <div class=\"BNeawe UPmit AP7Wnd lRVwie\">\n",
      "          www.jacobs.com\n",
      "         </div>\n",
      "        </div>\n",
      "       </div>\n",
      "      </a>\n",
      "     </div>\n",
      "     <div class=\"kCrYT\">\n",
      "      <div>\n",
      "       <div class=\"BNeawe s3v9rd AP7Wnd\">\n",
      "        <div>\n",
      "         <div class=\"v9i61e\">\n",
      "          <div class=\"BNeawe s3v9rd AP7Wnd\">\n",
      "           At Jacobs, we're challenging today to reinvent tomorrow by solving the world's most critical problems for thriving cities, resilient environments, ...\n",
      "          </div>\n",
      "         </div>\n",
      "         <div>\n",
      "          <div class=\"BNeawe s3v9rd AP7Wnd\">\n",
      "           <span class=\"BNeawe\">\n",
      "            <a href=\"/url?esrc=s&amp;q=&amp;rct=j&amp;sa=U&amp;url=https://careers.jacobs.com/&amp;ved=2ahUKEwjIhq2b0oH8AhVqnuAKHUYGD6sQ0gJ6BAgLEAU&amp;usg=AOvVaw0NaVNccmQRtatagVeRCCgd\">\n",
      "             <span class=\"XLloXe AP7Wnd\">\n",
      "              Careers\n",
      "             </span>\n",
      "            </a>\n",
      "           </span>\n",
      "           ·\n",
      "           <span class=\"BNeawe\">\n",
      "            <a href=\"/url?esrc=s&amp;q=&amp;rct=j&amp;sa=U&amp;url=https://www.jacobs.com/locations&amp;ved=2ahUKEwjIhq2b0oH8AhVqnuAKHUYGD6sQ0gJ6BAgLEAY&amp;usg=AOvVaw23XuuUeAuMBRxlxSbTic3J\">\n",
      "             <span class=\"XLloXe AP7Wnd\">\n",
      "              Locations\n",
      "             </span>\n",
      "            </a>\n",
      "           </span>\n",
      "           ·\n",
      "           <span class=\"BNeawe\">\n",
      "            <a href=\"/url?esrc=s&amp;q=&amp;rct=j&amp;sa=U&amp;url=https://www.jacobs.com/newsroom/press-release/jacobs-announces-leadership-succession-plan&amp;ved=2ahUKEwjIhq2b0oH8AhVqnuAKHUYGD6sQ0gJ6BAgLEAc&amp;usg=AOvVaw01Tu7fHNo8g7Y242dEvUIm\">\n",
      "             <span class=\"XLloXe AP7Wnd\">\n",
      "              Jacobs Announces...\n",
      "             </span>\n",
      "            </a>\n",
      "           </span>\n",
      "           ·\n",
      "           <span class=\"BNeawe\">\n",
      "            <a href=\"/url?esrc=s&amp;q=&amp;rct=j&amp;sa=U&amp;url=https://www.jacobs.com/about&amp;ved=2ahUKEwjIhq2b0oH8AhVqnuAKHUYGD6sQ0gJ6BAgLEAg&amp;usg=AOvVaw1LNDNKDmNu--wuvac9kM8P\">\n",
      "             <span class=\"XLloXe AP7Wnd\">\n",
      "              About Us\n",
      "             </span>\n",
      "            </a>\n",
      "           </span>\n",
      "          </div>\n",
      "         </div>\n",
      "        </div>\n",
      "       </div>\n",
      "      </div>\n",
      "     </div>\n",
      "    </div>\n",
      "   </div>\n",
      "   <div>\n",
      "    <div class=\"Gx5Zad xpd EtOod pkphOe\">\n",
      "     <div class=\"K8tyEc\">\n",
      "      <div class=\"mEUgP\">\n",
      "       <span>\n",
      "        <div class=\"BNeawe\">\n",
      "         <span class=\"FCUp0c rQMQod\">\n",
      "          People also ask\n",
      "         </span>\n",
      "        </div>\n",
      "       </span>\n",
      "      </div>\n",
      "     </div>\n",
      "     <div class=\"x54gtf\">\n",
      "     </div>\n",
      "     <div>\n",
      "      <div class=\"xpc\">\n",
      "       <div class=\"duf-h\">\n",
      "        <div aria-expanded=\"false\" class=\"fLtXsc iIWm4b\" data-ved=\"2ahUKEwjIhq2b0oH8AhVqnuAKHUYGD6sQuk56BAgFEAI\" id=\"tsuid_1\" role=\"button\" tabindex=\"0\">\n",
      "         <div class=\"Lt3Tzc\">\n",
      "          What does the company Jacobs do?\n",
      "         </div>\n",
      "         <svg class=\"Lym8W xCgLUe hwc\" viewbox=\"0 0 12 8\" xmlns=\"http://www.w3.org/2000/sg\">\n",
      "          <path d=\"M6 0l-6 6 1.41 1.41 4.59 -4.58 4.59 4.58 1.41 -1.41z\" fill=\"#70757a\">\n",
      "          </path>\n",
      "         </svg>\n",
      "         <svg class=\"Lym8W xCgLUe hwx\" viewbox=\"0 0 12 8\" xmlns=\"http://www.w3.org/2000/sg\">\n",
      "          <path d=\"M10.59 0l-4.59 4.58 -4.59 -4.58 -1.41 1.41 6 6 6 -6z\" fill=\"#70757a\">\n",
      "          </path>\n",
      "         </svg>\n",
      "        </div>\n",
      "       </div>\n",
      "       <div class=\"qxDOhb\" id=\"accdef_1\">\n",
      "       </div>\n",
      "      </div>\n",
      "     </div>\n",
      "     <div class=\"x54gtf\">\n",
      "     </div>\n",
      "     <div>\n",
      "      <div class=\"xpc\">\n",
      "       <div class=\"duf-h\">\n",
      "        <div aria-expanded=\"false\" class=\"fLtXsc iIWm4b\" data-ved=\"2ahUKEwjIhq2b0oH8AhVqnuAKHUYGD6sQuk56BAgFEAk\" id=\"tsuid_2\" role=\"button\" tabindex=\"0\">\n",
      "         <div class=\"Lt3Tzc\">\n",
      "          How is Jacobs to work for?\n",
      "         </div>\n",
      "         <svg class=\"Lym8W xCgLUe hwc\" viewbox=\"0 0 12 8\" xmlns=\"http://www.w3.org/2000/sg\">\n",
      "          <path d=\"M6 0l-6 6 1.41 1.41 4.59 -4.58 4.59 4.58 1.41 -1.41z\" fill=\"#70757a\">\n",
      "          </path>\n",
      "         </svg>\n",
      "         <svg class=\"Lym8W xCgLUe hwx\" viewbox=\"0 0 12 8\" xmlns=\"http://www.w3.org/2000/sg\">\n",
      "          <path d=\"M10.59 0l-4.59 4.58 -4.59 -4.58 -1.41 1.41 6 6 6 -6z\" fill=\"#70757a\">\n",
      "          </path>\n",
      "         </svg>\n",
      "        </div>\n",
      "       </div>\n",
      "       <div class=\"qxDOhb\" id=\"accdef_3\">\n",
      "       </div>\n",
      "      </div>\n",
      "     </div>\n",
      "     <div class=\"x54gtf\">\n",
      "     </div>\n",
      "     <div>\n",
      "      <div class=\"xpc\">\n",
      "       <div class=\"duf-h\">\n",
      "        <div aria-expanded=\"false\" class=\"fLtXsc iIWm4b\" data-ved=\"2ahUKEwjIhq2b0oH8AhVqnuAKHUYGD6sQuk56BAgFEBA\" id=\"tsuid_3\" role=\"button\" tabindex=\"0\">\n",
      "         <div class=\"Lt3Tzc\">\n",
      "          Where is Jacobs Engineering headquarters located?\n",
      "         </div>\n",
      "         <svg class=\"Lym8W xCgLUe hwc\" viewbox=\"0 0 12 8\" xmlns=\"http://www.w3.org/2000/sg\">\n",
      "          <path d=\"M6 0l-6 6 1.41 1.41 4.59 -4.58 4.59 4.58 1.41 -1.41z\" fill=\"#70757a\">\n",
      "          </path>\n",
      "         </svg>\n",
      "         <svg class=\"Lym8W xCgLUe hwx\" viewbox=\"0 0 12 8\" xmlns=\"http://www.w3.org/2000/sg\">\n",
      "          <path d=\"M10.59 0l-4.59 4.58 -4.59 -4.58 -1.41 1.41 6 6 6 -6z\" fill=\"#70757a\">\n",
      "          </path>\n",
      "         </svg>\n",
      "        </div>\n",
      "       </div>\n",
      "       <div class=\"qxDOhb\" id=\"accdef_5\">\n",
      "       </div>\n",
      "      </div>\n",
      "     </div>\n",
      "     <div class=\"x54gtf\">\n",
      "     </div>\n",
      "     <div>\n",
      "      <div class=\"xpc\">\n",
      "       <div class=\"duf-h\">\n",
      "        <div aria-expanded=\"false\" class=\"fLtXsc iIWm4b\" data-ved=\"2ahUKEwjIhq2b0oH8AhVqnuAKHUYGD6sQuk56BAgFEBU\" id=\"tsuid_4\" role=\"button\" tabindex=\"0\">\n",
      "         <div class=\"Lt3Tzc\">\n",
      "          Is Jacobs a Fortune 500?\n",
      "         </div>\n",
      "         <svg class=\"Lym8W xCgLUe hwc\" viewbox=\"0 0 12 8\" xmlns=\"http://www.w3.org/2000/sg\">\n",
      "          <path d=\"M6 0l-6 6 1.41 1.41 4.59 -4.58 4.59 4.58 1.41 -1.41z\" fill=\"#70757a\">\n",
      "          </path>\n",
      "         </svg>\n",
      "         <svg class=\"Lym8W xCgLUe hwx\" viewbox=\"0 0 12 8\" xmlns=\"http://www.w3.org/2000/sg\">\n",
      "          <path d=\"M10.59 0l-4.59 4.58 -4.59 -4.58 -1.41 1.41 6 6 6 -6z\" fill=\"#70757a\">\n",
      "          </path>\n",
      "         </svg>\n",
      "        </div>\n",
      "       </div>\n",
      "       <div class=\"qxDOhb\" id=\"accdef_7\">\n",
      "       </div>\n",
      "      </div>\n",
      "     </div>\n",
      "    </div>\n",
      "   </div>\n",
      "   <div>\n",
      "    <div class=\"Gx5Zad fP1Qef xpd EtOod pkphOe\">\n",
      "     <div class=\"egMi0 kCrYT\">\n",
      "      <a href=\"/url?esrc=s&amp;q=&amp;rct=j&amp;sa=U&amp;url=https://www.midtownatl.com/go/jacobs-engineering&amp;ved=2ahUKEwjIhq2b0oH8AhVqnuAKHUYGD6sQFnoECAgQAg&amp;usg=AOvVaw1iWlg0IWS8ULfpWIQPr_La\">\n",
      "       <div class=\"DnJfK\">\n",
      "        <div class=\"j039Wc\">\n",
      "         <h3 class=\"zBAuLc l97dzf\">\n",
      "          <div class=\"BNeawe vvjwJb AP7Wnd UwRFLe\" style=\"-webkit-line-clamp:2\">\n",
      "           Jacobs Engineering | Midtown Alliance | Atlanta, GA\n",
      "          </div>\n",
      "         </h3>\n",
      "        </div>\n",
      "        <div class=\"sCuL3\">\n",
      "         <div class=\"BNeawe UPmit AP7Wnd lRVwie\">\n",
      "          www.midtownatl.com › jacobs-engineering\n",
      "         </div>\n",
      "        </div>\n",
      "       </div>\n",
      "      </a>\n",
      "     </div>\n",
      "     <div class=\"kCrYT\">\n",
      "      <div>\n",
      "       <div class=\"BNeawe s3v9rd AP7Wnd\">\n",
      "        <div>\n",
      "         <div>\n",
      "          <div class=\"BNeawe s3v9rd AP7Wnd\">\n",
      "           Jacobs' talent force of 55,000+ globally, including 600+ in Metro Atlanta, provides a full spectrum of professional services including consulting, design, and ...\n",
      "          </div>\n",
      "         </div>\n",
      "        </div>\n",
      "       </div>\n",
      "      </div>\n",
      "     </div>\n",
      "    </div>\n",
      "   </div>\n",
      "   <div>\n",
      "    <div class=\"Gx5Zad fP1Qef xpd EtOod pkphOe\">\n",
      "     <div class=\"egMi0 kCrYT\">\n",
      "      <a href=\"/url?esrc=s&amp;q=&amp;rct=j&amp;sa=U&amp;url=https://www.glassdoor.com/Reviews/Jacobs-Atlanta-Reviews-EI_IE913.0,6_IL.7,14_IM52.htm&amp;ved=2ahUKEwjIhq2b0oH8AhVqnuAKHUYGD6sQFnoECAMQAg&amp;usg=AOvVaw1kvTxLVB1pdVNn0P1KQXmm\">\n",
      "       <div class=\"DnJfK\">\n",
      "        <div class=\"j039Wc\">\n",
      "         <h3 class=\"zBAuLc l97dzf\">\n",
      "          <div class=\"BNeawe vvjwJb AP7Wnd UwRFLe\" style=\"-webkit-line-clamp:2\">\n",
      "           Jacobs Reviews in Atlanta, GA - Glassdoor\n",
      "          </div>\n",
      "         </h3>\n",
      "        </div>\n",
      "        <div class=\"sCuL3\">\n",
      "         <div class=\"BNeawe UPmit AP7Wnd lRVwie\">\n",
      "          www.glassdoor.com › Atlanta › Jacobs\n",
      "         </div>\n",
      "        </div>\n",
      "       </div>\n",
      "      </a>\n",
      "     </div>\n",
      "     <div class=\"kCrYT\">\n",
      "      <div>\n",
      "       <div class=\"BNeawe s3v9rd AP7Wnd\">\n",
      "        <div>\n",
      "         <div class=\"v9i61e\">\n",
      "          <div class=\"BNeawe s3v9rd AP7Wnd\">\n",
      "           <span class=\"r0bn4c rQMQod\">\n",
      "            Rating\n",
      "           </span>\n",
      "           <span class=\"r0bn4c rQMQod tP9Zud\">\n",
      "            <span aria-hidden=\"true\" class=\"oqSTJd\">\n",
      "             4.1\n",
      "            </span>\n",
      "            <div aria-label=\"Rated 4.0 out of 5\" class=\"Hk2yDb KsR1A\" role=\"img\">\n",
      "             <span style=\"width:52px\">\n",
      "             </span>\n",
      "            </div>\n",
      "            <span>\n",
      "             (6,013)\n",
      "            </span>\n",
      "           </span>\n",
      "          </div>\n",
      "         </div>\n",
      "         <div>\n",
      "          <div class=\"BNeawe s3v9rd AP7Wnd\">\n",
      "           49 Jacobs reviews in Atlanta, GA. A free inside look at company reviews and salaries posted anonymously by employees.\n",
      "          </div>\n",
      "         </div>\n",
      "        </div>\n",
      "       </div>\n",
      "      </div>\n",
      "     </div>\n",
      "    </div>\n",
      "   </div>\n",
      "   <div>\n",
      "    <div class=\"Gx5Zad fP1Qef xpd EtOod pkphOe\">\n",
      "     <div class=\"egMi0 kCrYT\">\n",
      "      <a href=\"/url?esrc=s&amp;q=&amp;rct=j&amp;sa=U&amp;url=https://www.indeed.com/q-Jacobs-Engineering-l-Atlanta,-GA-jobs.html&amp;ved=2ahUKEwjIhq2b0oH8AhVqnuAKHUYGD6sQFnoECAEQAg&amp;usg=AOvVaw2RAU9PhqLAMuGk4YKVUlu8\">\n",
      "       <div class=\"DnJfK\">\n",
      "        <div class=\"j039Wc\">\n",
      "         <h3 class=\"zBAuLc l97dzf\">\n",
      "          <div class=\"BNeawe vvjwJb AP7Wnd UwRFLe\" style=\"-webkit-line-clamp:2\">\n",
      "           Jacobs Engineering Jobs, Employment in Atlanta, GA | Indeed.com\n",
      "          </div>\n",
      "         </h3>\n",
      "        </div>\n",
      "        <div class=\"sCuL3\">\n",
      "         <div class=\"BNeawe UPmit AP7Wnd lRVwie\">\n",
      "          www.indeed.com › q-Jacobs-Engineering-l-Atlanta,-GA-jobs\n",
      "         </div>\n",
      "        </div>\n",
      "       </div>\n",
      "      </a>\n",
      "     </div>\n",
      "     <div class=\"kCrYT\">\n",
      "      <div>\n",
      "       <div class=\"BNeawe s3v9rd AP7Wnd\">\n",
      "        <div>\n",
      "         <div>\n",
      "          <div class=\"BNeawe s3v9rd AP7Wnd\">\n",
      "           75 Jacobs Engineering jobs available in Atlanta, GA on Indeed.com. Apply to Project Scheduler, Entry Level Electrical Engineer, Mechanic and more!\n",
      "          </div>\n",
      "         </div>\n",
      "        </div>\n",
      "       </div>\n",
      "      </div>\n",
      "     </div>\n",
      "    </div>\n",
      "   </div>\n",
      "   <div>\n",
      "    <div class=\"Gx5Zad fP1Qef xpd EtOod pkphOe\">\n",
      "     <div class=\"egMi0 kCrYT\">\n",
      "      <a href=\"/url?esrc=s&amp;q=&amp;rct=j&amp;sa=U&amp;url=https://web.gwinnettchamber.org/Engineering/Jacobs-Engineering-Group-Inc-16989&amp;ved=2ahUKEwjIhq2b0oH8AhVqnuAKHUYGD6sQFnoECAQQAg&amp;usg=AOvVaw0WZ05uVTDg2F2wuz-bv2VB\">\n",
      "       <div class=\"DnJfK\">\n",
      "        <div class=\"j039Wc\">\n",
      "         <h3 class=\"zBAuLc l97dzf\">\n",
      "          <div class=\"BNeawe vvjwJb AP7Wnd UwRFLe\" style=\"-webkit-line-clamp:2\">\n",
      "           Jacobs Engineering Group Inc.\n",
      "          </div>\n",
      "         </h3>\n",
      "        </div>\n",
      "        <div class=\"sCuL3\">\n",
      "         <div class=\"BNeawe UPmit AP7Wnd lRVwie\">\n",
      "          web.gwinnettchamber.org › Engineering › Jacobs-Engineering-Group-Inc-...\n",
      "         </div>\n",
      "        </div>\n",
      "       </div>\n",
      "      </a>\n",
      "     </div>\n",
      "     <div class=\"kCrYT\">\n",
      "      <div>\n",
      "       <div class=\"BNeawe s3v9rd AP7Wnd\">\n",
      "        <div>\n",
      "         <div>\n",
      "          <div class=\"BNeawe s3v9rd AP7Wnd\">\n",
      "           Jacobs Engineering Group Inc. | 10 Tenth Street, Atlanta, GA, 30309 |\n",
      "          </div>\n",
      "         </div>\n",
      "        </div>\n",
      "       </div>\n",
      "      </div>\n",
      "     </div>\n",
      "    </div>\n",
      "   </div>\n",
      "   <div>\n",
      "    <div class=\"Gx5Zad fP1Qef xpd EtOod pkphOe\">\n",
      "     <div class=\"egMi0 kCrYT\">\n",
      "      <a href=\"/url?esrc=s&amp;q=&amp;rct=j&amp;sa=U&amp;url=https://jacobseye.com/&amp;ved=2ahUKEwjIhq2b0oH8AhVqnuAKHUYGD6sQFnoECAIQAg&amp;usg=AOvVaw3ZgbSe3xBU4ke6gISTTJCd\">\n",
      "       <div class=\"DnJfK\">\n",
      "        <div class=\"j039Wc\">\n",
      "         <h3 class=\"zBAuLc l97dzf\">\n",
      "          <div class=\"BNeawe vvjwJb AP7Wnd UwRFLe\" style=\"-webkit-line-clamp:2\">\n",
      "           Marketing Agency in Atlanta, GA | JacobsEye Marketing that Matters\n",
      "          </div>\n",
      "         </h3>\n",
      "        </div>\n",
      "        <div class=\"sCuL3\">\n",
      "         <div class=\"BNeawe UPmit AP7Wnd lRVwie\">\n",
      "          jacobseye.com\n",
      "         </div>\n",
      "        </div>\n",
      "       </div>\n",
      "      </a>\n",
      "     </div>\n",
      "     <div class=\"kCrYT\">\n",
      "      <div>\n",
      "       <div class=\"BNeawe s3v9rd AP7Wnd\">\n",
      "        <div>\n",
      "         <div>\n",
      "          <div class=\"BNeawe s3v9rd AP7Wnd\">\n",
      "           JacobsEye marketing agency is an award-winning digital marketing firm born to bring a positive impact in the world via marketing that matters.\n",
      "          </div>\n",
      "         </div>\n",
      "        </div>\n",
      "       </div>\n",
      "      </div>\n",
      "     </div>\n",
      "    </div>\n",
      "   </div>\n",
      "   <div>\n",
      "    <div class=\"Gx5Zad fP1Qef xpd EtOod pkphOe\">\n",
      "     <div class=\"egMi0 kCrYT\">\n",
      "      <a href=\"/url?esrc=s&amp;q=&amp;rct=j&amp;sa=U&amp;url=https://jacobs.jobs/georgia/usa/jobs/&amp;ved=2ahUKEwjIhq2b0oH8AhVqnuAKHUYGD6sQFnoECAAQAg&amp;usg=AOvVaw2G_gpI0ZOL4taHDwTz6kUy\">\n",
      "       <div class=\"DnJfK\">\n",
      "        <div class=\"j039Wc\">\n",
      "         <h3 class=\"zBAuLc l97dzf\">\n",
      "          <div class=\"BNeawe vvjwJb AP7Wnd UwRFLe\" style=\"-webkit-line-clamp:2\">\n",
      "           Jobs in Georgia - Jacobs Jobs\n",
      "          </div>\n",
      "         </h3>\n",
      "        </div>\n",
      "        <div class=\"sCuL3\">\n",
      "         <div class=\"BNeawe UPmit AP7Wnd lRVwie\">\n",
      "          jacobs.jobs › georgia › usa › jobs\n",
      "         </div>\n",
      "        </div>\n",
      "       </div>\n",
      "      </a>\n",
      "     </div>\n",
      "     <div class=\"kCrYT\">\n",
      "      <div>\n",
      "       <div class=\"BNeawe s3v9rd AP7Wnd\">\n",
      "        <div>\n",
      "         <div>\n",
      "          <div class=\"BNeawe s3v9rd AP7Wnd\">\n",
      "           204 Jobs in Georgia · City Planner - Tucker, GA. Tucker, Georgia · Facilities Plant Operator II. Atlanta, Georgia · Facility Maintenance Technician II. Atlanta, ...\n",
      "          </div>\n",
      "         </div>\n",
      "        </div>\n",
      "       </div>\n",
      "      </div>\n",
      "     </div>\n",
      "    </div>\n",
      "   </div>\n",
      "   <div>\n",
      "    <div class=\"Gx5Zad fP1Qef xpd EtOod pkphOe\">\n",
      "     <div class=\"egMi0 kCrYT\">\n",
      "      <a href=\"/url?esrc=s&amp;q=&amp;rct=j&amp;sa=U&amp;url=https://www.jacobslandscape.com/&amp;ved=2ahUKEwjIhq2b0oH8AhVqnuAKHUYGD6sQFnoECAcQAg&amp;usg=AOvVaw3OeagmQCF3ksEz6P2HB6h-\">\n",
      "       <div class=\"DnJfK\">\n",
      "        <div class=\"j039Wc\">\n",
      "         <h3 class=\"zBAuLc l97dzf\">\n",
      "          <div class=\"BNeawe vvjwJb AP7Wnd UwRFLe\" style=\"-webkit-line-clamp:2\">\n",
      "           Jacobs Landscape Company, Inc. - Atlanta\n",
      "          </div>\n",
      "         </h3>\n",
      "        </div>\n",
      "        <div class=\"sCuL3\">\n",
      "         <div class=\"BNeawe UPmit AP7Wnd lRVwie\">\n",
      "          www.jacobslandscape.com\n",
      "         </div>\n",
      "        </div>\n",
      "       </div>\n",
      "      </a>\n",
      "     </div>\n",
      "     <div class=\"kCrYT\">\n",
      "      <div>\n",
      "       <div class=\"BNeawe s3v9rd AP7Wnd\">\n",
      "        <div>\n",
      "         <div>\n",
      "          <div class=\"BNeawe s3v9rd AP7Wnd\">\n",
      "           Hello Every One,. Welcome to the web site for JACOBS LANDSCAPE COMPANY in Atlanta, GA. Please take this opportunity to view the various Maintenance, ...\n",
      "          </div>\n",
      "         </div>\n",
      "        </div>\n",
      "       </div>\n",
      "      </div>\n",
      "     </div>\n",
      "    </div>\n",
      "   </div>\n",
      "   <div>\n",
      "    <div class=\"Gx5Zad fP1Qef xpd EtOod pkphOe\">\n",
      "     <div class=\"egMi0 kCrYT\">\n",
      "      <a href=\"/url?esrc=s&amp;q=&amp;rct=j&amp;sa=U&amp;url=https://www.simplyhired.com/search%3Fq%3Dcompany%253A%2528jacobs%2529%26l%3Datlanta%252C%2Bga&amp;ved=2ahUKEwjIhq2b0oH8AhVqnuAKHUYGD6sQFnoECAoQAg&amp;usg=AOvVaw15J7R6vjTVOBzAkrmqcQaA\">\n",
      "       <div class=\"DnJfK\">\n",
      "        <div class=\"j039Wc\">\n",
      "         <h3 class=\"zBAuLc l97dzf\">\n",
      "          <div class=\"BNeawe vvjwJb AP7Wnd UwRFLe\" style=\"-webkit-line-clamp:2\">\n",
      "           20 Best company:(jacobs) jobs in Atlanta, GA (Hiring Now!)\n",
      "          </div>\n",
      "         </h3>\n",
      "        </div>\n",
      "        <div class=\"sCuL3\">\n",
      "         <div class=\"BNeawe UPmit AP7Wnd lRVwie\">\n",
      "          www.simplyhired.com › search › q=company:(jacobs) › l=atlanta,+ga\n",
      "         </div>\n",
      "        </div>\n",
      "       </div>\n",
      "      </a>\n",
      "     </div>\n",
      "     <div class=\"kCrYT\">\n",
      "      <div>\n",
      "       <div class=\"BNeawe s3v9rd AP7Wnd\">\n",
      "        <div>\n",
      "         <div>\n",
      "          <div class=\"BNeawe s3v9rd AP7Wnd\">\n",
      "           64 company:(jacobs) jobs available in Atlanta, GA. See salaries, compare reviews, easily apply, and get hired. New company:(jacobs) careers in Atlanta, ...\n",
      "          </div>\n",
      "         </div>\n",
      "        </div>\n",
      "       </div>\n",
      "      </div>\n",
      "     </div>\n",
      "    </div>\n",
      "   </div>\n",
      "   <div>\n",
      "    <div class=\"Gx5Zad xpd EtOod pkphOe\">\n",
      "     <div class=\"K8tyEc\">\n",
      "      <div class=\"mEUgP\">\n",
      "       <span>\n",
      "        <div class=\"BNeawe\">\n",
      "         Related searches\n",
      "        </div>\n",
      "       </span>\n",
      "      </div>\n",
      "     </div>\n",
      "     <div class=\"x54gtf\">\n",
      "     </div>\n",
      "     <div>\n",
      "      <div class=\"gGQDvd iIWm4b\">\n",
      "       <a class=\"Q71vJc\" href=\"/search?q=Jacobs+engineering+Atlanta&amp;sa=X&amp;ved=2ahUKEwjIhq2b0oH8AhVqnuAKHUYGD6sQ1QJ6BAgGEAI\">\n",
      "        <accordion-entry-search-icon>\n",
      "         <span class=\"ieB2Dd S003Ke ZoN4Lb z1asCe MZy1Rb\" style=\"height:20px;line-height:20px;width:20px\">\n",
      "          <svg focusable=\"false\" viewbox=\"0 0 24 24\" xmlns=\"http://www.w3.org/2000/svg\">\n",
      "           <path d=\"M15.5 14h-.79l-.28-.27A6.471 6.471 0 0 0 16 9.5 6.5 6.5 0 1 0 9.5 16c1.61 0 3.09-.59 4.23-1.57l.27.28v.79l5 4.99L20.49 19l-4.99-5zm-6 0C7.01 14 5 11.99 5 9.5S7.01 5 9.5 5 14 7.01 14 9.5 11.99 14 9.5 14z\">\n",
      "           </path>\n",
      "          </svg>\n",
      "         </span>\n",
      "        </accordion-entry-search-icon>\n",
      "        <div class=\"kjGX2\">\n",
      "         <span>\n",
      "          <div class=\"BNeawe s3v9rd AP7Wnd lRVwie\">\n",
      "           Jacobs engineering Atlanta\n",
      "          </div>\n",
      "         </span>\n",
      "        </div>\n",
      "       </a>\n",
      "      </div>\n",
      "     </div>\n",
      "     <div class=\"x54gtf\">\n",
      "     </div>\n",
      "     <div>\n",
      "      <div class=\"gGQDvd iIWm4b\">\n",
      "       <a class=\"Q71vJc\" href=\"/search?q=Jacobs+Engineering+headquarters&amp;sa=X&amp;ved=2ahUKEwjIhq2b0oH8AhVqnuAKHUYGD6sQ1QJ6BAgGEAQ\">\n",
      "        <accordion-entry-search-icon>\n",
      "         <span class=\"ieB2Dd S003Ke ZoN4Lb z1asCe MZy1Rb\" style=\"height:20px;line-height:20px;width:20px\">\n",
      "          <svg focusable=\"false\" viewbox=\"0 0 24 24\" xmlns=\"http://www.w3.org/2000/svg\">\n",
      "           <path d=\"M15.5 14h-.79l-.28-.27A6.471 6.471 0 0 0 16 9.5 6.5 6.5 0 1 0 9.5 16c1.61 0 3.09-.59 4.23-1.57l.27.28v.79l5 4.99L20.49 19l-4.99-5zm-6 0C7.01 14 5 11.99 5 9.5S7.01 5 9.5 5 14 7.01 14 9.5 11.99 14 9.5 14z\">\n",
      "           </path>\n",
      "          </svg>\n",
      "         </span>\n",
      "        </accordion-entry-search-icon>\n",
      "        <div class=\"kjGX2\">\n",
      "         <span>\n",
      "          <div class=\"BNeawe s3v9rd AP7Wnd lRVwie\">\n",
      "           Jacobs Engineering headquarters\n",
      "          </div>\n",
      "         </span>\n",
      "        </div>\n",
      "       </a>\n",
      "      </div>\n",
      "     </div>\n",
      "     <div class=\"x54gtf\">\n",
      "     </div>\n",
      "     <div>\n",
      "      <div class=\"gGQDvd iIWm4b\">\n",
      "       <a class=\"Q71vJc\" href=\"/search?q=Jacob+company&amp;sa=X&amp;ved=2ahUKEwjIhq2b0oH8AhVqnuAKHUYGD6sQ1QJ6BAgGEAY\">\n",
      "        <accordion-entry-search-icon>\n",
      "         <span class=\"ieB2Dd S003Ke ZoN4Lb z1asCe MZy1Rb\" style=\"height:20px;line-height:20px;width:20px\">\n",
      "          <svg focusable=\"false\" viewbox=\"0 0 24 24\" xmlns=\"http://www.w3.org/2000/svg\">\n",
      "           <path d=\"M15.5 14h-.79l-.28-.27A6.471 6.471 0 0 0 16 9.5 6.5 6.5 0 1 0 9.5 16c1.61 0 3.09-.59 4.23-1.57l.27.28v.79l5 4.99L20.49 19l-4.99-5zm-6 0C7.01 14 5 11.99 5 9.5S7.01 5 9.5 5 14 7.01 14 9.5 11.99 14 9.5 14z\">\n",
      "           </path>\n",
      "          </svg>\n",
      "         </span>\n",
      "        </accordion-entry-search-icon>\n",
      "        <div class=\"kjGX2\">\n",
      "         <span>\n",
      "          <div class=\"BNeawe s3v9rd AP7Wnd lRVwie\">\n",
      "           Jacob company\n",
      "          </div>\n",
      "         </span>\n",
      "        </div>\n",
      "       </a>\n",
      "      </div>\n",
      "     </div>\n",
      "     <div class=\"x54gtf\">\n",
      "     </div>\n",
      "     <div>\n",
      "      <div class=\"gGQDvd iIWm4b\">\n",
      "       <a class=\"Q71vJc\" href=\"/search?q=Jacobs+careers&amp;sa=X&amp;ved=2ahUKEwjIhq2b0oH8AhVqnuAKHUYGD6sQ1QJ6BAgGEAg\">\n",
      "        <accordion-entry-search-icon>\n",
      "         <span class=\"ieB2Dd S003Ke ZoN4Lb z1asCe MZy1Rb\" style=\"height:20px;line-height:20px;width:20px\">\n",
      "          <svg focusable=\"false\" viewbox=\"0 0 24 24\" xmlns=\"http://www.w3.org/2000/svg\">\n",
      "           <path d=\"M15.5 14h-.79l-.28-.27A6.471 6.471 0 0 0 16 9.5 6.5 6.5 0 1 0 9.5 16c1.61 0 3.09-.59 4.23-1.57l.27.28v.79l5 4.99L20.49 19l-4.99-5zm-6 0C7.01 14 5 11.99 5 9.5S7.01 5 9.5 5 14 7.01 14 9.5 11.99 14 9.5 14z\">\n",
      "           </path>\n",
      "          </svg>\n",
      "         </span>\n",
      "        </accordion-entry-search-icon>\n",
      "        <div class=\"kjGX2\">\n",
      "         <span>\n",
      "          <div class=\"BNeawe s3v9rd AP7Wnd lRVwie\">\n",
      "           Jacobs careers\n",
      "          </div>\n",
      "         </span>\n",
      "        </div>\n",
      "       </a>\n",
      "      </div>\n",
      "     </div>\n",
      "     <div class=\"x54gtf\">\n",
      "     </div>\n",
      "     <div>\n",
      "      <div class=\"gGQDvd iIWm4b\">\n",
      "       <a class=\"Q71vJc\" href=\"/search?q=Jacobs+Consultancy&amp;sa=X&amp;ved=2ahUKEwjIhq2b0oH8AhVqnuAKHUYGD6sQ1QJ6BAgGEAo\">\n",
      "        <accordion-entry-search-icon>\n",
      "         <span class=\"ieB2Dd S003Ke ZoN4Lb z1asCe MZy1Rb\" style=\"height:20px;line-height:20px;width:20px\">\n",
      "          <svg focusable=\"false\" viewbox=\"0 0 24 24\" xmlns=\"http://www.w3.org/2000/svg\">\n",
      "           <path d=\"M15.5 14h-.79l-.28-.27A6.471 6.471 0 0 0 16 9.5 6.5 6.5 0 1 0 9.5 16c1.61 0 3.09-.59 4.23-1.57l.27.28v.79l5 4.99L20.49 19l-4.99-5zm-6 0C7.01 14 5 11.99 5 9.5S7.01 5 9.5 5 14 7.01 14 9.5 11.99 14 9.5 14z\">\n",
      "           </path>\n",
      "          </svg>\n",
      "         </span>\n",
      "        </accordion-entry-search-icon>\n",
      "        <div class=\"kjGX2\">\n",
      "         <span>\n",
      "          <div class=\"BNeawe s3v9rd AP7Wnd lRVwie\">\n",
      "           Jacobs Consultancy\n",
      "          </div>\n",
      "         </span>\n",
      "        </div>\n",
      "       </a>\n",
      "      </div>\n",
      "     </div>\n",
      "     <div class=\"x54gtf\">\n",
      "     </div>\n",
      "     <div>\n",
      "      <div class=\"gGQDvd iIWm4b\">\n",
      "       <a class=\"Q71vJc\" href=\"/search?q=Jacobs+Engineering+staff+directory&amp;sa=X&amp;ved=2ahUKEwjIhq2b0oH8AhVqnuAKHUYGD6sQ1QJ6BAgGEAw\">\n",
      "        <accordion-entry-search-icon>\n",
      "         <span class=\"ieB2Dd S003Ke ZoN4Lb z1asCe MZy1Rb\" style=\"height:20px;line-height:20px;width:20px\">\n",
      "          <svg focusable=\"false\" viewbox=\"0 0 24 24\" xmlns=\"http://www.w3.org/2000/svg\">\n",
      "           <path d=\"M15.5 14h-.79l-.28-.27A6.471 6.471 0 0 0 16 9.5 6.5 6.5 0 1 0 9.5 16c1.61 0 3.09-.59 4.23-1.57l.27.28v.79l5 4.99L20.49 19l-4.99-5zm-6 0C7.01 14 5 11.99 5 9.5S7.01 5 9.5 5 14 7.01 14 9.5 11.99 14 9.5 14z\">\n",
      "           </path>\n",
      "          </svg>\n",
      "         </span>\n",
      "        </accordion-entry-search-icon>\n",
      "        <div class=\"kjGX2\">\n",
      "         <span>\n",
      "          <div class=\"BNeawe s3v9rd AP7Wnd lRVwie\">\n",
      "           Jacobs Engineering staff directory\n",
      "          </div>\n",
      "         </span>\n",
      "        </div>\n",
      "       </a>\n",
      "      </div>\n",
      "     </div>\n",
      "     <div class=\"x54gtf\">\n",
      "     </div>\n",
      "     <div>\n",
      "      <div class=\"gGQDvd iIWm4b\">\n",
      "       <a class=\"Q71vJc\" href=\"/search?q=Jacobs+Construction&amp;sa=X&amp;ved=2ahUKEwjIhq2b0oH8AhVqnuAKHUYGD6sQ1QJ6BAgGEA4\">\n",
      "        <accordion-entry-search-icon>\n",
      "         <span class=\"ieB2Dd S003Ke ZoN4Lb z1asCe MZy1Rb\" style=\"height:20px;line-height:20px;width:20px\">\n",
      "          <svg focusable=\"false\" viewbox=\"0 0 24 24\" xmlns=\"http://www.w3.org/2000/svg\">\n",
      "           <path d=\"M15.5 14h-.79l-.28-.27A6.471 6.471 0 0 0 16 9.5 6.5 6.5 0 1 0 9.5 16c1.61 0 3.09-.59 4.23-1.57l.27.28v.79l5 4.99L20.49 19l-4.99-5zm-6 0C7.01 14 5 11.99 5 9.5S7.01 5 9.5 5 14 7.01 14 9.5 11.99 14 9.5 14z\">\n",
      "           </path>\n",
      "          </svg>\n",
      "         </span>\n",
      "        </accordion-entry-search-icon>\n",
      "        <div class=\"kjGX2\">\n",
      "         <span>\n",
      "          <div class=\"BNeawe s3v9rd AP7Wnd lRVwie\">\n",
      "           Jacobs Construction\n",
      "          </div>\n",
      "         </span>\n",
      "        </div>\n",
      "       </a>\n",
      "      </div>\n",
      "     </div>\n",
      "     <div class=\"x54gtf\">\n",
      "     </div>\n",
      "     <div>\n",
      "      <div class=\"gGQDvd iIWm4b\">\n",
      "       <a class=\"Q71vJc\" href=\"/search?q=Jacobs+LinkedIn&amp;sa=X&amp;ved=2ahUKEwjIhq2b0oH8AhVqnuAKHUYGD6sQ1QJ6BAgGEBA\">\n",
      "        <accordion-entry-search-icon>\n",
      "         <span class=\"ieB2Dd S003Ke ZoN4Lb z1asCe MZy1Rb\" style=\"height:20px;line-height:20px;width:20px\">\n",
      "          <svg focusable=\"false\" viewbox=\"0 0 24 24\" xmlns=\"http://www.w3.org/2000/svg\">\n",
      "           <path d=\"M15.5 14h-.79l-.28-.27A6.471 6.471 0 0 0 16 9.5 6.5 6.5 0 1 0 9.5 16c1.61 0 3.09-.59 4.23-1.57l.27.28v.79l5 4.99L20.49 19l-4.99-5zm-6 0C7.01 14 5 11.99 5 9.5S7.01 5 9.5 5 14 7.01 14 9.5 11.99 14 9.5 14z\">\n",
      "           </path>\n",
      "          </svg>\n",
      "         </span>\n",
      "        </accordion-entry-search-icon>\n",
      "        <div class=\"kjGX2\">\n",
      "         <span>\n",
      "          <div class=\"BNeawe s3v9rd AP7Wnd lRVwie\">\n",
      "           Jacobs LinkedIn\n",
      "          </div>\n",
      "         </span>\n",
      "        </div>\n",
      "       </a>\n",
      "      </div>\n",
      "     </div>\n",
      "    </div>\n",
      "   </div>\n",
      "   <footer>\n",
      "    <div>\n",
      "     <div class=\"Gx5Zad xpd EtOod pkphOe BmP5tf\">\n",
      "      <div class=\"nMymef MUxGbd lyLwlc\">\n",
      "       <a aria-label=\"Next page\" class=\"nBDE1b G5eFlf\" href=\"/search?q=jacobs+Atlanta,+GA/&amp;ei=tzqeY4jPAeq8ggfGjLzYCg&amp;start=10&amp;sa=N\">\n",
      "        Next &gt;\n",
      "       </a>\n",
      "      </div>\n",
      "     </div>\n",
      "    </div>\n",
      "    <div id=\"EOlPnc\">\n",
      "     <div class=\"Srfpq\">\n",
      "      <div>\n",
      "       <span class=\"EYqSq unknown_loc\">\n",
      "       </span>\n",
      "       <span class=\"dfB0uf\">\n",
      "        Dacula, Georgia\n",
      "       </span>\n",
      "      </div>\n",
      "      <span>\n",
      "       From your IP address\n",
      "      </span>\n",
      "      <span>\n",
      "       -\n",
      "      </span>\n",
      "      <a href=\"/url?url=https://support.google.com/websearch%3Fp%3Dws_settings_location%26hl%3Den&amp;rct=j&amp;q=&amp;esrc=s&amp;sa=U&amp;ved=0ahUKEwjIhq2b0oH8AhVqnuAKHUYGD6sQty4IeA&amp;usg=AOvVaw26vtXYr9HHbTvCAgoGDt2v\">\n",
      "       Learn more\n",
      "      </a>\n",
      "     </div>\n",
      "     <div>\n",
      "      <a href=\"/url?url=https://accounts.google.com/ServiceLogin%3Fcontinue%3Dhttps://www.google.com/search%253Fq%253Djacobs%252BAtlanta,%252BGA/%26hl%3Den&amp;rct=j&amp;q=&amp;esrc=s&amp;sa=U&amp;ved=0ahUKEwjIhq2b0oH8AhVqnuAKHUYGD6sQxs8CCHk&amp;usg=AOvVaw0p6fJ5gP-dbKKfIb-D4oZo\">\n",
      "       Sign in\n",
      "      </a>\n",
      "     </div>\n",
      "     <div>\n",
      "      <a class=\"xeDNfc\" href=\"https://www.google.com/preferences?hl=en&amp;fg=1&amp;sa=X&amp;ved=0ahUKEwjIhq2b0oH8AhVqnuAKHUYGD6sQ5fUCCHo\">\n",
      "       Settings\n",
      "      </a>\n",
      "      <a class=\"xeDNfc\" href=\"https://policies.google.com/privacy?hl=en&amp;fg=1\">\n",
      "       Privacy\n",
      "      </a>\n",
      "      <a class=\"xeDNfc\" href=\"https://policies.google.com/terms?hl=en&amp;fg=1\">\n",
      "       Terms\n",
      "      </a>\n",
      "     </div>\n",
      "    </div>\n",
      "   </footer>\n",
      "   <script nonce=\"96pBe-6AE4roTgabJvBJqA\">\n",
      "    (function(){var hl='en';(function(){\n",
      "var f=this||self,g=function(a){return a};var h,k=function(){if(void 0===h){var a=null,b=f.trustedTypes;if(b&&b.createPolicy){try{a=b.createPolicy(\"goog#html\",{createHTML:g,createScript:g,createScriptURL:g})}catch(c){f.console&&f.console.error(c.message)}h=a}else h=a}return h};var p=function(a,b){this.h=a===l&&b||\"\";this.g=m},q=function(a){return a instanceof p&&a.constructor===p&&a.g===m?a.h:\"type_error:Const\"},m={},l={};var t=function(a,b){this.g=b===r?a:\"\"};t.prototype.toString=function(){return this.g+\"\"};var u=function(a){return a instanceof t&&a.constructor===t?a.g:\"type_error:TrustedResourceUrl\"},y=function(){var a={},b=q(new p(l,\"/complete/search\"));if(!v.test(b))throw Error(\"a`\"+b);var c=b.replace(w,function(e,d){if(!Object.prototype.hasOwnProperty.call(a,d))throw Error(\"b`\"+d+\"`\"+b+\"`\"+JSON.stringify(a));e=a[d];return e instanceof p?q(e):encodeURIComponent(String(e))});return x(c)},w=/%{(\\w+)}/g,v=RegExp(\"^((https:)?//[0-9a-z.:[\\\\]-]+/|/[^/\\\\\\\\]|[^:/\\\\\\\\%]+/|[^:/\\\\\\\\%]*[?#]|about:blank#)\",\"i\"),z=/^([^?#]*)(\\?[^#]*)?(#[\\s\\S]*)?/,r={},x=function(a){var b=k();a=b?b.createScriptURL(a):a;return new t(a,r)},A=function(a,b,c){if(null==c)return b;if(\"string\"===typeof c)return c?a+encodeURIComponent(c):\"\";for(var e in c)if(Object.prototype.hasOwnProperty.call(c,e)){var d=c[e];d=Array.isArray(d)?d:[d];for(var n=0;n<d.length;n++){var P=d[n];null!=P&&(b||(b=a),b+=(b.length>a.length?\"&\":\"\")+encodeURIComponent(e)+\"=\"+encodeURIComponent(String(P)))}}return b};var B={},C=function(a,b){this.g=b===B?a:\"\"};C.prototype.toString=function(){return this.g.toString()};var D=function(a){var b=k();a=b?b.createHTML(a):a;return new C(a,B)};\n",
      "function E(a,b){if(void 0!==a.tagName){if(\"script\"===a.tagName.toLowerCase())throw Error(\"c\");if(\"style\"===a.tagName.toLowerCase())throw Error(\"d\");}a.innerHTML=b instanceof C&&b.constructor===C?b.g:\"type_error:SafeHtml\"};var F=document.querySelector(\".l\"),G=document.querySelector(\"#sf\"),H=G.querySelector(\".sbc\"),I=G.querySelector(\"[type=text]\"),J=G.querySelector(\"[type=submit]\"),K=G.querySelector(\".sc\"),L=G.querySelector(\".x\"),M=I.value,N=[],O=-1,Q=M,R,S,T;M||(L&&(L.style.display=\"none\"),U(!1));function U(a){if(H.classList.contains(\"esbc\")){var b=H.classList.contains(\"chsbc\"),c=H.classList.contains(\"rtlsbc\");a&&(K.style.display=\"block\",b?(G.style.borderRadius=\"20px 20px 0 0\",K.style.borderBottom=\"1px solid #DFE1E5\",J.style.borderRadius=c?\"20px 0 0 0\":\"0 20px 0 0\"):H.style.borderRadius=c?\"0 8px 0 0\":\"8px 0 0 0\");a||(K.style.display=\"none\",b?(G.style.borderRadius=\"20px\",K.style.borderBottom=\"none\",J.style.borderRadius=c?\"20px 0 0 20px\":\"0 20px 20px 0\"):H.style.borderRadius=c?\"0 8px 8px 0\":\"8px 0 0 8px\")}}function V(){G.querySelector(\"[name=oq]\").value=Q;G.querySelector(\"[name=aqs]\").value=\"heirloom-srp.\"+(0<=O?O:\"\")+\".\"+(0<N.length?\"0l\"+N.length:\"\")}\n",
      "function W(){R=null;if(S){var a={client:\"heirloom-srp\",hl:hl,json:\"t\",callback:\"hS\",q:S};\"undefined\"!==typeof ds&&ds&&(a.ds=ds);var b=document;var c=\"SCRIPT\";\"application/xhtml+xml\"===b.contentType&&(c=c.toLowerCase());c=b.createElement(c);b=y();b=z.exec(u(b).toString());var e=b[3]||\"\";a=x(b[1]+A(\"?\",b[2]||\"\",a)+A(\"#\",e));c.src=u(a);var d,n;(d=(a=null==(n=(d=(c.ownerDocument&&c.ownerDocument.defaultView||window).document).querySelector)?void 0:n.call(d,\"script[nonce]\"))?a.nonce||a.getAttribute(\"nonce\")||\n",
      "\"\":\"\")&&c.setAttribute(\"nonce\",d);document.body.appendChild(c);S=null;R=setTimeout(W,500)}}function X(){for(;K.firstChild;)K.removeChild(K.firstChild);N=[];O=-1;U(!1)}function Y(){var a=K.querySelector(\".scs\");a&&(a.className=\"\");0<=O?(a=K.childNodes[O],a.className=\"scs\",M=a.textContent):M=Q;I.value=M}I.addEventListener(\"focus\",function(){F&&(F.style.display=\"none\")},!1);I.addEventListener(\"blur\",function(){X();F&&(F.style.display=\"\")},!1);I.addEventListener(\"keyup\",function(a){M=I.value;T=!1;13===a.which?V():27===a.which?(X(),F&&(F.style.display=\"\"),M=Q,I.value=M):40===a.which?(O++,O>=N.length&&(O=-1),Y()):38===a.which?(O--,-1>O&&(O=N.length-1),Y()):(a=M)?(L&&(L.style.display=\"\"),S=a,R||W(),Q=a):(L&&(L.style.display=\"none\"),U(!1),X(),Q=\"\",T=!0)},!1);J.addEventListener(\"click\",V,!1);L.addEventListener(\"click\",function(){I.value=\"\";L.style.display=\"none\";U(!1)},!1);H.addEventListener(\"click\",function(){I.focus()},!1);window.hS=function(a){if(!T){X();0===a[1].length&&U(!1);for(var b=0;b<a[1].length;b++){var c=a[1][b][0],e=document.createElement(\"div\");E(e,D(c));e.addEventListener(\"mousedown\",function(d){d.preventDefault();return!1},!1);c=c.replace(/<\\/?b>/g,\"\");e.addEventListener(\"click\",function(d){return function(){O=d;V();Y();X();G.submit()}}(b),!1);e.addEventListener(\"mouseover\",function(d){return function(){O!==d&&(O=d,Y())}}(b),!1);K.appendChild(e);U(!0);N.push(c)}}};}).call(this);})();(function(){function b(a){for(a=a.target||a.srcElement;a&&\"A\"!==a.nodeName;)a=a.parentElement;a&&(a.href||\"\").match(/\\/search.*[?&]tbm=isch/)&&(a.href+=\"&biw=\"+document.documentElement.clientWidth,a.href+=\"&bih=\"+document.documentElement.clientHeight)}document.addEventListener(\"click\",b,!1);document.addEventListener(\"touchStart\",b,!1);}).call(this);\n",
      "   </script>\n",
      "  </div>\n",
      "  <!-- cctlcm 5 cctlcm -->\n",
      "  <textarea class=\"csi\" name=\"csi\" style=\"display:none\"></textarea>\n",
      "  <script nonce=\"96pBe-6AE4roTgabJvBJqA\">\n",
      "   (function(){var e='tzqeY4jPAeq8ggfGjLzYCg';var sn='web';var timl=false;var gecoh=true;var fil=true;(function(){function B(a){var b=gecoh;if(!a||C(a))return 0;if(!a.getBoundingClientRect)return 1;var c=function(d){return d.getBoundingClientRect()};return D(a,c,b)?0:J(a,c)}function D(a,b,c){a:{for(var d=a;d&&null!==d;d=d.parentElement)if(\"hidden\"===d.style.overflow||c&&\"G-EXPANDABLE-CONTENT\"===d.tagName&&\"hidden\"===getComputedStyle(d).getPropertyValue(\"overflow\")){c=d;break a}c=null}if(!c)return!1;a=b(a);b=b(c);return a.bottom<b.top||a.top>=b.bottom||a.right<b.left||a.left>=b.right}\n",
      "function C(a){return\"none\"===a.style.display?!0:document.defaultView&&document.defaultView.getComputedStyle?(a=document.defaultView.getComputedStyle(a),!!a&&(\"hidden\"===a.visibility||\"0px\"===a.height&&\"0px\"===a.width)):!1}\n",
      "function J(a,b){var c=b(a);a=c.left+window.pageXOffset;b=c.top+window.pageYOffset;var d=c.width;c=c.height;var g=0;if(0>=c&&0>=d)return g;var q=window.innerHeight||document.documentElement.clientHeight;0>b+c?g=2:b>=q&&(g=4);if(0>a+d||a>=(window.innerWidth||document.documentElement.clientWidth))g|=8;g||(g=1,b+c>q&&(g|=4));return g};var K=e,L=sn,M=\"undefined\"===typeof de?!0:!1!==de,N=[],O=\"undefined\"!==typeof fil?fil:!1;function P(a,b,c){a=\"/gen_204?atyp=csi&s=\"+L+\"&t=\"+a+(\"&lite=1&ei=\"+K+\"&conn=\"+(window.navigator&&window.navigator.connection?window.navigator.connection.type:-1)+b);b=\"&rt=\";for(var d in c)a+=\"\"+b+d+\".\"+c[d],b=\",\";return a}function Q(a){a={prt:a};window.wsrt&&(a.wsrt=window.wsrt);return a}function R(a){window.ping?window.ping(a):(new Image).src=a}\n",
      "(function(){for(var a=(new Date).getTime()-window.start,b=Q(a),c=0,d=0,g=0,q=document.getElementsByTagName(\"img\"),r=M?\"&biw=\"+window.innerWidth+\"&bih=\"+window.innerHeight:\"\",E=function(){r+=\"&ima=\"+g;b.aft=c;R(P(\"aft\",r,b))},x=0,S=function(h,t,u){var n=h.src;h.onload=function(){u&&n&&n===h.src||(d=(new Date).getTime()-window.start,t&&++x===g&&(c=d,E()),h.onload=null)}},T=0,f=void 0;f=q[T++];){var v=B(f),p=!!(v&1);p&&++g;var l=f.hasAttribute(\"data-ilite\"),w=f.hasAttribute(\"data-deferred\"),F=f.hasAttribute(\"data-src\")||\n",
      "f.hasAttribute(\"data-lzysrc\"),y=!w&&!l&&F;N.push([v,w||l,y,!!(google.ldi&&f.id&&google.ldi[f.id])||l&&F]);l=(v=f.complete&&!w&&!(p&&y))&&Number(f.getAttribute(\"data-iml\"))||0;v&&l?(p&&++x,l&&(f=l-window.start,p&&(c=Math.max(c,f)),d=Math.max(d,f))):S(f,p,O&&(w||y))}c||(c=a);d||(d=c);x===g&&E();google.rglh&&google.rglh();window.addEventListener(\"load\",function(){window.setTimeout(function(){b.ol=(new Date).getTime()-window.start;timl&&(b.iml=d);var h=window.performance&&window.performance.timing;h&&\n",
      "(b.rqst=h.responseEnd-h.requestStart,b.rspt=h.responseEnd-h.responseStart);for(var t=h=0,u=0,n=0,G=0,H=0,U=0,k;k=N[U++];){var m=k[0],z=k[1],I=k[2];k=k[3];var V=0==m,W=m&8,A=m&1;m=!A&&m&4;A&&(z&&!k||++u,I&&++H);z&&(A&&k&&++h,m&&!k&&++t);V||W?I||++G:z||++n}r+=\"&ime=\"+u+\"&imel=\"+H+(\"&imex=\"+n+\"&imeh=\"+G)+(\"&imea=\"+h+\"&imeb=\"+t);R(P(\"all\",r,b))},0)},!1)})();}).call(this);})();\n",
      "  </script>\n",
      "  <script nonce=\"96pBe-6AE4roTgabJvBJqA\">\n",
      "   window._setImagesSrc=function(e,f){function g(b){b.onerror=function(){b.style.display=\"none\"};b.setAttribute(\"data-deferred\",\"2\");b.src=f}for(var c=0;c<e.length;++c){var a=e[c],d=document.getElementById(a)||document.querySelector('img[data-iid=\"'+a+'\"]');d?(a=void 0,(null==(a=google.c)?0:a.setup)&&google.c.setup(d),g(d)):(google.iir=google.iir||{},google.iir[a]=f)}};\"undefined\"===typeof window.google&&(window.google={});\n",
      "  </script>\n",
      "  <script nonce=\"96pBe-6AE4roTgabJvBJqA\">\n",
      "   (function(){var s='data:image/jpeg;base64,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\\x3d';var i=['dimg_1'];_setImagesSrc(i,s);})();\n",
      "  </script>\n",
      "  <script nonce=\"96pBe-6AE4roTgabJvBJqA\">\n",
      "   (function(){var s='data:image/png;base64,iVBORw0KGgoAAAANSUhEUgAAADAAAAAwCAYAAABXAvmHAAABh0lEQVR4Ae2YhW3EQBQFr4xwFWHmsoLGMsLQQAoKw/HaESf7RWEYw+qf5Cc9oWHGuLu1KlWqFJ85P+lf9sz+sm+ubK+XAnO47KWDPQG/6CWjFvrJ9uVTG0tBOtEL8A0B/qEttRIrYTL2Hh5IqIFvvoNUI8HhgYR9scdVwoM2RUIFvE4JDq9fQk6E4IGEXBi98EBCMXyyySUUXfmajXMJ+eHINxuA/irgSoLDAwEu4QoeCACJhgwSS4Nf8szFYpwOoROUKSEw5IVd99JhApxDor4WJwP/OJg54Y+FEwHp0X8E7twJAHipZ27/PmBg7vMIFP8SY4Hk3IUAhpcG5vhPgdXoeYR8PolADnhp498rG8teZ9ru0ClegMPzKSiUIAIZ4dsAnklwAQ6/6KWTEJtL8HL4IiTaiuB5VoJ0ikgogOcSCuC5hAJ4HjlRwRJtuTAAQYEEgNckAeD1S3Tk8+yKk0sAeNUSCuD5YgCAVyvR/Aa+pQGerGwc2T7YPi4F5lQmSsWfqUqVKq82dBlrviGmWgAAAABJRU5ErkJggg\\x3d\\x3d';var i=['dimg_3'];_setImagesSrc(i,s);})();\n",
      "  </script>\n",
      "  <script nonce=\"96pBe-6AE4roTgabJvBJqA\">\n",
      "   (function(){var s='data:image/png;base64,iVBORw0KGgoAAAANSUhEUgAAADAAAAAwCAMAAABg3Am1AAABVlBMVEVChfRChfRChfRChfRChfRChfRChfRChfRChfRChfRChfRChfRChfRChfRChfRChfRChfRChfRChfRChfRChfRChfRChfRChfRChfRChfRChfRChfRChfRChfRChfRChfRChfRChfRChfRChfRChfRChfRChfRChfRChfRChfRChfRChfRChfRChfRChfRChfRChfRChfRChfRChfRChfRChfRChfRChfRChfRChfRChfRChfRChfRChfRChfRChfRChfRChfRChfRChfRChfRChfRChfRChfRChfRChfRChfRChfRChfRChfRChfRChfRChfRChfRChfRChfRChfRChfRChfRChfRChfRChfRChfRChfRChfRChfRChfRChfRChfRChfRChfRChfRChfRChfRChfRChfRChfRChfRChfRChfRChfRChfRChfRChfRChfRChfTpT98bAAAAcXRSTlMAAjl6rtTt+nk4Horl5IgdFpv5mBRd7lkFnQQKuGHZtfNy9ZyvK9smzljv7BP2lnMb2odk4gHoCfI2Tad4yGarMYA10hEV6+pP6TRlZ6aqdwto4YkG34Z19LF7+Br3LbIkM5PeKPC7VS+UswMMrWo6HJh0w+MAAAHlSURBVHhe3dBrU9NAAIXhE2iTchNIaltTlYpQVCoqUAuKVtraekcqoFi8gYqCt/3/N890MjvZzSb9zvvtzOyT2SzOZNbQcCptO46dTmVGrIFgdGxchJo4N5kIpqYdoeV62XhwPicM2XmYK1wQMXm+CRQvimiXLvfHTNHwfdP5Evwrs33hQ++qMDQHYL4smBf5X2EotwCWvSbYde09bxjuM8fzfVHmWqwoYFqoQWn+JsVSGIw6iQC3CNzbITAmkoF/h2IZMmt8AMAKwWpVziGhdVcHtTWKdTmH9fP3oHefYEOuFNeDAMDcQ4K6XGmuR5uJoEHQlMvmamEzCTwmaMvlcFmgiAcFAlcBBYBCrfNEAl8BNlcFBvE05kpprmcwiZifTnE9hxQm8EJ51gzXS0hhAq84tuQa4VqrSWEAr0scDQmsCc4VBJnANke3Ctkb7nIhHuzscuxBhkmH4m0w3olws/sLwHuO3gFCeQQfPqLfJ6GW+/zF5ThEuKxNcTQFhq/fNPG9y9FpQSkvWDMQ+yUR6RhanmC7P4IVAT+h588I1svsGMHJKSIVKdjR9q8oOKnBkO8FD/n7z1/tPqcwl18UhjrHiK2y5Oqgd9hCUv+WV8Ogu3eAQVnrG/Vm23XbzfpWo4qz2H/PsWmExFfJAQAAAABJRU5ErkJggg\\x3d\\x3d';var i=['dimg_5'];_setImagesSrc(i,s);})();\n",
      "  </script>\n",
      "  <script nonce=\"96pBe-6AE4roTgabJvBJqA\">\n",
      "   (function(){var e='tzqeY4jPAeq8ggfGjLzYCg';(function(){var a=e;2===(window.performance&&window.performance.navigation&&window.performance.navigation.type)&&window.ping(\"/gen_204?ct=backbutton&ei=\"+a);}).call(this);})();(function(){var b=[function(){google.tick&&google.tick(\"load\",\"dcl\")}];google.dclc=function(a){b.length?b.push(a):a()};function c(){for(var a=b.shift();a;)a(),a=b.shift()}window.addEventListener?(document.addEventListener(\"DOMContentLoaded\",c,!1),window.addEventListener(\"load\",c,!1)):window.attachEvent&&window.attachEvent(\"onload\",c);}).call(this);window.jsl=window.jsl||{};window.jsl.dh=function(a,b,f){try{var g=document.getElementById(a);if(g)g.innerHTML=b,f&&f();else{var c={id:a,script:String(!!f),milestone:String(google.jslm||0)};google.jsla&&(c.async=google.jsla);var h=a.indexOf(\"_\"),d=0<h?a.substring(0,h):\"\",k=document.createElement(\"div\");k.innerHTML=b;var e=k.children[0];if(e&&(c.tag=e.tagName,c[\"class\"]=String(e.className||null),c.name=String(e.getAttribute(\"jsname\")),d)){a=[];var l=document.querySelectorAll('[id^=\"'+d+'_\"]');for(b=0;b<l.length;++b)a.push(l[b].id);c.ids=a.join(\",\")}google.ml(Error(d?\"Missing ID with prefix \"+d:\"Missing ID\"),!1,c)}}catch(m){google.ml(m,!0,{\"jsl.dh\":!0})}};(function(){var x=false;google.jslm=x?2:1;})();(function(){(function(){google.csct={};google.csct.ps='AOvVaw3zIXnqkFUMxbFPu2yR1LQC\\x26ust\\x3d1671400503067526';})();})();(function(){(function(){google.csct.rd=true;})();})();(function(){(function(){google.csct.rw=true;})();})();(function(){(function(){google.csct.rl=true;})();})();(function(){window.xp=function(b){function f(k,g,h){return\"xp\"+(\"x\"==g?\"c\":\"x\")+h}for(var c=/\\bxp(x|c)(\\d?)\\b/,a=b;a;){var e=a.className,d=e.match(c);if(d){d=\"c\"==d[1];a.className=e.replace(c,f);b&&b.setAttribute(\"aria-expanded\",d);if(d)for(b=a.getElementsByTagName(\"img\"),c=0;c<b.length;++c)if(a=b[c],e=a.getAttribute(\"data-ll\"))a.src=e,a.removeAttribute(\"data-ll\");break}a=a.parentElement}};})();(function(){(function(){window.logVe=function(a){a&&a.attributes[\"data-ved\"]&&window.ping(\"/gen_204?ved=\"+a.attributes[\"data-ved\"].value)};}).call(this);})();(function(){(function(){var id='tsuid_1';var lve=true;(function(){\n",
      "var e=\"undefined\"!=typeof navigator&&!/Opera/.test(navigator.userAgent)&&/WebKit/.test(navigator.userAgent),f={A:1,INPUT:1,TEXTAREA:1,SELECT:1,BUTTON:1},g={Enter:13,\" \":32},h={A:13,BUTTON:0,CHECKBOX:32,COMBOBOX:13,FILE:0,GRIDCELL:13,LINK:13,LISTBOX:13,MENU:0,MENUBAR:0,MENUITEM:0,MENUITEMCHECKBOX:0,MENUITEMRADIO:0,OPTION:0,RADIO:32,RADIOGROUP:32,RESET:0,SUBMIT:0,SWITCH:32,TAB:0,TREE:13,TREEITEM:13},k={CHECKBOX:!0,FILE:!0,OPTION:!0,RADIO:!0},l={COLOR:!0,DATE:!0,DATETIME:!0,\"DATETIME-LOCAL\":!0,EMAIL:!0,MONTH:!0,NUMBER:!0,PASSWORD:!0,RANGE:!0,SEARCH:!0,TEL:!0,TEXT:!0,TEXTAREA:!0,TIME:!0,URL:!0,WEEK:!0};document.getElementById(id).onclick=function(){window.xp(this);lve&&window.logVe(this)};document.getElementById(id).onkeydown=function(d){var c=d.which||d.keyCode;!c&&d.key&&(c=g[d.key]);e&&3==c&&(c=13);if(13!=c&&32!=c)c=!1;else{var a=d.target||d.srcElement;!a.getAttribute&&a.parentNode&&(a=a.parentNode);var b;if(!(b=\"keydown\"!=d.type)){if(b=\"getAttribute\"in a)b=!((a.getAttribute(\"type\")||a.tagName).toUpperCase()in l);b=!(b&&!(\"BUTTON\"==a.tagName.toUpperCase()||a.type&&\"FILE\"==a.type.toUpperCase())&&!a.isContentEditable)}(b=b||d.ctrlKey||d.shiftKey||d.altKey||d.metaKey||(a.getAttribute(\"type\")||\n",
      "a.tagName).toUpperCase()in k&&32==c)||((b=a.tagName in f)||(b=a.getAttributeNode(\"tabindex\"),b=null!=b&&b.specified),b=!(b&&!a.disabled));if(b)c=!1;else{b=(a.getAttribute(\"role\")||a.type||a.tagName).toUpperCase();var m=!(b in h)&&13==c;a=\"INPUT\"!=a.tagName.toUpperCase()||!!a.type;c=(0==h[b]%c||m)&&a}}c&&(d.preventDefault(),window.xp(this),lve&&window.logVe(this))};}).call(this);})();})();(function(){window.jsl=window.jsl||{};window.jsl.dh=window.jsl.dh||function(i,c,d){try{var e=document.getElementById(i);if(e){e.innerHTML=c;if(d){d();}}else{if(window.jsl.el){window.jsl.el(new Error('Missing ID.'),{'id':i});}}}catch(e){if(window.jsl.el){window.jsl.el(new Error('jsl.dh'));}}};})();(function(){window.jsl.dh('accdef_1','\\x3cdiv\\x3e\\x3cdiv style\\x3d\\x22padding-bottom:12px;padding-top:0px\\x22 class\\x3d\\x22hwc kCrYT\\x22\\x3e\\x3cdiv class\\x3d\\x22yStFkb\\x22\\x3e\\x3cdiv class\\x3d\\x22Gx5Zad xpd EtOod pkphOe\\x22\\x3e\\x3cdiv class\\x3d\\x22kCrYT\\x22\\x3e\\x3cdiv\\x3e\\x3cdiv class\\x3d\\x22BNeawe s3v9rd AP7Wnd\\x22\\x3e\\x3cdiv\\x3e\\x3cdiv class\\x3d\\x22BNeawe s3v9rd AP7Wnd\\x22\\x3eWe \\x3cspan class\\x3d\\x22FCUp0c rQMQod\\x22\\x3edeliver impactful global solutions to create a more connected, sustainable world\\x3c/span\\x3e \\u2014 from intelligence to infrastructure, cybersecurity to space exploration. Our 52,000 employees across 50 countries work every day, challenging the expectations of today to reinvent the way we\\x27ll all live tomorrow.\\x3c/div\\x3e\\x3c/div\\x3e\\x3c/div\\x3e\\x3c/div\\x3e\\x3c/div\\x3e\\x3cdiv class\\x3d\\x22x54gtf\\x22\\x3e\\x3c/div\\x3e\\x3cdiv class\\x3d\\x22kCrYT\\x22\\x3e\\x3ca href\\x3d\\x22/url?esrc\\x3ds\\x26amp;q\\x3d\\x26amp;rct\\x3dj\\x26amp;sa\\x3dU\\x26amp;url\\x3dhttps://www.linkedin.com/company/jacobs\\x26amp;ved\\x3d2ahUKEwjIhq2b0oH8AhVqnuAKHUYGD6sQFnoECAUQBg\\x26amp;usg\\x3dAOvVaw0maSp1kNr5sQiA3mOT2iHQ\\x22\\x3e\\x3cspan\\x3e\\x3cdiv class\\x3d\\x22BNeawe vvjwJb AP7Wnd UwRFLe\\x22 style\\x3d\\x22-webkit-line-clamp:2\\x22\\x3e\\x3cspan class\\x3d\\x22rQMQod Xb5VRe\\x22\\x3eJacobs - LinkedIn\\x3c/span\\x3e\\x3c/div\\x3e\\x3c/span\\x3e\\x3cspan\\x3e\\x3cdiv class\\x3d\\x22BNeawe UPmit AP7Wnd UwRFLe\\x22 style\\x3d\\x22-webkit-line-clamp:2\\x22\\x3ewww.linkedin.com \\u203a company \\u203a jacobs\\x3c/div\\x3e\\x3c/span\\x3e\\x3c/a\\x3e\\x3c/div\\x3e\\x3c/div\\x3e\\x3c/div\\x3e\\x3cdiv\\x3e\\x3cdiv class\\x3d\\x22P1NWSe\\x22\\x3e\\x3cdiv class\\x3d\\x22wOMIed nkPlDb\\x22\\x3e\\x3cspan class\\x3d\\x22JhFlyf VQFmSd\\x22\\x3e\\x3ca class\\x3d\\x22f4J0H\\x22 href\\x3d\\x22https://www.google.com/search?ei\\x3dtzqeY4jPAeq8ggfGjLzYCg\\x26amp;q\\x3dWhat+does+the+company+Jacobs+do?\\x26amp;sa\\x3dX\\x26amp;ved\\x3d2ahUKEwjIhq2b0oH8AhVqnuAKHUYGD6sQzmd6BAgFEAc\\x22\\x3eMore results\\x3c/a\\x3e\\x3c/span\\x3e\\x3c/div\\x3e\\x3c/div\\x3e\\x3c/div\\x3e\\x3c/div\\x3e\\x3c/div\\x3e');})();(function(){(function(){var id='tsuid_2';var lve=true;(function(){\n",
      "var e=\"undefined\"!=typeof navigator&&!/Opera/.test(navigator.userAgent)&&/WebKit/.test(navigator.userAgent),f={A:1,INPUT:1,TEXTAREA:1,SELECT:1,BUTTON:1},g={Enter:13,\" \":32},h={A:13,BUTTON:0,CHECKBOX:32,COMBOBOX:13,FILE:0,GRIDCELL:13,LINK:13,LISTBOX:13,MENU:0,MENUBAR:0,MENUITEM:0,MENUITEMCHECKBOX:0,MENUITEMRADIO:0,OPTION:0,RADIO:32,RADIOGROUP:32,RESET:0,SUBMIT:0,SWITCH:32,TAB:0,TREE:13,TREEITEM:13},k={CHECKBOX:!0,FILE:!0,OPTION:!0,RADIO:!0},l={COLOR:!0,DATE:!0,DATETIME:!0,\"DATETIME-LOCAL\":!0,EMAIL:!0,MONTH:!0,NUMBER:!0,PASSWORD:!0,RANGE:!0,SEARCH:!0,TEL:!0,TEXT:!0,TEXTAREA:!0,TIME:!0,URL:!0,WEEK:!0};document.getElementById(id).onclick=function(){window.xp(this);lve&&window.logVe(this)};document.getElementById(id).onkeydown=function(d){var c=d.which||d.keyCode;!c&&d.key&&(c=g[d.key]);e&&3==c&&(c=13);if(13!=c&&32!=c)c=!1;else{var a=d.target||d.srcElement;!a.getAttribute&&a.parentNode&&(a=a.parentNode);var b;if(!(b=\"keydown\"!=d.type)){if(b=\"getAttribute\"in a)b=!((a.getAttribute(\"type\")||a.tagName).toUpperCase()in l);b=!(b&&!(\"BUTTON\"==a.tagName.toUpperCase()||a.type&&\"FILE\"==a.type.toUpperCase())&&!a.isContentEditable)}(b=b||d.ctrlKey||d.shiftKey||d.altKey||d.metaKey||(a.getAttribute(\"type\")||\n",
      "a.tagName).toUpperCase()in k&&32==c)||((b=a.tagName in f)||(b=a.getAttributeNode(\"tabindex\"),b=null!=b&&b.specified),b=!(b&&!a.disabled));if(b)c=!1;else{b=(a.getAttribute(\"role\")||a.type||a.tagName).toUpperCase();var m=!(b in h)&&13==c;a=\"INPUT\"!=a.tagName.toUpperCase()||!!a.type;c=(0==h[b]%c||m)&&a}}c&&(d.preventDefault(),window.xp(this),lve&&window.logVe(this))};}).call(this);})();})();(function(){window.jsl.dh('accdef_3','\\x3cdiv\\x3e\\x3cdiv style\\x3d\\x22padding-bottom:12px;padding-top:0px\\x22 class\\x3d\\x22hwc kCrYT\\x22\\x3e\\x3cdiv class\\x3d\\x22yStFkb\\x22\\x3e\\x3cdiv class\\x3d\\x22Gx5Zad xpd EtOod pkphOe\\x22\\x3e\\x3cdiv class\\x3d\\x22kCrYT\\x22\\x3e\\x3cdiv\\x3e\\x3cdiv class\\x3d\\x22BNeawe s3v9rd AP7Wnd\\x22\\x3e\\x3cdiv\\x3e\\x3cdiv class\\x3d\\x22BNeawe s3v9rd AP7Wnd\\x22\\x3eJacobs Reviews FAQs\\n\\n \\x3cspan class\\x3d\\x22FCUp0c rQMQod\\x22\\x3e81% of employees would recommend working at Jacobs to a friend\\x3c/span\\x3e and 74% have a positive outlook for the business.\\x3c/div\\x3e\\x3c/div\\x3e\\x3c/div\\x3e\\x3c/div\\x3e\\x3c/div\\x3e\\x3cdiv class\\x3d\\x22x54gtf\\x22\\x3e\\x3c/div\\x3e\\x3cdiv class\\x3d\\x22kCrYT\\x22\\x3e\\x3ca href\\x3d\\x22/url?esrc\\x3ds\\x26amp;q\\x3d\\x26amp;rct\\x3dj\\x26amp;sa\\x3dU\\x26amp;url\\x3dhttps://www.glassdoor.com/Reviews/Jacobs-Reviews-E913.htm\\x26amp;ved\\x3d2ahUKEwjIhq2b0oH8AhVqnuAKHUYGD6sQFnoECAUQDQ\\x26amp;usg\\x3dAOvVaw0M8-cpY-Ih2xiawoK1j2_n\\x22\\x3e\\x3cspan\\x3e\\x3cdiv class\\x3d\\x22BNeawe vvjwJb AP7Wnd UwRFLe\\x22 style\\x3d\\x22-webkit-line-clamp:2\\x22\\x3e\\x3cspan class\\x3d\\x22rQMQod Xb5VRe\\x22\\x3eJacobs Reviews | Glassdoor\\x3c/span\\x3e\\x3c/div\\x3e\\x3c/span\\x3e\\x3cspan\\x3e\\x3cdiv class\\x3d\\x22BNeawe UPmit AP7Wnd UwRFLe\\x22 style\\x3d\\x22-webkit-line-clamp:2\\x22\\x3ewww.glassdoor.com \\u203a Reviews \\u203a Jacobs-Reviews-E913\\x3c/div\\x3e\\x3c/span\\x3e\\x3c/a\\x3e\\x3c/div\\x3e\\x3c/div\\x3e\\x3c/div\\x3e\\x3cdiv\\x3e\\x3cdiv class\\x3d\\x22P1NWSe\\x22\\x3e\\x3cdiv class\\x3d\\x22wOMIed nkPlDb\\x22\\x3e\\x3cspan class\\x3d\\x22JhFlyf VQFmSd\\x22\\x3e\\x3ca class\\x3d\\x22f4J0H\\x22 href\\x3d\\x22https://www.google.com/search?ei\\x3dtzqeY4jPAeq8ggfGjLzYCg\\x26amp;q\\x3dHow+is+Jacobs+to+work+for?\\x26amp;sa\\x3dX\\x26amp;ved\\x3d2ahUKEwjIhq2b0oH8AhVqnuAKHUYGD6sQzmd6BAgFEA4\\x22\\x3eMore results\\x3c/a\\x3e\\x3c/span\\x3e\\x3c/div\\x3e\\x3c/div\\x3e\\x3c/div\\x3e\\x3c/div\\x3e\\x3c/div\\x3e');})();(function(){(function(){var id='tsuid_3';var lve=true;(function(){\n",
      "var e=\"undefined\"!=typeof navigator&&!/Opera/.test(navigator.userAgent)&&/WebKit/.test(navigator.userAgent),f={A:1,INPUT:1,TEXTAREA:1,SELECT:1,BUTTON:1},g={Enter:13,\" \":32},h={A:13,BUTTON:0,CHECKBOX:32,COMBOBOX:13,FILE:0,GRIDCELL:13,LINK:13,LISTBOX:13,MENU:0,MENUBAR:0,MENUITEM:0,MENUITEMCHECKBOX:0,MENUITEMRADIO:0,OPTION:0,RADIO:32,RADIOGROUP:32,RESET:0,SUBMIT:0,SWITCH:32,TAB:0,TREE:13,TREEITEM:13},k={CHECKBOX:!0,FILE:!0,OPTION:!0,RADIO:!0},l={COLOR:!0,DATE:!0,DATETIME:!0,\"DATETIME-LOCAL\":!0,EMAIL:!0,MONTH:!0,NUMBER:!0,PASSWORD:!0,RANGE:!0,SEARCH:!0,TEL:!0,TEXT:!0,TEXTAREA:!0,TIME:!0,URL:!0,WEEK:!0};document.getElementById(id).onclick=function(){window.xp(this);lve&&window.logVe(this)};document.getElementById(id).onkeydown=function(d){var c=d.which||d.keyCode;!c&&d.key&&(c=g[d.key]);e&&3==c&&(c=13);if(13!=c&&32!=c)c=!1;else{var a=d.target||d.srcElement;!a.getAttribute&&a.parentNode&&(a=a.parentNode);var b;if(!(b=\"keydown\"!=d.type)){if(b=\"getAttribute\"in a)b=!((a.getAttribute(\"type\")||a.tagName).toUpperCase()in l);b=!(b&&!(\"BUTTON\"==a.tagName.toUpperCase()||a.type&&\"FILE\"==a.type.toUpperCase())&&!a.isContentEditable)}(b=b||d.ctrlKey||d.shiftKey||d.altKey||d.metaKey||(a.getAttribute(\"type\")||\n",
      "a.tagName).toUpperCase()in k&&32==c)||((b=a.tagName in f)||(b=a.getAttributeNode(\"tabindex\"),b=null!=b&&b.specified),b=!(b&&!a.disabled));if(b)c=!1;else{b=(a.getAttribute(\"role\")||a.type||a.tagName).toUpperCase();var m=!(b in h)&&13==c;a=\"INPUT\"!=a.tagName.toUpperCase()||!!a.type;c=(0==h[b]%c||m)&&a}}c&&(d.preventDefault(),window.xp(this),lve&&window.logVe(this))};}).call(this);})();})();(function(){window.jsl.dh('accdef_5','\\x3cdiv\\x3e\\x3cdiv style\\x3d\\x22padding-bottom:12px;padding-top:0px\\x22 class\\x3d\\x22hwc kCrYT\\x22\\x3e\\x3cdiv class\\x3d\\x22yStFkb\\x22\\x3e\\x3cdiv class\\x3d\\x22Gx5Zad xpd EtOod pkphOe\\x22\\x3e\\x3cdiv\\x3e\\x3cdiv\\x3e\\x3cdiv\\x3e\\x3cdiv class\\x3d\\x22kCrYT\\x22\\x3e\\x3cdiv\\x3e\\x3cdiv\\x3e\\x3cdiv\\x3e\\x3cdiv class\\x3d\\x22BNeawe iBp4i AP7Wnd\\x22\\x3e\\x3cdiv\\x3e\\x3cdiv class\\x3d\\x22BNeawe iBp4i AP7Wnd\\x22\\x3eDallas, TX\\x3c/div\\x3e\\x3c/div\\x3e\\x3c/div\\x3e\\x3c/div\\x3e\\x3c/div\\x3e\\x3cdiv class\\x3d\\x22nXE3Ob\\x22\\x3e\\x3cspan\\x3e\\x3cdiv class\\x3d\\x22BNeawe uEec3 AP7Wnd\\x22\\x3e\\x3cspan class\\x3d\\x22r0bn4c rQMQod\\x22\\x3eJacobs Solutions\\x3c/span\\x3e / \\x3cspan class\\x3d\\x22FCUp0c rQMQod\\x22\\x3eHeadquarters\\x3c/span\\x3e\\x3c/div\\x3e\\x3c/span\\x3e\\x3c/div\\x3e\\x3c/div\\x3e\\x3c/div\\x3e\\x3c/div\\x3e\\x3c/div\\x3e\\x3c/div\\x3e\\x3c/div\\x3e\\x3c/div\\x3e\\x3cdiv\\x3e\\x3cdiv class\\x3d\\x22P1NWSe\\x22\\x3e\\x3cdiv class\\x3d\\x22wOMIed nkPlDb\\x22\\x3e\\x3cspan class\\x3d\\x22JhFlyf VQFmSd\\x22\\x3e\\x3ca class\\x3d\\x22f4J0H\\x22 href\\x3d\\x22https://www.google.com/search?ei\\x3dtzqeY4jPAeq8ggfGjLzYCg\\x26amp;q\\x3dWhere+is+Jacobs+Engineering+headquarters+located?\\x26amp;sa\\x3dX\\x26amp;ved\\x3d2ahUKEwjIhq2b0oH8AhVqnuAKHUYGD6sQzmd6BAgFEBM\\x22\\x3eMore results\\x3c/a\\x3e\\x3c/span\\x3e\\x3c/div\\x3e\\x3c/div\\x3e\\x3c/div\\x3e\\x3c/div\\x3e\\x3c/div\\x3e');})();(function(){(function(){var id='tsuid_4';var lve=true;(function(){\n",
      "var e=\"undefined\"!=typeof navigator&&!/Opera/.test(navigator.userAgent)&&/WebKit/.test(navigator.userAgent),f={A:1,INPUT:1,TEXTAREA:1,SELECT:1,BUTTON:1},g={Enter:13,\" \":32},h={A:13,BUTTON:0,CHECKBOX:32,COMBOBOX:13,FILE:0,GRIDCELL:13,LINK:13,LISTBOX:13,MENU:0,MENUBAR:0,MENUITEM:0,MENUITEMCHECKBOX:0,MENUITEMRADIO:0,OPTION:0,RADIO:32,RADIOGROUP:32,RESET:0,SUBMIT:0,SWITCH:32,TAB:0,TREE:13,TREEITEM:13},k={CHECKBOX:!0,FILE:!0,OPTION:!0,RADIO:!0},l={COLOR:!0,DATE:!0,DATETIME:!0,\"DATETIME-LOCAL\":!0,EMAIL:!0,MONTH:!0,NUMBER:!0,PASSWORD:!0,RANGE:!0,SEARCH:!0,TEL:!0,TEXT:!0,TEXTAREA:!0,TIME:!0,URL:!0,WEEK:!0};document.getElementById(id).onclick=function(){window.xp(this);lve&&window.logVe(this)};document.getElementById(id).onkeydown=function(d){var c=d.which||d.keyCode;!c&&d.key&&(c=g[d.key]);e&&3==c&&(c=13);if(13!=c&&32!=c)c=!1;else{var a=d.target||d.srcElement;!a.getAttribute&&a.parentNode&&(a=a.parentNode);var b;if(!(b=\"keydown\"!=d.type)){if(b=\"getAttribute\"in a)b=!((a.getAttribute(\"type\")||a.tagName).toUpperCase()in l);b=!(b&&!(\"BUTTON\"==a.tagName.toUpperCase()||a.type&&\"FILE\"==a.type.toUpperCase())&&!a.isContentEditable)}(b=b||d.ctrlKey||d.shiftKey||d.altKey||d.metaKey||(a.getAttribute(\"type\")||\n",
      "a.tagName).toUpperCase()in k&&32==c)||((b=a.tagName in f)||(b=a.getAttributeNode(\"tabindex\"),b=null!=b&&b.specified),b=!(b&&!a.disabled));if(b)c=!1;else{b=(a.getAttribute(\"role\")||a.type||a.tagName).toUpperCase();var m=!(b in h)&&13==c;a=\"INPUT\"!=a.tagName.toUpperCase()||!!a.type;c=(0==h[b]%c||m)&&a}}c&&(d.preventDefault(),window.xp(this),lve&&window.logVe(this))};}).call(this);})();})();(function(){window.jsl.dh('accdef_7','\\x3cdiv\\x3e\\x3cdiv style\\x3d\\x22padding-bottom:12px;padding-top:0px\\x22 class\\x3d\\x22hwc kCrYT\\x22\\x3e\\x3cdiv class\\x3d\\x22yStFkb\\x22\\x3e\\x3cdiv class\\x3d\\x22Gx5Zad xpd EtOod pkphOe\\x22\\x3e\\x3cdiv\\x3e\\x3cdiv class\\x3d\\x22kCrYT\\x22\\x3e\\x3ca href\\x3d\\x22/url?esrc\\x3ds\\x26amp;q\\x3d\\x26amp;rct\\x3dj\\x26amp;sa\\x3dU\\x26amp;url\\x3dhttps://money.cnn.com/magazines/fortune/fortune500/2012/snapshots/2742.html\\x26amp;ved\\x3d2ahUKEwjIhq2b0oH8AhVqnuAKHUYGD6sQFnoECAUQGA\\x26amp;usg\\x3dAOvVaw2hqaL-1tfRwXxgflspY0tl\\x22\\x3e\\x3cspan\\x3e\\x3cdiv class\\x3d\\x22BNeawe deIvCb AP7Wnd\\x22\\x3e1111 S. Arroyo Pkwy. What do you think about Jacobs Engineering Group?\\n...\\nOur annual ranking of America\\x27s largest corporations.\\x3c/div\\x3e\\x3c/span\\x3e\\x3c/a\\x3e\\x3c/div\\x3e\\x3cdiv class\\x3d\\x22CgE3Ac I9mEQ\\x22\\x3e\\x3ctable class\\x3d\\x22LnMnt\\x22\\x3e\\x3cthead\\x3e\\x3ctr\\x3e\\x3ctd class\\x3d\\x22IxZjcf sjsZvd OE1use\\x22\\x3e\\x3cdiv class\\x3d\\x22hfgVwf\\x22\\x3e\\x3cdiv class\\x3d\\x22BNeawe uEec3 AP7Wnd\\x22\\x3eRank # of Fortune 500 Companies\\x3c/div\\x3e\\x3c/div\\x3e\\x3c/td\\x3e\\x3ctd class\\x3d\\x22IxZjcf sjsZvd s5aIid OE1use\\x22\\x3e\\x3cdiv class\\x3d\\x22hfgVwf\\x22\\x3e\\x3cdiv class\\x3d\\x22BNeawe uEec3 AP7Wnd\\x22\\x3e\\x3c/div\\x3e\\x3c/div\\x3e\\x3c/td\\x3e\\x3c/tr\\x3e\\x3c/thead\\x3e\\x3ctbody\\x3e\\x3ctr\\x3e\\x3ctd class\\x3d\\x22sjsZvd OE1use\\x22\\x3e\\x3cdiv class\\x3d\\x22hfgVwf\\x22\\x3e\\x3cdiv class\\x3d\\x22BNeawe s3v9rd AP7Wnd\\x22\\x3eNew York\\x3c/div\\x3e\\x3c/div\\x3e\\x3c/td\\x3e\\x3ctd class\\x3d\\x22sjsZvd s5aIid OE1use\\x22\\x3e\\x3cdiv class\\x3d\\x22hfgVwf\\x22\\x3e\\x3cdiv class\\x3d\\x22BNeawe s3v9rd AP7Wnd\\x22\\x3e50\\x3c/div\\x3e\\x3c/div\\x3e\\x3c/td\\x3e\\x3c/tr\\x3e\\x3c/tbody\\x3e\\x3c/table\\x3e\\x3c/div\\x3e\\x3cdiv class\\x3d\\x22hwc\\x22\\x3e\\x3cdiv class\\x3d\\x22Q0HXG\\x22\\x3e\\x3c/div\\x3e\\x3cdiv class\\x3d\\x22kCrYT\\x22\\x3e\\x3ca href\\x3d\\x22/url?esrc\\x3ds\\x26amp;q\\x3d\\x26amp;rct\\x3dj\\x26amp;sa\\x3dU\\x26amp;url\\x3dhttps://money.cnn.com/magazines/fortune/fortune500/2012/snapshots/2742.html\\x26amp;ved\\x3d2ahUKEwjIhq2b0oH8AhVqnuAKHUYGD6sQFnoECAUQGg\\x26amp;usg\\x3dAOvVaw04pYzPKj8VYI5Bo-8ySt_K\\x22\\x3e\\x3cdiv\\x3e\\x3cspan\\x3e\\x3cdiv class\\x3d\\x22BNeawe vvjwJb AP7Wnd UwRFLe\\x22 style\\x3d\\x22-webkit-line-clamp:2\\x22\\x3e\\x3cspan class\\x3d\\x22rQMQod Xb5VRe\\x22\\x3eJacobs Engineering Group - Fortune 500 - JEC\\x3c/span\\x3e\\x3c/div\\x3e\\x3c/span\\x3e\\x3cspan\\x3e\\x3cdiv class\\x3d\\x22BNeawe UPmit AP7Wnd UwRFLe\\x22 style\\x3d\\x22-webkit-line-clamp:2\\x22\\x3emoney.cnn.com \\u203a magazines \\u203a fortune \\u203a fortune500 \\u203a snapshots\\x3c/div\\x3e\\x3c/span\\x3e\\x3c/div\\x3e\\x3c/a\\x3e\\x3c/div\\x3e\\x3c/div\\x3e\\x3c/div\\x3e\\x3c/div\\x3e\\x3c/div\\x3e\\x3cdiv\\x3e\\x3cdiv class\\x3d\\x22P1NWSe\\x22\\x3e\\x3cdiv class\\x3d\\x22wOMIed nkPlDb\\x22\\x3e\\x3cspan class\\x3d\\x22JhFlyf VQFmSd\\x22\\x3e\\x3ca class\\x3d\\x22f4J0H\\x22 href\\x3d\\x22https://www.google.com/search?ei\\x3dtzqeY4jPAeq8ggfGjLzYCg\\x26amp;q\\x3dIs+Jacobs+a+Fortune+500?\\x26amp;sa\\x3dX\\x26amp;ved\\x3d2ahUKEwjIhq2b0oH8AhVqnuAKHUYGD6sQzmd6BAgFEBs\\x22\\x3eMore results\\x3c/a\\x3e\\x3c/span\\x3e\\x3c/div\\x3e\\x3c/div\\x3e\\x3c/div\\x3e\\x3c/div\\x3e\\x3c/div\\x3e');})();google.drty&&google.drty(undefined,true);\n",
      "  </script>\n",
      " </body>\n",
      "</html>\n"
     ]
    }
   ],
   "source": [
    "user_agent = 'Mozilla/5.0 (Macintosh; Intel Mac OS X 10_12_1) AppleWebKit/602.2.14 (KHTML, like Gecko) Version/10.0.1 Safari/602.2.14'\n",
    "headers = {'User-Agent': user_agent,'Accept':'text/html,application/xhtml+xml,application/xml;q=0.9,image/webp,*/*;q=0.8'}\n",
    "target_address = comp_name_arr[0] + '+' + loc_arr[0]\n",
    "map_url = f'https://www.google.com/search?q={target_address}/'\n",
    "page = requests.get(map_url, headers=headers)\n",
    "soup = BeautifulSoup(page.text, 'html.parser')\n",
    "print(soup.prettify())\n",
    "map_results = soup.find(class_='BNeawe s3v9rd AP7Wnd')\n",
    "\n",
    "# print(map_results)"
   ]
  },
  {
   "cell_type": "markdown",
   "id": "a10f7e51",
   "metadata": {},
   "source": [
    "## Skip until alternate solution is implemented ie. upgrade api plan"
   ]
  },
  {
   "cell_type": "markdown",
   "id": "c265bc0b",
   "metadata": {},
   "source": [
    "## Create dashboard using streamlit"
   ]
  },
  {
   "cell_type": "code",
   "execution_count": 854,
   "id": "15ec2f74",
   "metadata": {},
   "outputs": [
    {
     "data": {
      "text/html": [
       "<div>\n",
       "<style scoped>\n",
       "    .dataframe tbody tr th:only-of-type {\n",
       "        vertical-align: middle;\n",
       "    }\n",
       "\n",
       "    .dataframe tbody tr th {\n",
       "        vertical-align: top;\n",
       "    }\n",
       "\n",
       "    .dataframe thead th {\n",
       "        text-align: right;\n",
       "    }\n",
       "</style>\n",
       "<table border=\"1\" class=\"dataframe\">\n",
       "  <thead>\n",
       "    <tr style=\"text-align: right;\">\n",
       "      <th></th>\n",
       "      <th>title</th>\n",
       "      <th>company_name</th>\n",
       "      <th>location</th>\n",
       "      <th>via</th>\n",
       "      <th>description</th>\n",
       "      <th>posted_by_day</th>\n",
       "      <th>inserted_at</th>\n",
       "      <th>work_from_home</th>\n",
       "      <th>salary</th>\n",
       "      <th>remote</th>\n",
       "    </tr>\n",
       "  </thead>\n",
       "  <tbody>\n",
       "    <tr>\n",
       "      <th>0</th>\n",
       "      <td>Jr Data Analyst</td>\n",
       "      <td>TechFetch.com - On Demand Tech Workforce hirin...</td>\n",
       "      <td>Atlanta, GA</td>\n",
       "      <td>via LinkedIn</td>\n",
       "      <td>\"ALL our jobs are US based and candidates must...</td>\n",
       "      <td>4</td>\n",
       "      <td>2022-12-17</td>\n",
       "      <td>NaN</td>\n",
       "      <td>NaN</td>\n",
       "      <td>No</td>\n",
       "    </tr>\n",
       "    <tr>\n",
       "      <th>1</th>\n",
       "      <td>Junior Data Analyst - REMOTE - US Citizenship ...</td>\n",
       "      <td>General Dynamics Information Technology</td>\n",
       "      <td>Atlanta, GA</td>\n",
       "      <td>via Monster</td>\n",
       "      <td>Type of Requisition: Regular\\n\\nClearance Leve...</td>\n",
       "      <td>4</td>\n",
       "      <td>2022-12-17</td>\n",
       "      <td>NaN</td>\n",
       "      <td>NaN</td>\n",
       "      <td>No</td>\n",
       "    </tr>\n",
       "    <tr>\n",
       "      <th>2</th>\n",
       "      <td>Junior Data Analyst (with Power Apps)</td>\n",
       "      <td>Jacobs</td>\n",
       "      <td>Atlanta, GA</td>\n",
       "      <td>via StartWire</td>\n",
       "      <td>We have more than 1800 colleagues in Poland, s...</td>\n",
       "      <td>4</td>\n",
       "      <td>2022-12-17</td>\n",
       "      <td>NaN</td>\n",
       "      <td>NaN</td>\n",
       "      <td>No</td>\n",
       "    </tr>\n",
       "    <tr>\n",
       "      <th>3</th>\n",
       "      <td>Data Analyst Entry Level (Bootcamp)</td>\n",
       "      <td>Helm360</td>\n",
       "      <td>Atlanta, GA</td>\n",
       "      <td>via Glassdoor</td>\n",
       "      <td>Responsibilities\\n• Interpret data, analyze re...</td>\n",
       "      <td>5</td>\n",
       "      <td>2022-12-17</td>\n",
       "      <td>NaN</td>\n",
       "      <td>NaN</td>\n",
       "      <td>No</td>\n",
       "    </tr>\n",
       "    <tr>\n",
       "      <th>4</th>\n",
       "      <td>Junior Data Analyst</td>\n",
       "      <td>Jobot</td>\n",
       "      <td>Atlanta, GA</td>\n",
       "      <td>via BeBee</td>\n",
       "      <td>Entry Level Data Analyst - hybrid This Jobot J...</td>\n",
       "      <td>5</td>\n",
       "      <td>2022-12-17</td>\n",
       "      <td>NaN</td>\n",
       "      <td>NaN</td>\n",
       "      <td>No</td>\n",
       "    </tr>\n",
       "    <tr>\n",
       "      <th>5</th>\n",
       "      <td>Jr Data Analyst- Entry level- local to Atlanta</td>\n",
       "      <td>Vaco Technology</td>\n",
       "      <td>Atlanta, GA</td>\n",
       "      <td>via Atlanta, GA - Geebo</td>\n",
       "      <td>Full Job Description\\n\\nResponsibilities...\\n•...</td>\n",
       "      <td>3</td>\n",
       "      <td>2022-12-17</td>\n",
       "      <td>NaN</td>\n",
       "      <td>20–28 an hour</td>\n",
       "      <td>No</td>\n",
       "    </tr>\n",
       "  </tbody>\n",
       "</table>\n",
       "</div>"
      ],
      "text/plain": [
       "                                               title  \\\n",
       "0                                    Jr Data Analyst   \n",
       "1  Junior Data Analyst - REMOTE - US Citizenship ...   \n",
       "2              Junior Data Analyst (with Power Apps)   \n",
       "3                Data Analyst Entry Level (Bootcamp)   \n",
       "4                                Junior Data Analyst   \n",
       "5     Jr Data Analyst- Entry level- local to Atlanta   \n",
       "\n",
       "                                        company_name     location  \\\n",
       "0  TechFetch.com - On Demand Tech Workforce hirin...  Atlanta, GA   \n",
       "1            General Dynamics Information Technology  Atlanta, GA   \n",
       "2                                             Jacobs  Atlanta, GA   \n",
       "3                                            Helm360  Atlanta, GA   \n",
       "4                                              Jobot  Atlanta, GA   \n",
       "5                                    Vaco Technology  Atlanta, GA   \n",
       "\n",
       "                       via                                        description  \\\n",
       "0             via LinkedIn  \"ALL our jobs are US based and candidates must...   \n",
       "1              via Monster  Type of Requisition: Regular\\n\\nClearance Leve...   \n",
       "2            via StartWire  We have more than 1800 colleagues in Poland, s...   \n",
       "3            via Glassdoor  Responsibilities\\n• Interpret data, analyze re...   \n",
       "4                via BeBee  Entry Level Data Analyst - hybrid This Jobot J...   \n",
       "5  via Atlanta, GA - Geebo  Full Job Description\\n\\nResponsibilities...\\n•...   \n",
       "\n",
       "   posted_by_day inserted_at  work_from_home         salary remote  \n",
       "0              4  2022-12-17             NaN            NaN     No  \n",
       "1              4  2022-12-17             NaN            NaN     No  \n",
       "2              4  2022-12-17             NaN            NaN     No  \n",
       "3              5  2022-12-17             NaN            NaN     No  \n",
       "4              5  2022-12-17             NaN            NaN     No  \n",
       "5              3  2022-12-17             NaN  20–28 an hour     No  "
      ]
     },
     "execution_count": 854,
     "metadata": {},
     "output_type": "execute_result"
    }
   ],
   "source": [
    "job_report"
   ]
  },
  {
   "cell_type": "code",
   "execution_count": 850,
   "id": "26b07708",
   "metadata": {},
   "outputs": [],
   "source": [
    "# use the same logic from original scrape of beg/end slice to filter down description into available salary data\n",
    "\n",
    "# clean salary after the above logic. If null then keep as null then exclude from chart data\n",
    "# as for data that is available, make logic to convert inot hourly + yearly. If range is provided then average them out "
   ]
  },
  {
   "cell_type": "markdown",
   "id": "aad4a7b6",
   "metadata": {},
   "source": [
    "## first version of conditional string cleaning for salary"
   ]
  },
  {
   "cell_type": "code",
   "execution_count": 309,
   "id": "87b1f290",
   "metadata": {},
   "outputs": [
    {
     "name": "stdout",
     "output_type": "stream",
     "text": [
      "['null', 'null', 'null', 'null', 'null', 'null', 'null', '$60,000.00 - $70,000.00 per year\\n\\nBenefits:\\n• Dent', '$50,000 - $60,000 per year A bit about us: For mor', '$50,000 - $60,000 per year A bit about us: For mor', '$50,000 - $60,000 per year A bit about us: For mor', '$20 to $28 per hour based on qualifications', '$67k -$80k per year.', '$67k -$80k per year.']\n"
     ]
    },
    {
     "data": {
      "text/plain": [
       "0                                                  null\n",
       "1                                                  null\n",
       "2                                                  null\n",
       "3                                                  null\n",
       "4                                                  null\n",
       "5                                                  null\n",
       "6                                                  null\n",
       "7     $60,000.00 - $70,000.00 per year\\n\\nBenefits:\\...\n",
       "8     $50,000 - $60,000 per year A bit about us: For...\n",
       "9     $50,000 - $60,000 per year A bit about us: For...\n",
       "10    $50,000 - $60,000 per year A bit about us: For...\n",
       "11          $20 to $28 per hour based on qualifications\n",
       "12                                 $67k -$80k per year.\n",
       "13                                 $67k -$80k per year.\n",
       "Name: raw_salary, dtype: object"
      ]
     },
     "execution_count": 309,
     "metadata": {},
     "output_type": "execute_result"
    }
   ],
   "source": [
    "# lowercase then find the index where salary is contained. -1 indicates no results\n",
    "find_salary = job_report['description'].str.lower().str.find('$')\n",
    "find_salary\n",
    "\n",
    "job_report['description'][3][1436:]\n",
    "\n",
    "# job_report['description'][i][find_salary:]\n",
    "\n",
    "# if year or hour..\n",
    "\n",
    "raw_salary_arr = []\n",
    "\n",
    "for i, v in enumerate(find_salary):\n",
    "    if v == -1:\n",
    "        raw_salary_arr.append('null')\n",
    "    if v != -1:\n",
    "         raw_salary_arr.append(job_report['description'][i][v:v+50])\n",
    "        \n",
    "print(raw_salary_arr)\n",
    "\n",
    "job_report['raw_salary'] = raw_salary_arr\n",
    "\n",
    "job_report['raw_salary']\n",
    "        "
   ]
  },
  {
   "cell_type": "code",
   "execution_count": null,
   "id": "29c7d0c6",
   "metadata": {},
   "outputs": [],
   "source": [
    "# if hour is in string, then find first $ +2 indices and second $ +2 ... add both of them then divide by 2 (average)\n",
    "# then multiply by 52 * 40\n",
    "\n",
    "# if year, remove all existing commas, find the first $ +5 indices and second $+5 indices... add both of them then divide by 2\n",
    "# forget hourly rate - just go for annual salary"
   ]
  },
  {
   "cell_type": "code",
   "execution_count": 327,
   "id": "70c01d60",
   "metadata": {},
   "outputs": [
    {
     "ename": "ValueError",
     "evalue": "invalid literal for int() with base 10: '67k -'",
     "output_type": "error",
     "traceback": [
      "\u001b[1;31m---------------------------------------------------------------------------\u001b[0m",
      "\u001b[1;31mValueError\u001b[0m                                Traceback (most recent call last)",
      "\u001b[1;32m~\\AppData\\Local\\Temp\\ipykernel_9268\\2982139735.py\u001b[0m in \u001b[0;36m<module>\u001b[1;34m\u001b[0m\n\u001b[0;32m     17\u001b[0m     \u001b[1;32mif\u001b[0m \u001b[0mv\u001b[0m \u001b[1;33m!=\u001b[0m \u001b[1;33m-\u001b[0m\u001b[1;36m1\u001b[0m \u001b[1;32mand\u001b[0m \u001b[0mper_year\u001b[0m \u001b[1;33m!=\u001b[0m \u001b[1;33m-\u001b[0m\u001b[1;36m1\u001b[0m\u001b[1;33m:\u001b[0m\u001b[1;33m\u001b[0m\u001b[1;33m\u001b[0m\u001b[0m\n\u001b[0;32m     18\u001b[0m \u001b[1;31m#         essentially, v = dollar_1\u001b[0m\u001b[1;33m\u001b[0m\u001b[1;33m\u001b[0m\u001b[0m\n\u001b[1;32m---> 19\u001b[1;33m         \u001b[0mbeg_sal\u001b[0m \u001b[1;33m=\u001b[0m \u001b[0mint\u001b[0m\u001b[1;33m(\u001b[0m\u001b[0msearch_des\u001b[0m\u001b[1;33m[\u001b[0m\u001b[0mi\u001b[0m\u001b[1;33m]\u001b[0m\u001b[1;33m[\u001b[0m\u001b[0mv\u001b[0m\u001b[1;33m:\u001b[0m\u001b[0mv\u001b[0m\u001b[1;33m+\u001b[0m\u001b[1;36m7\u001b[0m\u001b[1;33m]\u001b[0m\u001b[1;33m.\u001b[0m\u001b[0mreplace\u001b[0m\u001b[1;33m(\u001b[0m\u001b[1;34m'$'\u001b[0m\u001b[1;33m,\u001b[0m \u001b[1;34m''\u001b[0m\u001b[1;33m)\u001b[0m\u001b[1;33m.\u001b[0m\u001b[0mreplace\u001b[0m\u001b[1;33m(\u001b[0m\u001b[1;34m','\u001b[0m\u001b[1;33m,\u001b[0m\u001b[1;34m''\u001b[0m\u001b[1;33m)\u001b[0m\u001b[1;33m.\u001b[0m\u001b[0mstrip\u001b[0m\u001b[1;33m(\u001b[0m\u001b[1;33m)\u001b[0m\u001b[1;33m)\u001b[0m\u001b[1;33m\u001b[0m\u001b[1;33m\u001b[0m\u001b[0m\n\u001b[0m\u001b[0;32m     20\u001b[0m         \u001b[0mend_sal\u001b[0m \u001b[1;33m=\u001b[0m \u001b[0mint\u001b[0m\u001b[1;33m(\u001b[0m\u001b[0msearch_des\u001b[0m\u001b[1;33m[\u001b[0m\u001b[0mi\u001b[0m\u001b[1;33m]\u001b[0m\u001b[1;33m[\u001b[0m\u001b[0mdollar_2\u001b[0m\u001b[1;33m:\u001b[0m\u001b[1;33m(\u001b[0m\u001b[0mdollar_2\u001b[0m\u001b[1;33m+\u001b[0m\u001b[1;36m7\u001b[0m\u001b[1;33m)\u001b[0m\u001b[1;33m]\u001b[0m\u001b[1;33m.\u001b[0m\u001b[0mreplace\u001b[0m\u001b[1;33m(\u001b[0m\u001b[1;34m'$'\u001b[0m\u001b[1;33m,\u001b[0m \u001b[1;34m''\u001b[0m\u001b[1;33m)\u001b[0m\u001b[1;33m.\u001b[0m\u001b[0mreplace\u001b[0m\u001b[1;33m(\u001b[0m\u001b[1;34m','\u001b[0m\u001b[1;33m,\u001b[0m\u001b[1;34m''\u001b[0m\u001b[1;33m)\u001b[0m\u001b[1;33m.\u001b[0m\u001b[0mstrip\u001b[0m\u001b[1;33m(\u001b[0m\u001b[1;33m)\u001b[0m\u001b[1;33m)\u001b[0m\u001b[1;33m\u001b[0m\u001b[1;33m\u001b[0m\u001b[0m\n\u001b[0;32m     21\u001b[0m \u001b[1;31m#         get avg\u001b[0m\u001b[1;33m\u001b[0m\u001b[1;33m\u001b[0m\u001b[0m\n",
      "\u001b[1;31mValueError\u001b[0m: invalid literal for int() with base 10: '67k -'"
     ]
    }
   ],
   "source": [
    "raw_salary_arr = []\n",
    "\n",
    "for i, v in enumerate(find_salary):\n",
    "    search_des = job_report['description']\n",
    "    per_year = search_des[i].find('per year')\n",
    "    per_hour = search_des[i].find('per hour')\n",
    "    dollar_2 = search_des[i].rfind('$')\n",
    "    k_1 = search_des[i].find('k')\n",
    "    k_2 = search_des[i].rfind('k')\n",
    "    beg_d = job_report['description'][i].find('$')\n",
    "    end_d = job_report['description'][i].rfind('$')\n",
    "    beg_k = job_report['description'][i].find('k')\n",
    "    end_k = job_report['description'][i].rfind('k')\n",
    "#     print(i,v)\n",
    "#     v = -1 is if des does not have a '$' contained\n",
    "# salary range condition\n",
    "    if v != -1 and per_year != -1:\n",
    "#         essentially, v = dollar_1\n",
    "        beg_sal = int(search_des[i][v:v+7].replace('$', '').replace(',','').strip())\n",
    "        end_sal = int(search_des[i][dollar_2:(dollar_2+7)].replace('$', '').replace(',','').strip())\n",
    "#         get avg\n",
    "        avg_sal = int((end_sal + beg_sal) / 2)\n",
    "#         print(avg_sal)\n",
    "        raw_salary_arr.append(avg_sal)\n",
    "#         print(raw_salary_arr)\n",
    "# per hour condition\n",
    "    if v != -1 and per_hour != -1:\n",
    "        beg_hr = int(search_des[i][v:v+3].replace('$', '').strip())\n",
    "        end_hr = int(search_des[i][dollar_2:dollar_2+3].replace('$', '').strip())\n",
    "#         print(type(end_hr))\n",
    "        avg_hr = int((beg_hr + end_hr) / 2)\n",
    "#         print(avg_hr)\n",
    "# #         52 * 40 = 2080\n",
    "        conv_sal = int(avg_hr * 2080)\n",
    "#         print(conv_sal)\n",
    "        raw_salary_arr.append(conv_sal)\n",
    "#         print(raw_salary_arr)\n",
    "#     null/empty condition\n",
    "    if v == -1:\n",
    "        raw_salary_arr.append('null')\n",
    "#         print(i)\n",
    "#         print(raw_salary_arr)\n",
    "    if v!= -1 and per_year != -1 and k_1 != -1:\n",
    "#         beg_k = int(search_des[i]).find('k')\n",
    "#         first range\n",
    "        beg_sal_k_1 = search_des[i][beg_d: beg_d+7].lower().find('k')\n",
    "        post_beg_sal_k = search_des[i][beg_d: beg_d+7].lower()\n",
    "        post_beg_sal_k = int(post_beg_sal_k[1:3]) * 10000\n",
    "#         second range\n",
    "        end_sal_k_1 = search_des[i][end_d: end_d+7].lower().find('k')\n",
    "        post_end_sal_k = search_des[i][end_d: end_d+7].lower()\n",
    "        post_end_sal_k = int(post_end_sal_k[1:3]) * 10000\n",
    "        final_sal_k = int((post_beg_sal_k + post_end_sal_k) / 2)\n",
    "\n",
    "raw_salary_arr"
   ]
  },
  {
   "cell_type": "markdown",
   "id": "36d50e51",
   "metadata": {},
   "source": [
    "## Conditional code for above when description salary contains a 'K' as range"
   ]
  },
  {
   "cell_type": "code",
   "execution_count": 322,
   "id": "d12955fb",
   "metadata": {},
   "outputs": [
    {
     "data": {
      "text/plain": [
       "735000"
      ]
     },
     "execution_count": 322,
     "metadata": {},
     "output_type": "execute_result"
    }
   ],
   "source": [
    "beg_d = job_report['description'][i].find('$')\n",
    "end_d = job_report['description'][i].rfind('$')\n",
    "\n",
    "beg_k = job_report['description'][i].find('k')\n",
    "end_k = job_report['description'][i].rfind('k')\n",
    "\n",
    "\n",
    "beg_sal_k_1 = job_report['description'][12][beg_d: beg_d+7].lower().find('k')\n",
    "# beg_sal_k_1\n",
    "# contains a $ sign, which is sliced based on those indices, which then finds a k\n",
    "post_beg_sal_k = job_report['description'][12][beg_d: beg_d+7].lower()\n",
    "post_beg_sal_k = int(post_beg_sal_k[1:3]) * 10000\n",
    "post_beg_sal_k\n",
    "\n",
    "\n",
    "# # 3  -- if its not --1 then..\n",
    "end_sal_k_1 =job_report['description'][12][end_d: end_d+7].lower().find('k')\n",
    "# contains a k therefore not being -1 ?\n",
    "post_end_sal_k = job_report['description'][12][end_d: end_d+7].lower()\n",
    "# grab 2nd just numbers\n",
    "post_end_sal_k = int(post_end_sal_k[1:3]) * 10000\n",
    "post_end_sal_k\n",
    "# 3 as well\n",
    "\n",
    "# add them all up and average out\n",
    "final_sal_k = int((post_beg_sal_k + post_end_sal_k) / 2)\n",
    "final_sal_k\n",
    "# 15  22 -return the stack using $ similar to salary, then do it again with K"
   ]
  },
  {
   "cell_type": "markdown",
   "id": "54569550",
   "metadata": {},
   "source": [
    "## progress from before..."
   ]
  },
  {
   "cell_type": "code",
   "execution_count": 1117,
   "id": "7c7d7105",
   "metadata": {},
   "outputs": [
    {
     "data": {
      "text/html": [
       "<div>\n",
       "<style scoped>\n",
       "    .dataframe tbody tr th:only-of-type {\n",
       "        vertical-align: middle;\n",
       "    }\n",
       "\n",
       "    .dataframe tbody tr th {\n",
       "        vertical-align: top;\n",
       "    }\n",
       "\n",
       "    .dataframe thead th {\n",
       "        text-align: right;\n",
       "    }\n",
       "</style>\n",
       "<table border=\"1\" class=\"dataframe\">\n",
       "  <thead>\n",
       "    <tr style=\"text-align: right;\">\n",
       "      <th></th>\n",
       "      <th>title</th>\n",
       "      <th>company_name</th>\n",
       "      <th>location</th>\n",
       "      <th>via</th>\n",
       "      <th>description</th>\n",
       "      <th>posted_by_day</th>\n",
       "      <th>inserted_at</th>\n",
       "      <th>work_from_home</th>\n",
       "      <th>salary</th>\n",
       "      <th>remote</th>\n",
       "      <th>final_salary</th>\n",
       "    </tr>\n",
       "  </thead>\n",
       "  <tbody>\n",
       "    <tr>\n",
       "      <th>0</th>\n",
       "      <td>Jr Data Analyst</td>\n",
       "      <td>TechFetch.com - On Demand Tech Workforce hirin...</td>\n",
       "      <td>Atlanta, GA</td>\n",
       "      <td>via LinkedIn</td>\n",
       "      <td>\"ALL our jobs are US based and candidates must...</td>\n",
       "      <td>4</td>\n",
       "      <td>2022-12-17</td>\n",
       "      <td>NaN</td>\n",
       "      <td>NaN</td>\n",
       "      <td>No</td>\n",
       "      <td>null</td>\n",
       "    </tr>\n",
       "    <tr>\n",
       "      <th>1</th>\n",
       "      <td>Junior Data Analyst - REMOTE - US Citizenship ...</td>\n",
       "      <td>General Dynamics Information Technology</td>\n",
       "      <td>Atlanta, GA</td>\n",
       "      <td>via Monster</td>\n",
       "      <td>Type of Requisition: Regular\\n\\nClearance Leve...</td>\n",
       "      <td>4</td>\n",
       "      <td>2022-12-17</td>\n",
       "      <td>NaN</td>\n",
       "      <td>NaN</td>\n",
       "      <td>No</td>\n",
       "      <td>null</td>\n",
       "    </tr>\n",
       "    <tr>\n",
       "      <th>2</th>\n",
       "      <td>Junior Data Analyst (with Power Apps)</td>\n",
       "      <td>Jacobs</td>\n",
       "      <td>Atlanta, GA</td>\n",
       "      <td>via StartWire</td>\n",
       "      <td>We have more than 1800 colleagues in Poland, s...</td>\n",
       "      <td>4</td>\n",
       "      <td>2022-12-17</td>\n",
       "      <td>NaN</td>\n",
       "      <td>NaN</td>\n",
       "      <td>No</td>\n",
       "      <td>null</td>\n",
       "    </tr>\n",
       "    <tr>\n",
       "      <th>3</th>\n",
       "      <td>Data Analyst Entry Level (Bootcamp)</td>\n",
       "      <td>Helm360</td>\n",
       "      <td>Atlanta, GA</td>\n",
       "      <td>via Glassdoor</td>\n",
       "      <td>Responsibilities\\n• Interpret data, analyze re...</td>\n",
       "      <td>5</td>\n",
       "      <td>2022-12-17</td>\n",
       "      <td>NaN</td>\n",
       "      <td>NaN</td>\n",
       "      <td>No</td>\n",
       "      <td>65000</td>\n",
       "    </tr>\n",
       "    <tr>\n",
       "      <th>4</th>\n",
       "      <td>Junior Data Analyst</td>\n",
       "      <td>Jobot</td>\n",
       "      <td>Atlanta, GA</td>\n",
       "      <td>via BeBee</td>\n",
       "      <td>Entry Level Data Analyst - hybrid This Jobot J...</td>\n",
       "      <td>5</td>\n",
       "      <td>2022-12-17</td>\n",
       "      <td>NaN</td>\n",
       "      <td>NaN</td>\n",
       "      <td>No</td>\n",
       "      <td>55000</td>\n",
       "    </tr>\n",
       "    <tr>\n",
       "      <th>5</th>\n",
       "      <td>Jr Data Analyst- Entry level- local to Atlanta</td>\n",
       "      <td>Vaco Technology</td>\n",
       "      <td>Atlanta, GA</td>\n",
       "      <td>via Atlanta, GA - Geebo</td>\n",
       "      <td>Full Job Description\\n\\nResponsibilities...\\n•...</td>\n",
       "      <td>3</td>\n",
       "      <td>2022-12-17</td>\n",
       "      <td>NaN</td>\n",
       "      <td>20–28 an hour</td>\n",
       "      <td>No</td>\n",
       "      <td>49920</td>\n",
       "    </tr>\n",
       "  </tbody>\n",
       "</table>\n",
       "</div>"
      ],
      "text/plain": [
       "                                               title  \\\n",
       "0                                    Jr Data Analyst   \n",
       "1  Junior Data Analyst - REMOTE - US Citizenship ...   \n",
       "2              Junior Data Analyst (with Power Apps)   \n",
       "3                Data Analyst Entry Level (Bootcamp)   \n",
       "4                                Junior Data Analyst   \n",
       "5     Jr Data Analyst- Entry level- local to Atlanta   \n",
       "\n",
       "                                        company_name     location  \\\n",
       "0  TechFetch.com - On Demand Tech Workforce hirin...  Atlanta, GA   \n",
       "1            General Dynamics Information Technology  Atlanta, GA   \n",
       "2                                             Jacobs  Atlanta, GA   \n",
       "3                                            Helm360  Atlanta, GA   \n",
       "4                                              Jobot  Atlanta, GA   \n",
       "5                                    Vaco Technology  Atlanta, GA   \n",
       "\n",
       "                       via                                        description  \\\n",
       "0             via LinkedIn  \"ALL our jobs are US based and candidates must...   \n",
       "1              via Monster  Type of Requisition: Regular\\n\\nClearance Leve...   \n",
       "2            via StartWire  We have more than 1800 colleagues in Poland, s...   \n",
       "3            via Glassdoor  Responsibilities\\n• Interpret data, analyze re...   \n",
       "4                via BeBee  Entry Level Data Analyst - hybrid This Jobot J...   \n",
       "5  via Atlanta, GA - Geebo  Full Job Description\\n\\nResponsibilities...\\n•...   \n",
       "\n",
       "   posted_by_day inserted_at  work_from_home         salary remote  \\\n",
       "0              4  2022-12-17             NaN            NaN     No   \n",
       "1              4  2022-12-17             NaN            NaN     No   \n",
       "2              4  2022-12-17             NaN            NaN     No   \n",
       "3              5  2022-12-17             NaN            NaN     No   \n",
       "4              5  2022-12-17             NaN            NaN     No   \n",
       "5              3  2022-12-17             NaN  20–28 an hour     No   \n",
       "\n",
       "  final_salary  \n",
       "0         null  \n",
       "1         null  \n",
       "2         null  \n",
       "3        65000  \n",
       "4        55000  \n",
       "5        49920  "
      ]
     },
     "execution_count": 1117,
     "metadata": {},
     "output_type": "execute_result"
    }
   ],
   "source": [
    "job_report['final_salary'] = raw_salary_arr\n",
    "job_report.drop('raw_salary', axis=1)\n",
    "# add inplace later\n",
    "# remove description as well?\n",
    "# may need to account for edgecases in other data...."
   ]
  },
  {
   "cell_type": "code",
   "execution_count": 305,
   "id": "8af25aea",
   "metadata": {},
   "outputs": [
    {
     "data": {
      "text/plain": [
       "'ast tea'"
      ]
     },
     "execution_count": 305,
     "metadata": {},
     "output_type": "execute_result"
    }
   ],
   "source": [
    "job_report['description'][3][1444:1451].replace('$', '').replace(',', '')\n",
    "job_report['description'][3][1457:1464].replace('$', '').replace(',', '')\n",
    "# 1444, 1457 -- looks to be about +7 for indices (year)"
   ]
  },
  {
   "cell_type": "code",
   "execution_count": 306,
   "id": "c00b9942",
   "metadata": {},
   "outputs": [
    {
     "ename": "ValueError",
     "evalue": "invalid literal for int() with base 10: 'in scop'",
     "output_type": "error",
     "traceback": [
      "\u001b[1;31m---------------------------------------------------------------------------\u001b[0m",
      "\u001b[1;31mValueError\u001b[0m                                Traceback (most recent call last)",
      "\u001b[1;32m~\\AppData\\Local\\Temp\\ipykernel_9268\\3587367479.py\u001b[0m in \u001b[0;36m<module>\u001b[1;34m\u001b[0m\n\u001b[0;32m      1\u001b[0m \u001b[1;31m# test code to implement above\u001b[0m\u001b[1;33m\u001b[0m\u001b[1;33m\u001b[0m\u001b[0m\n\u001b[1;32m----> 2\u001b[1;33m \u001b[0mfirst_sal\u001b[0m \u001b[1;33m=\u001b[0m \u001b[0mint\u001b[0m\u001b[1;33m(\u001b[0m\u001b[0mjob_report\u001b[0m\u001b[1;33m[\u001b[0m\u001b[1;34m'description'\u001b[0m\u001b[1;33m]\u001b[0m\u001b[1;33m[\u001b[0m\u001b[1;36m3\u001b[0m\u001b[1;33m]\u001b[0m\u001b[1;33m[\u001b[0m\u001b[1;36m1444\u001b[0m\u001b[1;33m:\u001b[0m\u001b[1;36m1451\u001b[0m\u001b[1;33m]\u001b[0m\u001b[1;33m.\u001b[0m\u001b[0mreplace\u001b[0m\u001b[1;33m(\u001b[0m\u001b[1;34m'$'\u001b[0m\u001b[1;33m,\u001b[0m \u001b[1;34m''\u001b[0m\u001b[1;33m)\u001b[0m\u001b[1;33m.\u001b[0m\u001b[0mreplace\u001b[0m\u001b[1;33m(\u001b[0m\u001b[1;34m','\u001b[0m\u001b[1;33m,\u001b[0m \u001b[1;34m''\u001b[0m\u001b[1;33m)\u001b[0m\u001b[1;33m)\u001b[0m\u001b[1;33m\u001b[0m\u001b[1;33m\u001b[0m\u001b[0m\n\u001b[0m\u001b[0;32m      3\u001b[0m \u001b[0msecond_sal\u001b[0m \u001b[1;33m=\u001b[0m \u001b[0mint\u001b[0m\u001b[1;33m(\u001b[0m\u001b[0mjob_report\u001b[0m\u001b[1;33m[\u001b[0m\u001b[1;34m'description'\u001b[0m\u001b[1;33m]\u001b[0m\u001b[1;33m[\u001b[0m\u001b[1;36m3\u001b[0m\u001b[1;33m]\u001b[0m\u001b[1;33m[\u001b[0m\u001b[1;36m1457\u001b[0m\u001b[1;33m:\u001b[0m\u001b[1;36m1464\u001b[0m\u001b[1;33m]\u001b[0m\u001b[1;33m.\u001b[0m\u001b[0mreplace\u001b[0m\u001b[1;33m(\u001b[0m\u001b[1;34m'$'\u001b[0m\u001b[1;33m,\u001b[0m \u001b[1;34m''\u001b[0m\u001b[1;33m)\u001b[0m\u001b[1;33m.\u001b[0m\u001b[0mreplace\u001b[0m\u001b[1;33m(\u001b[0m\u001b[1;34m','\u001b[0m\u001b[1;33m,\u001b[0m \u001b[1;34m''\u001b[0m\u001b[1;33m)\u001b[0m\u001b[1;33m)\u001b[0m\u001b[1;33m\u001b[0m\u001b[1;33m\u001b[0m\u001b[0m\n\u001b[0;32m      4\u001b[0m \u001b[0mfinal_sal\u001b[0m \u001b[1;33m=\u001b[0m \u001b[0mint\u001b[0m\u001b[1;33m(\u001b[0m\u001b[1;33m(\u001b[0m\u001b[0msecond_sal\u001b[0m \u001b[1;33m+\u001b[0m \u001b[0mfirst_sal\u001b[0m\u001b[1;33m)\u001b[0m \u001b[1;33m/\u001b[0m \u001b[1;36m2\u001b[0m\u001b[1;33m)\u001b[0m\u001b[1;33m\u001b[0m\u001b[1;33m\u001b[0m\u001b[0m\n\u001b[0;32m      5\u001b[0m \u001b[1;33m\u001b[0m\u001b[0m\n",
      "\u001b[1;31mValueError\u001b[0m: invalid literal for int() with base 10: 'in scop'"
     ]
    }
   ],
   "source": [
    "# test code to implement above\n",
    "first_sal = int(job_report['description'][3][1444:1451].replace('$', '').replace(',', ''))\n",
    "second_sal = int(job_report['description'][3][1457:1464].replace('$', '').replace(',', ''))\n",
    "final_sal = int((second_sal + first_sal) / 2)\n",
    "\n",
    "print(final_sal)"
   ]
  },
  {
   "cell_type": "code",
   "execution_count": 307,
   "id": "a969efa3",
   "metadata": {},
   "outputs": [
    {
     "data": {
      "text/plain": [
       "' pr'"
      ]
     },
     "execution_count": 307,
     "metadata": {},
     "output_type": "execute_result"
    }
   ],
   "source": [
    "# job_report['description'][3].rfind('$')\n",
    "job_report['description'][5][1678:1681].replace('$', '')\n",
    "# 1678"
   ]
  },
  {
   "cell_type": "code",
   "execution_count": 308,
   "id": "e5b46869",
   "metadata": {},
   "outputs": [
    {
     "data": {
      "text/plain": [
       "'\"ALL our jobs are US based and candidates must be in the US with valid US Work Authorization. Please apply on our website directly.\" Duration: 12+ month Visa: Any except H1B and CPT Must go onsite from day 1 -Candidate must be based in EST zone. Must have a valid LinkedIn profileClient:\\n\\ncomcast Description:This individual is charged with creating and delivering actionable insights that influence... business decisions in the areas of strategy, business planning, competition, KPI development, and new/existing initiatives for analysis and operational optimization. In addition to the data and analysis collected and presented to the supported business, the expectation is for this individual to use statistical analyses to identify drivers and create strategic recommendations, presenting these to key partners. This position requires an individual who can integrate knowledge of business and functional priorities to act as a key contributor in a complex and crucial environment.Responsibilities:\\n• Conduct advanced analysis based on provided requirements, utilizing extremely large datasets and complex business requirements that typically involves multiple analytical techniques to drive meaningful change on KPIs and objectives established by the stakeholder. Assist to shape and providing additional valuemiddot;\\n\\nAssist management in shaping methodology and baselining, showing independence for projects that are a refresh or similar in scope to past'"
      ]
     },
     "execution_count": 308,
     "metadata": {},
     "output_type": "execute_result"
    }
   ],
   "source": [
    "job_report['description'][3][:dollar_2+3].replace('$', '').strip()"
   ]
  },
  {
   "cell_type": "markdown",
   "id": "fbcf0dc1",
   "metadata": {},
   "source": [
    "## rework salary as its too complicated"
   ]
  },
  {
   "cell_type": "code",
   "execution_count": 406,
   "id": "ecb2635a",
   "metadata": {},
   "outputs": [
    {
     "name": "stdout",
     "output_type": "stream",
     "text": [
      "0 null\n",
      "1 null\n",
      "2 null\n",
      "3 null\n",
      "4 null\n",
      "5 null\n",
      "6 null\n",
      "7 65000 salary with comma\n",
      "8 55000 salary with comma\n",
      "9 55000 salary with comma\n",
      "10 55000 salary with comma\n",
      "11 49920 this is per hr\n",
      "12 73500 salary with a k\n",
      "13 73500 salary with a k\n"
     ]
    }
   ],
   "source": [
    "# does it have a yearly rate? ($60,000 - $80,000 per year)\n",
    "# does it have a k? ($65k - $80k per year)\n",
    "# does it have an hourly rate ($23 -$25 per hour)\n",
    "# does it have a '$' -- use this is narrow down whether salary is mentioned in any form.\n",
    "\n",
    "# nested conditionals pattern\n",
    "# does it have a 'salary' and $ sign anywhere? it does? \n",
    "\n",
    "# priming the data\n",
    "# ok then look for the first occurrence of the $ and return the slice + x characters\n",
    "# do the same for the second occurrence of the $ \n",
    "# this will return the characters containing the first and second numerical ranges\n",
    "\n",
    "# does it have a per year?\n",
    "# does it have a 'k' within that? if it does, then return the sliced of beginning and end ranges + 3\n",
    "# replace the $ and k into '', use strip and turn it into an int which will then be combined / 2 for averages\n",
    "\n",
    "# did it not have a 'k'?(could also ask if it has a ',' within it) then return the ranges and do the same process\n",
    "\n",
    "# does it have a per hour?\n",
    "# similar process above\n",
    "\n",
    "# else\n",
    "# 'null'\n",
    "\n",
    "jb = job_report['description']\n",
    "\n",
    "for i, v in enumerate(job_report['description']):\n",
    "#     if it contains a $ and salary condition\n",
    "    if v.lower().find('$') != -1 and v.lower().find('salary') != -1:\n",
    "        if v.lower().find('per year'):\n",
    "#             variable to determine the first dollar sign and value within\n",
    "            ds_1 = v.lower().find('$')\n",
    "            ds_2 = v.lower().rfind('$')\n",
    "            ds_salary_1 = jb[i][ds_1:ds_1+7].lower()\n",
    "            ds_salary_2 = jb[i][ds_2:ds_2+7].lower()\n",
    "#             add int and add both 1 and 2 / 2 - but fix logic below first\n",
    "            if ds_salary_1.find(',') != -1:\n",
    "                comma_salary_1 = ds_salary_1.replace('$' , '').replace(',' , '')\n",
    "                comma_salary_2 = ds_salary_2.replace('$' , '').replace(',' , '')\n",
    "                comma_salary_new_1 = int(comma_salary_1)\n",
    "                comma_salary_new_2 = int(comma_salary_2)\n",
    "                avg_comma_salary = int((comma_salary_new_1 + comma_salary_new_2) / 2)\n",
    "                print(i, avg_comma_salary, 'salary with comma')\n",
    "            if ds_salary_1.find('k') != -1:\n",
    "                k_salary_1 = ds_salary_1.replace('$' , '').replace('k' , '')\n",
    "                k_salary_2 = ds_salary_2.replace('$' , '').replace('k' , '')\n",
    "#                 further slice the data\n",
    "                k_salary_new_1 = k_salary_1[0:2]\n",
    "                k_salary_new_2 = k_salary_2[0:2]\n",
    "#         add int and add both 1 and 2 /2 \n",
    "                int_k_salary_1 = int(k_salary_new_1)\n",
    "                int_k_salary_2 = int(k_salary_new_2)\n",
    "                avg_k_salary = int(((int_k_salary_1 + int_k_salary_2) / 2) * 1000)\n",
    "                print(i, avg_k_salary, 'salary with a k')\n",
    "        if v.lower().find('per hour') != -1:\n",
    "            hr_salary_1 = jb[i][ds_1:ds_1+3].lower()\n",
    "            hr_salary_2 = jb[i][ds_2:ds_2+3].lower()\n",
    "            hr_salary_new_1 = hr_salary_1.replace('$' , '')\n",
    "            hr_salary_new_2 = hr_salary_2.replace('$' , '')\n",
    "#             turn into int variables\n",
    "            int_hr_salary_1 = int(hr_salary_new_1.strip())\n",
    "            int_hr_salary_2 = int(hr_salary_new_2.strip())\n",
    "#         multiply by 52 * 40 = 2080 to convert to salary\n",
    "            avg_hr_salary = int(((int_hr_salary_1 + int_hr_salary_2) / 2) * 2080)\n",
    "            print(i, avg_hr_salary,'this is per hr')\n",
    "    else:\n",
    "        print(i,'null')"
   ]
  },
  {
   "cell_type": "markdown",
   "id": "8d6b77ed",
   "metadata": {},
   "source": [
    "## Functional code above, but need to refactor to reduce repetition, keeping for future ref"
   ]
  },
  {
   "cell_type": "code",
   "execution_count": 409,
   "id": "a6c7b9db",
   "metadata": {},
   "outputs": [
    {
     "data": {
      "text/plain": [
       "['null',\n",
       " 'null',\n",
       " 'null',\n",
       " 'null',\n",
       " 'null',\n",
       " 'null',\n",
       " 'null',\n",
       " 65000,\n",
       " 55000,\n",
       " 55000,\n",
       " 55000,\n",
       " 49920,\n",
       " 73500,\n",
       " 73500]"
      ]
     },
     "execution_count": 409,
     "metadata": {},
     "output_type": "execute_result"
    }
   ],
   "source": [
    "jb = job_report['description']\n",
    "salary_arr = []\n",
    "\n",
    "for i, v in enumerate(jb):\n",
    "#     if it contains a $ and salary condition\n",
    "    if v.lower().find('$') != -1 and v.lower().find('salary') != -1:\n",
    "        if v.lower().find('per year'):\n",
    "#             variable to determine the first dollar sign and value within\n",
    "            ds_1 = v.lower().find('$')\n",
    "            ds_2 = v.lower().rfind('$')\n",
    "            ds_salary_1 = jb[i][ds_1:ds_1+7]\n",
    "            ds_salary_2 = jb[i][ds_2:ds_2+7]\n",
    "            if ds_salary_1.find(',') != -1:\n",
    "                comma_salary_1 = int(ds_salary_1.replace('$' , '').replace(',' , ''))\n",
    "                comma_salary_2 = int(ds_salary_2.replace('$' , '').replace(',' , ''))\n",
    "                avg_comma_salary = int((comma_salary_1 + comma_salary_2) / 2)\n",
    "#                 print(avg_comma_salary)\n",
    "                salary_arr.append(avg_comma_salary)\n",
    "            if ds_salary_1.find('k') != -1:\n",
    "                k_salary_1 = ds_salary_1.replace('$' , '').replace('k' , '')\n",
    "                k_salary_2 = ds_salary_2.replace('$' , '').replace('k' , '')\n",
    "#                 further slice the data\n",
    "                k_salary_new_1 = int(k_salary_1[0:2])\n",
    "                k_salary_new_2 = int(k_salary_2[0:2])\n",
    "#         add int and add both 1 and 2 /2 \n",
    "                avg_k_salary = int(((k_salary_new_1 + k_salary_new_2) / 2) * 1000)\n",
    "#                 print(avg_k_salary)\n",
    "                salary_arr.append(avg_k_salary)\n",
    "        if v.lower().find('per hour') != -1:\n",
    "            hr_salary_1 = int(jb[i][ds_1:ds_1+3].replace('$' , '').strip())\n",
    "            hr_salary_2 = int(jb[i][ds_2:ds_2+3].replace('$' , '').strip())\n",
    "#             turn into int variables\n",
    "            avg_hr_salary = int(((hr_salary_1 + hr_salary_2) / 2) * 2080)\n",
    "#             print(avg_hr_salary)\n",
    "            salary_arr.append(avg_hr_salary)\n",
    "    else:\n",
    "#         print('null')\n",
    "        salary_arr.append('null')\n",
    "    \n",
    "salary_arr"
   ]
  },
  {
   "cell_type": "markdown",
   "id": "05123a80",
   "metadata": {},
   "source": [
    "## Test out and push into separate dataframe called salary_new for now"
   ]
  },
  {
   "cell_type": "code",
   "execution_count": 412,
   "id": "873e0ebf",
   "metadata": {},
   "outputs": [
    {
     "data": {
      "text/html": [
       "<div>\n",
       "<style scoped>\n",
       "    .dataframe tbody tr th:only-of-type {\n",
       "        vertical-align: middle;\n",
       "    }\n",
       "\n",
       "    .dataframe tbody tr th {\n",
       "        vertical-align: top;\n",
       "    }\n",
       "\n",
       "    .dataframe thead th {\n",
       "        text-align: right;\n",
       "    }\n",
       "</style>\n",
       "<table border=\"1\" class=\"dataframe\">\n",
       "  <thead>\n",
       "    <tr style=\"text-align: right;\">\n",
       "      <th></th>\n",
       "      <th>title</th>\n",
       "      <th>company_name</th>\n",
       "      <th>location</th>\n",
       "      <th>via</th>\n",
       "      <th>description</th>\n",
       "      <th>posted_by_day</th>\n",
       "      <th>inserted_at</th>\n",
       "      <th>work_from_home</th>\n",
       "      <th>salary</th>\n",
       "      <th>remote</th>\n",
       "      <th>sql</th>\n",
       "      <th>excel</th>\n",
       "      <th>python</th>\n",
       "      <th>tableau</th>\n",
       "      <th>raw_salary</th>\n",
       "      <th>new_salary</th>\n",
       "    </tr>\n",
       "  </thead>\n",
       "  <tbody>\n",
       "    <tr>\n",
       "      <th>0</th>\n",
       "      <td>Jr Data Analyst</td>\n",
       "      <td>TechFetch.com - On Demand Tech Workforce hirin...</td>\n",
       "      <td>Atlanta, GA</td>\n",
       "      <td>via LinkedIn</td>\n",
       "      <td>\"ALL our jobs are US based and candidates must...</td>\n",
       "      <td>0</td>\n",
       "      <td>12/12/2022</td>\n",
       "      <td>NaN</td>\n",
       "      <td>NaN</td>\n",
       "      <td>No</td>\n",
       "      <td>1</td>\n",
       "      <td>1</td>\n",
       "      <td>1</td>\n",
       "      <td>1</td>\n",
       "      <td>null</td>\n",
       "      <td>null</td>\n",
       "    </tr>\n",
       "    <tr>\n",
       "      <th>1</th>\n",
       "      <td>Jr Data Analyst</td>\n",
       "      <td>TechFetch.com - On Demand Tech Workforce hirin...</td>\n",
       "      <td>Atlanta, GA</td>\n",
       "      <td>via LinkedIn</td>\n",
       "      <td>\"ALL our jobs are US based and candidates must...</td>\n",
       "      <td>1</td>\n",
       "      <td>12/13/2022</td>\n",
       "      <td>NaN</td>\n",
       "      <td>NaN</td>\n",
       "      <td>No</td>\n",
       "      <td>1</td>\n",
       "      <td>1</td>\n",
       "      <td>1</td>\n",
       "      <td>1</td>\n",
       "      <td>null</td>\n",
       "      <td>null</td>\n",
       "    </tr>\n",
       "    <tr>\n",
       "      <th>2</th>\n",
       "      <td>Jr Data Analyst</td>\n",
       "      <td>TechFetch.com - On Demand Tech Workforce hirin...</td>\n",
       "      <td>Atlanta, GA</td>\n",
       "      <td>via LinkedIn</td>\n",
       "      <td>\"ALL our jobs are US based and candidates must...</td>\n",
       "      <td>2</td>\n",
       "      <td>12/14/2022</td>\n",
       "      <td>NaN</td>\n",
       "      <td>NaN</td>\n",
       "      <td>No</td>\n",
       "      <td>1</td>\n",
       "      <td>1</td>\n",
       "      <td>1</td>\n",
       "      <td>1</td>\n",
       "      <td>null</td>\n",
       "      <td>null</td>\n",
       "    </tr>\n",
       "    <tr>\n",
       "      <th>3</th>\n",
       "      <td>Jr Data Analyst</td>\n",
       "      <td>TechFetch.com - On Demand Tech Workforce hirin...</td>\n",
       "      <td>Atlanta, GA</td>\n",
       "      <td>via LinkedIn</td>\n",
       "      <td>\"ALL our jobs are US based and candidates must...</td>\n",
       "      <td>3</td>\n",
       "      <td>12/15/2022</td>\n",
       "      <td>NaN</td>\n",
       "      <td>NaN</td>\n",
       "      <td>No</td>\n",
       "      <td>1</td>\n",
       "      <td>1</td>\n",
       "      <td>1</td>\n",
       "      <td>1</td>\n",
       "      <td>null</td>\n",
       "      <td>null</td>\n",
       "    </tr>\n",
       "    <tr>\n",
       "      <th>4</th>\n",
       "      <td>Jr Data Analyst</td>\n",
       "      <td>TechFetch.com - On Demand Tech Workforce hirin...</td>\n",
       "      <td>Atlanta, GA</td>\n",
       "      <td>via LinkedIn</td>\n",
       "      <td>\"ALL our jobs are US based and candidates must...</td>\n",
       "      <td>4</td>\n",
       "      <td>12/16/2022</td>\n",
       "      <td>NaN</td>\n",
       "      <td>NaN</td>\n",
       "      <td>No</td>\n",
       "      <td>1</td>\n",
       "      <td>1</td>\n",
       "      <td>1</td>\n",
       "      <td>1</td>\n",
       "      <td>null</td>\n",
       "      <td>null</td>\n",
       "    </tr>\n",
       "    <tr>\n",
       "      <th>5</th>\n",
       "      <td>Junior Data Analyst - REMOTE - US Citizenship ...</td>\n",
       "      <td>General Dynamics Information Technology</td>\n",
       "      <td>Atlanta, GA</td>\n",
       "      <td>via Monster</td>\n",
       "      <td>Type of Requisition: Regular\\n\\nClearance Leve...</td>\n",
       "      <td>4</td>\n",
       "      <td>12/16/2022</td>\n",
       "      <td>NaN</td>\n",
       "      <td>NaN</td>\n",
       "      <td>No</td>\n",
       "      <td>0</td>\n",
       "      <td>0</td>\n",
       "      <td>0</td>\n",
       "      <td>1</td>\n",
       "      <td>null</td>\n",
       "      <td>null</td>\n",
       "    </tr>\n",
       "    <tr>\n",
       "      <th>6</th>\n",
       "      <td>Junior Data Analyst (with Power Apps)</td>\n",
       "      <td>Jacobs</td>\n",
       "      <td>Atlanta, GA</td>\n",
       "      <td>via StartWire</td>\n",
       "      <td>We have more than 1800 colleagues in Poland, s...</td>\n",
       "      <td>4</td>\n",
       "      <td>12/16/2022</td>\n",
       "      <td>NaN</td>\n",
       "      <td>NaN</td>\n",
       "      <td>No</td>\n",
       "      <td>1</td>\n",
       "      <td>1</td>\n",
       "      <td>0</td>\n",
       "      <td>0</td>\n",
       "      <td>null</td>\n",
       "      <td>null</td>\n",
       "    </tr>\n",
       "    <tr>\n",
       "      <th>7</th>\n",
       "      <td>Data Analyst Entry Level (Bootcamp)</td>\n",
       "      <td>Helm360</td>\n",
       "      <td>Atlanta, GA</td>\n",
       "      <td>via Glassdoor</td>\n",
       "      <td>Responsibilities\\n• Interpret data, analyze re...</td>\n",
       "      <td>5</td>\n",
       "      <td>12/17/2022</td>\n",
       "      <td>NaN</td>\n",
       "      <td>NaN</td>\n",
       "      <td>No</td>\n",
       "      <td>1</td>\n",
       "      <td>1</td>\n",
       "      <td>0</td>\n",
       "      <td>0</td>\n",
       "      <td>$60,000.00 - $70,000.00 per year\\n\\nBenefits:\\...</td>\n",
       "      <td>65000</td>\n",
       "    </tr>\n",
       "    <tr>\n",
       "      <th>8</th>\n",
       "      <td>Junior Data Analyst</td>\n",
       "      <td>Jobot</td>\n",
       "      <td>Atlanta, GA</td>\n",
       "      <td>via BeBee</td>\n",
       "      <td>Entry Level Data Analyst - hybrid This Jobot J...</td>\n",
       "      <td>5</td>\n",
       "      <td>12/17/2022</td>\n",
       "      <td>NaN</td>\n",
       "      <td>NaN</td>\n",
       "      <td>No</td>\n",
       "      <td>0</td>\n",
       "      <td>1</td>\n",
       "      <td>0</td>\n",
       "      <td>0</td>\n",
       "      <td>$50,000 - $60,000 per year A bit about us: For...</td>\n",
       "      <td>55000</td>\n",
       "    </tr>\n",
       "    <tr>\n",
       "      <th>9</th>\n",
       "      <td>Junior Data Analyst</td>\n",
       "      <td>Jobot</td>\n",
       "      <td>Atlanta, GA</td>\n",
       "      <td>via BeBee</td>\n",
       "      <td>Entry Level Data Analyst - hybrid This Jobot J...</td>\n",
       "      <td>6</td>\n",
       "      <td>12/18/2022</td>\n",
       "      <td>NaN</td>\n",
       "      <td>NaN</td>\n",
       "      <td>No</td>\n",
       "      <td>0</td>\n",
       "      <td>1</td>\n",
       "      <td>0</td>\n",
       "      <td>0</td>\n",
       "      <td>$50,000 - $60,000 per year A bit about us: For...</td>\n",
       "      <td>55000</td>\n",
       "    </tr>\n",
       "    <tr>\n",
       "      <th>10</th>\n",
       "      <td>Junior Data Analyst</td>\n",
       "      <td>Jobot</td>\n",
       "      <td>Atlanta, GA</td>\n",
       "      <td>via BeBee</td>\n",
       "      <td>Entry Level Data Analyst - hybrid This Jobot J...</td>\n",
       "      <td>7</td>\n",
       "      <td>12/18/2022</td>\n",
       "      <td>NaN</td>\n",
       "      <td>NaN</td>\n",
       "      <td>No</td>\n",
       "      <td>0</td>\n",
       "      <td>1</td>\n",
       "      <td>0</td>\n",
       "      <td>0</td>\n",
       "      <td>$50,000 - $60,000 per year A bit about us: For...</td>\n",
       "      <td>55000</td>\n",
       "    </tr>\n",
       "    <tr>\n",
       "      <th>11</th>\n",
       "      <td>Jr Data Analyst- Entry level- local to Atlanta</td>\n",
       "      <td>Vaco Technology</td>\n",
       "      <td>Atlanta, GA</td>\n",
       "      <td>via Atlanta, GA - Geebo</td>\n",
       "      <td>Full Job Description\\n\\nResponsibilities...\\n•...</td>\n",
       "      <td>3</td>\n",
       "      <td>12/19/2022</td>\n",
       "      <td>NaN</td>\n",
       "      <td>20–28 an hour</td>\n",
       "      <td>No</td>\n",
       "      <td>1</td>\n",
       "      <td>1</td>\n",
       "      <td>1</td>\n",
       "      <td>0</td>\n",
       "      <td>$20 to $28 per hour based on qualifications</td>\n",
       "      <td>49920</td>\n",
       "    </tr>\n",
       "    <tr>\n",
       "      <th>12</th>\n",
       "      <td>asd</td>\n",
       "      <td>asd</td>\n",
       "      <td>Anywhere</td>\n",
       "      <td>via AAA</td>\n",
       "      <td>ajsdas salary: $67k -$80k per year.</td>\n",
       "      <td>2</td>\n",
       "      <td>12/19/2022</td>\n",
       "      <td>NaN</td>\n",
       "      <td>NaN</td>\n",
       "      <td>Yes</td>\n",
       "      <td>0</td>\n",
       "      <td>0</td>\n",
       "      <td>0</td>\n",
       "      <td>0</td>\n",
       "      <td>$67k -$80k per year.</td>\n",
       "      <td>73500</td>\n",
       "    </tr>\n",
       "    <tr>\n",
       "      <th>13</th>\n",
       "      <td>asd</td>\n",
       "      <td>asd</td>\n",
       "      <td>Anywhere</td>\n",
       "      <td>via AAA</td>\n",
       "      <td>ajsdas salary: $67k -$80k per year.</td>\n",
       "      <td>3</td>\n",
       "      <td>12/19/2022</td>\n",
       "      <td>NaN</td>\n",
       "      <td>NaN</td>\n",
       "      <td>Yes</td>\n",
       "      <td>0</td>\n",
       "      <td>0</td>\n",
       "      <td>0</td>\n",
       "      <td>0</td>\n",
       "      <td>$67k -$80k per year.</td>\n",
       "      <td>73500</td>\n",
       "    </tr>\n",
       "  </tbody>\n",
       "</table>\n",
       "</div>"
      ],
      "text/plain": [
       "                                                title  \\\n",
       "0                                     Jr Data Analyst   \n",
       "1                                     Jr Data Analyst   \n",
       "2                                     Jr Data Analyst   \n",
       "3                                     Jr Data Analyst   \n",
       "4                                     Jr Data Analyst   \n",
       "5   Junior Data Analyst - REMOTE - US Citizenship ...   \n",
       "6               Junior Data Analyst (with Power Apps)   \n",
       "7                 Data Analyst Entry Level (Bootcamp)   \n",
       "8                                 Junior Data Analyst   \n",
       "9                                 Junior Data Analyst   \n",
       "10                                Junior Data Analyst   \n",
       "11     Jr Data Analyst- Entry level- local to Atlanta   \n",
       "12                                                asd   \n",
       "13                                                asd   \n",
       "\n",
       "                                         company_name     location  \\\n",
       "0   TechFetch.com - On Demand Tech Workforce hirin...  Atlanta, GA   \n",
       "1   TechFetch.com - On Demand Tech Workforce hirin...  Atlanta, GA   \n",
       "2   TechFetch.com - On Demand Tech Workforce hirin...  Atlanta, GA   \n",
       "3   TechFetch.com - On Demand Tech Workforce hirin...  Atlanta, GA   \n",
       "4   TechFetch.com - On Demand Tech Workforce hirin...  Atlanta, GA   \n",
       "5             General Dynamics Information Technology  Atlanta, GA   \n",
       "6                                              Jacobs  Atlanta, GA   \n",
       "7                                             Helm360  Atlanta, GA   \n",
       "8                                               Jobot  Atlanta, GA   \n",
       "9                                               Jobot  Atlanta, GA   \n",
       "10                                              Jobot  Atlanta, GA   \n",
       "11                                    Vaco Technology  Atlanta, GA   \n",
       "12                                                asd     Anywhere   \n",
       "13                                                asd     Anywhere   \n",
       "\n",
       "                        via  \\\n",
       "0              via LinkedIn   \n",
       "1              via LinkedIn   \n",
       "2              via LinkedIn   \n",
       "3              via LinkedIn   \n",
       "4              via LinkedIn   \n",
       "5               via Monster   \n",
       "6             via StartWire   \n",
       "7             via Glassdoor   \n",
       "8                 via BeBee   \n",
       "9                 via BeBee   \n",
       "10                via BeBee   \n",
       "11  via Atlanta, GA - Geebo   \n",
       "12                  via AAA   \n",
       "13                  via AAA   \n",
       "\n",
       "                                          description  posted_by_day  \\\n",
       "0   \"ALL our jobs are US based and candidates must...              0   \n",
       "1   \"ALL our jobs are US based and candidates must...              1   \n",
       "2   \"ALL our jobs are US based and candidates must...              2   \n",
       "3   \"ALL our jobs are US based and candidates must...              3   \n",
       "4   \"ALL our jobs are US based and candidates must...              4   \n",
       "5   Type of Requisition: Regular\\n\\nClearance Leve...              4   \n",
       "6   We have more than 1800 colleagues in Poland, s...              4   \n",
       "7   Responsibilities\\n• Interpret data, analyze re...              5   \n",
       "8   Entry Level Data Analyst - hybrid This Jobot J...              5   \n",
       "9   Entry Level Data Analyst - hybrid This Jobot J...              6   \n",
       "10  Entry Level Data Analyst - hybrid This Jobot J...              7   \n",
       "11  Full Job Description\\n\\nResponsibilities...\\n•...              3   \n",
       "12                ajsdas salary: $67k -$80k per year.              2   \n",
       "13                ajsdas salary: $67k -$80k per year.              3   \n",
       "\n",
       "   inserted_at  work_from_home         salary remote  sql  excel  python  \\\n",
       "0   12/12/2022             NaN            NaN     No    1      1       1   \n",
       "1   12/13/2022             NaN            NaN     No    1      1       1   \n",
       "2   12/14/2022             NaN            NaN     No    1      1       1   \n",
       "3   12/15/2022             NaN            NaN     No    1      1       1   \n",
       "4   12/16/2022             NaN            NaN     No    1      1       1   \n",
       "5   12/16/2022             NaN            NaN     No    0      0       0   \n",
       "6   12/16/2022             NaN            NaN     No    1      1       0   \n",
       "7   12/17/2022             NaN            NaN     No    1      1       0   \n",
       "8   12/17/2022             NaN            NaN     No    0      1       0   \n",
       "9   12/18/2022             NaN            NaN     No    0      1       0   \n",
       "10  12/18/2022             NaN            NaN     No    0      1       0   \n",
       "11  12/19/2022             NaN  20–28 an hour     No    1      1       1   \n",
       "12  12/19/2022             NaN            NaN    Yes    0      0       0   \n",
       "13  12/19/2022             NaN            NaN    Yes    0      0       0   \n",
       "\n",
       "    tableau                                         raw_salary new_salary  \n",
       "0         1                                               null       null  \n",
       "1         1                                               null       null  \n",
       "2         1                                               null       null  \n",
       "3         1                                               null       null  \n",
       "4         1                                               null       null  \n",
       "5         1                                               null       null  \n",
       "6         0                                               null       null  \n",
       "7         0  $60,000.00 - $70,000.00 per year\\n\\nBenefits:\\...      65000  \n",
       "8         0  $50,000 - $60,000 per year A bit about us: For...      55000  \n",
       "9         0  $50,000 - $60,000 per year A bit about us: For...      55000  \n",
       "10        0  $50,000 - $60,000 per year A bit about us: For...      55000  \n",
       "11        0        $20 to $28 per hour based on qualifications      49920  \n",
       "12        0                               $67k -$80k per year.      73500  \n",
       "13        0                               $67k -$80k per year.      73500  "
      ]
     },
     "execution_count": 412,
     "metadata": {},
     "output_type": "execute_result"
    }
   ],
   "source": [
    "job_report['new_salary'] = salary_arr\n",
    "# job_report.drop(raw_salary, axis=1, inplace=True)\n",
    "job_report"
   ]
  },
  {
   "cell_type": "markdown",
   "id": "3af3d639",
   "metadata": {},
   "source": [
    "## this section is for accounting for specific skillset counters within the descriptions of each job"
   ]
  },
  {
   "cell_type": "code",
   "execution_count": 1118,
   "id": "71b5d5ee",
   "metadata": {},
   "outputs": [],
   "source": [
    "# focus only on skillset of interest"
   ]
  },
  {
   "cell_type": "code",
   "execution_count": 81,
   "id": "a247a3f2",
   "metadata": {},
   "outputs": [
    {
     "name": "stdout",
     "output_type": "stream",
     "text": [
      "0 ya\n",
      "1 na\n",
      "2 ya\n",
      "3 ya\n",
      "4 na\n",
      "5 ya\n",
      "6 na\n"
     ]
    }
   ],
   "source": [
    "sql = []\n",
    "excel = []\n",
    "python = []\n",
    "tableau = []\n",
    "arr = []\n",
    "tech_stack = ['sql', 'excel', 'python', 'tableau']\n",
    "\n",
    "# for i,v in enumerate(job_report['description']):\n",
    "#     for index, tech in enumerate(tech_stack):\n",
    "#         if job_report['description'][i].lower().find(tech) != -1:\n",
    "            \n",
    "            \n",
    "\n",
    "\n",
    "# # this works -- but need to refactor into func\n",
    "for i, v in enumerate(job_report['description']):\n",
    "#     refactor into tech_stack[0]??\n",
    "    if job_report['description'][i].lower().find(tech_stack[0]) != -1:\n",
    "        sql.append(1)\n",
    "        print(i,'ya')\n",
    "    else:\n",
    "        sql.append(0)\n",
    "        print(i,'na')\n"
   ]
  },
  {
   "cell_type": "code",
   "execution_count": null,
   "id": "ca51820b",
   "metadata": {},
   "outputs": [],
   "source": []
  },
  {
   "cell_type": "code",
   "execution_count": 1224,
   "id": "b4738da2",
   "metadata": {},
   "outputs": [
    {
     "name": "stdout",
     "output_type": "stream",
     "text": [
      "0 sql 1685\n",
      "0 excel 5379\n",
      "0 python 5387\n",
      "0 tableau 5327\n",
      "1 sql -1\n",
      "1 excel -1\n",
      "1 python -1\n",
      "1 tableau 1737\n",
      "2 sql 2183\n",
      "2 excel 1698\n",
      "2 python -1\n",
      "2 tableau -1\n",
      "3 sql 942\n",
      "3 excel 1093\n",
      "3 python -1\n",
      "3 tableau -1\n",
      "4 sql -1\n",
      "4 excel 681\n",
      "4 python -1\n",
      "4 tableau -1\n",
      "5 sql 872\n",
      "5 excel 958\n",
      "5 python 1641\n",
      "5 tableau -1\n",
      "6 sql -1\n",
      "6 excel -1\n",
      "6 python -1\n",
      "6 tableau -1\n"
     ]
    },
    {
     "ename": "KeyError",
     "evalue": "7",
     "output_type": "error",
     "traceback": [
      "\u001b[1;31m---------------------------------------------------------------------------\u001b[0m",
      "\u001b[1;31mValueError\u001b[0m                                Traceback (most recent call last)",
      "\u001b[1;32mC:\\ProgramData\\Anaconda3\\lib\\site-packages\\pandas\\core\\indexes\\range.py\u001b[0m in \u001b[0;36mget_loc\u001b[1;34m(self, key, method, tolerance)\u001b[0m\n\u001b[0;32m    384\u001b[0m                 \u001b[1;32mtry\u001b[0m\u001b[1;33m:\u001b[0m\u001b[1;33m\u001b[0m\u001b[1;33m\u001b[0m\u001b[0m\n\u001b[1;32m--> 385\u001b[1;33m                     \u001b[1;32mreturn\u001b[0m \u001b[0mself\u001b[0m\u001b[1;33m.\u001b[0m\u001b[0m_range\u001b[0m\u001b[1;33m.\u001b[0m\u001b[0mindex\u001b[0m\u001b[1;33m(\u001b[0m\u001b[0mnew_key\u001b[0m\u001b[1;33m)\u001b[0m\u001b[1;33m\u001b[0m\u001b[1;33m\u001b[0m\u001b[0m\n\u001b[0m\u001b[0;32m    386\u001b[0m                 \u001b[1;32mexcept\u001b[0m \u001b[0mValueError\u001b[0m \u001b[1;32mas\u001b[0m \u001b[0merr\u001b[0m\u001b[1;33m:\u001b[0m\u001b[1;33m\u001b[0m\u001b[1;33m\u001b[0m\u001b[0m\n",
      "\u001b[1;31mValueError\u001b[0m: 7 is not in range",
      "\nThe above exception was the direct cause of the following exception:\n",
      "\u001b[1;31mKeyError\u001b[0m                                  Traceback (most recent call last)",
      "\u001b[1;32m~\\AppData\\Local\\Temp\\ipykernel_15640\\2345220107.py\u001b[0m in \u001b[0;36m<module>\u001b[1;34m\u001b[0m\n\u001b[0;32m      2\u001b[0m \u001b[1;32mfor\u001b[0m \u001b[0mi\u001b[0m\u001b[1;33m,\u001b[0m \u001b[0mv\u001b[0m \u001b[1;32min\u001b[0m \u001b[0menumerate\u001b[0m\u001b[1;33m(\u001b[0m\u001b[0mjob_report\u001b[0m\u001b[1;33m)\u001b[0m\u001b[1;33m:\u001b[0m\u001b[1;33m\u001b[0m\u001b[1;33m\u001b[0m\u001b[0m\n\u001b[0;32m      3\u001b[0m     \u001b[1;32mfor\u001b[0m \u001b[0mindex\u001b[0m\u001b[1;33m,\u001b[0m \u001b[0mtech\u001b[0m \u001b[1;32min\u001b[0m \u001b[0menumerate\u001b[0m\u001b[1;33m(\u001b[0m\u001b[0mtech_stack\u001b[0m\u001b[1;33m)\u001b[0m\u001b[1;33m:\u001b[0m\u001b[1;33m\u001b[0m\u001b[1;33m\u001b[0m\u001b[0m\n\u001b[1;32m----> 4\u001b[1;33m         \u001b[0mprint\u001b[0m\u001b[1;33m(\u001b[0m\u001b[0mi\u001b[0m\u001b[1;33m,\u001b[0m \u001b[0mtech\u001b[0m\u001b[1;33m,\u001b[0m \u001b[0mjob_report\u001b[0m\u001b[1;33m[\u001b[0m\u001b[1;34m'description'\u001b[0m\u001b[1;33m]\u001b[0m\u001b[1;33m[\u001b[0m\u001b[0mi\u001b[0m\u001b[1;33m]\u001b[0m\u001b[1;33m.\u001b[0m\u001b[0mlower\u001b[0m\u001b[1;33m(\u001b[0m\u001b[1;33m)\u001b[0m\u001b[1;33m.\u001b[0m\u001b[0mfind\u001b[0m\u001b[1;33m(\u001b[0m\u001b[0mtech\u001b[0m\u001b[1;33m)\u001b[0m\u001b[1;33m)\u001b[0m\u001b[1;33m\u001b[0m\u001b[1;33m\u001b[0m\u001b[0m\n\u001b[0m",
      "\u001b[1;32mC:\\ProgramData\\Anaconda3\\lib\\site-packages\\pandas\\core\\series.py\u001b[0m in \u001b[0;36m__getitem__\u001b[1;34m(self, key)\u001b[0m\n\u001b[0;32m    956\u001b[0m \u001b[1;33m\u001b[0m\u001b[0m\n\u001b[0;32m    957\u001b[0m         \u001b[1;32melif\u001b[0m \u001b[0mkey_is_scalar\u001b[0m\u001b[1;33m:\u001b[0m\u001b[1;33m\u001b[0m\u001b[1;33m\u001b[0m\u001b[0m\n\u001b[1;32m--> 958\u001b[1;33m             \u001b[1;32mreturn\u001b[0m \u001b[0mself\u001b[0m\u001b[1;33m.\u001b[0m\u001b[0m_get_value\u001b[0m\u001b[1;33m(\u001b[0m\u001b[0mkey\u001b[0m\u001b[1;33m)\u001b[0m\u001b[1;33m\u001b[0m\u001b[1;33m\u001b[0m\u001b[0m\n\u001b[0m\u001b[0;32m    959\u001b[0m \u001b[1;33m\u001b[0m\u001b[0m\n\u001b[0;32m    960\u001b[0m         \u001b[1;32mif\u001b[0m \u001b[0mis_hashable\u001b[0m\u001b[1;33m(\u001b[0m\u001b[0mkey\u001b[0m\u001b[1;33m)\u001b[0m\u001b[1;33m:\u001b[0m\u001b[1;33m\u001b[0m\u001b[1;33m\u001b[0m\u001b[0m\n",
      "\u001b[1;32mC:\\ProgramData\\Anaconda3\\lib\\site-packages\\pandas\\core\\series.py\u001b[0m in \u001b[0;36m_get_value\u001b[1;34m(self, label, takeable)\u001b[0m\n\u001b[0;32m   1067\u001b[0m \u001b[1;33m\u001b[0m\u001b[0m\n\u001b[0;32m   1068\u001b[0m         \u001b[1;31m# Similar to Index.get_value, but we do not fall back to positional\u001b[0m\u001b[1;33m\u001b[0m\u001b[1;33m\u001b[0m\u001b[0m\n\u001b[1;32m-> 1069\u001b[1;33m         \u001b[0mloc\u001b[0m \u001b[1;33m=\u001b[0m \u001b[0mself\u001b[0m\u001b[1;33m.\u001b[0m\u001b[0mindex\u001b[0m\u001b[1;33m.\u001b[0m\u001b[0mget_loc\u001b[0m\u001b[1;33m(\u001b[0m\u001b[0mlabel\u001b[0m\u001b[1;33m)\u001b[0m\u001b[1;33m\u001b[0m\u001b[1;33m\u001b[0m\u001b[0m\n\u001b[0m\u001b[0;32m   1070\u001b[0m         \u001b[1;32mreturn\u001b[0m \u001b[0mself\u001b[0m\u001b[1;33m.\u001b[0m\u001b[0mindex\u001b[0m\u001b[1;33m.\u001b[0m\u001b[0m_get_values_for_loc\u001b[0m\u001b[1;33m(\u001b[0m\u001b[0mself\u001b[0m\u001b[1;33m,\u001b[0m \u001b[0mloc\u001b[0m\u001b[1;33m,\u001b[0m \u001b[0mlabel\u001b[0m\u001b[1;33m)\u001b[0m\u001b[1;33m\u001b[0m\u001b[1;33m\u001b[0m\u001b[0m\n\u001b[0;32m   1071\u001b[0m \u001b[1;33m\u001b[0m\u001b[0m\n",
      "\u001b[1;32mC:\\ProgramData\\Anaconda3\\lib\\site-packages\\pandas\\core\\indexes\\range.py\u001b[0m in \u001b[0;36mget_loc\u001b[1;34m(self, key, method, tolerance)\u001b[0m\n\u001b[0;32m    385\u001b[0m                     \u001b[1;32mreturn\u001b[0m \u001b[0mself\u001b[0m\u001b[1;33m.\u001b[0m\u001b[0m_range\u001b[0m\u001b[1;33m.\u001b[0m\u001b[0mindex\u001b[0m\u001b[1;33m(\u001b[0m\u001b[0mnew_key\u001b[0m\u001b[1;33m)\u001b[0m\u001b[1;33m\u001b[0m\u001b[1;33m\u001b[0m\u001b[0m\n\u001b[0;32m    386\u001b[0m                 \u001b[1;32mexcept\u001b[0m \u001b[0mValueError\u001b[0m \u001b[1;32mas\u001b[0m \u001b[0merr\u001b[0m\u001b[1;33m:\u001b[0m\u001b[1;33m\u001b[0m\u001b[1;33m\u001b[0m\u001b[0m\n\u001b[1;32m--> 387\u001b[1;33m                     \u001b[1;32mraise\u001b[0m \u001b[0mKeyError\u001b[0m\u001b[1;33m(\u001b[0m\u001b[0mkey\u001b[0m\u001b[1;33m)\u001b[0m \u001b[1;32mfrom\u001b[0m \u001b[0merr\u001b[0m\u001b[1;33m\u001b[0m\u001b[1;33m\u001b[0m\u001b[0m\n\u001b[0m\u001b[0;32m    388\u001b[0m             \u001b[0mself\u001b[0m\u001b[1;33m.\u001b[0m\u001b[0m_check_indexing_error\u001b[0m\u001b[1;33m(\u001b[0m\u001b[0mkey\u001b[0m\u001b[1;33m)\u001b[0m\u001b[1;33m\u001b[0m\u001b[1;33m\u001b[0m\u001b[0m\n\u001b[0;32m    389\u001b[0m             \u001b[1;32mraise\u001b[0m \u001b[0mKeyError\u001b[0m\u001b[1;33m(\u001b[0m\u001b[0mkey\u001b[0m\u001b[1;33m)\u001b[0m\u001b[1;33m\u001b[0m\u001b[1;33m\u001b[0m\u001b[0m\n",
      "\u001b[1;31mKeyError\u001b[0m: 7"
     ]
    }
   ],
   "source": [
    "# data check\n",
    "for i, v in enumerate(job_report):\n",
    "    for index, tech in enumerate(tech_stack):\n",
    "        print(i, tech, job_report['description'][i].lower().find(tech))\n"
   ]
  },
  {
   "cell_type": "code",
   "execution_count": 40,
   "id": "d271c387",
   "metadata": {},
   "outputs": [
    {
     "name": "stdout",
     "output_type": "stream",
     "text": [
      "[0, 0, 0, 0, 0, 0, 0, 1, 0, 1, 0, 1, 0, 0, 0, 0, 0, 0, 0, 0, 0, 0, 0, 0, 0, 0, 0, 0]\n",
      "[]\n",
      "[]\n",
      "[]\n"
     ]
    }
   ],
   "source": [
    "sql = []\n",
    "excel = []\n",
    "python = []\n",
    "tableau = []\n",
    "\n",
    "for i, v in enumerate(tech_stack):\n",
    "    for index, value in enumerate(job_report['description']):\n",
    "#         if value[index].lower().find(v) != -1:\n",
    "        if job_report['description'].find(v) != -1 :\n",
    "            sql.append(1)\n",
    "            continue\n",
    "        if job_report['description'].find(v) == 'excel':\n",
    "            excel.append(1)\n",
    "            continue\n",
    "        if job_report['description'].find(v) == 'python':\n",
    "            python.append(1)\n",
    "            continue\n",
    "        if job_report['description'].find(v) == '\n",
    "            tableau.append(1)\n",
    "            continue\n",
    "            \n",
    "            \n",
    "        if v == 'excel':\n",
    "            excel.append(1)\n",
    "        if v == 'python':\n",
    "            python.append(1)\n",
    "        if v == 'tableau':\n",
    "            tableau.append(1)\n",
    "#         if value[index].lower().find(v) == -1:\n",
    "        if v == 'sql':\n",
    "            sql.append(0)\n",
    "        if v == 'excel':\n",
    "            excel.append(0)\n",
    "        if v == 'python':\n",
    "            python.append(0)\n",
    "        if v == 'tableau':\n",
    "            tableau.append(0)\n",
    "\n",
    "print(sql)\n",
    "print(excel)\n",
    "print(python)\n",
    "print(tableau)"
   ]
  },
  {
   "cell_type": "code",
   "execution_count": 79,
   "id": "61f81081",
   "metadata": {},
   "outputs": [
    {
     "name": "stdout",
     "output_type": "stream",
     "text": [
      "[1, 0, 1, 1, 0, 1, 0]\n",
      "[1, 0, 1, 1, 1, 1, 0]\n",
      "[1, 0, 0, 0, 0, 1, 0]\n",
      "[1, 1, 0, 0, 0, 0, 0]\n"
     ]
    }
   ],
   "source": [
    "sql = []\n",
    "excel = []\n",
    "python = []\n",
    "tableau = []\n",
    "arr = []\n",
    "tech_stack = ['sql', 'excel', 'python', 'tableau']\n",
    "# after trying to work out vars and exec, never thought to house the vars in an array.god im dumb\n",
    "tech_stack_var = [sql, excel, python, tableau]\n",
    "\n",
    "# def find_tech(tech_ind, tech_arr):\n",
    "#     job_des = job_report['description']\n",
    "#     for i,v in enumerate(job_des):\n",
    "#         if job_des[i].lower().find(tech_ind) != -1:\n",
    "#             tech_arr.append(1)\n",
    "#         else:\n",
    "#             tech_arr.append(0)\n",
    "\n",
    "find_tech(tech_stack[0], sql)\n",
    "print(sql)\n",
    "\n",
    "find_tech(tech_stack[1], excel)\n",
    "print(excel)\n",
    "\n",
    "find_tech(tech_stack[2], python)\n",
    "print(python)\n",
    "\n",
    "find_tech(tech_stack[3], tableau)\n",
    "print(tableau)\n",
    "\n",
    "\n",
    "# # this works -- but need to refactor into func\n",
    "# for i, v in enumerate(job_report['description']):\n",
    "# #     refactor into tech_stack[0]??\n",
    "#     if job_report['description'][i].lower().find(tech_stack[0]) != -1:\n",
    "#         sql.append(1)\n",
    "#         print(i,'ya')\n",
    "#     else:\n",
    "#         sql.append(0)\n",
    "#         print(i,'na')\n"
   ]
  },
  {
   "cell_type": "code",
   "execution_count": 75,
   "id": "8373db19",
   "metadata": {},
   "outputs": [
    {
     "name": "stdout",
     "output_type": "stream",
     "text": [
      "[1, 0, 1, 1, 0, 1, 0]\n",
      "[1, 0, 1, 1, 1, 1, 0]\n",
      "[1, 0, 0, 0, 0, 1, 0]\n",
      "[1, 1, 0, 0, 0, 0, 0]\n"
     ]
    }
   ],
   "source": [
    "sql = []\n",
    "excel = []\n",
    "python = []\n",
    "tableau = []\n",
    "tech_stack = ['sql', 'excel', 'python', 'tableau']\n",
    "tech_stack_var = [sql, excel, python, tableau]\n",
    "\n",
    "counter = 0\n",
    "\n",
    "while counter < len(tech_stack):\n",
    "    find_tech(tech_stack[counter], tech_stack_var[counter])\n",
    "    counter += 1\n",
    "    \n",
    "print(sql)\n",
    "print(excel)\n",
    "print(python)\n",
    "print(tableau)"
   ]
  },
  {
   "cell_type": "markdown",
   "id": "ffafe822",
   "metadata": {},
   "source": [
    "## This is the accumulation of everything -- comparison of the complex function form and the one below it is the simple form"
   ]
  },
  {
   "cell_type": "code",
   "execution_count": 120,
   "id": "2101d359",
   "metadata": {},
   "outputs": [
    {
     "name": "stdout",
     "output_type": "stream",
     "text": [
      "[1, 0, 1, 1, 0, 1, 0]\n",
      "[1, 0, 1, 1, 1, 1, 0]\n",
      "[1, 0, 0, 0, 0, 1, 0]\n",
      "[1, 1, 0, 0, 0, 0, 0]\n"
     ]
    }
   ],
   "source": [
    "import timeit\n",
    "\n",
    "sql = []\n",
    "excel = []\n",
    "python = []\n",
    "tableau = []\n",
    "tech_stack = ['sql', 'excel', 'python', 'tableau']\n",
    "tech_stack_var = [sql, excel, python, tableau]\n",
    "\n",
    "def find_tech(tech_ind, tech_arr):\n",
    "    job_des = job_report['description']\n",
    "    for i,v in enumerate(job_des):\n",
    "        if job_des[i].lower().find(tech_ind) != -1:\n",
    "            tech_arr.append(1)\n",
    "        else:\n",
    "            tech_arr.append(0)\n",
    "def tech_arr_populate():\n",
    "    for i, v in enumerate(tech_stack):\n",
    "        find_tech(tech_stack[i], tech_stack_var[i])\n",
    "\n",
    "tech_arr_populate()\n",
    "\n",
    "print(sql)\n",
    "print(excel)\n",
    "print(python)\n",
    "print(tableau)"
   ]
  },
  {
   "cell_type": "code",
   "execution_count": 269,
   "id": "8c45e870",
   "metadata": {},
   "outputs": [],
   "source": [
    "sql = []\n",
    "excel = []\n",
    "python = []\n",
    "tableau = []\n",
    "tech_stack = ['sql', 'excel', 'python', 'tableau']\n",
    "# essentially this really is the key, and therefore is no need to create an overly complicated function\n",
    "# hey at least it was good practice\n",
    "tech_stack_var = [sql, excel, python, tableau]\n",
    "\n",
    "def simple_tech_arr():\n",
    "    job_des = job_report['description']\n",
    "\n",
    "    for i,v in enumerate(job_des):\n",
    "        for index, value in enumerate(tech_stack):\n",
    "            if job_des[i].lower().find(value) != -1:\n",
    "                tech_stack_var[index].append(1)\n",
    "            else:\n",
    "                tech_stack_var[index].append(0)\n",
    "                \n",
    "simple_tech_arr()\n",
    "\n",
    "# print(sql)\n",
    "# print(excel)\n",
    "# print(python)\n",
    "# print(tableau)\n",
    "\n",
    "job_report['sql'] = sql\n",
    "job_report['excel'] = excel\n",
    "job_report['python'] = python\n",
    "job_report['tableau'] = tableau"
   ]
  },
  {
   "cell_type": "code",
   "execution_count": 270,
   "id": "935b78c1",
   "metadata": {},
   "outputs": [
    {
     "data": {
      "text/html": [
       "<div>\n",
       "<style scoped>\n",
       "    .dataframe tbody tr th:only-of-type {\n",
       "        vertical-align: middle;\n",
       "    }\n",
       "\n",
       "    .dataframe tbody tr th {\n",
       "        vertical-align: top;\n",
       "    }\n",
       "\n",
       "    .dataframe thead th {\n",
       "        text-align: right;\n",
       "    }\n",
       "</style>\n",
       "<table border=\"1\" class=\"dataframe\">\n",
       "  <thead>\n",
       "    <tr style=\"text-align: right;\">\n",
       "      <th></th>\n",
       "      <th>title</th>\n",
       "      <th>company_name</th>\n",
       "      <th>location</th>\n",
       "      <th>via</th>\n",
       "      <th>description</th>\n",
       "      <th>posted_by_day</th>\n",
       "      <th>inserted_at</th>\n",
       "      <th>work_from_home</th>\n",
       "      <th>salary</th>\n",
       "      <th>remote</th>\n",
       "      <th>sql</th>\n",
       "      <th>excel</th>\n",
       "      <th>python</th>\n",
       "      <th>tableau</th>\n",
       "    </tr>\n",
       "  </thead>\n",
       "  <tbody>\n",
       "    <tr>\n",
       "      <th>0</th>\n",
       "      <td>Jr Data Analyst</td>\n",
       "      <td>TechFetch.com - On Demand Tech Workforce hirin...</td>\n",
       "      <td>Atlanta, GA</td>\n",
       "      <td>via LinkedIn</td>\n",
       "      <td>\"ALL our jobs are US based and candidates must...</td>\n",
       "      <td>0</td>\n",
       "      <td>12/12/2022</td>\n",
       "      <td>NaN</td>\n",
       "      <td>NaN</td>\n",
       "      <td>No</td>\n",
       "      <td>1</td>\n",
       "      <td>1</td>\n",
       "      <td>1</td>\n",
       "      <td>1</td>\n",
       "    </tr>\n",
       "    <tr>\n",
       "      <th>1</th>\n",
       "      <td>Jr Data Analyst</td>\n",
       "      <td>TechFetch.com - On Demand Tech Workforce hirin...</td>\n",
       "      <td>Atlanta, GA</td>\n",
       "      <td>via LinkedIn</td>\n",
       "      <td>\"ALL our jobs are US based and candidates must...</td>\n",
       "      <td>1</td>\n",
       "      <td>12/13/2022</td>\n",
       "      <td>NaN</td>\n",
       "      <td>NaN</td>\n",
       "      <td>No</td>\n",
       "      <td>1</td>\n",
       "      <td>1</td>\n",
       "      <td>1</td>\n",
       "      <td>1</td>\n",
       "    </tr>\n",
       "    <tr>\n",
       "      <th>2</th>\n",
       "      <td>Jr Data Analyst</td>\n",
       "      <td>TechFetch.com - On Demand Tech Workforce hirin...</td>\n",
       "      <td>Atlanta, GA</td>\n",
       "      <td>via LinkedIn</td>\n",
       "      <td>\"ALL our jobs are US based and candidates must...</td>\n",
       "      <td>2</td>\n",
       "      <td>12/14/2022</td>\n",
       "      <td>NaN</td>\n",
       "      <td>NaN</td>\n",
       "      <td>No</td>\n",
       "      <td>1</td>\n",
       "      <td>1</td>\n",
       "      <td>1</td>\n",
       "      <td>1</td>\n",
       "    </tr>\n",
       "    <tr>\n",
       "      <th>3</th>\n",
       "      <td>Jr Data Analyst</td>\n",
       "      <td>TechFetch.com - On Demand Tech Workforce hirin...</td>\n",
       "      <td>Atlanta, GA</td>\n",
       "      <td>via LinkedIn</td>\n",
       "      <td>\"ALL our jobs are US based and candidates must...</td>\n",
       "      <td>3</td>\n",
       "      <td>12/15/2022</td>\n",
       "      <td>NaN</td>\n",
       "      <td>NaN</td>\n",
       "      <td>No</td>\n",
       "      <td>1</td>\n",
       "      <td>1</td>\n",
       "      <td>1</td>\n",
       "      <td>1</td>\n",
       "    </tr>\n",
       "    <tr>\n",
       "      <th>4</th>\n",
       "      <td>Jr Data Analyst</td>\n",
       "      <td>TechFetch.com - On Demand Tech Workforce hirin...</td>\n",
       "      <td>Atlanta, GA</td>\n",
       "      <td>via LinkedIn</td>\n",
       "      <td>\"ALL our jobs are US based and candidates must...</td>\n",
       "      <td>4</td>\n",
       "      <td>12/16/2022</td>\n",
       "      <td>NaN</td>\n",
       "      <td>NaN</td>\n",
       "      <td>No</td>\n",
       "      <td>1</td>\n",
       "      <td>1</td>\n",
       "      <td>1</td>\n",
       "      <td>1</td>\n",
       "    </tr>\n",
       "    <tr>\n",
       "      <th>5</th>\n",
       "      <td>Junior Data Analyst - REMOTE - US Citizenship ...</td>\n",
       "      <td>General Dynamics Information Technology</td>\n",
       "      <td>Atlanta, GA</td>\n",
       "      <td>via Monster</td>\n",
       "      <td>Type of Requisition: Regular\\n\\nClearance Leve...</td>\n",
       "      <td>4</td>\n",
       "      <td>12/16/2022</td>\n",
       "      <td>NaN</td>\n",
       "      <td>NaN</td>\n",
       "      <td>No</td>\n",
       "      <td>0</td>\n",
       "      <td>0</td>\n",
       "      <td>0</td>\n",
       "      <td>1</td>\n",
       "    </tr>\n",
       "    <tr>\n",
       "      <th>6</th>\n",
       "      <td>Junior Data Analyst (with Power Apps)</td>\n",
       "      <td>Jacobs</td>\n",
       "      <td>Atlanta, GA</td>\n",
       "      <td>via StartWire</td>\n",
       "      <td>We have more than 1800 colleagues in Poland, s...</td>\n",
       "      <td>4</td>\n",
       "      <td>12/16/2022</td>\n",
       "      <td>NaN</td>\n",
       "      <td>NaN</td>\n",
       "      <td>No</td>\n",
       "      <td>1</td>\n",
       "      <td>1</td>\n",
       "      <td>0</td>\n",
       "      <td>0</td>\n",
       "    </tr>\n",
       "    <tr>\n",
       "      <th>7</th>\n",
       "      <td>Data Analyst Entry Level (Bootcamp)</td>\n",
       "      <td>Helm360</td>\n",
       "      <td>Atlanta, GA</td>\n",
       "      <td>via Glassdoor</td>\n",
       "      <td>Responsibilities\\n• Interpret data, analyze re...</td>\n",
       "      <td>5</td>\n",
       "      <td>12/17/2022</td>\n",
       "      <td>NaN</td>\n",
       "      <td>NaN</td>\n",
       "      <td>No</td>\n",
       "      <td>1</td>\n",
       "      <td>1</td>\n",
       "      <td>0</td>\n",
       "      <td>0</td>\n",
       "    </tr>\n",
       "    <tr>\n",
       "      <th>8</th>\n",
       "      <td>Junior Data Analyst</td>\n",
       "      <td>Jobot</td>\n",
       "      <td>Atlanta, GA</td>\n",
       "      <td>via BeBee</td>\n",
       "      <td>Entry Level Data Analyst - hybrid This Jobot J...</td>\n",
       "      <td>5</td>\n",
       "      <td>12/17/2022</td>\n",
       "      <td>NaN</td>\n",
       "      <td>NaN</td>\n",
       "      <td>No</td>\n",
       "      <td>0</td>\n",
       "      <td>1</td>\n",
       "      <td>0</td>\n",
       "      <td>0</td>\n",
       "    </tr>\n",
       "    <tr>\n",
       "      <th>9</th>\n",
       "      <td>Junior Data Analyst</td>\n",
       "      <td>Jobot</td>\n",
       "      <td>Atlanta, GA</td>\n",
       "      <td>via BeBee</td>\n",
       "      <td>Entry Level Data Analyst - hybrid This Jobot J...</td>\n",
       "      <td>6</td>\n",
       "      <td>12/18/2022</td>\n",
       "      <td>NaN</td>\n",
       "      <td>NaN</td>\n",
       "      <td>No</td>\n",
       "      <td>0</td>\n",
       "      <td>1</td>\n",
       "      <td>0</td>\n",
       "      <td>0</td>\n",
       "    </tr>\n",
       "    <tr>\n",
       "      <th>10</th>\n",
       "      <td>Junior Data Analyst</td>\n",
       "      <td>Jobot</td>\n",
       "      <td>Atlanta, GA</td>\n",
       "      <td>via BeBee</td>\n",
       "      <td>Entry Level Data Analyst - hybrid This Jobot J...</td>\n",
       "      <td>7</td>\n",
       "      <td>12/18/2022</td>\n",
       "      <td>NaN</td>\n",
       "      <td>NaN</td>\n",
       "      <td>No</td>\n",
       "      <td>0</td>\n",
       "      <td>1</td>\n",
       "      <td>0</td>\n",
       "      <td>0</td>\n",
       "    </tr>\n",
       "    <tr>\n",
       "      <th>11</th>\n",
       "      <td>Jr Data Analyst- Entry level- local to Atlanta</td>\n",
       "      <td>Vaco Technology</td>\n",
       "      <td>Atlanta, GA</td>\n",
       "      <td>via Atlanta, GA - Geebo</td>\n",
       "      <td>Full Job Description\\n\\nResponsibilities...\\n•...</td>\n",
       "      <td>3</td>\n",
       "      <td>12/19/2022</td>\n",
       "      <td>NaN</td>\n",
       "      <td>20–28 an hour</td>\n",
       "      <td>No</td>\n",
       "      <td>1</td>\n",
       "      <td>1</td>\n",
       "      <td>1</td>\n",
       "      <td>0</td>\n",
       "    </tr>\n",
       "    <tr>\n",
       "      <th>12</th>\n",
       "      <td>asd</td>\n",
       "      <td>asd</td>\n",
       "      <td>Anywhere</td>\n",
       "      <td>via AAA</td>\n",
       "      <td>ajsdas salary: $67k -$80k per year.</td>\n",
       "      <td>2</td>\n",
       "      <td>12/19/2022</td>\n",
       "      <td>NaN</td>\n",
       "      <td>NaN</td>\n",
       "      <td>Yes</td>\n",
       "      <td>0</td>\n",
       "      <td>0</td>\n",
       "      <td>0</td>\n",
       "      <td>0</td>\n",
       "    </tr>\n",
       "    <tr>\n",
       "      <th>13</th>\n",
       "      <td>asd</td>\n",
       "      <td>asd</td>\n",
       "      <td>Anywhere</td>\n",
       "      <td>via AAA</td>\n",
       "      <td>ajsdas salary: $67k -$80k per year.</td>\n",
       "      <td>3</td>\n",
       "      <td>12/19/2022</td>\n",
       "      <td>NaN</td>\n",
       "      <td>NaN</td>\n",
       "      <td>Yes</td>\n",
       "      <td>0</td>\n",
       "      <td>0</td>\n",
       "      <td>0</td>\n",
       "      <td>0</td>\n",
       "    </tr>\n",
       "  </tbody>\n",
       "</table>\n",
       "</div>"
      ],
      "text/plain": [
       "                                                title  \\\n",
       "0                                     Jr Data Analyst   \n",
       "1                                     Jr Data Analyst   \n",
       "2                                     Jr Data Analyst   \n",
       "3                                     Jr Data Analyst   \n",
       "4                                     Jr Data Analyst   \n",
       "5   Junior Data Analyst - REMOTE - US Citizenship ...   \n",
       "6               Junior Data Analyst (with Power Apps)   \n",
       "7                 Data Analyst Entry Level (Bootcamp)   \n",
       "8                                 Junior Data Analyst   \n",
       "9                                 Junior Data Analyst   \n",
       "10                                Junior Data Analyst   \n",
       "11     Jr Data Analyst- Entry level- local to Atlanta   \n",
       "12                                                asd   \n",
       "13                                                asd   \n",
       "\n",
       "                                         company_name     location  \\\n",
       "0   TechFetch.com - On Demand Tech Workforce hirin...  Atlanta, GA   \n",
       "1   TechFetch.com - On Demand Tech Workforce hirin...  Atlanta, GA   \n",
       "2   TechFetch.com - On Demand Tech Workforce hirin...  Atlanta, GA   \n",
       "3   TechFetch.com - On Demand Tech Workforce hirin...  Atlanta, GA   \n",
       "4   TechFetch.com - On Demand Tech Workforce hirin...  Atlanta, GA   \n",
       "5             General Dynamics Information Technology  Atlanta, GA   \n",
       "6                                              Jacobs  Atlanta, GA   \n",
       "7                                             Helm360  Atlanta, GA   \n",
       "8                                               Jobot  Atlanta, GA   \n",
       "9                                               Jobot  Atlanta, GA   \n",
       "10                                              Jobot  Atlanta, GA   \n",
       "11                                    Vaco Technology  Atlanta, GA   \n",
       "12                                                asd     Anywhere   \n",
       "13                                                asd     Anywhere   \n",
       "\n",
       "                        via  \\\n",
       "0              via LinkedIn   \n",
       "1              via LinkedIn   \n",
       "2              via LinkedIn   \n",
       "3              via LinkedIn   \n",
       "4              via LinkedIn   \n",
       "5               via Monster   \n",
       "6             via StartWire   \n",
       "7             via Glassdoor   \n",
       "8                 via BeBee   \n",
       "9                 via BeBee   \n",
       "10                via BeBee   \n",
       "11  via Atlanta, GA - Geebo   \n",
       "12                  via AAA   \n",
       "13                  via AAA   \n",
       "\n",
       "                                          description  posted_by_day  \\\n",
       "0   \"ALL our jobs are US based and candidates must...              0   \n",
       "1   \"ALL our jobs are US based and candidates must...              1   \n",
       "2   \"ALL our jobs are US based and candidates must...              2   \n",
       "3   \"ALL our jobs are US based and candidates must...              3   \n",
       "4   \"ALL our jobs are US based and candidates must...              4   \n",
       "5   Type of Requisition: Regular\\n\\nClearance Leve...              4   \n",
       "6   We have more than 1800 colleagues in Poland, s...              4   \n",
       "7   Responsibilities\\n• Interpret data, analyze re...              5   \n",
       "8   Entry Level Data Analyst - hybrid This Jobot J...              5   \n",
       "9   Entry Level Data Analyst - hybrid This Jobot J...              6   \n",
       "10  Entry Level Data Analyst - hybrid This Jobot J...              7   \n",
       "11  Full Job Description\\n\\nResponsibilities...\\n•...              3   \n",
       "12                ajsdas salary: $67k -$80k per year.              2   \n",
       "13                ajsdas salary: $67k -$80k per year.              3   \n",
       "\n",
       "   inserted_at  work_from_home         salary remote  sql  excel  python  \\\n",
       "0   12/12/2022             NaN            NaN     No    1      1       1   \n",
       "1   12/13/2022             NaN            NaN     No    1      1       1   \n",
       "2   12/14/2022             NaN            NaN     No    1      1       1   \n",
       "3   12/15/2022             NaN            NaN     No    1      1       1   \n",
       "4   12/16/2022             NaN            NaN     No    1      1       1   \n",
       "5   12/16/2022             NaN            NaN     No    0      0       0   \n",
       "6   12/16/2022             NaN            NaN     No    1      1       0   \n",
       "7   12/17/2022             NaN            NaN     No    1      1       0   \n",
       "8   12/17/2022             NaN            NaN     No    0      1       0   \n",
       "9   12/18/2022             NaN            NaN     No    0      1       0   \n",
       "10  12/18/2022             NaN            NaN     No    0      1       0   \n",
       "11  12/19/2022             NaN  20–28 an hour     No    1      1       1   \n",
       "12  12/19/2022             NaN            NaN    Yes    0      0       0   \n",
       "13  12/19/2022             NaN            NaN    Yes    0      0       0   \n",
       "\n",
       "    tableau  \n",
       "0         1  \n",
       "1         1  \n",
       "2         1  \n",
       "3         1  \n",
       "4         1  \n",
       "5         1  \n",
       "6         0  \n",
       "7         0  \n",
       "8         0  \n",
       "9         0  \n",
       "10        0  \n",
       "11        0  \n",
       "12        0  \n",
       "13        0  "
      ]
     },
     "execution_count": 270,
     "metadata": {},
     "output_type": "execute_result"
    }
   ],
   "source": [
    "job_report"
   ]
  },
  {
   "cell_type": "code",
   "execution_count": 104,
   "id": "f0816575",
   "metadata": {},
   "outputs": [],
   "source": [
    "# checking to see which implementation to use (which is faster)"
   ]
  },
  {
   "cell_type": "code",
   "execution_count": 135,
   "id": "2b81f6bc",
   "metadata": {},
   "outputs": [
    {
     "name": "stdout",
     "output_type": "stream",
     "text": [
      "0.15772699999979523\n"
     ]
    }
   ],
   "source": [
    "import timeit\n",
    "\n",
    "mysetup = \"import pandas\"\n",
    "mycode= '''\n",
    "def find_tech(tech_ind, tech_arr):\n",
    "    job_des = job_report['description']\n",
    "    for i,v in enumerate(job_des):\n",
    "        if job_des[i].lower().find(tech_ind) != -1:\n",
    "            tech_arr.append(1)\n",
    "        else:\n",
    "            tech_arr.append(0)\n",
    "def tech_arr_populate():\n",
    "    for i, v in enumerate(tech_stack):\n",
    "        find_tech(tech_stack[i], tech_stack_var[i])\n",
    "'''\n",
    "\n",
    "print(timeit.timeit(setup=mysetup, stmt=mycode))"
   ]
  },
  {
   "cell_type": "code",
   "execution_count": 122,
   "id": "00250c21",
   "metadata": {},
   "outputs": [],
   "source": [
    "# checking the simple method -- clearly faster."
   ]
  },
  {
   "cell_type": "code",
   "execution_count": 138,
   "id": "fde26913",
   "metadata": {},
   "outputs": [
    {
     "name": "stdout",
     "output_type": "stream",
     "text": [
      "0.08540440000069793\n"
     ]
    }
   ],
   "source": [
    "mysetup = 'import pandas'\n",
    "mycode = '''\n",
    "def simple_tech_arr():\n",
    "    job_des = job_report['description']\n",
    "\n",
    "    for i,v in enumerate(job_des):\n",
    "        for index, value in enumerate(tech_stack):\n",
    "            if job_des[i].lower().find(value) != -1:\n",
    "                tech_stack_var[index].append(1)\n",
    "            else:\n",
    "                tech_stack_var[index].append(0)\n",
    "'''\n",
    "\n",
    "print(timeit.timeit(setup=mysetup, stmt=mycode))"
   ]
  },
  {
   "cell_type": "markdown",
   "id": "7b8b7452",
   "metadata": {},
   "source": [
    "## Buildup visuals with plotly and prepare it for streamlit app"
   ]
  },
  {
   "cell_type": "markdown",
   "id": "c9148f18",
   "metadata": {},
   "source": [
    "### Types: 2 line record count per day [loc vs remote] | search trend | skillset count | salary with avg trendline"
   ]
  },
  {
   "cell_type": "code",
   "execution_count": 560,
   "id": "0beaedb4",
   "metadata": {},
   "outputs": [
    {
     "data": {
      "application/vnd.plotly.v1+json": {
       "config": {
        "plotlyServerURL": "https://plot.ly"
       },
       "data": [
        {
         "hovertemplate": "index=%{x}<br>inserted_at=%{y}<extra></extra>",
         "legendgroup": "",
         "line": {
          "color": "#000001",
          "dash": "solid"
         },
         "marker": {
          "symbol": "circle"
         },
         "mode": "lines",
         "name": "",
         "orientation": "v",
         "showlegend": false,
         "type": "scatter",
         "x": [
          "12/12/2022",
          "12/13/2022",
          "12/14/2022",
          "12/15/2022",
          "12/16/2022",
          "12/17/2022",
          "12/18/2022",
          "12/19/2022"
         ],
         "xaxis": "x",
         "y": [
          1,
          1,
          1,
          1,
          3,
          2,
          2,
          3
         ],
         "yaxis": "y"
        }
       ],
       "layout": {
        "legend": {
         "tracegroupgap": 0
        },
        "margin": {
         "t": 60
        },
        "template": {
         "data": {
          "candlestick": [
           {
            "decreasing": {
             "line": {
              "color": "#000033"
             }
            },
            "increasing": {
             "line": {
              "color": "#000032"
             }
            },
            "type": "candlestick"
           }
          ],
          "contour": [
           {
            "colorscale": [
             [
              0,
              "#000011"
             ],
             [
              0.1111111111111111,
              "#000012"
             ],
             [
              0.2222222222222222,
              "#000013"
             ],
             [
              0.3333333333333333,
              "#000014"
             ],
             [
              0.4444444444444444,
              "#000015"
             ],
             [
              0.5555555555555556,
              "#000016"
             ],
             [
              0.6666666666666666,
              "#000017"
             ],
             [
              0.7777777777777778,
              "#000018"
             ],
             [
              0.8888888888888888,
              "#000019"
             ],
             [
              1,
              "#000020"
             ]
            ],
            "type": "contour"
           }
          ],
          "contourcarpet": [
           {
            "colorscale": [
             [
              0,
              "#000011"
             ],
             [
              0.1111111111111111,
              "#000012"
             ],
             [
              0.2222222222222222,
              "#000013"
             ],
             [
              0.3333333333333333,
              "#000014"
             ],
             [
              0.4444444444444444,
              "#000015"
             ],
             [
              0.5555555555555556,
              "#000016"
             ],
             [
              0.6666666666666666,
              "#000017"
             ],
             [
              0.7777777777777778,
              "#000018"
             ],
             [
              0.8888888888888888,
              "#000019"
             ],
             [
              1,
              "#000020"
             ]
            ],
            "type": "contourcarpet"
           }
          ],
          "heatmap": [
           {
            "colorscale": [
             [
              0,
              "#000011"
             ],
             [
              0.1111111111111111,
              "#000012"
             ],
             [
              0.2222222222222222,
              "#000013"
             ],
             [
              0.3333333333333333,
              "#000014"
             ],
             [
              0.4444444444444444,
              "#000015"
             ],
             [
              0.5555555555555556,
              "#000016"
             ],
             [
              0.6666666666666666,
              "#000017"
             ],
             [
              0.7777777777777778,
              "#000018"
             ],
             [
              0.8888888888888888,
              "#000019"
             ],
             [
              1,
              "#000020"
             ]
            ],
            "type": "heatmap"
           }
          ],
          "histogram2d": [
           {
            "colorscale": [
             [
              0,
              "#000011"
             ],
             [
              0.1111111111111111,
              "#000012"
             ],
             [
              0.2222222222222222,
              "#000013"
             ],
             [
              0.3333333333333333,
              "#000014"
             ],
             [
              0.4444444444444444,
              "#000015"
             ],
             [
              0.5555555555555556,
              "#000016"
             ],
             [
              0.6666666666666666,
              "#000017"
             ],
             [
              0.7777777777777778,
              "#000018"
             ],
             [
              0.8888888888888888,
              "#000019"
             ],
             [
              1,
              "#000020"
             ]
            ],
            "type": "histogram2d"
           }
          ],
          "icicle": [
           {
            "textfont": {
             "color": "white"
            },
            "type": "icicle"
           }
          ],
          "sankey": [
           {
            "textfont": {
             "color": "#000036"
            },
            "type": "sankey"
           }
          ],
          "scatter": [
           {
            "marker": {
             "line": {
              "width": 0
             }
            },
            "type": "scatter"
           }
          ],
          "table": [
           {
            "cells": {
             "fill": {
              "color": "#000038"
             },
             "font": {
              "color": "#000037"
             },
             "line": {
              "color": "#000039"
             }
            },
            "header": {
             "fill": {
              "color": "#000040"
             },
             "font": {
              "color": "#000036"
             },
             "line": {
              "color": "#000039"
             }
            },
            "type": "table"
           }
          ],
          "waterfall": [
           {
            "connector": {
             "line": {
              "color": "#000036",
              "width": 2
             }
            },
            "decreasing": {
             "marker": {
              "color": "#000033"
             }
            },
            "increasing": {
             "marker": {
              "color": "#000032"
             }
            },
            "totals": {
             "marker": {
              "color": "#000034"
             }
            },
            "type": "waterfall"
           }
          ]
         },
         "layout": {
          "coloraxis": {
           "colorscale": [
            [
             0,
             "#000011"
            ],
            [
             0.1111111111111111,
             "#000012"
            ],
            [
             0.2222222222222222,
             "#000013"
            ],
            [
             0.3333333333333333,
             "#000014"
            ],
            [
             0.4444444444444444,
             "#000015"
            ],
            [
             0.5555555555555556,
             "#000016"
            ],
            [
             0.6666666666666666,
             "#000017"
            ],
            [
             0.7777777777777778,
             "#000018"
            ],
            [
             0.8888888888888888,
             "#000019"
            ],
            [
             1,
             "#000020"
            ]
           ]
          },
          "colorscale": {
           "diverging": [
            [
             0,
             "#000021"
            ],
            [
             0.1,
             "#000022"
            ],
            [
             0.2,
             "#000023"
            ],
            [
             0.3,
             "#000024"
            ],
            [
             0.4,
             "#000025"
            ],
            [
             0.5,
             "#000026"
            ],
            [
             0.6,
             "#000027"
            ],
            [
             0.7,
             "#000028"
            ],
            [
             0.8,
             "#000029"
            ],
            [
             0.9,
             "#000030"
            ],
            [
             1,
             "#000031"
            ]
           ],
           "sequential": [
            [
             0,
             "#000011"
            ],
            [
             0.1111111111111111,
             "#000012"
            ],
            [
             0.2222222222222222,
             "#000013"
            ],
            [
             0.3333333333333333,
             "#000014"
            ],
            [
             0.4444444444444444,
             "#000015"
            ],
            [
             0.5555555555555556,
             "#000016"
            ],
            [
             0.6666666666666666,
             "#000017"
            ],
            [
             0.7777777777777778,
             "#000018"
            ],
            [
             0.8888888888888888,
             "#000019"
            ],
            [
             1,
             "#000020"
            ]
           ],
           "sequentialminus": [
            [
             0,
             "#000011"
            ],
            [
             0.1111111111111111,
             "#000012"
            ],
            [
             0.2222222222222222,
             "#000013"
            ],
            [
             0.3333333333333333,
             "#000014"
            ],
            [
             0.4444444444444444,
             "#000015"
            ],
            [
             0.5555555555555556,
             "#000016"
            ],
            [
             0.6666666666666666,
             "#000017"
            ],
            [
             0.7777777777777778,
             "#000018"
            ],
            [
             0.8888888888888888,
             "#000019"
            ],
            [
             1,
             "#000020"
            ]
           ]
          },
          "colorway": [
           "#000001",
           "#000002",
           "#000003",
           "#000004",
           "#000005",
           "#000006",
           "#000007",
           "#000008",
           "#000009",
           "#000010"
          ]
         }
        },
        "xaxis": {
         "anchor": "y",
         "domain": [
          0,
          1
         ],
         "title": {
          "text": "index"
         }
        },
        "yaxis": {
         "anchor": "x",
         "domain": [
          0,
          1
         ],
         "title": {
          "text": "inserted_at"
         }
        }
       }
      },
      "text/html": [
       "<div>                            <div id=\"77ee215c-41c7-43c0-85fe-08e0ae0bb386\" class=\"plotly-graph-div\" style=\"height:525px; width:100%;\"></div>            <script type=\"text/javascript\">                require([\"plotly\"], function(Plotly) {                    window.PLOTLYENV=window.PLOTLYENV || {};                                    if (document.getElementById(\"77ee215c-41c7-43c0-85fe-08e0ae0bb386\")) {                    Plotly.newPlot(                        \"77ee215c-41c7-43c0-85fe-08e0ae0bb386\",                        [{\"hovertemplate\":\"index=%{x}<br>inserted_at=%{y}<extra></extra>\",\"legendgroup\":\"\",\"line\":{\"color\":\"#000001\",\"dash\":\"solid\"},\"marker\":{\"symbol\":\"circle\"},\"mode\":\"lines\",\"name\":\"\",\"orientation\":\"v\",\"showlegend\":false,\"x\":[\"12/12/2022\",\"12/13/2022\",\"12/14/2022\",\"12/15/2022\",\"12/16/2022\",\"12/17/2022\",\"12/18/2022\",\"12/19/2022\"],\"xaxis\":\"x\",\"y\":[1,1,1,1,3,2,2,3],\"yaxis\":\"y\",\"type\":\"scatter\"}],                        {\"template\":{\"data\":{\"candlestick\":[{\"decreasing\":{\"line\":{\"color\":\"#000033\"}},\"increasing\":{\"line\":{\"color\":\"#000032\"}},\"type\":\"candlestick\"}],\"contourcarpet\":[{\"colorscale\":[[0.0,\"#000011\"],[0.1111111111111111,\"#000012\"],[0.2222222222222222,\"#000013\"],[0.3333333333333333,\"#000014\"],[0.4444444444444444,\"#000015\"],[0.5555555555555556,\"#000016\"],[0.6666666666666666,\"#000017\"],[0.7777777777777778,\"#000018\"],[0.8888888888888888,\"#000019\"],[1.0,\"#000020\"]],\"type\":\"contourcarpet\"}],\"contour\":[{\"colorscale\":[[0.0,\"#000011\"],[0.1111111111111111,\"#000012\"],[0.2222222222222222,\"#000013\"],[0.3333333333333333,\"#000014\"],[0.4444444444444444,\"#000015\"],[0.5555555555555556,\"#000016\"],[0.6666666666666666,\"#000017\"],[0.7777777777777778,\"#000018\"],[0.8888888888888888,\"#000019\"],[1.0,\"#000020\"]],\"type\":\"contour\"}],\"heatmap\":[{\"colorscale\":[[0.0,\"#000011\"],[0.1111111111111111,\"#000012\"],[0.2222222222222222,\"#000013\"],[0.3333333333333333,\"#000014\"],[0.4444444444444444,\"#000015\"],[0.5555555555555556,\"#000016\"],[0.6666666666666666,\"#000017\"],[0.7777777777777778,\"#000018\"],[0.8888888888888888,\"#000019\"],[1.0,\"#000020\"]],\"type\":\"heatmap\"}],\"histogram2d\":[{\"colorscale\":[[0.0,\"#000011\"],[0.1111111111111111,\"#000012\"],[0.2222222222222222,\"#000013\"],[0.3333333333333333,\"#000014\"],[0.4444444444444444,\"#000015\"],[0.5555555555555556,\"#000016\"],[0.6666666666666666,\"#000017\"],[0.7777777777777778,\"#000018\"],[0.8888888888888888,\"#000019\"],[1.0,\"#000020\"]],\"type\":\"histogram2d\"}],\"icicle\":[{\"textfont\":{\"color\":\"white\"},\"type\":\"icicle\"}],\"sankey\":[{\"textfont\":{\"color\":\"#000036\"},\"type\":\"sankey\"}],\"scatter\":[{\"marker\":{\"line\":{\"width\":0}},\"type\":\"scatter\"}],\"table\":[{\"cells\":{\"fill\":{\"color\":\"#000038\"},\"font\":{\"color\":\"#000037\"},\"line\":{\"color\":\"#000039\"}},\"header\":{\"fill\":{\"color\":\"#000040\"},\"font\":{\"color\":\"#000036\"},\"line\":{\"color\":\"#000039\"}},\"type\":\"table\"}],\"waterfall\":[{\"connector\":{\"line\":{\"color\":\"#000036\",\"width\":2}},\"decreasing\":{\"marker\":{\"color\":\"#000033\"}},\"increasing\":{\"marker\":{\"color\":\"#000032\"}},\"totals\":{\"marker\":{\"color\":\"#000034\"}},\"type\":\"waterfall\"}]},\"layout\":{\"coloraxis\":{\"colorscale\":[[0.0,\"#000011\"],[0.1111111111111111,\"#000012\"],[0.2222222222222222,\"#000013\"],[0.3333333333333333,\"#000014\"],[0.4444444444444444,\"#000015\"],[0.5555555555555556,\"#000016\"],[0.6666666666666666,\"#000017\"],[0.7777777777777778,\"#000018\"],[0.8888888888888888,\"#000019\"],[1.0,\"#000020\"]]},\"colorscale\":{\"diverging\":[[0.0,\"#000021\"],[0.1,\"#000022\"],[0.2,\"#000023\"],[0.3,\"#000024\"],[0.4,\"#000025\"],[0.5,\"#000026\"],[0.6,\"#000027\"],[0.7,\"#000028\"],[0.8,\"#000029\"],[0.9,\"#000030\"],[1.0,\"#000031\"]],\"sequential\":[[0.0,\"#000011\"],[0.1111111111111111,\"#000012\"],[0.2222222222222222,\"#000013\"],[0.3333333333333333,\"#000014\"],[0.4444444444444444,\"#000015\"],[0.5555555555555556,\"#000016\"],[0.6666666666666666,\"#000017\"],[0.7777777777777778,\"#000018\"],[0.8888888888888888,\"#000019\"],[1.0,\"#000020\"]],\"sequentialminus\":[[0.0,\"#000011\"],[0.1111111111111111,\"#000012\"],[0.2222222222222222,\"#000013\"],[0.3333333333333333,\"#000014\"],[0.4444444444444444,\"#000015\"],[0.5555555555555556,\"#000016\"],[0.6666666666666666,\"#000017\"],[0.7777777777777778,\"#000018\"],[0.8888888888888888,\"#000019\"],[1.0,\"#000020\"]]},\"colorway\":[\"#000001\",\"#000002\",\"#000003\",\"#000004\",\"#000005\",\"#000006\",\"#000007\",\"#000008\",\"#000009\",\"#000010\"]}},\"xaxis\":{\"anchor\":\"y\",\"domain\":[0.0,1.0],\"title\":{\"text\":\"index\"}},\"yaxis\":{\"anchor\":\"x\",\"domain\":[0.0,1.0],\"title\":{\"text\":\"inserted_at\"}},\"legend\":{\"tracegroupgap\":0},\"margin\":{\"t\":60}},                        {\"responsive\": true}                    ).then(function(){\n",
       "                            \n",
       "var gd = document.getElementById('77ee215c-41c7-43c0-85fe-08e0ae0bb386');\n",
       "var x = new MutationObserver(function (mutations, observer) {{\n",
       "        var display = window.getComputedStyle(gd).display;\n",
       "        if (!display || display === 'none') {{\n",
       "            console.log([gd, 'removed!']);\n",
       "            Plotly.purge(gd);\n",
       "            observer.disconnect();\n",
       "        }}\n",
       "}});\n",
       "\n",
       "// Listen for the removal of the full notebook cells\n",
       "var notebookContainer = gd.closest('#notebook-container');\n",
       "if (notebookContainer) {{\n",
       "    x.observe(notebookContainer, {childList: true});\n",
       "}}\n",
       "\n",
       "// Listen for the clearing of the current output cell\n",
       "var outputEl = gd.closest('.output');\n",
       "if (outputEl) {{\n",
       "    x.observe(outputEl, {childList: true});\n",
       "}}\n",
       "\n",
       "                        })                };                });            </script>        </div>"
      ]
     },
     "metadata": {},
     "output_type": "display_data"
    }
   ],
   "source": [
    "import plotly.express as px\n",
    "# df = job_report\n",
    "# fig = px.line(df, x='inserted_at')\n",
    "# fig.show()\n",
    "\n",
    "df_grouped = job_report['inserted_at'].groupby(job_report['inserted_at']).count()\n",
    "df_grouped\n",
    "\n",
    "df = df_grouped\n",
    "fig = px.line(df, y='inserted_at')\n",
    "fig.show()"
   ]
  },
  {
   "cell_type": "code",
   "execution_count": 300,
   "id": "631b6673",
   "metadata": {},
   "outputs": [
    {
     "data": {
      "application/vnd.plotly.v1+json": {
       "config": {
        "plotlyServerURL": "https://plot.ly"
       },
       "data": [
        {
         "alignmentgroup": "True",
         "hovertemplate": "index=%{x}<br>y=%{y}<extra></extra>",
         "legendgroup": "",
         "marker": {
          "color": "#636efa",
          "pattern": {
           "shape": ""
          }
         },
         "name": "",
         "offsetgroup": "",
         "orientation": "v",
         "showlegend": false,
         "textposition": "auto",
         "type": "bar",
         "x": [
          "sql",
          "excel",
          "python",
          "tableau"
         ],
         "xaxis": "x",
         "y": [
          8,
          11,
          6,
          6
         ],
         "yaxis": "y"
        }
       ],
       "layout": {
        "barmode": "relative",
        "legend": {
         "tracegroupgap": 0
        },
        "template": {
         "data": {
          "bar": [
           {
            "error_x": {
             "color": "#2a3f5f"
            },
            "error_y": {
             "color": "#2a3f5f"
            },
            "marker": {
             "line": {
              "color": "#E5ECF6",
              "width": 0.5
             },
             "pattern": {
              "fillmode": "overlay",
              "size": 10,
              "solidity": 0.2
             }
            },
            "type": "bar"
           }
          ],
          "barpolar": [
           {
            "marker": {
             "line": {
              "color": "#E5ECF6",
              "width": 0.5
             },
             "pattern": {
              "fillmode": "overlay",
              "size": 10,
              "solidity": 0.2
             }
            },
            "type": "barpolar"
           }
          ],
          "carpet": [
           {
            "aaxis": {
             "endlinecolor": "#2a3f5f",
             "gridcolor": "white",
             "linecolor": "white",
             "minorgridcolor": "white",
             "startlinecolor": "#2a3f5f"
            },
            "baxis": {
             "endlinecolor": "#2a3f5f",
             "gridcolor": "white",
             "linecolor": "white",
             "minorgridcolor": "white",
             "startlinecolor": "#2a3f5f"
            },
            "type": "carpet"
           }
          ],
          "choropleth": [
           {
            "colorbar": {
             "outlinewidth": 0,
             "ticks": ""
            },
            "type": "choropleth"
           }
          ],
          "contour": [
           {
            "colorbar": {
             "outlinewidth": 0,
             "ticks": ""
            },
            "colorscale": [
             [
              0,
              "#0d0887"
             ],
             [
              0.1111111111111111,
              "#46039f"
             ],
             [
              0.2222222222222222,
              "#7201a8"
             ],
             [
              0.3333333333333333,
              "#9c179e"
             ],
             [
              0.4444444444444444,
              "#bd3786"
             ],
             [
              0.5555555555555556,
              "#d8576b"
             ],
             [
              0.6666666666666666,
              "#ed7953"
             ],
             [
              0.7777777777777778,
              "#fb9f3a"
             ],
             [
              0.8888888888888888,
              "#fdca26"
             ],
             [
              1,
              "#f0f921"
             ]
            ],
            "type": "contour"
           }
          ],
          "contourcarpet": [
           {
            "colorbar": {
             "outlinewidth": 0,
             "ticks": ""
            },
            "type": "contourcarpet"
           }
          ],
          "heatmap": [
           {
            "colorbar": {
             "outlinewidth": 0,
             "ticks": ""
            },
            "colorscale": [
             [
              0,
              "#0d0887"
             ],
             [
              0.1111111111111111,
              "#46039f"
             ],
             [
              0.2222222222222222,
              "#7201a8"
             ],
             [
              0.3333333333333333,
              "#9c179e"
             ],
             [
              0.4444444444444444,
              "#bd3786"
             ],
             [
              0.5555555555555556,
              "#d8576b"
             ],
             [
              0.6666666666666666,
              "#ed7953"
             ],
             [
              0.7777777777777778,
              "#fb9f3a"
             ],
             [
              0.8888888888888888,
              "#fdca26"
             ],
             [
              1,
              "#f0f921"
             ]
            ],
            "type": "heatmap"
           }
          ],
          "heatmapgl": [
           {
            "colorbar": {
             "outlinewidth": 0,
             "ticks": ""
            },
            "colorscale": [
             [
              0,
              "#0d0887"
             ],
             [
              0.1111111111111111,
              "#46039f"
             ],
             [
              0.2222222222222222,
              "#7201a8"
             ],
             [
              0.3333333333333333,
              "#9c179e"
             ],
             [
              0.4444444444444444,
              "#bd3786"
             ],
             [
              0.5555555555555556,
              "#d8576b"
             ],
             [
              0.6666666666666666,
              "#ed7953"
             ],
             [
              0.7777777777777778,
              "#fb9f3a"
             ],
             [
              0.8888888888888888,
              "#fdca26"
             ],
             [
              1,
              "#f0f921"
             ]
            ],
            "type": "heatmapgl"
           }
          ],
          "histogram": [
           {
            "marker": {
             "pattern": {
              "fillmode": "overlay",
              "size": 10,
              "solidity": 0.2
             }
            },
            "type": "histogram"
           }
          ],
          "histogram2d": [
           {
            "colorbar": {
             "outlinewidth": 0,
             "ticks": ""
            },
            "colorscale": [
             [
              0,
              "#0d0887"
             ],
             [
              0.1111111111111111,
              "#46039f"
             ],
             [
              0.2222222222222222,
              "#7201a8"
             ],
             [
              0.3333333333333333,
              "#9c179e"
             ],
             [
              0.4444444444444444,
              "#bd3786"
             ],
             [
              0.5555555555555556,
              "#d8576b"
             ],
             [
              0.6666666666666666,
              "#ed7953"
             ],
             [
              0.7777777777777778,
              "#fb9f3a"
             ],
             [
              0.8888888888888888,
              "#fdca26"
             ],
             [
              1,
              "#f0f921"
             ]
            ],
            "type": "histogram2d"
           }
          ],
          "histogram2dcontour": [
           {
            "colorbar": {
             "outlinewidth": 0,
             "ticks": ""
            },
            "colorscale": [
             [
              0,
              "#0d0887"
             ],
             [
              0.1111111111111111,
              "#46039f"
             ],
             [
              0.2222222222222222,
              "#7201a8"
             ],
             [
              0.3333333333333333,
              "#9c179e"
             ],
             [
              0.4444444444444444,
              "#bd3786"
             ],
             [
              0.5555555555555556,
              "#d8576b"
             ],
             [
              0.6666666666666666,
              "#ed7953"
             ],
             [
              0.7777777777777778,
              "#fb9f3a"
             ],
             [
              0.8888888888888888,
              "#fdca26"
             ],
             [
              1,
              "#f0f921"
             ]
            ],
            "type": "histogram2dcontour"
           }
          ],
          "mesh3d": [
           {
            "colorbar": {
             "outlinewidth": 0,
             "ticks": ""
            },
            "type": "mesh3d"
           }
          ],
          "parcoords": [
           {
            "line": {
             "colorbar": {
              "outlinewidth": 0,
              "ticks": ""
             }
            },
            "type": "parcoords"
           }
          ],
          "pie": [
           {
            "automargin": true,
            "type": "pie"
           }
          ],
          "scatter": [
           {
            "fillpattern": {
             "fillmode": "overlay",
             "size": 10,
             "solidity": 0.2
            },
            "type": "scatter"
           }
          ],
          "scatter3d": [
           {
            "line": {
             "colorbar": {
              "outlinewidth": 0,
              "ticks": ""
             }
            },
            "marker": {
             "colorbar": {
              "outlinewidth": 0,
              "ticks": ""
             }
            },
            "type": "scatter3d"
           }
          ],
          "scattercarpet": [
           {
            "marker": {
             "colorbar": {
              "outlinewidth": 0,
              "ticks": ""
             }
            },
            "type": "scattercarpet"
           }
          ],
          "scattergeo": [
           {
            "marker": {
             "colorbar": {
              "outlinewidth": 0,
              "ticks": ""
             }
            },
            "type": "scattergeo"
           }
          ],
          "scattergl": [
           {
            "marker": {
             "colorbar": {
              "outlinewidth": 0,
              "ticks": ""
             }
            },
            "type": "scattergl"
           }
          ],
          "scattermapbox": [
           {
            "marker": {
             "colorbar": {
              "outlinewidth": 0,
              "ticks": ""
             }
            },
            "type": "scattermapbox"
           }
          ],
          "scatterpolar": [
           {
            "marker": {
             "colorbar": {
              "outlinewidth": 0,
              "ticks": ""
             }
            },
            "type": "scatterpolar"
           }
          ],
          "scatterpolargl": [
           {
            "marker": {
             "colorbar": {
              "outlinewidth": 0,
              "ticks": ""
             }
            },
            "type": "scatterpolargl"
           }
          ],
          "scatterternary": [
           {
            "marker": {
             "colorbar": {
              "outlinewidth": 0,
              "ticks": ""
             }
            },
            "type": "scatterternary"
           }
          ],
          "surface": [
           {
            "colorbar": {
             "outlinewidth": 0,
             "ticks": ""
            },
            "colorscale": [
             [
              0,
              "#0d0887"
             ],
             [
              0.1111111111111111,
              "#46039f"
             ],
             [
              0.2222222222222222,
              "#7201a8"
             ],
             [
              0.3333333333333333,
              "#9c179e"
             ],
             [
              0.4444444444444444,
              "#bd3786"
             ],
             [
              0.5555555555555556,
              "#d8576b"
             ],
             [
              0.6666666666666666,
              "#ed7953"
             ],
             [
              0.7777777777777778,
              "#fb9f3a"
             ],
             [
              0.8888888888888888,
              "#fdca26"
             ],
             [
              1,
              "#f0f921"
             ]
            ],
            "type": "surface"
           }
          ],
          "table": [
           {
            "cells": {
             "fill": {
              "color": "#EBF0F8"
             },
             "line": {
              "color": "white"
             }
            },
            "header": {
             "fill": {
              "color": "#C8D4E3"
             },
             "line": {
              "color": "white"
             }
            },
            "type": "table"
           }
          ]
         },
         "layout": {
          "annotationdefaults": {
           "arrowcolor": "#2a3f5f",
           "arrowhead": 0,
           "arrowwidth": 1
          },
          "autotypenumbers": "strict",
          "coloraxis": {
           "colorbar": {
            "outlinewidth": 0,
            "ticks": ""
           }
          },
          "colorscale": {
           "diverging": [
            [
             0,
             "#8e0152"
            ],
            [
             0.1,
             "#c51b7d"
            ],
            [
             0.2,
             "#de77ae"
            ],
            [
             0.3,
             "#f1b6da"
            ],
            [
             0.4,
             "#fde0ef"
            ],
            [
             0.5,
             "#f7f7f7"
            ],
            [
             0.6,
             "#e6f5d0"
            ],
            [
             0.7,
             "#b8e186"
            ],
            [
             0.8,
             "#7fbc41"
            ],
            [
             0.9,
             "#4d9221"
            ],
            [
             1,
             "#276419"
            ]
           ],
           "sequential": [
            [
             0,
             "#0d0887"
            ],
            [
             0.1111111111111111,
             "#46039f"
            ],
            [
             0.2222222222222222,
             "#7201a8"
            ],
            [
             0.3333333333333333,
             "#9c179e"
            ],
            [
             0.4444444444444444,
             "#bd3786"
            ],
            [
             0.5555555555555556,
             "#d8576b"
            ],
            [
             0.6666666666666666,
             "#ed7953"
            ],
            [
             0.7777777777777778,
             "#fb9f3a"
            ],
            [
             0.8888888888888888,
             "#fdca26"
            ],
            [
             1,
             "#f0f921"
            ]
           ],
           "sequentialminus": [
            [
             0,
             "#0d0887"
            ],
            [
             0.1111111111111111,
             "#46039f"
            ],
            [
             0.2222222222222222,
             "#7201a8"
            ],
            [
             0.3333333333333333,
             "#9c179e"
            ],
            [
             0.4444444444444444,
             "#bd3786"
            ],
            [
             0.5555555555555556,
             "#d8576b"
            ],
            [
             0.6666666666666666,
             "#ed7953"
            ],
            [
             0.7777777777777778,
             "#fb9f3a"
            ],
            [
             0.8888888888888888,
             "#fdca26"
            ],
            [
             1,
             "#f0f921"
            ]
           ]
          },
          "colorway": [
           "#636efa",
           "#EF553B",
           "#00cc96",
           "#ab63fa",
           "#FFA15A",
           "#19d3f3",
           "#FF6692",
           "#B6E880",
           "#FF97FF",
           "#FECB52"
          ],
          "font": {
           "color": "#2a3f5f"
          },
          "geo": {
           "bgcolor": "white",
           "lakecolor": "white",
           "landcolor": "#E5ECF6",
           "showlakes": true,
           "showland": true,
           "subunitcolor": "white"
          },
          "hoverlabel": {
           "align": "left"
          },
          "hovermode": "closest",
          "mapbox": {
           "style": "light"
          },
          "paper_bgcolor": "white",
          "plot_bgcolor": "#E5ECF6",
          "polar": {
           "angularaxis": {
            "gridcolor": "white",
            "linecolor": "white",
            "ticks": ""
           },
           "bgcolor": "#E5ECF6",
           "radialaxis": {
            "gridcolor": "white",
            "linecolor": "white",
            "ticks": ""
           }
          },
          "scene": {
           "xaxis": {
            "backgroundcolor": "#E5ECF6",
            "gridcolor": "white",
            "gridwidth": 2,
            "linecolor": "white",
            "showbackground": true,
            "ticks": "",
            "zerolinecolor": "white"
           },
           "yaxis": {
            "backgroundcolor": "#E5ECF6",
            "gridcolor": "white",
            "gridwidth": 2,
            "linecolor": "white",
            "showbackground": true,
            "ticks": "",
            "zerolinecolor": "white"
           },
           "zaxis": {
            "backgroundcolor": "#E5ECF6",
            "gridcolor": "white",
            "gridwidth": 2,
            "linecolor": "white",
            "showbackground": true,
            "ticks": "",
            "zerolinecolor": "white"
           }
          },
          "shapedefaults": {
           "line": {
            "color": "#2a3f5f"
           }
          },
          "ternary": {
           "aaxis": {
            "gridcolor": "white",
            "linecolor": "white",
            "ticks": ""
           },
           "baxis": {
            "gridcolor": "white",
            "linecolor": "white",
            "ticks": ""
           },
           "bgcolor": "#E5ECF6",
           "caxis": {
            "gridcolor": "white",
            "linecolor": "white",
            "ticks": ""
           }
          },
          "title": {
           "x": 0.05
          },
          "xaxis": {
           "automargin": true,
           "gridcolor": "white",
           "linecolor": "white",
           "ticks": "",
           "title": {
            "standoff": 15
           },
           "zerolinecolor": "white",
           "zerolinewidth": 2
          },
          "yaxis": {
           "automargin": true,
           "gridcolor": "white",
           "linecolor": "white",
           "ticks": "",
           "title": {
            "standoff": 15
           },
           "zerolinecolor": "white",
           "zerolinewidth": 2
          }
         }
        },
        "title": {
         "font": {
          "size": 25
         },
         "text": "Job Report by skills"
        },
        "xaxis": {
         "anchor": "y",
         "categoryorder": "total descending",
         "domain": [
          0,
          1
         ],
         "title": {
          "text": ""
         }
        },
        "yaxis": {
         "anchor": "x",
         "domain": [
          0,
          1
         ],
         "title": {
          "text": "# of jobs added"
         }
        }
       }
      },
      "text/html": [
       "<div>                            <div id=\"e250e6c4-b408-421a-8fa4-54c0e46a7cf2\" class=\"plotly-graph-div\" style=\"height:525px; width:100%;\"></div>            <script type=\"text/javascript\">                require([\"plotly\"], function(Plotly) {                    window.PLOTLYENV=window.PLOTLYENV || {};                                    if (document.getElementById(\"e250e6c4-b408-421a-8fa4-54c0e46a7cf2\")) {                    Plotly.newPlot(                        \"e250e6c4-b408-421a-8fa4-54c0e46a7cf2\",                        [{\"alignmentgroup\":\"True\",\"hovertemplate\":\"index=%{x}<br>y=%{y}<extra></extra>\",\"legendgroup\":\"\",\"marker\":{\"color\":\"#636efa\",\"pattern\":{\"shape\":\"\"}},\"name\":\"\",\"offsetgroup\":\"\",\"orientation\":\"v\",\"showlegend\":false,\"textposition\":\"auto\",\"x\":[\"sql\",\"excel\",\"python\",\"tableau\"],\"xaxis\":\"x\",\"y\":[8,11,6,6],\"yaxis\":\"y\",\"type\":\"bar\"}],                        {\"template\":{\"data\":{\"histogram2dcontour\":[{\"type\":\"histogram2dcontour\",\"colorbar\":{\"outlinewidth\":0,\"ticks\":\"\"},\"colorscale\":[[0.0,\"#0d0887\"],[0.1111111111111111,\"#46039f\"],[0.2222222222222222,\"#7201a8\"],[0.3333333333333333,\"#9c179e\"],[0.4444444444444444,\"#bd3786\"],[0.5555555555555556,\"#d8576b\"],[0.6666666666666666,\"#ed7953\"],[0.7777777777777778,\"#fb9f3a\"],[0.8888888888888888,\"#fdca26\"],[1.0,\"#f0f921\"]]}],\"choropleth\":[{\"type\":\"choropleth\",\"colorbar\":{\"outlinewidth\":0,\"ticks\":\"\"}}],\"histogram2d\":[{\"type\":\"histogram2d\",\"colorbar\":{\"outlinewidth\":0,\"ticks\":\"\"},\"colorscale\":[[0.0,\"#0d0887\"],[0.1111111111111111,\"#46039f\"],[0.2222222222222222,\"#7201a8\"],[0.3333333333333333,\"#9c179e\"],[0.4444444444444444,\"#bd3786\"],[0.5555555555555556,\"#d8576b\"],[0.6666666666666666,\"#ed7953\"],[0.7777777777777778,\"#fb9f3a\"],[0.8888888888888888,\"#fdca26\"],[1.0,\"#f0f921\"]]}],\"heatmap\":[{\"type\":\"heatmap\",\"colorbar\":{\"outlinewidth\":0,\"ticks\":\"\"},\"colorscale\":[[0.0,\"#0d0887\"],[0.1111111111111111,\"#46039f\"],[0.2222222222222222,\"#7201a8\"],[0.3333333333333333,\"#9c179e\"],[0.4444444444444444,\"#bd3786\"],[0.5555555555555556,\"#d8576b\"],[0.6666666666666666,\"#ed7953\"],[0.7777777777777778,\"#fb9f3a\"],[0.8888888888888888,\"#fdca26\"],[1.0,\"#f0f921\"]]}],\"heatmapgl\":[{\"type\":\"heatmapgl\",\"colorbar\":{\"outlinewidth\":0,\"ticks\":\"\"},\"colorscale\":[[0.0,\"#0d0887\"],[0.1111111111111111,\"#46039f\"],[0.2222222222222222,\"#7201a8\"],[0.3333333333333333,\"#9c179e\"],[0.4444444444444444,\"#bd3786\"],[0.5555555555555556,\"#d8576b\"],[0.6666666666666666,\"#ed7953\"],[0.7777777777777778,\"#fb9f3a\"],[0.8888888888888888,\"#fdca26\"],[1.0,\"#f0f921\"]]}],\"contourcarpet\":[{\"type\":\"contourcarpet\",\"colorbar\":{\"outlinewidth\":0,\"ticks\":\"\"}}],\"contour\":[{\"type\":\"contour\",\"colorbar\":{\"outlinewidth\":0,\"ticks\":\"\"},\"colorscale\":[[0.0,\"#0d0887\"],[0.1111111111111111,\"#46039f\"],[0.2222222222222222,\"#7201a8\"],[0.3333333333333333,\"#9c179e\"],[0.4444444444444444,\"#bd3786\"],[0.5555555555555556,\"#d8576b\"],[0.6666666666666666,\"#ed7953\"],[0.7777777777777778,\"#fb9f3a\"],[0.8888888888888888,\"#fdca26\"],[1.0,\"#f0f921\"]]}],\"surface\":[{\"type\":\"surface\",\"colorbar\":{\"outlinewidth\":0,\"ticks\":\"\"},\"colorscale\":[[0.0,\"#0d0887\"],[0.1111111111111111,\"#46039f\"],[0.2222222222222222,\"#7201a8\"],[0.3333333333333333,\"#9c179e\"],[0.4444444444444444,\"#bd3786\"],[0.5555555555555556,\"#d8576b\"],[0.6666666666666666,\"#ed7953\"],[0.7777777777777778,\"#fb9f3a\"],[0.8888888888888888,\"#fdca26\"],[1.0,\"#f0f921\"]]}],\"mesh3d\":[{\"type\":\"mesh3d\",\"colorbar\":{\"outlinewidth\":0,\"ticks\":\"\"}}],\"scatter\":[{\"fillpattern\":{\"fillmode\":\"overlay\",\"size\":10,\"solidity\":0.2},\"type\":\"scatter\"}],\"parcoords\":[{\"type\":\"parcoords\",\"line\":{\"colorbar\":{\"outlinewidth\":0,\"ticks\":\"\"}}}],\"scatterpolargl\":[{\"type\":\"scatterpolargl\",\"marker\":{\"colorbar\":{\"outlinewidth\":0,\"ticks\":\"\"}}}],\"bar\":[{\"error_x\":{\"color\":\"#2a3f5f\"},\"error_y\":{\"color\":\"#2a3f5f\"},\"marker\":{\"line\":{\"color\":\"#E5ECF6\",\"width\":0.5},\"pattern\":{\"fillmode\":\"overlay\",\"size\":10,\"solidity\":0.2}},\"type\":\"bar\"}],\"scattergeo\":[{\"type\":\"scattergeo\",\"marker\":{\"colorbar\":{\"outlinewidth\":0,\"ticks\":\"\"}}}],\"scatterpolar\":[{\"type\":\"scatterpolar\",\"marker\":{\"colorbar\":{\"outlinewidth\":0,\"ticks\":\"\"}}}],\"histogram\":[{\"marker\":{\"pattern\":{\"fillmode\":\"overlay\",\"size\":10,\"solidity\":0.2}},\"type\":\"histogram\"}],\"scattergl\":[{\"type\":\"scattergl\",\"marker\":{\"colorbar\":{\"outlinewidth\":0,\"ticks\":\"\"}}}],\"scatter3d\":[{\"type\":\"scatter3d\",\"line\":{\"colorbar\":{\"outlinewidth\":0,\"ticks\":\"\"}},\"marker\":{\"colorbar\":{\"outlinewidth\":0,\"ticks\":\"\"}}}],\"scattermapbox\":[{\"type\":\"scattermapbox\",\"marker\":{\"colorbar\":{\"outlinewidth\":0,\"ticks\":\"\"}}}],\"scatterternary\":[{\"type\":\"scatterternary\",\"marker\":{\"colorbar\":{\"outlinewidth\":0,\"ticks\":\"\"}}}],\"scattercarpet\":[{\"type\":\"scattercarpet\",\"marker\":{\"colorbar\":{\"outlinewidth\":0,\"ticks\":\"\"}}}],\"carpet\":[{\"aaxis\":{\"endlinecolor\":\"#2a3f5f\",\"gridcolor\":\"white\",\"linecolor\":\"white\",\"minorgridcolor\":\"white\",\"startlinecolor\":\"#2a3f5f\"},\"baxis\":{\"endlinecolor\":\"#2a3f5f\",\"gridcolor\":\"white\",\"linecolor\":\"white\",\"minorgridcolor\":\"white\",\"startlinecolor\":\"#2a3f5f\"},\"type\":\"carpet\"}],\"table\":[{\"cells\":{\"fill\":{\"color\":\"#EBF0F8\"},\"line\":{\"color\":\"white\"}},\"header\":{\"fill\":{\"color\":\"#C8D4E3\"},\"line\":{\"color\":\"white\"}},\"type\":\"table\"}],\"barpolar\":[{\"marker\":{\"line\":{\"color\":\"#E5ECF6\",\"width\":0.5},\"pattern\":{\"fillmode\":\"overlay\",\"size\":10,\"solidity\":0.2}},\"type\":\"barpolar\"}],\"pie\":[{\"automargin\":true,\"type\":\"pie\"}]},\"layout\":{\"autotypenumbers\":\"strict\",\"colorway\":[\"#636efa\",\"#EF553B\",\"#00cc96\",\"#ab63fa\",\"#FFA15A\",\"#19d3f3\",\"#FF6692\",\"#B6E880\",\"#FF97FF\",\"#FECB52\"],\"font\":{\"color\":\"#2a3f5f\"},\"hovermode\":\"closest\",\"hoverlabel\":{\"align\":\"left\"},\"paper_bgcolor\":\"white\",\"plot_bgcolor\":\"#E5ECF6\",\"polar\":{\"bgcolor\":\"#E5ECF6\",\"angularaxis\":{\"gridcolor\":\"white\",\"linecolor\":\"white\",\"ticks\":\"\"},\"radialaxis\":{\"gridcolor\":\"white\",\"linecolor\":\"white\",\"ticks\":\"\"}},\"ternary\":{\"bgcolor\":\"#E5ECF6\",\"aaxis\":{\"gridcolor\":\"white\",\"linecolor\":\"white\",\"ticks\":\"\"},\"baxis\":{\"gridcolor\":\"white\",\"linecolor\":\"white\",\"ticks\":\"\"},\"caxis\":{\"gridcolor\":\"white\",\"linecolor\":\"white\",\"ticks\":\"\"}},\"coloraxis\":{\"colorbar\":{\"outlinewidth\":0,\"ticks\":\"\"}},\"colorscale\":{\"sequential\":[[0.0,\"#0d0887\"],[0.1111111111111111,\"#46039f\"],[0.2222222222222222,\"#7201a8\"],[0.3333333333333333,\"#9c179e\"],[0.4444444444444444,\"#bd3786\"],[0.5555555555555556,\"#d8576b\"],[0.6666666666666666,\"#ed7953\"],[0.7777777777777778,\"#fb9f3a\"],[0.8888888888888888,\"#fdca26\"],[1.0,\"#f0f921\"]],\"sequentialminus\":[[0.0,\"#0d0887\"],[0.1111111111111111,\"#46039f\"],[0.2222222222222222,\"#7201a8\"],[0.3333333333333333,\"#9c179e\"],[0.4444444444444444,\"#bd3786\"],[0.5555555555555556,\"#d8576b\"],[0.6666666666666666,\"#ed7953\"],[0.7777777777777778,\"#fb9f3a\"],[0.8888888888888888,\"#fdca26\"],[1.0,\"#f0f921\"]],\"diverging\":[[0,\"#8e0152\"],[0.1,\"#c51b7d\"],[0.2,\"#de77ae\"],[0.3,\"#f1b6da\"],[0.4,\"#fde0ef\"],[0.5,\"#f7f7f7\"],[0.6,\"#e6f5d0\"],[0.7,\"#b8e186\"],[0.8,\"#7fbc41\"],[0.9,\"#4d9221\"],[1,\"#276419\"]]},\"xaxis\":{\"gridcolor\":\"white\",\"linecolor\":\"white\",\"ticks\":\"\",\"title\":{\"standoff\":15},\"zerolinecolor\":\"white\",\"automargin\":true,\"zerolinewidth\":2},\"yaxis\":{\"gridcolor\":\"white\",\"linecolor\":\"white\",\"ticks\":\"\",\"title\":{\"standoff\":15},\"zerolinecolor\":\"white\",\"automargin\":true,\"zerolinewidth\":2},\"scene\":{\"xaxis\":{\"backgroundcolor\":\"#E5ECF6\",\"gridcolor\":\"white\",\"linecolor\":\"white\",\"showbackground\":true,\"ticks\":\"\",\"zerolinecolor\":\"white\",\"gridwidth\":2},\"yaxis\":{\"backgroundcolor\":\"#E5ECF6\",\"gridcolor\":\"white\",\"linecolor\":\"white\",\"showbackground\":true,\"ticks\":\"\",\"zerolinecolor\":\"white\",\"gridwidth\":2},\"zaxis\":{\"backgroundcolor\":\"#E5ECF6\",\"gridcolor\":\"white\",\"linecolor\":\"white\",\"showbackground\":true,\"ticks\":\"\",\"zerolinecolor\":\"white\",\"gridwidth\":2}},\"shapedefaults\":{\"line\":{\"color\":\"#2a3f5f\"}},\"annotationdefaults\":{\"arrowcolor\":\"#2a3f5f\",\"arrowhead\":0,\"arrowwidth\":1},\"geo\":{\"bgcolor\":\"white\",\"landcolor\":\"#E5ECF6\",\"subunitcolor\":\"white\",\"showland\":true,\"showlakes\":true,\"lakecolor\":\"white\"},\"title\":{\"x\":0.05},\"mapbox\":{\"style\":\"light\"}}},\"xaxis\":{\"anchor\":\"y\",\"domain\":[0.0,1.0],\"title\":{\"text\":\"\"},\"categoryorder\":\"total descending\"},\"yaxis\":{\"anchor\":\"x\",\"domain\":[0.0,1.0],\"title\":{\"text\":\"# of jobs added\"}},\"legend\":{\"tracegroupgap\":0},\"title\":{\"text\":\"Job Report by skills\",\"font\":{\"size\":25}},\"barmode\":\"relative\"},                        {\"responsive\": true}                    ).then(function(){\n",
       "                            \n",
       "var gd = document.getElementById('e250e6c4-b408-421a-8fa4-54c0e46a7cf2');\n",
       "var x = new MutationObserver(function (mutations, observer) {{\n",
       "        var display = window.getComputedStyle(gd).display;\n",
       "        if (!display || display === 'none') {{\n",
       "            console.log([gd, 'removed!']);\n",
       "            Plotly.purge(gd);\n",
       "            observer.disconnect();\n",
       "        }}\n",
       "}});\n",
       "\n",
       "// Listen for the removal of the full notebook cells\n",
       "var notebookContainer = gd.closest('#notebook-container');\n",
       "if (notebookContainer) {{\n",
       "    x.observe(notebookContainer, {childList: true});\n",
       "}}\n",
       "\n",
       "// Listen for the clearing of the current output cell\n",
       "var outputEl = gd.closest('.output');\n",
       "if (outputEl) {{\n",
       "    x.observe(outputEl, {childList: true});\n",
       "}}\n",
       "\n",
       "                        })                };                });            </script>        </div>"
      ]
     },
     "metadata": {},
     "output_type": "display_data"
    }
   ],
   "source": [
    "skill_sum = job_report[['sql','excel','python', 'tableau']].sum()\n",
    "\n",
    "\n",
    "fig = px.bar(\n",
    "    skill_sum, \n",
    "    title='Job Report by skills',\n",
    "    y=skill_sum[:]\n",
    "#     needed to remove unnecessary date label\n",
    ").update_layout(yaxis_title='# of jobs added', title_font_size=25, xaxis_title='', xaxis={'categoryorder': 'total descending'})\n",
    "\n",
    "fig.show()"
   ]
  },
  {
   "cell_type": "code",
   "execution_count": 296,
   "id": "6c669879",
   "metadata": {
    "scrolled": true
   },
   "outputs": [
    {
     "data": {
      "text/plain": [
       "sql         8\n",
       "excel      11\n",
       "python      6\n",
       "tableau     6\n",
       "dtype: int64"
      ]
     },
     "execution_count": 296,
     "metadata": {},
     "output_type": "execute_result"
    }
   ],
   "source": [
    "skill_sum = job_report[['sql','excel','python', 'tableau']].sum()\n",
    "skill_sum[:]"
   ]
  },
  {
   "cell_type": "code",
   "execution_count": 413,
   "id": "4bb56ee6",
   "metadata": {},
   "outputs": [
    {
     "data": {
      "text/html": [
       "<div>\n",
       "<style scoped>\n",
       "    .dataframe tbody tr th:only-of-type {\n",
       "        vertical-align: middle;\n",
       "    }\n",
       "\n",
       "    .dataframe tbody tr th {\n",
       "        vertical-align: top;\n",
       "    }\n",
       "\n",
       "    .dataframe thead th {\n",
       "        text-align: right;\n",
       "    }\n",
       "</style>\n",
       "<table border=\"1\" class=\"dataframe\">\n",
       "  <thead>\n",
       "    <tr style=\"text-align: right;\">\n",
       "      <th></th>\n",
       "      <th>title</th>\n",
       "      <th>company_name</th>\n",
       "      <th>location</th>\n",
       "      <th>via</th>\n",
       "      <th>description</th>\n",
       "      <th>posted_by_day</th>\n",
       "      <th>inserted_at</th>\n",
       "      <th>work_from_home</th>\n",
       "      <th>salary</th>\n",
       "      <th>remote</th>\n",
       "      <th>sql</th>\n",
       "      <th>excel</th>\n",
       "      <th>python</th>\n",
       "      <th>tableau</th>\n",
       "      <th>raw_salary</th>\n",
       "      <th>new_salary</th>\n",
       "    </tr>\n",
       "  </thead>\n",
       "  <tbody>\n",
       "    <tr>\n",
       "      <th>0</th>\n",
       "      <td>Jr Data Analyst</td>\n",
       "      <td>TechFetch.com - On Demand Tech Workforce hirin...</td>\n",
       "      <td>Atlanta, GA</td>\n",
       "      <td>via LinkedIn</td>\n",
       "      <td>\"ALL our jobs are US based and candidates must...</td>\n",
       "      <td>0</td>\n",
       "      <td>12/12/2022</td>\n",
       "      <td>NaN</td>\n",
       "      <td>NaN</td>\n",
       "      <td>No</td>\n",
       "      <td>1</td>\n",
       "      <td>1</td>\n",
       "      <td>1</td>\n",
       "      <td>1</td>\n",
       "      <td>null</td>\n",
       "      <td>null</td>\n",
       "    </tr>\n",
       "    <tr>\n",
       "      <th>1</th>\n",
       "      <td>Jr Data Analyst</td>\n",
       "      <td>TechFetch.com - On Demand Tech Workforce hirin...</td>\n",
       "      <td>Atlanta, GA</td>\n",
       "      <td>via LinkedIn</td>\n",
       "      <td>\"ALL our jobs are US based and candidates must...</td>\n",
       "      <td>1</td>\n",
       "      <td>12/13/2022</td>\n",
       "      <td>NaN</td>\n",
       "      <td>NaN</td>\n",
       "      <td>No</td>\n",
       "      <td>1</td>\n",
       "      <td>1</td>\n",
       "      <td>1</td>\n",
       "      <td>1</td>\n",
       "      <td>null</td>\n",
       "      <td>null</td>\n",
       "    </tr>\n",
       "    <tr>\n",
       "      <th>2</th>\n",
       "      <td>Jr Data Analyst</td>\n",
       "      <td>TechFetch.com - On Demand Tech Workforce hirin...</td>\n",
       "      <td>Atlanta, GA</td>\n",
       "      <td>via LinkedIn</td>\n",
       "      <td>\"ALL our jobs are US based and candidates must...</td>\n",
       "      <td>2</td>\n",
       "      <td>12/14/2022</td>\n",
       "      <td>NaN</td>\n",
       "      <td>NaN</td>\n",
       "      <td>No</td>\n",
       "      <td>1</td>\n",
       "      <td>1</td>\n",
       "      <td>1</td>\n",
       "      <td>1</td>\n",
       "      <td>null</td>\n",
       "      <td>null</td>\n",
       "    </tr>\n",
       "    <tr>\n",
       "      <th>3</th>\n",
       "      <td>Jr Data Analyst</td>\n",
       "      <td>TechFetch.com - On Demand Tech Workforce hirin...</td>\n",
       "      <td>Atlanta, GA</td>\n",
       "      <td>via LinkedIn</td>\n",
       "      <td>\"ALL our jobs are US based and candidates must...</td>\n",
       "      <td>3</td>\n",
       "      <td>12/15/2022</td>\n",
       "      <td>NaN</td>\n",
       "      <td>NaN</td>\n",
       "      <td>No</td>\n",
       "      <td>1</td>\n",
       "      <td>1</td>\n",
       "      <td>1</td>\n",
       "      <td>1</td>\n",
       "      <td>null</td>\n",
       "      <td>null</td>\n",
       "    </tr>\n",
       "    <tr>\n",
       "      <th>4</th>\n",
       "      <td>Jr Data Analyst</td>\n",
       "      <td>TechFetch.com - On Demand Tech Workforce hirin...</td>\n",
       "      <td>Atlanta, GA</td>\n",
       "      <td>via LinkedIn</td>\n",
       "      <td>\"ALL our jobs are US based and candidates must...</td>\n",
       "      <td>4</td>\n",
       "      <td>12/16/2022</td>\n",
       "      <td>NaN</td>\n",
       "      <td>NaN</td>\n",
       "      <td>No</td>\n",
       "      <td>1</td>\n",
       "      <td>1</td>\n",
       "      <td>1</td>\n",
       "      <td>1</td>\n",
       "      <td>null</td>\n",
       "      <td>null</td>\n",
       "    </tr>\n",
       "    <tr>\n",
       "      <th>5</th>\n",
       "      <td>Junior Data Analyst - REMOTE - US Citizenship ...</td>\n",
       "      <td>General Dynamics Information Technology</td>\n",
       "      <td>Atlanta, GA</td>\n",
       "      <td>via Monster</td>\n",
       "      <td>Type of Requisition: Regular\\n\\nClearance Leve...</td>\n",
       "      <td>4</td>\n",
       "      <td>12/16/2022</td>\n",
       "      <td>NaN</td>\n",
       "      <td>NaN</td>\n",
       "      <td>No</td>\n",
       "      <td>0</td>\n",
       "      <td>0</td>\n",
       "      <td>0</td>\n",
       "      <td>1</td>\n",
       "      <td>null</td>\n",
       "      <td>null</td>\n",
       "    </tr>\n",
       "    <tr>\n",
       "      <th>6</th>\n",
       "      <td>Junior Data Analyst (with Power Apps)</td>\n",
       "      <td>Jacobs</td>\n",
       "      <td>Atlanta, GA</td>\n",
       "      <td>via StartWire</td>\n",
       "      <td>We have more than 1800 colleagues in Poland, s...</td>\n",
       "      <td>4</td>\n",
       "      <td>12/16/2022</td>\n",
       "      <td>NaN</td>\n",
       "      <td>NaN</td>\n",
       "      <td>No</td>\n",
       "      <td>1</td>\n",
       "      <td>1</td>\n",
       "      <td>0</td>\n",
       "      <td>0</td>\n",
       "      <td>null</td>\n",
       "      <td>null</td>\n",
       "    </tr>\n",
       "    <tr>\n",
       "      <th>7</th>\n",
       "      <td>Data Analyst Entry Level (Bootcamp)</td>\n",
       "      <td>Helm360</td>\n",
       "      <td>Atlanta, GA</td>\n",
       "      <td>via Glassdoor</td>\n",
       "      <td>Responsibilities\\n• Interpret data, analyze re...</td>\n",
       "      <td>5</td>\n",
       "      <td>12/17/2022</td>\n",
       "      <td>NaN</td>\n",
       "      <td>NaN</td>\n",
       "      <td>No</td>\n",
       "      <td>1</td>\n",
       "      <td>1</td>\n",
       "      <td>0</td>\n",
       "      <td>0</td>\n",
       "      <td>$60,000.00 - $70,000.00 per year\\n\\nBenefits:\\...</td>\n",
       "      <td>65000</td>\n",
       "    </tr>\n",
       "    <tr>\n",
       "      <th>8</th>\n",
       "      <td>Junior Data Analyst</td>\n",
       "      <td>Jobot</td>\n",
       "      <td>Atlanta, GA</td>\n",
       "      <td>via BeBee</td>\n",
       "      <td>Entry Level Data Analyst - hybrid This Jobot J...</td>\n",
       "      <td>5</td>\n",
       "      <td>12/17/2022</td>\n",
       "      <td>NaN</td>\n",
       "      <td>NaN</td>\n",
       "      <td>No</td>\n",
       "      <td>0</td>\n",
       "      <td>1</td>\n",
       "      <td>0</td>\n",
       "      <td>0</td>\n",
       "      <td>$50,000 - $60,000 per year A bit about us: For...</td>\n",
       "      <td>55000</td>\n",
       "    </tr>\n",
       "    <tr>\n",
       "      <th>9</th>\n",
       "      <td>Junior Data Analyst</td>\n",
       "      <td>Jobot</td>\n",
       "      <td>Atlanta, GA</td>\n",
       "      <td>via BeBee</td>\n",
       "      <td>Entry Level Data Analyst - hybrid This Jobot J...</td>\n",
       "      <td>6</td>\n",
       "      <td>12/18/2022</td>\n",
       "      <td>NaN</td>\n",
       "      <td>NaN</td>\n",
       "      <td>No</td>\n",
       "      <td>0</td>\n",
       "      <td>1</td>\n",
       "      <td>0</td>\n",
       "      <td>0</td>\n",
       "      <td>$50,000 - $60,000 per year A bit about us: For...</td>\n",
       "      <td>55000</td>\n",
       "    </tr>\n",
       "    <tr>\n",
       "      <th>10</th>\n",
       "      <td>Junior Data Analyst</td>\n",
       "      <td>Jobot</td>\n",
       "      <td>Atlanta, GA</td>\n",
       "      <td>via BeBee</td>\n",
       "      <td>Entry Level Data Analyst - hybrid This Jobot J...</td>\n",
       "      <td>7</td>\n",
       "      <td>12/18/2022</td>\n",
       "      <td>NaN</td>\n",
       "      <td>NaN</td>\n",
       "      <td>No</td>\n",
       "      <td>0</td>\n",
       "      <td>1</td>\n",
       "      <td>0</td>\n",
       "      <td>0</td>\n",
       "      <td>$50,000 - $60,000 per year A bit about us: For...</td>\n",
       "      <td>55000</td>\n",
       "    </tr>\n",
       "    <tr>\n",
       "      <th>11</th>\n",
       "      <td>Jr Data Analyst- Entry level- local to Atlanta</td>\n",
       "      <td>Vaco Technology</td>\n",
       "      <td>Atlanta, GA</td>\n",
       "      <td>via Atlanta, GA - Geebo</td>\n",
       "      <td>Full Job Description\\n\\nResponsibilities...\\n•...</td>\n",
       "      <td>3</td>\n",
       "      <td>12/19/2022</td>\n",
       "      <td>NaN</td>\n",
       "      <td>20–28 an hour</td>\n",
       "      <td>No</td>\n",
       "      <td>1</td>\n",
       "      <td>1</td>\n",
       "      <td>1</td>\n",
       "      <td>0</td>\n",
       "      <td>$20 to $28 per hour based on qualifications</td>\n",
       "      <td>49920</td>\n",
       "    </tr>\n",
       "    <tr>\n",
       "      <th>12</th>\n",
       "      <td>asd</td>\n",
       "      <td>asd</td>\n",
       "      <td>Anywhere</td>\n",
       "      <td>via AAA</td>\n",
       "      <td>ajsdas salary: $67k -$80k per year.</td>\n",
       "      <td>2</td>\n",
       "      <td>12/19/2022</td>\n",
       "      <td>NaN</td>\n",
       "      <td>NaN</td>\n",
       "      <td>Yes</td>\n",
       "      <td>0</td>\n",
       "      <td>0</td>\n",
       "      <td>0</td>\n",
       "      <td>0</td>\n",
       "      <td>$67k -$80k per year.</td>\n",
       "      <td>73500</td>\n",
       "    </tr>\n",
       "    <tr>\n",
       "      <th>13</th>\n",
       "      <td>asd</td>\n",
       "      <td>asd</td>\n",
       "      <td>Anywhere</td>\n",
       "      <td>via AAA</td>\n",
       "      <td>ajsdas salary: $67k -$80k per year.</td>\n",
       "      <td>3</td>\n",
       "      <td>12/19/2022</td>\n",
       "      <td>NaN</td>\n",
       "      <td>NaN</td>\n",
       "      <td>Yes</td>\n",
       "      <td>0</td>\n",
       "      <td>0</td>\n",
       "      <td>0</td>\n",
       "      <td>0</td>\n",
       "      <td>$67k -$80k per year.</td>\n",
       "      <td>73500</td>\n",
       "    </tr>\n",
       "  </tbody>\n",
       "</table>\n",
       "</div>"
      ],
      "text/plain": [
       "                                                title  \\\n",
       "0                                     Jr Data Analyst   \n",
       "1                                     Jr Data Analyst   \n",
       "2                                     Jr Data Analyst   \n",
       "3                                     Jr Data Analyst   \n",
       "4                                     Jr Data Analyst   \n",
       "5   Junior Data Analyst - REMOTE - US Citizenship ...   \n",
       "6               Junior Data Analyst (with Power Apps)   \n",
       "7                 Data Analyst Entry Level (Bootcamp)   \n",
       "8                                 Junior Data Analyst   \n",
       "9                                 Junior Data Analyst   \n",
       "10                                Junior Data Analyst   \n",
       "11     Jr Data Analyst- Entry level- local to Atlanta   \n",
       "12                                                asd   \n",
       "13                                                asd   \n",
       "\n",
       "                                         company_name     location  \\\n",
       "0   TechFetch.com - On Demand Tech Workforce hirin...  Atlanta, GA   \n",
       "1   TechFetch.com - On Demand Tech Workforce hirin...  Atlanta, GA   \n",
       "2   TechFetch.com - On Demand Tech Workforce hirin...  Atlanta, GA   \n",
       "3   TechFetch.com - On Demand Tech Workforce hirin...  Atlanta, GA   \n",
       "4   TechFetch.com - On Demand Tech Workforce hirin...  Atlanta, GA   \n",
       "5             General Dynamics Information Technology  Atlanta, GA   \n",
       "6                                              Jacobs  Atlanta, GA   \n",
       "7                                             Helm360  Atlanta, GA   \n",
       "8                                               Jobot  Atlanta, GA   \n",
       "9                                               Jobot  Atlanta, GA   \n",
       "10                                              Jobot  Atlanta, GA   \n",
       "11                                    Vaco Technology  Atlanta, GA   \n",
       "12                                                asd     Anywhere   \n",
       "13                                                asd     Anywhere   \n",
       "\n",
       "                        via  \\\n",
       "0              via LinkedIn   \n",
       "1              via LinkedIn   \n",
       "2              via LinkedIn   \n",
       "3              via LinkedIn   \n",
       "4              via LinkedIn   \n",
       "5               via Monster   \n",
       "6             via StartWire   \n",
       "7             via Glassdoor   \n",
       "8                 via BeBee   \n",
       "9                 via BeBee   \n",
       "10                via BeBee   \n",
       "11  via Atlanta, GA - Geebo   \n",
       "12                  via AAA   \n",
       "13                  via AAA   \n",
       "\n",
       "                                          description  posted_by_day  \\\n",
       "0   \"ALL our jobs are US based and candidates must...              0   \n",
       "1   \"ALL our jobs are US based and candidates must...              1   \n",
       "2   \"ALL our jobs are US based and candidates must...              2   \n",
       "3   \"ALL our jobs are US based and candidates must...              3   \n",
       "4   \"ALL our jobs are US based and candidates must...              4   \n",
       "5   Type of Requisition: Regular\\n\\nClearance Leve...              4   \n",
       "6   We have more than 1800 colleagues in Poland, s...              4   \n",
       "7   Responsibilities\\n• Interpret data, analyze re...              5   \n",
       "8   Entry Level Data Analyst - hybrid This Jobot J...              5   \n",
       "9   Entry Level Data Analyst - hybrid This Jobot J...              6   \n",
       "10  Entry Level Data Analyst - hybrid This Jobot J...              7   \n",
       "11  Full Job Description\\n\\nResponsibilities...\\n•...              3   \n",
       "12                ajsdas salary: $67k -$80k per year.              2   \n",
       "13                ajsdas salary: $67k -$80k per year.              3   \n",
       "\n",
       "   inserted_at  work_from_home         salary remote  sql  excel  python  \\\n",
       "0   12/12/2022             NaN            NaN     No    1      1       1   \n",
       "1   12/13/2022             NaN            NaN     No    1      1       1   \n",
       "2   12/14/2022             NaN            NaN     No    1      1       1   \n",
       "3   12/15/2022             NaN            NaN     No    1      1       1   \n",
       "4   12/16/2022             NaN            NaN     No    1      1       1   \n",
       "5   12/16/2022             NaN            NaN     No    0      0       0   \n",
       "6   12/16/2022             NaN            NaN     No    1      1       0   \n",
       "7   12/17/2022             NaN            NaN     No    1      1       0   \n",
       "8   12/17/2022             NaN            NaN     No    0      1       0   \n",
       "9   12/18/2022             NaN            NaN     No    0      1       0   \n",
       "10  12/18/2022             NaN            NaN     No    0      1       0   \n",
       "11  12/19/2022             NaN  20–28 an hour     No    1      1       1   \n",
       "12  12/19/2022             NaN            NaN    Yes    0      0       0   \n",
       "13  12/19/2022             NaN            NaN    Yes    0      0       0   \n",
       "\n",
       "    tableau                                         raw_salary new_salary  \n",
       "0         1                                               null       null  \n",
       "1         1                                               null       null  \n",
       "2         1                                               null       null  \n",
       "3         1                                               null       null  \n",
       "4         1                                               null       null  \n",
       "5         1                                               null       null  \n",
       "6         0                                               null       null  \n",
       "7         0  $60,000.00 - $70,000.00 per year\\n\\nBenefits:\\...      65000  \n",
       "8         0  $50,000 - $60,000 per year A bit about us: For...      55000  \n",
       "9         0  $50,000 - $60,000 per year A bit about us: For...      55000  \n",
       "10        0  $50,000 - $60,000 per year A bit about us: For...      55000  \n",
       "11        0        $20 to $28 per hour based on qualifications      49920  \n",
       "12        0                               $67k -$80k per year.      73500  \n",
       "13        0                               $67k -$80k per year.      73500  "
      ]
     },
     "execution_count": 413,
     "metadata": {},
     "output_type": "execute_result"
    }
   ],
   "source": [
    "job_report"
   ]
  },
  {
   "cell_type": "code",
   "execution_count": 496,
   "id": "10749b39",
   "metadata": {},
   "outputs": [
    {
     "data": {
      "application/vnd.plotly.v1+json": {
       "config": {
        "plotlyServerURL": "https://plot.ly"
       },
       "data": [
        {
         "alignmentgroup": "True",
         "bingroup": "x",
         "hovertemplate": "remote=No<br>count=%{y}<extra></extra>",
         "legendgroup": "No",
         "marker": {
          "color": "#000001",
          "pattern": {
           "shape": ""
          }
         },
         "name": "No",
         "nbinsx": 20,
         "offsetgroup": "No",
         "orientation": "v",
         "showlegend": true,
         "type": "histogram",
         "x": [
          "12/12/2022",
          "12/13/2022",
          "12/14/2022",
          "12/15/2022",
          "12/16/2022",
          "12/16/2022",
          "12/16/2022",
          "12/17/2022",
          "12/17/2022",
          "12/18/2022",
          "12/18/2022",
          "12/19/2022"
         ],
         "xaxis": "x",
         "yaxis": "y"
        },
        {
         "alignmentgroup": "True",
         "bingroup": "x",
         "hovertemplate": "remote=Yes<br>count=%{y}<extra></extra>",
         "legendgroup": "Yes",
         "marker": {
          "color": "#000002",
          "pattern": {
           "shape": ""
          }
         },
         "name": "Yes",
         "nbinsx": 20,
         "offsetgroup": "Yes",
         "orientation": "v",
         "showlegend": true,
         "type": "histogram",
         "x": [
          "12/19/2022",
          "12/19/2022"
         ],
         "xaxis": "x",
         "yaxis": "y"
        }
       ],
       "layout": {
        "barmode": "relative",
        "legend": {
         "title": {
          "text": "remote"
         },
         "tracegroupgap": 0
        },
        "template": {
         "data": {
          "candlestick": [
           {
            "decreasing": {
             "line": {
              "color": "#000033"
             }
            },
            "increasing": {
             "line": {
              "color": "#000032"
             }
            },
            "type": "candlestick"
           }
          ],
          "contour": [
           {
            "colorscale": [
             [
              0,
              "#000011"
             ],
             [
              0.1111111111111111,
              "#000012"
             ],
             [
              0.2222222222222222,
              "#000013"
             ],
             [
              0.3333333333333333,
              "#000014"
             ],
             [
              0.4444444444444444,
              "#000015"
             ],
             [
              0.5555555555555556,
              "#000016"
             ],
             [
              0.6666666666666666,
              "#000017"
             ],
             [
              0.7777777777777778,
              "#000018"
             ],
             [
              0.8888888888888888,
              "#000019"
             ],
             [
              1,
              "#000020"
             ]
            ],
            "type": "contour"
           }
          ],
          "contourcarpet": [
           {
            "colorscale": [
             [
              0,
              "#000011"
             ],
             [
              0.1111111111111111,
              "#000012"
             ],
             [
              0.2222222222222222,
              "#000013"
             ],
             [
              0.3333333333333333,
              "#000014"
             ],
             [
              0.4444444444444444,
              "#000015"
             ],
             [
              0.5555555555555556,
              "#000016"
             ],
             [
              0.6666666666666666,
              "#000017"
             ],
             [
              0.7777777777777778,
              "#000018"
             ],
             [
              0.8888888888888888,
              "#000019"
             ],
             [
              1,
              "#000020"
             ]
            ],
            "type": "contourcarpet"
           }
          ],
          "heatmap": [
           {
            "colorscale": [
             [
              0,
              "#000011"
             ],
             [
              0.1111111111111111,
              "#000012"
             ],
             [
              0.2222222222222222,
              "#000013"
             ],
             [
              0.3333333333333333,
              "#000014"
             ],
             [
              0.4444444444444444,
              "#000015"
             ],
             [
              0.5555555555555556,
              "#000016"
             ],
             [
              0.6666666666666666,
              "#000017"
             ],
             [
              0.7777777777777778,
              "#000018"
             ],
             [
              0.8888888888888888,
              "#000019"
             ],
             [
              1,
              "#000020"
             ]
            ],
            "type": "heatmap"
           }
          ],
          "histogram2d": [
           {
            "colorscale": [
             [
              0,
              "#000011"
             ],
             [
              0.1111111111111111,
              "#000012"
             ],
             [
              0.2222222222222222,
              "#000013"
             ],
             [
              0.3333333333333333,
              "#000014"
             ],
             [
              0.4444444444444444,
              "#000015"
             ],
             [
              0.5555555555555556,
              "#000016"
             ],
             [
              0.6666666666666666,
              "#000017"
             ],
             [
              0.7777777777777778,
              "#000018"
             ],
             [
              0.8888888888888888,
              "#000019"
             ],
             [
              1,
              "#000020"
             ]
            ],
            "type": "histogram2d"
           }
          ],
          "icicle": [
           {
            "textfont": {
             "color": "white"
            },
            "type": "icicle"
           }
          ],
          "sankey": [
           {
            "textfont": {
             "color": "#000036"
            },
            "type": "sankey"
           }
          ],
          "scatter": [
           {
            "marker": {
             "line": {
              "width": 0
             }
            },
            "type": "scatter"
           }
          ],
          "table": [
           {
            "cells": {
             "fill": {
              "color": "#000038"
             },
             "font": {
              "color": "#000037"
             },
             "line": {
              "color": "#000039"
             }
            },
            "header": {
             "fill": {
              "color": "#000040"
             },
             "font": {
              "color": "#000036"
             },
             "line": {
              "color": "#000039"
             }
            },
            "type": "table"
           }
          ],
          "waterfall": [
           {
            "connector": {
             "line": {
              "color": "#000036",
              "width": 2
             }
            },
            "decreasing": {
             "marker": {
              "color": "#000033"
             }
            },
            "increasing": {
             "marker": {
              "color": "#000032"
             }
            },
            "totals": {
             "marker": {
              "color": "#000034"
             }
            },
            "type": "waterfall"
           }
          ]
         },
         "layout": {
          "coloraxis": {
           "colorscale": [
            [
             0,
             "#000011"
            ],
            [
             0.1111111111111111,
             "#000012"
            ],
            [
             0.2222222222222222,
             "#000013"
            ],
            [
             0.3333333333333333,
             "#000014"
            ],
            [
             0.4444444444444444,
             "#000015"
            ],
            [
             0.5555555555555556,
             "#000016"
            ],
            [
             0.6666666666666666,
             "#000017"
            ],
            [
             0.7777777777777778,
             "#000018"
            ],
            [
             0.8888888888888888,
             "#000019"
            ],
            [
             1,
             "#000020"
            ]
           ]
          },
          "colorscale": {
           "diverging": [
            [
             0,
             "#000021"
            ],
            [
             0.1,
             "#000022"
            ],
            [
             0.2,
             "#000023"
            ],
            [
             0.3,
             "#000024"
            ],
            [
             0.4,
             "#000025"
            ],
            [
             0.5,
             "#000026"
            ],
            [
             0.6,
             "#000027"
            ],
            [
             0.7,
             "#000028"
            ],
            [
             0.8,
             "#000029"
            ],
            [
             0.9,
             "#000030"
            ],
            [
             1,
             "#000031"
            ]
           ],
           "sequential": [
            [
             0,
             "#000011"
            ],
            [
             0.1111111111111111,
             "#000012"
            ],
            [
             0.2222222222222222,
             "#000013"
            ],
            [
             0.3333333333333333,
             "#000014"
            ],
            [
             0.4444444444444444,
             "#000015"
            ],
            [
             0.5555555555555556,
             "#000016"
            ],
            [
             0.6666666666666666,
             "#000017"
            ],
            [
             0.7777777777777778,
             "#000018"
            ],
            [
             0.8888888888888888,
             "#000019"
            ],
            [
             1,
             "#000020"
            ]
           ],
           "sequentialminus": [
            [
             0,
             "#000011"
            ],
            [
             0.1111111111111111,
             "#000012"
            ],
            [
             0.2222222222222222,
             "#000013"
            ],
            [
             0.3333333333333333,
             "#000014"
            ],
            [
             0.4444444444444444,
             "#000015"
            ],
            [
             0.5555555555555556,
             "#000016"
            ],
            [
             0.6666666666666666,
             "#000017"
            ],
            [
             0.7777777777777778,
             "#000018"
            ],
            [
             0.8888888888888888,
             "#000019"
            ],
            [
             1,
             "#000020"
            ]
           ]
          },
          "colorway": [
           "#000001",
           "#000002",
           "#000003",
           "#000004",
           "#000005",
           "#000006",
           "#000007",
           "#000008",
           "#000009",
           "#000010"
          ]
         }
        },
        "title": {
         "font": {
          "size": 25
         },
         "text": "Job Report Overview"
        },
        "xaxis": {
         "anchor": "y",
         "domain": [
          0,
          1
         ],
         "title": {
          "text": ""
         }
        },
        "yaxis": {
         "anchor": "x",
         "domain": [
          0,
          1
         ],
         "title": {
          "text": "# of jobs added"
         }
        }
       }
      },
      "text/html": [
       "<div>                            <div id=\"f49a6510-3cd5-4c1f-a43b-44dfd911044f\" class=\"plotly-graph-div\" style=\"height:525px; width:100%;\"></div>            <script type=\"text/javascript\">                require([\"plotly\"], function(Plotly) {                    window.PLOTLYENV=window.PLOTLYENV || {};                                    if (document.getElementById(\"f49a6510-3cd5-4c1f-a43b-44dfd911044f\")) {                    Plotly.newPlot(                        \"f49a6510-3cd5-4c1f-a43b-44dfd911044f\",                        [{\"alignmentgroup\":\"True\",\"bingroup\":\"x\",\"hovertemplate\":\"remote=No<br>count=%{y}<extra></extra>\",\"legendgroup\":\"No\",\"marker\":{\"color\":\"#000001\",\"pattern\":{\"shape\":\"\"}},\"name\":\"No\",\"nbinsx\":20,\"offsetgroup\":\"No\",\"orientation\":\"v\",\"showlegend\":true,\"x\":[\"12/12/2022\",\"12/13/2022\",\"12/14/2022\",\"12/15/2022\",\"12/16/2022\",\"12/16/2022\",\"12/16/2022\",\"12/17/2022\",\"12/17/2022\",\"12/18/2022\",\"12/18/2022\",\"12/19/2022\"],\"xaxis\":\"x\",\"yaxis\":\"y\",\"type\":\"histogram\"},{\"alignmentgroup\":\"True\",\"bingroup\":\"x\",\"hovertemplate\":\"remote=Yes<br>count=%{y}<extra></extra>\",\"legendgroup\":\"Yes\",\"marker\":{\"color\":\"#000002\",\"pattern\":{\"shape\":\"\"}},\"name\":\"Yes\",\"nbinsx\":20,\"offsetgroup\":\"Yes\",\"orientation\":\"v\",\"showlegend\":true,\"x\":[\"12/19/2022\",\"12/19/2022\"],\"xaxis\":\"x\",\"yaxis\":\"y\",\"type\":\"histogram\"}],                        {\"template\":{\"data\":{\"candlestick\":[{\"decreasing\":{\"line\":{\"color\":\"#000033\"}},\"increasing\":{\"line\":{\"color\":\"#000032\"}},\"type\":\"candlestick\"}],\"contourcarpet\":[{\"colorscale\":[[0.0,\"#000011\"],[0.1111111111111111,\"#000012\"],[0.2222222222222222,\"#000013\"],[0.3333333333333333,\"#000014\"],[0.4444444444444444,\"#000015\"],[0.5555555555555556,\"#000016\"],[0.6666666666666666,\"#000017\"],[0.7777777777777778,\"#000018\"],[0.8888888888888888,\"#000019\"],[1.0,\"#000020\"]],\"type\":\"contourcarpet\"}],\"contour\":[{\"colorscale\":[[0.0,\"#000011\"],[0.1111111111111111,\"#000012\"],[0.2222222222222222,\"#000013\"],[0.3333333333333333,\"#000014\"],[0.4444444444444444,\"#000015\"],[0.5555555555555556,\"#000016\"],[0.6666666666666666,\"#000017\"],[0.7777777777777778,\"#000018\"],[0.8888888888888888,\"#000019\"],[1.0,\"#000020\"]],\"type\":\"contour\"}],\"heatmap\":[{\"colorscale\":[[0.0,\"#000011\"],[0.1111111111111111,\"#000012\"],[0.2222222222222222,\"#000013\"],[0.3333333333333333,\"#000014\"],[0.4444444444444444,\"#000015\"],[0.5555555555555556,\"#000016\"],[0.6666666666666666,\"#000017\"],[0.7777777777777778,\"#000018\"],[0.8888888888888888,\"#000019\"],[1.0,\"#000020\"]],\"type\":\"heatmap\"}],\"histogram2d\":[{\"colorscale\":[[0.0,\"#000011\"],[0.1111111111111111,\"#000012\"],[0.2222222222222222,\"#000013\"],[0.3333333333333333,\"#000014\"],[0.4444444444444444,\"#000015\"],[0.5555555555555556,\"#000016\"],[0.6666666666666666,\"#000017\"],[0.7777777777777778,\"#000018\"],[0.8888888888888888,\"#000019\"],[1.0,\"#000020\"]],\"type\":\"histogram2d\"}],\"icicle\":[{\"textfont\":{\"color\":\"white\"},\"type\":\"icicle\"}],\"sankey\":[{\"textfont\":{\"color\":\"#000036\"},\"type\":\"sankey\"}],\"scatter\":[{\"marker\":{\"line\":{\"width\":0}},\"type\":\"scatter\"}],\"table\":[{\"cells\":{\"fill\":{\"color\":\"#000038\"},\"font\":{\"color\":\"#000037\"},\"line\":{\"color\":\"#000039\"}},\"header\":{\"fill\":{\"color\":\"#000040\"},\"font\":{\"color\":\"#000036\"},\"line\":{\"color\":\"#000039\"}},\"type\":\"table\"}],\"waterfall\":[{\"connector\":{\"line\":{\"color\":\"#000036\",\"width\":2}},\"decreasing\":{\"marker\":{\"color\":\"#000033\"}},\"increasing\":{\"marker\":{\"color\":\"#000032\"}},\"totals\":{\"marker\":{\"color\":\"#000034\"}},\"type\":\"waterfall\"}]},\"layout\":{\"coloraxis\":{\"colorscale\":[[0.0,\"#000011\"],[0.1111111111111111,\"#000012\"],[0.2222222222222222,\"#000013\"],[0.3333333333333333,\"#000014\"],[0.4444444444444444,\"#000015\"],[0.5555555555555556,\"#000016\"],[0.6666666666666666,\"#000017\"],[0.7777777777777778,\"#000018\"],[0.8888888888888888,\"#000019\"],[1.0,\"#000020\"]]},\"colorscale\":{\"diverging\":[[0.0,\"#000021\"],[0.1,\"#000022\"],[0.2,\"#000023\"],[0.3,\"#000024\"],[0.4,\"#000025\"],[0.5,\"#000026\"],[0.6,\"#000027\"],[0.7,\"#000028\"],[0.8,\"#000029\"],[0.9,\"#000030\"],[1.0,\"#000031\"]],\"sequential\":[[0.0,\"#000011\"],[0.1111111111111111,\"#000012\"],[0.2222222222222222,\"#000013\"],[0.3333333333333333,\"#000014\"],[0.4444444444444444,\"#000015\"],[0.5555555555555556,\"#000016\"],[0.6666666666666666,\"#000017\"],[0.7777777777777778,\"#000018\"],[0.8888888888888888,\"#000019\"],[1.0,\"#000020\"]],\"sequentialminus\":[[0.0,\"#000011\"],[0.1111111111111111,\"#000012\"],[0.2222222222222222,\"#000013\"],[0.3333333333333333,\"#000014\"],[0.4444444444444444,\"#000015\"],[0.5555555555555556,\"#000016\"],[0.6666666666666666,\"#000017\"],[0.7777777777777778,\"#000018\"],[0.8888888888888888,\"#000019\"],[1.0,\"#000020\"]]},\"colorway\":[\"#000001\",\"#000002\",\"#000003\",\"#000004\",\"#000005\",\"#000006\",\"#000007\",\"#000008\",\"#000009\",\"#000010\"]}},\"xaxis\":{\"anchor\":\"y\",\"domain\":[0.0,1.0],\"title\":{\"text\":\"\"}},\"yaxis\":{\"anchor\":\"x\",\"domain\":[0.0,1.0],\"title\":{\"text\":\"# of jobs added\"}},\"legend\":{\"title\":{\"text\":\"remote\"},\"tracegroupgap\":0},\"title\":{\"text\":\"Job Report Overview\",\"font\":{\"size\":25}},\"barmode\":\"relative\"},                        {\"responsive\": true}                    ).then(function(){\n",
       "                            \n",
       "var gd = document.getElementById('f49a6510-3cd5-4c1f-a43b-44dfd911044f');\n",
       "var x = new MutationObserver(function (mutations, observer) {{\n",
       "        var display = window.getComputedStyle(gd).display;\n",
       "        if (!display || display === 'none') {{\n",
       "            console.log([gd, 'removed!']);\n",
       "            Plotly.purge(gd);\n",
       "            observer.disconnect();\n",
       "        }}\n",
       "}});\n",
       "\n",
       "// Listen for the removal of the full notebook cells\n",
       "var notebookContainer = gd.closest('#notebook-container');\n",
       "if (notebookContainer) {{\n",
       "    x.observe(notebookContainer, {childList: true});\n",
       "}}\n",
       "\n",
       "// Listen for the clearing of the current output cell\n",
       "var outputEl = gd.closest('.output');\n",
       "if (outputEl) {{\n",
       "    x.observe(outputEl, {childList: true});\n",
       "}}\n",
       "\n",
       "                        })                };                });            </script>        </div>"
      ]
     },
     "metadata": {},
     "output_type": "display_data"
    }
   ],
   "source": [
    "fig = px.histogram(\n",
    "    job_report, \n",
    "    x='inserted_at', \n",
    "    nbins=20, \n",
    "    title='Job Report Overview',\n",
    "    color='remote',\n",
    "#     needed to remove unnecessary date label\n",
    "    hover_data={\n",
    "        'inserted_at':''\n",
    "    }\n",
    ").update_layout(yaxis_title='# of jobs added', title_font_size=25, xaxis_title='')\n",
    "\n",
    "fig.show()\n",
    "\n",
    "# import plotly.graph_objects as go\n",
    "\n",
    "# # Create a figure\n",
    "# fig = go.Figure()\n",
    "\n",
    "# # Add a trace to the figure\n",
    "# fig.add_trace(go.Histogram(x=job_report['inserted_at']))\n",
    "\n",
    "# # Set the layout of the figure\n",
    "# fig.update_layout(xaxis = {'tickformat':'%Y,%b'})\n",
    "\n",
    "# # Display the figure\n",
    "# fig.show()\n"
   ]
  },
  {
   "cell_type": "markdown",
   "id": "7d86c3cd",
   "metadata": {},
   "source": [
    "## Salary grouped by title"
   ]
  },
  {
   "cell_type": "code",
   "execution_count": 467,
   "id": "407b0996",
   "metadata": {},
   "outputs": [
    {
     "data": {
      "application/vnd.plotly.v1+json": {
       "config": {
        "plotlyServerURL": "https://plot.ly"
       },
       "data": [
        {
         "alignmentgroup": "True",
         "bingroup": "x",
         "hovertemplate": "new_salary=%{x}<br>count=%{y}<extra></extra>",
         "legendgroup": "",
         "marker": {
          "color": "#636efa",
          "pattern": {
           "shape": ""
          }
         },
         "name": "",
         "offsetgroup": "",
         "orientation": "v",
         "showlegend": false,
         "type": "histogram",
         "x": [
          "null",
          "null",
          "null",
          "null",
          "null",
          "null",
          "null",
          65000,
          55000,
          55000,
          55000,
          49920,
          73500,
          73500
         ],
         "xaxis": "x",
         "yaxis": "y"
        }
       ],
       "layout": {
        "barmode": "relative",
        "legend": {
         "tracegroupgap": 0
        },
        "template": {
         "data": {
          "bar": [
           {
            "error_x": {
             "color": "#2a3f5f"
            },
            "error_y": {
             "color": "#2a3f5f"
            },
            "marker": {
             "line": {
              "color": "#E5ECF6",
              "width": 0.5
             },
             "pattern": {
              "fillmode": "overlay",
              "size": 10,
              "solidity": 0.2
             }
            },
            "type": "bar"
           }
          ],
          "barpolar": [
           {
            "marker": {
             "line": {
              "color": "#E5ECF6",
              "width": 0.5
             },
             "pattern": {
              "fillmode": "overlay",
              "size": 10,
              "solidity": 0.2
             }
            },
            "type": "barpolar"
           }
          ],
          "carpet": [
           {
            "aaxis": {
             "endlinecolor": "#2a3f5f",
             "gridcolor": "white",
             "linecolor": "white",
             "minorgridcolor": "white",
             "startlinecolor": "#2a3f5f"
            },
            "baxis": {
             "endlinecolor": "#2a3f5f",
             "gridcolor": "white",
             "linecolor": "white",
             "minorgridcolor": "white",
             "startlinecolor": "#2a3f5f"
            },
            "type": "carpet"
           }
          ],
          "choropleth": [
           {
            "colorbar": {
             "outlinewidth": 0,
             "ticks": ""
            },
            "type": "choropleth"
           }
          ],
          "contour": [
           {
            "colorbar": {
             "outlinewidth": 0,
             "ticks": ""
            },
            "colorscale": [
             [
              0,
              "#0d0887"
             ],
             [
              0.1111111111111111,
              "#46039f"
             ],
             [
              0.2222222222222222,
              "#7201a8"
             ],
             [
              0.3333333333333333,
              "#9c179e"
             ],
             [
              0.4444444444444444,
              "#bd3786"
             ],
             [
              0.5555555555555556,
              "#d8576b"
             ],
             [
              0.6666666666666666,
              "#ed7953"
             ],
             [
              0.7777777777777778,
              "#fb9f3a"
             ],
             [
              0.8888888888888888,
              "#fdca26"
             ],
             [
              1,
              "#f0f921"
             ]
            ],
            "type": "contour"
           }
          ],
          "contourcarpet": [
           {
            "colorbar": {
             "outlinewidth": 0,
             "ticks": ""
            },
            "type": "contourcarpet"
           }
          ],
          "heatmap": [
           {
            "colorbar": {
             "outlinewidth": 0,
             "ticks": ""
            },
            "colorscale": [
             [
              0,
              "#0d0887"
             ],
             [
              0.1111111111111111,
              "#46039f"
             ],
             [
              0.2222222222222222,
              "#7201a8"
             ],
             [
              0.3333333333333333,
              "#9c179e"
             ],
             [
              0.4444444444444444,
              "#bd3786"
             ],
             [
              0.5555555555555556,
              "#d8576b"
             ],
             [
              0.6666666666666666,
              "#ed7953"
             ],
             [
              0.7777777777777778,
              "#fb9f3a"
             ],
             [
              0.8888888888888888,
              "#fdca26"
             ],
             [
              1,
              "#f0f921"
             ]
            ],
            "type": "heatmap"
           }
          ],
          "heatmapgl": [
           {
            "colorbar": {
             "outlinewidth": 0,
             "ticks": ""
            },
            "colorscale": [
             [
              0,
              "#0d0887"
             ],
             [
              0.1111111111111111,
              "#46039f"
             ],
             [
              0.2222222222222222,
              "#7201a8"
             ],
             [
              0.3333333333333333,
              "#9c179e"
             ],
             [
              0.4444444444444444,
              "#bd3786"
             ],
             [
              0.5555555555555556,
              "#d8576b"
             ],
             [
              0.6666666666666666,
              "#ed7953"
             ],
             [
              0.7777777777777778,
              "#fb9f3a"
             ],
             [
              0.8888888888888888,
              "#fdca26"
             ],
             [
              1,
              "#f0f921"
             ]
            ],
            "type": "heatmapgl"
           }
          ],
          "histogram": [
           {
            "marker": {
             "pattern": {
              "fillmode": "overlay",
              "size": 10,
              "solidity": 0.2
             }
            },
            "type": "histogram"
           }
          ],
          "histogram2d": [
           {
            "colorbar": {
             "outlinewidth": 0,
             "ticks": ""
            },
            "colorscale": [
             [
              0,
              "#0d0887"
             ],
             [
              0.1111111111111111,
              "#46039f"
             ],
             [
              0.2222222222222222,
              "#7201a8"
             ],
             [
              0.3333333333333333,
              "#9c179e"
             ],
             [
              0.4444444444444444,
              "#bd3786"
             ],
             [
              0.5555555555555556,
              "#d8576b"
             ],
             [
              0.6666666666666666,
              "#ed7953"
             ],
             [
              0.7777777777777778,
              "#fb9f3a"
             ],
             [
              0.8888888888888888,
              "#fdca26"
             ],
             [
              1,
              "#f0f921"
             ]
            ],
            "type": "histogram2d"
           }
          ],
          "histogram2dcontour": [
           {
            "colorbar": {
             "outlinewidth": 0,
             "ticks": ""
            },
            "colorscale": [
             [
              0,
              "#0d0887"
             ],
             [
              0.1111111111111111,
              "#46039f"
             ],
             [
              0.2222222222222222,
              "#7201a8"
             ],
             [
              0.3333333333333333,
              "#9c179e"
             ],
             [
              0.4444444444444444,
              "#bd3786"
             ],
             [
              0.5555555555555556,
              "#d8576b"
             ],
             [
              0.6666666666666666,
              "#ed7953"
             ],
             [
              0.7777777777777778,
              "#fb9f3a"
             ],
             [
              0.8888888888888888,
              "#fdca26"
             ],
             [
              1,
              "#f0f921"
             ]
            ],
            "type": "histogram2dcontour"
           }
          ],
          "mesh3d": [
           {
            "colorbar": {
             "outlinewidth": 0,
             "ticks": ""
            },
            "type": "mesh3d"
           }
          ],
          "parcoords": [
           {
            "line": {
             "colorbar": {
              "outlinewidth": 0,
              "ticks": ""
             }
            },
            "type": "parcoords"
           }
          ],
          "pie": [
           {
            "automargin": true,
            "type": "pie"
           }
          ],
          "scatter": [
           {
            "fillpattern": {
             "fillmode": "overlay",
             "size": 10,
             "solidity": 0.2
            },
            "type": "scatter"
           }
          ],
          "scatter3d": [
           {
            "line": {
             "colorbar": {
              "outlinewidth": 0,
              "ticks": ""
             }
            },
            "marker": {
             "colorbar": {
              "outlinewidth": 0,
              "ticks": ""
             }
            },
            "type": "scatter3d"
           }
          ],
          "scattercarpet": [
           {
            "marker": {
             "colorbar": {
              "outlinewidth": 0,
              "ticks": ""
             }
            },
            "type": "scattercarpet"
           }
          ],
          "scattergeo": [
           {
            "marker": {
             "colorbar": {
              "outlinewidth": 0,
              "ticks": ""
             }
            },
            "type": "scattergeo"
           }
          ],
          "scattergl": [
           {
            "marker": {
             "colorbar": {
              "outlinewidth": 0,
              "ticks": ""
             }
            },
            "type": "scattergl"
           }
          ],
          "scattermapbox": [
           {
            "marker": {
             "colorbar": {
              "outlinewidth": 0,
              "ticks": ""
             }
            },
            "type": "scattermapbox"
           }
          ],
          "scatterpolar": [
           {
            "marker": {
             "colorbar": {
              "outlinewidth": 0,
              "ticks": ""
             }
            },
            "type": "scatterpolar"
           }
          ],
          "scatterpolargl": [
           {
            "marker": {
             "colorbar": {
              "outlinewidth": 0,
              "ticks": ""
             }
            },
            "type": "scatterpolargl"
           }
          ],
          "scatterternary": [
           {
            "marker": {
             "colorbar": {
              "outlinewidth": 0,
              "ticks": ""
             }
            },
            "type": "scatterternary"
           }
          ],
          "surface": [
           {
            "colorbar": {
             "outlinewidth": 0,
             "ticks": ""
            },
            "colorscale": [
             [
              0,
              "#0d0887"
             ],
             [
              0.1111111111111111,
              "#46039f"
             ],
             [
              0.2222222222222222,
              "#7201a8"
             ],
             [
              0.3333333333333333,
              "#9c179e"
             ],
             [
              0.4444444444444444,
              "#bd3786"
             ],
             [
              0.5555555555555556,
              "#d8576b"
             ],
             [
              0.6666666666666666,
              "#ed7953"
             ],
             [
              0.7777777777777778,
              "#fb9f3a"
             ],
             [
              0.8888888888888888,
              "#fdca26"
             ],
             [
              1,
              "#f0f921"
             ]
            ],
            "type": "surface"
           }
          ],
          "table": [
           {
            "cells": {
             "fill": {
              "color": "#EBF0F8"
             },
             "line": {
              "color": "white"
             }
            },
            "header": {
             "fill": {
              "color": "#C8D4E3"
             },
             "line": {
              "color": "white"
             }
            },
            "type": "table"
           }
          ]
         },
         "layout": {
          "annotationdefaults": {
           "arrowcolor": "#2a3f5f",
           "arrowhead": 0,
           "arrowwidth": 1
          },
          "autotypenumbers": "strict",
          "coloraxis": {
           "colorbar": {
            "outlinewidth": 0,
            "ticks": ""
           }
          },
          "colorscale": {
           "diverging": [
            [
             0,
             "#8e0152"
            ],
            [
             0.1,
             "#c51b7d"
            ],
            [
             0.2,
             "#de77ae"
            ],
            [
             0.3,
             "#f1b6da"
            ],
            [
             0.4,
             "#fde0ef"
            ],
            [
             0.5,
             "#f7f7f7"
            ],
            [
             0.6,
             "#e6f5d0"
            ],
            [
             0.7,
             "#b8e186"
            ],
            [
             0.8,
             "#7fbc41"
            ],
            [
             0.9,
             "#4d9221"
            ],
            [
             1,
             "#276419"
            ]
           ],
           "sequential": [
            [
             0,
             "#0d0887"
            ],
            [
             0.1111111111111111,
             "#46039f"
            ],
            [
             0.2222222222222222,
             "#7201a8"
            ],
            [
             0.3333333333333333,
             "#9c179e"
            ],
            [
             0.4444444444444444,
             "#bd3786"
            ],
            [
             0.5555555555555556,
             "#d8576b"
            ],
            [
             0.6666666666666666,
             "#ed7953"
            ],
            [
             0.7777777777777778,
             "#fb9f3a"
            ],
            [
             0.8888888888888888,
             "#fdca26"
            ],
            [
             1,
             "#f0f921"
            ]
           ],
           "sequentialminus": [
            [
             0,
             "#0d0887"
            ],
            [
             0.1111111111111111,
             "#46039f"
            ],
            [
             0.2222222222222222,
             "#7201a8"
            ],
            [
             0.3333333333333333,
             "#9c179e"
            ],
            [
             0.4444444444444444,
             "#bd3786"
            ],
            [
             0.5555555555555556,
             "#d8576b"
            ],
            [
             0.6666666666666666,
             "#ed7953"
            ],
            [
             0.7777777777777778,
             "#fb9f3a"
            ],
            [
             0.8888888888888888,
             "#fdca26"
            ],
            [
             1,
             "#f0f921"
            ]
           ]
          },
          "colorway": [
           "#636efa",
           "#EF553B",
           "#00cc96",
           "#ab63fa",
           "#FFA15A",
           "#19d3f3",
           "#FF6692",
           "#B6E880",
           "#FF97FF",
           "#FECB52"
          ],
          "font": {
           "color": "#2a3f5f"
          },
          "geo": {
           "bgcolor": "white",
           "lakecolor": "white",
           "landcolor": "#E5ECF6",
           "showlakes": true,
           "showland": true,
           "subunitcolor": "white"
          },
          "hoverlabel": {
           "align": "left"
          },
          "hovermode": "closest",
          "mapbox": {
           "style": "light"
          },
          "paper_bgcolor": "white",
          "plot_bgcolor": "#E5ECF6",
          "polar": {
           "angularaxis": {
            "gridcolor": "white",
            "linecolor": "white",
            "ticks": ""
           },
           "bgcolor": "#E5ECF6",
           "radialaxis": {
            "gridcolor": "white",
            "linecolor": "white",
            "ticks": ""
           }
          },
          "scene": {
           "xaxis": {
            "backgroundcolor": "#E5ECF6",
            "gridcolor": "white",
            "gridwidth": 2,
            "linecolor": "white",
            "showbackground": true,
            "ticks": "",
            "zerolinecolor": "white"
           },
           "yaxis": {
            "backgroundcolor": "#E5ECF6",
            "gridcolor": "white",
            "gridwidth": 2,
            "linecolor": "white",
            "showbackground": true,
            "ticks": "",
            "zerolinecolor": "white"
           },
           "zaxis": {
            "backgroundcolor": "#E5ECF6",
            "gridcolor": "white",
            "gridwidth": 2,
            "linecolor": "white",
            "showbackground": true,
            "ticks": "",
            "zerolinecolor": "white"
           }
          },
          "shapedefaults": {
           "line": {
            "color": "#2a3f5f"
           }
          },
          "ternary": {
           "aaxis": {
            "gridcolor": "white",
            "linecolor": "white",
            "ticks": ""
           },
           "baxis": {
            "gridcolor": "white",
            "linecolor": "white",
            "ticks": ""
           },
           "bgcolor": "#E5ECF6",
           "caxis": {
            "gridcolor": "white",
            "linecolor": "white",
            "ticks": ""
           }
          },
          "title": {
           "x": 0.05
          },
          "xaxis": {
           "automargin": true,
           "gridcolor": "white",
           "linecolor": "white",
           "ticks": "",
           "title": {
            "standoff": 15
           },
           "zerolinecolor": "white",
           "zerolinewidth": 2
          },
          "yaxis": {
           "automargin": true,
           "gridcolor": "white",
           "linecolor": "white",
           "ticks": "",
           "title": {
            "standoff": 15
           },
           "zerolinecolor": "white",
           "zerolinewidth": 2
          }
         }
        },
        "title": {
         "font": {
          "size": 25
         },
         "text": "Average Data Analyst Salary"
        },
        "xaxis": {
         "anchor": "y",
         "domain": [
          0,
          1
         ],
         "title": {
          "text": ""
         }
        },
        "yaxis": {
         "anchor": "x",
         "domain": [
          0,
          1
         ],
         "title": {
          "text": "count"
         }
        }
       }
      },
      "text/html": [
       "<div>                            <div id=\"9e54bfcf-52d5-4279-be57-017636fe914d\" class=\"plotly-graph-div\" style=\"height:525px; width:100%;\"></div>            <script type=\"text/javascript\">                require([\"plotly\"], function(Plotly) {                    window.PLOTLYENV=window.PLOTLYENV || {};                                    if (document.getElementById(\"9e54bfcf-52d5-4279-be57-017636fe914d\")) {                    Plotly.newPlot(                        \"9e54bfcf-52d5-4279-be57-017636fe914d\",                        [{\"alignmentgroup\":\"True\",\"bingroup\":\"x\",\"hovertemplate\":\"new_salary=%{x}<br>count=%{y}<extra></extra>\",\"legendgroup\":\"\",\"marker\":{\"color\":\"#636efa\",\"pattern\":{\"shape\":\"\"}},\"name\":\"\",\"offsetgroup\":\"\",\"orientation\":\"v\",\"showlegend\":false,\"x\":[\"null\",\"null\",\"null\",\"null\",\"null\",\"null\",\"null\",65000,55000,55000,55000,49920,73500,73500],\"xaxis\":\"x\",\"yaxis\":\"y\",\"type\":\"histogram\"}],                        {\"template\":{\"data\":{\"histogram2dcontour\":[{\"type\":\"histogram2dcontour\",\"colorbar\":{\"outlinewidth\":0,\"ticks\":\"\"},\"colorscale\":[[0.0,\"#0d0887\"],[0.1111111111111111,\"#46039f\"],[0.2222222222222222,\"#7201a8\"],[0.3333333333333333,\"#9c179e\"],[0.4444444444444444,\"#bd3786\"],[0.5555555555555556,\"#d8576b\"],[0.6666666666666666,\"#ed7953\"],[0.7777777777777778,\"#fb9f3a\"],[0.8888888888888888,\"#fdca26\"],[1.0,\"#f0f921\"]]}],\"choropleth\":[{\"type\":\"choropleth\",\"colorbar\":{\"outlinewidth\":0,\"ticks\":\"\"}}],\"histogram2d\":[{\"type\":\"histogram2d\",\"colorbar\":{\"outlinewidth\":0,\"ticks\":\"\"},\"colorscale\":[[0.0,\"#0d0887\"],[0.1111111111111111,\"#46039f\"],[0.2222222222222222,\"#7201a8\"],[0.3333333333333333,\"#9c179e\"],[0.4444444444444444,\"#bd3786\"],[0.5555555555555556,\"#d8576b\"],[0.6666666666666666,\"#ed7953\"],[0.7777777777777778,\"#fb9f3a\"],[0.8888888888888888,\"#fdca26\"],[1.0,\"#f0f921\"]]}],\"heatmap\":[{\"type\":\"heatmap\",\"colorbar\":{\"outlinewidth\":0,\"ticks\":\"\"},\"colorscale\":[[0.0,\"#0d0887\"],[0.1111111111111111,\"#46039f\"],[0.2222222222222222,\"#7201a8\"],[0.3333333333333333,\"#9c179e\"],[0.4444444444444444,\"#bd3786\"],[0.5555555555555556,\"#d8576b\"],[0.6666666666666666,\"#ed7953\"],[0.7777777777777778,\"#fb9f3a\"],[0.8888888888888888,\"#fdca26\"],[1.0,\"#f0f921\"]]}],\"heatmapgl\":[{\"type\":\"heatmapgl\",\"colorbar\":{\"outlinewidth\":0,\"ticks\":\"\"},\"colorscale\":[[0.0,\"#0d0887\"],[0.1111111111111111,\"#46039f\"],[0.2222222222222222,\"#7201a8\"],[0.3333333333333333,\"#9c179e\"],[0.4444444444444444,\"#bd3786\"],[0.5555555555555556,\"#d8576b\"],[0.6666666666666666,\"#ed7953\"],[0.7777777777777778,\"#fb9f3a\"],[0.8888888888888888,\"#fdca26\"],[1.0,\"#f0f921\"]]}],\"contourcarpet\":[{\"type\":\"contourcarpet\",\"colorbar\":{\"outlinewidth\":0,\"ticks\":\"\"}}],\"contour\":[{\"type\":\"contour\",\"colorbar\":{\"outlinewidth\":0,\"ticks\":\"\"},\"colorscale\":[[0.0,\"#0d0887\"],[0.1111111111111111,\"#46039f\"],[0.2222222222222222,\"#7201a8\"],[0.3333333333333333,\"#9c179e\"],[0.4444444444444444,\"#bd3786\"],[0.5555555555555556,\"#d8576b\"],[0.6666666666666666,\"#ed7953\"],[0.7777777777777778,\"#fb9f3a\"],[0.8888888888888888,\"#fdca26\"],[1.0,\"#f0f921\"]]}],\"surface\":[{\"type\":\"surface\",\"colorbar\":{\"outlinewidth\":0,\"ticks\":\"\"},\"colorscale\":[[0.0,\"#0d0887\"],[0.1111111111111111,\"#46039f\"],[0.2222222222222222,\"#7201a8\"],[0.3333333333333333,\"#9c179e\"],[0.4444444444444444,\"#bd3786\"],[0.5555555555555556,\"#d8576b\"],[0.6666666666666666,\"#ed7953\"],[0.7777777777777778,\"#fb9f3a\"],[0.8888888888888888,\"#fdca26\"],[1.0,\"#f0f921\"]]}],\"mesh3d\":[{\"type\":\"mesh3d\",\"colorbar\":{\"outlinewidth\":0,\"ticks\":\"\"}}],\"scatter\":[{\"fillpattern\":{\"fillmode\":\"overlay\",\"size\":10,\"solidity\":0.2},\"type\":\"scatter\"}],\"parcoords\":[{\"type\":\"parcoords\",\"line\":{\"colorbar\":{\"outlinewidth\":0,\"ticks\":\"\"}}}],\"scatterpolargl\":[{\"type\":\"scatterpolargl\",\"marker\":{\"colorbar\":{\"outlinewidth\":0,\"ticks\":\"\"}}}],\"bar\":[{\"error_x\":{\"color\":\"#2a3f5f\"},\"error_y\":{\"color\":\"#2a3f5f\"},\"marker\":{\"line\":{\"color\":\"#E5ECF6\",\"width\":0.5},\"pattern\":{\"fillmode\":\"overlay\",\"size\":10,\"solidity\":0.2}},\"type\":\"bar\"}],\"scattergeo\":[{\"type\":\"scattergeo\",\"marker\":{\"colorbar\":{\"outlinewidth\":0,\"ticks\":\"\"}}}],\"scatterpolar\":[{\"type\":\"scatterpolar\",\"marker\":{\"colorbar\":{\"outlinewidth\":0,\"ticks\":\"\"}}}],\"histogram\":[{\"marker\":{\"pattern\":{\"fillmode\":\"overlay\",\"size\":10,\"solidity\":0.2}},\"type\":\"histogram\"}],\"scattergl\":[{\"type\":\"scattergl\",\"marker\":{\"colorbar\":{\"outlinewidth\":0,\"ticks\":\"\"}}}],\"scatter3d\":[{\"type\":\"scatter3d\",\"line\":{\"colorbar\":{\"outlinewidth\":0,\"ticks\":\"\"}},\"marker\":{\"colorbar\":{\"outlinewidth\":0,\"ticks\":\"\"}}}],\"scattermapbox\":[{\"type\":\"scattermapbox\",\"marker\":{\"colorbar\":{\"outlinewidth\":0,\"ticks\":\"\"}}}],\"scatterternary\":[{\"type\":\"scatterternary\",\"marker\":{\"colorbar\":{\"outlinewidth\":0,\"ticks\":\"\"}}}],\"scattercarpet\":[{\"type\":\"scattercarpet\",\"marker\":{\"colorbar\":{\"outlinewidth\":0,\"ticks\":\"\"}}}],\"carpet\":[{\"aaxis\":{\"endlinecolor\":\"#2a3f5f\",\"gridcolor\":\"white\",\"linecolor\":\"white\",\"minorgridcolor\":\"white\",\"startlinecolor\":\"#2a3f5f\"},\"baxis\":{\"endlinecolor\":\"#2a3f5f\",\"gridcolor\":\"white\",\"linecolor\":\"white\",\"minorgridcolor\":\"white\",\"startlinecolor\":\"#2a3f5f\"},\"type\":\"carpet\"}],\"table\":[{\"cells\":{\"fill\":{\"color\":\"#EBF0F8\"},\"line\":{\"color\":\"white\"}},\"header\":{\"fill\":{\"color\":\"#C8D4E3\"},\"line\":{\"color\":\"white\"}},\"type\":\"table\"}],\"barpolar\":[{\"marker\":{\"line\":{\"color\":\"#E5ECF6\",\"width\":0.5},\"pattern\":{\"fillmode\":\"overlay\",\"size\":10,\"solidity\":0.2}},\"type\":\"barpolar\"}],\"pie\":[{\"automargin\":true,\"type\":\"pie\"}]},\"layout\":{\"autotypenumbers\":\"strict\",\"colorway\":[\"#636efa\",\"#EF553B\",\"#00cc96\",\"#ab63fa\",\"#FFA15A\",\"#19d3f3\",\"#FF6692\",\"#B6E880\",\"#FF97FF\",\"#FECB52\"],\"font\":{\"color\":\"#2a3f5f\"},\"hovermode\":\"closest\",\"hoverlabel\":{\"align\":\"left\"},\"paper_bgcolor\":\"white\",\"plot_bgcolor\":\"#E5ECF6\",\"polar\":{\"bgcolor\":\"#E5ECF6\",\"angularaxis\":{\"gridcolor\":\"white\",\"linecolor\":\"white\",\"ticks\":\"\"},\"radialaxis\":{\"gridcolor\":\"white\",\"linecolor\":\"white\",\"ticks\":\"\"}},\"ternary\":{\"bgcolor\":\"#E5ECF6\",\"aaxis\":{\"gridcolor\":\"white\",\"linecolor\":\"white\",\"ticks\":\"\"},\"baxis\":{\"gridcolor\":\"white\",\"linecolor\":\"white\",\"ticks\":\"\"},\"caxis\":{\"gridcolor\":\"white\",\"linecolor\":\"white\",\"ticks\":\"\"}},\"coloraxis\":{\"colorbar\":{\"outlinewidth\":0,\"ticks\":\"\"}},\"colorscale\":{\"sequential\":[[0.0,\"#0d0887\"],[0.1111111111111111,\"#46039f\"],[0.2222222222222222,\"#7201a8\"],[0.3333333333333333,\"#9c179e\"],[0.4444444444444444,\"#bd3786\"],[0.5555555555555556,\"#d8576b\"],[0.6666666666666666,\"#ed7953\"],[0.7777777777777778,\"#fb9f3a\"],[0.8888888888888888,\"#fdca26\"],[1.0,\"#f0f921\"]],\"sequentialminus\":[[0.0,\"#0d0887\"],[0.1111111111111111,\"#46039f\"],[0.2222222222222222,\"#7201a8\"],[0.3333333333333333,\"#9c179e\"],[0.4444444444444444,\"#bd3786\"],[0.5555555555555556,\"#d8576b\"],[0.6666666666666666,\"#ed7953\"],[0.7777777777777778,\"#fb9f3a\"],[0.8888888888888888,\"#fdca26\"],[1.0,\"#f0f921\"]],\"diverging\":[[0,\"#8e0152\"],[0.1,\"#c51b7d\"],[0.2,\"#de77ae\"],[0.3,\"#f1b6da\"],[0.4,\"#fde0ef\"],[0.5,\"#f7f7f7\"],[0.6,\"#e6f5d0\"],[0.7,\"#b8e186\"],[0.8,\"#7fbc41\"],[0.9,\"#4d9221\"],[1,\"#276419\"]]},\"xaxis\":{\"gridcolor\":\"white\",\"linecolor\":\"white\",\"ticks\":\"\",\"title\":{\"standoff\":15},\"zerolinecolor\":\"white\",\"automargin\":true,\"zerolinewidth\":2},\"yaxis\":{\"gridcolor\":\"white\",\"linecolor\":\"white\",\"ticks\":\"\",\"title\":{\"standoff\":15},\"zerolinecolor\":\"white\",\"automargin\":true,\"zerolinewidth\":2},\"scene\":{\"xaxis\":{\"backgroundcolor\":\"#E5ECF6\",\"gridcolor\":\"white\",\"linecolor\":\"white\",\"showbackground\":true,\"ticks\":\"\",\"zerolinecolor\":\"white\",\"gridwidth\":2},\"yaxis\":{\"backgroundcolor\":\"#E5ECF6\",\"gridcolor\":\"white\",\"linecolor\":\"white\",\"showbackground\":true,\"ticks\":\"\",\"zerolinecolor\":\"white\",\"gridwidth\":2},\"zaxis\":{\"backgroundcolor\":\"#E5ECF6\",\"gridcolor\":\"white\",\"linecolor\":\"white\",\"showbackground\":true,\"ticks\":\"\",\"zerolinecolor\":\"white\",\"gridwidth\":2}},\"shapedefaults\":{\"line\":{\"color\":\"#2a3f5f\"}},\"annotationdefaults\":{\"arrowcolor\":\"#2a3f5f\",\"arrowhead\":0,\"arrowwidth\":1},\"geo\":{\"bgcolor\":\"white\",\"landcolor\":\"#E5ECF6\",\"subunitcolor\":\"white\",\"showland\":true,\"showlakes\":true,\"lakecolor\":\"white\"},\"title\":{\"x\":0.05},\"mapbox\":{\"style\":\"light\"}}},\"xaxis\":{\"anchor\":\"y\",\"domain\":[0.0,1.0],\"title\":{\"text\":\"\"}},\"yaxis\":{\"anchor\":\"x\",\"domain\":[0.0,1.0],\"title\":{\"text\":\"count\"}},\"legend\":{\"tracegroupgap\":0},\"title\":{\"text\":\"Average Data Analyst Salary\",\"font\":{\"size\":25}},\"barmode\":\"relative\"},                        {\"responsive\": true}                    ).then(function(){\n",
       "                            \n",
       "var gd = document.getElementById('9e54bfcf-52d5-4279-be57-017636fe914d');\n",
       "var x = new MutationObserver(function (mutations, observer) {{\n",
       "        var display = window.getComputedStyle(gd).display;\n",
       "        if (!display || display === 'none') {{\n",
       "            console.log([gd, 'removed!']);\n",
       "            Plotly.purge(gd);\n",
       "            observer.disconnect();\n",
       "        }}\n",
       "}});\n",
       "\n",
       "// Listen for the removal of the full notebook cells\n",
       "var notebookContainer = gd.closest('#notebook-container');\n",
       "if (notebookContainer) {{\n",
       "    x.observe(notebookContainer, {childList: true});\n",
       "}}\n",
       "\n",
       "// Listen for the clearing of the current output cell\n",
       "var outputEl = gd.closest('.output');\n",
       "if (outputEl) {{\n",
       "    x.observe(outputEl, {childList: true});\n",
       "}}\n",
       "\n",
       "                        })                };                });            </script>        </div>"
      ]
     },
     "metadata": {},
     "output_type": "display_data"
    }
   ],
   "source": [
    "\n",
    "\n",
    "fig = px.histogram(\n",
    "    job_report, \n",
    "    title='Average Data Analyst Salary',\n",
    "    x='new_salary'\n",
    "#     needed to remove unnecessary date label\n",
    ").update_layout(yaxis_title='count', title_font_size=25, xaxis_title='')\n",
    "\n",
    "fig.show()\n",
    "\n",
    "# import plotly.graph_objects as go\n",
    "\n",
    "# # Create a figure\n",
    "# fig = go.Figure()\n",
    "\n",
    "# # Add a trace to the figure\n",
    "# fig.add_trace(go.Histogram(x=job_report['new_salary']))\n",
    "\n",
    "# # Set the layout of the figure\n",
    "# fig.update_layout(xaxis=dict(tickformat='%Y-%m-%d'))\n",
    "\n",
    "# # Display the figure\n",
    "# fig.show()\n",
    "\n",
    "\n"
   ]
  },
  {
   "cell_type": "markdown",
   "id": "30acd244",
   "metadata": {},
   "source": [
    "## Issue we are seeing is now the extra suffix from the analyst positions, which\n",
    "## cause them to become separate data points"
   ]
  },
  {
   "cell_type": "markdown",
   "id": "6c35bb29",
   "metadata": {},
   "source": [
    "## need to make it so there is consistency in the names"
   ]
  },
  {
   "cell_type": "code",
   "execution_count": 436,
   "id": "1614fc66",
   "metadata": {},
   "outputs": [],
   "source": [
    "# what if slice up until the end of analyst? most of the important portion of the title is there"
   ]
  },
  {
   "cell_type": "code",
   "execution_count": 439,
   "id": "1fefdb79",
   "metadata": {},
   "outputs": [
    {
     "data": {
      "text/plain": [
       "8"
      ]
     },
     "execution_count": 439,
     "metadata": {},
     "output_type": "execute_result"
    }
   ],
   "source": [
    "job_report['title'][0].lower().find('analyst')"
   ]
  },
  {
   "cell_type": "code",
   "execution_count": 492,
   "id": "f53a7239",
   "metadata": {},
   "outputs": [
    {
     "data": {
      "text/html": [
       "<div>\n",
       "<style scoped>\n",
       "    .dataframe tbody tr th:only-of-type {\n",
       "        vertical-align: middle;\n",
       "    }\n",
       "\n",
       "    .dataframe tbody tr th {\n",
       "        vertical-align: top;\n",
       "    }\n",
       "\n",
       "    .dataframe thead th {\n",
       "        text-align: right;\n",
       "    }\n",
       "</style>\n",
       "<table border=\"1\" class=\"dataframe\">\n",
       "  <thead>\n",
       "    <tr style=\"text-align: right;\">\n",
       "      <th></th>\n",
       "      <th>title</th>\n",
       "      <th>company_name</th>\n",
       "      <th>location</th>\n",
       "      <th>via</th>\n",
       "      <th>description</th>\n",
       "      <th>posted_by_day</th>\n",
       "      <th>inserted_at</th>\n",
       "      <th>work_from_home</th>\n",
       "      <th>salary</th>\n",
       "      <th>remote</th>\n",
       "      <th>sql</th>\n",
       "      <th>excel</th>\n",
       "      <th>python</th>\n",
       "      <th>tableau</th>\n",
       "      <th>raw_salary</th>\n",
       "      <th>new_salary</th>\n",
       "    </tr>\n",
       "  </thead>\n",
       "  <tbody>\n",
       "    <tr>\n",
       "      <th>0</th>\n",
       "      <td>Jr Data Analyst</td>\n",
       "      <td>TechFetch.com - On Demand Tech Workforce hirin...</td>\n",
       "      <td>Atlanta, GA</td>\n",
       "      <td>via LinkedIn</td>\n",
       "      <td>\"ALL our jobs are US based and candidates must...</td>\n",
       "      <td>0</td>\n",
       "      <td>12/12/2022</td>\n",
       "      <td>NaN</td>\n",
       "      <td>NaN</td>\n",
       "      <td>No</td>\n",
       "      <td>1</td>\n",
       "      <td>1</td>\n",
       "      <td>1</td>\n",
       "      <td>1</td>\n",
       "      <td>null</td>\n",
       "      <td>null</td>\n",
       "    </tr>\n",
       "    <tr>\n",
       "      <th>1</th>\n",
       "      <td>Jr Data Analyst</td>\n",
       "      <td>TechFetch.com - On Demand Tech Workforce hirin...</td>\n",
       "      <td>Atlanta, GA</td>\n",
       "      <td>via LinkedIn</td>\n",
       "      <td>\"ALL our jobs are US based and candidates must...</td>\n",
       "      <td>1</td>\n",
       "      <td>12/13/2022</td>\n",
       "      <td>NaN</td>\n",
       "      <td>NaN</td>\n",
       "      <td>No</td>\n",
       "      <td>1</td>\n",
       "      <td>1</td>\n",
       "      <td>1</td>\n",
       "      <td>1</td>\n",
       "      <td>null</td>\n",
       "      <td>null</td>\n",
       "    </tr>\n",
       "    <tr>\n",
       "      <th>2</th>\n",
       "      <td>Jr Data Analyst</td>\n",
       "      <td>TechFetch.com - On Demand Tech Workforce hirin...</td>\n",
       "      <td>Atlanta, GA</td>\n",
       "      <td>via LinkedIn</td>\n",
       "      <td>\"ALL our jobs are US based and candidates must...</td>\n",
       "      <td>2</td>\n",
       "      <td>12/14/2022</td>\n",
       "      <td>NaN</td>\n",
       "      <td>NaN</td>\n",
       "      <td>No</td>\n",
       "      <td>1</td>\n",
       "      <td>1</td>\n",
       "      <td>1</td>\n",
       "      <td>1</td>\n",
       "      <td>null</td>\n",
       "      <td>null</td>\n",
       "    </tr>\n",
       "    <tr>\n",
       "      <th>3</th>\n",
       "      <td>Jr Data Analyst</td>\n",
       "      <td>TechFetch.com - On Demand Tech Workforce hirin...</td>\n",
       "      <td>Atlanta, GA</td>\n",
       "      <td>via LinkedIn</td>\n",
       "      <td>\"ALL our jobs are US based and candidates must...</td>\n",
       "      <td>3</td>\n",
       "      <td>12/15/2022</td>\n",
       "      <td>NaN</td>\n",
       "      <td>NaN</td>\n",
       "      <td>No</td>\n",
       "      <td>1</td>\n",
       "      <td>1</td>\n",
       "      <td>1</td>\n",
       "      <td>1</td>\n",
       "      <td>null</td>\n",
       "      <td>null</td>\n",
       "    </tr>\n",
       "    <tr>\n",
       "      <th>4</th>\n",
       "      <td>Jr Data Analyst</td>\n",
       "      <td>TechFetch.com - On Demand Tech Workforce hirin...</td>\n",
       "      <td>Atlanta, GA</td>\n",
       "      <td>via LinkedIn</td>\n",
       "      <td>\"ALL our jobs are US based and candidates must...</td>\n",
       "      <td>4</td>\n",
       "      <td>12/16/2022</td>\n",
       "      <td>NaN</td>\n",
       "      <td>NaN</td>\n",
       "      <td>No</td>\n",
       "      <td>1</td>\n",
       "      <td>1</td>\n",
       "      <td>1</td>\n",
       "      <td>1</td>\n",
       "      <td>null</td>\n",
       "      <td>null</td>\n",
       "    </tr>\n",
       "    <tr>\n",
       "      <th>5</th>\n",
       "      <td>Junior Data Analyst - REMOTE - US Citizenship ...</td>\n",
       "      <td>General Dynamics Information Technology</td>\n",
       "      <td>Atlanta, GA</td>\n",
       "      <td>via Monster</td>\n",
       "      <td>Type of Requisition: Regular\\n\\nClearance Leve...</td>\n",
       "      <td>4</td>\n",
       "      <td>12/16/2022</td>\n",
       "      <td>NaN</td>\n",
       "      <td>NaN</td>\n",
       "      <td>No</td>\n",
       "      <td>0</td>\n",
       "      <td>0</td>\n",
       "      <td>0</td>\n",
       "      <td>1</td>\n",
       "      <td>null</td>\n",
       "      <td>null</td>\n",
       "    </tr>\n",
       "    <tr>\n",
       "      <th>6</th>\n",
       "      <td>Junior Data Analyst (with Power Apps)</td>\n",
       "      <td>Jacobs</td>\n",
       "      <td>Atlanta, GA</td>\n",
       "      <td>via StartWire</td>\n",
       "      <td>We have more than 1800 colleagues in Poland, s...</td>\n",
       "      <td>4</td>\n",
       "      <td>12/16/2022</td>\n",
       "      <td>NaN</td>\n",
       "      <td>NaN</td>\n",
       "      <td>No</td>\n",
       "      <td>1</td>\n",
       "      <td>1</td>\n",
       "      <td>0</td>\n",
       "      <td>0</td>\n",
       "      <td>null</td>\n",
       "      <td>null</td>\n",
       "    </tr>\n",
       "    <tr>\n",
       "      <th>7</th>\n",
       "      <td>Data Analyst Entry Level (Bootcamp)</td>\n",
       "      <td>Helm360</td>\n",
       "      <td>Atlanta, GA</td>\n",
       "      <td>via Glassdoor</td>\n",
       "      <td>Responsibilities\\n• Interpret data, analyze re...</td>\n",
       "      <td>5</td>\n",
       "      <td>12/17/2022</td>\n",
       "      <td>NaN</td>\n",
       "      <td>NaN</td>\n",
       "      <td>No</td>\n",
       "      <td>1</td>\n",
       "      <td>1</td>\n",
       "      <td>0</td>\n",
       "      <td>0</td>\n",
       "      <td>$60,000.00 - $70,000.00 per year\\n\\nBenefits:\\...</td>\n",
       "      <td>65000</td>\n",
       "    </tr>\n",
       "    <tr>\n",
       "      <th>8</th>\n",
       "      <td>Junior Data Analyst</td>\n",
       "      <td>Jobot</td>\n",
       "      <td>Atlanta, GA</td>\n",
       "      <td>via BeBee</td>\n",
       "      <td>Entry Level Data Analyst - hybrid This Jobot J...</td>\n",
       "      <td>5</td>\n",
       "      <td>12/17/2022</td>\n",
       "      <td>NaN</td>\n",
       "      <td>NaN</td>\n",
       "      <td>No</td>\n",
       "      <td>0</td>\n",
       "      <td>1</td>\n",
       "      <td>0</td>\n",
       "      <td>0</td>\n",
       "      <td>$50,000 - $60,000 per year A bit about us: For...</td>\n",
       "      <td>55000</td>\n",
       "    </tr>\n",
       "    <tr>\n",
       "      <th>9</th>\n",
       "      <td>Junior Data Analyst</td>\n",
       "      <td>Jobot</td>\n",
       "      <td>Atlanta, GA</td>\n",
       "      <td>via BeBee</td>\n",
       "      <td>Entry Level Data Analyst - hybrid This Jobot J...</td>\n",
       "      <td>6</td>\n",
       "      <td>12/18/2022</td>\n",
       "      <td>NaN</td>\n",
       "      <td>NaN</td>\n",
       "      <td>No</td>\n",
       "      <td>0</td>\n",
       "      <td>1</td>\n",
       "      <td>0</td>\n",
       "      <td>0</td>\n",
       "      <td>$50,000 - $60,000 per year A bit about us: For...</td>\n",
       "      <td>55000</td>\n",
       "    </tr>\n",
       "    <tr>\n",
       "      <th>10</th>\n",
       "      <td>Junior Data Analyst</td>\n",
       "      <td>Jobot</td>\n",
       "      <td>Atlanta, GA</td>\n",
       "      <td>via BeBee</td>\n",
       "      <td>Entry Level Data Analyst - hybrid This Jobot J...</td>\n",
       "      <td>7</td>\n",
       "      <td>12/18/2022</td>\n",
       "      <td>NaN</td>\n",
       "      <td>NaN</td>\n",
       "      <td>No</td>\n",
       "      <td>0</td>\n",
       "      <td>1</td>\n",
       "      <td>0</td>\n",
       "      <td>0</td>\n",
       "      <td>$50,000 - $60,000 per year A bit about us: For...</td>\n",
       "      <td>55000</td>\n",
       "    </tr>\n",
       "    <tr>\n",
       "      <th>11</th>\n",
       "      <td>Jr Data Analyst- Entry level- local to Atlanta</td>\n",
       "      <td>Vaco Technology</td>\n",
       "      <td>Atlanta, GA</td>\n",
       "      <td>via Atlanta, GA - Geebo</td>\n",
       "      <td>Full Job Description\\n\\nResponsibilities...\\n•...</td>\n",
       "      <td>3</td>\n",
       "      <td>12/19/2022</td>\n",
       "      <td>NaN</td>\n",
       "      <td>20–28 an hour</td>\n",
       "      <td>No</td>\n",
       "      <td>1</td>\n",
       "      <td>1</td>\n",
       "      <td>1</td>\n",
       "      <td>0</td>\n",
       "      <td>$20 to $28 per hour based on qualifications</td>\n",
       "      <td>49920</td>\n",
       "    </tr>\n",
       "    <tr>\n",
       "      <th>12</th>\n",
       "      <td>asd</td>\n",
       "      <td>asd</td>\n",
       "      <td>Anywhere</td>\n",
       "      <td>via AAA</td>\n",
       "      <td>ajsdas salary: $67k -$80k per year.</td>\n",
       "      <td>2</td>\n",
       "      <td>12/19/2022</td>\n",
       "      <td>NaN</td>\n",
       "      <td>NaN</td>\n",
       "      <td>Yes</td>\n",
       "      <td>0</td>\n",
       "      <td>0</td>\n",
       "      <td>0</td>\n",
       "      <td>0</td>\n",
       "      <td>$67k -$80k per year.</td>\n",
       "      <td>73500</td>\n",
       "    </tr>\n",
       "    <tr>\n",
       "      <th>13</th>\n",
       "      <td>asd</td>\n",
       "      <td>asd</td>\n",
       "      <td>Anywhere</td>\n",
       "      <td>via AAA</td>\n",
       "      <td>ajsdas salary: $67k -$80k per year.</td>\n",
       "      <td>3</td>\n",
       "      <td>12/19/2022</td>\n",
       "      <td>NaN</td>\n",
       "      <td>NaN</td>\n",
       "      <td>Yes</td>\n",
       "      <td>0</td>\n",
       "      <td>0</td>\n",
       "      <td>0</td>\n",
       "      <td>0</td>\n",
       "      <td>$67k -$80k per year.</td>\n",
       "      <td>73500</td>\n",
       "    </tr>\n",
       "  </tbody>\n",
       "</table>\n",
       "</div>"
      ],
      "text/plain": [
       "                                                title  \\\n",
       "0                                     Jr Data Analyst   \n",
       "1                                     Jr Data Analyst   \n",
       "2                                     Jr Data Analyst   \n",
       "3                                     Jr Data Analyst   \n",
       "4                                     Jr Data Analyst   \n",
       "5   Junior Data Analyst - REMOTE - US Citizenship ...   \n",
       "6               Junior Data Analyst (with Power Apps)   \n",
       "7                 Data Analyst Entry Level (Bootcamp)   \n",
       "8                                 Junior Data Analyst   \n",
       "9                                 Junior Data Analyst   \n",
       "10                                Junior Data Analyst   \n",
       "11     Jr Data Analyst- Entry level- local to Atlanta   \n",
       "12                                                asd   \n",
       "13                                                asd   \n",
       "\n",
       "                                         company_name     location  \\\n",
       "0   TechFetch.com - On Demand Tech Workforce hirin...  Atlanta, GA   \n",
       "1   TechFetch.com - On Demand Tech Workforce hirin...  Atlanta, GA   \n",
       "2   TechFetch.com - On Demand Tech Workforce hirin...  Atlanta, GA   \n",
       "3   TechFetch.com - On Demand Tech Workforce hirin...  Atlanta, GA   \n",
       "4   TechFetch.com - On Demand Tech Workforce hirin...  Atlanta, GA   \n",
       "5             General Dynamics Information Technology  Atlanta, GA   \n",
       "6                                              Jacobs  Atlanta, GA   \n",
       "7                                             Helm360  Atlanta, GA   \n",
       "8                                               Jobot  Atlanta, GA   \n",
       "9                                               Jobot  Atlanta, GA   \n",
       "10                                              Jobot  Atlanta, GA   \n",
       "11                                    Vaco Technology  Atlanta, GA   \n",
       "12                                                asd     Anywhere   \n",
       "13                                                asd     Anywhere   \n",
       "\n",
       "                        via  \\\n",
       "0              via LinkedIn   \n",
       "1              via LinkedIn   \n",
       "2              via LinkedIn   \n",
       "3              via LinkedIn   \n",
       "4              via LinkedIn   \n",
       "5               via Monster   \n",
       "6             via StartWire   \n",
       "7             via Glassdoor   \n",
       "8                 via BeBee   \n",
       "9                 via BeBee   \n",
       "10                via BeBee   \n",
       "11  via Atlanta, GA - Geebo   \n",
       "12                  via AAA   \n",
       "13                  via AAA   \n",
       "\n",
       "                                          description  posted_by_day  \\\n",
       "0   \"ALL our jobs are US based and candidates must...              0   \n",
       "1   \"ALL our jobs are US based and candidates must...              1   \n",
       "2   \"ALL our jobs are US based and candidates must...              2   \n",
       "3   \"ALL our jobs are US based and candidates must...              3   \n",
       "4   \"ALL our jobs are US based and candidates must...              4   \n",
       "5   Type of Requisition: Regular\\n\\nClearance Leve...              4   \n",
       "6   We have more than 1800 colleagues in Poland, s...              4   \n",
       "7   Responsibilities\\n• Interpret data, analyze re...              5   \n",
       "8   Entry Level Data Analyst - hybrid This Jobot J...              5   \n",
       "9   Entry Level Data Analyst - hybrid This Jobot J...              6   \n",
       "10  Entry Level Data Analyst - hybrid This Jobot J...              7   \n",
       "11  Full Job Description\\n\\nResponsibilities...\\n•...              3   \n",
       "12                ajsdas salary: $67k -$80k per year.              2   \n",
       "13                ajsdas salary: $67k -$80k per year.              3   \n",
       "\n",
       "   inserted_at  work_from_home         salary remote  sql  excel  python  \\\n",
       "0   12/12/2022             NaN            NaN     No    1      1       1   \n",
       "1   12/13/2022             NaN            NaN     No    1      1       1   \n",
       "2   12/14/2022             NaN            NaN     No    1      1       1   \n",
       "3   12/15/2022             NaN            NaN     No    1      1       1   \n",
       "4   12/16/2022             NaN            NaN     No    1      1       1   \n",
       "5   12/16/2022             NaN            NaN     No    0      0       0   \n",
       "6   12/16/2022             NaN            NaN     No    1      1       0   \n",
       "7   12/17/2022             NaN            NaN     No    1      1       0   \n",
       "8   12/17/2022             NaN            NaN     No    0      1       0   \n",
       "9   12/18/2022             NaN            NaN     No    0      1       0   \n",
       "10  12/18/2022             NaN            NaN     No    0      1       0   \n",
       "11  12/19/2022             NaN  20–28 an hour     No    1      1       1   \n",
       "12  12/19/2022             NaN            NaN    Yes    0      0       0   \n",
       "13  12/19/2022             NaN            NaN    Yes    0      0       0   \n",
       "\n",
       "    tableau                                         raw_salary new_salary  \n",
       "0         1                                               null       null  \n",
       "1         1                                               null       null  \n",
       "2         1                                               null       null  \n",
       "3         1                                               null       null  \n",
       "4         1                                               null       null  \n",
       "5         1                                               null       null  \n",
       "6         0                                               null       null  \n",
       "7         0  $60,000.00 - $70,000.00 per year\\n\\nBenefits:\\...      65000  \n",
       "8         0  $50,000 - $60,000 per year A bit about us: For...      55000  \n",
       "9         0  $50,000 - $60,000 per year A bit about us: For...      55000  \n",
       "10        0  $50,000 - $60,000 per year A bit about us: For...      55000  \n",
       "11        0        $20 to $28 per hour based on qualifications      49920  \n",
       "12        0                               $67k -$80k per year.      73500  \n",
       "13        0                               $67k -$80k per year.      73500  "
      ]
     },
     "execution_count": 492,
     "metadata": {},
     "output_type": "execute_result"
    }
   ],
   "source": [
    "job_report"
   ]
  },
  {
   "cell_type": "code",
   "execution_count": 497,
   "id": "25510d4e",
   "metadata": {},
   "outputs": [
    {
     "data": {
      "application/vnd.plotly.v1+json": {
       "config": {
        "plotlyServerURL": "https://plot.ly"
       },
       "data": [
        {
         "alignmentgroup": "True",
         "bingroup": "x",
         "hovertemplate": "remote=No<br>count=%{y}<extra></extra>",
         "legendgroup": "No",
         "marker": {
          "color": "#000001",
          "pattern": {
           "shape": ""
          }
         },
         "name": "No",
         "nbinsx": 20,
         "offsetgroup": "No",
         "orientation": "v",
         "showlegend": true,
         "type": "histogram",
         "x": [
          "12/12/2022",
          "12/13/2022",
          "12/14/2022",
          "12/15/2022",
          "12/16/2022",
          "12/16/2022",
          "12/16/2022",
          "12/17/2022",
          "12/17/2022",
          "12/18/2022",
          "12/18/2022",
          "12/19/2022"
         ],
         "xaxis": "x",
         "yaxis": "y"
        },
        {
         "alignmentgroup": "True",
         "bingroup": "x",
         "hovertemplate": "remote=Yes<br>count=%{y}<extra></extra>",
         "legendgroup": "Yes",
         "marker": {
          "color": "#000002",
          "pattern": {
           "shape": ""
          }
         },
         "name": "Yes",
         "nbinsx": 20,
         "offsetgroup": "Yes",
         "orientation": "v",
         "showlegend": true,
         "type": "histogram",
         "x": [
          "12/19/2022",
          "12/19/2022"
         ],
         "xaxis": "x",
         "yaxis": "y"
        }
       ],
       "layout": {
        "barmode": "relative",
        "legend": {
         "title": {
          "text": "remote"
         },
         "tracegroupgap": 0
        },
        "template": {
         "data": {
          "candlestick": [
           {
            "decreasing": {
             "line": {
              "color": "#000033"
             }
            },
            "increasing": {
             "line": {
              "color": "#000032"
             }
            },
            "type": "candlestick"
           }
          ],
          "contour": [
           {
            "colorscale": [
             [
              0,
              "#000011"
             ],
             [
              0.1111111111111111,
              "#000012"
             ],
             [
              0.2222222222222222,
              "#000013"
             ],
             [
              0.3333333333333333,
              "#000014"
             ],
             [
              0.4444444444444444,
              "#000015"
             ],
             [
              0.5555555555555556,
              "#000016"
             ],
             [
              0.6666666666666666,
              "#000017"
             ],
             [
              0.7777777777777778,
              "#000018"
             ],
             [
              0.8888888888888888,
              "#000019"
             ],
             [
              1,
              "#000020"
             ]
            ],
            "type": "contour"
           }
          ],
          "contourcarpet": [
           {
            "colorscale": [
             [
              0,
              "#000011"
             ],
             [
              0.1111111111111111,
              "#000012"
             ],
             [
              0.2222222222222222,
              "#000013"
             ],
             [
              0.3333333333333333,
              "#000014"
             ],
             [
              0.4444444444444444,
              "#000015"
             ],
             [
              0.5555555555555556,
              "#000016"
             ],
             [
              0.6666666666666666,
              "#000017"
             ],
             [
              0.7777777777777778,
              "#000018"
             ],
             [
              0.8888888888888888,
              "#000019"
             ],
             [
              1,
              "#000020"
             ]
            ],
            "type": "contourcarpet"
           }
          ],
          "heatmap": [
           {
            "colorscale": [
             [
              0,
              "#000011"
             ],
             [
              0.1111111111111111,
              "#000012"
             ],
             [
              0.2222222222222222,
              "#000013"
             ],
             [
              0.3333333333333333,
              "#000014"
             ],
             [
              0.4444444444444444,
              "#000015"
             ],
             [
              0.5555555555555556,
              "#000016"
             ],
             [
              0.6666666666666666,
              "#000017"
             ],
             [
              0.7777777777777778,
              "#000018"
             ],
             [
              0.8888888888888888,
              "#000019"
             ],
             [
              1,
              "#000020"
             ]
            ],
            "type": "heatmap"
           }
          ],
          "histogram2d": [
           {
            "colorscale": [
             [
              0,
              "#000011"
             ],
             [
              0.1111111111111111,
              "#000012"
             ],
             [
              0.2222222222222222,
              "#000013"
             ],
             [
              0.3333333333333333,
              "#000014"
             ],
             [
              0.4444444444444444,
              "#000015"
             ],
             [
              0.5555555555555556,
              "#000016"
             ],
             [
              0.6666666666666666,
              "#000017"
             ],
             [
              0.7777777777777778,
              "#000018"
             ],
             [
              0.8888888888888888,
              "#000019"
             ],
             [
              1,
              "#000020"
             ]
            ],
            "type": "histogram2d"
           }
          ],
          "icicle": [
           {
            "textfont": {
             "color": "white"
            },
            "type": "icicle"
           }
          ],
          "sankey": [
           {
            "textfont": {
             "color": "#000036"
            },
            "type": "sankey"
           }
          ],
          "scatter": [
           {
            "marker": {
             "line": {
              "width": 0
             }
            },
            "type": "scatter"
           }
          ],
          "table": [
           {
            "cells": {
             "fill": {
              "color": "#000038"
             },
             "font": {
              "color": "#000037"
             },
             "line": {
              "color": "#000039"
             }
            },
            "header": {
             "fill": {
              "color": "#000040"
             },
             "font": {
              "color": "#000036"
             },
             "line": {
              "color": "#000039"
             }
            },
            "type": "table"
           }
          ],
          "waterfall": [
           {
            "connector": {
             "line": {
              "color": "#000036",
              "width": 2
             }
            },
            "decreasing": {
             "marker": {
              "color": "#000033"
             }
            },
            "increasing": {
             "marker": {
              "color": "#000032"
             }
            },
            "totals": {
             "marker": {
              "color": "#000034"
             }
            },
            "type": "waterfall"
           }
          ]
         },
         "layout": {
          "coloraxis": {
           "colorscale": [
            [
             0,
             "#000011"
            ],
            [
             0.1111111111111111,
             "#000012"
            ],
            [
             0.2222222222222222,
             "#000013"
            ],
            [
             0.3333333333333333,
             "#000014"
            ],
            [
             0.4444444444444444,
             "#000015"
            ],
            [
             0.5555555555555556,
             "#000016"
            ],
            [
             0.6666666666666666,
             "#000017"
            ],
            [
             0.7777777777777778,
             "#000018"
            ],
            [
             0.8888888888888888,
             "#000019"
            ],
            [
             1,
             "#000020"
            ]
           ]
          },
          "colorscale": {
           "diverging": [
            [
             0,
             "#000021"
            ],
            [
             0.1,
             "#000022"
            ],
            [
             0.2,
             "#000023"
            ],
            [
             0.3,
             "#000024"
            ],
            [
             0.4,
             "#000025"
            ],
            [
             0.5,
             "#000026"
            ],
            [
             0.6,
             "#000027"
            ],
            [
             0.7,
             "#000028"
            ],
            [
             0.8,
             "#000029"
            ],
            [
             0.9,
             "#000030"
            ],
            [
             1,
             "#000031"
            ]
           ],
           "sequential": [
            [
             0,
             "#000011"
            ],
            [
             0.1111111111111111,
             "#000012"
            ],
            [
             0.2222222222222222,
             "#000013"
            ],
            [
             0.3333333333333333,
             "#000014"
            ],
            [
             0.4444444444444444,
             "#000015"
            ],
            [
             0.5555555555555556,
             "#000016"
            ],
            [
             0.6666666666666666,
             "#000017"
            ],
            [
             0.7777777777777778,
             "#000018"
            ],
            [
             0.8888888888888888,
             "#000019"
            ],
            [
             1,
             "#000020"
            ]
           ],
           "sequentialminus": [
            [
             0,
             "#000011"
            ],
            [
             0.1111111111111111,
             "#000012"
            ],
            [
             0.2222222222222222,
             "#000013"
            ],
            [
             0.3333333333333333,
             "#000014"
            ],
            [
             0.4444444444444444,
             "#000015"
            ],
            [
             0.5555555555555556,
             "#000016"
            ],
            [
             0.6666666666666666,
             "#000017"
            ],
            [
             0.7777777777777778,
             "#000018"
            ],
            [
             0.8888888888888888,
             "#000019"
            ],
            [
             1,
             "#000020"
            ]
           ]
          },
          "colorway": [
           "#000001",
           "#000002",
           "#000003",
           "#000004",
           "#000005",
           "#000006",
           "#000007",
           "#000008",
           "#000009",
           "#000010"
          ]
         }
        },
        "title": {
         "font": {
          "size": 25
         },
         "text": "Total Job Count"
        },
        "xaxis": {
         "anchor": "y",
         "domain": [
          0,
          1
         ],
         "title": {
          "text": ""
         }
        },
        "yaxis": {
         "anchor": "x",
         "domain": [
          0,
          1
         ],
         "title": {
          "text": "# of jobs added"
         }
        }
       }
      },
      "text/html": [
       "<div>                            <div id=\"fed78d65-dfc1-4254-881a-64517a7f21b3\" class=\"plotly-graph-div\" style=\"height:525px; width:100%;\"></div>            <script type=\"text/javascript\">                require([\"plotly\"], function(Plotly) {                    window.PLOTLYENV=window.PLOTLYENV || {};                                    if (document.getElementById(\"fed78d65-dfc1-4254-881a-64517a7f21b3\")) {                    Plotly.newPlot(                        \"fed78d65-dfc1-4254-881a-64517a7f21b3\",                        [{\"alignmentgroup\":\"True\",\"bingroup\":\"x\",\"hovertemplate\":\"remote=No<br>count=%{y}<extra></extra>\",\"legendgroup\":\"No\",\"marker\":{\"color\":\"#000001\",\"pattern\":{\"shape\":\"\"}},\"name\":\"No\",\"nbinsx\":20,\"offsetgroup\":\"No\",\"orientation\":\"v\",\"showlegend\":true,\"x\":[\"12/12/2022\",\"12/13/2022\",\"12/14/2022\",\"12/15/2022\",\"12/16/2022\",\"12/16/2022\",\"12/16/2022\",\"12/17/2022\",\"12/17/2022\",\"12/18/2022\",\"12/18/2022\",\"12/19/2022\"],\"xaxis\":\"x\",\"yaxis\":\"y\",\"type\":\"histogram\"},{\"alignmentgroup\":\"True\",\"bingroup\":\"x\",\"hovertemplate\":\"remote=Yes<br>count=%{y}<extra></extra>\",\"legendgroup\":\"Yes\",\"marker\":{\"color\":\"#000002\",\"pattern\":{\"shape\":\"\"}},\"name\":\"Yes\",\"nbinsx\":20,\"offsetgroup\":\"Yes\",\"orientation\":\"v\",\"showlegend\":true,\"x\":[\"12/19/2022\",\"12/19/2022\"],\"xaxis\":\"x\",\"yaxis\":\"y\",\"type\":\"histogram\"}],                        {\"template\":{\"data\":{\"candlestick\":[{\"decreasing\":{\"line\":{\"color\":\"#000033\"}},\"increasing\":{\"line\":{\"color\":\"#000032\"}},\"type\":\"candlestick\"}],\"contourcarpet\":[{\"colorscale\":[[0.0,\"#000011\"],[0.1111111111111111,\"#000012\"],[0.2222222222222222,\"#000013\"],[0.3333333333333333,\"#000014\"],[0.4444444444444444,\"#000015\"],[0.5555555555555556,\"#000016\"],[0.6666666666666666,\"#000017\"],[0.7777777777777778,\"#000018\"],[0.8888888888888888,\"#000019\"],[1.0,\"#000020\"]],\"type\":\"contourcarpet\"}],\"contour\":[{\"colorscale\":[[0.0,\"#000011\"],[0.1111111111111111,\"#000012\"],[0.2222222222222222,\"#000013\"],[0.3333333333333333,\"#000014\"],[0.4444444444444444,\"#000015\"],[0.5555555555555556,\"#000016\"],[0.6666666666666666,\"#000017\"],[0.7777777777777778,\"#000018\"],[0.8888888888888888,\"#000019\"],[1.0,\"#000020\"]],\"type\":\"contour\"}],\"heatmap\":[{\"colorscale\":[[0.0,\"#000011\"],[0.1111111111111111,\"#000012\"],[0.2222222222222222,\"#000013\"],[0.3333333333333333,\"#000014\"],[0.4444444444444444,\"#000015\"],[0.5555555555555556,\"#000016\"],[0.6666666666666666,\"#000017\"],[0.7777777777777778,\"#000018\"],[0.8888888888888888,\"#000019\"],[1.0,\"#000020\"]],\"type\":\"heatmap\"}],\"histogram2d\":[{\"colorscale\":[[0.0,\"#000011\"],[0.1111111111111111,\"#000012\"],[0.2222222222222222,\"#000013\"],[0.3333333333333333,\"#000014\"],[0.4444444444444444,\"#000015\"],[0.5555555555555556,\"#000016\"],[0.6666666666666666,\"#000017\"],[0.7777777777777778,\"#000018\"],[0.8888888888888888,\"#000019\"],[1.0,\"#000020\"]],\"type\":\"histogram2d\"}],\"icicle\":[{\"textfont\":{\"color\":\"white\"},\"type\":\"icicle\"}],\"sankey\":[{\"textfont\":{\"color\":\"#000036\"},\"type\":\"sankey\"}],\"scatter\":[{\"marker\":{\"line\":{\"width\":0}},\"type\":\"scatter\"}],\"table\":[{\"cells\":{\"fill\":{\"color\":\"#000038\"},\"font\":{\"color\":\"#000037\"},\"line\":{\"color\":\"#000039\"}},\"header\":{\"fill\":{\"color\":\"#000040\"},\"font\":{\"color\":\"#000036\"},\"line\":{\"color\":\"#000039\"}},\"type\":\"table\"}],\"waterfall\":[{\"connector\":{\"line\":{\"color\":\"#000036\",\"width\":2}},\"decreasing\":{\"marker\":{\"color\":\"#000033\"}},\"increasing\":{\"marker\":{\"color\":\"#000032\"}},\"totals\":{\"marker\":{\"color\":\"#000034\"}},\"type\":\"waterfall\"}]},\"layout\":{\"coloraxis\":{\"colorscale\":[[0.0,\"#000011\"],[0.1111111111111111,\"#000012\"],[0.2222222222222222,\"#000013\"],[0.3333333333333333,\"#000014\"],[0.4444444444444444,\"#000015\"],[0.5555555555555556,\"#000016\"],[0.6666666666666666,\"#000017\"],[0.7777777777777778,\"#000018\"],[0.8888888888888888,\"#000019\"],[1.0,\"#000020\"]]},\"colorscale\":{\"diverging\":[[0.0,\"#000021\"],[0.1,\"#000022\"],[0.2,\"#000023\"],[0.3,\"#000024\"],[0.4,\"#000025\"],[0.5,\"#000026\"],[0.6,\"#000027\"],[0.7,\"#000028\"],[0.8,\"#000029\"],[0.9,\"#000030\"],[1.0,\"#000031\"]],\"sequential\":[[0.0,\"#000011\"],[0.1111111111111111,\"#000012\"],[0.2222222222222222,\"#000013\"],[0.3333333333333333,\"#000014\"],[0.4444444444444444,\"#000015\"],[0.5555555555555556,\"#000016\"],[0.6666666666666666,\"#000017\"],[0.7777777777777778,\"#000018\"],[0.8888888888888888,\"#000019\"],[1.0,\"#000020\"]],\"sequentialminus\":[[0.0,\"#000011\"],[0.1111111111111111,\"#000012\"],[0.2222222222222222,\"#000013\"],[0.3333333333333333,\"#000014\"],[0.4444444444444444,\"#000015\"],[0.5555555555555556,\"#000016\"],[0.6666666666666666,\"#000017\"],[0.7777777777777778,\"#000018\"],[0.8888888888888888,\"#000019\"],[1.0,\"#000020\"]]},\"colorway\":[\"#000001\",\"#000002\",\"#000003\",\"#000004\",\"#000005\",\"#000006\",\"#000007\",\"#000008\",\"#000009\",\"#000010\"]}},\"xaxis\":{\"anchor\":\"y\",\"domain\":[0.0,1.0],\"title\":{\"text\":\"\"}},\"yaxis\":{\"anchor\":\"x\",\"domain\":[0.0,1.0],\"title\":{\"text\":\"# of jobs added\"}},\"legend\":{\"title\":{\"text\":\"remote\"},\"tracegroupgap\":0},\"title\":{\"text\":\"Total Job Count\",\"font\":{\"size\":25}},\"barmode\":\"relative\"},                        {\"responsive\": true}                    ).then(function(){\n",
       "                            \n",
       "var gd = document.getElementById('fed78d65-dfc1-4254-881a-64517a7f21b3');\n",
       "var x = new MutationObserver(function (mutations, observer) {{\n",
       "        var display = window.getComputedStyle(gd).display;\n",
       "        if (!display || display === 'none') {{\n",
       "            console.log([gd, 'removed!']);\n",
       "            Plotly.purge(gd);\n",
       "            observer.disconnect();\n",
       "        }}\n",
       "}});\n",
       "\n",
       "// Listen for the removal of the full notebook cells\n",
       "var notebookContainer = gd.closest('#notebook-container');\n",
       "if (notebookContainer) {{\n",
       "    x.observe(notebookContainer, {childList: true});\n",
       "}}\n",
       "\n",
       "// Listen for the clearing of the current output cell\n",
       "var outputEl = gd.closest('.output');\n",
       "if (outputEl) {{\n",
       "    x.observe(outputEl, {childList: true});\n",
       "}}\n",
       "\n",
       "                        })                };                });            </script>        </div>"
      ]
     },
     "metadata": {},
     "output_type": "display_data"
    }
   ],
   "source": [
    "total_jobs = px.histogram(\n",
    "    job_report, \n",
    "    x='inserted_at', \n",
    "    nbins=20, \n",
    "    title='Total Job Count',\n",
    "    color='remote',\n",
    "#     needed to remove unnecessary date label\n",
    "    hover_data={\n",
    "        'inserted_at':''\n",
    "    }\n",
    ").update_layout(yaxis_title='# of jobs added', title_font_size=25, xaxis_title='')\n",
    "\n",
    "total_jobs.show()"
   ]
  },
  {
   "cell_type": "code",
   "execution_count": 565,
   "id": "5d95f8d5",
   "metadata": {
    "scrolled": false
   },
   "outputs": [
    {
     "data": {
      "application/vnd.plotly.v1+json": {
       "config": {
        "plotlyServerURL": "https://plot.ly"
       },
       "data": [
        {
         "alignmentgroup": "True",
         "bingroup": "x",
         "hovertemplate": "new_salary=%{x}<br>count=%{y}<extra></extra>",
         "legendgroup": "",
         "marker": {
          "color": "#000001",
          "pattern": {
           "shape": ""
          }
         },
         "name": "",
         "offsetgroup": "",
         "orientation": "v",
         "showlegend": false,
         "type": "histogram",
         "x": [
          "null",
          "null",
          "null",
          "null",
          "null",
          "null",
          "null",
          65000,
          55000,
          55000,
          55000,
          49920,
          73500,
          73500
         ],
         "xaxis": "x",
         "yaxis": "y"
        }
       ],
       "layout": {
        "barmode": "relative",
        "legend": {
         "tracegroupgap": 0
        },
        "template": {
         "data": {
          "candlestick": [
           {
            "decreasing": {
             "line": {
              "color": "#000033"
             }
            },
            "increasing": {
             "line": {
              "color": "#000032"
             }
            },
            "type": "candlestick"
           }
          ],
          "contour": [
           {
            "colorscale": [
             [
              0,
              "#000011"
             ],
             [
              0.1111111111111111,
              "#000012"
             ],
             [
              0.2222222222222222,
              "#000013"
             ],
             [
              0.3333333333333333,
              "#000014"
             ],
             [
              0.4444444444444444,
              "#000015"
             ],
             [
              0.5555555555555556,
              "#000016"
             ],
             [
              0.6666666666666666,
              "#000017"
             ],
             [
              0.7777777777777778,
              "#000018"
             ],
             [
              0.8888888888888888,
              "#000019"
             ],
             [
              1,
              "#000020"
             ]
            ],
            "type": "contour"
           }
          ],
          "contourcarpet": [
           {
            "colorscale": [
             [
              0,
              "#000011"
             ],
             [
              0.1111111111111111,
              "#000012"
             ],
             [
              0.2222222222222222,
              "#000013"
             ],
             [
              0.3333333333333333,
              "#000014"
             ],
             [
              0.4444444444444444,
              "#000015"
             ],
             [
              0.5555555555555556,
              "#000016"
             ],
             [
              0.6666666666666666,
              "#000017"
             ],
             [
              0.7777777777777778,
              "#000018"
             ],
             [
              0.8888888888888888,
              "#000019"
             ],
             [
              1,
              "#000020"
             ]
            ],
            "type": "contourcarpet"
           }
          ],
          "heatmap": [
           {
            "colorscale": [
             [
              0,
              "#000011"
             ],
             [
              0.1111111111111111,
              "#000012"
             ],
             [
              0.2222222222222222,
              "#000013"
             ],
             [
              0.3333333333333333,
              "#000014"
             ],
             [
              0.4444444444444444,
              "#000015"
             ],
             [
              0.5555555555555556,
              "#000016"
             ],
             [
              0.6666666666666666,
              "#000017"
             ],
             [
              0.7777777777777778,
              "#000018"
             ],
             [
              0.8888888888888888,
              "#000019"
             ],
             [
              1,
              "#000020"
             ]
            ],
            "type": "heatmap"
           }
          ],
          "histogram2d": [
           {
            "colorscale": [
             [
              0,
              "#000011"
             ],
             [
              0.1111111111111111,
              "#000012"
             ],
             [
              0.2222222222222222,
              "#000013"
             ],
             [
              0.3333333333333333,
              "#000014"
             ],
             [
              0.4444444444444444,
              "#000015"
             ],
             [
              0.5555555555555556,
              "#000016"
             ],
             [
              0.6666666666666666,
              "#000017"
             ],
             [
              0.7777777777777778,
              "#000018"
             ],
             [
              0.8888888888888888,
              "#000019"
             ],
             [
              1,
              "#000020"
             ]
            ],
            "type": "histogram2d"
           }
          ],
          "icicle": [
           {
            "textfont": {
             "color": "white"
            },
            "type": "icicle"
           }
          ],
          "sankey": [
           {
            "textfont": {
             "color": "#000036"
            },
            "type": "sankey"
           }
          ],
          "scatter": [
           {
            "marker": {
             "line": {
              "width": 0
             }
            },
            "type": "scatter"
           }
          ],
          "table": [
           {
            "cells": {
             "fill": {
              "color": "#000038"
             },
             "font": {
              "color": "#000037"
             },
             "line": {
              "color": "#000039"
             }
            },
            "header": {
             "fill": {
              "color": "#000040"
             },
             "font": {
              "color": "#000036"
             },
             "line": {
              "color": "#000039"
             }
            },
            "type": "table"
           }
          ],
          "waterfall": [
           {
            "connector": {
             "line": {
              "color": "#000036",
              "width": 2
             }
            },
            "decreasing": {
             "marker": {
              "color": "#000033"
             }
            },
            "increasing": {
             "marker": {
              "color": "#000032"
             }
            },
            "totals": {
             "marker": {
              "color": "#000034"
             }
            },
            "type": "waterfall"
           }
          ]
         },
         "layout": {
          "coloraxis": {
           "colorscale": [
            [
             0,
             "#000011"
            ],
            [
             0.1111111111111111,
             "#000012"
            ],
            [
             0.2222222222222222,
             "#000013"
            ],
            [
             0.3333333333333333,
             "#000014"
            ],
            [
             0.4444444444444444,
             "#000015"
            ],
            [
             0.5555555555555556,
             "#000016"
            ],
            [
             0.6666666666666666,
             "#000017"
            ],
            [
             0.7777777777777778,
             "#000018"
            ],
            [
             0.8888888888888888,
             "#000019"
            ],
            [
             1,
             "#000020"
            ]
           ]
          },
          "colorscale": {
           "diverging": [
            [
             0,
             "#000021"
            ],
            [
             0.1,
             "#000022"
            ],
            [
             0.2,
             "#000023"
            ],
            [
             0.3,
             "#000024"
            ],
            [
             0.4,
             "#000025"
            ],
            [
             0.5,
             "#000026"
            ],
            [
             0.6,
             "#000027"
            ],
            [
             0.7,
             "#000028"
            ],
            [
             0.8,
             "#000029"
            ],
            [
             0.9,
             "#000030"
            ],
            [
             1,
             "#000031"
            ]
           ],
           "sequential": [
            [
             0,
             "#000011"
            ],
            [
             0.1111111111111111,
             "#000012"
            ],
            [
             0.2222222222222222,
             "#000013"
            ],
            [
             0.3333333333333333,
             "#000014"
            ],
            [
             0.4444444444444444,
             "#000015"
            ],
            [
             0.5555555555555556,
             "#000016"
            ],
            [
             0.6666666666666666,
             "#000017"
            ],
            [
             0.7777777777777778,
             "#000018"
            ],
            [
             0.8888888888888888,
             "#000019"
            ],
            [
             1,
             "#000020"
            ]
           ],
           "sequentialminus": [
            [
             0,
             "#000011"
            ],
            [
             0.1111111111111111,
             "#000012"
            ],
            [
             0.2222222222222222,
             "#000013"
            ],
            [
             0.3333333333333333,
             "#000014"
            ],
            [
             0.4444444444444444,
             "#000015"
            ],
            [
             0.5555555555555556,
             "#000016"
            ],
            [
             0.6666666666666666,
             "#000017"
            ],
            [
             0.7777777777777778,
             "#000018"
            ],
            [
             0.8888888888888888,
             "#000019"
            ],
            [
             1,
             "#000020"
            ]
           ]
          },
          "colorway": [
           "#000001",
           "#000002",
           "#000003",
           "#000004",
           "#000005",
           "#000006",
           "#000007",
           "#000008",
           "#000009",
           "#000010"
          ]
         }
        },
        "title": {
         "font": {
          "size": 25
         },
         "text": "Data Analyst Jobs by Salary"
        },
        "xaxis": {
         "anchor": "y",
         "domain": [
          0,
          1
         ],
         "title": {
          "text": ""
         }
        },
        "yaxis": {
         "anchor": "x",
         "domain": [
          0,
          1
         ],
         "title": {
          "text": "count"
         }
        }
       }
      },
      "text/html": [
       "<div>                            <div id=\"ad119e30-1079-43c3-b87d-f49c739de78f\" class=\"plotly-graph-div\" style=\"height:525px; width:100%;\"></div>            <script type=\"text/javascript\">                require([\"plotly\"], function(Plotly) {                    window.PLOTLYENV=window.PLOTLYENV || {};                                    if (document.getElementById(\"ad119e30-1079-43c3-b87d-f49c739de78f\")) {                    Plotly.newPlot(                        \"ad119e30-1079-43c3-b87d-f49c739de78f\",                        [{\"alignmentgroup\":\"True\",\"bingroup\":\"x\",\"hovertemplate\":\"new_salary=%{x}<br>count=%{y}<extra></extra>\",\"legendgroup\":\"\",\"marker\":{\"color\":\"#000001\",\"pattern\":{\"shape\":\"\"}},\"name\":\"\",\"offsetgroup\":\"\",\"orientation\":\"v\",\"showlegend\":false,\"x\":[\"null\",\"null\",\"null\",\"null\",\"null\",\"null\",\"null\",65000,55000,55000,55000,49920,73500,73500],\"xaxis\":\"x\",\"yaxis\":\"y\",\"type\":\"histogram\"}],                        {\"template\":{\"data\":{\"candlestick\":[{\"decreasing\":{\"line\":{\"color\":\"#000033\"}},\"increasing\":{\"line\":{\"color\":\"#000032\"}},\"type\":\"candlestick\"}],\"contourcarpet\":[{\"colorscale\":[[0.0,\"#000011\"],[0.1111111111111111,\"#000012\"],[0.2222222222222222,\"#000013\"],[0.3333333333333333,\"#000014\"],[0.4444444444444444,\"#000015\"],[0.5555555555555556,\"#000016\"],[0.6666666666666666,\"#000017\"],[0.7777777777777778,\"#000018\"],[0.8888888888888888,\"#000019\"],[1.0,\"#000020\"]],\"type\":\"contourcarpet\"}],\"contour\":[{\"colorscale\":[[0.0,\"#000011\"],[0.1111111111111111,\"#000012\"],[0.2222222222222222,\"#000013\"],[0.3333333333333333,\"#000014\"],[0.4444444444444444,\"#000015\"],[0.5555555555555556,\"#000016\"],[0.6666666666666666,\"#000017\"],[0.7777777777777778,\"#000018\"],[0.8888888888888888,\"#000019\"],[1.0,\"#000020\"]],\"type\":\"contour\"}],\"heatmap\":[{\"colorscale\":[[0.0,\"#000011\"],[0.1111111111111111,\"#000012\"],[0.2222222222222222,\"#000013\"],[0.3333333333333333,\"#000014\"],[0.4444444444444444,\"#000015\"],[0.5555555555555556,\"#000016\"],[0.6666666666666666,\"#000017\"],[0.7777777777777778,\"#000018\"],[0.8888888888888888,\"#000019\"],[1.0,\"#000020\"]],\"type\":\"heatmap\"}],\"histogram2d\":[{\"colorscale\":[[0.0,\"#000011\"],[0.1111111111111111,\"#000012\"],[0.2222222222222222,\"#000013\"],[0.3333333333333333,\"#000014\"],[0.4444444444444444,\"#000015\"],[0.5555555555555556,\"#000016\"],[0.6666666666666666,\"#000017\"],[0.7777777777777778,\"#000018\"],[0.8888888888888888,\"#000019\"],[1.0,\"#000020\"]],\"type\":\"histogram2d\"}],\"icicle\":[{\"textfont\":{\"color\":\"white\"},\"type\":\"icicle\"}],\"sankey\":[{\"textfont\":{\"color\":\"#000036\"},\"type\":\"sankey\"}],\"scatter\":[{\"marker\":{\"line\":{\"width\":0}},\"type\":\"scatter\"}],\"table\":[{\"cells\":{\"fill\":{\"color\":\"#000038\"},\"font\":{\"color\":\"#000037\"},\"line\":{\"color\":\"#000039\"}},\"header\":{\"fill\":{\"color\":\"#000040\"},\"font\":{\"color\":\"#000036\"},\"line\":{\"color\":\"#000039\"}},\"type\":\"table\"}],\"waterfall\":[{\"connector\":{\"line\":{\"color\":\"#000036\",\"width\":2}},\"decreasing\":{\"marker\":{\"color\":\"#000033\"}},\"increasing\":{\"marker\":{\"color\":\"#000032\"}},\"totals\":{\"marker\":{\"color\":\"#000034\"}},\"type\":\"waterfall\"}]},\"layout\":{\"coloraxis\":{\"colorscale\":[[0.0,\"#000011\"],[0.1111111111111111,\"#000012\"],[0.2222222222222222,\"#000013\"],[0.3333333333333333,\"#000014\"],[0.4444444444444444,\"#000015\"],[0.5555555555555556,\"#000016\"],[0.6666666666666666,\"#000017\"],[0.7777777777777778,\"#000018\"],[0.8888888888888888,\"#000019\"],[1.0,\"#000020\"]]},\"colorscale\":{\"diverging\":[[0.0,\"#000021\"],[0.1,\"#000022\"],[0.2,\"#000023\"],[0.3,\"#000024\"],[0.4,\"#000025\"],[0.5,\"#000026\"],[0.6,\"#000027\"],[0.7,\"#000028\"],[0.8,\"#000029\"],[0.9,\"#000030\"],[1.0,\"#000031\"]],\"sequential\":[[0.0,\"#000011\"],[0.1111111111111111,\"#000012\"],[0.2222222222222222,\"#000013\"],[0.3333333333333333,\"#000014\"],[0.4444444444444444,\"#000015\"],[0.5555555555555556,\"#000016\"],[0.6666666666666666,\"#000017\"],[0.7777777777777778,\"#000018\"],[0.8888888888888888,\"#000019\"],[1.0,\"#000020\"]],\"sequentialminus\":[[0.0,\"#000011\"],[0.1111111111111111,\"#000012\"],[0.2222222222222222,\"#000013\"],[0.3333333333333333,\"#000014\"],[0.4444444444444444,\"#000015\"],[0.5555555555555556,\"#000016\"],[0.6666666666666666,\"#000017\"],[0.7777777777777778,\"#000018\"],[0.8888888888888888,\"#000019\"],[1.0,\"#000020\"]]},\"colorway\":[\"#000001\",\"#000002\",\"#000003\",\"#000004\",\"#000005\",\"#000006\",\"#000007\",\"#000008\",\"#000009\",\"#000010\"]}},\"xaxis\":{\"anchor\":\"y\",\"domain\":[0.0,1.0],\"title\":{\"text\":\"\"}},\"yaxis\":{\"anchor\":\"x\",\"domain\":[0.0,1.0],\"title\":{\"text\":\"count\"}},\"legend\":{\"tracegroupgap\":0},\"title\":{\"text\":\"Data Analyst Jobs by Salary\",\"font\":{\"size\":25}},\"barmode\":\"relative\"},                        {\"responsive\": true}                    ).then(function(){\n",
       "                            \n",
       "var gd = document.getElementById('ad119e30-1079-43c3-b87d-f49c739de78f');\n",
       "var x = new MutationObserver(function (mutations, observer) {{\n",
       "        var display = window.getComputedStyle(gd).display;\n",
       "        if (!display || display === 'none') {{\n",
       "            console.log([gd, 'removed!']);\n",
       "            Plotly.purge(gd);\n",
       "            observer.disconnect();\n",
       "        }}\n",
       "}});\n",
       "\n",
       "// Listen for the removal of the full notebook cells\n",
       "var notebookContainer = gd.closest('#notebook-container');\n",
       "if (notebookContainer) {{\n",
       "    x.observe(notebookContainer, {childList: true});\n",
       "}}\n",
       "\n",
       "// Listen for the clearing of the current output cell\n",
       "var outputEl = gd.closest('.output');\n",
       "if (outputEl) {{\n",
       "    x.observe(outputEl, {childList: true});\n",
       "}}\n",
       "\n",
       "                        })                };                });            </script>        </div>"
      ]
     },
     "metadata": {},
     "output_type": "display_data"
    }
   ],
   "source": [
    "avg_salary = px.histogram(\n",
    "    job_report, \n",
    "    title='Data Analyst Jobs by Salary',\n",
    "    x='new_salary'\n",
    "#     needed to remove unnecessary date label\n",
    ").update_layout(yaxis_title='count', title_font_size=25, xaxis_title='')\n",
    "\n",
    "avg_salary.show()"
   ]
  },
  {
   "cell_type": "code",
   "execution_count": 566,
   "id": "c164afcb",
   "metadata": {},
   "outputs": [
    {
     "data": {
      "application/vnd.plotly.v1+json": {
       "config": {
        "plotlyServerURL": "https://plot.ly"
       },
       "data": [
        {
         "alignmentgroup": "True",
         "hovertemplate": "index=%{x}<br>y=%{y}<extra></extra>",
         "legendgroup": "",
         "marker": {
          "color": "#000001",
          "pattern": {
           "shape": ""
          }
         },
         "name": "",
         "offsetgroup": "",
         "orientation": "v",
         "showlegend": false,
         "textposition": "auto",
         "type": "bar",
         "x": [
          "sql",
          "excel",
          "python",
          "tableau"
         ],
         "xaxis": "x",
         "y": [
          8,
          11,
          6,
          6
         ],
         "yaxis": "y"
        }
       ],
       "layout": {
        "barmode": "relative",
        "legend": {
         "tracegroupgap": 0
        },
        "template": {
         "data": {
          "candlestick": [
           {
            "decreasing": {
             "line": {
              "color": "#000033"
             }
            },
            "increasing": {
             "line": {
              "color": "#000032"
             }
            },
            "type": "candlestick"
           }
          ],
          "contour": [
           {
            "colorscale": [
             [
              0,
              "#000011"
             ],
             [
              0.1111111111111111,
              "#000012"
             ],
             [
              0.2222222222222222,
              "#000013"
             ],
             [
              0.3333333333333333,
              "#000014"
             ],
             [
              0.4444444444444444,
              "#000015"
             ],
             [
              0.5555555555555556,
              "#000016"
             ],
             [
              0.6666666666666666,
              "#000017"
             ],
             [
              0.7777777777777778,
              "#000018"
             ],
             [
              0.8888888888888888,
              "#000019"
             ],
             [
              1,
              "#000020"
             ]
            ],
            "type": "contour"
           }
          ],
          "contourcarpet": [
           {
            "colorscale": [
             [
              0,
              "#000011"
             ],
             [
              0.1111111111111111,
              "#000012"
             ],
             [
              0.2222222222222222,
              "#000013"
             ],
             [
              0.3333333333333333,
              "#000014"
             ],
             [
              0.4444444444444444,
              "#000015"
             ],
             [
              0.5555555555555556,
              "#000016"
             ],
             [
              0.6666666666666666,
              "#000017"
             ],
             [
              0.7777777777777778,
              "#000018"
             ],
             [
              0.8888888888888888,
              "#000019"
             ],
             [
              1,
              "#000020"
             ]
            ],
            "type": "contourcarpet"
           }
          ],
          "heatmap": [
           {
            "colorscale": [
             [
              0,
              "#000011"
             ],
             [
              0.1111111111111111,
              "#000012"
             ],
             [
              0.2222222222222222,
              "#000013"
             ],
             [
              0.3333333333333333,
              "#000014"
             ],
             [
              0.4444444444444444,
              "#000015"
             ],
             [
              0.5555555555555556,
              "#000016"
             ],
             [
              0.6666666666666666,
              "#000017"
             ],
             [
              0.7777777777777778,
              "#000018"
             ],
             [
              0.8888888888888888,
              "#000019"
             ],
             [
              1,
              "#000020"
             ]
            ],
            "type": "heatmap"
           }
          ],
          "histogram2d": [
           {
            "colorscale": [
             [
              0,
              "#000011"
             ],
             [
              0.1111111111111111,
              "#000012"
             ],
             [
              0.2222222222222222,
              "#000013"
             ],
             [
              0.3333333333333333,
              "#000014"
             ],
             [
              0.4444444444444444,
              "#000015"
             ],
             [
              0.5555555555555556,
              "#000016"
             ],
             [
              0.6666666666666666,
              "#000017"
             ],
             [
              0.7777777777777778,
              "#000018"
             ],
             [
              0.8888888888888888,
              "#000019"
             ],
             [
              1,
              "#000020"
             ]
            ],
            "type": "histogram2d"
           }
          ],
          "icicle": [
           {
            "textfont": {
             "color": "white"
            },
            "type": "icicle"
           }
          ],
          "sankey": [
           {
            "textfont": {
             "color": "#000036"
            },
            "type": "sankey"
           }
          ],
          "scatter": [
           {
            "marker": {
             "line": {
              "width": 0
             }
            },
            "type": "scatter"
           }
          ],
          "table": [
           {
            "cells": {
             "fill": {
              "color": "#000038"
             },
             "font": {
              "color": "#000037"
             },
             "line": {
              "color": "#000039"
             }
            },
            "header": {
             "fill": {
              "color": "#000040"
             },
             "font": {
              "color": "#000036"
             },
             "line": {
              "color": "#000039"
             }
            },
            "type": "table"
           }
          ],
          "waterfall": [
           {
            "connector": {
             "line": {
              "color": "#000036",
              "width": 2
             }
            },
            "decreasing": {
             "marker": {
              "color": "#000033"
             }
            },
            "increasing": {
             "marker": {
              "color": "#000032"
             }
            },
            "totals": {
             "marker": {
              "color": "#000034"
             }
            },
            "type": "waterfall"
           }
          ]
         },
         "layout": {
          "coloraxis": {
           "colorscale": [
            [
             0,
             "#000011"
            ],
            [
             0.1111111111111111,
             "#000012"
            ],
            [
             0.2222222222222222,
             "#000013"
            ],
            [
             0.3333333333333333,
             "#000014"
            ],
            [
             0.4444444444444444,
             "#000015"
            ],
            [
             0.5555555555555556,
             "#000016"
            ],
            [
             0.6666666666666666,
             "#000017"
            ],
            [
             0.7777777777777778,
             "#000018"
            ],
            [
             0.8888888888888888,
             "#000019"
            ],
            [
             1,
             "#000020"
            ]
           ]
          },
          "colorscale": {
           "diverging": [
            [
             0,
             "#000021"
            ],
            [
             0.1,
             "#000022"
            ],
            [
             0.2,
             "#000023"
            ],
            [
             0.3,
             "#000024"
            ],
            [
             0.4,
             "#000025"
            ],
            [
             0.5,
             "#000026"
            ],
            [
             0.6,
             "#000027"
            ],
            [
             0.7,
             "#000028"
            ],
            [
             0.8,
             "#000029"
            ],
            [
             0.9,
             "#000030"
            ],
            [
             1,
             "#000031"
            ]
           ],
           "sequential": [
            [
             0,
             "#000011"
            ],
            [
             0.1111111111111111,
             "#000012"
            ],
            [
             0.2222222222222222,
             "#000013"
            ],
            [
             0.3333333333333333,
             "#000014"
            ],
            [
             0.4444444444444444,
             "#000015"
            ],
            [
             0.5555555555555556,
             "#000016"
            ],
            [
             0.6666666666666666,
             "#000017"
            ],
            [
             0.7777777777777778,
             "#000018"
            ],
            [
             0.8888888888888888,
             "#000019"
            ],
            [
             1,
             "#000020"
            ]
           ],
           "sequentialminus": [
            [
             0,
             "#000011"
            ],
            [
             0.1111111111111111,
             "#000012"
            ],
            [
             0.2222222222222222,
             "#000013"
            ],
            [
             0.3333333333333333,
             "#000014"
            ],
            [
             0.4444444444444444,
             "#000015"
            ],
            [
             0.5555555555555556,
             "#000016"
            ],
            [
             0.6666666666666666,
             "#000017"
            ],
            [
             0.7777777777777778,
             "#000018"
            ],
            [
             0.8888888888888888,
             "#000019"
            ],
            [
             1,
             "#000020"
            ]
           ]
          },
          "colorway": [
           "#000001",
           "#000002",
           "#000003",
           "#000004",
           "#000005",
           "#000006",
           "#000007",
           "#000008",
           "#000009",
           "#000010"
          ]
         }
        },
        "title": {
         "font": {
          "size": 25
         },
         "text": "Jobs by Skills"
        },
        "xaxis": {
         "anchor": "y",
         "categoryorder": "total descending",
         "domain": [
          0,
          1
         ],
         "title": {
          "text": ""
         }
        },
        "yaxis": {
         "anchor": "x",
         "domain": [
          0,
          1
         ],
         "title": {
          "text": "count"
         }
        }
       }
      },
      "text/html": [
       "<div>                            <div id=\"e46502cf-c5e6-463e-9013-9fda66cf25a6\" class=\"plotly-graph-div\" style=\"height:525px; width:100%;\"></div>            <script type=\"text/javascript\">                require([\"plotly\"], function(Plotly) {                    window.PLOTLYENV=window.PLOTLYENV || {};                                    if (document.getElementById(\"e46502cf-c5e6-463e-9013-9fda66cf25a6\")) {                    Plotly.newPlot(                        \"e46502cf-c5e6-463e-9013-9fda66cf25a6\",                        [{\"alignmentgroup\":\"True\",\"hovertemplate\":\"index=%{x}<br>y=%{y}<extra></extra>\",\"legendgroup\":\"\",\"marker\":{\"color\":\"#000001\",\"pattern\":{\"shape\":\"\"}},\"name\":\"\",\"offsetgroup\":\"\",\"orientation\":\"v\",\"showlegend\":false,\"textposition\":\"auto\",\"x\":[\"sql\",\"excel\",\"python\",\"tableau\"],\"xaxis\":\"x\",\"y\":[8,11,6,6],\"yaxis\":\"y\",\"type\":\"bar\"}],                        {\"template\":{\"data\":{\"candlestick\":[{\"decreasing\":{\"line\":{\"color\":\"#000033\"}},\"increasing\":{\"line\":{\"color\":\"#000032\"}},\"type\":\"candlestick\"}],\"contourcarpet\":[{\"colorscale\":[[0.0,\"#000011\"],[0.1111111111111111,\"#000012\"],[0.2222222222222222,\"#000013\"],[0.3333333333333333,\"#000014\"],[0.4444444444444444,\"#000015\"],[0.5555555555555556,\"#000016\"],[0.6666666666666666,\"#000017\"],[0.7777777777777778,\"#000018\"],[0.8888888888888888,\"#000019\"],[1.0,\"#000020\"]],\"type\":\"contourcarpet\"}],\"contour\":[{\"colorscale\":[[0.0,\"#000011\"],[0.1111111111111111,\"#000012\"],[0.2222222222222222,\"#000013\"],[0.3333333333333333,\"#000014\"],[0.4444444444444444,\"#000015\"],[0.5555555555555556,\"#000016\"],[0.6666666666666666,\"#000017\"],[0.7777777777777778,\"#000018\"],[0.8888888888888888,\"#000019\"],[1.0,\"#000020\"]],\"type\":\"contour\"}],\"heatmap\":[{\"colorscale\":[[0.0,\"#000011\"],[0.1111111111111111,\"#000012\"],[0.2222222222222222,\"#000013\"],[0.3333333333333333,\"#000014\"],[0.4444444444444444,\"#000015\"],[0.5555555555555556,\"#000016\"],[0.6666666666666666,\"#000017\"],[0.7777777777777778,\"#000018\"],[0.8888888888888888,\"#000019\"],[1.0,\"#000020\"]],\"type\":\"heatmap\"}],\"histogram2d\":[{\"colorscale\":[[0.0,\"#000011\"],[0.1111111111111111,\"#000012\"],[0.2222222222222222,\"#000013\"],[0.3333333333333333,\"#000014\"],[0.4444444444444444,\"#000015\"],[0.5555555555555556,\"#000016\"],[0.6666666666666666,\"#000017\"],[0.7777777777777778,\"#000018\"],[0.8888888888888888,\"#000019\"],[1.0,\"#000020\"]],\"type\":\"histogram2d\"}],\"icicle\":[{\"textfont\":{\"color\":\"white\"},\"type\":\"icicle\"}],\"sankey\":[{\"textfont\":{\"color\":\"#000036\"},\"type\":\"sankey\"}],\"scatter\":[{\"marker\":{\"line\":{\"width\":0}},\"type\":\"scatter\"}],\"table\":[{\"cells\":{\"fill\":{\"color\":\"#000038\"},\"font\":{\"color\":\"#000037\"},\"line\":{\"color\":\"#000039\"}},\"header\":{\"fill\":{\"color\":\"#000040\"},\"font\":{\"color\":\"#000036\"},\"line\":{\"color\":\"#000039\"}},\"type\":\"table\"}],\"waterfall\":[{\"connector\":{\"line\":{\"color\":\"#000036\",\"width\":2}},\"decreasing\":{\"marker\":{\"color\":\"#000033\"}},\"increasing\":{\"marker\":{\"color\":\"#000032\"}},\"totals\":{\"marker\":{\"color\":\"#000034\"}},\"type\":\"waterfall\"}]},\"layout\":{\"coloraxis\":{\"colorscale\":[[0.0,\"#000011\"],[0.1111111111111111,\"#000012\"],[0.2222222222222222,\"#000013\"],[0.3333333333333333,\"#000014\"],[0.4444444444444444,\"#000015\"],[0.5555555555555556,\"#000016\"],[0.6666666666666666,\"#000017\"],[0.7777777777777778,\"#000018\"],[0.8888888888888888,\"#000019\"],[1.0,\"#000020\"]]},\"colorscale\":{\"diverging\":[[0.0,\"#000021\"],[0.1,\"#000022\"],[0.2,\"#000023\"],[0.3,\"#000024\"],[0.4,\"#000025\"],[0.5,\"#000026\"],[0.6,\"#000027\"],[0.7,\"#000028\"],[0.8,\"#000029\"],[0.9,\"#000030\"],[1.0,\"#000031\"]],\"sequential\":[[0.0,\"#000011\"],[0.1111111111111111,\"#000012\"],[0.2222222222222222,\"#000013\"],[0.3333333333333333,\"#000014\"],[0.4444444444444444,\"#000015\"],[0.5555555555555556,\"#000016\"],[0.6666666666666666,\"#000017\"],[0.7777777777777778,\"#000018\"],[0.8888888888888888,\"#000019\"],[1.0,\"#000020\"]],\"sequentialminus\":[[0.0,\"#000011\"],[0.1111111111111111,\"#000012\"],[0.2222222222222222,\"#000013\"],[0.3333333333333333,\"#000014\"],[0.4444444444444444,\"#000015\"],[0.5555555555555556,\"#000016\"],[0.6666666666666666,\"#000017\"],[0.7777777777777778,\"#000018\"],[0.8888888888888888,\"#000019\"],[1.0,\"#000020\"]]},\"colorway\":[\"#000001\",\"#000002\",\"#000003\",\"#000004\",\"#000005\",\"#000006\",\"#000007\",\"#000008\",\"#000009\",\"#000010\"]}},\"xaxis\":{\"anchor\":\"y\",\"domain\":[0.0,1.0],\"title\":{\"text\":\"\"},\"categoryorder\":\"total descending\"},\"yaxis\":{\"anchor\":\"x\",\"domain\":[0.0,1.0],\"title\":{\"text\":\"count\"}},\"legend\":{\"tracegroupgap\":0},\"title\":{\"text\":\"Jobs by Skills\",\"font\":{\"size\":25}},\"barmode\":\"relative\"},                        {\"responsive\": true}                    ).then(function(){\n",
       "                            \n",
       "var gd = document.getElementById('e46502cf-c5e6-463e-9013-9fda66cf25a6');\n",
       "var x = new MutationObserver(function (mutations, observer) {{\n",
       "        var display = window.getComputedStyle(gd).display;\n",
       "        if (!display || display === 'none') {{\n",
       "            console.log([gd, 'removed!']);\n",
       "            Plotly.purge(gd);\n",
       "            observer.disconnect();\n",
       "        }}\n",
       "}});\n",
       "\n",
       "// Listen for the removal of the full notebook cells\n",
       "var notebookContainer = gd.closest('#notebook-container');\n",
       "if (notebookContainer) {{\n",
       "    x.observe(notebookContainer, {childList: true});\n",
       "}}\n",
       "\n",
       "// Listen for the clearing of the current output cell\n",
       "var outputEl = gd.closest('.output');\n",
       "if (outputEl) {{\n",
       "    x.observe(outputEl, {childList: true});\n",
       "}}\n",
       "\n",
       "                        })                };                });            </script>        </div>"
      ]
     },
     "metadata": {},
     "output_type": "display_data"
    }
   ],
   "source": [
    "skill_sum = job_report[['sql','excel','python', 'tableau']].sum()\n",
    "\n",
    "\n",
    "skills = px.bar(\n",
    "    skill_sum, \n",
    "    title='Jobs by Skills',\n",
    "    y=skill_sum[:]\n",
    "#     needed to remove unnecessary date label\n",
    ").update_layout(yaxis_title='count', title_font_size=25, xaxis_title='', xaxis={'categoryorder': 'total descending'})\n",
    "\n",
    "skills.show()"
   ]
  },
  {
   "cell_type": "code",
   "execution_count": 504,
   "id": "016d7dec",
   "metadata": {},
   "outputs": [],
   "source": [
    "# getting the trends through pytrends api"
   ]
  },
  {
   "cell_type": "code",
   "execution_count": 563,
   "id": "c6d320a4",
   "metadata": {},
   "outputs": [],
   "source": [
    "from pytrends.request import TrendReq\n",
    "pytrends = TrendReq()\n",
    "\n",
    "kw_list=['data analytics', 'data science']\n",
    "pytrends.build_payload(kw_list, cat=0, timeframe='today 12-m')\n",
    "\n",
    "trend_data = pytrends.interest_over_time()\n",
    "trend_data = trend_data.reset_index()\n",
    "\n",
    "trend_chart = px.line(trend_data, x='date', y=kw_list, title=\"Data Analytics Interest by Date\").update_layout(xaxis_title='', title_font_size=25, yaxis_title='Interest')\n",
    "# trend_chart.show()\n"
   ]
  },
  {
   "cell_type": "code",
   "execution_count": 511,
   "id": "ed50fe2d",
   "metadata": {},
   "outputs": [
    {
     "data": {
      "application/json": {
       "cell": {
        "!": "OSMagics",
        "HTML": "Other",
        "SVG": "Other",
        "bash": "Other",
        "capture": "ExecutionMagics",
        "cmd": "Other",
        "debug": "ExecutionMagics",
        "file": "Other",
        "html": "DisplayMagics",
        "javascript": "DisplayMagics",
        "js": "DisplayMagics",
        "latex": "DisplayMagics",
        "markdown": "DisplayMagics",
        "perl": "Other",
        "prun": "ExecutionMagics",
        "pypy": "Other",
        "python": "Other",
        "python2": "Other",
        "python3": "Other",
        "ruby": "Other",
        "script": "ScriptMagics",
        "sh": "Other",
        "svg": "DisplayMagics",
        "sx": "OSMagics",
        "system": "OSMagics",
        "time": "ExecutionMagics",
        "timeit": "ExecutionMagics",
        "writefile": "OSMagics"
       },
       "line": {
        "alias": "OSMagics",
        "alias_magic": "BasicMagics",
        "autoawait": "AsyncMagics",
        "autocall": "AutoMagics",
        "automagic": "AutoMagics",
        "autosave": "KernelMagics",
        "bookmark": "OSMagics",
        "cd": "OSMagics",
        "clear": "KernelMagics",
        "cls": "KernelMagics",
        "colors": "BasicMagics",
        "conda": "PackagingMagics",
        "config": "ConfigMagics",
        "connect_info": "KernelMagics",
        "copy": "Other",
        "ddir": "Other",
        "debug": "ExecutionMagics",
        "dhist": "OSMagics",
        "dirs": "OSMagics",
        "doctest_mode": "BasicMagics",
        "echo": "Other",
        "ed": "Other",
        "edit": "KernelMagics",
        "env": "OSMagics",
        "gui": "BasicMagics",
        "hist": "Other",
        "history": "HistoryMagics",
        "killbgscripts": "ScriptMagics",
        "ldir": "Other",
        "less": "KernelMagics",
        "load": "CodeMagics",
        "load_ext": "ExtensionMagics",
        "loadpy": "CodeMagics",
        "logoff": "LoggingMagics",
        "logon": "LoggingMagics",
        "logstart": "LoggingMagics",
        "logstate": "LoggingMagics",
        "logstop": "LoggingMagics",
        "ls": "Other",
        "lsmagic": "BasicMagics",
        "macro": "ExecutionMagics",
        "magic": "BasicMagics",
        "matplotlib": "PylabMagics",
        "mkdir": "Other",
        "more": "KernelMagics",
        "notebook": "BasicMagics",
        "page": "BasicMagics",
        "pastebin": "CodeMagics",
        "pdb": "ExecutionMagics",
        "pdef": "NamespaceMagics",
        "pdoc": "NamespaceMagics",
        "pfile": "NamespaceMagics",
        "pinfo": "NamespaceMagics",
        "pinfo2": "NamespaceMagics",
        "pip": "PackagingMagics",
        "popd": "OSMagics",
        "pprint": "BasicMagics",
        "precision": "BasicMagics",
        "prun": "ExecutionMagics",
        "psearch": "NamespaceMagics",
        "psource": "NamespaceMagics",
        "pushd": "OSMagics",
        "pwd": "OSMagics",
        "pycat": "OSMagics",
        "pylab": "PylabMagics",
        "qtconsole": "KernelMagics",
        "quickref": "BasicMagics",
        "recall": "HistoryMagics",
        "rehashx": "OSMagics",
        "reload_ext": "ExtensionMagics",
        "ren": "Other",
        "rep": "Other",
        "rerun": "HistoryMagics",
        "reset": "NamespaceMagics",
        "reset_selective": "NamespaceMagics",
        "rmdir": "Other",
        "run": "ExecutionMagics",
        "save": "CodeMagics",
        "sc": "OSMagics",
        "set_env": "OSMagics",
        "store": "StoreMagics",
        "sx": "OSMagics",
        "system": "OSMagics",
        "tb": "ExecutionMagics",
        "time": "ExecutionMagics",
        "timeit": "ExecutionMagics",
        "unalias": "OSMagics",
        "unload_ext": "ExtensionMagics",
        "who": "NamespaceMagics",
        "who_ls": "NamespaceMagics",
        "whos": "NamespaceMagics",
        "xdel": "NamespaceMagics",
        "xmode": "BasicMagics"
       }
      },
      "text/plain": [
       "Available line magics:\n",
       "%alias  %alias_magic  %autoawait  %autocall  %automagic  %autosave  %bookmark  %cd  %clear  %cls  %colors  %conda  %config  %connect_info  %copy  %ddir  %debug  %dhist  %dirs  %doctest_mode  %echo  %ed  %edit  %env  %gui  %hist  %history  %killbgscripts  %ldir  %less  %load  %load_ext  %loadpy  %logoff  %logon  %logstart  %logstate  %logstop  %ls  %lsmagic  %macro  %magic  %matplotlib  %mkdir  %more  %notebook  %page  %pastebin  %pdb  %pdef  %pdoc  %pfile  %pinfo  %pinfo2  %pip  %popd  %pprint  %precision  %prun  %psearch  %psource  %pushd  %pwd  %pycat  %pylab  %qtconsole  %quickref  %recall  %rehashx  %reload_ext  %ren  %rep  %rerun  %reset  %reset_selective  %rmdir  %run  %save  %sc  %set_env  %store  %sx  %system  %tb  %time  %timeit  %unalias  %unload_ext  %who  %who_ls  %whos  %xdel  %xmode\n",
       "\n",
       "Available cell magics:\n",
       "%%!  %%HTML  %%SVG  %%bash  %%capture  %%cmd  %%debug  %%file  %%html  %%javascript  %%js  %%latex  %%markdown  %%perl  %%prun  %%pypy  %%python  %%python2  %%python3  %%ruby  %%script  %%sh  %%svg  %%sx  %%system  %%time  %%timeit  %%writefile\n",
       "\n",
       "Automagic is ON, % prefix IS NOT needed for line magics."
      ]
     },
     "execution_count": 511,
     "metadata": {},
     "output_type": "execute_result"
    }
   ],
   "source": [
    "%lsmagic"
   ]
  },
  {
   "cell_type": "code",
   "execution_count": 518,
   "id": "e2eee1af",
   "metadata": {},
   "outputs": [
    {
     "data": {
      "application/javascript": [
       "script type=\"text/javascript\" src=\"https://ssl.gstatic.com/trends_nrtr/3197_RC01/embed_loader.js\"></script> <script type=\"text/javascript\"> trends.embed.renderExploreWidget(\"TIMESERIES\", {\"comparisonItem\":[{\"keyword\":\"data analytics\",\"geo\":\"US\",\"time\":\"today 12-m\"},{\"keyword\":\"data science\",\"geo\":\"US\",\"time\":\"today 12-m\"}],\"category\":0,\"property\":\"\"}, {\"exploreQuery\":\"geo=US&q=data%20analytics,data%20science&date=today 12-m,today 12-m\",\"guestPath\":\"https://trends.google.com:443/trends/embed/\"});\n"
      ],
      "text/plain": [
       "<IPython.core.display.Javascript object>"
      ]
     },
     "metadata": {},
     "output_type": "display_data"
    }
   ],
   "source": [
    "<script type=\"text/javascript\" src=\"https://ssl.gstatic.com/trends_nrtr/3197_RC01/embed_loader.js\"></script> <script type=\"text/javascript\"> trends.embed.renderExploreWidget(\"TIMESERIES\", {\"comparisonItem\":[{\"keyword\":\"data analytics\",\"geo\":\"US\",\"time\":\"today 12-m\"},{\"keyword\":\"data science\",\"geo\":\"US\",\"time\":\"today 12-m\"}],\"category\":0,\"property\":\"\"}, {\"exploreQuery\":\"geo=US&q=data%20analytics,data%20science&date=today 12-m,today 12-m\",\"guestPath\":\"https://trends.google.com:443/trends/embed/\"}); </script>"
   ]
  },
  {
   "cell_type": "markdown",
   "id": "68c7dd2b",
   "metadata": {},
   "source": [
    "## using serpapi for trends"
   ]
  },
  {
   "cell_type": "code",
   "execution_count": 561,
   "id": "1e766270",
   "metadata": {},
   "outputs": [
    {
     "data": {
      "text/markdown": [
       "Uploading app and associated data - *please wait...*"
      ],
      "text/plain": [
       "<IPython.core.display.Markdown object>"
      ]
     },
     "metadata": {},
     "output_type": "display_data"
    },
    {
     "data": {
      "text/markdown": [
       "App successfully uploaded. View and share your app at <a href='https://cloud.datapane.com/apps/wAwmZo7/data-analytics-job-dashboard/' target='_blank'>here</a>."
      ],
      "text/plain": [
       "<IPython.core.display.Markdown object>"
      ]
     },
     "metadata": {},
     "output_type": "display_data"
    }
   ],
   "source": [
    "# sanboxed html cant run js\n",
    "# trend = \"\"\"\n",
    "# <html>\n",
    "# <script type=\"text/javascript\" \n",
    "#     src=\"https://ssl.gstatic.com/trends_nrtr/3197_RC01/embed_loader.js\">\n",
    "# </script> \n",
    "# <script type=\"text/javascript\"> \n",
    "# trends.embed.renderExploreWidget(\"TIMESERIES\", {\"comparisonItem\":[{\"keyword\":\"data analytics\",\"geo\":\"US\",\"time\":\"today 12-m\"},{\"keyword\":\"data science\",\"geo\":\"US\",\"time\":\"today 12-m\"}],\"category\":0,\"property\":\"\"}, {\"exploreQuery\":\"geo=US&q=data%20analytics,data%20science&date=today 12-m,today 12-m\",\"guestPath\":\"https://trends.google.com:443/trends/embed/\"}); \n",
    "# </script>\n",
    "# </html>\n",
    "# \"\"\"\n",
    "\n",
    "trend_html = \"\"\"\n",
    "<html>\n",
    "https://serpapi.com/searches/75a3640260b559a6/63a14f2c7690dc81f37363d9.html\n",
    "</html>\n",
    "\"\"\"\n",
    "\n",
    "app = dp.App(\n",
    "        dp.Group(\n",
    "            dp.BigNumber(\n",
    "                heading='Total Job Count:',\n",
    "                value=total_job_count\n",
    "            ),\n",
    "            dp.BigNumber(\n",
    "                heading=\"Jobs added today\",\n",
    "                value=count_of_jobs_today,\n",
    "            ),         \n",
    "            columns=2,\n",
    "        ),\n",
    "        dp.Group(\n",
    "            dp.Plot(total_jobs), \n",
    "#             dp.Plot(trend_results),\n",
    "            dp.Plot(trend_chart),\n",
    "#             dp.Plot(avg_salary),\n",
    "        columns=2,\n",
    "        ),\n",
    "        dp.Group(\n",
    "            dp.Plot(skills),\n",
    "#             temporary until have code for google trends\n",
    "#             dp.DataTable(job_report),\n",
    "            dp.Plot(avg_salary),\n",
    "        columns=2,  \n",
    "        ),\n",
    "        dp.DataTable(job_report)\n",
    ")\n",
    "app.upload(name=\"Data Analytics Job Dashboard\")"
   ]
  }
 ],
 "metadata": {
  "kernelspec": {
   "display_name": "Python 3 (ipykernel)",
   "language": "python",
   "name": "python3"
  },
  "language_info": {
   "codemirror_mode": {
    "name": "ipython",
    "version": 3
   },
   "file_extension": ".py",
   "mimetype": "text/x-python",
   "name": "python",
   "nbconvert_exporter": "python",
   "pygments_lexer": "ipython3",
   "version": "3.9.15"
  }
 },
 "nbformat": 4,
 "nbformat_minor": 5
}
